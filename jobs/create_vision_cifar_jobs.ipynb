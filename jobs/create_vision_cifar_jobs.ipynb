{
 "cells": [
  {
   "cell_type": "code",
   "execution_count": 1,
   "metadata": {},
   "outputs": [],
   "source": [
    "import os\n",
    "import itertools"
   ]
  },
  {
   "cell_type": "code",
   "execution_count": 2,
   "metadata": {},
   "outputs": [],
   "source": [
    "def mkdir(dir):\n",
    "    if not os.path.exists(dir):\n",
    "        os.mkdir(dir)"
   ]
  },
  {
   "cell_type": "code",
   "execution_count": 3,
   "metadata": {},
   "outputs": [],
   "source": [
    "# global job parameters\n",
    "\n",
    "job_directory = f\"vision_cifar10\"\n",
    "# job_directory = f\"vision_imagenet\"\n",
    "out_dir = f'{job_directory}/.out'\n",
    "time_str = '00-08:00:00'\n",
    "partition = 'gpu'\n",
    "ntasks = 1\n",
    "nodes = 1\n",
    "cpu_per_gpu = 8\n",
    "mem_per_cpu = 16\n",
    "n_gpus = 1\n",
    "# gpus_constraints = '\"a100|rtx3090|v100|rtx2080ti\"' # all gpus are pretty good now\n",
    "gpus_constraints = None # '\"h100|a100\"' # all gpus are pretty good now\n",
    "project_dir = \"/home/ma2393/project/abstract_transformer/experiments/vision_cifar10\"\n",
    "\n",
    "mkdir(job_directory)\n",
    "mkdir(out_dir)"
   ]
  },
  {
   "cell_type": "code",
   "execution_count": 4,
   "metadata": {},
   "outputs": [],
   "source": [
    "wandb_project = 'dat-cifar10'\n",
    "jobs_params = [\n",
    "    dict(dataset='cifar10', autoaugment=True),\n",
    "    dict(dataset='cifar10', autoaugment=True, sa=6, ra=6, n_relations=6, ra_type='relational_attention', symbol_type='position_relative', symmetric_rels=1),\n",
    "    dict(dataset='cifar10', autoaugment=True, sa=6, ra=6, n_relations=6, ra_type='relational_attention', symbol_type='positional_symbols', symmetric_rels=1),\n",
    "    dict(dataset='cifar10', autoaugment=True, sa=6, ra=6, n_relations=6, ra_type='relational_attention', symbol_type='symbolic_attention', symmetric_rels=1),\n",
    "    dict(dataset='cifar10', autoaugment=True, sa=6, ra=6, n_relations=32, ra_type='relational_attention', symbol_type='symbolic_attention', symmetric_rels=1),\n",
    "\n",
    "    dict(dataset='cifar100', autoaugment=True),\n",
    "    dict(dataset='cifar100', autoaugment=True, sa=6, ra=6, n_relations=6, ra_type='relational_attention', symbol_type='position_relative', symmetric_rels=1),\n",
    "    dict(dataset='cifar100', autoaugment=True, sa=6, ra=6, n_relations=16, ra_type='relational_attention', symbol_type='position_relative', symmetric_rels=1),\n",
    "    dict(dataset='cifar100', autoaugment=True, sa=6, ra=6, n_relations=6, ra_type='relational_attention', symbol_type='positional_symbols', symmetric_rels=1),\n",
    "    dict(dataset='cifar100', autoaugment=True, sa=6, ra=6, n_relations=6, ra_type='relational_attention', symbol_type='symbolic_attention', symmetric_rels=1),\n",
    "    dict(dataset='cifar100', autoaugment=True, sa=6, ra=6, n_relations=32, ra_type='relational_attention', symbol_type='symbolic_attention', symmetric_rels=1),\n",
    "\n",
    "]"
   ]
  },
  {
   "cell_type": "code",
   "execution_count": 5,
   "metadata": {},
   "outputs": [
    {
     "data": {
      "text/plain": [
       "[{'dataset': 'cifar10', 'autoaugment': True},\n",
       " {'dataset': 'cifar10',\n",
       "  'autoaugment': True,\n",
       "  'sa': 6,\n",
       "  'ra': 6,\n",
       "  'n_relations': 6,\n",
       "  'ra_type': 'relational_attention',\n",
       "  'symbol_type': 'position_relative',\n",
       "  'symmetric_rels': 1},\n",
       " {'dataset': 'cifar10',\n",
       "  'autoaugment': True,\n",
       "  'sa': 6,\n",
       "  'ra': 6,\n",
       "  'n_relations': 6,\n",
       "  'ra_type': 'relational_attention',\n",
       "  'symbol_type': 'positional_symbols',\n",
       "  'symmetric_rels': 1},\n",
       " {'dataset': 'cifar10',\n",
       "  'autoaugment': True,\n",
       "  'sa': 6,\n",
       "  'ra': 6,\n",
       "  'n_relations': 6,\n",
       "  'ra_type': 'relational_attention',\n",
       "  'symbol_type': 'symbolic_attention',\n",
       "  'symmetric_rels': 1},\n",
       " {'dataset': 'cifar10',\n",
       "  'autoaugment': True,\n",
       "  'sa': 6,\n",
       "  'ra': 6,\n",
       "  'n_relations': 32,\n",
       "  'ra_type': 'relational_attention',\n",
       "  'symbol_type': 'symbolic_attention',\n",
       "  'symmetric_rels': 1},\n",
       " {'dataset': 'cifar100', 'autoaugment': True},\n",
       " {'dataset': 'cifar100',\n",
       "  'autoaugment': True,\n",
       "  'sa': 6,\n",
       "  'ra': 6,\n",
       "  'n_relations': 6,\n",
       "  'ra_type': 'relational_attention',\n",
       "  'symbol_type': 'position_relative',\n",
       "  'symmetric_rels': 1},\n",
       " {'dataset': 'cifar100',\n",
       "  'autoaugment': True,\n",
       "  'sa': 6,\n",
       "  'ra': 6,\n",
       "  'n_relations': 16,\n",
       "  'ra_type': 'relational_attention',\n",
       "  'symbol_type': 'position_relative',\n",
       "  'symmetric_rels': 1},\n",
       " {'dataset': 'cifar100',\n",
       "  'autoaugment': True,\n",
       "  'sa': 6,\n",
       "  'ra': 6,\n",
       "  'n_relations': 6,\n",
       "  'ra_type': 'relational_attention',\n",
       "  'symbol_type': 'positional_symbols',\n",
       "  'symmetric_rels': 1},\n",
       " {'dataset': 'cifar100',\n",
       "  'autoaugment': True,\n",
       "  'sa': 6,\n",
       "  'ra': 6,\n",
       "  'n_relations': 6,\n",
       "  'ra_type': 'relational_attention',\n",
       "  'symbol_type': 'symbolic_attention',\n",
       "  'symmetric_rels': 1},\n",
       " {'dataset': 'cifar100',\n",
       "  'autoaugment': True,\n",
       "  'sa': 6,\n",
       "  'ra': 6,\n",
       "  'n_relations': 32,\n",
       "  'ra_type': 'relational_attention',\n",
       "  'symbol_type': 'symbolic_attention',\n",
       "  'symmetric_rels': 1}]"
      ]
     },
     "execution_count": 5,
     "metadata": {},
     "output_type": "execute_result"
    }
   ],
   "source": [
    "jobs_params"
   ]
  },
  {
   "cell_type": "code",
   "execution_count": 6,
   "metadata": {},
   "outputs": [
    {
     "data": {
      "text/plain": [
       "11"
      ]
     },
     "execution_count": 6,
     "metadata": {},
     "output_type": "execute_result"
    }
   ],
   "source": [
    "len(jobs_params)"
   ]
  },
  {
   "cell_type": "code",
   "execution_count": 7,
   "metadata": {},
   "outputs": [],
   "source": [
    "# global config parameters\n",
    "n_epochs = 100\n",
    "# max_steps = -1\n",
    "# log_to_wandb = 1\n",
    "# patch_size = 16"
   ]
  },
  {
   "cell_type": "code",
   "execution_count": 8,
   "metadata": {},
   "outputs": [],
   "source": [
    "# create jobs\n",
    "created_jobs = []\n",
    "for params in jobs_params:\n",
    "\n",
    "    # job_name = f\"vision-IMAGENET-d{params['d_model']}-sa{params['sa']}-ra{params['ra']}\"\n",
    "    # if \"n_relations\" in params:\n",
    "    #     job_name += f\"-nr{params['n_relations']}-L{params['n_layers']}\"\n",
    "    # job_name += f\"-ra_type_{params['ra_type']}\"\n",
    "    # if \"symbol_type\" in params:\n",
    "    #     job_name += f\"-symbol_type_{params['symbol_type']}\"\n",
    "    # if 'activation' in params:\n",
    "    #     job_name += f\"-act_{params['activation']}\"\n",
    "    job_name = f\"vision-{params['dataset']}-autoaugment\"\n",
    "    if \"sa\" in params:\n",
    "        job_name += f\"-sa{params['sa']}\"\n",
    "    if \"ra\" in params:\n",
    "        job_name += f\"-ra{params['ra']}\"\n",
    "    if \"n_relations\" in params:\n",
    "        job_name += f\"-nr{params['n_relations']}\"\n",
    "    if \"symbol_type\" in params:\n",
    "        job_name += f\"-{params['symbol_type']}\"\n",
    "\n",
    "    job_file = os.path.join(job_directory, f\"{job_name}.job\")\n",
    "\n",
    "    with open(job_file, 'w') as fh:\n",
    "        fh.writelines(f\"#!/bin/bash\\n\")\n",
    "        fh.writelines(f\"#SBATCH --partition={partition}\\n\")\n",
    "        fh.writelines(f\"#SBATCH --job-name={job_name}\\n\")\n",
    "        fh.writelines(f\"#SBATCH --output={out_dir}/%j-{job_name}.out\\n\")\n",
    "        fh.writelines(f\"#SBATCH --ntasks={ntasks} --nodes={nodes}\\n\")\n",
    "        fh.writelines(f\"#SBATCH --cpus-per-gpu={cpu_per_gpu}\\n\")\n",
    "        fh.writelines(f\"#SBATCH --mem-per-cpu={mem_per_cpu}G\\n\")\n",
    "        fh.writelines(f\"#SBATCH --time={time_str}\\n\")\n",
    "        fh.writelines(f\"#SBATCH --mail-type=ALL\\n\")\n",
    "        fh.writelines(f\"#SBATCH --gpus={n_gpus}\\n\")\n",
    "        # fh.writelines(f\"#SBATCH --reservation=h100\\n\") # NOTE: using h100 reservation for noow\n",
    "        # fh.writelines(f\"#SBATCH -C {gpus_constraints}\\n\")# --gpus={n_gpus}\\n\")\n",
    "\n",
    "        fh.writelines('\\n')\n",
    "        fh.writelines('module load StdEnv\\n')\n",
    "        fh.writelines('export SLURM_EXPORT_ENV=ALL\\n')\n",
    "        fh.writelines('\\n')\n",
    "\n",
    "        # fh.writelines(f\"module restore python_env\\n\") # load modules i need\n",
    "        fh.writelines(f\"module load miniconda\\n\") # load modules i need\n",
    "        # fh.writelines(f\"conda init\\n\")\n",
    "        fh.writelines(f\"conda activate abstract_transformer\\n\") # activate conda environment\n",
    "        fh.writelines(f\"conda info --envs\\n\") # activate conda environment\n",
    "\n",
    "        fh.writelines('\\n')\n",
    "        fh.writelines(f\"nvidia-smi -L\\n\") # print gpu information\n",
    "        fh.writelines('\\n')\n",
    "\n",
    "        fh.writelines(f\"cd {project_dir}\\n\") # navigate to project directory\n",
    "        # run python script\n",
    "        fh.writelines(f\"python main.py \")\n",
    "        fh.writelines(f\"--dataset {params['dataset']} \")\n",
    "        if params.get('autoaugment', False):\n",
    "            fh.writelines(f\"--autoaugment \")\n",
    "        if \"sa\" in params:\n",
    "            fh.writelines(f\"--sa {params['sa']} \")\n",
    "        if \"ra\" in params:\n",
    "            fh.writelines(f\"--ra {params['ra']} \")\n",
    "        if \"n_relations\" in params:\n",
    "            fh.writelines(f\"--n_relations {params['n_relations']} \")\n",
    "        if \"ra_type\" in params:\n",
    "            fh.writelines(f\"--ra_type {params['ra_type']} \")\n",
    "        if \"symbol_type\" in params:\n",
    "            fh.writelines(f\"--symbol_type {params['symbol_type']} \")\n",
    "        if \"symmetric_rels\" in params:\n",
    "            fh.writelines(f\"--symmetric_rels {params['symmetric_rels']} \")\n",
    "        if \"n_symbols\" in params:\n",
    "            fh.writelines(f\"--n_symbols {params['n_symbols']} \")\n",
    "        fh.writelines(f\"--max-epochs {n_epochs} \")\n",
    "        fh.writelines(f\"--wandb_project {wandb_project} \")\n",
    "\n",
    "    created_jobs.append(job_file)"
   ]
  },
  {
   "cell_type": "code",
   "execution_count": 9,
   "metadata": {},
   "outputs": [
    {
     "data": {
      "text/plain": [
       "['vision_cifar10/vision-cifar10-autoaugment.job',\n",
       " 'vision_cifar10/vision-cifar10-autoaugment-sa6-ra6-nr6-position_relative.job',\n",
       " 'vision_cifar10/vision-cifar10-autoaugment-sa6-ra6-nr6-positional_symbols.job',\n",
       " 'vision_cifar10/vision-cifar10-autoaugment-sa6-ra6-nr6-symbolic_attention.job',\n",
       " 'vision_cifar10/vision-cifar10-autoaugment-sa6-ra6-nr32-symbolic_attention.job',\n",
       " 'vision_cifar10/vision-cifar100-autoaugment.job',\n",
       " 'vision_cifar10/vision-cifar100-autoaugment-sa6-ra6-nr6-position_relative.job',\n",
       " 'vision_cifar10/vision-cifar100-autoaugment-sa6-ra6-nr16-position_relative.job',\n",
       " 'vision_cifar10/vision-cifar100-autoaugment-sa6-ra6-nr6-positional_symbols.job',\n",
       " 'vision_cifar10/vision-cifar100-autoaugment-sa6-ra6-nr6-symbolic_attention.job',\n",
       " 'vision_cifar10/vision-cifar100-autoaugment-sa6-ra6-nr32-symbolic_attention.job']"
      ]
     },
     "execution_count": 9,
     "metadata": {},
     "output_type": "execute_result"
    }
   ],
   "source": [
    "created_jobs"
   ]
  },
  {
   "cell_type": "code",
   "execution_count": 10,
   "metadata": {},
   "outputs": [
    {
     "name": "stdout",
     "output_type": "stream",
     "text": [
      "Submitted batch job 32123\n",
      "Submitted batch job 32124\n",
      "Submitted batch job 32125\n",
      "Submitted batch job 32126\n",
      "Submitted batch job 32127\n",
      "Submitted batch job 32128\n",
      "Submitted batch job 32129\n",
      "Submitted batch job 32130\n",
      "Submitted batch job 32131\n",
      "Submitted batch job 32132\n",
      "Submitted batch job 32133\n"
     ]
    }
   ],
   "source": [
    "confirm = input(\"CONTINUE TO RUN ALL JOBS? (enter 'Y' or 'y')\")\n",
    "if confirm in (\"Y\", \"y\"):\n",
    "    for job in created_jobs:\n",
    "        os.system(f'sbatch {job}')\n",
    "else:\n",
    "    print(\"did not run jobs since you did not confirm.\")"
   ]
  }
 ],
 "metadata": {
  "kernelspec": {
   "display_name": "Python 3.11.7 ('abstract_transformer')",
   "language": "python",
   "name": "python3"
  },
  "language_info": {
   "codemirror_mode": {
    "name": "ipython",
    "version": 3
   },
   "file_extension": ".py",
   "mimetype": "text/x-python",
   "name": "python",
   "nbconvert_exporter": "python",
   "pygments_lexer": "ipython3",
   "version": "3.11.7"
  },
  "orig_nbformat": 4,
  "vscode": {
   "interpreter": {
    "hash": "8af8745886d4de51e837abafc38af8fb9452f5565518612da5aaf75440d8b7fa"
   }
  }
 },
 "nbformat": 4,
 "nbformat_minor": 2
}
