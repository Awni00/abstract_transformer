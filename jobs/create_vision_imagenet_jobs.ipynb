{
 "cells": [
  {
   "cell_type": "code",
   "execution_count": 1,
   "metadata": {},
   "outputs": [],
   "source": [
    "import os\n",
    "import itertools"
   ]
  },
  {
   "cell_type": "code",
   "execution_count": 2,
   "metadata": {},
   "outputs": [],
   "source": [
    "def mkdir(dir):\n",
    "    if not os.path.exists(dir):\n",
    "        os.mkdir(dir)"
   ]
  },
  {
   "cell_type": "code",
   "execution_count": 3,
   "metadata": {},
   "outputs": [],
   "source": [
    "# global job parameters\n",
    "\n",
    "job_directory = f\"vision_imagenet_autoaugment\"\n",
    "out_dir = f'{job_directory}/.out'\n",
    "time_str = '00-48:00:00'\n",
    "partition = 'gpu'\n",
    "ntasks = 1\n",
    "nodes = 1\n",
    "cpu_per_gpu = 16\n",
    "mem_per_cpu = 16\n",
    "n_gpus = 1\n",
    "# gpus_constraints = '\"a100|rtx3090|v100|rtx2080ti\"' # all gpus are pretty good now\n",
    "gpus_constraints = '\"h100|a100\"' # all gpus are pretty good now\n",
    "project_dir = \"/home/ma2393/project/abstract_transformer/experiments/vision_imagenet\"\n",
    "\n",
    "mkdir(job_directory)\n",
    "mkdir(out_dir)"
   ]
  },
  {
   "cell_type": "code",
   "execution_count": 4,
   "metadata": {},
   "outputs": [],
   "source": [
    "wandb_project = 'dat-imagenet'\n",
    "jobs_params = [\n",
    "    # 20M scale (d = 384, L = 12)\n",
    "    # dict(autoaugment=True),\n",
    "\n",
    "    # dict(autoaugment=True, sa=6, ra=6, n_relations=6, ra_type='relational_attention', symbol_type='position_relative', symmetric_rels=1),\n",
    "    # dict(autoaugment=True, sa=6, ra=6, n_relations=12, ra_type='relational_attention', symbol_type='position_relative', symmetric_rels=1),\n",
    "    # dict(autoaugment=True, sa=6, ra=6, n_relations=24, ra_type='relational_attention', symbol_type='position_relative', symmetric_rels=1),\n",
    "    # # dict(autoaugment=True, sa=6, ra=6, n_relations=6, ra_type='relational_attention', symbol_type='position_relative', symmetric_rels=1, n_kv_heads=3),\n",
    "    # # dict(autoaugment=True, sa=6, ra=6, n_relations=12, ra_type='relational_attention', symbol_type='position_relative', symmetric_rels=1, n_kv_heads=3),\n",
    "    # # dict(autoaugment=True, sa=6, ra=6, n_relations=24, ra_type='relational_attention', symbol_type='position_relative', symmetric_rels=1, n_kv_heads=3),\n",
    "\n",
    "    # dict(autoaugment=True, sa=6, ra=6, n_relations=6, ra_type='relational_attention', symbol_type='position_relative', symmetric_rels=0, n_kv_heads=3),\n",
    "    # dict(autoaugment=True, sa=6, ra=6, n_relations=12, ra_type='relational_attention', symbol_type='position_relative', symmetric_rels=0, n_kv_heads=3),\n",
    "    # dict(autoaugment=True, sa=6, ra=6, n_relations=24, ra_type='relational_attention', symbol_type='position_relative', symmetric_rels=0, n_kv_heads=3),\n",
    "\n",
    "    # 86M scale (d = 768, L = 12)\n",
    "    dict(autoaugment=True, d_model=768, n_layers=12),\n",
    "\n",
    "    dict(autoaugment=True, d_model=768, n_layers=12, sa=6, ra=6, n_relations=6, ra_type='relational_attention', symbol_type='position_relative', symmetric_rels=1),\n",
    "    # dict(autoaugment=True, d_model=768, n_layers=12, sa=6, ra=6, n_relations=12, ra_type='relational_attention', symbol_type='position_relative', symmetric_rels=1),\n",
    "    dict(autoaugment=True, d_model=768, n_layers=12, sa=6, ra=6, n_relations=24, ra_type='relational_attention', symbol_type='position_relative', symmetric_rels=1),\n",
    "\n",
    "    dict(autoaugment=True, d_model=768, n_layers=12, sa=6, ra=6, n_relations=6, ra_type='relational_attention', symbol_type='position_relative', symmetric_rels=0, n_kv_heads=3),\n",
    "    # dict(autoaugment=True, d_model=768, n_layers=12, sa=6, ra=6, n_relations=12, ra_type='relational_attention', symbol_type='position_relative', symmetric_rels=0, n_kv_heads=3),\n",
    "    dict(autoaugment=True, d_model=768, n_layers=12, sa=6, ra=6, n_relations=24, ra_type='relational_attention', symbol_type='position_relative', symmetric_rels=0, n_kv_heads=3),\n",
    "]\n",
    "\n",
    "for j in jobs_params:\n",
    "    j['pool'] = 'mean'"
   ]
  },
  {
   "cell_type": "code",
   "execution_count": 5,
   "metadata": {},
   "outputs": [
    {
     "data": {
      "text/plain": [
       "[{'autoaugment': True, 'd_model': 768, 'n_layers': 12, 'pool': 'mean'},\n",
       " {'autoaugment': True,\n",
       "  'd_model': 768,\n",
       "  'n_layers': 12,\n",
       "  'sa': 6,\n",
       "  'ra': 6,\n",
       "  'n_relations': 6,\n",
       "  'ra_type': 'relational_attention',\n",
       "  'symbol_type': 'position_relative',\n",
       "  'symmetric_rels': 1,\n",
       "  'pool': 'mean'},\n",
       " {'autoaugment': True,\n",
       "  'd_model': 768,\n",
       "  'n_layers': 12,\n",
       "  'sa': 6,\n",
       "  'ra': 6,\n",
       "  'n_relations': 24,\n",
       "  'ra_type': 'relational_attention',\n",
       "  'symbol_type': 'position_relative',\n",
       "  'symmetric_rels': 1,\n",
       "  'pool': 'mean'},\n",
       " {'autoaugment': True,\n",
       "  'd_model': 768,\n",
       "  'n_layers': 12,\n",
       "  'sa': 6,\n",
       "  'ra': 6,\n",
       "  'n_relations': 6,\n",
       "  'ra_type': 'relational_attention',\n",
       "  'symbol_type': 'position_relative',\n",
       "  'symmetric_rels': 0,\n",
       "  'n_kv_heads': 3,\n",
       "  'pool': 'mean'},\n",
       " {'autoaugment': True,\n",
       "  'd_model': 768,\n",
       "  'n_layers': 12,\n",
       "  'sa': 6,\n",
       "  'ra': 6,\n",
       "  'n_relations': 24,\n",
       "  'ra_type': 'relational_attention',\n",
       "  'symbol_type': 'position_relative',\n",
       "  'symmetric_rels': 0,\n",
       "  'n_kv_heads': 3,\n",
       "  'pool': 'mean'}]"
      ]
     },
     "execution_count": 5,
     "metadata": {},
     "output_type": "execute_result"
    }
   ],
   "source": [
    "jobs_params"
   ]
  },
  {
   "cell_type": "code",
   "execution_count": 6,
   "metadata": {},
   "outputs": [
    {
     "data": {
      "text/plain": [
       "5"
      ]
     },
     "execution_count": 6,
     "metadata": {},
     "output_type": "execute_result"
    }
   ],
   "source": [
    "len(jobs_params)"
   ]
  },
  {
   "cell_type": "code",
   "execution_count": 7,
   "metadata": {},
   "outputs": [],
   "source": [
    "# global config parameters\n",
    "n_epochs = 100\n",
    "patch_size = 16\n",
    "compile = True\n",
    "dataset = 'imagenet'\n",
    "micro_batch_size = 256\n",
    "batch_size = 1024"
   ]
  },
  {
   "cell_type": "code",
   "execution_count": 8,
   "metadata": {},
   "outputs": [],
   "source": [
    "# create jobs\n",
    "created_jobs = []\n",
    "for params in jobs_params:\n",
    "\n",
    "    # job_name = f\"vision-IMAGENET-d{params['d_model']}-sa{params['sa']}-ra{params['ra']}\"\n",
    "    # if \"n_relations\" in params:\n",
    "    #     job_name += f\"-nr{params['n_relations']}-L{params['n_layers']}\"\n",
    "    # job_name += f\"-ra_type_{params['ra_type']}\"\n",
    "    # if \"symbol_type\" in params:\n",
    "    #     job_name += f\"-symbol_type_{params['symbol_type']}\"\n",
    "    # if 'activation' in params:\n",
    "    #     job_name += f\"-act_{params['activation']}\"\n",
    "    job_name = f\"vision-{dataset}-\"\n",
    "    if params.get('autoaugment', False):\n",
    "        job_name += \"autoaugment\"\n",
    "    if \"sa\" in params:\n",
    "        job_name += f\"-sa{params['sa']}\"\n",
    "    if \"ra\" in params:\n",
    "        job_name += f\"-ra{params['ra']}\"\n",
    "    if \"n_relations\" in params:\n",
    "        job_name += f\"-nr{params['n_relations']}\"\n",
    "    if 'symmetric_rels' in params:\n",
    "        job_name += f\"-symrel{params['symmetric_rels']}\"\n",
    "    if \"symbol_type\" in params:\n",
    "        job_name += f\"-{params['symbol_type']}\"\n",
    "    if \"n_kv_heads\" in params:\n",
    "        job_name += f\"-n_kv_heads{params['n_kv_heads']}\"\n",
    "\n",
    "    job_file = os.path.join(job_directory, f\"{job_name}.job\")\n",
    "\n",
    "    with open(job_file, 'w') as fh:\n",
    "        fh.writelines(f\"#!/bin/bash\\n\")\n",
    "        fh.writelines(f\"#SBATCH --partition={partition}\\n\")\n",
    "        fh.writelines(f\"#SBATCH --job-name={job_name}\\n\")\n",
    "        fh.writelines(f\"#SBATCH --output={out_dir}/%j-{job_name}.out\\n\")\n",
    "        fh.writelines(f\"#SBATCH --ntasks={ntasks} --nodes={nodes}\\n\")\n",
    "        fh.writelines(f\"#SBATCH --cpus-per-gpu={cpu_per_gpu}\\n\")\n",
    "        fh.writelines(f\"#SBATCH --mem-per-cpu={mem_per_cpu}G\\n\")\n",
    "        fh.writelines(f\"#SBATCH --time={time_str}\\n\")\n",
    "        fh.writelines(f\"#SBATCH --mail-type=ALL\\n\")\n",
    "        fh.writelines(f\"#SBATCH --gpus={n_gpus}\\n\")\n",
    "        # fh.writelines(f\"#SBATCH --reservation=h100\\n\") # NOTE: using h100 reservation for noow\n",
    "        fh.writelines(f\"#SBATCH -C {gpus_constraints}\\n\")# --gpus={n_gpus}\\n\")\n",
    "\n",
    "        fh.writelines('\\n')\n",
    "        fh.writelines('module load StdEnv\\n')\n",
    "        fh.writelines('export SLURM_EXPORT_ENV=ALL\\n')\n",
    "        fh.writelines('\\n')\n",
    "\n",
    "        # fh.writelines(f\"module restore python_env\\n\") # load modules i need\n",
    "        fh.writelines(f\"module load miniconda\\n\") # load modules i need\n",
    "        # fh.writelines(f\"conda init\\n\")\n",
    "        fh.writelines(f\"conda activate abstract_transformer\\n\") # activate conda environment\n",
    "        fh.writelines(f\"conda info --envs\\n\") # activate conda environment\n",
    "\n",
    "        fh.writelines('\\n')\n",
    "        fh.writelines(f\"nvidia-smi -L\\n\") # print gpu information\n",
    "        fh.writelines('\\n')\n",
    "\n",
    "        fh.writelines(f\"cd {project_dir}\\n\") # navigate to project directory\n",
    "        # run python script\n",
    "        fh.writelines(f\"python train.py \")\n",
    "        # fh.writelines(f\"--dataset {params['dataset']} \")\n",
    "        if params.get('autoaugment', False):\n",
    "            fh.writelines(f\"--autoaugment \")\n",
    "        if \"sa\" in params:\n",
    "            fh.writelines(f\"--sa {params['sa']} \")\n",
    "        if \"ra\" in params:\n",
    "            fh.writelines(f\"--ra {params['ra']} \")\n",
    "        if \"d_model\" in params:\n",
    "            fh.writelines(f\"--d_model {params['d_model']} \")\n",
    "        if \"n_layers\" in params:\n",
    "            fh.writelines(f\"--n_layers {params['n_layers']} \")\n",
    "        if \"n_relations\" in params:\n",
    "            fh.writelines(f\"--n_relations {params['n_relations']} \")\n",
    "        if \"ra_type\" in params:\n",
    "            fh.writelines(f\"--ra_type {params['ra_type']} \")\n",
    "        if \"symbol_type\" in params:\n",
    "            fh.writelines(f\"--symbol_type {params['symbol_type']} \")\n",
    "        if \"symmetric_rels\" in params:\n",
    "            fh.writelines(f\"--symmetric_rels {params['symmetric_rels']} \")\n",
    "        if \"n_symbols\" in params:\n",
    "            fh.writelines(f\"--n_symbols {params['n_symbols']} \")\n",
    "        if \"n_kv_heads\" in params:\n",
    "            fh.writelines(f\"--n_kv_heads {params['n_kv_heads']} \")\n",
    "        if 'pool' in params:\n",
    "            fh.writelines(f\"--pool {params['pool']} \")\n",
    "        fh.writelines(f\"--patch_size {patch_size} \")\n",
    "        fh.writelines(f\"--batch-size {batch_size} \")\n",
    "        fh.writelines(f\"--micro-batch-size {micro_batch_size} \")\n",
    "        if compile:\n",
    "            fh.writelines(f\"--compile \")\n",
    "\n",
    "        fh.writelines(f\"--max-epochs {n_epochs} \")\n",
    "        fh.writelines(f\"--wandb_project {wandb_project} \")\n",
    "\n",
    "    created_jobs.append(job_file)"
   ]
  },
  {
   "cell_type": "code",
   "execution_count": 9,
   "metadata": {},
   "outputs": [
    {
     "data": {
      "text/plain": [
       "['vision_imagenet_autoaugment/vision-imagenet-autoaugment.job',\n",
       " 'vision_imagenet_autoaugment/vision-imagenet-autoaugment-sa6-ra6-nr6-symrel1-position_relative.job',\n",
       " 'vision_imagenet_autoaugment/vision-imagenet-autoaugment-sa6-ra6-nr24-symrel1-position_relative.job',\n",
       " 'vision_imagenet_autoaugment/vision-imagenet-autoaugment-sa6-ra6-nr6-symrel0-position_relative-n_kv_heads3.job',\n",
       " 'vision_imagenet_autoaugment/vision-imagenet-autoaugment-sa6-ra6-nr24-symrel0-position_relative-n_kv_heads3.job']"
      ]
     },
     "execution_count": 9,
     "metadata": {},
     "output_type": "execute_result"
    }
   ],
   "source": [
    "created_jobs"
   ]
  },
  {
   "cell_type": "code",
   "execution_count": 10,
   "metadata": {},
   "outputs": [
    {
     "name": "stdout",
     "output_type": "stream",
     "text": [
      "Submitted batch job 33629\n",
      "Submitted batch job 33630\n",
      "Submitted batch job 33631\n",
      "Submitted batch job 33632\n",
      "Submitted batch job 33633\n"
     ]
    }
   ],
   "source": [
    "confirm = input(\"CONTINUE TO RUN ALL JOBS? (enter 'Y' or 'y')\")\n",
    "if confirm in (\"Y\", \"y\"):\n",
    "    for job in created_jobs:\n",
    "        os.system(f'sbatch {job}')\n",
    "else:\n",
    "    print(\"did not run jobs since you did not confirm.\")"
   ]
  }
 ],
 "metadata": {
  "kernelspec": {
   "display_name": "Python 3.11.7 ('abstract_transformer')",
   "language": "python",
   "name": "python3"
  },
  "language_info": {
   "codemirror_mode": {
    "name": "ipython",
    "version": 3
   },
   "file_extension": ".py",
   "mimetype": "text/x-python",
   "name": "python",
   "nbconvert_exporter": "python",
   "pygments_lexer": "ipython3",
   "version": "3.11.7"
  },
  "orig_nbformat": 4,
  "vscode": {
   "interpreter": {
    "hash": "8af8745886d4de51e837abafc38af8fb9452f5565518612da5aaf75440d8b7fa"
   }
  }
 },
 "nbformat": 4,
 "nbformat_minor": 2
}
