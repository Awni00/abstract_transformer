{
 "cells": [
  {
   "cell_type": "code",
   "execution_count": 1,
   "metadata": {},
   "outputs": [],
   "source": [
    "import os\n",
    "import itertools"
   ]
  },
  {
   "cell_type": "code",
   "execution_count": 2,
   "metadata": {},
   "outputs": [],
   "source": [
    "def mkdir(dir):\n",
    "    if not os.path.exists(dir):\n",
    "        os.mkdir(dir)"
   ]
  },
  {
   "cell_type": "code",
   "execution_count": 3,
   "metadata": {},
   "outputs": [],
   "source": [
    "# global job parameters\n",
    "\n",
    "# job_directory = f\"vision_cifar10\"\n",
    "job_directory = f\"vision_imagenet\"\n",
    "out_dir = f'{job_directory}/.out'\n",
    "time_str = '02-00:00:00'\n",
    "partition = 'gpu'\n",
    "ntasks = 1\n",
    "nodes = 1\n",
    "cpu_per_task = 8\n",
    "mem_per_cpu = 2\n",
    "n_gpus = 1\n",
    "# gpus_constraints = '\"a100|rtx3090|v100|rtx2080ti\"' # all gpus are pretty good now\n",
    "project_dir = \"/home/ma2393/project/abstract_transformer/experiments/vision\"\n",
    "\n",
    "mkdir(job_directory)\n",
    "mkdir(out_dir)"
   ]
  },
  {
   "cell_type": "code",
   "execution_count": 4,
   "metadata": {},
   "outputs": [],
   "source": [
    "# # model params\n",
    "# symbol_types = ['pos_relative', 'sym_attn', 'pos_sym_retrieval']\n",
    "# rca_type = [0, 1]\n",
    "patch_size = 16\n",
    "\n",
    "# model_params = [\n",
    "#     # dict(d_model=256, n_layers=2, sa=8, rca=0),\n",
    "#     # dict(d_model=256, n_layers=2, sa=6, rca=2),\n",
    "#     # dict(d_model=256, n_layers=2, sa=4, rca=4),\n",
    "#     dict(d_model=256, n_layers=4, sa=8, rca=0),\n",
    "#     dict(d_model=256, n_layers=4, sa=6, rca=2),\n",
    "#     dict(d_model=256, n_layers=4, sa=4, rca=4),\n",
    "#     # dict(d_model=768, n_layers=8, sa=12, rca=0),\n",
    "#     # dict(d_model=768, n_layers=8, sa=8, rca=4),\n",
    "#     # dict(d_model=768, n_layers=8, sa=6, rca=6),\n",
    "#     # dict(d_model=768, n_layers=12, sa=12, rca=0),\n",
    "#     # dict(d_model=768, n_layers=12, sa=8, rca=4),\n",
    "#     # dict(d_model=768, n_layers=12, sa=6, rca=6),\n",
    "# ]\n",
    "\n",
    "# jobs_params = []\n",
    "# for mparams in model_params:\n",
    "#     if mparams['rca'] != 0:\n",
    "#         for disrca in disentangled_rcas:\n",
    "#             for symbol_type in symbol_types:\n",
    "#                 jobs_params.append({**mparams, 'disentangled_rca': disrca, \"symbol_type\": symbol_type})\n",
    "#     else:\n",
    "#         jobs_params.append({**mparams, 'disentangled_rca': -1, 'symbol_type': 'NA'})"
   ]
  },
  {
   "cell_type": "code",
   "execution_count": 5,
   "metadata": {},
   "outputs": [],
   "source": [
    "jobs_params = [\n",
    "    # dict(d_model=768, n_layers=12, sa=12, rca=0, rca_type='NA', symbol_type='NA', compile=1),\n",
    "    dict(d_model=768, n_layers=12, sa=8, rca=4, rca_type='disentangled_v2', symbol_type='pos_relative', compile=0),\n",
    "    # dict(d_model=768, n_layers=12, sa=8, rca=4, rca_type='disentangled_v2', symbol_type='sym_attn', compile=1),\n",
    "    # dict(d_model=768, n_layers=12, sa=8, rca=4, rca_type='disentangled_v1', symbol_type='pos_sym_retriever'),\n",
    "    # dict(d_model=768, n_layers=12, sa=8, rca=4, rca_type='standard', symbol_type='pos_sym_retriever'),\n",
    "]"
   ]
  },
  {
   "cell_type": "code",
   "execution_count": 6,
   "metadata": {},
   "outputs": [
    {
     "data": {
      "text/plain": [
       "[{'d_model': 768,\n",
       "  'n_layers': 12,\n",
       "  'sa': 8,\n",
       "  'rca': 4,\n",
       "  'rca_type': 'disentangled_v2',\n",
       "  'symbol_type': 'pos_relative',\n",
       "  'compile': 0}]"
      ]
     },
     "execution_count": 6,
     "metadata": {},
     "output_type": "execute_result"
    }
   ],
   "source": [
    "jobs_params"
   ]
  },
  {
   "cell_type": "code",
   "execution_count": 7,
   "metadata": {},
   "outputs": [
    {
     "data": {
      "text/plain": [
       "1"
      ]
     },
     "execution_count": 7,
     "metadata": {},
     "output_type": "execute_result"
    }
   ],
   "source": [
    "len(jobs_params)"
   ]
  },
  {
   "cell_type": "code",
   "execution_count": 8,
   "metadata": {},
   "outputs": [],
   "source": [
    "# global config parameters\n",
    "n_epochs = 100\n",
    "# max_steps = -1\n",
    "log_to_wandb = 1"
   ]
  },
  {
   "cell_type": "code",
   "execution_count": 10,
   "metadata": {},
   "outputs": [],
   "source": [
    "# create jobs\n",
    "created_jobs = []\n",
    "for params in jobs_params:\n",
    "\n",
    "    job_name = (f\"vision-IMAGENET-d{params['d_model']}-sa{params['sa']}-rca{params['rca']}-L{params['n_layers']}\"\n",
    "        f\"-rca_type_{params['rca_type']}-symbol_type_{params['symbol_type']}\")\n",
    "\n",
    "    job_file = os.path.join(job_directory, f\"{job_name}.job\")\n",
    "\n",
    "    with open(job_file, 'w') as fh:\n",
    "        fh.writelines(f\"#!/bin/bash\\n\")\n",
    "        fh.writelines(f\"#SBATCH --partition={partition}\\n\")\n",
    "        fh.writelines(f\"#SBATCH --job-name={job_name}\\n\")\n",
    "        fh.writelines(f\"#SBATCH --output={out_dir}/%j-{job_name}.out\\n\")\n",
    "        fh.writelines(f\"#SBATCH --ntasks={ntasks} --nodes={nodes}\\n\")\n",
    "        fh.writelines(f\"#SBATCH --cpus-per-task={cpu_per_task}\\n\")\n",
    "        fh.writelines(f\"#SBATCH --mem-per-cpu={mem_per_cpu}G\\n\")\n",
    "        fh.writelines(f\"#SBATCH --time={time_str}\\n\")\n",
    "        fh.writelines(f\"#SBATCH --mail-type=ALL\\n\")\n",
    "        fh.writelines(f\"#SBATCH --gpus={n_gpus}\\n\")\n",
    "        fh.writelines(f\"#SBATCH --reservation=h100\\n\") # NOTE: using h100 reservation for noow\n",
    "        # fh.writelines(f\"#SBATCH -C {gpus_constraints}\\n\")# --gpus={n_gpus}\\n\")\n",
    "\n",
    "        fh.writelines('\\n')\n",
    "        fh.writelines('module load StdEnv\\n')\n",
    "        fh.writelines('export SLURM_EXPORT_ENV=ALL\\n')\n",
    "        fh.writelines('\\n')\n",
    "\n",
    "        # fh.writelines(f\"module restore python_env\\n\") # load modules i need\n",
    "        fh.writelines(f\"module load miniconda\\n\") # load modules i need\n",
    "        # fh.writelines(f\"conda init\\n\")\n",
    "        fh.writelines(f\"conda activate abstract_transformer\\n\") # activate conda environment\n",
    "        fh.writelines(f\"conda info --envs\\n\") # activate conda environment\n",
    "\n",
    "        fh.writelines('\\n')\n",
    "        fh.writelines(f\"nvidia-smi -L\\n\") # print gpu information\n",
    "        fh.writelines('\\n')\n",
    "\n",
    "        fh.writelines(f\"cd {project_dir}\\n\") # navigate to project directory\n",
    "        # run python script\n",
    "        fh.writelines(f\"python pretrain_imagenet_vision_model.py \")\n",
    "        fh.writelines(f\"--d_model {params['d_model']} --sa {params['sa']} --rca {params['rca']} --n_layers {params['n_layers']} \")\n",
    "        fh.writelines(f\"--rca_type {params['rca_type']} --symbol_type {params['symbol_type']} --patch_size {patch_size} \")\n",
    "        fh.writelines(f\"--n_epochs {n_epochs} --log_to_wandb {log_to_wandb} --compile {params['compile']} \\n\")\n",
    "\n",
    "    created_jobs.append(job_file)"
   ]
  },
  {
   "cell_type": "code",
   "execution_count": 11,
   "metadata": {},
   "outputs": [
    {
     "data": {
      "text/plain": [
       "['vision_imagenet/vision-IMAGENET-d768-sa8-rca4-L12-rca_type_disentangled_v2-symbol_type_pos_relative.job']"
      ]
     },
     "execution_count": 11,
     "metadata": {},
     "output_type": "execute_result"
    }
   ],
   "source": [
    "created_jobs"
   ]
  },
  {
   "cell_type": "code",
   "execution_count": 12,
   "metadata": {},
   "outputs": [
    {
     "name": "stdout",
     "output_type": "stream",
     "text": [
      "Submitted batch job 5823\n"
     ]
    }
   ],
   "source": [
    "confirm = input(\"CONTINUE TO RUN ALL JOBS? (enter 'Y' or 'y')\")\n",
    "if confirm in (\"Y\", \"y\"):\n",
    "    for job in created_jobs:\n",
    "        os.system(f'sbatch {job}')\n",
    "else:\n",
    "    print(\"did not run jobs since you did not confirm.\")"
   ]
  }
 ],
 "metadata": {
  "kernelspec": {
   "display_name": "Python 3.11.7 ('abstract_transformer')",
   "language": "python",
   "name": "python3"
  },
  "language_info": {
   "codemirror_mode": {
    "name": "ipython",
    "version": 3
   },
   "file_extension": ".py",
   "mimetype": "text/x-python",
   "name": "python",
   "nbconvert_exporter": "python",
   "pygments_lexer": "ipython3",
   "version": "3.11.7"
  },
  "orig_nbformat": 4,
  "vscode": {
   "interpreter": {
    "hash": "8af8745886d4de51e837abafc38af8fb9452f5565518612da5aaf75440d8b7fa"
   }
  }
 },
 "nbformat": 4,
 "nbformat_minor": 2
}
