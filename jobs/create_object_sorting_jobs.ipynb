{
 "cells": [
  {
   "cell_type": "code",
   "execution_count": 1,
   "metadata": {},
   "outputs": [],
   "source": [
    "import os\n",
    "import itertools"
   ]
  },
  {
   "cell_type": "code",
   "execution_count": 2,
   "metadata": {},
   "outputs": [],
   "source": [
    "def mkdir(dir):\n",
    "    if not os.path.exists(dir):\n",
    "        os.mkdir(dir)"
   ]
  },
  {
   "cell_type": "code",
   "execution_count": 3,
   "metadata": {},
   "outputs": [],
   "source": [
    "# global job parameters\n",
    "\n",
    "job_directory = f\"object_sorting\"\n",
    "out_dir = f'{job_directory}/.out'\n",
    "time_str = '00-12:00:00'\n",
    "partition = 'gpu'\n",
    "ntasks = 1\n",
    "nodes = 1\n",
    "cpu_per_task = 8\n",
    "mem_per_cpu = 2\n",
    "n_gpus = 1\n",
    "# gpus_constraints = '\"a100|rtx3090|v100|rtx2080ti\"' # all gpus are pretty good now\n",
    "project_dir = \"/home/ma2393/scratch/abstract_transformer/experiments/object_sorting\"\n",
    "\n",
    "mkdir(job_directory)\n",
    "mkdir(out_dir)"
   ]
  },
  {
   "cell_type": "code",
   "execution_count": 4,
   "metadata": {},
   "outputs": [],
   "source": [
    "# define params of individual jobs\n",
    "\n",
    "jobs_params = [\n",
    "    dict(ee=2, ea=2, de=2, da=2, e_n_layers=2, d_n_layers=2),\n",
    "    dict(ee=2, ea=2, de=2, da=0, e_n_layers=2, d_n_layers=2),\n",
    "    dict(ee=0, ea=2, de=2, da=0, e_n_layers=2, d_n_layers=2),\n",
    "    dict(ee=0, ea=4, de=4, da=0, e_n_layers=2, d_n_layers=2),\n",
    "    dict(ee=2, ea=0, de=2, da=0, e_n_layers=2, d_n_layers=2),\n",
    "    dict(ee=4, ea=0, de=4, da=0, e_n_layers=2, d_n_layers=2),\n",
    "]"
   ]
  },
  {
   "cell_type": "code",
   "execution_count": 5,
   "metadata": {},
   "outputs": [
    {
     "data": {
      "text/plain": [
       "[{'ee': 4,\n",
       "  'ea': 4,\n",
       "  'de': 4,\n",
       "  'da': 4,\n",
       "  'e_n_layers': 1,\n",
       "  'd_n_layers': 1,\n",
       "  'd_model': 512,\n",
       "  'dff': 2048},\n",
       " {'ee': 4,\n",
       "  'ea': 4,\n",
       "  'de': 8,\n",
       "  'da': 0,\n",
       "  'e_n_layers': 1,\n",
       "  'd_n_layers': 1,\n",
       "  'd_model': 512,\n",
       "  'dff': 2048},\n",
       " {'ee': 0,\n",
       "  'ea': 8,\n",
       "  'de': 8,\n",
       "  'da': 0,\n",
       "  'e_n_layers': 1,\n",
       "  'd_n_layers': 1,\n",
       "  'd_model': 512,\n",
       "  'dff': 2048},\n",
       " {'ee': 4,\n",
       "  'ea': 0,\n",
       "  'de': 4,\n",
       "  'da': 0,\n",
       "  'e_n_layers': 1,\n",
       "  'd_n_layers': 1,\n",
       "  'd_model': 512,\n",
       "  'dff': 2048},\n",
       " {'ee': 8,\n",
       "  'ea': 0,\n",
       "  'de': 8,\n",
       "  'da': 0,\n",
       "  'e_n_layers': 1,\n",
       "  'd_n_layers': 1,\n",
       "  'd_model': 512,\n",
       "  'dff': 2048}]"
      ]
     },
     "execution_count": 5,
     "metadata": {},
     "output_type": "execute_result"
    }
   ],
   "source": [
    "jobs_params"
   ]
  },
  {
   "cell_type": "code",
   "execution_count": 6,
   "metadata": {},
   "outputs": [],
   "source": [
    "# create jobs\n",
    "created_jobs = []\n",
    "for params in jobs_params:\n",
    "\n",
    "    job_name = f\"object_sorting-ee{params['ee']}-ea{params['ea']}-de{params['de']}-da{params['da']}-el{params['e_n_layers']}-dl{params['d_n_layers']}\"\n",
    "\n",
    "    job_file = os.path.join(job_directory, f\"{job_name}.job\")\n",
    "\n",
    "    with open(job_file, 'w') as fh:\n",
    "        fh.writelines(f\"#!/bin/bash\\n\")\n",
    "        fh.writelines(f\"#SBATCH --partition={partition}\\n\")\n",
    "        fh.writelines(f\"#SBATCH --job-name={job_name}\\n\")\n",
    "        fh.writelines(f\"#SBATCH --output={out_dir}/%j-{job_name}.out\\n\")\n",
    "        fh.writelines(f\"#SBATCH --ntasks={ntasks} --nodes={nodes}\\n\")\n",
    "        fh.writelines(f\"#SBATCH --cpus-per-task={cpu_per_task}\\n\")\n",
    "        fh.writelines(f\"#SBATCH --mem-per-cpu={mem_per_cpu}G\\n\")\n",
    "        fh.writelines(f\"#SBATCH --time={time_str}\\n\")\n",
    "        fh.writelines(f\"#SBATCH --mail-type=ALL\\n\")\n",
    "        fh.writelines(f\"#SBATCH --gpus={n_gpus}\\n\")\n",
    "        # fh.writelines(f\"#SBATCH -C {gpus_constraints}\\n\")# --gpus={n_gpus}\\n\")\n",
    "\n",
    "        fh.writelines('\\n')\n",
    "        fh.writelines('module load StdEnv\\n')\n",
    "        fh.writelines('export SLURM_EXPORT_ENV=ALL\\n')\n",
    "        fh.writelines('\\n')\n",
    "\n",
    "        # fh.writelines(f\"module restore python_env\\n\") # load modules i need\n",
    "        fh.writelines(f\"module load miniconda\\n\") # load modules i need\n",
    "        # fh.writelines(f\"conda init\\n\")\n",
    "        fh.writelines(f\"conda activate abstract_transformer\\n\") # activate conda environment\n",
    "        fh.writelines(f\"conda info --envs\\n\") # activate conda environment\n",
    "\n",
    "        fh.writelines('\\n')\n",
    "        fh.writelines(f\"nvidia-smi -L\\n\") # print gpu information\n",
    "        fh.writelines('\\n')\n",
    "\n",
    "        fh.writelines(f\"cd {project_dir}\\n\") # navigate to project directory\n",
    "        # run python script\n",
    "        fh.writelines(f\"python eval_learning_curves.py \")\n",
    "        fh.writelines(f\"--num_trials 5 --n_epochs 2500 \")\n",
    "        fh.writelines(f\"--ee {params['ee']} --ea {params['ea']} --de {params['de']} --da {params['da']} \")\n",
    "        fh.writelines(f\"--e_n_layers {params['e_n_layers']} --d_n_layers {params['d_n_layers']}\\n\")\n",
    "\n",
    "    created_jobs.append(job_file)"
   ]
  },
  {
   "cell_type": "code",
   "execution_count": 7,
   "metadata": {},
   "outputs": [
    {
     "data": {
      "text/plain": [
       "['object_sorting/object_sorting-ee4-ea4-de4-da4-el1-dl1.job',\n",
       " 'object_sorting/object_sorting-ee4-ea4-de8-da0-el1-dl1.job',\n",
       " 'object_sorting/object_sorting-ee0-ea8-de8-da0-el1-dl1.job',\n",
       " 'object_sorting/object_sorting-ee4-ea0-de4-da0-el1-dl1.job',\n",
       " 'object_sorting/object_sorting-ee8-ea0-de8-da0-el1-dl1.job']"
      ]
     },
     "execution_count": 7,
     "metadata": {},
     "output_type": "execute_result"
    }
   ],
   "source": [
    "created_jobs"
   ]
  }
 ],
 "metadata": {
  "kernelspec": {
   "display_name": "Python 3.11.7 ('abstract_transformer')",
   "language": "python",
   "name": "python3"
  },
  "language_info": {
   "codemirror_mode": {
    "name": "ipython",
    "version": 3
   },
   "file_extension": ".py",
   "mimetype": "text/x-python",
   "name": "python",
   "nbconvert_exporter": "python",
   "pygments_lexer": "ipython3",
   "version": "3.11.7"
  },
  "orig_nbformat": 4,
  "vscode": {
   "interpreter": {
    "hash": "8af8745886d4de51e837abafc38af8fb9452f5565518612da5aaf75440d8b7fa"
   }
  }
 },
 "nbformat": 4,
 "nbformat_minor": 2
}
