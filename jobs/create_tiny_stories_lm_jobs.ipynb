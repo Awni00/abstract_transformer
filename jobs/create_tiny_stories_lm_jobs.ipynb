{
 "cells": [
  {
   "cell_type": "code",
   "execution_count": 1,
   "metadata": {},
   "outputs": [],
   "source": [
    "import os\n",
    "import itertools"
   ]
  },
  {
   "cell_type": "code",
   "execution_count": 2,
   "metadata": {},
   "outputs": [],
   "source": [
    "def mkdir(dir):\n",
    "    if not os.path.exists(dir):\n",
    "        os.mkdir(dir)"
   ]
  },
  {
   "cell_type": "code",
   "execution_count": 3,
   "metadata": {},
   "outputs": [],
   "source": [
    "# global job parameters\n",
    "\n",
    "job_directory = f\"tiny_stories\"\n",
    "out_dir = f'{job_directory}/.out'\n",
    "time_str = '00-12:00:00'\n",
    "partition = 'gpu'\n",
    "ntasks = 1\n",
    "nodes = 1\n",
    "cpu_per_task = 8\n",
    "mem_per_cpu = 2\n",
    "n_gpus = 1\n",
    "# gpus_constraints = '\"a100|rtx3090|v100|rtx2080ti\"' # all gpus are pretty good now\n",
    "project_dir = \"/home/ma2393/scratch/abstract_transformer/experiments/tiny_stories\"\n",
    "\n",
    "mkdir(job_directory)\n",
    "mkdir(out_dir)"
   ]
  },
  {
   "cell_type": "code",
   "execution_count": 4,
   "metadata": {},
   "outputs": [],
   "source": [
    "# model params\n",
    "pos_enc_types = ['RoPE', 'pos_emb']\n",
    "symbol_types = ['position_relative', 'symbolic_attention']\n",
    "rca_type = [0, 1]\n",
    "\n",
    "model_params = [\n",
    "    dict(d_model=768, n_layers=2, sa=12, rca=0),\n",
    "    dict(d_model=768, n_layers=2, sa=8, rca=4),\n",
    "    dict(d_model=768, n_layers=2, sa=6, rca=6),\n",
    "]\n",
    "\n",
    "jobs_params = []\n",
    "for mparams in model_params:\n",
    "    for pos_enc_type in pos_enc_types:\n",
    "        if mparams['rca'] != 0:\n",
    "            for disrca in disentangled_rcas:\n",
    "                for symbol_type in symbol_types:\n",
    "                    jobs_params.append({**mparams, 'pos_enc_type': pos_enc_type, 'disentangled_rca': disrca, \"symbol_type\": symbol_type})\n",
    "        else:\n",
    "            jobs_params.append({**mparams, 'pos_enc_type': pos_enc_type, 'disentangled_rca': -1, 'symbol_type': 'NA'})"
   ]
  },
  {
   "cell_type": "code",
   "execution_count": 5,
   "metadata": {},
   "outputs": [
    {
     "data": {
      "text/plain": [
       "[{'d_model': 768,\n",
       "  'n_layers': 2,\n",
       "  'sa': 8,\n",
       "  'rca': 4,\n",
       "  'pos_enc_type': 'RoPE',\n",
       "  'disentangled_rca': 0,\n",
       "  'symbol_type': 'position_relative'},\n",
       " {'d_model': 768,\n",
       "  'n_layers': 2,\n",
       "  'sa': 8,\n",
       "  'rca': 4,\n",
       "  'pos_enc_type': 'RoPE',\n",
       "  'disentangled_rca': 0,\n",
       "  'symbol_type': 'symbolic_attention'},\n",
       " {'d_model': 768,\n",
       "  'n_layers': 2,\n",
       "  'sa': 8,\n",
       "  'rca': 4,\n",
       "  'pos_enc_type': 'RoPE',\n",
       "  'disentangled_rca': 1,\n",
       "  'symbol_type': 'position_relative'},\n",
       " {'d_model': 768,\n",
       "  'n_layers': 2,\n",
       "  'sa': 8,\n",
       "  'rca': 4,\n",
       "  'pos_enc_type': 'RoPE',\n",
       "  'disentangled_rca': 1,\n",
       "  'symbol_type': 'symbolic_attention'},\n",
       " {'d_model': 768,\n",
       "  'n_layers': 2,\n",
       "  'sa': 8,\n",
       "  'rca': 4,\n",
       "  'pos_enc_type': 'pos_emb',\n",
       "  'disentangled_rca': 0,\n",
       "  'symbol_type': 'position_relative'},\n",
       " {'d_model': 768,\n",
       "  'n_layers': 2,\n",
       "  'sa': 8,\n",
       "  'rca': 4,\n",
       "  'pos_enc_type': 'pos_emb',\n",
       "  'disentangled_rca': 0,\n",
       "  'symbol_type': 'symbolic_attention'},\n",
       " {'d_model': 768,\n",
       "  'n_layers': 2,\n",
       "  'sa': 8,\n",
       "  'rca': 4,\n",
       "  'pos_enc_type': 'pos_emb',\n",
       "  'disentangled_rca': 1,\n",
       "  'symbol_type': 'position_relative'},\n",
       " {'d_model': 768,\n",
       "  'n_layers': 2,\n",
       "  'sa': 8,\n",
       "  'rca': 4,\n",
       "  'pos_enc_type': 'pos_emb',\n",
       "  'disentangled_rca': 1,\n",
       "  'symbol_type': 'symbolic_attention'},\n",
       " {'d_model': 768,\n",
       "  'n_layers': 2,\n",
       "  'sa': 6,\n",
       "  'rca': 6,\n",
       "  'pos_enc_type': 'RoPE',\n",
       "  'disentangled_rca': 0,\n",
       "  'symbol_type': 'position_relative'},\n",
       " {'d_model': 768,\n",
       "  'n_layers': 2,\n",
       "  'sa': 6,\n",
       "  'rca': 6,\n",
       "  'pos_enc_type': 'RoPE',\n",
       "  'disentangled_rca': 0,\n",
       "  'symbol_type': 'symbolic_attention'},\n",
       " {'d_model': 768,\n",
       "  'n_layers': 2,\n",
       "  'sa': 6,\n",
       "  'rca': 6,\n",
       "  'pos_enc_type': 'RoPE',\n",
       "  'disentangled_rca': 1,\n",
       "  'symbol_type': 'position_relative'},\n",
       " {'d_model': 768,\n",
       "  'n_layers': 2,\n",
       "  'sa': 6,\n",
       "  'rca': 6,\n",
       "  'pos_enc_type': 'RoPE',\n",
       "  'disentangled_rca': 1,\n",
       "  'symbol_type': 'symbolic_attention'},\n",
       " {'d_model': 768,\n",
       "  'n_layers': 2,\n",
       "  'sa': 6,\n",
       "  'rca': 6,\n",
       "  'pos_enc_type': 'pos_emb',\n",
       "  'disentangled_rca': 0,\n",
       "  'symbol_type': 'position_relative'},\n",
       " {'d_model': 768,\n",
       "  'n_layers': 2,\n",
       "  'sa': 6,\n",
       "  'rca': 6,\n",
       "  'pos_enc_type': 'pos_emb',\n",
       "  'disentangled_rca': 0,\n",
       "  'symbol_type': 'symbolic_attention'},\n",
       " {'d_model': 768,\n",
       "  'n_layers': 2,\n",
       "  'sa': 6,\n",
       "  'rca': 6,\n",
       "  'pos_enc_type': 'pos_emb',\n",
       "  'disentangled_rca': 1,\n",
       "  'symbol_type': 'position_relative'},\n",
       " {'d_model': 768,\n",
       "  'n_layers': 2,\n",
       "  'sa': 6,\n",
       "  'rca': 6,\n",
       "  'pos_enc_type': 'pos_emb',\n",
       "  'disentangled_rca': 1,\n",
       "  'symbol_type': 'symbolic_attention'}]"
      ]
     },
     "execution_count": 5,
     "metadata": {},
     "output_type": "execute_result"
    }
   ],
   "source": [
    "jobs_params"
   ]
  },
  {
   "cell_type": "code",
   "execution_count": 6,
   "metadata": {},
   "outputs": [
    {
     "data": {
      "text/plain": [
       "16"
      ]
     },
     "execution_count": 6,
     "metadata": {},
     "output_type": "execute_result"
    }
   ],
   "source": [
    "len(jobs_params)"
   ]
  },
  {
   "cell_type": "code",
   "execution_count": 7,
   "metadata": {},
   "outputs": [],
   "source": [
    "# global config parameters\n",
    "n_epochs = 1\n",
    "max_steps = -1\n",
    "log_to_wandb = 1"
   ]
  },
  {
   "cell_type": "code",
   "execution_count": 8,
   "metadata": {},
   "outputs": [],
   "source": [
    "# create jobs\n",
    "created_jobs = []\n",
    "for params in jobs_params:\n",
    "\n",
    "    job_name = (f\"tiny_stories_LM-d{params['d_model']}-sa{params['sa']}-rca{params['rca']}-L{params['n_layers']}\"\n",
    "        f\"-{params['pos_enc_type']}-dis_rca{params['disentangled_rca']}-{params['symbol_type']}\")\n",
    "\n",
    "    job_file = os.path.join(job_directory, f\"{job_name}.job\")\n",
    "\n",
    "    with open(job_file, 'w') as fh:\n",
    "        fh.writelines(f\"#!/bin/bash\\n\")\n",
    "        fh.writelines(f\"#SBATCH --partition={partition}\\n\")\n",
    "        fh.writelines(f\"#SBATCH --job-name={job_name}\\n\")\n",
    "        fh.writelines(f\"#SBATCH --output={out_dir}/%j-{job_name}.out\\n\")\n",
    "        fh.writelines(f\"#SBATCH --ntasks={ntasks} --nodes={nodes}\\n\")\n",
    "        fh.writelines(f\"#SBATCH --cpus-per-task={cpu_per_task}\\n\")\n",
    "        fh.writelines(f\"#SBATCH --mem-per-cpu={mem_per_cpu}G\\n\")\n",
    "        fh.writelines(f\"#SBATCH --time={time_str}\\n\")\n",
    "        fh.writelines(f\"#SBATCH --mail-type=ALL\\n\")\n",
    "        fh.writelines(f\"#SBATCH --gpus={n_gpus}\\n\")\n",
    "        # fh.writelines(f\"#SBATCH -C {gpus_constraints}\\n\")# --gpus={n_gpus}\\n\")\n",
    "\n",
    "        fh.writelines('\\n')\n",
    "        fh.writelines('module load StdEnv\\n')\n",
    "        fh.writelines('export SLURM_EXPORT_ENV=ALL\\n')\n",
    "        fh.writelines('\\n')\n",
    "\n",
    "        # fh.writelines(f\"module restore python_env\\n\") # load modules i need\n",
    "        fh.writelines(f\"module load miniconda\\n\") # load modules i need\n",
    "        # fh.writelines(f\"conda init\\n\")\n",
    "        fh.writelines(f\"conda activate abstract_transformer\\n\") # activate conda environment\n",
    "        fh.writelines(f\"conda info --envs\\n\") # activate conda environment\n",
    "\n",
    "        fh.writelines('\\n')\n",
    "        fh.writelines(f\"nvidia-smi -L\\n\") # print gpu information\n",
    "        fh.writelines('\\n')\n",
    "\n",
    "        fh.writelines(f\"cd {project_dir}\\n\") # navigate to project directory\n",
    "        # run python script\n",
    "        fh.writelines(f\"python train_tiny_stories_language_model.py \")\n",
    "        fh.writelines(f\"--d_model {params['d_model']} --sa {params['sa']} --rca {params['rca']} --n_layers {params['n_layers']} \")\n",
    "        fh.writelines(f\"--pos_enc_type {params['pos_enc_type']} --disentangled_rca {params['disentangled_rca']} --symbol_type {params['symbol_type']} \")\n",
    "        fh.writelines(f\"--n_epochs {n_epochs} --max_steps {max_steps} --log_to_wandb {log_to_wandb}\\n\")\n",
    "\n",
    "    created_jobs.append(job_file)"
   ]
  },
  {
   "cell_type": "code",
   "execution_count": 9,
   "metadata": {},
   "outputs": [
    {
     "data": {
      "text/plain": [
       "['tiny_stories/tiny_stories_LM-d768-sa8-rca4-L2-RoPE-dis_rca0-pos_relative.job',\n",
       " 'tiny_stories/tiny_stories_LM-d768-sa8-rca4-L2-RoPE-dis_rca0-sym_attn.job',\n",
       " 'tiny_stories/tiny_stories_LM-d768-sa8-rca4-L2-RoPE-dis_rca1-pos_relative.job',\n",
       " 'tiny_stories/tiny_stories_LM-d768-sa8-rca4-L2-RoPE-dis_rca1-sym_attn.job',\n",
       " 'tiny_stories/tiny_stories_LM-d768-sa8-rca4-L2-pos_emb-dis_rca0-pos_relative.job',\n",
       " 'tiny_stories/tiny_stories_LM-d768-sa8-rca4-L2-pos_emb-dis_rca0-sym_attn.job',\n",
       " 'tiny_stories/tiny_stories_LM-d768-sa8-rca4-L2-pos_emb-dis_rca1-pos_relative.job',\n",
       " 'tiny_stories/tiny_stories_LM-d768-sa8-rca4-L2-pos_emb-dis_rca1-sym_attn.job',\n",
       " 'tiny_stories/tiny_stories_LM-d768-sa6-rca6-L2-RoPE-dis_rca0-pos_relative.job',\n",
       " 'tiny_stories/tiny_stories_LM-d768-sa6-rca6-L2-RoPE-dis_rca0-sym_attn.job',\n",
       " 'tiny_stories/tiny_stories_LM-d768-sa6-rca6-L2-RoPE-dis_rca1-pos_relative.job',\n",
       " 'tiny_stories/tiny_stories_LM-d768-sa6-rca6-L2-RoPE-dis_rca1-sym_attn.job',\n",
       " 'tiny_stories/tiny_stories_LM-d768-sa6-rca6-L2-pos_emb-dis_rca0-pos_relative.job',\n",
       " 'tiny_stories/tiny_stories_LM-d768-sa6-rca6-L2-pos_emb-dis_rca0-sym_attn.job',\n",
       " 'tiny_stories/tiny_stories_LM-d768-sa6-rca6-L2-pos_emb-dis_rca1-pos_relative.job',\n",
       " 'tiny_stories/tiny_stories_LM-d768-sa6-rca6-L2-pos_emb-dis_rca1-sym_attn.job']"
      ]
     },
     "execution_count": 9,
     "metadata": {},
     "output_type": "execute_result"
    }
   ],
   "source": [
    "created_jobs"
   ]
  },
  {
   "cell_type": "code",
   "execution_count": 10,
   "metadata": {},
   "outputs": [
    {
     "name": "stdout",
     "output_type": "stream",
     "text": [
      "Submitted batch job 3374\n",
      "Submitted batch job 3375\n",
      "Submitted batch job 3376\n",
      "Submitted batch job 3377\n",
      "Submitted batch job 3378\n",
      "Submitted batch job 3379\n",
      "Submitted batch job 3380\n",
      "Submitted batch job 3381\n",
      "Submitted batch job 3382\n",
      "Submitted batch job 3383\n",
      "Submitted batch job 3384\n",
      "Submitted batch job 3385\n",
      "Submitted batch job 3386\n",
      "Submitted batch job 3387\n",
      "Submitted batch job 3388\n",
      "Submitted batch job 3389\n"
     ]
    }
   ],
   "source": [
    "input(\"CONTINUE TO RUN ALL JOBS?\")\n",
    "for job in created_jobs:\n",
    "    os.system(f'sbatch {job}')"
   ]
  }
 ],
 "metadata": {
  "kernelspec": {
   "display_name": "Python 3.11.7 ('abstract_transformer')",
   "language": "python",
   "name": "python3"
  },
  "language_info": {
   "codemirror_mode": {
    "name": "ipython",
    "version": 3
   },
   "file_extension": ".py",
   "mimetype": "text/x-python",
   "name": "python",
   "nbconvert_exporter": "python",
   "pygments_lexer": "ipython3",
   "version": "3.11.7"
  },
  "orig_nbformat": 4,
  "vscode": {
   "interpreter": {
    "hash": "8af8745886d4de51e837abafc38af8fb9452f5565518612da5aaf75440d8b7fa"
   }
  }
 },
 "nbformat": 4,
 "nbformat_minor": 2
}
