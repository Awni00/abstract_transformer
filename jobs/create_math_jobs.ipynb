{
 "cells": [
  {
   "cell_type": "code",
   "execution_count": 9,
   "metadata": {},
   "outputs": [],
   "source": [
    "import os\n",
    "import itertools"
   ]
  },
  {
   "cell_type": "code",
   "execution_count": 10,
   "metadata": {},
   "outputs": [],
   "source": [
    "def mkdir(dir):\n",
    "    if not os.path.exists(dir):\n",
    "        os.mkdir(dir)"
   ]
  },
  {
   "cell_type": "code",
   "execution_count": 11,
   "metadata": {},
   "outputs": [],
   "source": [
    "# global job parameters\n",
    "\n",
    "job_directory = f\"math\"\n",
    "out_dir = f'{job_directory}/.out'\n",
    "time_str = '00-24:00:00'\n",
    "partition = 'gpu'\n",
    "ntasks = 1\n",
    "nodes = 1\n",
    "cpu_per_task = 8\n",
    "mem_per_cpu = 2\n",
    "n_gpus = 1\n",
    "# gpus_constraints = '\"a100|rtx3090|v100|rtx2080ti\"' # all gpus are pretty good now\n",
    "project_dir = \"/home/ma2393/scratch/abstract_transformer/experiments/math\"\n",
    "\n",
    "mkdir(job_directory)\n",
    "mkdir(out_dir)"
   ]
  },
  {
   "cell_type": "code",
   "execution_count": 12,
   "metadata": {},
   "outputs": [],
   "source": [
    "# define params of individual jobs\n",
    "\n",
    "model_params = [\n",
    "    # dict(e_sa=4, e_rca=4, d_sa=8, d_rca=0, d_cross=8, e_n_layers=2, d_n_layers=2, d_model=128, dff=256, disentangled_rca=0),\n",
    "    dict(e_sa=4, e_rca=4, d_sa=4, d_rca=4, d_cross=8, e_n_layers=2, d_n_layers=2, d_model=128, dff=256, disentangled_rca=0),\n",
    "    # dict(e_sa=4, e_rca=0, d_sa=4, d_rca=0, d_cross=4, e_n_layers=2, d_n_layers=2, d_model=128, dff=256, disentangled_rca=0),\n",
    "    dict(e_sa=8, e_rca=0, d_sa=8, d_rca=0, d_cross=8, e_n_layers=2, d_n_layers=2, d_model=128, dff=256, disentangled_rca=0),\n",
    "    # dict(e_sa=4, e_rca=4, d_sa=8, d_rca=0, d_cross=8, e_n_layers=2, d_n_layers=2, d_model=128, dff=256, disentangled_rca=1),\n",
    "    dict(e_sa=4, e_rca=4, d_sa=4, d_rca=4, d_cross=8, e_n_layers=2, d_n_layers=2, d_model=128, dff=256, disentangled_rca=1),\n",
    "    # dict(e_sa=4, e_rca=0, d_sa=4, d_rca=0, d_cross=4, e_n_layers=2, d_n_layers=2, d_model=128, dff=256, disentangled_rca=1),\n",
    "    dict(e_sa=8, e_rca=0, d_sa=8, d_rca=0, d_cross=8, e_n_layers=2, d_n_layers=2, d_model=128, dff=256, disentangled_rca=1),\n",
    "]"
   ]
  },
  {
   "cell_type": "code",
   "execution_count": 13,
   "metadata": {},
   "outputs": [],
   "source": [
    "tasks =  ['algebra__linear_1d', 'polynomials__add', 'polynomials__expand', 'calculus__differentiate', 'algebra__sequence_next_term']\n",
    "n_epochs = 100\n",
    "batch_size = 512"
   ]
  },
  {
   "cell_type": "code",
   "execution_count": 14,
   "metadata": {},
   "outputs": [
    {
     "name": "stdout",
     "output_type": "stream",
     "text": [
      "[{'e_sa': 4, 'e_rca': 4, 'd_sa': 4, 'd_rca': 4, 'd_cross': 8, 'e_n_layers': 2, 'd_n_layers': 2, 'd_model': 128, 'dff': 256, 'disentangled_rca': 0, 'task': 'algebra__linear_1d', 'n_epochs': 100, 'batch_size': 512}, {'e_sa': 4, 'e_rca': 4, 'd_sa': 4, 'd_rca': 4, 'd_cross': 8, 'e_n_layers': 2, 'd_n_layers': 2, 'd_model': 128, 'dff': 256, 'disentangled_rca': 0, 'task': 'polynomials__add', 'n_epochs': 100, 'batch_size': 512}, {'e_sa': 4, 'e_rca': 4, 'd_sa': 4, 'd_rca': 4, 'd_cross': 8, 'e_n_layers': 2, 'd_n_layers': 2, 'd_model': 128, 'dff': 256, 'disentangled_rca': 0, 'task': 'polynomials__expand', 'n_epochs': 100, 'batch_size': 512}, {'e_sa': 4, 'e_rca': 4, 'd_sa': 4, 'd_rca': 4, 'd_cross': 8, 'e_n_layers': 2, 'd_n_layers': 2, 'd_model': 128, 'dff': 256, 'disentangled_rca': 0, 'task': 'calculus__differentiate', 'n_epochs': 100, 'batch_size': 512}, {'e_sa': 4, 'e_rca': 4, 'd_sa': 4, 'd_rca': 4, 'd_cross': 8, 'e_n_layers': 2, 'd_n_layers': 2, 'd_model': 128, 'dff': 256, 'disentangled_rca': 0, 'task': 'algebra__sequence_next_term', 'n_epochs': 100, 'batch_size': 512}, {'e_sa': 8, 'e_rca': 0, 'd_sa': 8, 'd_rca': 0, 'd_cross': 8, 'e_n_layers': 2, 'd_n_layers': 2, 'd_model': 128, 'dff': 256, 'disentangled_rca': 0, 'task': 'algebra__linear_1d', 'n_epochs': 100, 'batch_size': 512}, {'e_sa': 8, 'e_rca': 0, 'd_sa': 8, 'd_rca': 0, 'd_cross': 8, 'e_n_layers': 2, 'd_n_layers': 2, 'd_model': 128, 'dff': 256, 'disentangled_rca': 0, 'task': 'polynomials__add', 'n_epochs': 100, 'batch_size': 512}, {'e_sa': 8, 'e_rca': 0, 'd_sa': 8, 'd_rca': 0, 'd_cross': 8, 'e_n_layers': 2, 'd_n_layers': 2, 'd_model': 128, 'dff': 256, 'disentangled_rca': 0, 'task': 'polynomials__expand', 'n_epochs': 100, 'batch_size': 512}, {'e_sa': 8, 'e_rca': 0, 'd_sa': 8, 'd_rca': 0, 'd_cross': 8, 'e_n_layers': 2, 'd_n_layers': 2, 'd_model': 128, 'dff': 256, 'disentangled_rca': 0, 'task': 'calculus__differentiate', 'n_epochs': 100, 'batch_size': 512}, {'e_sa': 8, 'e_rca': 0, 'd_sa': 8, 'd_rca': 0, 'd_cross': 8, 'e_n_layers': 2, 'd_n_layers': 2, 'd_model': 128, 'dff': 256, 'disentangled_rca': 0, 'task': 'algebra__sequence_next_term', 'n_epochs': 100, 'batch_size': 512}, {'e_sa': 4, 'e_rca': 4, 'd_sa': 4, 'd_rca': 4, 'd_cross': 8, 'e_n_layers': 2, 'd_n_layers': 2, 'd_model': 128, 'dff': 256, 'disentangled_rca': 1, 'task': 'algebra__linear_1d', 'n_epochs': 100, 'batch_size': 512}, {'e_sa': 4, 'e_rca': 4, 'd_sa': 4, 'd_rca': 4, 'd_cross': 8, 'e_n_layers': 2, 'd_n_layers': 2, 'd_model': 128, 'dff': 256, 'disentangled_rca': 1, 'task': 'polynomials__add', 'n_epochs': 100, 'batch_size': 512}, {'e_sa': 4, 'e_rca': 4, 'd_sa': 4, 'd_rca': 4, 'd_cross': 8, 'e_n_layers': 2, 'd_n_layers': 2, 'd_model': 128, 'dff': 256, 'disentangled_rca': 1, 'task': 'polynomials__expand', 'n_epochs': 100, 'batch_size': 512}, {'e_sa': 4, 'e_rca': 4, 'd_sa': 4, 'd_rca': 4, 'd_cross': 8, 'e_n_layers': 2, 'd_n_layers': 2, 'd_model': 128, 'dff': 256, 'disentangled_rca': 1, 'task': 'calculus__differentiate', 'n_epochs': 100, 'batch_size': 512}, {'e_sa': 4, 'e_rca': 4, 'd_sa': 4, 'd_rca': 4, 'd_cross': 8, 'e_n_layers': 2, 'd_n_layers': 2, 'd_model': 128, 'dff': 256, 'disentangled_rca': 1, 'task': 'algebra__sequence_next_term', 'n_epochs': 100, 'batch_size': 512}, {'e_sa': 8, 'e_rca': 0, 'd_sa': 8, 'd_rca': 0, 'd_cross': 8, 'e_n_layers': 2, 'd_n_layers': 2, 'd_model': 128, 'dff': 256, 'disentangled_rca': 1, 'task': 'algebra__linear_1d', 'n_epochs': 100, 'batch_size': 512}, {'e_sa': 8, 'e_rca': 0, 'd_sa': 8, 'd_rca': 0, 'd_cross': 8, 'e_n_layers': 2, 'd_n_layers': 2, 'd_model': 128, 'dff': 256, 'disentangled_rca': 1, 'task': 'polynomials__add', 'n_epochs': 100, 'batch_size': 512}, {'e_sa': 8, 'e_rca': 0, 'd_sa': 8, 'd_rca': 0, 'd_cross': 8, 'e_n_layers': 2, 'd_n_layers': 2, 'd_model': 128, 'dff': 256, 'disentangled_rca': 1, 'task': 'polynomials__expand', 'n_epochs': 100, 'batch_size': 512}, {'e_sa': 8, 'e_rca': 0, 'd_sa': 8, 'd_rca': 0, 'd_cross': 8, 'e_n_layers': 2, 'd_n_layers': 2, 'd_model': 128, 'dff': 256, 'disentangled_rca': 1, 'task': 'calculus__differentiate', 'n_epochs': 100, 'batch_size': 512}, {'e_sa': 8, 'e_rca': 0, 'd_sa': 8, 'd_rca': 0, 'd_cross': 8, 'e_n_layers': 2, 'd_n_layers': 2, 'd_model': 128, 'dff': 256, 'disentangled_rca': 1, 'task': 'algebra__sequence_next_term', 'n_epochs': 100, 'batch_size': 512}]\n",
      "20\n"
     ]
    }
   ],
   "source": [
    "jobs_params = []\n",
    "for model_p, task in itertools.product(model_params, tasks):\n",
    "    jobs_params.append({**model_p, 'task': task, 'n_epochs': n_epochs, 'batch_size': batch_size})\n",
    "print(jobs_params)\n",
    "print(len(jobs_params))"
   ]
  },
  {
   "cell_type": "code",
   "execution_count": 15,
   "metadata": {},
   "outputs": [],
   "source": [
    "# create jobs\n",
    "created_jobs = []\n",
    "for params in jobs_params:\n",
    "\n",
    "    job_name = f\"math--{params['task']}-e_sa{params['e_sa']}-e_rca{params['e_rca']}-d_sa{params['d_sa']}-d_rca{params['d_rca']}-el{params['e_n_layers']}-dl{params['d_n_layers']}-dis_rca{params['disentangled_rca']}\"\n",
    "\n",
    "    job_file = os.path.join(job_directory, f\"{job_name}.job\")\n",
    "\n",
    "    with open(job_file, 'w') as fh:\n",
    "        fh.writelines(f\"#!/bin/bash\\n\")\n",
    "        fh.writelines(f\"#SBATCH --partition={partition}\\n\")\n",
    "        fh.writelines(f\"#SBATCH --job-name={job_name}\\n\")\n",
    "        fh.writelines(f\"#SBATCH --output={out_dir}/%j-{job_name}.out\\n\")\n",
    "        fh.writelines(f\"#SBATCH --ntasks={ntasks} --nodes={nodes}\\n\")\n",
    "        fh.writelines(f\"#SBATCH --cpus-per-task={cpu_per_task}\\n\")\n",
    "        fh.writelines(f\"#SBATCH --mem-per-cpu={mem_per_cpu}G\\n\")\n",
    "        fh.writelines(f\"#SBATCH --time={time_str}\\n\")\n",
    "        fh.writelines(f\"#SBATCH --mail-type=ALL\\n\")\n",
    "        fh.writelines(f\"#SBATCH --gpus={n_gpus}\\n\")\n",
    "        # fh.writelines(f\"#SBATCH -C {gpus_constraints}\\n\")# --gpus={n_gpus}\\n\")\n",
    "\n",
    "        fh.writelines('\\n')\n",
    "        fh.writelines('module load StdEnv\\n')\n",
    "        fh.writelines('export SLURM_EXPORT_ENV=ALL\\n')\n",
    "        fh.writelines('\\n')\n",
    "\n",
    "        # fh.writelines(f\"module restore python_env\\n\") # load modules i need\n",
    "        fh.writelines(f\"module load miniconda\\n\") # load modules i need\n",
    "        # fh.writelines(f\"conda init\\n\")\n",
    "        fh.writelines(f\"conda activate abstract_transformer\\n\") # activate conda environment\n",
    "        fh.writelines(f\"conda info --envs\\n\") # activate conda environment\n",
    "\n",
    "        fh.writelines('\\n')\n",
    "        fh.writelines(f\"nvidia-smi -L\\n\") # print gpu information\n",
    "        fh.writelines('\\n')\n",
    "\n",
    "        fh.writelines(f\"cd {project_dir}\\n\") # navigate to project directory\n",
    "        # run python script\n",
    "        fh.writelines(f\"python train_model.py \")\n",
    "        fh.writelines(f\"--task {params['task']} --n_epochs {params['n_epochs']} --batch_size {params['batch_size']} \")\n",
    "        fh.writelines(f\"--e_sa {params['e_sa']} --e_rca {params['e_rca']} --d_sa {params['d_sa']} --d_rca {params['d_rca']} --d_cross {params['d_cross']} \")\n",
    "        fh.writelines(f\"--d_model {params['d_model']} --dff {params['dff']} --disentangled_rca {params['disentangled_rca']} \")\n",
    "        fh.writelines(f\"--e_n_layers {params['e_n_layers']} --d_n_layers {params['d_n_layers']}\\n\")\n",
    "\n",
    "    created_jobs.append(job_file)"
   ]
  },
  {
   "cell_type": "code",
   "execution_count": 16,
   "metadata": {},
   "outputs": [
    {
     "data": {
      "text/plain": [
       "['math/math--algebra__linear_1d-e_sa4-e_rca4-d_sa4-d_rca4-el2-dl2-dis_rca0.job',\n",
       " 'math/math--polynomials__add-e_sa4-e_rca4-d_sa4-d_rca4-el2-dl2-dis_rca0.job',\n",
       " 'math/math--polynomials__expand-e_sa4-e_rca4-d_sa4-d_rca4-el2-dl2-dis_rca0.job',\n",
       " 'math/math--calculus__differentiate-e_sa4-e_rca4-d_sa4-d_rca4-el2-dl2-dis_rca0.job',\n",
       " 'math/math--algebra__sequence_next_term-e_sa4-e_rca4-d_sa4-d_rca4-el2-dl2-dis_rca0.job',\n",
       " 'math/math--algebra__linear_1d-e_sa8-e_rca0-d_sa8-d_rca0-el2-dl2-dis_rca0.job',\n",
       " 'math/math--polynomials__add-e_sa8-e_rca0-d_sa8-d_rca0-el2-dl2-dis_rca0.job',\n",
       " 'math/math--polynomials__expand-e_sa8-e_rca0-d_sa8-d_rca0-el2-dl2-dis_rca0.job',\n",
       " 'math/math--calculus__differentiate-e_sa8-e_rca0-d_sa8-d_rca0-el2-dl2-dis_rca0.job',\n",
       " 'math/math--algebra__sequence_next_term-e_sa8-e_rca0-d_sa8-d_rca0-el2-dl2-dis_rca0.job',\n",
       " 'math/math--algebra__linear_1d-e_sa4-e_rca4-d_sa4-d_rca4-el2-dl2-dis_rca1.job',\n",
       " 'math/math--polynomials__add-e_sa4-e_rca4-d_sa4-d_rca4-el2-dl2-dis_rca1.job',\n",
       " 'math/math--polynomials__expand-e_sa4-e_rca4-d_sa4-d_rca4-el2-dl2-dis_rca1.job',\n",
       " 'math/math--calculus__differentiate-e_sa4-e_rca4-d_sa4-d_rca4-el2-dl2-dis_rca1.job',\n",
       " 'math/math--algebra__sequence_next_term-e_sa4-e_rca4-d_sa4-d_rca4-el2-dl2-dis_rca1.job',\n",
       " 'math/math--algebra__linear_1d-e_sa8-e_rca0-d_sa8-d_rca0-el2-dl2-dis_rca1.job',\n",
       " 'math/math--polynomials__add-e_sa8-e_rca0-d_sa8-d_rca0-el2-dl2-dis_rca1.job',\n",
       " 'math/math--polynomials__expand-e_sa8-e_rca0-d_sa8-d_rca0-el2-dl2-dis_rca1.job',\n",
       " 'math/math--calculus__differentiate-e_sa8-e_rca0-d_sa8-d_rca0-el2-dl2-dis_rca1.job',\n",
       " 'math/math--algebra__sequence_next_term-e_sa8-e_rca0-d_sa8-d_rca0-el2-dl2-dis_rca1.job']"
      ]
     },
     "execution_count": 16,
     "metadata": {},
     "output_type": "execute_result"
    }
   ],
   "source": [
    "created_jobs"
   ]
  }
 ],
 "metadata": {
  "kernelspec": {
   "display_name": "Python 3.11.7 ('abstract_transformer')",
   "language": "python",
   "name": "python3"
  },
  "language_info": {
   "codemirror_mode": {
    "name": "ipython",
    "version": 3
   },
   "file_extension": ".py",
   "mimetype": "text/x-python",
   "name": "python",
   "nbconvert_exporter": "python",
   "pygments_lexer": "ipython3",
   "version": "3.11.7"
  },
  "orig_nbformat": 4,
  "vscode": {
   "interpreter": {
    "hash": "8af8745886d4de51e837abafc38af8fb9452f5565518612da5aaf75440d8b7fa"
   }
  }
 },
 "nbformat": 4,
 "nbformat_minor": 2
}
