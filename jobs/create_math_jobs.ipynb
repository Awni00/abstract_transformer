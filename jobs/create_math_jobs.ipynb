{
 "cells": [
  {
   "cell_type": "code",
   "execution_count": 10,
   "metadata": {},
   "outputs": [],
   "source": [
    "import os\n",
    "import itertools"
   ]
  },
  {
   "cell_type": "code",
   "execution_count": 11,
   "metadata": {},
   "outputs": [],
   "source": [
    "def mkdir(dir):\n",
    "    if not os.path.exists(dir):\n",
    "        os.mkdir(dir)"
   ]
  },
  {
   "cell_type": "code",
   "execution_count": 12,
   "metadata": {},
   "outputs": [],
   "source": [
    "# global job parameters\n",
    "\n",
    "job_directory = f\"math\"\n",
    "out_dir = f'{job_directory}/.out'\n",
    "time_str = '00-24:00:00'\n",
    "partition = 'gpu'\n",
    "ntasks = 1\n",
    "nodes = 1\n",
    "cpu_per_task = 8\n",
    "mem_per_cpu = 2\n",
    "n_gpus = 1\n",
    "# gpus_constraints = '\"a100|rtx3090|v100|rtx2080ti\"' # all gpus are pretty good now\n",
    "project_dir = \"/home/ma2393/project/abstract_transformer/experiments/math\"\n",
    "\n",
    "mkdir(job_directory)\n",
    "mkdir(out_dir)"
   ]
  },
  {
   "cell_type": "code",
   "execution_count": 13,
   "metadata": {},
   "outputs": [],
   "source": [
    "# define params of individual jobs\n",
    "\n",
    "model_params = [\n",
    "    # dict(e_sa=8, e_ra=0, d_sa=8, d_ra=0, d_cross=8, e_n_layers=2, d_n_layers=2, d_model=144, dff=144*2, symbol_type='NA', ra_type='NA'),\n",
    "    # dict(e_sa=4, e_ra=4, d_sa=4, d_ra=4, d_cross=8, e_n_layers=2, d_n_layers=2, d_model=128, dff=256, symbol_type='symbolic_attention', ra_type='relational_attention'),\n",
    "    # dict(e_sa=4, e_ra=4, d_sa=8, d_ra=0, d_cross=8, e_n_layers=2, d_n_layers=2, d_model=128, dff=256, symbol_type='symbolic_attention', ra_type='relational_attention'),\n",
    "    # dict(e_sa=4, e_ra=4, d_sa=4, d_ra=4, d_cross=8, e_n_layers=2, d_n_layers=2, d_model=128, dff=256, symbol_type='position_relative', ra_type='relational_attention'),\n",
    "    # dict(e_sa=4, e_ra=4, d_sa=8, d_ra=0, d_cross=8, e_n_layers=2, d_n_layers=2, d_model=128, dff=256, symbol_type='position_relative', ra_type='relational_attention'),\n",
    "    dict(e_sa=4, e_ra=4, d_sa=4, d_ra=4, d_cross=8, e_n_layers=3, d_n_layers=3, d_model=128, dff=256, symbol_type='symbolic_attention', ra_type='relational_attention'),\n",
    "    dict(e_sa=4, e_ra=4, d_sa=8, d_ra=0, d_cross=8, e_n_layers=3, d_n_layers=3, d_model=128, dff=256, symbol_type='symbolic_attention', ra_type='relational_attention'),\n",
    "    dict(e_sa=4, e_ra=4, d_sa=4, d_ra=4, d_cross=8, e_n_layers=3, d_n_layers=3, d_model=128, dff=256, symbol_type='position_relative', ra_type='relational_attention'),\n",
    "    dict(e_sa=4, e_ra=4, d_sa=8, d_ra=0, d_cross=8, e_n_layers=3, d_n_layers=3, d_model=128, dff=256, symbol_type='position_relative', ra_type='relational_attention'),\n",
    "    dict(e_sa=4, e_ra=4, d_sa=4, d_ra=4, d_cross=8, e_n_layers=4, d_n_layers=4, d_model=128, dff=256, symbol_type='symbolic_attention', ra_type='relational_attention'),\n",
    "    dict(e_sa=4, e_ra=4, d_sa=8, d_ra=0, d_cross=8, e_n_layers=4, d_n_layers=4, d_model=128, dff=256, symbol_type='symbolic_attention', ra_type='relational_attention'),\n",
    "    dict(e_sa=4, e_ra=4, d_sa=4, d_ra=4, d_cross=8, e_n_layers=4, d_n_layers=4, d_model=128, dff=256, symbol_type='position_relative', ra_type='relational_attention'),\n",
    "    dict(e_sa=4, e_ra=4, d_sa=8, d_ra=0, d_cross=8, e_n_layers=4, d_n_layers=4, d_model=128, dff=256, symbol_type='position_relative', ra_type='relational_attention'),\n",
    "]"
   ]
  },
  {
   "cell_type": "code",
   "execution_count": 14,
   "metadata": {},
   "outputs": [],
   "source": [
    "tasks =  ['algebra__linear_1d', 'polynomials__add', 'polynomials__expand', 'calculus__differentiate', 'algebra__sequence_next_term']\n",
    "n_epochs = 100\n",
    "batch_size = 512"
   ]
  },
  {
   "cell_type": "code",
   "execution_count": 15,
   "metadata": {},
   "outputs": [
    {
     "name": "stdout",
     "output_type": "stream",
     "text": [
      "[{'e_sa': 4, 'e_ra': 4, 'd_sa': 4, 'd_ra': 4, 'd_cross': 8, 'e_n_layers': 3, 'd_n_layers': 3, 'd_model': 128, 'dff': 256, 'symbol_type': 'symbolic_attention', 'ra_type': 'relational_attention', 'task': 'algebra__linear_1d', 'n_epochs': 100, 'batch_size': 512}, {'e_sa': 4, 'e_ra': 4, 'd_sa': 4, 'd_ra': 4, 'd_cross': 8, 'e_n_layers': 3, 'd_n_layers': 3, 'd_model': 128, 'dff': 256, 'symbol_type': 'symbolic_attention', 'ra_type': 'relational_attention', 'task': 'polynomials__add', 'n_epochs': 100, 'batch_size': 512}, {'e_sa': 4, 'e_ra': 4, 'd_sa': 4, 'd_ra': 4, 'd_cross': 8, 'e_n_layers': 3, 'd_n_layers': 3, 'd_model': 128, 'dff': 256, 'symbol_type': 'symbolic_attention', 'ra_type': 'relational_attention', 'task': 'polynomials__expand', 'n_epochs': 100, 'batch_size': 512}, {'e_sa': 4, 'e_ra': 4, 'd_sa': 4, 'd_ra': 4, 'd_cross': 8, 'e_n_layers': 3, 'd_n_layers': 3, 'd_model': 128, 'dff': 256, 'symbol_type': 'symbolic_attention', 'ra_type': 'relational_attention', 'task': 'calculus__differentiate', 'n_epochs': 100, 'batch_size': 512}, {'e_sa': 4, 'e_ra': 4, 'd_sa': 4, 'd_ra': 4, 'd_cross': 8, 'e_n_layers': 3, 'd_n_layers': 3, 'd_model': 128, 'dff': 256, 'symbol_type': 'symbolic_attention', 'ra_type': 'relational_attention', 'task': 'algebra__sequence_next_term', 'n_epochs': 100, 'batch_size': 512}, {'e_sa': 4, 'e_ra': 4, 'd_sa': 8, 'd_ra': 0, 'd_cross': 8, 'e_n_layers': 3, 'd_n_layers': 3, 'd_model': 128, 'dff': 256, 'symbol_type': 'symbolic_attention', 'ra_type': 'relational_attention', 'task': 'algebra__linear_1d', 'n_epochs': 100, 'batch_size': 512}, {'e_sa': 4, 'e_ra': 4, 'd_sa': 8, 'd_ra': 0, 'd_cross': 8, 'e_n_layers': 3, 'd_n_layers': 3, 'd_model': 128, 'dff': 256, 'symbol_type': 'symbolic_attention', 'ra_type': 'relational_attention', 'task': 'polynomials__add', 'n_epochs': 100, 'batch_size': 512}, {'e_sa': 4, 'e_ra': 4, 'd_sa': 8, 'd_ra': 0, 'd_cross': 8, 'e_n_layers': 3, 'd_n_layers': 3, 'd_model': 128, 'dff': 256, 'symbol_type': 'symbolic_attention', 'ra_type': 'relational_attention', 'task': 'polynomials__expand', 'n_epochs': 100, 'batch_size': 512}, {'e_sa': 4, 'e_ra': 4, 'd_sa': 8, 'd_ra': 0, 'd_cross': 8, 'e_n_layers': 3, 'd_n_layers': 3, 'd_model': 128, 'dff': 256, 'symbol_type': 'symbolic_attention', 'ra_type': 'relational_attention', 'task': 'calculus__differentiate', 'n_epochs': 100, 'batch_size': 512}, {'e_sa': 4, 'e_ra': 4, 'd_sa': 8, 'd_ra': 0, 'd_cross': 8, 'e_n_layers': 3, 'd_n_layers': 3, 'd_model': 128, 'dff': 256, 'symbol_type': 'symbolic_attention', 'ra_type': 'relational_attention', 'task': 'algebra__sequence_next_term', 'n_epochs': 100, 'batch_size': 512}, {'e_sa': 4, 'e_ra': 4, 'd_sa': 4, 'd_ra': 4, 'd_cross': 8, 'e_n_layers': 3, 'd_n_layers': 3, 'd_model': 128, 'dff': 256, 'symbol_type': 'position_relative', 'ra_type': 'relational_attention', 'task': 'algebra__linear_1d', 'n_epochs': 100, 'batch_size': 512}, {'e_sa': 4, 'e_ra': 4, 'd_sa': 4, 'd_ra': 4, 'd_cross': 8, 'e_n_layers': 3, 'd_n_layers': 3, 'd_model': 128, 'dff': 256, 'symbol_type': 'position_relative', 'ra_type': 'relational_attention', 'task': 'polynomials__add', 'n_epochs': 100, 'batch_size': 512}, {'e_sa': 4, 'e_ra': 4, 'd_sa': 4, 'd_ra': 4, 'd_cross': 8, 'e_n_layers': 3, 'd_n_layers': 3, 'd_model': 128, 'dff': 256, 'symbol_type': 'position_relative', 'ra_type': 'relational_attention', 'task': 'polynomials__expand', 'n_epochs': 100, 'batch_size': 512}, {'e_sa': 4, 'e_ra': 4, 'd_sa': 4, 'd_ra': 4, 'd_cross': 8, 'e_n_layers': 3, 'd_n_layers': 3, 'd_model': 128, 'dff': 256, 'symbol_type': 'position_relative', 'ra_type': 'relational_attention', 'task': 'calculus__differentiate', 'n_epochs': 100, 'batch_size': 512}, {'e_sa': 4, 'e_ra': 4, 'd_sa': 4, 'd_ra': 4, 'd_cross': 8, 'e_n_layers': 3, 'd_n_layers': 3, 'd_model': 128, 'dff': 256, 'symbol_type': 'position_relative', 'ra_type': 'relational_attention', 'task': 'algebra__sequence_next_term', 'n_epochs': 100, 'batch_size': 512}, {'e_sa': 4, 'e_ra': 4, 'd_sa': 8, 'd_ra': 0, 'd_cross': 8, 'e_n_layers': 3, 'd_n_layers': 3, 'd_model': 128, 'dff': 256, 'symbol_type': 'position_relative', 'ra_type': 'relational_attention', 'task': 'algebra__linear_1d', 'n_epochs': 100, 'batch_size': 512}, {'e_sa': 4, 'e_ra': 4, 'd_sa': 8, 'd_ra': 0, 'd_cross': 8, 'e_n_layers': 3, 'd_n_layers': 3, 'd_model': 128, 'dff': 256, 'symbol_type': 'position_relative', 'ra_type': 'relational_attention', 'task': 'polynomials__add', 'n_epochs': 100, 'batch_size': 512}, {'e_sa': 4, 'e_ra': 4, 'd_sa': 8, 'd_ra': 0, 'd_cross': 8, 'e_n_layers': 3, 'd_n_layers': 3, 'd_model': 128, 'dff': 256, 'symbol_type': 'position_relative', 'ra_type': 'relational_attention', 'task': 'polynomials__expand', 'n_epochs': 100, 'batch_size': 512}, {'e_sa': 4, 'e_ra': 4, 'd_sa': 8, 'd_ra': 0, 'd_cross': 8, 'e_n_layers': 3, 'd_n_layers': 3, 'd_model': 128, 'dff': 256, 'symbol_type': 'position_relative', 'ra_type': 'relational_attention', 'task': 'calculus__differentiate', 'n_epochs': 100, 'batch_size': 512}, {'e_sa': 4, 'e_ra': 4, 'd_sa': 8, 'd_ra': 0, 'd_cross': 8, 'e_n_layers': 3, 'd_n_layers': 3, 'd_model': 128, 'dff': 256, 'symbol_type': 'position_relative', 'ra_type': 'relational_attention', 'task': 'algebra__sequence_next_term', 'n_epochs': 100, 'batch_size': 512}, {'e_sa': 4, 'e_ra': 4, 'd_sa': 4, 'd_ra': 4, 'd_cross': 8, 'e_n_layers': 4, 'd_n_layers': 4, 'd_model': 128, 'dff': 256, 'symbol_type': 'symbolic_attention', 'ra_type': 'relational_attention', 'task': 'algebra__linear_1d', 'n_epochs': 100, 'batch_size': 512}, {'e_sa': 4, 'e_ra': 4, 'd_sa': 4, 'd_ra': 4, 'd_cross': 8, 'e_n_layers': 4, 'd_n_layers': 4, 'd_model': 128, 'dff': 256, 'symbol_type': 'symbolic_attention', 'ra_type': 'relational_attention', 'task': 'polynomials__add', 'n_epochs': 100, 'batch_size': 512}, {'e_sa': 4, 'e_ra': 4, 'd_sa': 4, 'd_ra': 4, 'd_cross': 8, 'e_n_layers': 4, 'd_n_layers': 4, 'd_model': 128, 'dff': 256, 'symbol_type': 'symbolic_attention', 'ra_type': 'relational_attention', 'task': 'polynomials__expand', 'n_epochs': 100, 'batch_size': 512}, {'e_sa': 4, 'e_ra': 4, 'd_sa': 4, 'd_ra': 4, 'd_cross': 8, 'e_n_layers': 4, 'd_n_layers': 4, 'd_model': 128, 'dff': 256, 'symbol_type': 'symbolic_attention', 'ra_type': 'relational_attention', 'task': 'calculus__differentiate', 'n_epochs': 100, 'batch_size': 512}, {'e_sa': 4, 'e_ra': 4, 'd_sa': 4, 'd_ra': 4, 'd_cross': 8, 'e_n_layers': 4, 'd_n_layers': 4, 'd_model': 128, 'dff': 256, 'symbol_type': 'symbolic_attention', 'ra_type': 'relational_attention', 'task': 'algebra__sequence_next_term', 'n_epochs': 100, 'batch_size': 512}, {'e_sa': 4, 'e_ra': 4, 'd_sa': 8, 'd_ra': 0, 'd_cross': 8, 'e_n_layers': 4, 'd_n_layers': 4, 'd_model': 128, 'dff': 256, 'symbol_type': 'symbolic_attention', 'ra_type': 'relational_attention', 'task': 'algebra__linear_1d', 'n_epochs': 100, 'batch_size': 512}, {'e_sa': 4, 'e_ra': 4, 'd_sa': 8, 'd_ra': 0, 'd_cross': 8, 'e_n_layers': 4, 'd_n_layers': 4, 'd_model': 128, 'dff': 256, 'symbol_type': 'symbolic_attention', 'ra_type': 'relational_attention', 'task': 'polynomials__add', 'n_epochs': 100, 'batch_size': 512}, {'e_sa': 4, 'e_ra': 4, 'd_sa': 8, 'd_ra': 0, 'd_cross': 8, 'e_n_layers': 4, 'd_n_layers': 4, 'd_model': 128, 'dff': 256, 'symbol_type': 'symbolic_attention', 'ra_type': 'relational_attention', 'task': 'polynomials__expand', 'n_epochs': 100, 'batch_size': 512}, {'e_sa': 4, 'e_ra': 4, 'd_sa': 8, 'd_ra': 0, 'd_cross': 8, 'e_n_layers': 4, 'd_n_layers': 4, 'd_model': 128, 'dff': 256, 'symbol_type': 'symbolic_attention', 'ra_type': 'relational_attention', 'task': 'calculus__differentiate', 'n_epochs': 100, 'batch_size': 512}, {'e_sa': 4, 'e_ra': 4, 'd_sa': 8, 'd_ra': 0, 'd_cross': 8, 'e_n_layers': 4, 'd_n_layers': 4, 'd_model': 128, 'dff': 256, 'symbol_type': 'symbolic_attention', 'ra_type': 'relational_attention', 'task': 'algebra__sequence_next_term', 'n_epochs': 100, 'batch_size': 512}, {'e_sa': 4, 'e_ra': 4, 'd_sa': 4, 'd_ra': 4, 'd_cross': 8, 'e_n_layers': 4, 'd_n_layers': 4, 'd_model': 128, 'dff': 256, 'symbol_type': 'position_relative', 'ra_type': 'relational_attention', 'task': 'algebra__linear_1d', 'n_epochs': 100, 'batch_size': 512}, {'e_sa': 4, 'e_ra': 4, 'd_sa': 4, 'd_ra': 4, 'd_cross': 8, 'e_n_layers': 4, 'd_n_layers': 4, 'd_model': 128, 'dff': 256, 'symbol_type': 'position_relative', 'ra_type': 'relational_attention', 'task': 'polynomials__add', 'n_epochs': 100, 'batch_size': 512}, {'e_sa': 4, 'e_ra': 4, 'd_sa': 4, 'd_ra': 4, 'd_cross': 8, 'e_n_layers': 4, 'd_n_layers': 4, 'd_model': 128, 'dff': 256, 'symbol_type': 'position_relative', 'ra_type': 'relational_attention', 'task': 'polynomials__expand', 'n_epochs': 100, 'batch_size': 512}, {'e_sa': 4, 'e_ra': 4, 'd_sa': 4, 'd_ra': 4, 'd_cross': 8, 'e_n_layers': 4, 'd_n_layers': 4, 'd_model': 128, 'dff': 256, 'symbol_type': 'position_relative', 'ra_type': 'relational_attention', 'task': 'calculus__differentiate', 'n_epochs': 100, 'batch_size': 512}, {'e_sa': 4, 'e_ra': 4, 'd_sa': 4, 'd_ra': 4, 'd_cross': 8, 'e_n_layers': 4, 'd_n_layers': 4, 'd_model': 128, 'dff': 256, 'symbol_type': 'position_relative', 'ra_type': 'relational_attention', 'task': 'algebra__sequence_next_term', 'n_epochs': 100, 'batch_size': 512}, {'e_sa': 4, 'e_ra': 4, 'd_sa': 8, 'd_ra': 0, 'd_cross': 8, 'e_n_layers': 4, 'd_n_layers': 4, 'd_model': 128, 'dff': 256, 'symbol_type': 'position_relative', 'ra_type': 'relational_attention', 'task': 'algebra__linear_1d', 'n_epochs': 100, 'batch_size': 512}, {'e_sa': 4, 'e_ra': 4, 'd_sa': 8, 'd_ra': 0, 'd_cross': 8, 'e_n_layers': 4, 'd_n_layers': 4, 'd_model': 128, 'dff': 256, 'symbol_type': 'position_relative', 'ra_type': 'relational_attention', 'task': 'polynomials__add', 'n_epochs': 100, 'batch_size': 512}, {'e_sa': 4, 'e_ra': 4, 'd_sa': 8, 'd_ra': 0, 'd_cross': 8, 'e_n_layers': 4, 'd_n_layers': 4, 'd_model': 128, 'dff': 256, 'symbol_type': 'position_relative', 'ra_type': 'relational_attention', 'task': 'polynomials__expand', 'n_epochs': 100, 'batch_size': 512}, {'e_sa': 4, 'e_ra': 4, 'd_sa': 8, 'd_ra': 0, 'd_cross': 8, 'e_n_layers': 4, 'd_n_layers': 4, 'd_model': 128, 'dff': 256, 'symbol_type': 'position_relative', 'ra_type': 'relational_attention', 'task': 'calculus__differentiate', 'n_epochs': 100, 'batch_size': 512}, {'e_sa': 4, 'e_ra': 4, 'd_sa': 8, 'd_ra': 0, 'd_cross': 8, 'e_n_layers': 4, 'd_n_layers': 4, 'd_model': 128, 'dff': 256, 'symbol_type': 'position_relative', 'ra_type': 'relational_attention', 'task': 'algebra__sequence_next_term', 'n_epochs': 100, 'batch_size': 512}]\n",
      "40\n"
     ]
    }
   ],
   "source": [
    "jobs_params = []\n",
    "for model_p, task in itertools.product(model_params, tasks):\n",
    "    jobs_params.append({**model_p, 'task': task, 'n_epochs': n_epochs, 'batch_size': batch_size})\n",
    "print(jobs_params)\n",
    "print(len(jobs_params))"
   ]
  },
  {
   "cell_type": "code",
   "execution_count": 16,
   "metadata": {},
   "outputs": [],
   "source": [
    "# create jobs\n",
    "created_jobs = []\n",
    "for params in jobs_params:\n",
    "\n",
    "    job_name = f\"math--{params['task']}-e_sa{params['e_sa']}-e_ra{params['e_ra']}-d_sa{params['d_sa']}-d_ra{params['d_ra']}-el{params['e_n_layers']}-dl{params['d_n_layers']}-ra_type_{params['ra_type']}\"\n",
    "\n",
    "    job_file = os.path.join(job_directory, f\"{job_name}.job\")\n",
    "\n",
    "    with open(job_file, 'w') as fh:\n",
    "        fh.writelines(f\"#!/bin/bash\\n\")\n",
    "        fh.writelines(f\"#SBATCH --partition={partition}\\n\")\n",
    "        fh.writelines(f\"#SBATCH --job-name={job_name}\\n\")\n",
    "        fh.writelines(f\"#SBATCH --output={out_dir}/%j-{job_name}.out\\n\")\n",
    "        fh.writelines(f\"#SBATCH --ntasks={ntasks} --nodes={nodes}\\n\")\n",
    "        fh.writelines(f\"#SBATCH --cpus-per-task={cpu_per_task}\\n\")\n",
    "        fh.writelines(f\"#SBATCH --mem-per-cpu={mem_per_cpu}G\\n\")\n",
    "        fh.writelines(f\"#SBATCH --time={time_str}\\n\")\n",
    "        fh.writelines(f\"#SBATCH --mail-type=ALL\\n\")\n",
    "        fh.writelines(f\"#SBATCH --gpus={n_gpus}\\n\")\n",
    "        # fh.writelines(f\"#SBATCH -C {gpus_constraints}\\n\")# --gpus={n_gpus}\\n\")\n",
    "\n",
    "        fh.writelines('\\n')\n",
    "        fh.writelines('module load StdEnv\\n')\n",
    "        fh.writelines('export SLURM_EXPORT_ENV=ALL\\n')\n",
    "        fh.writelines('\\n')\n",
    "\n",
    "        # fh.writelines(f\"module restore python_env\\n\") # load modules i need\n",
    "        fh.writelines(f\"module load miniconda\\n\") # load modules i need\n",
    "        # fh.writelines(f\"conda init\\n\")\n",
    "        fh.writelines(f\"conda activate abstract_transformer\\n\") # activate conda environment\n",
    "        fh.writelines(f\"conda info --envs\\n\") # activate conda environment\n",
    "\n",
    "        fh.writelines('\\n')\n",
    "        fh.writelines(f\"nvidia-smi -L\\n\") # print gpu information\n",
    "        fh.writelines('\\n')\n",
    "\n",
    "        fh.writelines(f\"cd {project_dir}\\n\") # navigate to project directory\n",
    "        # run python script\n",
    "        fh.writelines(f\"python train_model.py \")\n",
    "        fh.writelines(f\"--task {params['task']} --n_epochs {params['n_epochs']} --batch_size {params['batch_size']} \")\n",
    "        fh.writelines(f\"--e_sa {params['e_sa']} --e_ra {params['e_ra']} --d_sa {params['d_sa']} --d_ra {params['d_ra']} --d_cross {params['d_cross']} \")\n",
    "        fh.writelines(f\"--d_model {params['d_model']} --dff {params['dff']} --ra_type {params['ra_type']} --symbol_type {params['symbol_type']} \")\n",
    "        fh.writelines(f\"--e_n_layers {params['e_n_layers']} --d_n_layers {params['d_n_layers']}\\n\")\n",
    "\n",
    "    created_jobs.append(job_file)"
   ]
  },
  {
   "cell_type": "code",
   "execution_count": 17,
   "metadata": {},
   "outputs": [
    {
     "name": "stdout",
     "output_type": "stream",
     "text": [
      "Submitted batch job 27174\n",
      "Submitted batch job 27175\n",
      "Submitted batch job 27176\n",
      "Submitted batch job 27177\n",
      "Submitted batch job 27178\n",
      "Submitted batch job 27179\n",
      "Submitted batch job 27180\n",
      "Submitted batch job 27181\n",
      "Submitted batch job 27182\n",
      "Submitted batch job 27183\n",
      "Submitted batch job 27184\n",
      "Submitted batch job 27185\n",
      "Submitted batch job 27186\n",
      "Submitted batch job 27187\n",
      "Submitted batch job 27188\n",
      "Submitted batch job 27189\n",
      "Submitted batch job 27190\n",
      "Submitted batch job 27191\n",
      "Submitted batch job 27192\n",
      "Submitted batch job 27193\n",
      "Submitted batch job 27194\n",
      "Submitted batch job 27195\n",
      "Submitted batch job 27196\n",
      "Submitted batch job 27197\n",
      "Submitted batch job 27198\n",
      "Submitted batch job 27199\n",
      "Submitted batch job 27200\n",
      "Submitted batch job 27201\n",
      "Submitted batch job 27202\n",
      "Submitted batch job 27203\n",
      "Submitted batch job 27204\n",
      "Submitted batch job 27205\n",
      "Submitted batch job 27206\n",
      "Submitted batch job 27207\n",
      "Submitted batch job 27208\n",
      "Submitted batch job 27209\n",
      "Submitted batch job 27210\n",
      "Submitted batch job 27211\n",
      "Submitted batch job 27212\n",
      "Submitted batch job 27213\n"
     ]
    }
   ],
   "source": [
    "proceed = input(\"Run all jobs? [Y/y or N/n]\")\n",
    "if proceed in ('Y', 'y'):\n",
    "    for job in created_jobs:\n",
    "        os.system(f'sbatch {job}')"
   ]
  },
  {
   "cell_type": "code",
   "execution_count": 18,
   "metadata": {},
   "outputs": [
    {
     "data": {
      "text/plain": [
       "['math/math--algebra__linear_1d-e_sa4-e_ra4-d_sa4-d_ra4-el3-dl3-ra_type_relational_attention.job',\n",
       " 'math/math--polynomials__add-e_sa4-e_ra4-d_sa4-d_ra4-el3-dl3-ra_type_relational_attention.job',\n",
       " 'math/math--polynomials__expand-e_sa4-e_ra4-d_sa4-d_ra4-el3-dl3-ra_type_relational_attention.job',\n",
       " 'math/math--calculus__differentiate-e_sa4-e_ra4-d_sa4-d_ra4-el3-dl3-ra_type_relational_attention.job',\n",
       " 'math/math--algebra__sequence_next_term-e_sa4-e_ra4-d_sa4-d_ra4-el3-dl3-ra_type_relational_attention.job',\n",
       " 'math/math--algebra__linear_1d-e_sa4-e_ra4-d_sa8-d_ra0-el3-dl3-ra_type_relational_attention.job',\n",
       " 'math/math--polynomials__add-e_sa4-e_ra4-d_sa8-d_ra0-el3-dl3-ra_type_relational_attention.job',\n",
       " 'math/math--polynomials__expand-e_sa4-e_ra4-d_sa8-d_ra0-el3-dl3-ra_type_relational_attention.job',\n",
       " 'math/math--calculus__differentiate-e_sa4-e_ra4-d_sa8-d_ra0-el3-dl3-ra_type_relational_attention.job',\n",
       " 'math/math--algebra__sequence_next_term-e_sa4-e_ra4-d_sa8-d_ra0-el3-dl3-ra_type_relational_attention.job',\n",
       " 'math/math--algebra__linear_1d-e_sa4-e_ra4-d_sa4-d_ra4-el3-dl3-ra_type_relational_attention.job',\n",
       " 'math/math--polynomials__add-e_sa4-e_ra4-d_sa4-d_ra4-el3-dl3-ra_type_relational_attention.job',\n",
       " 'math/math--polynomials__expand-e_sa4-e_ra4-d_sa4-d_ra4-el3-dl3-ra_type_relational_attention.job',\n",
       " 'math/math--calculus__differentiate-e_sa4-e_ra4-d_sa4-d_ra4-el3-dl3-ra_type_relational_attention.job',\n",
       " 'math/math--algebra__sequence_next_term-e_sa4-e_ra4-d_sa4-d_ra4-el3-dl3-ra_type_relational_attention.job',\n",
       " 'math/math--algebra__linear_1d-e_sa4-e_ra4-d_sa8-d_ra0-el3-dl3-ra_type_relational_attention.job',\n",
       " 'math/math--polynomials__add-e_sa4-e_ra4-d_sa8-d_ra0-el3-dl3-ra_type_relational_attention.job',\n",
       " 'math/math--polynomials__expand-e_sa4-e_ra4-d_sa8-d_ra0-el3-dl3-ra_type_relational_attention.job',\n",
       " 'math/math--calculus__differentiate-e_sa4-e_ra4-d_sa8-d_ra0-el3-dl3-ra_type_relational_attention.job',\n",
       " 'math/math--algebra__sequence_next_term-e_sa4-e_ra4-d_sa8-d_ra0-el3-dl3-ra_type_relational_attention.job',\n",
       " 'math/math--algebra__linear_1d-e_sa4-e_ra4-d_sa4-d_ra4-el4-dl4-ra_type_relational_attention.job',\n",
       " 'math/math--polynomials__add-e_sa4-e_ra4-d_sa4-d_ra4-el4-dl4-ra_type_relational_attention.job',\n",
       " 'math/math--polynomials__expand-e_sa4-e_ra4-d_sa4-d_ra4-el4-dl4-ra_type_relational_attention.job',\n",
       " 'math/math--calculus__differentiate-e_sa4-e_ra4-d_sa4-d_ra4-el4-dl4-ra_type_relational_attention.job',\n",
       " 'math/math--algebra__sequence_next_term-e_sa4-e_ra4-d_sa4-d_ra4-el4-dl4-ra_type_relational_attention.job',\n",
       " 'math/math--algebra__linear_1d-e_sa4-e_ra4-d_sa8-d_ra0-el4-dl4-ra_type_relational_attention.job',\n",
       " 'math/math--polynomials__add-e_sa4-e_ra4-d_sa8-d_ra0-el4-dl4-ra_type_relational_attention.job',\n",
       " 'math/math--polynomials__expand-e_sa4-e_ra4-d_sa8-d_ra0-el4-dl4-ra_type_relational_attention.job',\n",
       " 'math/math--calculus__differentiate-e_sa4-e_ra4-d_sa8-d_ra0-el4-dl4-ra_type_relational_attention.job',\n",
       " 'math/math--algebra__sequence_next_term-e_sa4-e_ra4-d_sa8-d_ra0-el4-dl4-ra_type_relational_attention.job',\n",
       " 'math/math--algebra__linear_1d-e_sa4-e_ra4-d_sa4-d_ra4-el4-dl4-ra_type_relational_attention.job',\n",
       " 'math/math--polynomials__add-e_sa4-e_ra4-d_sa4-d_ra4-el4-dl4-ra_type_relational_attention.job',\n",
       " 'math/math--polynomials__expand-e_sa4-e_ra4-d_sa4-d_ra4-el4-dl4-ra_type_relational_attention.job',\n",
       " 'math/math--calculus__differentiate-e_sa4-e_ra4-d_sa4-d_ra4-el4-dl4-ra_type_relational_attention.job',\n",
       " 'math/math--algebra__sequence_next_term-e_sa4-e_ra4-d_sa4-d_ra4-el4-dl4-ra_type_relational_attention.job',\n",
       " 'math/math--algebra__linear_1d-e_sa4-e_ra4-d_sa8-d_ra0-el4-dl4-ra_type_relational_attention.job',\n",
       " 'math/math--polynomials__add-e_sa4-e_ra4-d_sa8-d_ra0-el4-dl4-ra_type_relational_attention.job',\n",
       " 'math/math--polynomials__expand-e_sa4-e_ra4-d_sa8-d_ra0-el4-dl4-ra_type_relational_attention.job',\n",
       " 'math/math--calculus__differentiate-e_sa4-e_ra4-d_sa8-d_ra0-el4-dl4-ra_type_relational_attention.job',\n",
       " 'math/math--algebra__sequence_next_term-e_sa4-e_ra4-d_sa8-d_ra0-el4-dl4-ra_type_relational_attention.job']"
      ]
     },
     "execution_count": 18,
     "metadata": {},
     "output_type": "execute_result"
    }
   ],
   "source": [
    "created_jobs"
   ]
  }
 ],
 "metadata": {
  "kernelspec": {
   "display_name": "Python 3.11.7 ('abstract_transformer')",
   "language": "python",
   "name": "python3"
  },
  "language_info": {
   "codemirror_mode": {
    "name": "ipython",
    "version": 3
   },
   "file_extension": ".py",
   "mimetype": "text/x-python",
   "name": "python",
   "nbconvert_exporter": "python",
   "pygments_lexer": "ipython3",
   "version": "3.11.7"
  },
  "orig_nbformat": 4,
  "vscode": {
   "interpreter": {
    "hash": "8af8745886d4de51e837abafc38af8fb9452f5565518612da5aaf75440d8b7fa"
   }
  }
 },
 "nbformat": 4,
 "nbformat_minor": 2
}
