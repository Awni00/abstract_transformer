{
 "cells": [
  {
   "cell_type": "markdown",
   "metadata": {},
   "source": [
    "# Generating figures for paper"
   ]
  },
  {
   "cell_type": "code",
   "execution_count": 31,
   "metadata": {},
   "outputs": [],
   "source": [
    "import pandas as pd\n",
    "import numpy as np\n",
    "import scipy\n",
    "import plotly.express as px\n",
    "import matplotlib.pyplot as plt\n",
    "\n",
    "save_dir = 'plotly_figs'\n",
    "theme = 'plotly_white'"
   ]
  },
  {
   "cell_type": "code",
   "execution_count": 32,
   "metadata": {},
   "outputs": [],
   "source": [
    "our_model_name = 'Dual-Attn Transformer'# 'Orthrus' # 'AbstractTransformer' # Orthrus"
   ]
  },
  {
   "cell_type": "code",
   "execution_count": 33,
   "metadata": {},
   "outputs": [],
   "source": [
    "cmap = plt.cm.tab20"
   ]
  },
  {
   "cell_type": "code",
   "execution_count": 34,
   "metadata": {},
   "outputs": [],
   "source": [
    "def convert_to_plotly_color(color):\n",
    "    r, g, b, a = color\n",
    "    r, g, b, a = int(r*255), int(g*255), int(b*255), a\n",
    "    # return f'rgba({r}, {g}, {b}, {a})'\n",
    "    return f'rgb({r}, {g}, {b})'"
   ]
  },
  {
   "cell_type": "markdown",
   "metadata": {},
   "source": [
    "## Relational Games"
   ]
  },
  {
   "cell_type": "code",
   "execution_count": 35,
   "metadata": {},
   "outputs": [],
   "source": [
    "relgames_data = pd.read_csv('figure_data/relgames/relgames_data.csv')\n",
    "\n",
    "def process_groupname(group_name):\n",
    "    task, model_name = group_name.split('__')\n",
    "    return model_name\n",
    "\n",
    "\n",
    "L, total_n_heads = 2, 2\n",
    "filter_ = (relgames_data['n_layers'] == L) & ((relgames_data['n_heads_rca'] + relgames_data['n_heads_sa'] == total_n_heads) | (relgames_data['n_heads'] == total_n_heads)) & (relgames_data['train_size'] <= 25_000)\n",
    "figure_data = relgames_data[filter_]\n",
    "\n",
    "figure_data['Model'] = figure_data['group'].apply(process_groupname)\n",
    "\n",
    "figure_data.rename(columns={'train_size': 'Training Set Size', 'test/acc_in_distribution': 'Generalization Accuracy', 'task': 'Task'}, inplace=True)"
   ]
  },
  {
   "cell_type": "code",
   "execution_count": 36,
   "metadata": {},
   "outputs": [],
   "source": [
    "def parse_rel_symmetry(group_name):\n",
    "    if 'sym_rel=True' in group_name:\n",
    "        return True\n",
    "    elif 'sym_rel=False' in group_name:\n",
    "        return False\n",
    "    else:\n",
    "        return None\n",
    "\n",
    "figure_data['Symmetric RA'] = figure_data['group'].apply(parse_rel_symmetry)"
   ]
  },
  {
   "cell_type": "code",
   "execution_count": 37,
   "metadata": {},
   "outputs": [],
   "source": [
    "models = [\n",
    "    'sa=2; d=128; L=2',\n",
    "    'sa=1; rca=1; d=128; L=2; rca_type=disentangled_v2; sym_rel=True; symbol_type=pos_sym_retriever',\n",
    "    'sa=0; rca=2; d=128; L=2; rca_type=disentangled_v2; sym_rel=True; symbol_type=pos_sym_retriever',\n",
    "    'sa=1; rca=1; d=128; L=2; rca_type=disentangled_v2; sym_rel=False; symbol_type=pos_sym_retriever',\n",
    "    'sa=0; rca=2; d=128; L=2; rca_type=disentangled_v2; sym_rel=False; symbol_type=pos_sym_retriever',\n",
    "    'sa=1; rca=1; d=128; L=2; rca_type=standard; sym_rel=False; symbol_type=pos_sym_retriever',\n",
    "    'sa=0; rca=2; d=128; L=2; rca_type=standard; sym_rel=False; symbol_type=pos_sym_retriever',\n",
    "    ]\n",
    "model_name_map = {\n",
    "    'sa=2; d=128; L=2': '$\\\\text{Transformer}\\ (n_h^{sa}=2, n_h^{ra}=0)$',\n",
    "    'sa=1; rca=1; d=128; L=2; rca_type=disentangled_v2; sym_rel=True; symbol_type=pos_sym_retriever': f'$\\\\text{{{our_model_name}}}\\\\ (n_h^{{sa}}=1, n_h^{{ra}}=1)$',\n",
    "    'sa=0; rca=2; d=128; L=2; rca_type=disentangled_v2; sym_rel=True; symbol_type=pos_sym_retriever': f'$\\\\text{{{our_model_name}}}\\\\ (n_h^{{sa}}=0, n_h^{{ra}}=2)$',\n",
    "    'sa=1; rca=1; d=128; L=2; rca_type=disentangled_v2; sym_rel=False; symbol_type=pos_sym_retriever': f'{our_model_name} [asymmetric] ($n_h^{{sa}}=1, n_h^{{ra}}=1)$',\n",
    "    'sa=0; rca=2; d=128; L=2; rca_type=disentangled_v2; sym_rel=False; symbol_type=pos_sym_retriever': f'{our_model_name} [asymmetric] ($n_h^{{sa}}=0, n_h^{{ra}}=2)$',\n",
    "    'sa=1; rca=1; d=128; L=2; rca_type=standard; sym_rel=False; symbol_type=pos_sym_retriever': \"Abstractor's RCA ($n_h^{{sa}}=1, n_h^{{ra}}=1)$\",\n",
    "    'sa=0; rca=2; d=128; L=2; rca_type=standard; sym_rel=False; symbol_type=pos_sym_retriever': \"Abstractor's RCA ($n_h^{{sa}}=0, n_h^{{ra}}=2)$\",\n",
    "    }\n",
    "models = [model_name_map[m] for m in models]\n",
    "\n",
    "tasks = ['same', 'occurs', 'xoccurs', '1task_between', '1task_match_patt']\n",
    "# task_name_map = {\n",
    "#     '1task_between': r'$\\texttt{between}$', '1task_match_patt': r'$\\texttt{match pattern}$',\n",
    "#     'same': r'$\\texttt{same}$', 'occurs': r'$\\texttt{occurs}$', 'xoccurs': r'$\\texttt{xoccurs}$'}\n",
    "task_name_map = {\n",
    "    '1task_between': 'between', '1task_match_patt': 'match pattern',\n",
    "    'same': 'same', 'occurs': 'occurs', 'xoccurs': 'xoccurs'}\n",
    "tasks = [task_name_map[t] for t in tasks]\n",
    "\n",
    "figure_data['Model'] = pd.Categorical(figure_data['Model'].map(model_name_map), models, ordered=True)\n",
    "figure_data['Task'] = pd.Categorical(figure_data['Task'].map(task_name_map), tasks, ordered=True)\n",
    "\n",
    "\n",
    "color_map_ = {\n",
    "    f'$\\\\text{{{our_model_name}}}\\\\ (n_h^{{sa}}=1, n_h^{{ra}}=1)$': cmap(8), # purple\n",
    "    f'$\\\\text{{{our_model_name}}}\\\\ (n_h^{{sa}}=0, n_h^{{ra}}=2)$': cmap(0), # blue\n",
    "    f'{our_model_name} [asymmetric] ($n_h^{{sa}}=1, n_h^{{ra}}=1)$': cmap(8), # purple\n",
    "    f'{our_model_name} [asymmetric] ($n_h^{{sa}}=0, n_h^{{ra}}=2)$': cmap(0), # blue\n",
    "    '$\\\\text{Transformer}\\ (n_h^{sa}=2, n_h^{ra}=0)$': cmap(6), # red\n",
    "    \"Abstractor's RCA ($n_h^{{sa}}=1, n_h^{{ra}}=1)$\": cmap(8),\n",
    "    \"Abstractor's RCA ($n_h^{{sa}}=0, n_h^{{ra}}=2)$\": cmap(0),\n",
    "    # 'Transformer+': cmap(4),\n",
    "    }\n",
    "\n",
    "color_map = {k: convert_to_plotly_color(color_map_[k]) for k in color_map_}"
   ]
  },
  {
   "cell_type": "code",
   "execution_count": 38,
   "metadata": {},
   "outputs": [],
   "source": [
    "metric = 'Generalization Accuracy'\n",
    "figure_data_ = figure_data[figure_data['Symmetric RA']!=False]\n",
    "figure_data_ = figure_data_.groupby(['Model', 'Task', 'Training Set Size'])[metric].aggregate(['mean', 'std', 'count', 'sem']).reset_index()"
   ]
  },
  {
   "cell_type": "code",
   "execution_count": 39,
   "metadata": {},
   "outputs": [
    {
     "data": {
      "application/vnd.plotly.v1+json": {
       "config": {
        "plotlyServerURL": "https://plot.ly"
       },
       "data": [
        {
         "error_y": {
          "array": [
           0.006208099671673197,
           0.012822906056486017,
           0.00406960944711153,
           0.00428435041134043,
           0.003623526800148982,
           0.003271522168473549,
           0.0022791914843301926,
           0.0024715688188646965,
           0.0024583759310158803,
           0.0033530157058621855
          ],
          "type": "data",
          "visible": true
         },
         "line": {
          "color": "rgb(214, 39, 40)"
         },
         "mode": "lines",
         "name": "$\\text{Transformer}\\ (n_h^{sa}=2, n_h^{ra}=0)$",
         "type": "scatter",
         "x": [
          250,
          500,
          750,
          1000,
          1250,
          1500,
          1750,
          2000,
          2250,
          2500
         ],
         "y": [
          0.658950001001358,
          0.7880400061607361,
          0.8551799952983856,
          0.8865100085735321,
          0.9155799984931946,
          0.9250799953937531,
          0.9342599928379058,
          0.9425700008869171,
          0.9485599935054779,
          0.9486777782440186
         ]
        },
        {
         "error_y": {
          "array": [
           0.007461157987828272,
           0.011927746024167742,
           0.0067080061565542365,
           0.0023242085367097777,
           0.0026326549725128236,
           0.0024632855935122324,
           0.0034854660908033943,
           0.0014927251319744263,
           0.003940980480652025,
           0.003266021255848893
          ],
          "type": "data",
          "visible": true
         },
         "line": {
          "color": "rgb(148, 103, 189)"
         },
         "mode": "lines",
         "name": "$\\text{Dual-Attn Transformer}\\ (n_h^{sa}=1, n_h^{ra}=1)$",
         "type": "scatter",
         "x": [
          250,
          500,
          750,
          1000,
          1250,
          1500,
          1750,
          2000,
          2250,
          2500
         ],
         "y": [
          0.6387199997901917,
          0.7435999929904937,
          0.8284300029277801,
          0.8801199972629548,
          0.899399995803833,
          0.9023299932479858,
          0.9167699992656708,
          0.9290999889373779,
          0.9372999966144562,
          0.9398000001907348
         ]
        },
        {
         "error_y": {
          "array": [
           0.007755917645565265,
           0.004850649326637723,
           0.006075040866292805,
           0.002414575583214803,
           0.003739333599209054,
           0.003895311230126188,
           0.004772218625776381,
           0.004606912874107022,
           0.00399096799707186,
           0.004828836043137342
          ],
          "type": "data",
          "visible": true
         },
         "line": {
          "color": "rgb(31, 119, 180)"
         },
         "mode": "lines",
         "name": "$\\text{Dual-Attn Transformer}\\ (n_h^{sa}=0, n_h^{ra}=2)$",
         "type": "scatter",
         "x": [
          250,
          500,
          750,
          1000,
          1250,
          1500,
          1750,
          2000,
          2250,
          2500
         ],
         "y": [
          0.6524399936199188,
          0.7436900019645691,
          0.8148099899291992,
          0.8629199981689453,
          0.8822199940681458,
          0.8980099976062774,
          0.90625,
          0.9144100069999694,
          0.9285600125789643,
          0.9257099986076355
         ]
        },
        {
         "error_y": {
          "array": [],
          "type": "data",
          "visible": true
         },
         "line": {
          "color": "rgb(148, 103, 189)"
         },
         "mode": "lines",
         "name": "Dual-Attn Transformer [asymmetric] ($n_h^{sa}=1, n_h^{ra}=1)$",
         "type": "scatter",
         "x": [],
         "y": []
        },
        {
         "error_y": {
          "array": [],
          "type": "data",
          "visible": true
         },
         "line": {
          "color": "rgb(31, 119, 180)"
         },
         "mode": "lines",
         "name": "Dual-Attn Transformer [asymmetric] ($n_h^{sa}=0, n_h^{ra}=2)$",
         "type": "scatter",
         "x": [],
         "y": []
        },
        {
         "error_y": {
          "array": [],
          "type": "data",
          "visible": true
         },
         "line": {
          "color": "rgb(148, 103, 189)"
         },
         "mode": "lines",
         "name": "Abstractor's RCA ($n_h^{{sa}}=1, n_h^{{ra}}=1)$",
         "type": "scatter",
         "x": [],
         "y": []
        },
        {
         "error_y": {
          "array": [],
          "type": "data",
          "visible": true
         },
         "line": {
          "color": "rgb(31, 119, 180)"
         },
         "mode": "lines",
         "name": "Abstractor's RCA ($n_h^{{sa}}=0, n_h^{{ra}}=2)$",
         "type": "scatter",
         "x": [],
         "y": []
        }
       ],
       "frames": [
        {
         "data": [
          {
           "error_y": {
            "array": [
             0.006208099671673197,
             0.012822906056486017,
             0.00406960944711153,
             0.00428435041134043,
             0.003623526800148982,
             0.003271522168473549,
             0.0022791914843301926,
             0.0024715688188646965,
             0.0024583759310158803,
             0.0033530157058621855
            ],
            "type": "data",
            "visible": true
           },
           "line": {
            "color": "rgb(214, 39, 40)"
           },
           "mode": "lines",
           "name": "$\\text{Transformer}\\ (n_h^{sa}=2, n_h^{ra}=0)$",
           "type": "scatter",
           "x": [
            250,
            500,
            750,
            1000,
            1250,
            1500,
            1750,
            2000,
            2250,
            2500
           ],
           "y": [
            0.658950001001358,
            0.7880400061607361,
            0.8551799952983856,
            0.8865100085735321,
            0.9155799984931946,
            0.9250799953937531,
            0.9342599928379058,
            0.9425700008869171,
            0.9485599935054779,
            0.9486777782440186
           ]
          },
          {
           "error_y": {
            "array": [
             0.007461157987828272,
             0.011927746024167742,
             0.0067080061565542365,
             0.0023242085367097777,
             0.0026326549725128236,
             0.0024632855935122324,
             0.0034854660908033943,
             0.0014927251319744263,
             0.003940980480652025,
             0.003266021255848893
            ],
            "type": "data",
            "visible": true
           },
           "line": {
            "color": "rgb(148, 103, 189)"
           },
           "mode": "lines",
           "name": "$\\text{Dual-Attn Transformer}\\ (n_h^{sa}=1, n_h^{ra}=1)$",
           "type": "scatter",
           "x": [
            250,
            500,
            750,
            1000,
            1250,
            1500,
            1750,
            2000,
            2250,
            2500
           ],
           "y": [
            0.6387199997901917,
            0.7435999929904937,
            0.8284300029277801,
            0.8801199972629548,
            0.899399995803833,
            0.9023299932479858,
            0.9167699992656708,
            0.9290999889373779,
            0.9372999966144562,
            0.9398000001907348
           ]
          },
          {
           "error_y": {
            "array": [
             0.007755917645565265,
             0.004850649326637723,
             0.006075040866292805,
             0.002414575583214803,
             0.003739333599209054,
             0.003895311230126188,
             0.004772218625776381,
             0.004606912874107022,
             0.00399096799707186,
             0.004828836043137342
            ],
            "type": "data",
            "visible": true
           },
           "line": {
            "color": "rgb(31, 119, 180)"
           },
           "mode": "lines",
           "name": "$\\text{Dual-Attn Transformer}\\ (n_h^{sa}=0, n_h^{ra}=2)$",
           "type": "scatter",
           "x": [
            250,
            500,
            750,
            1000,
            1250,
            1500,
            1750,
            2000,
            2250,
            2500
           ],
           "y": [
            0.6524399936199188,
            0.7436900019645691,
            0.8148099899291992,
            0.8629199981689453,
            0.8822199940681458,
            0.8980099976062774,
            0.90625,
            0.9144100069999694,
            0.9285600125789643,
            0.9257099986076355
           ]
          },
          {
           "error_y": {
            "array": [],
            "type": "data",
            "visible": true
           },
           "line": {
            "color": "rgb(148, 103, 189)"
           },
           "mode": "lines",
           "name": "Dual-Attn Transformer [asymmetric] ($n_h^{sa}=1, n_h^{ra}=1)$",
           "type": "scatter",
           "x": [],
           "y": []
          },
          {
           "error_y": {
            "array": [],
            "type": "data",
            "visible": true
           },
           "line": {
            "color": "rgb(31, 119, 180)"
           },
           "mode": "lines",
           "name": "Dual-Attn Transformer [asymmetric] ($n_h^{sa}=0, n_h^{ra}=2)$",
           "type": "scatter",
           "x": [],
           "y": []
          },
          {
           "error_y": {
            "array": [],
            "type": "data",
            "visible": true
           },
           "line": {
            "color": "rgb(148, 103, 189)"
           },
           "mode": "lines",
           "name": "Abstractor's RCA ($n_h^{{sa}}=1, n_h^{{ra}}=1)$",
           "type": "scatter",
           "x": [],
           "y": []
          },
          {
           "error_y": {
            "array": [],
            "type": "data",
            "visible": true
           },
           "line": {
            "color": "rgb(31, 119, 180)"
           },
           "mode": "lines",
           "name": "Abstractor's RCA ($n_h^{{sa}}=0, n_h^{{ra}}=2)$",
           "type": "scatter",
           "x": [],
           "y": []
          }
         ],
         "layout": {
          "xaxis": {
           "range": [
            193.75,
            2556.25
           ]
          },
          "yaxis": {
           "range": [
            0.630971055328846,
            0.9564267227053642
           ]
          }
         },
         "name": "same"
        },
        {
         "data": [
          {
           "error_y": {
            "array": [
             0.002536025238134001,
             0.0040368684725664,
             0.007832674847994952,
             0.012434585939547922,
             0.026514492246300453,
             0.027955074085943006,
             0.029442105912723733,
             0.025186569465212468,
             0.01876494220893169,
             0.011351784915645806
            ],
            "type": "data",
            "visible": true
           },
           "line": {
            "color": "rgb(214, 39, 40)"
           },
           "mode": "lines",
           "name": "$\\text{Transformer}\\ (n_h^{sa}=2, n_h^{ra}=0)$",
           "type": "scatter",
           "x": [
            250,
            500,
            750,
            1000,
            1250,
            1500,
            1750,
            2000,
            2250,
            2500
           ],
           "y": [
            0.5373900055885314,
            0.5763099968433381,
            0.6233900010585784,
            0.657589989900589,
            0.7358699917793274,
            0.7894799947738648,
            0.8471700072288513,
            0.8563199996948242,
            0.9098099887371063,
            0.9275200068950653
           ]
          },
          {
           "error_y": {
            "array": [
             0.005399906171289049,
             0.014517439591323367,
             0.006584948109886284,
             0.004792536808725057,
             0.004142099566191265,
             0.002234838786146011,
             0.0036160888548400494,
             0.002367784931763517,
             0.002162462299622347,
             0.003267543939761642
            ],
            "type": "data",
            "visible": true
           },
           "line": {
            "color": "rgb(148, 103, 189)"
           },
           "mode": "lines",
           "name": "$\\text{Dual-Attn Transformer}\\ (n_h^{sa}=1, n_h^{ra}=1)$",
           "type": "scatter",
           "x": [
            250,
            500,
            750,
            1000,
            1250,
            1500,
            1750,
            2000,
            2250,
            2500
           ],
           "y": [
            0.6187100052833557,
            0.7746900022029877,
            0.8546999990940094,
            0.8952799916267395,
            0.9004099905490875,
            0.9134500026702881,
            0.9184900045394897,
            0.9280799865722656,
            0.9263300001621246,
            0.928519994020462
           ]
          },
          {
           "error_y": {
            "array": [
             0.004647463769645841,
             0.010373923109067157,
             0.0060312133617764834,
             0.0034572349833791602,
             0.0050816470904507475,
             0.003937547422044071,
             0.003074088580578415,
             0.002790744822415783,
             0.002676107963596683,
             0.003243296057276759
            ],
            "type": "data",
            "visible": true
           },
           "line": {
            "color": "rgb(31, 119, 180)"
           },
           "mode": "lines",
           "name": "$\\text{Dual-Attn Transformer}\\ (n_h^{sa}=0, n_h^{ra}=2)$",
           "type": "scatter",
           "x": [
            250,
            500,
            750,
            1000,
            1250,
            1500,
            1750,
            2000,
            2250,
            2500
           ],
           "y": [
            0.632260000705719,
            0.7868500053882599,
            0.8542700052261353,
            0.8862599968910218,
            0.8993699967861175,
            0.909850001335144,
            0.9195300042629242,
            0.9163599967956543,
            0.9299000024795532,
            0.9311500012874603
           ]
          },
          {
           "error_y": {
            "array": [],
            "type": "data",
            "visible": true
           },
           "line": {
            "color": "rgb(148, 103, 189)"
           },
           "mode": "lines",
           "name": "Dual-Attn Transformer [asymmetric] ($n_h^{sa}=1, n_h^{ra}=1)$",
           "type": "scatter",
           "x": [],
           "y": []
          },
          {
           "error_y": {
            "array": [],
            "type": "data",
            "visible": true
           },
           "line": {
            "color": "rgb(31, 119, 180)"
           },
           "mode": "lines",
           "name": "Dual-Attn Transformer [asymmetric] ($n_h^{sa}=0, n_h^{ra}=2)$",
           "type": "scatter",
           "x": [],
           "y": []
          },
          {
           "error_y": {
            "array": [],
            "type": "data",
            "visible": true
           },
           "line": {
            "color": "rgb(148, 103, 189)"
           },
           "mode": "lines",
           "name": "Abstractor's RCA ($n_h^{{sa}}=1, n_h^{{ra}}=1)$",
           "type": "scatter",
           "x": [],
           "y": []
          },
          {
           "error_y": {
            "array": [],
            "type": "data",
            "visible": true
           },
           "line": {
            "color": "rgb(31, 119, 180)"
           },
           "mode": "lines",
           "name": "Abstractor's RCA ($n_h^{{sa}}=0, n_h^{{ra}}=2)$",
           "type": "scatter",
           "x": [],
           "y": []
          }
         ],
         "layout": {
          "xaxis": {
           "range": [
            193.75,
            2556.25
           ]
          },
          "yaxis": {
           "range": [
            0.5275460056960583,
            0.9409940011799335
           ]
          }
         },
         "name": "occurs"
        },
        {
         "data": [
          {
           "error_y": {
            "array": [
             0.0025523953057481927,
             0.0014535922814819537,
             0.002438123666693433,
             0.002164310048150256,
             0.0019632614499903167,
             0.0049611608929831475,
             0.006446774648084581,
             0.008461628456995423,
             0.008085073440519272,
             0.033278975126069026
            ],
            "type": "data",
            "visible": true
           },
           "line": {
            "color": "rgb(214, 39, 40)"
           },
           "mode": "lines",
           "name": "$\\text{Transformer}\\ (n_h^{sa}=2, n_h^{ra}=0)$",
           "type": "scatter",
           "x": [
            250,
            500,
            750,
            1000,
            1250,
            1500,
            1750,
            2000,
            2250,
            2500
           ],
           "y": [
            0.51075000166893,
            0.5188400030136109,
            0.5338999986648559,
            0.5453300058841706,
            0.5644799888134002,
            0.5650700092315674,
            0.5974700093269348,
            0.613560003042221,
            0.6245800077915191,
            0.684170001745224
           ]
          },
          {
           "error_y": {
            "array": [
             0.0029725935264404155,
             0.005195410674297937,
             0.0061562576778830085,
             0.008323228111679891,
             0.01814854488863798,
             0.016854872204638865,
             0.004584229000128059,
             0.007839427293127019,
             0.006614922173241598,
             0.009260468324882164
            ],
            "type": "data",
            "visible": true
           },
           "line": {
            "color": "rgb(148, 103, 189)"
           },
           "mode": "lines",
           "name": "$\\text{Dual-Attn Transformer}\\ (n_h^{sa}=1, n_h^{ra}=1)$",
           "type": "scatter",
           "x": [
            250,
            500,
            750,
            1000,
            1250,
            1500,
            1750,
            2000,
            2250,
            2500
           ],
           "y": [
            0.5218100070953369,
            0.5425599992275238,
            0.5849800050258637,
            0.6342100024223327,
            0.7157400012016296,
            0.7228700041770935,
            0.8274599969387054,
            0.8523000001907348,
            0.8664100050926209,
            0.8734499990940094
           ]
          },
          {
           "error_y": {
            "array": [
             0.001730704093409212,
             0.0061869553924606985,
             0.00783158620245823,
             0.013749227573857463,
             0.01327414802157246,
             0.016959311323227703,
             0.006704467060185107,
             0.006738514750554585,
             0.004423848872010152,
             0.003461178506723257
            ],
            "type": "data",
            "visible": true
           },
           "line": {
            "color": "rgb(31, 119, 180)"
           },
           "mode": "lines",
           "name": "$\\text{Dual-Attn Transformer}\\ (n_h^{sa}=0, n_h^{ra}=2)$",
           "type": "scatter",
           "x": [
            250,
            500,
            750,
            1000,
            1250,
            1500,
            1750,
            2000,
            2250,
            2500
           ],
           "y": [
            0.5203000009059906,
            0.5563800036907196,
            0.6200200080871582,
            0.6655699968338012,
            0.7535100042819977,
            0.7721699893474578,
            0.8234099924564362,
            0.8602599918842315,
            0.873199999332428,
            0.8857000052928925
           ]
          },
          {
           "error_y": {
            "array": [],
            "type": "data",
            "visible": true
           },
           "line": {
            "color": "rgb(148, 103, 189)"
           },
           "mode": "lines",
           "name": "Dual-Attn Transformer [asymmetric] ($n_h^{sa}=1, n_h^{ra}=1)$",
           "type": "scatter",
           "x": [],
           "y": []
          },
          {
           "error_y": {
            "array": [],
            "type": "data",
            "visible": true
           },
           "line": {
            "color": "rgb(31, 119, 180)"
           },
           "mode": "lines",
           "name": "Dual-Attn Transformer [asymmetric] ($n_h^{sa}=0, n_h^{ra}=2)$",
           "type": "scatter",
           "x": [],
           "y": []
          },
          {
           "error_y": {
            "array": [],
            "type": "data",
            "visible": true
           },
           "line": {
            "color": "rgb(148, 103, 189)"
           },
           "mode": "lines",
           "name": "Abstractor's RCA ($n_h^{{sa}}=1, n_h^{{ra}}=1)$",
           "type": "scatter",
           "x": [],
           "y": []
          },
          {
           "error_y": {
            "array": [],
            "type": "data",
            "visible": true
           },
           "line": {
            "color": "rgb(31, 119, 180)"
           },
           "mode": "lines",
           "name": "Abstractor's RCA ($n_h^{{sa}}=0, n_h^{{ra}}=2)$",
           "type": "scatter",
           "x": [],
           "y": []
          }
         ],
         "layout": {
          "xaxis": {
           "range": [
            193.75,
            2556.25
           ]
          },
          "yaxis": {
           "range": [
            0.501376251578331,
            0.8950737553834915
           ]
          }
         },
         "name": "xoccurs"
        },
        {
         "data": [
          {
           "error_y": {
            "array": [
             0.00970244591832965,
             0.010281301182127724,
             0.01086899938336492,
             0.00523004193180951,
             0.011315851931585932,
             0.0036611433237460477,
             0.0035051793920586384,
             0.005828837050344574,
             0.008214253791410588,
             0.006249146632501939
            ],
            "type": "data",
            "visible": true
           },
           "line": {
            "color": "rgb(214, 39, 40)"
           },
           "mode": "lines",
           "name": "$\\text{Transformer}\\ (n_h^{sa}=2, n_h^{ra}=0)$",
           "type": "scatter",
           "x": [
            250,
            500,
            750,
            1000,
            1250,
            1500,
            1750,
            2000,
            2250,
            2500
           ],
           "y": [
            0.597189998626709,
            0.6645399987697601,
            0.7422299981117249,
            0.787470006942749,
            0.8291099965572357,
            0.859419995546341,
            0.8747399926185608,
            0.8914000034332276,
            0.9199199974536896,
            0.9237500071525574
           ]
          },
          {
           "error_y": {
            "array": [
             0.012336945473862266,
             0.014522027185535986,
             0.009922464339913329,
             0.010205056767926185,
             0.0036298717128787346,
             0.004069566340510597,
             0.0035687875522172263,
             0.0019131022145954073,
             0.0018306316929482807,
             0.0018890441507721197
            ],
            "type": "data",
            "visible": true
           },
           "line": {
            "color": "rgb(148, 103, 189)"
           },
           "mode": "lines",
           "name": "$\\text{Dual-Attn Transformer}\\ (n_h^{sa}=1, n_h^{ra}=1)$",
           "type": "scatter",
           "x": [
            250,
            500,
            750,
            1000,
            1250,
            1500,
            1750,
            2000,
            2250,
            2500
           ],
           "y": [
            0.63992999792099,
            0.7105199992656708,
            0.8164700031280517,
            0.8689499974250794,
            0.8980199992656708,
            0.9112399995326996,
            0.923030000925064,
            0.929420006275177,
            0.9303900063037872,
            0.9375600039958953
           ]
          },
          {
           "error_y": {
            "array": [
             0.013181468460730903,
             0.012388272091472717,
             0.012029234881055638,
             0.007215106926477951,
             0.004264630677389157,
             0.004679559476450444,
             0.0033590761079502884,
             0.003000305771634201,
             0.002048200776496506,
             0.0037862580714203543
            ],
            "type": "data",
            "visible": true
           },
           "line": {
            "color": "rgb(31, 119, 180)"
           },
           "mode": "lines",
           "name": "$\\text{Dual-Attn Transformer}\\ (n_h^{sa}=0, n_h^{ra}=2)$",
           "type": "scatter",
           "x": [
            250,
            500,
            750,
            1000,
            1250,
            1500,
            1750,
            2000,
            2250,
            2500
           ],
           "y": [
            0.6140900075435638,
            0.7501900017261505,
            0.8362600028514862,
            0.8810699939727783,
            0.8974199950695038,
            0.9081500053405762,
            0.920440000295639,
            0.9290499985218048,
            0.9259299993515014,
            0.9312799990177154
           ]
          },
          {
           "error_y": {
            "array": [],
            "type": "data",
            "visible": true
           },
           "line": {
            "color": "rgb(148, 103, 189)"
           },
           "mode": "lines",
           "name": "Dual-Attn Transformer [asymmetric] ($n_h^{sa}=1, n_h^{ra}=1)$",
           "type": "scatter",
           "x": [],
           "y": []
          },
          {
           "error_y": {
            "array": [],
            "type": "data",
            "visible": true
           },
           "line": {
            "color": "rgb(31, 119, 180)"
           },
           "mode": "lines",
           "name": "Dual-Attn Transformer [asymmetric] ($n_h^{sa}=0, n_h^{ra}=2)$",
           "type": "scatter",
           "x": [],
           "y": []
          },
          {
           "error_y": {
            "array": [],
            "type": "data",
            "visible": true
           },
           "line": {
            "color": "rgb(148, 103, 189)"
           },
           "mode": "lines",
           "name": "Abstractor's RCA ($n_h^{{sa}}=1, n_h^{{ra}}=1)$",
           "type": "scatter",
           "x": [],
           "y": []
          },
          {
           "error_y": {
            "array": [],
            "type": "data",
            "visible": true
           },
           "line": {
            "color": "rgb(31, 119, 180)"
           },
           "mode": "lines",
           "name": "Abstractor's RCA ($n_h^{{sa}}=0, n_h^{{ra}}=2)$",
           "type": "scatter",
           "x": [],
           "y": []
          }
         ],
         "layout": {
          "xaxis": {
           "range": [
            193.75,
            2556.25
           ]
          },
          "yaxis": {
           "range": [
            0.5886807484924793,
            0.946069254130125
           ]
          }
         },
         "name": "between"
        },
        {
         "data": [
          {
           "error_y": {
            "array": [
             0.0010187182873772074,
             0.0013849412604455737,
             0.0014098112635367104,
             0.0020571303094430605,
             0.0013250422276521953,
             0.0026204521526034474,
             0.003000668738705049,
             0.003984750093426699,
             0.04046035054165725
            ],
            "type": "data",
            "visible": true
           },
           "line": {
            "color": "rgb(214, 39, 40)"
           },
           "mode": "lines",
           "name": "$\\text{Transformer}\\ (n_h^{sa}=2, n_h^{ra}=0)$",
           "type": "scatter",
           "x": [
            5000,
            7500,
            10000,
            12500,
            15000,
            17500,
            20000,
            22500,
            25000
           ],
           "y": [
            0.5153818293051287,
            0.5188499927520752,
            0.523530000448227,
            0.5286699950695037,
            0.5382799983024598,
            0.5499100029468537,
            0.5561299979686737,
            0.5638699948787689,
            0.6387299954891205
           ]
          },
          {
           "error_y": {
            "array": [
             0.028560392141601904,
             0.044239393327329596,
             0.04367425233126229,
             0.05033535346125859,
             0.044059247837149165,
             0.03765812366424689,
             0.03866052069792613,
             0.026438234003488974,
             0.03242463581526497
            ],
            "type": "data",
            "visible": true
           },
           "line": {
            "color": "rgb(148, 103, 189)"
           },
           "mode": "lines",
           "name": "$\\text{Dual-Attn Transformer}\\ (n_h^{sa}=1, n_h^{ra}=1)$",
           "type": "scatter",
           "x": [
            5000,
            7500,
            10000,
            12500,
            15000,
            17500,
            20000,
            22500,
            25000
           ],
           "y": [
            0.545990916815671,
            0.6064000129699707,
            0.6387199997901917,
            0.7418900012969971,
            0.7395000040531159,
            0.7624400019645691,
            0.8320799946784974,
            0.9010299980640412,
            0.8554499983787537
           ]
          },
          {
           "error_y": {
            "array": [
             0.0045523888677041465,
             0.0521003904887345,
             0.04823735072976977,
             0.046830280997083557,
             0.003076497524077193,
             0.00654791087297859,
             0.008168655496373689,
             0.007443938278647261,
             0.011285270927879598
            ],
            "type": "data",
            "visible": true
           },
           "line": {
            "color": "rgb(31, 119, 180)"
           },
           "mode": "lines",
           "name": "$\\text{Dual-Attn Transformer}\\ (n_h^{sa}=0, n_h^{ra}=2)$",
           "type": "scatter",
           "x": [
            5000,
            7500,
            10000,
            12500,
            15000,
            17500,
            20000,
            22500,
            25000
           ],
           "y": [
            0.528309085152366,
            0.6817300021648407,
            0.7731599986553193,
            0.7915300011634827,
            0.8884799957275391,
            0.9153500020503997,
            0.9302875027060509,
            0.9176499992609024,
            0.927885719708034
           ]
          },
          {
           "error_y": {
            "array": [],
            "type": "data",
            "visible": true
           },
           "line": {
            "color": "rgb(148, 103, 189)"
           },
           "mode": "lines",
           "name": "Dual-Attn Transformer [asymmetric] ($n_h^{sa}=1, n_h^{ra}=1)$",
           "type": "scatter",
           "x": [],
           "y": []
          },
          {
           "error_y": {
            "array": [],
            "type": "data",
            "visible": true
           },
           "line": {
            "color": "rgb(31, 119, 180)"
           },
           "mode": "lines",
           "name": "Dual-Attn Transformer [asymmetric] ($n_h^{sa}=0, n_h^{ra}=2)$",
           "type": "scatter",
           "x": [],
           "y": []
          },
          {
           "error_y": {
            "array": [],
            "type": "data",
            "visible": true
           },
           "line": {
            "color": "rgb(148, 103, 189)"
           },
           "mode": "lines",
           "name": "Abstractor's RCA ($n_h^{{sa}}=1, n_h^{{ra}}=1)$",
           "type": "scatter",
           "x": [],
           "y": []
          },
          {
           "error_y": {
            "array": [],
            "type": "data",
            "visible": true
           },
           "line": {
            "color": "rgb(31, 119, 180)"
           },
           "mode": "lines",
           "name": "Abstractor's RCA ($n_h^{{sa}}=0, n_h^{{ra}}=2)$",
           "type": "scatter",
           "x": [],
           "y": []
          }
         ],
         "layout": {
          "xaxis": {
           "range": [
            4500,
            25500
           ]
          },
          "yaxis": {
           "range": [
            0.5050091874701056,
            0.9406601445410739
           ]
          }
         },
         "name": "match pattern"
        }
       ],
       "layout": {
        "height": 600,
        "legend": {
         "bordercolor": "Black",
         "borderwidth": 1,
         "title": {
          "text": "Model"
         },
         "x": 0.99,
         "xanchor": "right",
         "y": 0.01,
         "yanchor": "bottom"
        },
        "sliders": [
         {
          "steps": [
           {
            "args": [
             [
              "same"
             ]
            ],
            "label": "same",
            "method": "animate"
           },
           {
            "args": [
             [
              "occurs"
             ]
            ],
            "label": "occurs",
            "method": "animate"
           },
           {
            "args": [
             [
              "xoccurs"
             ]
            ],
            "label": "xoccurs",
            "method": "animate"
           },
           {
            "args": [
             [
              "between"
             ]
            ],
            "label": "between",
            "method": "animate"
           },
           {
            "args": [
             [
              "match pattern"
             ]
            ],
            "label": "match pattern",
            "method": "animate"
           }
          ]
         }
        ],
        "template": {
         "data": {
          "bar": [
           {
            "error_x": {
             "color": "#2a3f5f"
            },
            "error_y": {
             "color": "#2a3f5f"
            },
            "marker": {
             "line": {
              "color": "white",
              "width": 0.5
             },
             "pattern": {
              "fillmode": "overlay",
              "size": 10,
              "solidity": 0.2
             }
            },
            "type": "bar"
           }
          ],
          "barpolar": [
           {
            "marker": {
             "line": {
              "color": "white",
              "width": 0.5
             },
             "pattern": {
              "fillmode": "overlay",
              "size": 10,
              "solidity": 0.2
             }
            },
            "type": "barpolar"
           }
          ],
          "carpet": [
           {
            "aaxis": {
             "endlinecolor": "#2a3f5f",
             "gridcolor": "#C8D4E3",
             "linecolor": "#C8D4E3",
             "minorgridcolor": "#C8D4E3",
             "startlinecolor": "#2a3f5f"
            },
            "baxis": {
             "endlinecolor": "#2a3f5f",
             "gridcolor": "#C8D4E3",
             "linecolor": "#C8D4E3",
             "minorgridcolor": "#C8D4E3",
             "startlinecolor": "#2a3f5f"
            },
            "type": "carpet"
           }
          ],
          "choropleth": [
           {
            "colorbar": {
             "outlinewidth": 0,
             "ticks": ""
            },
            "type": "choropleth"
           }
          ],
          "contour": [
           {
            "colorbar": {
             "outlinewidth": 0,
             "ticks": ""
            },
            "colorscale": [
             [
              0,
              "#0d0887"
             ],
             [
              0.1111111111111111,
              "#46039f"
             ],
             [
              0.2222222222222222,
              "#7201a8"
             ],
             [
              0.3333333333333333,
              "#9c179e"
             ],
             [
              0.4444444444444444,
              "#bd3786"
             ],
             [
              0.5555555555555556,
              "#d8576b"
             ],
             [
              0.6666666666666666,
              "#ed7953"
             ],
             [
              0.7777777777777778,
              "#fb9f3a"
             ],
             [
              0.8888888888888888,
              "#fdca26"
             ],
             [
              1,
              "#f0f921"
             ]
            ],
            "type": "contour"
           }
          ],
          "contourcarpet": [
           {
            "colorbar": {
             "outlinewidth": 0,
             "ticks": ""
            },
            "type": "contourcarpet"
           }
          ],
          "heatmap": [
           {
            "colorbar": {
             "outlinewidth": 0,
             "ticks": ""
            },
            "colorscale": [
             [
              0,
              "#0d0887"
             ],
             [
              0.1111111111111111,
              "#46039f"
             ],
             [
              0.2222222222222222,
              "#7201a8"
             ],
             [
              0.3333333333333333,
              "#9c179e"
             ],
             [
              0.4444444444444444,
              "#bd3786"
             ],
             [
              0.5555555555555556,
              "#d8576b"
             ],
             [
              0.6666666666666666,
              "#ed7953"
             ],
             [
              0.7777777777777778,
              "#fb9f3a"
             ],
             [
              0.8888888888888888,
              "#fdca26"
             ],
             [
              1,
              "#f0f921"
             ]
            ],
            "type": "heatmap"
           }
          ],
          "heatmapgl": [
           {
            "colorbar": {
             "outlinewidth": 0,
             "ticks": ""
            },
            "colorscale": [
             [
              0,
              "#0d0887"
             ],
             [
              0.1111111111111111,
              "#46039f"
             ],
             [
              0.2222222222222222,
              "#7201a8"
             ],
             [
              0.3333333333333333,
              "#9c179e"
             ],
             [
              0.4444444444444444,
              "#bd3786"
             ],
             [
              0.5555555555555556,
              "#d8576b"
             ],
             [
              0.6666666666666666,
              "#ed7953"
             ],
             [
              0.7777777777777778,
              "#fb9f3a"
             ],
             [
              0.8888888888888888,
              "#fdca26"
             ],
             [
              1,
              "#f0f921"
             ]
            ],
            "type": "heatmapgl"
           }
          ],
          "histogram": [
           {
            "marker": {
             "pattern": {
              "fillmode": "overlay",
              "size": 10,
              "solidity": 0.2
             }
            },
            "type": "histogram"
           }
          ],
          "histogram2d": [
           {
            "colorbar": {
             "outlinewidth": 0,
             "ticks": ""
            },
            "colorscale": [
             [
              0,
              "#0d0887"
             ],
             [
              0.1111111111111111,
              "#46039f"
             ],
             [
              0.2222222222222222,
              "#7201a8"
             ],
             [
              0.3333333333333333,
              "#9c179e"
             ],
             [
              0.4444444444444444,
              "#bd3786"
             ],
             [
              0.5555555555555556,
              "#d8576b"
             ],
             [
              0.6666666666666666,
              "#ed7953"
             ],
             [
              0.7777777777777778,
              "#fb9f3a"
             ],
             [
              0.8888888888888888,
              "#fdca26"
             ],
             [
              1,
              "#f0f921"
             ]
            ],
            "type": "histogram2d"
           }
          ],
          "histogram2dcontour": [
           {
            "colorbar": {
             "outlinewidth": 0,
             "ticks": ""
            },
            "colorscale": [
             [
              0,
              "#0d0887"
             ],
             [
              0.1111111111111111,
              "#46039f"
             ],
             [
              0.2222222222222222,
              "#7201a8"
             ],
             [
              0.3333333333333333,
              "#9c179e"
             ],
             [
              0.4444444444444444,
              "#bd3786"
             ],
             [
              0.5555555555555556,
              "#d8576b"
             ],
             [
              0.6666666666666666,
              "#ed7953"
             ],
             [
              0.7777777777777778,
              "#fb9f3a"
             ],
             [
              0.8888888888888888,
              "#fdca26"
             ],
             [
              1,
              "#f0f921"
             ]
            ],
            "type": "histogram2dcontour"
           }
          ],
          "mesh3d": [
           {
            "colorbar": {
             "outlinewidth": 0,
             "ticks": ""
            },
            "type": "mesh3d"
           }
          ],
          "parcoords": [
           {
            "line": {
             "colorbar": {
              "outlinewidth": 0,
              "ticks": ""
             }
            },
            "type": "parcoords"
           }
          ],
          "pie": [
           {
            "automargin": true,
            "type": "pie"
           }
          ],
          "scatter": [
           {
            "fillpattern": {
             "fillmode": "overlay",
             "size": 10,
             "solidity": 0.2
            },
            "type": "scatter"
           }
          ],
          "scatter3d": [
           {
            "line": {
             "colorbar": {
              "outlinewidth": 0,
              "ticks": ""
             }
            },
            "marker": {
             "colorbar": {
              "outlinewidth": 0,
              "ticks": ""
             }
            },
            "type": "scatter3d"
           }
          ],
          "scattercarpet": [
           {
            "marker": {
             "colorbar": {
              "outlinewidth": 0,
              "ticks": ""
             }
            },
            "type": "scattercarpet"
           }
          ],
          "scattergeo": [
           {
            "marker": {
             "colorbar": {
              "outlinewidth": 0,
              "ticks": ""
             }
            },
            "type": "scattergeo"
           }
          ],
          "scattergl": [
           {
            "marker": {
             "colorbar": {
              "outlinewidth": 0,
              "ticks": ""
             }
            },
            "type": "scattergl"
           }
          ],
          "scattermapbox": [
           {
            "marker": {
             "colorbar": {
              "outlinewidth": 0,
              "ticks": ""
             }
            },
            "type": "scattermapbox"
           }
          ],
          "scatterpolar": [
           {
            "marker": {
             "colorbar": {
              "outlinewidth": 0,
              "ticks": ""
             }
            },
            "type": "scatterpolar"
           }
          ],
          "scatterpolargl": [
           {
            "marker": {
             "colorbar": {
              "outlinewidth": 0,
              "ticks": ""
             }
            },
            "type": "scatterpolargl"
           }
          ],
          "scatterternary": [
           {
            "marker": {
             "colorbar": {
              "outlinewidth": 0,
              "ticks": ""
             }
            },
            "type": "scatterternary"
           }
          ],
          "surface": [
           {
            "colorbar": {
             "outlinewidth": 0,
             "ticks": ""
            },
            "colorscale": [
             [
              0,
              "#0d0887"
             ],
             [
              0.1111111111111111,
              "#46039f"
             ],
             [
              0.2222222222222222,
              "#7201a8"
             ],
             [
              0.3333333333333333,
              "#9c179e"
             ],
             [
              0.4444444444444444,
              "#bd3786"
             ],
             [
              0.5555555555555556,
              "#d8576b"
             ],
             [
              0.6666666666666666,
              "#ed7953"
             ],
             [
              0.7777777777777778,
              "#fb9f3a"
             ],
             [
              0.8888888888888888,
              "#fdca26"
             ],
             [
              1,
              "#f0f921"
             ]
            ],
            "type": "surface"
           }
          ],
          "table": [
           {
            "cells": {
             "fill": {
              "color": "#EBF0F8"
             },
             "line": {
              "color": "white"
             }
            },
            "header": {
             "fill": {
              "color": "#C8D4E3"
             },
             "line": {
              "color": "white"
             }
            },
            "type": "table"
           }
          ]
         },
         "layout": {
          "annotationdefaults": {
           "arrowcolor": "#2a3f5f",
           "arrowhead": 0,
           "arrowwidth": 1
          },
          "autotypenumbers": "strict",
          "coloraxis": {
           "colorbar": {
            "outlinewidth": 0,
            "ticks": ""
           }
          },
          "colorscale": {
           "diverging": [
            [
             0,
             "#8e0152"
            ],
            [
             0.1,
             "#c51b7d"
            ],
            [
             0.2,
             "#de77ae"
            ],
            [
             0.3,
             "#f1b6da"
            ],
            [
             0.4,
             "#fde0ef"
            ],
            [
             0.5,
             "#f7f7f7"
            ],
            [
             0.6,
             "#e6f5d0"
            ],
            [
             0.7,
             "#b8e186"
            ],
            [
             0.8,
             "#7fbc41"
            ],
            [
             0.9,
             "#4d9221"
            ],
            [
             1,
             "#276419"
            ]
           ],
           "sequential": [
            [
             0,
             "#0d0887"
            ],
            [
             0.1111111111111111,
             "#46039f"
            ],
            [
             0.2222222222222222,
             "#7201a8"
            ],
            [
             0.3333333333333333,
             "#9c179e"
            ],
            [
             0.4444444444444444,
             "#bd3786"
            ],
            [
             0.5555555555555556,
             "#d8576b"
            ],
            [
             0.6666666666666666,
             "#ed7953"
            ],
            [
             0.7777777777777778,
             "#fb9f3a"
            ],
            [
             0.8888888888888888,
             "#fdca26"
            ],
            [
             1,
             "#f0f921"
            ]
           ],
           "sequentialminus": [
            [
             0,
             "#0d0887"
            ],
            [
             0.1111111111111111,
             "#46039f"
            ],
            [
             0.2222222222222222,
             "#7201a8"
            ],
            [
             0.3333333333333333,
             "#9c179e"
            ],
            [
             0.4444444444444444,
             "#bd3786"
            ],
            [
             0.5555555555555556,
             "#d8576b"
            ],
            [
             0.6666666666666666,
             "#ed7953"
            ],
            [
             0.7777777777777778,
             "#fb9f3a"
            ],
            [
             0.8888888888888888,
             "#fdca26"
            ],
            [
             1,
             "#f0f921"
            ]
           ]
          },
          "colorway": [
           "#636efa",
           "#EF553B",
           "#00cc96",
           "#ab63fa",
           "#FFA15A",
           "#19d3f3",
           "#FF6692",
           "#B6E880",
           "#FF97FF",
           "#FECB52"
          ],
          "font": {
           "color": "#2a3f5f"
          },
          "geo": {
           "bgcolor": "white",
           "lakecolor": "white",
           "landcolor": "white",
           "showlakes": true,
           "showland": true,
           "subunitcolor": "#C8D4E3"
          },
          "hoverlabel": {
           "align": "left"
          },
          "hovermode": "closest",
          "mapbox": {
           "style": "light"
          },
          "paper_bgcolor": "white",
          "plot_bgcolor": "white",
          "polar": {
           "angularaxis": {
            "gridcolor": "#EBF0F8",
            "linecolor": "#EBF0F8",
            "ticks": ""
           },
           "bgcolor": "white",
           "radialaxis": {
            "gridcolor": "#EBF0F8",
            "linecolor": "#EBF0F8",
            "ticks": ""
           }
          },
          "scene": {
           "xaxis": {
            "backgroundcolor": "white",
            "gridcolor": "#DFE8F3",
            "gridwidth": 2,
            "linecolor": "#EBF0F8",
            "showbackground": true,
            "ticks": "",
            "zerolinecolor": "#EBF0F8"
           },
           "yaxis": {
            "backgroundcolor": "white",
            "gridcolor": "#DFE8F3",
            "gridwidth": 2,
            "linecolor": "#EBF0F8",
            "showbackground": true,
            "ticks": "",
            "zerolinecolor": "#EBF0F8"
           },
           "zaxis": {
            "backgroundcolor": "white",
            "gridcolor": "#DFE8F3",
            "gridwidth": 2,
            "linecolor": "#EBF0F8",
            "showbackground": true,
            "ticks": "",
            "zerolinecolor": "#EBF0F8"
           }
          },
          "shapedefaults": {
           "line": {
            "color": "#2a3f5f"
           }
          },
          "ternary": {
           "aaxis": {
            "gridcolor": "#DFE8F3",
            "linecolor": "#A2B1C6",
            "ticks": ""
           },
           "baxis": {
            "gridcolor": "#DFE8F3",
            "linecolor": "#A2B1C6",
            "ticks": ""
           },
           "bgcolor": "white",
           "caxis": {
            "gridcolor": "#DFE8F3",
            "linecolor": "#A2B1C6",
            "ticks": ""
           }
          },
          "title": {
           "x": 0.05
          },
          "xaxis": {
           "automargin": true,
           "gridcolor": "#EBF0F8",
           "linecolor": "#EBF0F8",
           "ticks": "",
           "title": {
            "standoff": 15
           },
           "zerolinecolor": "#EBF0F8",
           "zerolinewidth": 2
          },
          "yaxis": {
           "automargin": true,
           "gridcolor": "#EBF0F8",
           "linecolor": "#EBF0F8",
           "ticks": "",
           "title": {
            "standoff": 15
           },
           "zerolinecolor": "#EBF0F8",
           "zerolinewidth": 2
          }
         }
        },
        "title": {
         "text": "Relational Games Learning Curves"
        },
        "width": 1000,
        "xaxis": {
         "title": {
          "text": "Training Set Size"
         }
        },
        "yaxis": {
         "title": {
          "text": "Generalization Accuracy"
         }
        }
       }
      }
     },
     "metadata": {},
     "output_type": "display_data"
    }
   ],
   "source": [
    "import plotly.graph_objects as go\n",
    "\n",
    "# Assuming figure_data_ is your DataFrame with columns 'Training Set Size', 'mean', 'sem', 'Model', 'Task'\n",
    "\n",
    "# Get unique tasks and models\n",
    "tasks = figure_data_['Task'].unique()\n",
    "models = figure_data_['Model'].unique()\n",
    "\n",
    "# Create frames for each task\n",
    "frames = []\n",
    "for task in tasks:\n",
    "    frame_data = []\n",
    "    task_filter = figure_data_['Task'] == task\n",
    "    task_data = figure_data_[task_filter].dropna()\n",
    "    yrange = [task_data['mean'].min(), task_data['mean'].max()]\n",
    "    xrange = [task_data['Training Set Size'].min(), task_data['Training Set Size'].max()]\n",
    "    eps_y = 0.025 * (yrange[1] - yrange[0])\n",
    "    eps_x = 0.025 * (xrange[1] - xrange[0])\n",
    "    yrange = [yrange[0] - eps_y, yrange[1] + eps_y]\n",
    "    xrange = [xrange[0] - eps_x, xrange[1] + eps_x]\n",
    "\n",
    "    for model in models:\n",
    "        model_filter = task_data['Model'] == model\n",
    "        model_data = task_data[model_filter]\n",
    "        frame_data.append(go.Scatter(\n",
    "            x=model_data['Training Set Size'], \n",
    "            y=model_data['mean'], \n",
    "            error_y=dict(type='data', array=model_data['sem'], visible=True),\n",
    "            mode='lines',\n",
    "            name=model,\n",
    "            line=dict(color=color_map[model]))) # change color based on model\n",
    "    frames.append(go.Frame(data=frame_data, \n",
    "                           name=str(task),\n",
    "                           layout=dict(xaxis=dict(range=xrange),\n",
    "                                       yaxis=dict(range=yrange))\n",
    "                                       ))\n",
    "\n",
    "# Create steps for the slider\n",
    "steps = [dict(method='animate',\n",
    "              args=[[frame['name']]],  # frame name to be shown\n",
    "              label=frame['name']) for frame in frames]\n",
    "\n",
    "# Create base frame\n",
    "fig = go.Figure(\n",
    "    data=frames[0]['data'],\n",
    "    layout=go.Layout(\n",
    "        title='Relational Games Learning Curves',\n",
    "        xaxis=dict(title='Training Set Size'),\n",
    "        yaxis=dict(title='Generalization Accuracy'),\n",
    "        height=600,\n",
    "        width=1000,\n",
    "        sliders=[dict(steps=steps)],  # add the slider\n",
    "        legend_title=\"Model\",\n",
    "        legend=dict(yanchor=\"bottom\", y=0.01, xanchor=\"right\", x=0.99,\n",
    "                    title_font_family=\"Times New Roman\", #bgcolor='LightSteelBlue',\n",
    "                    bordercolor=\"Black\", borderwidth=1),\n",
    "        template='plotly_white'\n",
    "#         legend=dict(orientation=\"h\", yanchor=\"bottom\", y=1.02, xanchor=\"center\", x=0.5)\n",
    "    ),\n",
    "    frames=frames\n",
    ")\n",
    "\n",
    "fig.show()"
   ]
  },
  {
   "cell_type": "code",
   "execution_count": 40,
   "metadata": {},
   "outputs": [
    {
     "ename": "KeyError",
     "evalue": "\"None of [Index(['Epoch', 'Training Accuracy'], dtype='object')] are in the [columns]\"",
     "output_type": "error",
     "traceback": [
      "\u001b[1;31m---------------------------------------------------------------------------\u001b[0m",
      "\u001b[1;31mKeyError\u001b[0m                                  Traceback (most recent call last)",
      "Cell \u001b[1;32mIn[40], line 16\u001b[0m\n\u001b[0;32m     14\u001b[0m \u001b[38;5;28;01mfor\u001b[39;00m model \u001b[38;5;129;01min\u001b[39;00m models:\n\u001b[0;32m     15\u001b[0m     model_data \u001b[38;5;241m=\u001b[39m figure_data[figure_data[\u001b[38;5;124m'\u001b[39m\u001b[38;5;124mModel\u001b[39m\u001b[38;5;124m'\u001b[39m] \u001b[38;5;241m==\u001b[39m model]\n\u001b[1;32m---> 16\u001b[0m     model_data_tr \u001b[38;5;241m=\u001b[39m \u001b[43mmodel_data\u001b[49m\u001b[43m[\u001b[49m\u001b[43m[\u001b[49m\u001b[38;5;124;43m'\u001b[39;49m\u001b[38;5;124;43mEpoch\u001b[39;49m\u001b[38;5;124;43m'\u001b[39;49m\u001b[43m,\u001b[49m\u001b[43m \u001b[49m\u001b[38;5;124;43m'\u001b[39;49m\u001b[38;5;124;43mTraining Accuracy\u001b[39;49m\u001b[38;5;124;43m'\u001b[39;49m\u001b[43m]\u001b[49m\u001b[43m]\u001b[49m\u001b[38;5;241m.\u001b[39mdropna()\n\u001b[0;32m     17\u001b[0m     model_data_val \u001b[38;5;241m=\u001b[39m model_data[[\u001b[38;5;124m'\u001b[39m\u001b[38;5;124mEpoch\u001b[39m\u001b[38;5;124m'\u001b[39m, \u001b[38;5;124m'\u001b[39m\u001b[38;5;124mValidation Accuracy\u001b[39m\u001b[38;5;124m'\u001b[39m]]\u001b[38;5;241m.\u001b[39mdropna()\n\u001b[0;32m     18\u001b[0m     fig\u001b[38;5;241m.\u001b[39madd_trace(go\u001b[38;5;241m.\u001b[39mScatter(\n\u001b[0;32m     19\u001b[0m         x\u001b[38;5;241m=\u001b[39mmodel_data_tr[\u001b[38;5;124m'\u001b[39m\u001b[38;5;124mEpoch\u001b[39m\u001b[38;5;124m'\u001b[39m], y\u001b[38;5;241m=\u001b[39mmodel_data_tr[\u001b[38;5;124m'\u001b[39m\u001b[38;5;124mTraining Accuracy\u001b[39m\u001b[38;5;124m'\u001b[39m],\n\u001b[0;32m     20\u001b[0m         mode\u001b[38;5;241m=\u001b[39m\u001b[38;5;124m'\u001b[39m\u001b[38;5;124mlines\u001b[39m\u001b[38;5;124m'\u001b[39m, line\u001b[38;5;241m=\u001b[39m\u001b[38;5;28mdict\u001b[39m(color\u001b[38;5;241m=\u001b[39mcolor_map[model]), name\u001b[38;5;241m=\u001b[39mmodel, showlegend\u001b[38;5;241m=\u001b[39m\u001b[38;5;28;01mFalse\u001b[39;00m\n\u001b[0;32m     21\u001b[0m         ), \n\u001b[0;32m     22\u001b[0m         row\u001b[38;5;241m=\u001b[39m\u001b[38;5;241m1\u001b[39m, col\u001b[38;5;241m=\u001b[39m\u001b[38;5;241m1\u001b[39m)\n",
      "File \u001b[1;32mc:\\Users\\awnya\\miniconda3\\envs\\attention\\lib\\site-packages\\pandas\\core\\frame.py:3813\u001b[0m, in \u001b[0;36mDataFrame.__getitem__\u001b[1;34m(self, key)\u001b[0m\n\u001b[0;32m   3811\u001b[0m     \u001b[38;5;28;01mif\u001b[39;00m is_iterator(key):\n\u001b[0;32m   3812\u001b[0m         key \u001b[38;5;241m=\u001b[39m \u001b[38;5;28mlist\u001b[39m(key)\n\u001b[1;32m-> 3813\u001b[0m     indexer \u001b[38;5;241m=\u001b[39m \u001b[38;5;28;43mself\u001b[39;49m\u001b[38;5;241;43m.\u001b[39;49m\u001b[43mcolumns\u001b[49m\u001b[38;5;241;43m.\u001b[39;49m\u001b[43m_get_indexer_strict\u001b[49m\u001b[43m(\u001b[49m\u001b[43mkey\u001b[49m\u001b[43m,\u001b[49m\u001b[43m \u001b[49m\u001b[38;5;124;43m\"\u001b[39;49m\u001b[38;5;124;43mcolumns\u001b[39;49m\u001b[38;5;124;43m\"\u001b[39;49m\u001b[43m)\u001b[49m[\u001b[38;5;241m1\u001b[39m]\n\u001b[0;32m   3815\u001b[0m \u001b[38;5;66;03m# take() does not accept boolean indexers\u001b[39;00m\n\u001b[0;32m   3816\u001b[0m \u001b[38;5;28;01mif\u001b[39;00m \u001b[38;5;28mgetattr\u001b[39m(indexer, \u001b[38;5;124m\"\u001b[39m\u001b[38;5;124mdtype\u001b[39m\u001b[38;5;124m\"\u001b[39m, \u001b[38;5;28;01mNone\u001b[39;00m) \u001b[38;5;241m==\u001b[39m \u001b[38;5;28mbool\u001b[39m:\n",
      "File \u001b[1;32mc:\\Users\\awnya\\miniconda3\\envs\\attention\\lib\\site-packages\\pandas\\core\\indexes\\base.py:6070\u001b[0m, in \u001b[0;36mIndex._get_indexer_strict\u001b[1;34m(self, key, axis_name)\u001b[0m\n\u001b[0;32m   6067\u001b[0m \u001b[38;5;28;01melse\u001b[39;00m:\n\u001b[0;32m   6068\u001b[0m     keyarr, indexer, new_indexer \u001b[38;5;241m=\u001b[39m \u001b[38;5;28mself\u001b[39m\u001b[38;5;241m.\u001b[39m_reindex_non_unique(keyarr)\n\u001b[1;32m-> 6070\u001b[0m \u001b[38;5;28;43mself\u001b[39;49m\u001b[38;5;241;43m.\u001b[39;49m\u001b[43m_raise_if_missing\u001b[49m\u001b[43m(\u001b[49m\u001b[43mkeyarr\u001b[49m\u001b[43m,\u001b[49m\u001b[43m \u001b[49m\u001b[43mindexer\u001b[49m\u001b[43m,\u001b[49m\u001b[43m \u001b[49m\u001b[43maxis_name\u001b[49m\u001b[43m)\u001b[49m\n\u001b[0;32m   6072\u001b[0m keyarr \u001b[38;5;241m=\u001b[39m \u001b[38;5;28mself\u001b[39m\u001b[38;5;241m.\u001b[39mtake(indexer)\n\u001b[0;32m   6073\u001b[0m \u001b[38;5;28;01mif\u001b[39;00m \u001b[38;5;28misinstance\u001b[39m(key, Index):\n\u001b[0;32m   6074\u001b[0m     \u001b[38;5;66;03m# GH 42790 - Preserve name from an Index\u001b[39;00m\n",
      "File \u001b[1;32mc:\\Users\\awnya\\miniconda3\\envs\\attention\\lib\\site-packages\\pandas\\core\\indexes\\base.py:6130\u001b[0m, in \u001b[0;36mIndex._raise_if_missing\u001b[1;34m(self, key, indexer, axis_name)\u001b[0m\n\u001b[0;32m   6128\u001b[0m     \u001b[38;5;28;01mif\u001b[39;00m use_interval_msg:\n\u001b[0;32m   6129\u001b[0m         key \u001b[38;5;241m=\u001b[39m \u001b[38;5;28mlist\u001b[39m(key)\n\u001b[1;32m-> 6130\u001b[0m     \u001b[38;5;28;01mraise\u001b[39;00m \u001b[38;5;167;01mKeyError\u001b[39;00m(\u001b[38;5;124mf\u001b[39m\u001b[38;5;124m\"\u001b[39m\u001b[38;5;124mNone of [\u001b[39m\u001b[38;5;132;01m{\u001b[39;00mkey\u001b[38;5;132;01m}\u001b[39;00m\u001b[38;5;124m] are in the [\u001b[39m\u001b[38;5;132;01m{\u001b[39;00maxis_name\u001b[38;5;132;01m}\u001b[39;00m\u001b[38;5;124m]\u001b[39m\u001b[38;5;124m\"\u001b[39m)\n\u001b[0;32m   6132\u001b[0m not_found \u001b[38;5;241m=\u001b[39m \u001b[38;5;28mlist\u001b[39m(ensure_index(key)[missing_mask\u001b[38;5;241m.\u001b[39mnonzero()[\u001b[38;5;241m0\u001b[39m]]\u001b[38;5;241m.\u001b[39munique())\n\u001b[0;32m   6133\u001b[0m \u001b[38;5;28;01mraise\u001b[39;00m \u001b[38;5;167;01mKeyError\u001b[39;00m(\u001b[38;5;124mf\u001b[39m\u001b[38;5;124m\"\u001b[39m\u001b[38;5;132;01m{\u001b[39;00mnot_found\u001b[38;5;132;01m}\u001b[39;00m\u001b[38;5;124m not in index\u001b[39m\u001b[38;5;124m\"\u001b[39m)\n",
      "\u001b[1;31mKeyError\u001b[0m: \"None of [Index(['Epoch', 'Training Accuracy'], dtype='object')] are in the [columns]\""
     ]
    }
   ],
   "source": [
    "import plotly.subplots as sp\n",
    "import plotly.graph_objects as go\n",
    "\n",
    "# Assuming figure_data is your DataFrame with columns 'Epoch', 'Training Accuracy', 'Validation Accuracy', 'Model'\n",
    "# and color_map is a dictionary mapping 'Model' values to colors\n",
    "\n",
    "# Get unique models\n",
    "models = figure_data['Model'].unique()\n",
    "\n",
    "# Create subplots with horizontal spacing\n",
    "fig = sp.make_subplots(rows=1, cols=2, subplot_titles=(\"Training Accuracy\", \"Validation Accuracy\"), horizontal_spacing=0.1)  # adjust horizontal_spacing as needed\n",
    "\n",
    "# Add line plots to the subplots\n",
    "for model in models:\n",
    "    model_data = figure_data[figure_data['Model'] == model]\n",
    "    model_data_tr = model_data[['Epoch', 'Training Accuracy']].dropna()\n",
    "    model_data_val = model_data[['Epoch', 'Validation Accuracy']].dropna()\n",
    "    fig.add_trace(go.Scatter(\n",
    "        x=model_data_tr['Epoch'], y=model_data_tr['Training Accuracy'],\n",
    "        mode='lines', line=dict(color=color_map[model]), name=model, showlegend=False\n",
    "        ), \n",
    "        row=1, col=1)\n",
    "    fig.add_trace(go.Scatter(\n",
    "        x=model_data_val['Epoch'], y=model_data_val['Validation Accuracy'],\n",
    "        mode='lines', line=dict(color=color_map[model]), \n",
    "        name=model), \n",
    "        row=1, col=2)\n",
    "\n",
    "# Update layout\n",
    "fig.update_layout(\n",
    "    height=600, width=1000, title_text=\"Image Classification Training Curves\",\n",
    "    updatemenus=[\n",
    "        dict(\n",
    "            buttons=list([\n",
    "                dict(\n",
    "                    args=[\"visible\", [True, True]],\n",
    "                    label=\"Both\",\n",
    "                    method=\"update\"\n",
    "                ),\n",
    "                dict(\n",
    "                    args=[\"visible\", [True, False]],\n",
    "                    label=\"Training Accuracy\",\n",
    "                    method=\"update\"\n",
    "                ),\n",
    "                dict(\n",
    "                    args=[\"visible\", [False, True]],\n",
    "                    label=\"Validation Accuracy\",\n",
    "                    method=\"update\"\n",
    "                )\n",
    "            ]),\n",
    "            direction=\"down\",\n",
    "            pad={\"r\": 10, \"t\": 10},\n",
    "            showactive=True,\n",
    "            x=0.1,\n",
    "            xanchor=\"left\",\n",
    "            y=1.1,\n",
    "            yanchor=\"top\"\n",
    "        ),\n",
    "    ]\n",
    ")\n",
    "\n",
    "fig.update_xaxes(title_text=\"Epoch\", row=1, col=1)\n",
    "fig.update_yaxes(title_text=\"Training Accuracy\", row=1, col=1)\n",
    "fig.update_xaxes(title_text=\"Epoch\", row=1, col=2)\n",
    "fig.update_yaxes(title_text=\"Validation Accuracy\", row=1, col=2)\n",
    "\n",
    "# Show the figure\n",
    "fig.show()\n",
    "\n",
    "# Save the figure\n",
    "# fig.write_image(f'{save_dir}/imagenet/imagenet_acc_curves.pdf')"
   ]
  },
  {
   "cell_type": "code",
   "execution_count": 104,
   "metadata": {},
   "outputs": [],
   "source": [
    "fig_json = fig.to_json()\n",
    "# save fig_json to file\n",
    "with open(f'{save_dir}/relgames_learning_curves.json', 'w') as f:\n",
    "    f.write(fig_json)"
   ]
  },
  {
   "cell_type": "markdown",
   "metadata": {},
   "source": [
    "## Math"
   ]
  },
  {
   "cell_type": "code",
   "execution_count": 245,
   "metadata": {},
   "outputs": [],
   "source": [
    "figure_data = pd.read_csv('figure_data/math/run_history_all.csv')"
   ]
  },
  {
   "cell_type": "code",
   "execution_count": 246,
   "metadata": {},
   "outputs": [],
   "source": [
    "# bar plot figure\n",
    "color_map_ = {\n",
    "    f'{our_model_name} (config 1)': cmap(8), # purple\n",
    "    f'{our_model_name} (config 2)': cmap(0), # blue\n",
    "    # 'Transformer': cmap(7), # lighter red\n",
    "    'Transformer': cmap(6), # red\n",
    "    # 'Transformer+': cmap(6), # red # NOTE: removed Transformer+ for now\n",
    "    # 'Transformer+': cmap(4),\n",
    "    }\n",
    "\n",
    "color_map = {k: convert_to_plotly_color(color_map_[k]) for k in color_map_}\n",
    "\n",
    "models = {\n",
    "    'e_sa=8; e_rca=0; d_sa=8; d_rca=0; d_cross=8; d=128; rca_type=NA, symbol_type=NA; el=2; dl=2': 'Transformer',\n",
    "    # 'ee=8; ea=0; de=8; da=0; dc=8; el=2; dl=2': 'Transformer',\n",
    "    # 'e_sa=8; e_rca=0; d_sa=8; d_rca=0; d_cross=8; d=144; rca_type=NA, symbol_type=NA; el=2; dl=2': 'Transformer+', # NOTE: removed Transformer+ for now\n",
    "    'e_sa=4; e_rca=4; d_sa=8; d_rca=0; d_cross=8; d=128; rca_type=disentangled_v2, symbol_type=pos_relative; el=2; dl=2': f'{our_model_name} (config 1)',\n",
    "    'e_sa=4; e_rca=4; d_sa=4; d_rca=4; d_cross=8; d=128; rca_type=disentangled_v2, symbol_type=pos_relative; el=2; dl=2': f'{our_model_name} (config 2)',\n",
    "    # 'e_sa=4; e_rca=4; d_sa=8; d_rca=0; d_cross=8; rca_dis=True, el=2; dl=2': 'AbstractTransformer (v1; OGRCA)',\n",
    "    # 'e_sa=4; e_rca=4; d_sa=4; d_rca=4; d_cross=8; rca_dis=True, el=2; dl=2': 'AbstractTransformer (v2; OGRCA)',\n",
    "    }"
   ]
  },
  {
   "cell_type": "code",
   "execution_count": 247,
   "metadata": {},
   "outputs": [],
   "source": [
    "figure_data.rename(columns={\n",
    "    'epoch': 'Epoch', 'interpolate_teacher_forcing_acc': 'Accuracy (Interpolation)', 'extrapolate_teacher_forcing_acc': 'Accuracy (Extrapolation)', \n",
    "    'train_teacher_forcing_acc': 'Accuracy (Training)', 'task': 'Task', 'group': 'Model'}, inplace=True)\n",
    "\n",
    "def format_task(task):\n",
    "    string = task.replace('__', r'\\_\\_')\n",
    "    string = r\"$\\texttt{\" + string + r\"}$\"\n",
    "    return string\n",
    "# figure_data['Task'] = pd.Categorical(figure_data['Task'].map(format_task))\n",
    "figure_data = figure_data[figure_data['Model'].isin(models.keys())]\n",
    "figure_data['Model'] = pd.Categorical(figure_data['Model'].map(models), models.values(), ordered=True)"
   ]
  },
  {
   "cell_type": "code",
   "execution_count": 248,
   "metadata": {},
   "outputs": [
    {
     "data": {
      "text/plain": [
       "Model                             Task                       \n",
       "Transformer                       algebra__linear_1d             400\n",
       "                                  algebra__sequence_next_term    400\n",
       "                                  calculus__differentiate        400\n",
       "                                  polynomials__add               400\n",
       "                                  polynomials__expand            400\n",
       "Dual-Attn Transformer (config 1)  algebra__linear_1d             964\n",
       "                                  algebra__sequence_next_term    952\n",
       "                                  calculus__differentiate        940\n",
       "                                  polynomials__add               976\n",
       "                                  polynomials__expand            988\n",
       "Dual-Attn Transformer (config 2)  algebra__linear_1d             955\n",
       "                                  algebra__sequence_next_term    940\n",
       "                                  calculus__differentiate        970\n",
       "                                  polynomials__add               955\n",
       "                                  polynomials__expand            955\n",
       "Name: Accuracy (Training), dtype: int64"
      ]
     },
     "execution_count": 248,
     "metadata": {},
     "output_type": "execute_result"
    }
   ],
   "source": [
    "# TODO: need to run more trials for some, etc.\n",
    "figure_data.groupby(['Model', 'Task'])['Accuracy (Training)'].aggregate('count')"
   ]
  },
  {
   "cell_type": "code",
   "execution_count": 249,
   "metadata": {},
   "outputs": [],
   "source": [
    "metric = 'Accuracy (Interpolation)'\n",
    "figure_data_ = figure_data.groupby(['Model', 'Task', 'Epoch'])[metric].aggregate(['mean', 'std', 'count', 'sem']).reset_index()"
   ]
  },
  {
   "cell_type": "code",
   "execution_count": 251,
   "metadata": {},
   "outputs": [
    {
     "data": {
      "application/vnd.plotly.v1+json": {
       "config": {
        "plotlyServerURL": "https://plot.ly"
       },
       "data": [
        {
         "error_y": {
          "array": [
           0.0005258658123955155,
           0.0017084659367440694,
           0.0015637397592897261,
           0.0008898927307821528,
           0.0025911269322742713,
           0.003172651614379972,
           0.005279781436634869,
           0.006945415795858479,
           0.010400144574378904,
           0.011516440378361161,
           0.013047656028294267,
           0.012965905735513086,
           0.011126271685969866,
           0.010512554534539205,
           0.009372448626409688,
           0.008754199234060015,
           0.008067120752032893,
           0.010188339950330208,
           0.007736326653835624,
           0.011413051633684923
          ],
          "type": "data",
          "visible": true
         },
         "line": {
          "color": "rgb(214, 39, 40)"
         },
         "mode": "lines",
         "name": "Transformer",
         "type": "scatter",
         "x": [
          4,
          9,
          14,
          19,
          24,
          29,
          34,
          39,
          44,
          49,
          54,
          59,
          64,
          69,
          74,
          79,
          84,
          89,
          94,
          99
         ],
         "y": [
          0.48228466510772705,
          0.4888980686664581,
          0.4943712055683136,
          0.5011872723698616,
          0.5059846639633179,
          0.5151258558034897,
          0.5233724266290665,
          0.5352822691202164,
          0.5474032312631607,
          0.5623408854007721,
          0.5692228823900223,
          0.5771707743406296,
          0.5854265242815018,
          0.5928248316049576,
          0.595622792840004,
          0.6021913141012192,
          0.607970267534256,
          0.6101114153862,
          0.6202907413244247,
          0.6247753500938416
         ]
        },
        {
         "error_y": {
          "array": [
           0.0034393012567701807,
           0.006023419065552087,
           0.007165744749314876,
           0.007705676869760212,
           0.008408884650170678,
           0.010180994495696774,
           0.010175669950672653,
           0.008799168200803792,
           0.008344880504881459,
           0.008883483242305434,
           0.007981947728462998,
           0.007406662742597454,
           0.007554032877317568,
           0.008256519815648922,
           0.0075104583669818965,
           0.007162649796943665,
           0.006876108116517163,
           0.007976330872137692,
           0.0069744668479233074,
           0.00971944480629242
          ],
          "type": "data",
          "visible": true
         },
         "line": {
          "color": "rgb(148, 103, 189)"
         },
         "mode": "lines",
         "name": "Dual-Attn Transformer (config 1)",
         "type": "scatter",
         "x": [
          4,
          9,
          14,
          19,
          24,
          29,
          34,
          39,
          44,
          49,
          54,
          59,
          64,
          69,
          74,
          79,
          84,
          89,
          94,
          99
         ],
         "y": [
          0.5505271852016449,
          0.5710848987102508,
          0.5870335519313812,
          0.6037724375724792,
          0.6129881203174591,
          0.6243488669395447,
          0.6285506188869476,
          0.6397096633911132,
          0.6457772016525268,
          0.6519508242607117,
          0.6549185752868653,
          0.6534022390842438,
          0.6615999698638916,
          0.6652063310146332,
          0.66423419713974,
          0.6740758359432221,
          0.6676482498645783,
          0.6581236038889203,
          0.6633440767015729,
          0.6647541778428214
         ]
        },
        {
         "error_y": {
          "array": [
           0.0013629309320829517,
           0.004482871534803298,
           0.0063254413224691905,
           0.0067292213090803035,
           0.00626567108912374,
           0.007462463492613577,
           0.006468304349229696,
           0.009613728603207902,
           0.010880677122266686,
           0.012084016409814295,
           0.014105534689591222,
           0.014996459973894882,
           0.015278810389958849,
           0.017663989853100113,
           0.016108721207964912,
           0.017561808015959173,
           0.018855265758130946,
           0.011118118232507277,
           0.015502109639525327,
           0.016513949802765476
          ],
          "type": "data",
          "visible": true
         },
         "line": {
          "color": "rgb(31, 119, 180)"
         },
         "mode": "lines",
         "name": "Dual-Attn Transformer (config 2)",
         "type": "scatter",
         "x": [
          4,
          9,
          14,
          19,
          24,
          29,
          34,
          39,
          44,
          49,
          54,
          59,
          64,
          69,
          74,
          79,
          84,
          89,
          94,
          99
         ],
         "y": [
          0.5466992378234863,
          0.5663139760494232,
          0.5815501928329467,
          0.5976958811283112,
          0.6173567533493042,
          0.6247200131416321,
          0.631817489862442,
          0.6394965350627899,
          0.6465744793415069,
          0.6481600522994995,
          0.6436293721199036,
          0.6477948129177094,
          0.6496267020702362,
          0.6510614514350891,
          0.6566296517848969,
          0.6568164229393005,
          0.6580181658267975,
          0.6644337688173566,
          0.6625218391418457,
          0.6633102297782898
         ]
        }
       ],
       "frames": [
        {
         "data": [
          {
           "error_y": {
            "array": [
             0.0005258658123955155,
             0.0017084659367440694,
             0.0015637397592897261,
             0.0008898927307821528,
             0.0025911269322742713,
             0.003172651614379972,
             0.005279781436634869,
             0.006945415795858479,
             0.010400144574378904,
             0.011516440378361161,
             0.013047656028294267,
             0.012965905735513086,
             0.011126271685969866,
             0.010512554534539205,
             0.009372448626409688,
             0.008754199234060015,
             0.008067120752032893,
             0.010188339950330208,
             0.007736326653835624,
             0.011413051633684923
            ],
            "type": "data",
            "visible": true
           },
           "line": {
            "color": "rgb(214, 39, 40)"
           },
           "mode": "lines",
           "name": "Transformer",
           "type": "scatter",
           "x": [
            4,
            9,
            14,
            19,
            24,
            29,
            34,
            39,
            44,
            49,
            54,
            59,
            64,
            69,
            74,
            79,
            84,
            89,
            94,
            99
           ],
           "y": [
            0.48228466510772705,
            0.4888980686664581,
            0.4943712055683136,
            0.5011872723698616,
            0.5059846639633179,
            0.5151258558034897,
            0.5233724266290665,
            0.5352822691202164,
            0.5474032312631607,
            0.5623408854007721,
            0.5692228823900223,
            0.5771707743406296,
            0.5854265242815018,
            0.5928248316049576,
            0.595622792840004,
            0.6021913141012192,
            0.607970267534256,
            0.6101114153862,
            0.6202907413244247,
            0.6247753500938416
           ]
          },
          {
           "error_y": {
            "array": [
             0.0034393012567701807,
             0.006023419065552087,
             0.007165744749314876,
             0.007705676869760212,
             0.008408884650170678,
             0.010180994495696774,
             0.010175669950672653,
             0.008799168200803792,
             0.008344880504881459,
             0.008883483242305434,
             0.007981947728462998,
             0.007406662742597454,
             0.007554032877317568,
             0.008256519815648922,
             0.0075104583669818965,
             0.007162649796943665,
             0.006876108116517163,
             0.007976330872137692,
             0.0069744668479233074,
             0.00971944480629242
            ],
            "type": "data",
            "visible": true
           },
           "line": {
            "color": "rgb(148, 103, 189)"
           },
           "mode": "lines",
           "name": "Dual-Attn Transformer (config 1)",
           "type": "scatter",
           "x": [
            4,
            9,
            14,
            19,
            24,
            29,
            34,
            39,
            44,
            49,
            54,
            59,
            64,
            69,
            74,
            79,
            84,
            89,
            94,
            99
           ],
           "y": [
            0.5505271852016449,
            0.5710848987102508,
            0.5870335519313812,
            0.6037724375724792,
            0.6129881203174591,
            0.6243488669395447,
            0.6285506188869476,
            0.6397096633911132,
            0.6457772016525268,
            0.6519508242607117,
            0.6549185752868653,
            0.6534022390842438,
            0.6615999698638916,
            0.6652063310146332,
            0.66423419713974,
            0.6740758359432221,
            0.6676482498645783,
            0.6581236038889203,
            0.6633440767015729,
            0.6647541778428214
           ]
          },
          {
           "error_y": {
            "array": [
             0.0013629309320829517,
             0.004482871534803298,
             0.0063254413224691905,
             0.0067292213090803035,
             0.00626567108912374,
             0.007462463492613577,
             0.006468304349229696,
             0.009613728603207902,
             0.010880677122266686,
             0.012084016409814295,
             0.014105534689591222,
             0.014996459973894882,
             0.015278810389958849,
             0.017663989853100113,
             0.016108721207964912,
             0.017561808015959173,
             0.018855265758130946,
             0.011118118232507277,
             0.015502109639525327,
             0.016513949802765476
            ],
            "type": "data",
            "visible": true
           },
           "line": {
            "color": "rgb(31, 119, 180)"
           },
           "mode": "lines",
           "name": "Dual-Attn Transformer (config 2)",
           "type": "scatter",
           "x": [
            4,
            9,
            14,
            19,
            24,
            29,
            34,
            39,
            44,
            49,
            54,
            59,
            64,
            69,
            74,
            79,
            84,
            89,
            94,
            99
           ],
           "y": [
            0.5466992378234863,
            0.5663139760494232,
            0.5815501928329467,
            0.5976958811283112,
            0.6173567533493042,
            0.6247200131416321,
            0.631817489862442,
            0.6394965350627899,
            0.6465744793415069,
            0.6481600522994995,
            0.6436293721199036,
            0.6477948129177094,
            0.6496267020702362,
            0.6510614514350891,
            0.6566296517848969,
            0.6568164229393005,
            0.6580181658267975,
            0.6644337688173566,
            0.6625218391418457,
            0.6633102297782898
           ]
          }
         ],
         "layout": {
          "yaxis": {
           "range": [
            0.47748988583683966,
            0.6788706152141094
           ]
          }
         },
         "name": "algebra__linear_1d"
        },
        {
         "data": [
          {
           "error_y": {
            "array": [
             0.007986014045743726,
             0.03438754040513664,
             0.04489404208408058,
             0.042248332231722134,
             0.03447652241552698,
             0.029848096000356115,
             0.019125600421817247,
             0.011191196879851147,
             0.00722917123272805,
             0.005865865821859878,
             0.004852181274258027,
             0.004454409345328543,
             0.004610209056922106,
             0.003633916949409178,
             0.003444391783648109,
             0.0032313143429922816,
             0.0032445815840279404,
             0.0028541837404793043,
             0.0028081816737810603,
             0.002026369245449504
            ],
            "type": "data",
            "visible": true
           },
           "line": {
            "color": "rgb(214, 39, 40)"
           },
           "mode": "lines",
           "name": "Transformer",
           "type": "scatter",
           "x": [
            4,
            9,
            14,
            19,
            24,
            29,
            34,
            39,
            44,
            49,
            54,
            59,
            64,
            69,
            74,
            79,
            84,
            89,
            94,
            99
           ],
           "y": [
            0.43533989042043686,
            0.5934583842754364,
            0.6778056174516678,
            0.7528389692306519,
            0.8037928193807602,
            0.83047716319561,
            0.850370854139328,
            0.8653631657361984,
            0.87709841132164,
            0.8837580978870392,
            0.8873158544301987,
            0.8922452330589294,
            0.8942862898111343,
            0.8968605250120163,
            0.9011814147233963,
            0.903916522860527,
            0.9065931737422943,
            0.906397208571434,
            0.9090142250061035,
            0.9105456471443176
           ]
          },
          {
           "error_y": {
            "array": [
             0.006569608397743169,
             0.009761089969051267,
             0.010143050674258906,
             0.00966107360916112,
             0.008905210814219662,
             0.008197099979947029,
             0.007834448611722802,
             0.007477441133099274,
             0.006554594421461218,
             0.005817581333778375,
             0.005224278932462767,
             0.005116853413056759,
             0.00550055399210798,
             0.005401365831989954,
             0.00512460645981437,
             0.0053390451468275325,
             0.005200373411929073,
             0.007515180910502312,
             0.006663674492302285,
             0.006443863392854542
            ],
            "type": "data",
            "visible": true
           },
           "line": {
            "color": "rgb(148, 103, 189)"
           },
           "mode": "lines",
           "name": "Dual-Attn Transformer (config 1)",
           "type": "scatter",
           "x": [
            4,
            9,
            14,
            19,
            24,
            29,
            34,
            39,
            44,
            49,
            54,
            59,
            64,
            69,
            74,
            79,
            84,
            89,
            94,
            99
           ],
           "y": [
            0.8118852257728577,
            0.8436391413211822,
            0.8611631572246552,
            0.8713661968708039,
            0.8785997152328491,
            0.8850554049015045,
            0.8892729043960571,
            0.8928730428218842,
            0.8962560415267944,
            0.8993125438690186,
            0.9033020853996276,
            0.9052692592144013,
            0.9076133787631988,
            0.9097234845161438,
            0.9105422377586365,
            0.9129216015338898,
            0.914091271162033,
            0.9119407633940378,
            0.9134882092475891,
            0.916180282831192
           ]
          },
          {
           "error_y": {
            "array": [
             0.002963760258608651,
             0.005929426884095398,
             0.0054459208301108,
             0.00548250162101643,
             0.005358211380977648,
             0.005219750089814659,
             0.0051598707776706705,
             0.0049077077698386085,
             0.0047359808312674645,
             0.004525655962154143,
             0.004354605679893468,
             0.0044635471965719644,
             0.004134767592810557,
             0.0038571262710518864,
             0.0036627273971126663,
             0.0035634091478286196,
             0.0034305299027602956,
             0.004435567591699897,
             0.004569485248050136,
             0.0044130403823508454
            ],
            "type": "data",
            "visible": true
           },
           "line": {
            "color": "rgb(31, 119, 180)"
           },
           "mode": "lines",
           "name": "Dual-Attn Transformer (config 2)",
           "type": "scatter",
           "x": [
            4,
            9,
            14,
            19,
            24,
            29,
            34,
            39,
            44,
            49,
            54,
            59,
            64,
            69,
            74,
            79,
            84,
            89,
            94,
            99
           ],
           "y": [
            0.8047662675380707,
            0.8537055075168609,
            0.8791595697402954,
            0.8910142123699188,
            0.8979717075824738,
            0.9016346335411072,
            0.9050088405609131,
            0.907270324230194,
            0.9088334023952485,
            0.9102227985858917,
            0.9127011835575104,
            0.9162335574626923,
            0.9172501385211944,
            0.9199620068073273,
            0.9216444611549377,
            0.9223995089530945,
            0.9228693902492523,
            0.9195523659388224,
            0.9197854200998942,
            0.9211684763431549
           ]
          }
         ],
         "layout": {
          "yaxis": {
           "range": [
            0.42315165292471646,
            0.9350576277449727
           ]
          }
         },
         "name": "algebra__sequence_next_term"
        },
        {
         "data": [
          {
           "error_y": {
            "array": [
             0.002803349576656056,
             0.00800997365232146,
             0.005608686264690809,
             0.0029573395641413172,
             0.0017416751630713316,
             0.0014967400773397254,
             0.0006056226412883626,
             0.00022770642415738922,
             0.00044678845702450254,
             0.0005188686052873796,
             0.0003388095206038265,
             0.0006910551001036589,
             0.000498569636111682,
             0.000400360793999359,
             0.00066197684762739,
             0.0005567262580158384,
             0.00021623354679333162,
             0.0002561344958668634,
             0.00030331040512398703,
             0.0002757009235975849
            ],
            "type": "data",
            "visible": true
           },
           "line": {
            "color": "rgb(214, 39, 40)"
           },
           "mode": "lines",
           "name": "Transformer",
           "type": "scatter",
           "x": [
            4,
            9,
            14,
            19,
            24,
            29,
            34,
            39,
            44,
            49,
            54,
            59,
            64,
            69,
            74,
            79,
            84,
            89,
            94,
            99
           ],
           "y": [
            0.8503601998090744,
            0.9188879281282425,
            0.9538295269012451,
            0.9769859313964845,
            0.9858916252851486,
            0.9894192963838577,
            0.9920722544193268,
            0.9934806972742081,
            0.9940302968025208,
            0.9954994320869445,
            0.9960216581821442,
            0.9960269182920456,
            0.9970491826534271,
            0.9971935153007507,
            0.9978291094303131,
            0.9979505836963654,
            0.9985859394073486,
            0.9985254555940628,
            0.9989345371723175,
            0.9988716542720795
           ]
          },
          {
           "error_y": {
            "array": [
             0.0013779511383654097,
             0.0005093402891433126,
             0.0004830699269167841,
             0.00018425546710869523,
             0.00014952270495614014,
             0.00013457740804539357,
             0.00014289224054146445,
             0.00013217945007216919,
             0.00012098255658854916,
             0.00009322449039808445,
             0.00008882607846976573,
             0.00010408940854963828,
             0.000054393643806087955,
             0.00004087676031915846,
             0.000035483117178493504,
             0.00003168916757687499,
             0.00004067718292475961,
             0.000004653493074569886,
             0.000017055997986743364,
             0.000021835601719623848
            ],
            "type": "data",
            "visible": true
           },
           "line": {
            "color": "rgb(148, 103, 189)"
           },
           "mode": "lines",
           "name": "Dual-Attn Transformer (config 1)",
           "type": "scatter",
           "x": [
            4,
            9,
            14,
            19,
            24,
            29,
            34,
            39,
            44,
            49,
            54,
            59,
            64,
            69,
            74,
            79,
            84,
            89,
            94,
            99
           ],
           "y": [
            0.9773889780044556,
            0.9935435950756073,
            0.9959905862808227,
            0.9977547526359558,
            0.998455798625946,
            0.9987538814544678,
            0.9989890992641449,
            0.999267327785492,
            0.9993830621242523,
            0.9994941830635071,
            0.9995473980903625,
            0.9995558023452759,
            0.9996414244174957,
            0.9996728897094727,
            0.9997249782085419,
            0.999753612279892,
            0.9997568130493164,
            0.9998094320297242,
            0.9998482823371887,
            0.9998672485351563
           ]
          },
          {
           "error_y": {
            "array": [
             0.0005053528788817753,
             0.00013704110489555052,
             0.00006827995148474665,
             0.00004549357353811879,
             0.00002826480138487468,
             0.00002918483885126296,
             0.000017824882379157084,
             0.000016163386801158405,
             0.000011497178232259845,
             0.00000774387068340803,
             0.000015770577037944462,
             0.00001240406709829428,
             0.000008578864448666737,
             0.000006983909008462468,
             0.000014955376439152316,
             0.0000067810715261739005,
             0.000005598855915454326,
             0.000007307079357852039,
             0.000008137864286132898,
             0.000009010987604688928
            ],
            "type": "data",
            "visible": true
           },
           "line": {
            "color": "rgb(31, 119, 180)"
           },
           "mode": "lines",
           "name": "Dual-Attn Transformer (config 2)",
           "type": "scatter",
           "x": [
            4,
            9,
            14,
            19,
            24,
            29,
            34,
            39,
            44,
            49,
            54,
            59,
            64,
            69,
            74,
            79,
            84,
            89,
            94,
            99
           ],
           "y": [
            0.9936679363250732,
            0.9982018113136292,
            0.9991226673126221,
            0.9993857264518737,
            0.999543422460556,
            0.9996380984783173,
            0.9997087240219116,
            0.9997576415538788,
            0.9997923374176025,
            0.9998080372810364,
            0.9998344302177429,
            0.9998484909534454,
            0.9998694479465484,
            0.9998853445053101,
            0.999871027469635,
            0.9998955130577087,
            0.9998986482620239,
            0.9999046996235847,
            0.9999053925275803,
            0.9999149069190025
           ]
          }
         ],
         "layout": {
          "yaxis": {
           "range": [
            0.8466213321313262,
            1.0036537745967506
           ]
          }
         },
         "name": "calculus__differentiate"
        },
        {
         "data": [
          {
           "error_y": {
            "array": [
             0.0008421903827072253,
             0.0021212898668255082,
             0.004360742559096439,
             0.007126024747452695,
             0.009427139673331218,
             0.010863561819418612,
             0.010729272891252832,
             0.010594688730626557,
             0.008064948662968812,
             0.006337710248351899,
             0.005042684849261662,
             0.0035771097061278977,
             0.002932661247903065,
             0.0024356486265627157,
             0.0016426005700217665,
             0.0019669345819603406,
             0.0014584185937222935,
             0.001281660173515091,
             0.0008921498000810114,
             0.000514853320050759
            ],
            "type": "data",
            "visible": true
           },
           "line": {
            "color": "rgb(214, 39, 40)"
           },
           "mode": "lines",
           "name": "Transformer",
           "type": "scatter",
           "x": [
            4,
            9,
            14,
            19,
            24,
            29,
            34,
            39,
            44,
            49,
            54,
            59,
            64,
            69,
            74,
            79,
            84,
            89,
            94,
            99
           ],
           "y": [
            0.7263843864202499,
            0.7356336861848831,
            0.7476902902126312,
            0.7620893269777298,
            0.7737698405981064,
            0.7828514724969864,
            0.788723960518837,
            0.7962399870157242,
            0.7995532155036926,
            0.8069478273391724,
            0.8127561807632446,
            0.8134114742279053,
            0.8191894143819809,
            0.8206781297922134,
            0.8242332339286804,
            0.827751100063324,
            0.8282398581504822,
            0.8303149789571762,
            0.8320855498313904,
            0.8327324092388153
           ]
          },
          {
           "error_y": {
            "array": [
             0.0010785884098634874,
             0.0006530764283059874,
             0.0006186006540806129,
             0.0005103063827994359,
             0.0005438717953023676,
             0.0005825668860536942,
             0.0005267718664138638,
             0.0006075703753691359,
             0.00043489335733017386,
             0.0004025890053977513,
             0.00045328695686964424,
             0.00034356154075720365,
             0.00041168538892047337,
             0.0003162455740858087,
             0.00038281413098396145,
             0.0003237675562392531,
             0.00036394088156901954,
             0.00036848259572948224,
             0.0004273627660547744,
             0.000336433672562388
            ],
            "type": "data",
            "visible": true
           },
           "line": {
            "color": "rgb(148, 103, 189)"
           },
           "mode": "lines",
           "name": "Dual-Attn Transformer (config 1)",
           "type": "scatter",
           "x": [
            4,
            9,
            14,
            19,
            24,
            29,
            34,
            39,
            44,
            49,
            54,
            59,
            64,
            69,
            74,
            79,
            84,
            89,
            94,
            99
           ],
           "y": [
            0.8044332385063171,
            0.8244253098964691,
            0.8323751270771027,
            0.8377409338951111,
            0.8410828948020935,
            0.843831193447113,
            0.8456675946712494,
            0.8471285760402679,
            0.8489103496074677,
            0.8497707366943359,
            0.8509586751461029,
            0.8517054557800293,
            0.8522664904594421,
            0.8530966401100158,
            0.8536753535270691,
            0.8543956100940704,
            0.8547371327877045,
            0.8555856496095657,
            0.8560435548424721,
            0.8561355993151665
           ]
          },
          {
           "error_y": {
            "array": [
             0.0008555533619100813,
             0.0008702699177044581,
             0.0007415129131024246,
             0.0006611645946494758,
             0.0006257614256570915,
             0.0005682770958052406,
             0.0005281898347181244,
             0.0005016156363368278,
             0.000440062023169616,
             0.0005415236885013113,
             0.0004423130918510959,
             0.0004825830724826533,
             0.0004950206731095447,
             0.0005263627967078023,
             0.0005240462224132857,
             0.0005184794358518879,
             0.0005179049299326424,
             0.000517709658394279,
             0.0005609491111036569,
             0.0005502035650123913
            ],
            "type": "data",
            "visible": true
           },
           "line": {
            "color": "rgb(31, 119, 180)"
           },
           "mode": "lines",
           "name": "Dual-Attn Transformer (config 2)",
           "type": "scatter",
           "x": [
            4,
            9,
            14,
            19,
            24,
            29,
            34,
            39,
            44,
            49,
            54,
            59,
            64,
            69,
            74,
            79,
            84,
            89,
            94,
            99
           ],
           "y": [
            0.8129850149154663,
            0.8298058986663819,
            0.8375898540019989,
            0.8422852516174316,
            0.8454265356063843,
            0.848005497455597,
            0.849718701839447,
            0.851304578781128,
            0.852404123544693,
            0.8536015152931213,
            0.8544667601585388,
            0.8549841105937958,
            0.855819571018219,
            0.8564623773097992,
            0.8572151958942413,
            0.8577132523059845,
            0.8580615401268006,
            0.8581685168402535,
            0.8586643253053937,
            0.8589186923844474
           ]
          }
         ],
         "layout": {
          "yaxis": {
           "range": [
            0.723071028771145,
            0.8622320500335523
           ]
          }
         },
         "name": "polynomials__add"
        },
        {
         "data": [
          {
           "error_y": {
            "array": [
             0.0010446133605654419,
             0.0009216106023772306,
             0.0008558485325212122,
             0.00219292287911693,
             0.0021657566298629366,
             0.003683222457482219,
             0.004923808253071203,
             0.005502608447462584,
             0.006449817951533471,
             0.007846850176555753,
             0.009436702236014817,
             0.009727855531757422,
             0.009608567390887952,
             0.009323080876345214,
             0.009495743759573407,
             0.008835289591839633,
             0.008408530460945553,
             0.008254289475661187,
             0.0074558265708612285,
             0.006966621981093613
            ],
            "type": "data",
            "visible": true
           },
           "line": {
            "color": "rgb(214, 39, 40)"
           },
           "mode": "lines",
           "name": "Transformer",
           "type": "scatter",
           "x": [
            4,
            9,
            14,
            19,
            24,
            29,
            34,
            39,
            44,
            49,
            54,
            59,
            64,
            69,
            74,
            79,
            84,
            89,
            94,
            99
           ],
           "y": [
            0.6613091677427292,
            0.6686649173498154,
            0.6739573925733566,
            0.6809891760349274,
            0.6863624900579453,
            0.6913264989852905,
            0.6961807459592819,
            0.6998820155858994,
            0.704047441482544,
            0.7096885293722153,
            0.7139726877212524,
            0.7179926782846451,
            0.7232391089200974,
            0.726961612701416,
            0.7277178913354874,
            0.7309893667697906,
            0.7346369177103043,
            0.7370410859584808,
            0.7385919541120529,
            0.7403112500905991
           ]
          },
          {
           "error_y": {
            "array": [
             0.0016729554614920042,
             0.0011104352004486782,
             0.0005688349961956018,
             0.0006191900853160023,
             0.0004092490224435954,
             0.0006575708931039339,
             0.0005317759715113241,
             0.0006860635728997643,
             0.0008453336588447467,
             0.0008353477719907607,
             0.0006838731307966676,
             0.0008510347079481867,
             0.0007766174383641166,
             0.0009043383009713568,
             0.0010314528264797585,
             0.0010037589627402226,
             0.0008755514755884625,
             0.0009705104990562447,
             0.0008422514259811353,
             0.0009412851141184522
            ],
            "type": "data",
            "visible": true
           },
           "line": {
            "color": "rgb(148, 103, 189)"
           },
           "mode": "lines",
           "name": "Dual-Attn Transformer (config 1)",
           "type": "scatter",
           "x": [
            4,
            9,
            14,
            19,
            24,
            29,
            34,
            39,
            44,
            49,
            54,
            59,
            64,
            69,
            74,
            79,
            84,
            89,
            94,
            99
           ],
           "y": [
            0.7013169705867768,
            0.7232739150524139,
            0.7351569712162018,
            0.7436938166618348,
            0.7491621315479279,
            0.7539115607738495,
            0.7581323683261871,
            0.7610978841781616,
            0.7629606008529664,
            0.765153580904007,
            0.7671320319175721,
            0.7685935437679291,
            0.7697162985801697,
            0.7704952895641327,
            0.772243344783783,
            0.7733397603034973,
            0.7744169473648072,
            0.7758977280722724,
            0.776644402080112,
            0.7778469655248854
           ]
          },
          {
           "error_y": {
            "array": [
             0.0013356083242096583,
             0.0007350097752866683,
             0.0008206506101454337,
             0.0007060529553137506,
             0.0009063112189893292,
             0.0008983901464012932,
             0.0009506402401726436,
             0.0009293557135601094,
             0.000999405626868594,
             0.0007270461131376048,
             0.0009936629027062908,
             0.0009691572631121468,
             0.0009164915644235935,
             0.0008487007865616255,
             0.0009012569141749488,
             0.0008621883749360034,
             0.0009323213364928186,
             0.001173097119651429,
             0.001204431991309374,
             0.001207221996098515
            ],
            "type": "data",
            "visible": true
           },
           "line": {
            "color": "rgb(31, 119, 180)"
           },
           "mode": "lines",
           "name": "Dual-Attn Transformer (config 2)",
           "type": "scatter",
           "x": [
            4,
            9,
            14,
            19,
            24,
            29,
            34,
            39,
            44,
            49,
            54,
            59,
            64,
            69,
            74,
            79,
            84,
            89,
            94,
            99
           ],
           "y": [
            0.711030924320221,
            0.730330091714859,
            0.7397503852844238,
            0.7466292142868042,
            0.7525638043880463,
            0.7569997429847717,
            0.7602873980998993,
            0.7625883460044861,
            0.7645636022090911,
            0.7668301582336425,
            0.7689298152923584,
            0.7706121504306793,
            0.7722033858299255,
            0.7732935965061187,
            0.7742327332496644,
            0.7753274381160736,
            0.7763516485691071,
            0.7778947949409485,
            0.7786881753376552,
            0.7794212188039508
           ]
          }
         ],
         "layout": {
          "yaxis": {
           "range": [
            0.6583563664661987,
            0.7823740200804813
           ]
          }
         },
         "name": "polynomials__expand"
        }
       ],
       "layout": {
        "font": {
         "family": "Computer Modern"
        },
        "height": 600,
        "legend": {
         "bordercolor": "Black",
         "borderwidth": 1,
         "title": {
          "text": "Model"
         },
         "x": 0.99,
         "xanchor": "right",
         "y": 0.01,
         "yanchor": "bottom"
        },
        "sliders": [
         {
          "steps": [
           {
            "args": [
             [
              "algebra__linear_1d"
             ]
            ],
            "label": "algebra__linear_1d",
            "method": "animate"
           },
           {
            "args": [
             [
              "algebra__sequence_next_term"
             ]
            ],
            "label": "algebra__sequence_next_term",
            "method": "animate"
           },
           {
            "args": [
             [
              "calculus__differentiate"
             ]
            ],
            "label": "calculus__differentiate",
            "method": "animate"
           },
           {
            "args": [
             [
              "polynomials__add"
             ]
            ],
            "label": "polynomials__add",
            "method": "animate"
           },
           {
            "args": [
             [
              "polynomials__expand"
             ]
            ],
            "label": "polynomials__expand",
            "method": "animate"
           }
          ]
         }
        ],
        "template": {
         "data": {
          "bar": [
           {
            "error_x": {
             "color": "#2a3f5f"
            },
            "error_y": {
             "color": "#2a3f5f"
            },
            "marker": {
             "line": {
              "color": "white",
              "width": 0.5
             },
             "pattern": {
              "fillmode": "overlay",
              "size": 10,
              "solidity": 0.2
             }
            },
            "type": "bar"
           }
          ],
          "barpolar": [
           {
            "marker": {
             "line": {
              "color": "white",
              "width": 0.5
             },
             "pattern": {
              "fillmode": "overlay",
              "size": 10,
              "solidity": 0.2
             }
            },
            "type": "barpolar"
           }
          ],
          "carpet": [
           {
            "aaxis": {
             "endlinecolor": "#2a3f5f",
             "gridcolor": "#C8D4E3",
             "linecolor": "#C8D4E3",
             "minorgridcolor": "#C8D4E3",
             "startlinecolor": "#2a3f5f"
            },
            "baxis": {
             "endlinecolor": "#2a3f5f",
             "gridcolor": "#C8D4E3",
             "linecolor": "#C8D4E3",
             "minorgridcolor": "#C8D4E3",
             "startlinecolor": "#2a3f5f"
            },
            "type": "carpet"
           }
          ],
          "choropleth": [
           {
            "colorbar": {
             "outlinewidth": 0,
             "ticks": ""
            },
            "type": "choropleth"
           }
          ],
          "contour": [
           {
            "colorbar": {
             "outlinewidth": 0,
             "ticks": ""
            },
            "colorscale": [
             [
              0,
              "#0d0887"
             ],
             [
              0.1111111111111111,
              "#46039f"
             ],
             [
              0.2222222222222222,
              "#7201a8"
             ],
             [
              0.3333333333333333,
              "#9c179e"
             ],
             [
              0.4444444444444444,
              "#bd3786"
             ],
             [
              0.5555555555555556,
              "#d8576b"
             ],
             [
              0.6666666666666666,
              "#ed7953"
             ],
             [
              0.7777777777777778,
              "#fb9f3a"
             ],
             [
              0.8888888888888888,
              "#fdca26"
             ],
             [
              1,
              "#f0f921"
             ]
            ],
            "type": "contour"
           }
          ],
          "contourcarpet": [
           {
            "colorbar": {
             "outlinewidth": 0,
             "ticks": ""
            },
            "type": "contourcarpet"
           }
          ],
          "heatmap": [
           {
            "colorbar": {
             "outlinewidth": 0,
             "ticks": ""
            },
            "colorscale": [
             [
              0,
              "#0d0887"
             ],
             [
              0.1111111111111111,
              "#46039f"
             ],
             [
              0.2222222222222222,
              "#7201a8"
             ],
             [
              0.3333333333333333,
              "#9c179e"
             ],
             [
              0.4444444444444444,
              "#bd3786"
             ],
             [
              0.5555555555555556,
              "#d8576b"
             ],
             [
              0.6666666666666666,
              "#ed7953"
             ],
             [
              0.7777777777777778,
              "#fb9f3a"
             ],
             [
              0.8888888888888888,
              "#fdca26"
             ],
             [
              1,
              "#f0f921"
             ]
            ],
            "type": "heatmap"
           }
          ],
          "heatmapgl": [
           {
            "colorbar": {
             "outlinewidth": 0,
             "ticks": ""
            },
            "colorscale": [
             [
              0,
              "#0d0887"
             ],
             [
              0.1111111111111111,
              "#46039f"
             ],
             [
              0.2222222222222222,
              "#7201a8"
             ],
             [
              0.3333333333333333,
              "#9c179e"
             ],
             [
              0.4444444444444444,
              "#bd3786"
             ],
             [
              0.5555555555555556,
              "#d8576b"
             ],
             [
              0.6666666666666666,
              "#ed7953"
             ],
             [
              0.7777777777777778,
              "#fb9f3a"
             ],
             [
              0.8888888888888888,
              "#fdca26"
             ],
             [
              1,
              "#f0f921"
             ]
            ],
            "type": "heatmapgl"
           }
          ],
          "histogram": [
           {
            "marker": {
             "pattern": {
              "fillmode": "overlay",
              "size": 10,
              "solidity": 0.2
             }
            },
            "type": "histogram"
           }
          ],
          "histogram2d": [
           {
            "colorbar": {
             "outlinewidth": 0,
             "ticks": ""
            },
            "colorscale": [
             [
              0,
              "#0d0887"
             ],
             [
              0.1111111111111111,
              "#46039f"
             ],
             [
              0.2222222222222222,
              "#7201a8"
             ],
             [
              0.3333333333333333,
              "#9c179e"
             ],
             [
              0.4444444444444444,
              "#bd3786"
             ],
             [
              0.5555555555555556,
              "#d8576b"
             ],
             [
              0.6666666666666666,
              "#ed7953"
             ],
             [
              0.7777777777777778,
              "#fb9f3a"
             ],
             [
              0.8888888888888888,
              "#fdca26"
             ],
             [
              1,
              "#f0f921"
             ]
            ],
            "type": "histogram2d"
           }
          ],
          "histogram2dcontour": [
           {
            "colorbar": {
             "outlinewidth": 0,
             "ticks": ""
            },
            "colorscale": [
             [
              0,
              "#0d0887"
             ],
             [
              0.1111111111111111,
              "#46039f"
             ],
             [
              0.2222222222222222,
              "#7201a8"
             ],
             [
              0.3333333333333333,
              "#9c179e"
             ],
             [
              0.4444444444444444,
              "#bd3786"
             ],
             [
              0.5555555555555556,
              "#d8576b"
             ],
             [
              0.6666666666666666,
              "#ed7953"
             ],
             [
              0.7777777777777778,
              "#fb9f3a"
             ],
             [
              0.8888888888888888,
              "#fdca26"
             ],
             [
              1,
              "#f0f921"
             ]
            ],
            "type": "histogram2dcontour"
           }
          ],
          "mesh3d": [
           {
            "colorbar": {
             "outlinewidth": 0,
             "ticks": ""
            },
            "type": "mesh3d"
           }
          ],
          "parcoords": [
           {
            "line": {
             "colorbar": {
              "outlinewidth": 0,
              "ticks": ""
             }
            },
            "type": "parcoords"
           }
          ],
          "pie": [
           {
            "automargin": true,
            "type": "pie"
           }
          ],
          "scatter": [
           {
            "fillpattern": {
             "fillmode": "overlay",
             "size": 10,
             "solidity": 0.2
            },
            "type": "scatter"
           }
          ],
          "scatter3d": [
           {
            "line": {
             "colorbar": {
              "outlinewidth": 0,
              "ticks": ""
             }
            },
            "marker": {
             "colorbar": {
              "outlinewidth": 0,
              "ticks": ""
             }
            },
            "type": "scatter3d"
           }
          ],
          "scattercarpet": [
           {
            "marker": {
             "colorbar": {
              "outlinewidth": 0,
              "ticks": ""
             }
            },
            "type": "scattercarpet"
           }
          ],
          "scattergeo": [
           {
            "marker": {
             "colorbar": {
              "outlinewidth": 0,
              "ticks": ""
             }
            },
            "type": "scattergeo"
           }
          ],
          "scattergl": [
           {
            "marker": {
             "colorbar": {
              "outlinewidth": 0,
              "ticks": ""
             }
            },
            "type": "scattergl"
           }
          ],
          "scattermapbox": [
           {
            "marker": {
             "colorbar": {
              "outlinewidth": 0,
              "ticks": ""
             }
            },
            "type": "scattermapbox"
           }
          ],
          "scatterpolar": [
           {
            "marker": {
             "colorbar": {
              "outlinewidth": 0,
              "ticks": ""
             }
            },
            "type": "scatterpolar"
           }
          ],
          "scatterpolargl": [
           {
            "marker": {
             "colorbar": {
              "outlinewidth": 0,
              "ticks": ""
             }
            },
            "type": "scatterpolargl"
           }
          ],
          "scatterternary": [
           {
            "marker": {
             "colorbar": {
              "outlinewidth": 0,
              "ticks": ""
             }
            },
            "type": "scatterternary"
           }
          ],
          "surface": [
           {
            "colorbar": {
             "outlinewidth": 0,
             "ticks": ""
            },
            "colorscale": [
             [
              0,
              "#0d0887"
             ],
             [
              0.1111111111111111,
              "#46039f"
             ],
             [
              0.2222222222222222,
              "#7201a8"
             ],
             [
              0.3333333333333333,
              "#9c179e"
             ],
             [
              0.4444444444444444,
              "#bd3786"
             ],
             [
              0.5555555555555556,
              "#d8576b"
             ],
             [
              0.6666666666666666,
              "#ed7953"
             ],
             [
              0.7777777777777778,
              "#fb9f3a"
             ],
             [
              0.8888888888888888,
              "#fdca26"
             ],
             [
              1,
              "#f0f921"
             ]
            ],
            "type": "surface"
           }
          ],
          "table": [
           {
            "cells": {
             "fill": {
              "color": "#EBF0F8"
             },
             "line": {
              "color": "white"
             }
            },
            "header": {
             "fill": {
              "color": "#C8D4E3"
             },
             "line": {
              "color": "white"
             }
            },
            "type": "table"
           }
          ]
         },
         "layout": {
          "annotationdefaults": {
           "arrowcolor": "#2a3f5f",
           "arrowhead": 0,
           "arrowwidth": 1
          },
          "autotypenumbers": "strict",
          "coloraxis": {
           "colorbar": {
            "outlinewidth": 0,
            "ticks": ""
           }
          },
          "colorscale": {
           "diverging": [
            [
             0,
             "#8e0152"
            ],
            [
             0.1,
             "#c51b7d"
            ],
            [
             0.2,
             "#de77ae"
            ],
            [
             0.3,
             "#f1b6da"
            ],
            [
             0.4,
             "#fde0ef"
            ],
            [
             0.5,
             "#f7f7f7"
            ],
            [
             0.6,
             "#e6f5d0"
            ],
            [
             0.7,
             "#b8e186"
            ],
            [
             0.8,
             "#7fbc41"
            ],
            [
             0.9,
             "#4d9221"
            ],
            [
             1,
             "#276419"
            ]
           ],
           "sequential": [
            [
             0,
             "#0d0887"
            ],
            [
             0.1111111111111111,
             "#46039f"
            ],
            [
             0.2222222222222222,
             "#7201a8"
            ],
            [
             0.3333333333333333,
             "#9c179e"
            ],
            [
             0.4444444444444444,
             "#bd3786"
            ],
            [
             0.5555555555555556,
             "#d8576b"
            ],
            [
             0.6666666666666666,
             "#ed7953"
            ],
            [
             0.7777777777777778,
             "#fb9f3a"
            ],
            [
             0.8888888888888888,
             "#fdca26"
            ],
            [
             1,
             "#f0f921"
            ]
           ],
           "sequentialminus": [
            [
             0,
             "#0d0887"
            ],
            [
             0.1111111111111111,
             "#46039f"
            ],
            [
             0.2222222222222222,
             "#7201a8"
            ],
            [
             0.3333333333333333,
             "#9c179e"
            ],
            [
             0.4444444444444444,
             "#bd3786"
            ],
            [
             0.5555555555555556,
             "#d8576b"
            ],
            [
             0.6666666666666666,
             "#ed7953"
            ],
            [
             0.7777777777777778,
             "#fb9f3a"
            ],
            [
             0.8888888888888888,
             "#fdca26"
            ],
            [
             1,
             "#f0f921"
            ]
           ]
          },
          "colorway": [
           "#636efa",
           "#EF553B",
           "#00cc96",
           "#ab63fa",
           "#FFA15A",
           "#19d3f3",
           "#FF6692",
           "#B6E880",
           "#FF97FF",
           "#FECB52"
          ],
          "font": {
           "color": "#2a3f5f"
          },
          "geo": {
           "bgcolor": "white",
           "lakecolor": "white",
           "landcolor": "white",
           "showlakes": true,
           "showland": true,
           "subunitcolor": "#C8D4E3"
          },
          "hoverlabel": {
           "align": "left"
          },
          "hovermode": "closest",
          "mapbox": {
           "style": "light"
          },
          "paper_bgcolor": "white",
          "plot_bgcolor": "white",
          "polar": {
           "angularaxis": {
            "gridcolor": "#EBF0F8",
            "linecolor": "#EBF0F8",
            "ticks": ""
           },
           "bgcolor": "white",
           "radialaxis": {
            "gridcolor": "#EBF0F8",
            "linecolor": "#EBF0F8",
            "ticks": ""
           }
          },
          "scene": {
           "xaxis": {
            "backgroundcolor": "white",
            "gridcolor": "#DFE8F3",
            "gridwidth": 2,
            "linecolor": "#EBF0F8",
            "showbackground": true,
            "ticks": "",
            "zerolinecolor": "#EBF0F8"
           },
           "yaxis": {
            "backgroundcolor": "white",
            "gridcolor": "#DFE8F3",
            "gridwidth": 2,
            "linecolor": "#EBF0F8",
            "showbackground": true,
            "ticks": "",
            "zerolinecolor": "#EBF0F8"
           },
           "zaxis": {
            "backgroundcolor": "white",
            "gridcolor": "#DFE8F3",
            "gridwidth": 2,
            "linecolor": "#EBF0F8",
            "showbackground": true,
            "ticks": "",
            "zerolinecolor": "#EBF0F8"
           }
          },
          "shapedefaults": {
           "line": {
            "color": "#2a3f5f"
           }
          },
          "ternary": {
           "aaxis": {
            "gridcolor": "#DFE8F3",
            "linecolor": "#A2B1C6",
            "ticks": ""
           },
           "baxis": {
            "gridcolor": "#DFE8F3",
            "linecolor": "#A2B1C6",
            "ticks": ""
           },
           "bgcolor": "white",
           "caxis": {
            "gridcolor": "#DFE8F3",
            "linecolor": "#A2B1C6",
            "ticks": ""
           }
          },
          "title": {
           "x": 0.05
          },
          "xaxis": {
           "automargin": true,
           "gridcolor": "#EBF0F8",
           "linecolor": "#EBF0F8",
           "ticks": "",
           "title": {
            "standoff": 15
           },
           "zerolinecolor": "#EBF0F8",
           "zerolinewidth": 2
          },
          "yaxis": {
           "automargin": true,
           "gridcolor": "#EBF0F8",
           "linecolor": "#EBF0F8",
           "ticks": "",
           "title": {
            "standoff": 15
           },
           "zerolinecolor": "#EBF0F8",
           "zerolinewidth": 2
          }
         }
        },
        "title": {
         "text": "Mathematical Problem Solving Training Curves"
        },
        "width": 1000,
        "xaxis": {
         "title": {
          "text": "Epoch"
         }
        },
        "yaxis": {
         "title": {
          "text": "Accuracy"
         }
        }
       }
      },
      "text/html": [
       "<div>                            <div id=\"02a223bb-2c31-42e3-82c5-428cb08a6a11\" class=\"plotly-graph-div\" style=\"height:600px; width:1000px;\"></div>            <script type=\"text/javascript\">                require([\"plotly\"], function(Plotly) {                    window.PLOTLYENV=window.PLOTLYENV || {};                                    if (document.getElementById(\"02a223bb-2c31-42e3-82c5-428cb08a6a11\")) {                    Plotly.newPlot(                        \"02a223bb-2c31-42e3-82c5-428cb08a6a11\",                        [{\"error_y\":{\"array\":[0.0005258658123955155,0.0017084659367440694,0.0015637397592897261,0.0008898927307821528,0.0025911269322742713,0.003172651614379972,0.005279781436634869,0.006945415795858479,0.010400144574378904,0.011516440378361161,0.013047656028294267,0.012965905735513086,0.011126271685969866,0.010512554534539205,0.009372448626409688,0.008754199234060015,0.008067120752032893,0.010188339950330208,0.007736326653835624,0.011413051633684923],\"type\":\"data\",\"visible\":true},\"line\":{\"color\":\"rgb(214, 39, 40)\"},\"mode\":\"lines\",\"name\":\"Transformer\",\"x\":[4.0,9.0,14.0,19.0,24.0,29.0,34.0,39.0,44.0,49.0,54.0,59.0,64.0,69.0,74.0,79.0,84.0,89.0,94.0,99.0],\"y\":[0.48228466510772705,0.4888980686664581,0.4943712055683136,0.5011872723698616,0.5059846639633179,0.5151258558034897,0.5233724266290665,0.5352822691202164,0.5474032312631607,0.5623408854007721,0.5692228823900223,0.5771707743406296,0.5854265242815018,0.5928248316049576,0.595622792840004,0.6021913141012192,0.607970267534256,0.6101114153862,0.6202907413244247,0.6247753500938416],\"type\":\"scatter\"},{\"error_y\":{\"array\":[0.0034393012567701807,0.006023419065552087,0.007165744749314876,0.007705676869760212,0.008408884650170678,0.010180994495696774,0.010175669950672653,0.008799168200803792,0.008344880504881459,0.008883483242305434,0.007981947728462998,0.007406662742597454,0.007554032877317568,0.008256519815648922,0.0075104583669818965,0.007162649796943665,0.006876108116517163,0.007976330872137692,0.0069744668479233074,0.00971944480629242],\"type\":\"data\",\"visible\":true},\"line\":{\"color\":\"rgb(148, 103, 189)\"},\"mode\":\"lines\",\"name\":\"Dual-Attn Transformer (config 1)\",\"x\":[4.0,9.0,14.0,19.0,24.0,29.0,34.0,39.0,44.0,49.0,54.0,59.0,64.0,69.0,74.0,79.0,84.0,89.0,94.0,99.0],\"y\":[0.5505271852016449,0.5710848987102508,0.5870335519313812,0.6037724375724792,0.6129881203174591,0.6243488669395447,0.6285506188869476,0.6397096633911132,0.6457772016525268,0.6519508242607117,0.6549185752868653,0.6534022390842438,0.6615999698638916,0.6652063310146332,0.66423419713974,0.6740758359432221,0.6676482498645783,0.6581236038889203,0.6633440767015729,0.6647541778428214],\"type\":\"scatter\"},{\"error_y\":{\"array\":[0.0013629309320829517,0.004482871534803298,0.0063254413224691905,0.0067292213090803035,0.00626567108912374,0.007462463492613577,0.006468304349229696,0.009613728603207902,0.010880677122266686,0.012084016409814295,0.014105534689591222,0.014996459973894882,0.015278810389958849,0.017663989853100113,0.016108721207964912,0.017561808015959173,0.018855265758130946,0.011118118232507277,0.015502109639525327,0.016513949802765476],\"type\":\"data\",\"visible\":true},\"line\":{\"color\":\"rgb(31, 119, 180)\"},\"mode\":\"lines\",\"name\":\"Dual-Attn Transformer (config 2)\",\"x\":[4.0,9.0,14.0,19.0,24.0,29.0,34.0,39.0,44.0,49.0,54.0,59.0,64.0,69.0,74.0,79.0,84.0,89.0,94.0,99.0],\"y\":[0.5466992378234863,0.5663139760494232,0.5815501928329467,0.5976958811283112,0.6173567533493042,0.6247200131416321,0.631817489862442,0.6394965350627899,0.6465744793415069,0.6481600522994995,0.6436293721199036,0.6477948129177094,0.6496267020702362,0.6510614514350891,0.6566296517848969,0.6568164229393005,0.6580181658267975,0.6644337688173566,0.6625218391418457,0.6633102297782898],\"type\":\"scatter\"}],                        {\"font\":{\"family\":\"Computer Modern\"},\"height\":600,\"legend\":{\"bordercolor\":\"Black\",\"borderwidth\":1,\"title\":{\"text\":\"Model\"},\"x\":0.99,\"xanchor\":\"right\",\"y\":0.01,\"yanchor\":\"bottom\"},\"sliders\":[{\"steps\":[{\"args\":[[\"algebra__linear_1d\"]],\"label\":\"algebra__linear_1d\",\"method\":\"animate\"},{\"args\":[[\"algebra__sequence_next_term\"]],\"label\":\"algebra__sequence_next_term\",\"method\":\"animate\"},{\"args\":[[\"calculus__differentiate\"]],\"label\":\"calculus__differentiate\",\"method\":\"animate\"},{\"args\":[[\"polynomials__add\"]],\"label\":\"polynomials__add\",\"method\":\"animate\"},{\"args\":[[\"polynomials__expand\"]],\"label\":\"polynomials__expand\",\"method\":\"animate\"}]}],\"template\":{\"data\":{\"barpolar\":[{\"marker\":{\"line\":{\"color\":\"white\",\"width\":0.5},\"pattern\":{\"fillmode\":\"overlay\",\"size\":10,\"solidity\":0.2}},\"type\":\"barpolar\"}],\"bar\":[{\"error_x\":{\"color\":\"#2a3f5f\"},\"error_y\":{\"color\":\"#2a3f5f\"},\"marker\":{\"line\":{\"color\":\"white\",\"width\":0.5},\"pattern\":{\"fillmode\":\"overlay\",\"size\":10,\"solidity\":0.2}},\"type\":\"bar\"}],\"carpet\":[{\"aaxis\":{\"endlinecolor\":\"#2a3f5f\",\"gridcolor\":\"#C8D4E3\",\"linecolor\":\"#C8D4E3\",\"minorgridcolor\":\"#C8D4E3\",\"startlinecolor\":\"#2a3f5f\"},\"baxis\":{\"endlinecolor\":\"#2a3f5f\",\"gridcolor\":\"#C8D4E3\",\"linecolor\":\"#C8D4E3\",\"minorgridcolor\":\"#C8D4E3\",\"startlinecolor\":\"#2a3f5f\"},\"type\":\"carpet\"}],\"choropleth\":[{\"colorbar\":{\"outlinewidth\":0,\"ticks\":\"\"},\"type\":\"choropleth\"}],\"contourcarpet\":[{\"colorbar\":{\"outlinewidth\":0,\"ticks\":\"\"},\"type\":\"contourcarpet\"}],\"contour\":[{\"colorbar\":{\"outlinewidth\":0,\"ticks\":\"\"},\"colorscale\":[[0.0,\"#0d0887\"],[0.1111111111111111,\"#46039f\"],[0.2222222222222222,\"#7201a8\"],[0.3333333333333333,\"#9c179e\"],[0.4444444444444444,\"#bd3786\"],[0.5555555555555556,\"#d8576b\"],[0.6666666666666666,\"#ed7953\"],[0.7777777777777778,\"#fb9f3a\"],[0.8888888888888888,\"#fdca26\"],[1.0,\"#f0f921\"]],\"type\":\"contour\"}],\"heatmapgl\":[{\"colorbar\":{\"outlinewidth\":0,\"ticks\":\"\"},\"colorscale\":[[0.0,\"#0d0887\"],[0.1111111111111111,\"#46039f\"],[0.2222222222222222,\"#7201a8\"],[0.3333333333333333,\"#9c179e\"],[0.4444444444444444,\"#bd3786\"],[0.5555555555555556,\"#d8576b\"],[0.6666666666666666,\"#ed7953\"],[0.7777777777777778,\"#fb9f3a\"],[0.8888888888888888,\"#fdca26\"],[1.0,\"#f0f921\"]],\"type\":\"heatmapgl\"}],\"heatmap\":[{\"colorbar\":{\"outlinewidth\":0,\"ticks\":\"\"},\"colorscale\":[[0.0,\"#0d0887\"],[0.1111111111111111,\"#46039f\"],[0.2222222222222222,\"#7201a8\"],[0.3333333333333333,\"#9c179e\"],[0.4444444444444444,\"#bd3786\"],[0.5555555555555556,\"#d8576b\"],[0.6666666666666666,\"#ed7953\"],[0.7777777777777778,\"#fb9f3a\"],[0.8888888888888888,\"#fdca26\"],[1.0,\"#f0f921\"]],\"type\":\"heatmap\"}],\"histogram2dcontour\":[{\"colorbar\":{\"outlinewidth\":0,\"ticks\":\"\"},\"colorscale\":[[0.0,\"#0d0887\"],[0.1111111111111111,\"#46039f\"],[0.2222222222222222,\"#7201a8\"],[0.3333333333333333,\"#9c179e\"],[0.4444444444444444,\"#bd3786\"],[0.5555555555555556,\"#d8576b\"],[0.6666666666666666,\"#ed7953\"],[0.7777777777777778,\"#fb9f3a\"],[0.8888888888888888,\"#fdca26\"],[1.0,\"#f0f921\"]],\"type\":\"histogram2dcontour\"}],\"histogram2d\":[{\"colorbar\":{\"outlinewidth\":0,\"ticks\":\"\"},\"colorscale\":[[0.0,\"#0d0887\"],[0.1111111111111111,\"#46039f\"],[0.2222222222222222,\"#7201a8\"],[0.3333333333333333,\"#9c179e\"],[0.4444444444444444,\"#bd3786\"],[0.5555555555555556,\"#d8576b\"],[0.6666666666666666,\"#ed7953\"],[0.7777777777777778,\"#fb9f3a\"],[0.8888888888888888,\"#fdca26\"],[1.0,\"#f0f921\"]],\"type\":\"histogram2d\"}],\"histogram\":[{\"marker\":{\"pattern\":{\"fillmode\":\"overlay\",\"size\":10,\"solidity\":0.2}},\"type\":\"histogram\"}],\"mesh3d\":[{\"colorbar\":{\"outlinewidth\":0,\"ticks\":\"\"},\"type\":\"mesh3d\"}],\"parcoords\":[{\"line\":{\"colorbar\":{\"outlinewidth\":0,\"ticks\":\"\"}},\"type\":\"parcoords\"}],\"pie\":[{\"automargin\":true,\"type\":\"pie\"}],\"scatter3d\":[{\"line\":{\"colorbar\":{\"outlinewidth\":0,\"ticks\":\"\"}},\"marker\":{\"colorbar\":{\"outlinewidth\":0,\"ticks\":\"\"}},\"type\":\"scatter3d\"}],\"scattercarpet\":[{\"marker\":{\"colorbar\":{\"outlinewidth\":0,\"ticks\":\"\"}},\"type\":\"scattercarpet\"}],\"scattergeo\":[{\"marker\":{\"colorbar\":{\"outlinewidth\":0,\"ticks\":\"\"}},\"type\":\"scattergeo\"}],\"scattergl\":[{\"marker\":{\"colorbar\":{\"outlinewidth\":0,\"ticks\":\"\"}},\"type\":\"scattergl\"}],\"scattermapbox\":[{\"marker\":{\"colorbar\":{\"outlinewidth\":0,\"ticks\":\"\"}},\"type\":\"scattermapbox\"}],\"scatterpolargl\":[{\"marker\":{\"colorbar\":{\"outlinewidth\":0,\"ticks\":\"\"}},\"type\":\"scatterpolargl\"}],\"scatterpolar\":[{\"marker\":{\"colorbar\":{\"outlinewidth\":0,\"ticks\":\"\"}},\"type\":\"scatterpolar\"}],\"scatter\":[{\"fillpattern\":{\"fillmode\":\"overlay\",\"size\":10,\"solidity\":0.2},\"type\":\"scatter\"}],\"scatterternary\":[{\"marker\":{\"colorbar\":{\"outlinewidth\":0,\"ticks\":\"\"}},\"type\":\"scatterternary\"}],\"surface\":[{\"colorbar\":{\"outlinewidth\":0,\"ticks\":\"\"},\"colorscale\":[[0.0,\"#0d0887\"],[0.1111111111111111,\"#46039f\"],[0.2222222222222222,\"#7201a8\"],[0.3333333333333333,\"#9c179e\"],[0.4444444444444444,\"#bd3786\"],[0.5555555555555556,\"#d8576b\"],[0.6666666666666666,\"#ed7953\"],[0.7777777777777778,\"#fb9f3a\"],[0.8888888888888888,\"#fdca26\"],[1.0,\"#f0f921\"]],\"type\":\"surface\"}],\"table\":[{\"cells\":{\"fill\":{\"color\":\"#EBF0F8\"},\"line\":{\"color\":\"white\"}},\"header\":{\"fill\":{\"color\":\"#C8D4E3\"},\"line\":{\"color\":\"white\"}},\"type\":\"table\"}]},\"layout\":{\"annotationdefaults\":{\"arrowcolor\":\"#2a3f5f\",\"arrowhead\":0,\"arrowwidth\":1},\"autotypenumbers\":\"strict\",\"coloraxis\":{\"colorbar\":{\"outlinewidth\":0,\"ticks\":\"\"}},\"colorscale\":{\"diverging\":[[0,\"#8e0152\"],[0.1,\"#c51b7d\"],[0.2,\"#de77ae\"],[0.3,\"#f1b6da\"],[0.4,\"#fde0ef\"],[0.5,\"#f7f7f7\"],[0.6,\"#e6f5d0\"],[0.7,\"#b8e186\"],[0.8,\"#7fbc41\"],[0.9,\"#4d9221\"],[1,\"#276419\"]],\"sequential\":[[0.0,\"#0d0887\"],[0.1111111111111111,\"#46039f\"],[0.2222222222222222,\"#7201a8\"],[0.3333333333333333,\"#9c179e\"],[0.4444444444444444,\"#bd3786\"],[0.5555555555555556,\"#d8576b\"],[0.6666666666666666,\"#ed7953\"],[0.7777777777777778,\"#fb9f3a\"],[0.8888888888888888,\"#fdca26\"],[1.0,\"#f0f921\"]],\"sequentialminus\":[[0.0,\"#0d0887\"],[0.1111111111111111,\"#46039f\"],[0.2222222222222222,\"#7201a8\"],[0.3333333333333333,\"#9c179e\"],[0.4444444444444444,\"#bd3786\"],[0.5555555555555556,\"#d8576b\"],[0.6666666666666666,\"#ed7953\"],[0.7777777777777778,\"#fb9f3a\"],[0.8888888888888888,\"#fdca26\"],[1.0,\"#f0f921\"]]},\"colorway\":[\"#636efa\",\"#EF553B\",\"#00cc96\",\"#ab63fa\",\"#FFA15A\",\"#19d3f3\",\"#FF6692\",\"#B6E880\",\"#FF97FF\",\"#FECB52\"],\"font\":{\"color\":\"#2a3f5f\"},\"geo\":{\"bgcolor\":\"white\",\"lakecolor\":\"white\",\"landcolor\":\"white\",\"showlakes\":true,\"showland\":true,\"subunitcolor\":\"#C8D4E3\"},\"hoverlabel\":{\"align\":\"left\"},\"hovermode\":\"closest\",\"mapbox\":{\"style\":\"light\"},\"paper_bgcolor\":\"white\",\"plot_bgcolor\":\"white\",\"polar\":{\"angularaxis\":{\"gridcolor\":\"#EBF0F8\",\"linecolor\":\"#EBF0F8\",\"ticks\":\"\"},\"bgcolor\":\"white\",\"radialaxis\":{\"gridcolor\":\"#EBF0F8\",\"linecolor\":\"#EBF0F8\",\"ticks\":\"\"}},\"scene\":{\"xaxis\":{\"backgroundcolor\":\"white\",\"gridcolor\":\"#DFE8F3\",\"gridwidth\":2,\"linecolor\":\"#EBF0F8\",\"showbackground\":true,\"ticks\":\"\",\"zerolinecolor\":\"#EBF0F8\"},\"yaxis\":{\"backgroundcolor\":\"white\",\"gridcolor\":\"#DFE8F3\",\"gridwidth\":2,\"linecolor\":\"#EBF0F8\",\"showbackground\":true,\"ticks\":\"\",\"zerolinecolor\":\"#EBF0F8\"},\"zaxis\":{\"backgroundcolor\":\"white\",\"gridcolor\":\"#DFE8F3\",\"gridwidth\":2,\"linecolor\":\"#EBF0F8\",\"showbackground\":true,\"ticks\":\"\",\"zerolinecolor\":\"#EBF0F8\"}},\"shapedefaults\":{\"line\":{\"color\":\"#2a3f5f\"}},\"ternary\":{\"aaxis\":{\"gridcolor\":\"#DFE8F3\",\"linecolor\":\"#A2B1C6\",\"ticks\":\"\"},\"baxis\":{\"gridcolor\":\"#DFE8F3\",\"linecolor\":\"#A2B1C6\",\"ticks\":\"\"},\"bgcolor\":\"white\",\"caxis\":{\"gridcolor\":\"#DFE8F3\",\"linecolor\":\"#A2B1C6\",\"ticks\":\"\"}},\"title\":{\"x\":0.05},\"xaxis\":{\"automargin\":true,\"gridcolor\":\"#EBF0F8\",\"linecolor\":\"#EBF0F8\",\"ticks\":\"\",\"title\":{\"standoff\":15},\"zerolinecolor\":\"#EBF0F8\",\"zerolinewidth\":2},\"yaxis\":{\"automargin\":true,\"gridcolor\":\"#EBF0F8\",\"linecolor\":\"#EBF0F8\",\"ticks\":\"\",\"title\":{\"standoff\":15},\"zerolinecolor\":\"#EBF0F8\",\"zerolinewidth\":2}}},\"title\":{\"text\":\"Mathematical Problem Solving Training Curves\"},\"width\":1000,\"xaxis\":{\"title\":{\"text\":\"Epoch\"}},\"yaxis\":{\"title\":{\"text\":\"Accuracy\"}}},                        {\"responsive\": true}                    ).then(function(){\n",
       "                            Plotly.addFrames('02a223bb-2c31-42e3-82c5-428cb08a6a11', [{\"data\":[{\"error_y\":{\"array\":[0.0005258658123955155,0.0017084659367440694,0.0015637397592897261,0.0008898927307821528,0.0025911269322742713,0.003172651614379972,0.005279781436634869,0.006945415795858479,0.010400144574378904,0.011516440378361161,0.013047656028294267,0.012965905735513086,0.011126271685969866,0.010512554534539205,0.009372448626409688,0.008754199234060015,0.008067120752032893,0.010188339950330208,0.007736326653835624,0.011413051633684923],\"type\":\"data\",\"visible\":true},\"line\":{\"color\":\"rgb(214, 39, 40)\"},\"mode\":\"lines\",\"name\":\"Transformer\",\"x\":[4.0,9.0,14.0,19.0,24.0,29.0,34.0,39.0,44.0,49.0,54.0,59.0,64.0,69.0,74.0,79.0,84.0,89.0,94.0,99.0],\"y\":[0.48228466510772705,0.4888980686664581,0.4943712055683136,0.5011872723698616,0.5059846639633179,0.5151258558034897,0.5233724266290665,0.5352822691202164,0.5474032312631607,0.5623408854007721,0.5692228823900223,0.5771707743406296,0.5854265242815018,0.5928248316049576,0.595622792840004,0.6021913141012192,0.607970267534256,0.6101114153862,0.6202907413244247,0.6247753500938416],\"type\":\"scatter\"},{\"error_y\":{\"array\":[0.0034393012567701807,0.006023419065552087,0.007165744749314876,0.007705676869760212,0.008408884650170678,0.010180994495696774,0.010175669950672653,0.008799168200803792,0.008344880504881459,0.008883483242305434,0.007981947728462998,0.007406662742597454,0.007554032877317568,0.008256519815648922,0.0075104583669818965,0.007162649796943665,0.006876108116517163,0.007976330872137692,0.0069744668479233074,0.00971944480629242],\"type\":\"data\",\"visible\":true},\"line\":{\"color\":\"rgb(148, 103, 189)\"},\"mode\":\"lines\",\"name\":\"Dual-Attn Transformer (config 1)\",\"x\":[4.0,9.0,14.0,19.0,24.0,29.0,34.0,39.0,44.0,49.0,54.0,59.0,64.0,69.0,74.0,79.0,84.0,89.0,94.0,99.0],\"y\":[0.5505271852016449,0.5710848987102508,0.5870335519313812,0.6037724375724792,0.6129881203174591,0.6243488669395447,0.6285506188869476,0.6397096633911132,0.6457772016525268,0.6519508242607117,0.6549185752868653,0.6534022390842438,0.6615999698638916,0.6652063310146332,0.66423419713974,0.6740758359432221,0.6676482498645783,0.6581236038889203,0.6633440767015729,0.6647541778428214],\"type\":\"scatter\"},{\"error_y\":{\"array\":[0.0013629309320829517,0.004482871534803298,0.0063254413224691905,0.0067292213090803035,0.00626567108912374,0.007462463492613577,0.006468304349229696,0.009613728603207902,0.010880677122266686,0.012084016409814295,0.014105534689591222,0.014996459973894882,0.015278810389958849,0.017663989853100113,0.016108721207964912,0.017561808015959173,0.018855265758130946,0.011118118232507277,0.015502109639525327,0.016513949802765476],\"type\":\"data\",\"visible\":true},\"line\":{\"color\":\"rgb(31, 119, 180)\"},\"mode\":\"lines\",\"name\":\"Dual-Attn Transformer (config 2)\",\"x\":[4.0,9.0,14.0,19.0,24.0,29.0,34.0,39.0,44.0,49.0,54.0,59.0,64.0,69.0,74.0,79.0,84.0,89.0,94.0,99.0],\"y\":[0.5466992378234863,0.5663139760494232,0.5815501928329467,0.5976958811283112,0.6173567533493042,0.6247200131416321,0.631817489862442,0.6394965350627899,0.6465744793415069,0.6481600522994995,0.6436293721199036,0.6477948129177094,0.6496267020702362,0.6510614514350891,0.6566296517848969,0.6568164229393005,0.6580181658267975,0.6644337688173566,0.6625218391418457,0.6633102297782898],\"type\":\"scatter\"}],\"layout\":{\"yaxis\":{\"range\":[0.47748988583683966,0.6788706152141094]}},\"name\":\"algebra__linear_1d\"},{\"data\":[{\"error_y\":{\"array\":[0.007986014045743726,0.03438754040513664,0.04489404208408058,0.042248332231722134,0.03447652241552698,0.029848096000356115,0.019125600421817247,0.011191196879851147,0.00722917123272805,0.005865865821859878,0.004852181274258027,0.004454409345328543,0.004610209056922106,0.003633916949409178,0.003444391783648109,0.0032313143429922816,0.0032445815840279404,0.0028541837404793043,0.0028081816737810603,0.002026369245449504],\"type\":\"data\",\"visible\":true},\"line\":{\"color\":\"rgb(214, 39, 40)\"},\"mode\":\"lines\",\"name\":\"Transformer\",\"x\":[4.0,9.0,14.0,19.0,24.0,29.0,34.0,39.0,44.0,49.0,54.0,59.0,64.0,69.0,74.0,79.0,84.0,89.0,94.0,99.0],\"y\":[0.43533989042043686,0.5934583842754364,0.6778056174516678,0.7528389692306519,0.8037928193807602,0.83047716319561,0.850370854139328,0.8653631657361984,0.87709841132164,0.8837580978870392,0.8873158544301987,0.8922452330589294,0.8942862898111343,0.8968605250120163,0.9011814147233963,0.903916522860527,0.9065931737422943,0.906397208571434,0.9090142250061035,0.9105456471443176],\"type\":\"scatter\"},{\"error_y\":{\"array\":[0.006569608397743169,0.009761089969051267,0.010143050674258906,0.00966107360916112,0.008905210814219662,0.008197099979947029,0.007834448611722802,0.007477441133099274,0.006554594421461218,0.005817581333778375,0.005224278932462767,0.005116853413056759,0.00550055399210798,0.005401365831989954,0.00512460645981437,0.0053390451468275325,0.005200373411929073,0.007515180910502312,0.006663674492302285,0.006443863392854542],\"type\":\"data\",\"visible\":true},\"line\":{\"color\":\"rgb(148, 103, 189)\"},\"mode\":\"lines\",\"name\":\"Dual-Attn Transformer (config 1)\",\"x\":[4.0,9.0,14.0,19.0,24.0,29.0,34.0,39.0,44.0,49.0,54.0,59.0,64.0,69.0,74.0,79.0,84.0,89.0,94.0,99.0],\"y\":[0.8118852257728577,0.8436391413211822,0.8611631572246552,0.8713661968708039,0.8785997152328491,0.8850554049015045,0.8892729043960571,0.8928730428218842,0.8962560415267944,0.8993125438690186,0.9033020853996276,0.9052692592144013,0.9076133787631988,0.9097234845161438,0.9105422377586365,0.9129216015338898,0.914091271162033,0.9119407633940378,0.9134882092475891,0.916180282831192],\"type\":\"scatter\"},{\"error_y\":{\"array\":[0.002963760258608651,0.005929426884095398,0.0054459208301108,0.00548250162101643,0.005358211380977648,0.005219750089814659,0.0051598707776706705,0.0049077077698386085,0.0047359808312674645,0.004525655962154143,0.004354605679893468,0.0044635471965719644,0.004134767592810557,0.0038571262710518864,0.0036627273971126663,0.0035634091478286196,0.0034305299027602956,0.004435567591699897,0.004569485248050136,0.0044130403823508454],\"type\":\"data\",\"visible\":true},\"line\":{\"color\":\"rgb(31, 119, 180)\"},\"mode\":\"lines\",\"name\":\"Dual-Attn Transformer (config 2)\",\"x\":[4.0,9.0,14.0,19.0,24.0,29.0,34.0,39.0,44.0,49.0,54.0,59.0,64.0,69.0,74.0,79.0,84.0,89.0,94.0,99.0],\"y\":[0.8047662675380707,0.8537055075168609,0.8791595697402954,0.8910142123699188,0.8979717075824738,0.9016346335411072,0.9050088405609131,0.907270324230194,0.9088334023952485,0.9102227985858917,0.9127011835575104,0.9162335574626923,0.9172501385211944,0.9199620068073273,0.9216444611549377,0.9223995089530945,0.9228693902492523,0.9195523659388224,0.9197854200998942,0.9211684763431549],\"type\":\"scatter\"}],\"layout\":{\"yaxis\":{\"range\":[0.42315165292471646,0.9350576277449727]}},\"name\":\"algebra__sequence_next_term\"},{\"data\":[{\"error_y\":{\"array\":[0.002803349576656056,0.00800997365232146,0.005608686264690809,0.0029573395641413172,0.0017416751630713316,0.0014967400773397254,0.0006056226412883626,0.00022770642415738922,0.00044678845702450254,0.0005188686052873796,0.0003388095206038265,0.0006910551001036589,0.000498569636111682,0.000400360793999359,0.00066197684762739,0.0005567262580158384,0.00021623354679333162,0.0002561344958668634,0.00030331040512398703,0.0002757009235975849],\"type\":\"data\",\"visible\":true},\"line\":{\"color\":\"rgb(214, 39, 40)\"},\"mode\":\"lines\",\"name\":\"Transformer\",\"x\":[4.0,9.0,14.0,19.0,24.0,29.0,34.0,39.0,44.0,49.0,54.0,59.0,64.0,69.0,74.0,79.0,84.0,89.0,94.0,99.0],\"y\":[0.8503601998090744,0.9188879281282425,0.9538295269012451,0.9769859313964845,0.9858916252851486,0.9894192963838577,0.9920722544193268,0.9934806972742081,0.9940302968025208,0.9954994320869445,0.9960216581821442,0.9960269182920456,0.9970491826534271,0.9971935153007507,0.9978291094303131,0.9979505836963654,0.9985859394073486,0.9985254555940628,0.9989345371723175,0.9988716542720795],\"type\":\"scatter\"},{\"error_y\":{\"array\":[0.0013779511383654097,0.0005093402891433126,0.0004830699269167841,0.00018425546710869523,0.00014952270495614014,0.00013457740804539357,0.00014289224054146445,0.00013217945007216919,0.00012098255658854916,9.322449039808445e-05,8.882607846976573e-05,0.00010408940854963828,5.4393643806087955e-05,4.087676031915846e-05,3.5483117178493504e-05,3.168916757687499e-05,4.067718292475961e-05,4.653493074569886e-06,1.7055997986743364e-05,2.1835601719623848e-05],\"type\":\"data\",\"visible\":true},\"line\":{\"color\":\"rgb(148, 103, 189)\"},\"mode\":\"lines\",\"name\":\"Dual-Attn Transformer (config 1)\",\"x\":[4.0,9.0,14.0,19.0,24.0,29.0,34.0,39.0,44.0,49.0,54.0,59.0,64.0,69.0,74.0,79.0,84.0,89.0,94.0,99.0],\"y\":[0.9773889780044556,0.9935435950756073,0.9959905862808227,0.9977547526359558,0.998455798625946,0.9987538814544678,0.9989890992641449,0.999267327785492,0.9993830621242523,0.9994941830635071,0.9995473980903625,0.9995558023452759,0.9996414244174957,0.9996728897094727,0.9997249782085419,0.999753612279892,0.9997568130493164,0.9998094320297242,0.9998482823371887,0.9998672485351563],\"type\":\"scatter\"},{\"error_y\":{\"array\":[0.0005053528788817753,0.00013704110489555052,6.827995148474665e-05,4.549357353811879e-05,2.826480138487468e-05,2.918483885126296e-05,1.7824882379157084e-05,1.6163386801158405e-05,1.1497178232259845e-05,7.74387068340803e-06,1.5770577037944462e-05,1.240406709829428e-05,8.578864448666737e-06,6.983909008462468e-06,1.4955376439152316e-05,6.7810715261739005e-06,5.598855915454326e-06,7.307079357852039e-06,8.137864286132898e-06,9.010987604688928e-06],\"type\":\"data\",\"visible\":true},\"line\":{\"color\":\"rgb(31, 119, 180)\"},\"mode\":\"lines\",\"name\":\"Dual-Attn Transformer (config 2)\",\"x\":[4.0,9.0,14.0,19.0,24.0,29.0,34.0,39.0,44.0,49.0,54.0,59.0,64.0,69.0,74.0,79.0,84.0,89.0,94.0,99.0],\"y\":[0.9936679363250732,0.9982018113136292,0.9991226673126221,0.9993857264518737,0.999543422460556,0.9996380984783173,0.9997087240219116,0.9997576415538788,0.9997923374176025,0.9998080372810364,0.9998344302177429,0.9998484909534454,0.9998694479465484,0.9998853445053101,0.999871027469635,0.9998955130577087,0.9998986482620239,0.9999046996235847,0.9999053925275803,0.9999149069190025],\"type\":\"scatter\"}],\"layout\":{\"yaxis\":{\"range\":[0.8466213321313262,1.0036537745967506]}},\"name\":\"calculus__differentiate\"},{\"data\":[{\"error_y\":{\"array\":[0.0008421903827072253,0.0021212898668255082,0.004360742559096439,0.007126024747452695,0.009427139673331218,0.010863561819418612,0.010729272891252832,0.010594688730626557,0.008064948662968812,0.006337710248351899,0.005042684849261662,0.0035771097061278977,0.002932661247903065,0.0024356486265627157,0.0016426005700217665,0.0019669345819603406,0.0014584185937222935,0.001281660173515091,0.0008921498000810114,0.000514853320050759],\"type\":\"data\",\"visible\":true},\"line\":{\"color\":\"rgb(214, 39, 40)\"},\"mode\":\"lines\",\"name\":\"Transformer\",\"x\":[4.0,9.0,14.0,19.0,24.0,29.0,34.0,39.0,44.0,49.0,54.0,59.0,64.0,69.0,74.0,79.0,84.0,89.0,94.0,99.0],\"y\":[0.7263843864202499,0.7356336861848831,0.7476902902126312,0.7620893269777298,0.7737698405981064,0.7828514724969864,0.788723960518837,0.7962399870157242,0.7995532155036926,0.8069478273391724,0.8127561807632446,0.8134114742279053,0.8191894143819809,0.8206781297922134,0.8242332339286804,0.827751100063324,0.8282398581504822,0.8303149789571762,0.8320855498313904,0.8327324092388153],\"type\":\"scatter\"},{\"error_y\":{\"array\":[0.0010785884098634874,0.0006530764283059874,0.0006186006540806129,0.0005103063827994359,0.0005438717953023676,0.0005825668860536942,0.0005267718664138638,0.0006075703753691359,0.00043489335733017386,0.0004025890053977513,0.00045328695686964424,0.00034356154075720365,0.00041168538892047337,0.0003162455740858087,0.00038281413098396145,0.0003237675562392531,0.00036394088156901954,0.00036848259572948224,0.0004273627660547744,0.000336433672562388],\"type\":\"data\",\"visible\":true},\"line\":{\"color\":\"rgb(148, 103, 189)\"},\"mode\":\"lines\",\"name\":\"Dual-Attn Transformer (config 1)\",\"x\":[4.0,9.0,14.0,19.0,24.0,29.0,34.0,39.0,44.0,49.0,54.0,59.0,64.0,69.0,74.0,79.0,84.0,89.0,94.0,99.0],\"y\":[0.8044332385063171,0.8244253098964691,0.8323751270771027,0.8377409338951111,0.8410828948020935,0.843831193447113,0.8456675946712494,0.8471285760402679,0.8489103496074677,0.8497707366943359,0.8509586751461029,0.8517054557800293,0.8522664904594421,0.8530966401100158,0.8536753535270691,0.8543956100940704,0.8547371327877045,0.8555856496095657,0.8560435548424721,0.8561355993151665],\"type\":\"scatter\"},{\"error_y\":{\"array\":[0.0008555533619100813,0.0008702699177044581,0.0007415129131024246,0.0006611645946494758,0.0006257614256570915,0.0005682770958052406,0.0005281898347181244,0.0005016156363368278,0.000440062023169616,0.0005415236885013113,0.0004423130918510959,0.0004825830724826533,0.0004950206731095447,0.0005263627967078023,0.0005240462224132857,0.0005184794358518879,0.0005179049299326424,0.000517709658394279,0.0005609491111036569,0.0005502035650123913],\"type\":\"data\",\"visible\":true},\"line\":{\"color\":\"rgb(31, 119, 180)\"},\"mode\":\"lines\",\"name\":\"Dual-Attn Transformer (config 2)\",\"x\":[4.0,9.0,14.0,19.0,24.0,29.0,34.0,39.0,44.0,49.0,54.0,59.0,64.0,69.0,74.0,79.0,84.0,89.0,94.0,99.0],\"y\":[0.8129850149154663,0.8298058986663819,0.8375898540019989,0.8422852516174316,0.8454265356063843,0.848005497455597,0.849718701839447,0.851304578781128,0.852404123544693,0.8536015152931213,0.8544667601585388,0.8549841105937958,0.855819571018219,0.8564623773097992,0.8572151958942413,0.8577132523059845,0.8580615401268006,0.8581685168402535,0.8586643253053937,0.8589186923844474],\"type\":\"scatter\"}],\"layout\":{\"yaxis\":{\"range\":[0.723071028771145,0.8622320500335523]}},\"name\":\"polynomials__add\"},{\"data\":[{\"error_y\":{\"array\":[0.0010446133605654419,0.0009216106023772306,0.0008558485325212122,0.00219292287911693,0.0021657566298629366,0.003683222457482219,0.004923808253071203,0.005502608447462584,0.006449817951533471,0.007846850176555753,0.009436702236014817,0.009727855531757422,0.009608567390887952,0.009323080876345214,0.009495743759573407,0.008835289591839633,0.008408530460945553,0.008254289475661187,0.0074558265708612285,0.006966621981093613],\"type\":\"data\",\"visible\":true},\"line\":{\"color\":\"rgb(214, 39, 40)\"},\"mode\":\"lines\",\"name\":\"Transformer\",\"x\":[4.0,9.0,14.0,19.0,24.0,29.0,34.0,39.0,44.0,49.0,54.0,59.0,64.0,69.0,74.0,79.0,84.0,89.0,94.0,99.0],\"y\":[0.6613091677427292,0.6686649173498154,0.6739573925733566,0.6809891760349274,0.6863624900579453,0.6913264989852905,0.6961807459592819,0.6998820155858994,0.704047441482544,0.7096885293722153,0.7139726877212524,0.7179926782846451,0.7232391089200974,0.726961612701416,0.7277178913354874,0.7309893667697906,0.7346369177103043,0.7370410859584808,0.7385919541120529,0.7403112500905991],\"type\":\"scatter\"},{\"error_y\":{\"array\":[0.0016729554614920042,0.0011104352004486782,0.0005688349961956018,0.0006191900853160023,0.0004092490224435954,0.0006575708931039339,0.0005317759715113241,0.0006860635728997643,0.0008453336588447467,0.0008353477719907607,0.0006838731307966676,0.0008510347079481867,0.0007766174383641166,0.0009043383009713568,0.0010314528264797585,0.0010037589627402226,0.0008755514755884625,0.0009705104990562447,0.0008422514259811353,0.0009412851141184522],\"type\":\"data\",\"visible\":true},\"line\":{\"color\":\"rgb(148, 103, 189)\"},\"mode\":\"lines\",\"name\":\"Dual-Attn Transformer (config 1)\",\"x\":[4.0,9.0,14.0,19.0,24.0,29.0,34.0,39.0,44.0,49.0,54.0,59.0,64.0,69.0,74.0,79.0,84.0,89.0,94.0,99.0],\"y\":[0.7013169705867768,0.7232739150524139,0.7351569712162018,0.7436938166618348,0.7491621315479279,0.7539115607738495,0.7581323683261871,0.7610978841781616,0.7629606008529664,0.765153580904007,0.7671320319175721,0.7685935437679291,0.7697162985801697,0.7704952895641327,0.772243344783783,0.7733397603034973,0.7744169473648072,0.7758977280722724,0.776644402080112,0.7778469655248854],\"type\":\"scatter\"},{\"error_y\":{\"array\":[0.0013356083242096583,0.0007350097752866683,0.0008206506101454337,0.0007060529553137506,0.0009063112189893292,0.0008983901464012932,0.0009506402401726436,0.0009293557135601094,0.000999405626868594,0.0007270461131376048,0.0009936629027062908,0.0009691572631121468,0.0009164915644235935,0.0008487007865616255,0.0009012569141749488,0.0008621883749360034,0.0009323213364928186,0.001173097119651429,0.001204431991309374,0.001207221996098515],\"type\":\"data\",\"visible\":true},\"line\":{\"color\":\"rgb(31, 119, 180)\"},\"mode\":\"lines\",\"name\":\"Dual-Attn Transformer (config 2)\",\"x\":[4.0,9.0,14.0,19.0,24.0,29.0,34.0,39.0,44.0,49.0,54.0,59.0,64.0,69.0,74.0,79.0,84.0,89.0,94.0,99.0],\"y\":[0.711030924320221,0.730330091714859,0.7397503852844238,0.7466292142868042,0.7525638043880463,0.7569997429847717,0.7602873980998993,0.7625883460044861,0.7645636022090911,0.7668301582336425,0.7689298152923584,0.7706121504306793,0.7722033858299255,0.7732935965061187,0.7742327332496644,0.7753274381160736,0.7763516485691071,0.7778947949409485,0.7786881753376552,0.7794212188039508],\"type\":\"scatter\"}],\"layout\":{\"yaxis\":{\"range\":[0.6583563664661987,0.7823740200804813]}},\"name\":\"polynomials__expand\"}]);\n",
       "                        }).then(function(){\n",
       "                            \n",
       "var gd = document.getElementById('02a223bb-2c31-42e3-82c5-428cb08a6a11');\n",
       "var x = new MutationObserver(function (mutations, observer) {{\n",
       "        var display = window.getComputedStyle(gd).display;\n",
       "        if (!display || display === 'none') {{\n",
       "            console.log([gd, 'removed!']);\n",
       "            Plotly.purge(gd);\n",
       "            observer.disconnect();\n",
       "        }}\n",
       "}});\n",
       "\n",
       "// Listen for the removal of the full notebook cells\n",
       "var notebookContainer = gd.closest('#notebook-container');\n",
       "if (notebookContainer) {{\n",
       "    x.observe(notebookContainer, {childList: true});\n",
       "}}\n",
       "\n",
       "// Listen for the clearing of the current output cell\n",
       "var outputEl = gd.closest('.output');\n",
       "if (outputEl) {{\n",
       "    x.observe(outputEl, {childList: true});\n",
       "}}\n",
       "\n",
       "                        })                };                });            </script>        </div>"
      ]
     },
     "metadata": {},
     "output_type": "display_data"
    }
   ],
   "source": [
    "import plotly.graph_objects as go\n",
    "\n",
    "# Get unique tasks and models\n",
    "tasks = figure_data_['Task'].unique()\n",
    "models = figure_data_['Model'].unique()\n",
    "\n",
    "# Create frames for each task\n",
    "frames = []\n",
    "for task in tasks:\n",
    "    frame_data = []\n",
    "    task_filter = figure_data_['Task'] == task\n",
    "    task_data = figure_data_[task_filter].dropna()\n",
    "    yrange = [task_data['mean'].min(), task_data['mean'].max()]\n",
    "    # xrange = [task_data['Epoch'].min(), task_data['Training Set Size'].max()]\n",
    "    eps_y = 0.025 * (yrange[1] - yrange[0])\n",
    "    # eps_x = 0.025 * (xrange[1] - xrange[0])\n",
    "    yrange = [yrange[0] - eps_y, yrange[1] + eps_y]\n",
    "    # xrange = [xrange[0] - eps_x, xrange[1] + eps_x]\n",
    "\n",
    "    for model in models:\n",
    "        model_filter = task_data['Model'] == model\n",
    "        model_data = task_data[model_filter]\n",
    "        frame_data.append(go.Scatter(\n",
    "            x=model_data['Epoch'], \n",
    "            y=model_data['mean'],\n",
    "            error_y=dict(type='data', array=model_data['sem'], visible=True),\n",
    "            mode='lines',\n",
    "            name=model,\n",
    "            line=dict(color=color_map[model]))) # change color based on model\n",
    "    frames.append(go.Frame(data=frame_data, \n",
    "                           name=str(task),\n",
    "                           layout=dict(yaxis=dict(range=yrange))\n",
    "                                       ))\n",
    "\n",
    "# Create steps for the slider\n",
    "steps = [dict(method='animate',\n",
    "              args=[[frame['name']]],  # frame name to be shown\n",
    "              label=frame['name']) for frame in frames]\n",
    "\n",
    "# Create base frame\n",
    "fig = go.Figure(\n",
    "    data=frames[0]['data'],\n",
    "    layout=go.Layout(\n",
    "        title='Mathematical Problem Solving Training Curves',\n",
    "        xaxis=dict(title='Epoch'),\n",
    "        yaxis=dict(title='Accuracy'),\n",
    "        height=600,\n",
    "        width=1000,\n",
    "        sliders=[dict(steps=steps)],  # add the slider\n",
    "        font_family=\"Computer Modern\",\n",
    "        template=theme,\n",
    "        legend_title=\"Model\",\n",
    "        legend=dict(yanchor=\"bottom\", y=0.01, xanchor=\"right\", x=0.99,\n",
    "                    title_font_family=\"Times New Roman\", #bgcolor='LightSteelBlue',\n",
    "                    bordercolor=\"Black\", borderwidth=1),\n",
    "    ),\n",
    "    frames=frames\n",
    ")\n",
    "\n",
    "fig.show()"
   ]
  },
  {
   "cell_type": "code",
   "execution_count": 136,
   "metadata": {},
   "outputs": [],
   "source": [
    "fig_json = fig.to_json()\n",
    "# save fig_json to file\n",
    "with open(f'{save_dir}/math_training_curves.json', 'w') as f:\n",
    "    f.write(fig_json)"
   ]
  },
  {
   "cell_type": "markdown",
   "metadata": {},
   "source": [
    "## Language Modeling: Tiny Stories"
   ]
  },
  {
   "cell_type": "code",
   "execution_count": 41,
   "metadata": {},
   "outputs": [
    {
     "data": {
      "text/html": [
       "<div>\n",
       "<style scoped>\n",
       "    .dataframe tbody tr th:only-of-type {\n",
       "        vertical-align: middle;\n",
       "    }\n",
       "\n",
       "    .dataframe tbody tr th {\n",
       "        vertical-align: top;\n",
       "    }\n",
       "\n",
       "    .dataframe thead th {\n",
       "        text-align: right;\n",
       "    }\n",
       "</style>\n",
       "<table border=\"1\" class=\"dataframe\">\n",
       "  <thead>\n",
       "    <tr style=\"text-align: right;\">\n",
       "      <th></th>\n",
       "      <th>val/perplexity</th>\n",
       "      <th>mfu</th>\n",
       "      <th>tokens</th>\n",
       "      <th>Generated Samples</th>\n",
       "      <th>lr</th>\n",
       "      <th>val/loss</th>\n",
       "      <th>train/loss</th>\n",
       "      <th>_timestamp</th>\n",
       "      <th>_step</th>\n",
       "      <th>train/perplexity</th>\n",
       "      <th>...</th>\n",
       "      <th>n_layers</th>\n",
       "      <th>wandb_log</th>\n",
       "      <th>weight_decay</th>\n",
       "      <th>vocab_source</th>\n",
       "      <th>out_dir</th>\n",
       "      <th>pos_enc_type</th>\n",
       "      <th>beta1</th>\n",
       "      <th>sym_attn_n_symbols</th>\n",
       "      <th>group</th>\n",
       "      <th>name</th>\n",
       "    </tr>\n",
       "  </thead>\n",
       "  <tbody>\n",
       "    <tr>\n",
       "      <th>0</th>\n",
       "      <td>39238.144531</td>\n",
       "      <td>-100.000000</td>\n",
       "      <td>0.000000e+00</td>\n",
       "      <td>NaN</td>\n",
       "      <td>0.001</td>\n",
       "      <td>10.577385</td>\n",
       "      <td>10.578004</td>\n",
       "      <td>1.716068e+09</td>\n",
       "      <td>0</td>\n",
       "      <td>39261.359375</td>\n",
       "      <td>...</td>\n",
       "      <td>6</td>\n",
       "      <td>True</td>\n",
       "      <td>0.1</td>\n",
       "      <td>llama2</td>\n",
       "      <td>out/sa=4; rca=4; d=128; L=6; rca_type=disentan...</td>\n",
       "      <td>RoPE</td>\n",
       "      <td>0.9</td>\n",
       "      <td>512.0</td>\n",
       "      <td>NaN</td>\n",
       "      <td>sa=4; rca=4; d=128; L=6; rca_type=disentangled...</td>\n",
       "    </tr>\n",
       "    <tr>\n",
       "      <th>1</th>\n",
       "      <td>5.612392</td>\n",
       "      <td>3.820743</td>\n",
       "      <td>2.621440e+08</td>\n",
       "      <td>NaN</td>\n",
       "      <td>0.001</td>\n",
       "      <td>1.724343</td>\n",
       "      <td>1.727050</td>\n",
       "      <td>1.716069e+09</td>\n",
       "      <td>2000</td>\n",
       "      <td>5.626907</td>\n",
       "      <td>...</td>\n",
       "      <td>6</td>\n",
       "      <td>True</td>\n",
       "      <td>0.1</td>\n",
       "      <td>llama2</td>\n",
       "      <td>out/sa=4; rca=4; d=128; L=6; rca_type=disentan...</td>\n",
       "      <td>RoPE</td>\n",
       "      <td>0.9</td>\n",
       "      <td>512.0</td>\n",
       "      <td>NaN</td>\n",
       "      <td>sa=4; rca=4; d=128; L=6; rca_type=disentangled...</td>\n",
       "    </tr>\n",
       "    <tr>\n",
       "      <th>2</th>\n",
       "      <td>4.960096</td>\n",
       "      <td>3.820697</td>\n",
       "      <td>5.242880e+08</td>\n",
       "      <td>NaN</td>\n",
       "      <td>0.001</td>\n",
       "      <td>1.600834</td>\n",
       "      <td>1.604139</td>\n",
       "      <td>1.716071e+09</td>\n",
       "      <td>4000</td>\n",
       "      <td>4.975849</td>\n",
       "      <td>...</td>\n",
       "      <td>6</td>\n",
       "      <td>True</td>\n",
       "      <td>0.1</td>\n",
       "      <td>llama2</td>\n",
       "      <td>out/sa=4; rca=4; d=128; L=6; rca_type=disentan...</td>\n",
       "      <td>RoPE</td>\n",
       "      <td>0.9</td>\n",
       "      <td>512.0</td>\n",
       "      <td>NaN</td>\n",
       "      <td>sa=4; rca=4; d=128; L=6; rca_type=disentangled...</td>\n",
       "    </tr>\n",
       "    <tr>\n",
       "      <th>3</th>\n",
       "      <td>4.704290</td>\n",
       "      <td>3.820555</td>\n",
       "      <td>7.864320e+08</td>\n",
       "      <td>NaN</td>\n",
       "      <td>0.001</td>\n",
       "      <td>1.547904</td>\n",
       "      <td>1.550540</td>\n",
       "      <td>1.716072e+09</td>\n",
       "      <td>6000</td>\n",
       "      <td>4.716177</td>\n",
       "      <td>...</td>\n",
       "      <td>6</td>\n",
       "      <td>True</td>\n",
       "      <td>0.1</td>\n",
       "      <td>llama2</td>\n",
       "      <td>out/sa=4; rca=4; d=128; L=6; rca_type=disentan...</td>\n",
       "      <td>RoPE</td>\n",
       "      <td>0.9</td>\n",
       "      <td>512.0</td>\n",
       "      <td>NaN</td>\n",
       "      <td>sa=4; rca=4; d=128; L=6; rca_type=disentangled...</td>\n",
       "    </tr>\n",
       "    <tr>\n",
       "      <th>4</th>\n",
       "      <td>4.540239</td>\n",
       "      <td>3.820479</td>\n",
       "      <td>1.048576e+09</td>\n",
       "      <td>NaN</td>\n",
       "      <td>0.001</td>\n",
       "      <td>1.512442</td>\n",
       "      <td>1.515324</td>\n",
       "      <td>1.716074e+09</td>\n",
       "      <td>8000</td>\n",
       "      <td>4.552852</td>\n",
       "      <td>...</td>\n",
       "      <td>6</td>\n",
       "      <td>True</td>\n",
       "      <td>0.1</td>\n",
       "      <td>llama2</td>\n",
       "      <td>out/sa=4; rca=4; d=128; L=6; rca_type=disentan...</td>\n",
       "      <td>RoPE</td>\n",
       "      <td>0.9</td>\n",
       "      <td>512.0</td>\n",
       "      <td>NaN</td>\n",
       "      <td>sa=4; rca=4; d=128; L=6; rca_type=disentangled...</td>\n",
       "    </tr>\n",
       "  </tbody>\n",
       "</table>\n",
       "<p>5 rows × 59 columns</p>\n",
       "</div>"
      ],
      "text/plain": [
       "   val/perplexity         mfu        tokens Generated Samples     lr  \\\n",
       "0    39238.144531 -100.000000  0.000000e+00               NaN  0.001   \n",
       "1        5.612392    3.820743  2.621440e+08               NaN  0.001   \n",
       "2        4.960096    3.820697  5.242880e+08               NaN  0.001   \n",
       "3        4.704290    3.820555  7.864320e+08               NaN  0.001   \n",
       "4        4.540239    3.820479  1.048576e+09               NaN  0.001   \n",
       "\n",
       "    val/loss  train/loss    _timestamp  _step  train/perplexity  ...  \\\n",
       "0  10.577385   10.578004  1.716068e+09      0      39261.359375  ...   \n",
       "1   1.724343    1.727050  1.716069e+09   2000          5.626907  ...   \n",
       "2   1.600834    1.604139  1.716071e+09   4000          4.975849  ...   \n",
       "3   1.547904    1.550540  1.716072e+09   6000          4.716177  ...   \n",
       "4   1.512442    1.515324  1.716074e+09   8000          4.552852  ...   \n",
       "\n",
       "   n_layers  wandb_log  weight_decay vocab_source  \\\n",
       "0         6       True           0.1       llama2   \n",
       "1         6       True           0.1       llama2   \n",
       "2         6       True           0.1       llama2   \n",
       "3         6       True           0.1       llama2   \n",
       "4         6       True           0.1       llama2   \n",
       "\n",
       "                                             out_dir  pos_enc_type  beta1  \\\n",
       "0  out/sa=4; rca=4; d=128; L=6; rca_type=disentan...          RoPE    0.9   \n",
       "1  out/sa=4; rca=4; d=128; L=6; rca_type=disentan...          RoPE    0.9   \n",
       "2  out/sa=4; rca=4; d=128; L=6; rca_type=disentan...          RoPE    0.9   \n",
       "3  out/sa=4; rca=4; d=128; L=6; rca_type=disentan...          RoPE    0.9   \n",
       "4  out/sa=4; rca=4; d=128; L=6; rca_type=disentan...          RoPE    0.9   \n",
       "\n",
       "   sym_attn_n_symbols  group  \\\n",
       "0               512.0    NaN   \n",
       "1               512.0    NaN   \n",
       "2               512.0    NaN   \n",
       "3               512.0    NaN   \n",
       "4               512.0    NaN   \n",
       "\n",
       "                                                name  \n",
       "0  sa=4; rca=4; d=128; L=6; rca_type=disentangled...  \n",
       "1  sa=4; rca=4; d=128; L=6; rca_type=disentangled...  \n",
       "2  sa=4; rca=4; d=128; L=6; rca_type=disentangled...  \n",
       "3  sa=4; rca=4; d=128; L=6; rca_type=disentangled...  \n",
       "4  sa=4; rca=4; d=128; L=6; rca_type=disentangled...  \n",
       "\n",
       "[5 rows x 59 columns]"
      ]
     },
     "execution_count": 41,
     "metadata": {},
     "output_type": "execute_result"
    }
   ],
   "source": [
    "figure_data = pd.read_csv('figure_data/tiny_stories/run_histories.csv')\n",
    "figure_data.head()"
   ]
  },
  {
   "cell_type": "code",
   "execution_count": 42,
   "metadata": {},
   "outputs": [],
   "source": [
    "# bar plot figure\n",
    "color_map_ = {\n",
    "    '$\\\\text{Transformer}\\ (n_h^{sa}=8, n_h^{ra}=0)$': cmap(6), # red\n",
    "    f'$\\\\text{{{our_model_name}}}\\ (n_h^{{sa}}=6, n_h^{{ra}}=2)$': cmap(8), # purple\n",
    "    f'$\\\\text{{{our_model_name}}}\\ (n_h^{{sa}}=4, n_h^{{ra}}=4)$': cmap(0), # blue\n",
    "    # 'Transformer+': cmap(4),\n",
    "    }\n",
    "\n",
    "color_map = {k: convert_to_plotly_color(color_map_[k]) for k in color_map_}\n",
    "models = color_map_.keys()"
   ]
  },
  {
   "cell_type": "code",
   "execution_count": 43,
   "metadata": {},
   "outputs": [],
   "source": [
    "def get_model_name(row):\n",
    "    if row.rca == 0:\n",
    "        return f'$\\\\text{{Transformer}}\\ (n_h^{{sa}}={row.sa}, n_h^{{ra}}={row.rca})$'\n",
    "    else:\n",
    "        # return f\"AbstractTransformer [{row['Symbol Type']}, symm={row['Symmetric RA']}] ($n_h^{{sa}} = {row.sa}, n_h^{{ra}}={row.rca}$)\"\n",
    "        return f\"$\\\\text{{{our_model_name}}}\\ (n_h^{{sa}}={row.sa}, n_h^{{ra}}={row.rca})$\""
   ]
  },
  {
   "cell_type": "code",
   "execution_count": 44,
   "metadata": {},
   "outputs": [],
   "source": [
    "figure_data = figure_data.rename(columns={\n",
    "    'symbol_type': 'Symbol Type', 'symmetric_rels': 'Symmetric RA', \n",
    "    'val/loss': 'Validation Loss', 'val/perplexity': 'Validation Perplexity', 'tokens': 'Tokens'})\n",
    "\n",
    "figure_data.loc[figure_data['rca']==0, 'Symbol Type'] = 'NA'\n",
    "figure_data.loc[figure_data['rca']==0, 'Symmetric RA'] = 'NA'\n",
    "\n",
    "figure_data['Model'] = pd.Categorical(figure_data.apply(get_model_name, axis=1), models, ordered=True)\n",
    "sym_map = {'sym_attn': 'Symbolic Attention', 'pos_relative': 'Position-Relative Symbols'}\n",
    "figure_data['Symbol Type'] = pd.Categorical(figure_data['Symbol Type'].map(sym_map), sym_map.values(), ordered=True)"
   ]
  },
  {
   "cell_type": "code",
   "execution_count": 45,
   "metadata": {},
   "outputs": [],
   "source": [
    "def filter_data(figure_data, d_models=None, layers=None, filter_first_step=False, filter_transformer=False, symbol_types=None, symmetry=None, rca_types=None):\n",
    "    filter_ = ~figure_data.index.isna()\n",
    "    if d_models is not None:\n",
    "        filter_ = filter_ & (figure_data['d_model'].isin(d_models))\n",
    "    if layers is not None:\n",
    "        filter_ = filter_ & (figure_data['n_layers'].isin(layers))\n",
    "    if filter_transformer:\n",
    "        filter_ = filter_ & (figure_data['rca'] > 0)\n",
    "    if filter_first_step:\n",
    "        filter_ = filter_ & (figure_data['_step'] > 0)\n",
    "    if symbol_types is not None:\n",
    "        symbol_types = [sym_map[s] for s in symbol_types]\n",
    "        filter_ = filter_ & ((figure_data['rca'] == 0) | figure_data['Symbol Type'].isin(symbol_types))\n",
    "    if symmetry is not None:\n",
    "        filter_ = filter_ & ((figure_data['rca'] == 0) | figure_data['Symmetric RA'].isin(symmetry))\n",
    "    if rca_types is not None:\n",
    "        filter_ = filter_ & ((figure_data['rca'] == 0) | (figure_data['rca_type'].isin(rca_types)))\n",
    "    filtered_data = figure_data.copy()[filter_]\n",
    "\n",
    "    if filter_transformer:\n",
    "        filtered_data['Model'] = filtered_data['Model'].cat.remove_unused_categories()\n",
    "\n",
    "    return filtered_data"
   ]
  },
  {
   "cell_type": "markdown",
   "metadata": {},
   "source": [
    "### All Plots & Ablations"
   ]
  },
  {
   "cell_type": "code",
   "execution_count": 46,
   "metadata": {},
   "outputs": [
    {
     "data": {
      "application/vnd.plotly.v1+json": {
       "config": {
        "plotlyServerURL": "https://plot.ly"
       },
       "data": [
        {
         "line": {
          "color": "rgb(214, 39, 40)"
         },
         "mode": "lines",
         "name": "$\\text{Transformer}\\ (n_h^{sa}=8, n_h^{ra}=0)$",
         "type": "scatter",
         "x": [
          262144000,
          524288000,
          786432000,
          1048576000,
          1310720000,
          1572864000,
          1835008000,
          2097152000,
          2359296000,
          2621440000,
          2883584000,
          3145728000,
          3407872000,
          3670016000,
          3932160000,
          4194304000,
          4456448000,
          4718592000,
          4980736000,
          5242880000,
          5505024000,
          5767168000,
          6029312000,
          6291456000,
          6553600000,
          6815744000,
          7077888000,
          7340032000,
          7602176000,
          7864320000,
          8126464000,
          8388608000,
          8650752000,
          8912896000,
          9175040000,
          9437184000,
          9699328000,
          9961472000,
          10223616000,
          10485760000,
          10747904000,
          11010048000,
          11272192000,
          11534336000,
          11796480000,
          12058624000,
          12320768000,
          12582912000,
          12845056000,
          13107200000
         ],
         "y": [
          2.1996302604675293,
          2.0533580780029297,
          1.9890649318695068,
          1.9500603675842283,
          1.9248363971710205,
          1.9057464599609373,
          1.8914169073104856,
          1.8777374029159544,
          1.8683210611343384,
          1.8589776754379272,
          1.8503668308258057,
          1.8430774211883545,
          1.8382142782211304,
          1.8315367698669436,
          1.8272401094436648,
          1.82348895072937,
          1.8201165199279783,
          1.8167064189910889,
          1.814137578010559,
          1.8096237182617188,
          1.8082042932510376,
          1.8064602613449097,
          1.8034521341323853,
          1.801059007644653,
          1.8011616468429563,
          1.799071192741394,
          1.7970629930496216,
          1.794730544090271,
          1.795030117034912,
          1.79325270652771,
          1.7925949096679688,
          1.7911642789840698,
          1.7892590761184692,
          1.787448167800903,
          1.7878050804138184,
          1.787154197692871,
          1.7865177392959597,
          1.7838354110717771,
          1.7856651544570925,
          1.7845475673675537,
          1.7826460599899292,
          1.7818496227264404,
          1.7819966077804563,
          1.7812185287475586,
          1.7802876234054563,
          1.77818500995636,
          1.778957486152649,
          1.7770054340362549,
          1.7774953842163086,
          1.7751867771148682
         ]
        },
        {
         "line": {
          "color": "rgb(148, 103, 189)"
         },
         "mode": "lines",
         "name": "$\\text{Dual-Attn Transformer}\\ (n_h^{sa}=6, n_h^{ra}=2)$",
         "type": "scatter",
         "x": [
          262144000,
          524288000,
          786432000,
          1048576000,
          1310720000,
          1572864000,
          1835008000,
          2097152000,
          2359296000,
          2621440000,
          2883584000,
          3145728000,
          3407872000,
          3670016000,
          3932160000,
          4194304000,
          4456448000,
          4718592000,
          4980736000,
          5242880000,
          5505024000,
          5767168000,
          6029312000,
          6291456000,
          6553600000,
          6815744000,
          7077888000,
          7340032000,
          7602176000,
          7864320000,
          8126464000,
          8388608000,
          8650752000,
          8912896000,
          9175040000,
          9437184000,
          9699328000,
          9961472000,
          10223616000,
          10485760000,
          10747904000,
          11010048000,
          11272192000,
          11534336000,
          11796480000,
          12058624000,
          12320768000,
          12582912000,
          12845056000,
          13107200000
         ],
         "y": [
          2.196382999420166,
          2.034463405609131,
          1.9667112827301023,
          1.9289926290512085,
          1.9015259742736816,
          1.8813143968582156,
          1.8663032054901123,
          1.8528841733932493,
          1.8421305418014529,
          1.8336639404296875,
          1.8249456882476809,
          1.8171300888061523,
          1.810732126235962,
          1.803471326828003,
          1.7997289896011353,
          1.7948590517044067,
          1.7909040451049805,
          1.7875593900680542,
          1.783300757408142,
          1.7809395790100098,
          1.7778390645980835,
          1.774359107017517,
          1.7723537683486938,
          1.770103931427002,
          1.7688703536987305,
          1.7653864622116089,
          1.7639352083206177,
          1.7620267868041992,
          1.760570049285889,
          1.759976863861084,
          1.757420778274536,
          1.7573339939117432,
          1.7545944452285769,
          1.7523537874221802,
          1.7518348693847656,
          1.7515450716018677,
          1.7493668794631958,
          1.7480849027633667,
          1.7494202852249146,
          1.747207760810852,
          1.7461035251617432,
          1.7452399730682373,
          1.7448861598968506,
          1.7427618503570557,
          1.7439885139465332,
          1.7426352500915527,
          1.7418321371078491,
          1.7414636611938477,
          1.7409448623657229,
          1.739770531654358
         ]
        },
        {
         "line": {
          "color": "rgb(31, 119, 180)"
         },
         "mode": "lines",
         "name": "$\\text{Dual-Attn Transformer}\\ (n_h^{sa}=4, n_h^{ra}=4)$",
         "type": "scatter",
         "x": [
          262144000,
          524288000,
          786432000,
          1048576000,
          1310720000,
          1572864000,
          1835008000,
          2097152000,
          2359296000,
          2621440000,
          2883584000,
          3145728000,
          3407872000,
          3670016000,
          3932160000,
          4194304000,
          4456448000,
          4718592000,
          4980736000,
          5242880000,
          5505024000,
          5767168000,
          6029312000,
          6291456000,
          6553600000,
          6815744000,
          7077888000,
          7340032000,
          7602176000,
          7864320000,
          8126464000,
          8388608000,
          8650752000,
          8912896000,
          9175040000,
          9437184000,
          9699328000,
          9961472000,
          10223616000,
          10485760000,
          10747904000,
          11010048000,
          11272192000,
          11534336000,
          11796480000,
          12058624000,
          12320768000,
          12582912000,
          12845056000,
          13107200000
         ],
         "y": [
          2.196918487548828,
          2.0397231578826904,
          1.971346139907837,
          1.9299396276474,
          1.9008493423461916,
          1.880784511566162,
          1.8637737035751345,
          1.848860025405884,
          1.836646556854248,
          1.8273401260375977,
          1.8188908100128172,
          1.8099637031555176,
          1.8018194437026975,
          1.795548677444458,
          1.7904152870178225,
          1.7842307090759275,
          1.7816473245620728,
          1.778003215789795,
          1.7738474607467651,
          1.7702778577804563,
          1.7682969570159912,
          1.7652488946914673,
          1.762418508529663,
          1.7595878839492798,
          1.7581572532653809,
          1.755863070487976,
          1.7535613775253296,
          1.752448558807373,
          1.7503437995910645,
          1.7507153749465942,
          1.7495825290679932,
          1.7458027601242063,
          1.74564790725708,
          1.743393063545227,
          1.7426176071166992,
          1.743573784828186,
          1.7404687404632568,
          1.738733172416687,
          1.7387416362762451,
          1.7366671562194824,
          1.736600399017334,
          1.734992265701294,
          1.7351617813110352,
          1.7343353033065796,
          1.7333511114120483,
          1.7330397367477417,
          1.7329760789871216,
          1.7322916984558103,
          1.7298462390899658,
          1.7293901443481443
         ]
        }
       ],
       "frames": [
        {
         "data": [
          {
           "line": {
            "color": "rgb(214, 39, 40)"
           },
           "mode": "lines",
           "name": "$\\text{Transformer}\\ (n_h^{sa}=8, n_h^{ra}=0)$",
           "type": "scatter",
           "x": [
            262144000,
            524288000,
            786432000,
            1048576000,
            1310720000,
            1572864000,
            1835008000,
            2097152000,
            2359296000,
            2621440000,
            2883584000,
            3145728000,
            3407872000,
            3670016000,
            3932160000,
            4194304000,
            4456448000,
            4718592000,
            4980736000,
            5242880000,
            5505024000,
            5767168000,
            6029312000,
            6291456000,
            6553600000,
            6815744000,
            7077888000,
            7340032000,
            7602176000,
            7864320000,
            8126464000,
            8388608000,
            8650752000,
            8912896000,
            9175040000,
            9437184000,
            9699328000,
            9961472000,
            10223616000,
            10485760000,
            10747904000,
            11010048000,
            11272192000,
            11534336000,
            11796480000,
            12058624000,
            12320768000,
            12582912000,
            12845056000,
            13107200000
           ],
           "y": [
            2.1996302604675293,
            2.0533580780029297,
            1.9890649318695068,
            1.9500603675842283,
            1.9248363971710205,
            1.9057464599609373,
            1.8914169073104856,
            1.8777374029159544,
            1.8683210611343384,
            1.8589776754379272,
            1.8503668308258057,
            1.8430774211883545,
            1.8382142782211304,
            1.8315367698669436,
            1.8272401094436648,
            1.82348895072937,
            1.8201165199279783,
            1.8167064189910889,
            1.814137578010559,
            1.8096237182617188,
            1.8082042932510376,
            1.8064602613449097,
            1.8034521341323853,
            1.801059007644653,
            1.8011616468429563,
            1.799071192741394,
            1.7970629930496216,
            1.794730544090271,
            1.795030117034912,
            1.79325270652771,
            1.7925949096679688,
            1.7911642789840698,
            1.7892590761184692,
            1.787448167800903,
            1.7878050804138184,
            1.787154197692871,
            1.7865177392959597,
            1.7838354110717771,
            1.7856651544570925,
            1.7845475673675537,
            1.7826460599899292,
            1.7818496227264404,
            1.7819966077804563,
            1.7812185287475586,
            1.7802876234054563,
            1.77818500995636,
            1.778957486152649,
            1.7770054340362549,
            1.7774953842163086,
            1.7751867771148682
           ]
          },
          {
           "line": {
            "color": "rgb(148, 103, 189)"
           },
           "mode": "lines",
           "name": "$\\text{Dual-Attn Transformer}\\ (n_h^{sa}=6, n_h^{ra}=2)$",
           "type": "scatter",
           "x": [
            262144000,
            524288000,
            786432000,
            1048576000,
            1310720000,
            1572864000,
            1835008000,
            2097152000,
            2359296000,
            2621440000,
            2883584000,
            3145728000,
            3407872000,
            3670016000,
            3932160000,
            4194304000,
            4456448000,
            4718592000,
            4980736000,
            5242880000,
            5505024000,
            5767168000,
            6029312000,
            6291456000,
            6553600000,
            6815744000,
            7077888000,
            7340032000,
            7602176000,
            7864320000,
            8126464000,
            8388608000,
            8650752000,
            8912896000,
            9175040000,
            9437184000,
            9699328000,
            9961472000,
            10223616000,
            10485760000,
            10747904000,
            11010048000,
            11272192000,
            11534336000,
            11796480000,
            12058624000,
            12320768000,
            12582912000,
            12845056000,
            13107200000
           ],
           "y": [
            2.196382999420166,
            2.034463405609131,
            1.9667112827301023,
            1.9289926290512085,
            1.9015259742736816,
            1.8813143968582156,
            1.8663032054901123,
            1.8528841733932493,
            1.8421305418014529,
            1.8336639404296875,
            1.8249456882476809,
            1.8171300888061523,
            1.810732126235962,
            1.803471326828003,
            1.7997289896011353,
            1.7948590517044067,
            1.7909040451049805,
            1.7875593900680542,
            1.783300757408142,
            1.7809395790100098,
            1.7778390645980835,
            1.774359107017517,
            1.7723537683486938,
            1.770103931427002,
            1.7688703536987305,
            1.7653864622116089,
            1.7639352083206177,
            1.7620267868041992,
            1.760570049285889,
            1.759976863861084,
            1.757420778274536,
            1.7573339939117432,
            1.7545944452285769,
            1.7523537874221802,
            1.7518348693847656,
            1.7515450716018677,
            1.7493668794631958,
            1.7480849027633667,
            1.7494202852249146,
            1.747207760810852,
            1.7461035251617432,
            1.7452399730682373,
            1.7448861598968506,
            1.7427618503570557,
            1.7439885139465332,
            1.7426352500915527,
            1.7418321371078491,
            1.7414636611938477,
            1.7409448623657229,
            1.739770531654358
           ]
          },
          {
           "line": {
            "color": "rgb(31, 119, 180)"
           },
           "mode": "lines",
           "name": "$\\text{Dual-Attn Transformer}\\ (n_h^{sa}=4, n_h^{ra}=4)$",
           "type": "scatter",
           "x": [
            262144000,
            524288000,
            786432000,
            1048576000,
            1310720000,
            1572864000,
            1835008000,
            2097152000,
            2359296000,
            2621440000,
            2883584000,
            3145728000,
            3407872000,
            3670016000,
            3932160000,
            4194304000,
            4456448000,
            4718592000,
            4980736000,
            5242880000,
            5505024000,
            5767168000,
            6029312000,
            6291456000,
            6553600000,
            6815744000,
            7077888000,
            7340032000,
            7602176000,
            7864320000,
            8126464000,
            8388608000,
            8650752000,
            8912896000,
            9175040000,
            9437184000,
            9699328000,
            9961472000,
            10223616000,
            10485760000,
            10747904000,
            11010048000,
            11272192000,
            11534336000,
            11796480000,
            12058624000,
            12320768000,
            12582912000,
            12845056000,
            13107200000
           ],
           "y": [
            2.196918487548828,
            2.0397231578826904,
            1.971346139907837,
            1.9299396276474,
            1.9008493423461916,
            1.880784511566162,
            1.8637737035751345,
            1.848860025405884,
            1.836646556854248,
            1.8273401260375977,
            1.8188908100128172,
            1.8099637031555176,
            1.8018194437026975,
            1.795548677444458,
            1.7904152870178225,
            1.7842307090759275,
            1.7816473245620728,
            1.778003215789795,
            1.7738474607467651,
            1.7702778577804563,
            1.7682969570159912,
            1.7652488946914673,
            1.762418508529663,
            1.7595878839492798,
            1.7581572532653809,
            1.755863070487976,
            1.7535613775253296,
            1.752448558807373,
            1.7503437995910645,
            1.7507153749465942,
            1.7495825290679932,
            1.7458027601242063,
            1.74564790725708,
            1.743393063545227,
            1.7426176071166992,
            1.743573784828186,
            1.7404687404632568,
            1.738733172416687,
            1.7387416362762451,
            1.7366671562194824,
            1.736600399017334,
            1.734992265701294,
            1.7351617813110352,
            1.7343353033065796,
            1.7333511114120483,
            1.7330397367477417,
            1.7329760789871216,
            1.7322916984558103,
            1.7298462390899658,
            1.7293901443481443
           ]
          }
         ],
         "layout": {
          "yaxis": {
           "range": [
            1.642259457707405,
            2.213224670290947
           ]
          }
         },
         "name": "L = 4"
        },
        {
         "data": [
          {
           "line": {
            "color": "rgb(214, 39, 40)"
           },
           "mode": "lines",
           "name": "$\\text{Transformer}\\ (n_h^{sa}=8, n_h^{ra}=0)$",
           "type": "scatter",
           "x": [
            262144000,
            524288000,
            786432000,
            1048576000,
            1310720000,
            1572864000,
            1835008000,
            2097152000,
            2359296000,
            2621440000,
            2883584000,
            3145728000,
            3407872000,
            3670016000,
            3932160000,
            4194304000,
            4456448000,
            4718592000,
            4980736000,
            5242880000,
            5505024000,
            5767168000,
            6029312000,
            6291456000,
            6553600000,
            6815744000,
            7077888000,
            7340032000,
            7602176000,
            7864320000,
            8126464000,
            8388608000,
            8650752000,
            8912896000,
            9175040000,
            9437184000,
            9699328000,
            9961472000,
            10223616000,
            10485760000,
            10747904000,
            11010048000,
            11272192000,
            11534336000,
            11796480000,
            12058624000,
            12320768000,
            12582912000,
            12845056000,
            13107200000
           ],
           "y": [
            2.1660988330841064,
            2.021992444992065,
            1.956819772720337,
            1.916224718093872,
            1.887123703956604,
            1.8655154705047607,
            1.8476455211639404,
            1.834680438041687,
            1.820277452468872,
            1.8114944696426392,
            1.8019529581069944,
            1.79448664188385,
            1.7879871129989624,
            1.782109022140503,
            1.7779639959335327,
            1.7728155851364136,
            1.7693935632705688,
            1.7668824195861816,
            1.7633731365203855,
            1.759678602218628,
            1.7575820684432983,
            1.755030393600464,
            1.7531224489212036,
            1.7526919841766355,
            1.7509374618530271,
            1.7484744787216189,
            1.7456932067871094,
            1.7468512058258057,
            1.7456780672073364,
            1.7445881366729736,
            1.745491623878479,
            1.7438576221466064,
            1.7411296367645264,
            1.7405946254730225,
            1.7395938634872437,
            1.7392233610153198,
            1.737269163131714,
            1.7369128465652466,
            1.7365326881408691,
            1.735326647758484,
            1.736436128616333,
            1.734127402305603,
            1.7332295179367063,
            1.733435034751892,
            1.7341690063476562,
            1.7325470447540283,
            1.7318531274795532,
            1.7323429584503174,
            1.729607343673706,
            1.729842185974121
           ]
          },
          {
           "line": {
            "color": "rgb(148, 103, 189)"
           },
           "mode": "lines",
           "name": "$\\text{Dual-Attn Transformer}\\ (n_h^{sa}=6, n_h^{ra}=2)$",
           "type": "scatter",
           "x": [
            262144000,
            524288000,
            786432000,
            1048576000,
            1310720000,
            1572864000,
            1835008000,
            2097152000,
            2359296000,
            2621440000,
            2883584000,
            3145728000,
            3407872000,
            3670016000,
            3932160000,
            4194304000,
            4456448000,
            4718592000,
            4980736000,
            5242880000,
            5505024000,
            5767168000,
            6029312000,
            6291456000,
            6553600000,
            6815744000,
            7077888000,
            7340032000,
            7602176000,
            7864320000,
            8126464000,
            8388608000,
            8650752000,
            8912896000,
            9175040000,
            9437184000,
            9699328000,
            9961472000,
            10223616000,
            10485760000,
            10747904000,
            11010048000,
            11272192000,
            11534336000,
            11796480000,
            12058624000,
            12320768000,
            12582912000,
            12845056000,
            13107200000
           ],
           "y": [
            2.161012887954712,
            2.0023186206817627,
            1.9359955787658687,
            1.8958898782730105,
            1.866760730743408,
            1.84404718875885,
            1.825775146484375,
            1.809792280197144,
            1.7983909845352173,
            1.7868233919143677,
            1.7786870002746582,
            1.7708359956741333,
            1.7611889839172363,
            1.7564482688903809,
            1.7504446506500244,
            1.7449880838394165,
            1.742721676826477,
            1.7390573024749756,
            1.7351584434509275,
            1.7319241762161257,
            1.7299407720565796,
            1.7267574071884155,
            1.7225738763809204,
            1.7221004962921145,
            1.7199561595916748,
            1.7181832790374756,
            1.7154721021652222,
            1.714714765548706,
            1.7132841348648071,
            1.7130001783370972,
            1.7111777067184448,
            1.7080692052841189,
            1.7069542407989502,
            1.706882119178772,
            1.7049691677093506,
            1.7047815322875977,
            1.7027581930160522,
            1.7017062902450562,
            1.7025517225265503,
            1.7005648612976074,
            1.6993030309677124,
            1.6998614072799685,
            1.6979669332504272,
            1.6970289945602417,
            1.697022557258606,
            1.696025848388672,
            1.6961764097213743,
            1.6946303844451904,
            1.6938668489456177,
            1.6921508312225342
           ]
          },
          {
           "line": {
            "color": "rgb(31, 119, 180)"
           },
           "mode": "lines",
           "name": "$\\text{Dual-Attn Transformer}\\ (n_h^{sa}=4, n_h^{ra}=4)$",
           "type": "scatter",
           "x": [
            262144000,
            524288000,
            786432000,
            1048576000,
            1310720000,
            1572864000,
            1835008000,
            2097152000,
            2359296000,
            2621440000,
            2883584000,
            3145728000,
            3407872000,
            3670016000,
            3932160000,
            4194304000,
            4456448000,
            4718592000,
            4980736000,
            5242880000,
            5505024000,
            5767168000,
            6029312000,
            6291456000,
            6553600000,
            6815744000,
            7077888000,
            7340032000,
            7602176000,
            7864320000,
            8126464000,
            8388608000,
            8650752000,
            8912896000,
            9175040000,
            9437184000,
            9699328000,
            9961472000,
            10223616000,
            10485760000,
            10747904000,
            11010048000,
            11272192000,
            11534336000,
            11796480000,
            12058624000,
            12320768000,
            12582912000,
            12845056000,
            13107200000
           ],
           "y": [
            2.1712021827697754,
            2.0074057579040527,
            1.936933994293213,
            1.8948155641555784,
            1.8657265901565552,
            1.8428502082824707,
            1.827654242515564,
            1.8123937845230105,
            1.8017398118972776,
            1.7910236120224,
            1.7829296588897705,
            1.774643898010254,
            1.7667899131774902,
            1.7594552040100098,
            1.7532528638839722,
            1.7487770318984983,
            1.7445127964019775,
            1.7405288219451904,
            1.736067533493042,
            1.7322512865066528,
            1.7303026914596558,
            1.7268978357315063,
            1.7242382764816284,
            1.7226600646972656,
            1.7211135625839231,
            1.7180657386779783,
            1.715840458869934,
            1.7137326002120972,
            1.711660861968994,
            1.7118569612503052,
            1.7100001573562622,
            1.708329200744629,
            1.7062101364135742,
            1.7060819864273071,
            1.7041990756988523,
            1.704026460647583,
            1.7019777297973633,
            1.701483130455017,
            1.7020782232284546,
            1.698737382888794,
            1.699249267578125,
            1.6975384950637815,
            1.6969408988952637,
            1.6962776184082031,
            1.695611596107483,
            1.6940171718597412,
            1.6941365003585815,
            1.693739891052246,
            1.6926312446594238,
            1.691848874092102
           ]
          }
         ],
         "layout": {
          "yaxis": {
           "range": [
            1.642259457707405,
            2.213224670290947
           ]
          }
         },
         "name": "L = 5"
        },
        {
         "data": [
          {
           "line": {
            "color": "rgb(214, 39, 40)"
           },
           "mode": "lines",
           "name": "$\\text{Transformer}\\ (n_h^{sa}=8, n_h^{ra}=0)$",
           "type": "scatter",
           "x": [
            262144000,
            524288000,
            786432000,
            1048576000,
            1310720000,
            1572864000,
            1835008000,
            2097152000,
            2359296000,
            2621440000,
            2883584000,
            3145728000,
            3407872000,
            3670016000,
            3932160000,
            4194304000,
            4456448000,
            4718592000,
            4980736000,
            5242880000,
            5505024000,
            5767168000,
            6029312000,
            6291456000,
            6553600000,
            6815744000,
            7077888000,
            7340032000,
            7602176000,
            7864320000,
            8126464000,
            8388608000,
            8650752000,
            8912896000,
            9175040000,
            9437184000,
            9699328000,
            9961472000,
            10223616000,
            10485760000,
            10747904000,
            11010048000,
            11272192000,
            11534336000,
            11796480000,
            12058624000,
            12320768000,
            12582912000,
            12845056000,
            13107200000
           ],
           "y": [
            2.127302408218384,
            1.9809859991073608,
            1.9166555404663088,
            1.8761606216430664,
            1.8476980924606323,
            1.8269461393356323,
            1.810126781463623,
            1.7953784465789795,
            1.7837858200073242,
            1.7736679315567017,
            1.762976884841919,
            1.756126046180725,
            1.749895453453064,
            1.7420698404312134,
            1.737152099609375,
            1.7314850091934204,
            1.7280550003051758,
            1.7271941900253296,
            1.7234312295913696,
            1.7213006019592283,
            1.717420220375061,
            1.7152366638183594,
            1.7143683433532717,
            1.7118984460830688,
            1.7122769355773926,
            1.7086045742034912,
            1.7075533866882324,
            1.7064093351364136,
            1.7054111957550049,
            1.7050940990447998,
            1.7051475048065186,
            1.7018187046051023,
            1.701892971992493,
            1.7017260789871216,
            1.7008426189422607,
            1.7008622884750366,
            1.699040412902832,
            1.6976972818374634,
            1.6994355916976929,
            1.6975170373916626,
            1.6973518133163452,
            1.6961627006530762,
            1.6959820985794067,
            1.6950243711471558,
            1.695582151412964,
            1.695067286491394,
            1.6945773363113403,
            1.694210171699524,
            1.6931065320968628,
            1.6919440031051636
           ]
          },
          {
           "line": {
            "color": "rgb(148, 103, 189)"
           },
           "mode": "lines",
           "name": "$\\text{Dual-Attn Transformer}\\ (n_h^{sa}=6, n_h^{ra}=2)$",
           "type": "scatter",
           "x": [
            262144000,
            524288000,
            786432000,
            1048576000,
            1310720000,
            1572864000,
            1835008000,
            2097152000,
            2359296000,
            2621440000,
            2883584000,
            3145728000,
            3407872000,
            3670016000,
            3932160000,
            4194304000,
            4456448000,
            4718592000,
            4980736000,
            5242880000,
            5505024000,
            5767168000,
            6029312000,
            6291456000,
            6553600000,
            6815744000,
            7077888000,
            7340032000,
            7602176000,
            7864320000,
            8126464000,
            8388608000,
            8650752000,
            8912896000,
            9175040000,
            9437184000,
            9699328000,
            9961472000,
            10223616000,
            10485760000,
            10747904000,
            11010048000,
            11272192000,
            11534336000,
            11796480000,
            12058624000,
            12320768000,
            12582912000,
            12845056000,
            13107200000
           ],
           "y": [
            2.123218297958374,
            1.9641896486282349,
            1.901269555091858,
            1.861202836036682,
            1.8331725597381592,
            1.8129748106002808,
            1.7953985929489136,
            1.77891743183136,
            1.7680834531784058,
            1.7567039728164673,
            1.7458676099777222,
            1.7383530139923096,
            1.7305970191955566,
            1.7236621379852295,
            1.7181811332702637,
            1.7133549451828003,
            1.71049165725708,
            1.7061736583709717,
            1.7058193683624268,
            1.6999163627624512,
            1.6973687410354614,
            1.69584321975708,
            1.6936447620391846,
            1.6904144287109375,
            1.6895300149917605,
            1.6863200664520264,
            1.685909390449524,
            1.685042381286621,
            1.6821061372756958,
            1.6809033155441284,
            1.6802290678024292,
            1.6794503927230835,
            1.677833080291748,
            1.6759506464004517,
            1.6760412454605105,
            1.6746867895126345,
            1.6731282472610474,
            1.6729072332382202,
            1.6724928617477417,
            1.672435283660889,
            1.670018196105957,
            1.6681530475616455,
            1.6685997247695925,
            1.6667542457580566,
            1.6664690971374512,
            1.666622281074524,
            1.665823221206665,
            1.664592146873474,
            1.6636912822723389,
            1.663072943687439
           ]
          },
          {
           "line": {
            "color": "rgb(31, 119, 180)"
           },
           "mode": "lines",
           "name": "$\\text{Dual-Attn Transformer}\\ (n_h^{sa}=4, n_h^{ra}=4)$",
           "type": "scatter",
           "x": [
            262144000,
            524288000,
            786432000,
            1048576000,
            1310720000,
            1572864000,
            1835008000,
            2097152000,
            2359296000,
            2621440000,
            2883584000,
            3145728000,
            3407872000,
            3670016000,
            3932160000,
            4194304000,
            4456448000,
            4718592000,
            4980736000,
            5242880000,
            5505024000,
            5767168000,
            6029312000,
            6291456000,
            6553600000,
            6815744000,
            7077888000,
            7340032000,
            7602176000,
            7864320000,
            8126464000,
            8388608000,
            8650752000,
            8912896000,
            9175040000,
            9437184000,
            9699328000,
            9961472000,
            10223616000,
            10485760000,
            10747904000,
            11010048000,
            11272192000,
            11534336000,
            11796480000,
            12058624000,
            12320768000,
            12582912000,
            12845056000,
            13107200000
           ],
           "y": [
            2.1233255863189697,
            1.9681271314620967,
            1.9040405750274656,
            1.863444805145264,
            1.835254192352295,
            1.8133021593093872,
            1.7967365980148315,
            1.7805501222610474,
            1.7678914070129397,
            1.757208228111267,
            1.7469134330749512,
            1.7398409843444824,
            1.730586290359497,
            1.7236369848251345,
            1.7181183099746704,
            1.7125189304351809,
            1.7099777460098269,
            1.706104397773743,
            1.7018078565597534,
            1.6973320245742798,
            1.6953189373016355,
            1.6922835111618042,
            1.6903109550476074,
            1.6866546869277954,
            1.6870633363723757,
            1.683038592338562,
            1.6806219816207886,
            1.6798211336135864,
            1.6790634393692017,
            1.6776106357574463,
            1.675757646560669,
            1.6757116317749023,
            1.6734817028045654,
            1.6708197593688965,
            1.670015573501587,
            1.6689255237579346,
            1.6686151027679443,
            1.6662102937698364,
            1.6666481494903564,
            1.6647059917449951,
            1.6625332832336426,
            1.6631006002426147,
            1.6614881753921509,
            1.6605806350708008,
            1.6609159708023071,
            1.6598637104034424,
            1.6585310697555542,
            1.6588841676712036,
            1.6558723449707031,
            1.6558538675308228
           ]
          }
         ],
         "layout": {
          "yaxis": {
           "range": [
            1.642259457707405,
            2.213224670290947
           ]
          }
         },
         "name": "L = 6"
        }
       ],
       "layout": {
        "font": {
         "family": "Computer Modern"
        },
        "height": 600,
        "legend": {
         "bordercolor": "Black",
         "borderwidth": 1,
         "title": {
          "text": "Model"
         },
         "x": 0.99,
         "xanchor": "right",
         "y": 0.99,
         "yanchor": "top"
        },
        "sliders": [
         {
          "steps": [
           {
            "args": [
             [
              "L = 4"
             ]
            ],
            "label": "L = 4",
            "method": "animate"
           },
           {
            "args": [
             [
              "L = 5"
             ]
            ],
            "label": "L = 5",
            "method": "animate"
           },
           {
            "args": [
             [
              "L = 6"
             ]
            ],
            "label": "L = 6",
            "method": "animate"
           }
          ]
         }
        ],
        "template": {
         "data": {
          "bar": [
           {
            "error_x": {
             "color": "#2a3f5f"
            },
            "error_y": {
             "color": "#2a3f5f"
            },
            "marker": {
             "line": {
              "color": "white",
              "width": 0.5
             },
             "pattern": {
              "fillmode": "overlay",
              "size": 10,
              "solidity": 0.2
             }
            },
            "type": "bar"
           }
          ],
          "barpolar": [
           {
            "marker": {
             "line": {
              "color": "white",
              "width": 0.5
             },
             "pattern": {
              "fillmode": "overlay",
              "size": 10,
              "solidity": 0.2
             }
            },
            "type": "barpolar"
           }
          ],
          "carpet": [
           {
            "aaxis": {
             "endlinecolor": "#2a3f5f",
             "gridcolor": "#C8D4E3",
             "linecolor": "#C8D4E3",
             "minorgridcolor": "#C8D4E3",
             "startlinecolor": "#2a3f5f"
            },
            "baxis": {
             "endlinecolor": "#2a3f5f",
             "gridcolor": "#C8D4E3",
             "linecolor": "#C8D4E3",
             "minorgridcolor": "#C8D4E3",
             "startlinecolor": "#2a3f5f"
            },
            "type": "carpet"
           }
          ],
          "choropleth": [
           {
            "colorbar": {
             "outlinewidth": 0,
             "ticks": ""
            },
            "type": "choropleth"
           }
          ],
          "contour": [
           {
            "colorbar": {
             "outlinewidth": 0,
             "ticks": ""
            },
            "colorscale": [
             [
              0,
              "#0d0887"
             ],
             [
              0.1111111111111111,
              "#46039f"
             ],
             [
              0.2222222222222222,
              "#7201a8"
             ],
             [
              0.3333333333333333,
              "#9c179e"
             ],
             [
              0.4444444444444444,
              "#bd3786"
             ],
             [
              0.5555555555555556,
              "#d8576b"
             ],
             [
              0.6666666666666666,
              "#ed7953"
             ],
             [
              0.7777777777777778,
              "#fb9f3a"
             ],
             [
              0.8888888888888888,
              "#fdca26"
             ],
             [
              1,
              "#f0f921"
             ]
            ],
            "type": "contour"
           }
          ],
          "contourcarpet": [
           {
            "colorbar": {
             "outlinewidth": 0,
             "ticks": ""
            },
            "type": "contourcarpet"
           }
          ],
          "heatmap": [
           {
            "colorbar": {
             "outlinewidth": 0,
             "ticks": ""
            },
            "colorscale": [
             [
              0,
              "#0d0887"
             ],
             [
              0.1111111111111111,
              "#46039f"
             ],
             [
              0.2222222222222222,
              "#7201a8"
             ],
             [
              0.3333333333333333,
              "#9c179e"
             ],
             [
              0.4444444444444444,
              "#bd3786"
             ],
             [
              0.5555555555555556,
              "#d8576b"
             ],
             [
              0.6666666666666666,
              "#ed7953"
             ],
             [
              0.7777777777777778,
              "#fb9f3a"
             ],
             [
              0.8888888888888888,
              "#fdca26"
             ],
             [
              1,
              "#f0f921"
             ]
            ],
            "type": "heatmap"
           }
          ],
          "heatmapgl": [
           {
            "colorbar": {
             "outlinewidth": 0,
             "ticks": ""
            },
            "colorscale": [
             [
              0,
              "#0d0887"
             ],
             [
              0.1111111111111111,
              "#46039f"
             ],
             [
              0.2222222222222222,
              "#7201a8"
             ],
             [
              0.3333333333333333,
              "#9c179e"
             ],
             [
              0.4444444444444444,
              "#bd3786"
             ],
             [
              0.5555555555555556,
              "#d8576b"
             ],
             [
              0.6666666666666666,
              "#ed7953"
             ],
             [
              0.7777777777777778,
              "#fb9f3a"
             ],
             [
              0.8888888888888888,
              "#fdca26"
             ],
             [
              1,
              "#f0f921"
             ]
            ],
            "type": "heatmapgl"
           }
          ],
          "histogram": [
           {
            "marker": {
             "pattern": {
              "fillmode": "overlay",
              "size": 10,
              "solidity": 0.2
             }
            },
            "type": "histogram"
           }
          ],
          "histogram2d": [
           {
            "colorbar": {
             "outlinewidth": 0,
             "ticks": ""
            },
            "colorscale": [
             [
              0,
              "#0d0887"
             ],
             [
              0.1111111111111111,
              "#46039f"
             ],
             [
              0.2222222222222222,
              "#7201a8"
             ],
             [
              0.3333333333333333,
              "#9c179e"
             ],
             [
              0.4444444444444444,
              "#bd3786"
             ],
             [
              0.5555555555555556,
              "#d8576b"
             ],
             [
              0.6666666666666666,
              "#ed7953"
             ],
             [
              0.7777777777777778,
              "#fb9f3a"
             ],
             [
              0.8888888888888888,
              "#fdca26"
             ],
             [
              1,
              "#f0f921"
             ]
            ],
            "type": "histogram2d"
           }
          ],
          "histogram2dcontour": [
           {
            "colorbar": {
             "outlinewidth": 0,
             "ticks": ""
            },
            "colorscale": [
             [
              0,
              "#0d0887"
             ],
             [
              0.1111111111111111,
              "#46039f"
             ],
             [
              0.2222222222222222,
              "#7201a8"
             ],
             [
              0.3333333333333333,
              "#9c179e"
             ],
             [
              0.4444444444444444,
              "#bd3786"
             ],
             [
              0.5555555555555556,
              "#d8576b"
             ],
             [
              0.6666666666666666,
              "#ed7953"
             ],
             [
              0.7777777777777778,
              "#fb9f3a"
             ],
             [
              0.8888888888888888,
              "#fdca26"
             ],
             [
              1,
              "#f0f921"
             ]
            ],
            "type": "histogram2dcontour"
           }
          ],
          "mesh3d": [
           {
            "colorbar": {
             "outlinewidth": 0,
             "ticks": ""
            },
            "type": "mesh3d"
           }
          ],
          "parcoords": [
           {
            "line": {
             "colorbar": {
              "outlinewidth": 0,
              "ticks": ""
             }
            },
            "type": "parcoords"
           }
          ],
          "pie": [
           {
            "automargin": true,
            "type": "pie"
           }
          ],
          "scatter": [
           {
            "fillpattern": {
             "fillmode": "overlay",
             "size": 10,
             "solidity": 0.2
            },
            "type": "scatter"
           }
          ],
          "scatter3d": [
           {
            "line": {
             "colorbar": {
              "outlinewidth": 0,
              "ticks": ""
             }
            },
            "marker": {
             "colorbar": {
              "outlinewidth": 0,
              "ticks": ""
             }
            },
            "type": "scatter3d"
           }
          ],
          "scattercarpet": [
           {
            "marker": {
             "colorbar": {
              "outlinewidth": 0,
              "ticks": ""
             }
            },
            "type": "scattercarpet"
           }
          ],
          "scattergeo": [
           {
            "marker": {
             "colorbar": {
              "outlinewidth": 0,
              "ticks": ""
             }
            },
            "type": "scattergeo"
           }
          ],
          "scattergl": [
           {
            "marker": {
             "colorbar": {
              "outlinewidth": 0,
              "ticks": ""
             }
            },
            "type": "scattergl"
           }
          ],
          "scattermapbox": [
           {
            "marker": {
             "colorbar": {
              "outlinewidth": 0,
              "ticks": ""
             }
            },
            "type": "scattermapbox"
           }
          ],
          "scatterpolar": [
           {
            "marker": {
             "colorbar": {
              "outlinewidth": 0,
              "ticks": ""
             }
            },
            "type": "scatterpolar"
           }
          ],
          "scatterpolargl": [
           {
            "marker": {
             "colorbar": {
              "outlinewidth": 0,
              "ticks": ""
             }
            },
            "type": "scatterpolargl"
           }
          ],
          "scatterternary": [
           {
            "marker": {
             "colorbar": {
              "outlinewidth": 0,
              "ticks": ""
             }
            },
            "type": "scatterternary"
           }
          ],
          "surface": [
           {
            "colorbar": {
             "outlinewidth": 0,
             "ticks": ""
            },
            "colorscale": [
             [
              0,
              "#0d0887"
             ],
             [
              0.1111111111111111,
              "#46039f"
             ],
             [
              0.2222222222222222,
              "#7201a8"
             ],
             [
              0.3333333333333333,
              "#9c179e"
             ],
             [
              0.4444444444444444,
              "#bd3786"
             ],
             [
              0.5555555555555556,
              "#d8576b"
             ],
             [
              0.6666666666666666,
              "#ed7953"
             ],
             [
              0.7777777777777778,
              "#fb9f3a"
             ],
             [
              0.8888888888888888,
              "#fdca26"
             ],
             [
              1,
              "#f0f921"
             ]
            ],
            "type": "surface"
           }
          ],
          "table": [
           {
            "cells": {
             "fill": {
              "color": "#EBF0F8"
             },
             "line": {
              "color": "white"
             }
            },
            "header": {
             "fill": {
              "color": "#C8D4E3"
             },
             "line": {
              "color": "white"
             }
            },
            "type": "table"
           }
          ]
         },
         "layout": {
          "annotationdefaults": {
           "arrowcolor": "#2a3f5f",
           "arrowhead": 0,
           "arrowwidth": 1
          },
          "autotypenumbers": "strict",
          "coloraxis": {
           "colorbar": {
            "outlinewidth": 0,
            "ticks": ""
           }
          },
          "colorscale": {
           "diverging": [
            [
             0,
             "#8e0152"
            ],
            [
             0.1,
             "#c51b7d"
            ],
            [
             0.2,
             "#de77ae"
            ],
            [
             0.3,
             "#f1b6da"
            ],
            [
             0.4,
             "#fde0ef"
            ],
            [
             0.5,
             "#f7f7f7"
            ],
            [
             0.6,
             "#e6f5d0"
            ],
            [
             0.7,
             "#b8e186"
            ],
            [
             0.8,
             "#7fbc41"
            ],
            [
             0.9,
             "#4d9221"
            ],
            [
             1,
             "#276419"
            ]
           ],
           "sequential": [
            [
             0,
             "#0d0887"
            ],
            [
             0.1111111111111111,
             "#46039f"
            ],
            [
             0.2222222222222222,
             "#7201a8"
            ],
            [
             0.3333333333333333,
             "#9c179e"
            ],
            [
             0.4444444444444444,
             "#bd3786"
            ],
            [
             0.5555555555555556,
             "#d8576b"
            ],
            [
             0.6666666666666666,
             "#ed7953"
            ],
            [
             0.7777777777777778,
             "#fb9f3a"
            ],
            [
             0.8888888888888888,
             "#fdca26"
            ],
            [
             1,
             "#f0f921"
            ]
           ],
           "sequentialminus": [
            [
             0,
             "#0d0887"
            ],
            [
             0.1111111111111111,
             "#46039f"
            ],
            [
             0.2222222222222222,
             "#7201a8"
            ],
            [
             0.3333333333333333,
             "#9c179e"
            ],
            [
             0.4444444444444444,
             "#bd3786"
            ],
            [
             0.5555555555555556,
             "#d8576b"
            ],
            [
             0.6666666666666666,
             "#ed7953"
            ],
            [
             0.7777777777777778,
             "#fb9f3a"
            ],
            [
             0.8888888888888888,
             "#fdca26"
            ],
            [
             1,
             "#f0f921"
            ]
           ]
          },
          "colorway": [
           "#636efa",
           "#EF553B",
           "#00cc96",
           "#ab63fa",
           "#FFA15A",
           "#19d3f3",
           "#FF6692",
           "#B6E880",
           "#FF97FF",
           "#FECB52"
          ],
          "font": {
           "color": "#2a3f5f"
          },
          "geo": {
           "bgcolor": "white",
           "lakecolor": "white",
           "landcolor": "white",
           "showlakes": true,
           "showland": true,
           "subunitcolor": "#C8D4E3"
          },
          "hoverlabel": {
           "align": "left"
          },
          "hovermode": "closest",
          "mapbox": {
           "style": "light"
          },
          "paper_bgcolor": "white",
          "plot_bgcolor": "white",
          "polar": {
           "angularaxis": {
            "gridcolor": "#EBF0F8",
            "linecolor": "#EBF0F8",
            "ticks": ""
           },
           "bgcolor": "white",
           "radialaxis": {
            "gridcolor": "#EBF0F8",
            "linecolor": "#EBF0F8",
            "ticks": ""
           }
          },
          "scene": {
           "xaxis": {
            "backgroundcolor": "white",
            "gridcolor": "#DFE8F3",
            "gridwidth": 2,
            "linecolor": "#EBF0F8",
            "showbackground": true,
            "ticks": "",
            "zerolinecolor": "#EBF0F8"
           },
           "yaxis": {
            "backgroundcolor": "white",
            "gridcolor": "#DFE8F3",
            "gridwidth": 2,
            "linecolor": "#EBF0F8",
            "showbackground": true,
            "ticks": "",
            "zerolinecolor": "#EBF0F8"
           },
           "zaxis": {
            "backgroundcolor": "white",
            "gridcolor": "#DFE8F3",
            "gridwidth": 2,
            "linecolor": "#EBF0F8",
            "showbackground": true,
            "ticks": "",
            "zerolinecolor": "#EBF0F8"
           }
          },
          "shapedefaults": {
           "line": {
            "color": "#2a3f5f"
           }
          },
          "ternary": {
           "aaxis": {
            "gridcolor": "#DFE8F3",
            "linecolor": "#A2B1C6",
            "ticks": ""
           },
           "baxis": {
            "gridcolor": "#DFE8F3",
            "linecolor": "#A2B1C6",
            "ticks": ""
           },
           "bgcolor": "white",
           "caxis": {
            "gridcolor": "#DFE8F3",
            "linecolor": "#A2B1C6",
            "ticks": ""
           }
          },
          "title": {
           "x": 0.05
          },
          "xaxis": {
           "automargin": true,
           "gridcolor": "#EBF0F8",
           "linecolor": "#EBF0F8",
           "ticks": "",
           "title": {
            "standoff": 15
           },
           "zerolinecolor": "#EBF0F8",
           "zerolinewidth": 2
          },
          "yaxis": {
           "automargin": true,
           "gridcolor": "#EBF0F8",
           "linecolor": "#EBF0F8",
           "ticks": "",
           "title": {
            "standoff": 15
           },
           "zerolinecolor": "#EBF0F8",
           "zerolinewidth": 2
          }
         }
        },
        "title": {
         "text": "Language Modeling Training Curves"
        },
        "width": 1000,
        "xaxis": {
         "title": {
          "text": "Tokens"
         }
        },
        "yaxis": {
         "title": {
          "text": "Validation Loss"
         }
        }
       }
      }
     },
     "metadata": {},
     "output_type": "display_data"
    }
   ],
   "source": [
    "import plotly.graph_objects as go\n",
    "\n",
    "# Get unique tasks and models\n",
    "layers = [4, 5, 6]\n",
    "d = 64\n",
    "metric = 'Validation Loss'\n",
    "# metric = 'Validation Perplexity'\n",
    "# models = figure_data_['Model'].unique()\n",
    "\n",
    "fig_data = filter_data(figure_data, d_models=[d], layers=layers, filter_first_step=True,\n",
    "    symbol_types=('sym_attn',), symmetry=(False,), rca_types=('disentangled_v2',))\n",
    "yrange_global = [fig_data[metric].min(), fig_data[metric].max()]\n",
    "\n",
    "# Create frames for each task\n",
    "frames = []\n",
    "for l in layers:\n",
    "    frame_data = []\n",
    "    ax_data = filter_data(figure_data, d_models=[d], layers=[l], filter_first_step=True,\n",
    "        symbol_types=('sym_attn',), symmetry=(False,), rca_types=('disentangled_v2',))\n",
    "    ax_data = ax_data.groupby(['Model', 'Tokens'])[metric].aggregate(['mean', 'std', 'count', 'sem']).reset_index()\n",
    "    models = ax_data['Model'].unique()\n",
    "\n",
    "    yrange = [ax_data['mean'].min(), ax_data['mean'].max()]\n",
    "\n",
    "    yrange = yrange_global\n",
    "    # xrange = [task_data['Epoch'].min(), task_data['Training Set Size'].max()]\n",
    "    eps_y = 0.025 * (yrange[1] - yrange[0])\n",
    "    # eps_x = 0.025 * (xrange[1] - xrange[0])\n",
    "    yrange = [yrange[0] - eps_y, yrange[1] + eps_y]\n",
    "    # xrange = [xrange[0] - eps_x, xrange[1] + eps_x]\n",
    "\n",
    "    for model in models:\n",
    "        model_filter = ax_data['Model'] == model\n",
    "        model_data = ax_data[model_filter]\n",
    "        frame_data.append(go.Scatter(\n",
    "            x=model_data['Tokens'], \n",
    "            y=model_data['mean'],\n",
    "            mode='lines',\n",
    "            name=model,\n",
    "            line=dict(color=color_map[model]))) # change color based on model\n",
    "    frames.append(go.Frame(data=frame_data, \n",
    "                           name=f'L = {l}',\n",
    "                           layout=dict(yaxis=dict(range=yrange))\n",
    "                                       ))\n",
    "\n",
    "# Create steps for the slider\n",
    "steps = [dict(method='animate',\n",
    "              args=[[frame['name']]],  # frame name to be shown\n",
    "              label=frame['name']) for frame in frames]\n",
    "\n",
    "# Create base frame\n",
    "fig = go.Figure(\n",
    "    data=frames[0]['data'],\n",
    "    layout=go.Layout(\n",
    "        title='Language Modeling Training Curves',\n",
    "        xaxis=dict(title='Tokens'),\n",
    "        yaxis=dict(title=metric),\n",
    "        height=600,\n",
    "        width=1000,\n",
    "        sliders=[dict(steps=steps)],  # add the slider\n",
    "                font_family=\"Computer Modern\",\n",
    "        template=theme,\n",
    "        legend_title=\"Model\",\n",
    "        legend=dict(yanchor=\"top\", y=0.99, xanchor=\"right\", x=0.99,\n",
    "                    title_font_family=\"Times New Roman\", #bgcolor='LightSteelBlue',\n",
    "                    bordercolor=\"Black\", borderwidth=1),\n",
    "    ),\n",
    "    frames=frames\n",
    ")\n",
    "\n",
    "fig.show()"
   ]
  },
  {
   "cell_type": "code",
   "execution_count": 47,
   "metadata": {},
   "outputs": [],
   "source": [
    "fig_json = fig.to_json()\n",
    "# save fig_json to file\n",
    "with open(f'{save_dir}/language_modeling_training_curves.json', 'w') as f:\n",
    "    f.write(fig_json)"
   ]
  },
  {
   "cell_type": "markdown",
   "metadata": {},
   "source": [
    "## Vision"
   ]
  },
  {
   "cell_type": "code",
   "execution_count": 227,
   "metadata": {},
   "outputs": [
    {
     "data": {
      "text/html": [
       "<div>\n",
       "<style scoped>\n",
       "    .dataframe tbody tr th:only-of-type {\n",
       "        vertical-align: middle;\n",
       "    }\n",
       "\n",
       "    .dataframe tbody tr th {\n",
       "        vertical-align: top;\n",
       "    }\n",
       "\n",
       "    .dataframe thead th {\n",
       "        text-align: right;\n",
       "    }\n",
       "</style>\n",
       "<table border=\"1\" class=\"dataframe\">\n",
       "  <thead>\n",
       "    <tr style=\"text-align: right;\">\n",
       "      <th></th>\n",
       "      <th>train/loss_epoch</th>\n",
       "      <th>train/acc_step</th>\n",
       "      <th>trainer/global_step</th>\n",
       "      <th>val/top4_acc</th>\n",
       "      <th>_step</th>\n",
       "      <th>val/top3_acc</th>\n",
       "      <th>val/acc</th>\n",
       "      <th>val/loss</th>\n",
       "      <th>val/top2_acc</th>\n",
       "      <th>_runtime</th>\n",
       "      <th>...</th>\n",
       "      <th>val/top7_acc</th>\n",
       "      <th>val/top8_acc</th>\n",
       "      <th>train/acc_epoch</th>\n",
       "      <th>d_model</th>\n",
       "      <th>n_layers</th>\n",
       "      <th>symbol_retrieval</th>\n",
       "      <th>rca_type</th>\n",
       "      <th>symmetric_rels</th>\n",
       "      <th>group</th>\n",
       "      <th>name</th>\n",
       "    </tr>\n",
       "  </thead>\n",
       "  <tbody>\n",
       "    <tr>\n",
       "      <th>6</th>\n",
       "      <td>NaN</td>\n",
       "      <td>NaN</td>\n",
       "      <td>312</td>\n",
       "      <td>0.126362</td>\n",
       "      <td>6</td>\n",
       "      <td>0.105609</td>\n",
       "      <td>0.047035</td>\n",
       "      <td>5.619035</td>\n",
       "      <td>0.079808</td>\n",
       "      <td>7318.165370</td>\n",
       "      <td>...</td>\n",
       "      <td>0.177324</td>\n",
       "      <td>0.191186</td>\n",
       "      <td>NaN</td>\n",
       "      <td>1024</td>\n",
       "      <td>24</td>\n",
       "      <td>pos_relative</td>\n",
       "      <td>disentangled_v2</td>\n",
       "      <td>NaN</td>\n",
       "      <td>NaN</td>\n",
       "      <td>sa=10; rca=6; d=1024; L=24; rca_type=disentang...</td>\n",
       "    </tr>\n",
       "    <tr>\n",
       "      <th>7</th>\n",
       "      <td>6.408384</td>\n",
       "      <td>NaN</td>\n",
       "      <td>312</td>\n",
       "      <td>NaN</td>\n",
       "      <td>7</td>\n",
       "      <td>NaN</td>\n",
       "      <td>NaN</td>\n",
       "      <td>NaN</td>\n",
       "      <td>NaN</td>\n",
       "      <td>7322.367173</td>\n",
       "      <td>...</td>\n",
       "      <td>NaN</td>\n",
       "      <td>NaN</td>\n",
       "      <td>0.021343</td>\n",
       "      <td>1024</td>\n",
       "      <td>24</td>\n",
       "      <td>pos_relative</td>\n",
       "      <td>disentangled_v2</td>\n",
       "      <td>NaN</td>\n",
       "      <td>NaN</td>\n",
       "      <td>sa=10; rca=6; d=1024; L=24; rca_type=disentang...</td>\n",
       "    </tr>\n",
       "    <tr>\n",
       "      <th>14</th>\n",
       "      <td>NaN</td>\n",
       "      <td>NaN</td>\n",
       "      <td>625</td>\n",
       "      <td>0.208734</td>\n",
       "      <td>14</td>\n",
       "      <td>0.177083</td>\n",
       "      <td>0.092708</td>\n",
       "      <td>5.096831</td>\n",
       "      <td>0.141026</td>\n",
       "      <td>14620.223963</td>\n",
       "      <td>...</td>\n",
       "      <td>0.277804</td>\n",
       "      <td>0.297035</td>\n",
       "      <td>NaN</td>\n",
       "      <td>1024</td>\n",
       "      <td>24</td>\n",
       "      <td>pos_relative</td>\n",
       "      <td>disentangled_v2</td>\n",
       "      <td>NaN</td>\n",
       "      <td>NaN</td>\n",
       "      <td>sa=10; rca=6; d=1024; L=24; rca_type=disentang...</td>\n",
       "    </tr>\n",
       "    <tr>\n",
       "      <th>15</th>\n",
       "      <td>5.503854</td>\n",
       "      <td>NaN</td>\n",
       "      <td>625</td>\n",
       "      <td>NaN</td>\n",
       "      <td>15</td>\n",
       "      <td>NaN</td>\n",
       "      <td>NaN</td>\n",
       "      <td>NaN</td>\n",
       "      <td>NaN</td>\n",
       "      <td>14624.322500</td>\n",
       "      <td>...</td>\n",
       "      <td>NaN</td>\n",
       "      <td>NaN</td>\n",
       "      <td>0.062984</td>\n",
       "      <td>1024</td>\n",
       "      <td>24</td>\n",
       "      <td>pos_relative</td>\n",
       "      <td>disentangled_v2</td>\n",
       "      <td>NaN</td>\n",
       "      <td>NaN</td>\n",
       "      <td>sa=10; rca=6; d=1024; L=24; rca_type=disentang...</td>\n",
       "    </tr>\n",
       "    <tr>\n",
       "      <th>22</th>\n",
       "      <td>NaN</td>\n",
       "      <td>NaN</td>\n",
       "      <td>938</td>\n",
       "      <td>0.290545</td>\n",
       "      <td>22</td>\n",
       "      <td>0.257212</td>\n",
       "      <td>0.141186</td>\n",
       "      <td>4.607257</td>\n",
       "      <td>0.211538</td>\n",
       "      <td>21924.534104</td>\n",
       "      <td>...</td>\n",
       "      <td>0.369631</td>\n",
       "      <td>0.390625</td>\n",
       "      <td>NaN</td>\n",
       "      <td>1024</td>\n",
       "      <td>24</td>\n",
       "      <td>pos_relative</td>\n",
       "      <td>disentangled_v2</td>\n",
       "      <td>NaN</td>\n",
       "      <td>NaN</td>\n",
       "      <td>sa=10; rca=6; d=1024; L=24; rca_type=disentang...</td>\n",
       "    </tr>\n",
       "  </tbody>\n",
       "</table>\n",
       "<p>5 rows × 27 columns</p>\n",
       "</div>"
      ],
      "text/plain": [
       "    train/loss_epoch  train/acc_step  trainer/global_step  val/top4_acc  \\\n",
       "6                NaN             NaN                  312      0.126362   \n",
       "7           6.408384             NaN                  312           NaN   \n",
       "14               NaN             NaN                  625      0.208734   \n",
       "15          5.503854             NaN                  625           NaN   \n",
       "22               NaN             NaN                  938      0.290545   \n",
       "\n",
       "    _step  val/top3_acc   val/acc  val/loss  val/top2_acc      _runtime  ...  \\\n",
       "6       6      0.105609  0.047035  5.619035      0.079808   7318.165370  ...   \n",
       "7       7           NaN       NaN       NaN           NaN   7322.367173  ...   \n",
       "14     14      0.177083  0.092708  5.096831      0.141026  14620.223963  ...   \n",
       "15     15           NaN       NaN       NaN           NaN  14624.322500  ...   \n",
       "22     22      0.257212  0.141186  4.607257      0.211538  21924.534104  ...   \n",
       "\n",
       "    val/top7_acc  val/top8_acc  train/acc_epoch  d_model  n_layers  \\\n",
       "6       0.177324      0.191186              NaN     1024        24   \n",
       "7            NaN           NaN         0.021343     1024        24   \n",
       "14      0.277804      0.297035              NaN     1024        24   \n",
       "15           NaN           NaN         0.062984     1024        24   \n",
       "22      0.369631      0.390625              NaN     1024        24   \n",
       "\n",
       "    symbol_retrieval         rca_type  symmetric_rels  group  \\\n",
       "6       pos_relative  disentangled_v2             NaN    NaN   \n",
       "7       pos_relative  disentangled_v2             NaN    NaN   \n",
       "14      pos_relative  disentangled_v2             NaN    NaN   \n",
       "15      pos_relative  disentangled_v2             NaN    NaN   \n",
       "22      pos_relative  disentangled_v2             NaN    NaN   \n",
       "\n",
       "                                                 name  \n",
       "6   sa=10; rca=6; d=1024; L=24; rca_type=disentang...  \n",
       "7   sa=10; rca=6; d=1024; L=24; rca_type=disentang...  \n",
       "14  sa=10; rca=6; d=1024; L=24; rca_type=disentang...  \n",
       "15  sa=10; rca=6; d=1024; L=24; rca_type=disentang...  \n",
       "22  sa=10; rca=6; d=1024; L=24; rca_type=disentang...  \n",
       "\n",
       "[5 rows x 27 columns]"
      ]
     },
     "execution_count": 227,
     "metadata": {},
     "output_type": "execute_result"
    }
   ],
   "source": [
    "figure_data = pd.read_csv('figure_data/imagenet/run_histories.csv')\n",
    "figure_data.dropna(subset=['train/acc_epoch', 'val/loss'], inplace=True, how='all') # drop step rows and keep epoch rows\n",
    "figure_data.head()"
   ]
  },
  {
   "cell_type": "code",
   "execution_count": 228,
   "metadata": {},
   "outputs": [],
   "source": [
    "model_name_map = {\n",
    "    'sa=16; d=1024; L=24__2024_05_15_16_38_09': '$\\\\text{Transformer}\\\\ (n_h^{sa}=16, n_h^{ra}=0)$',\n",
    "    'sa=10; rca=6; d=1024; L=24; rca_type=disentangled_v2; sym_rel=True; symbol_type=pos_relative__2024_05_15_18_13_54': f'$\\\\text{{{our_model_name}}}\\\\ (n_h^{{sa}}=10, n_h^{{ra}}=6)$'\n",
    "    }\n",
    "\n",
    "figure_data['Model'] = pd.Categorical(figure_data['name'].map(model_name_map), model_name_map.values(), ordered=True)\n",
    "\n",
    "color_map_ = {\n",
    "    '$\\\\text{Transformer}\\\\ (n_h^{sa}=16, n_h^{ra}=0)$': cmap(6), # red\n",
    "    f'$\\\\text{{{our_model_name}}}\\\\ (n_h^{{sa}}=10, n_h^{{ra}}=6)$': cmap(8), # purple\n",
    "    f'$\\\\text{{{our_model_name}}}\\\\ (n_h^{{sa}}=10, n_h^{{ra}}=6)$': cmap(0), # blue\n",
    "    }\n",
    "\n",
    "color_map = {k: convert_to_plotly_color(color_map_[k]) for k in color_map_}"
   ]
  },
  {
   "cell_type": "code",
   "execution_count": 229,
   "metadata": {},
   "outputs": [
    {
     "name": "stdout",
     "output_type": "stream",
     "text": [
      "train/acc mean difference: 5.01%\n",
      "train/acc max difference: 10.08%\n",
      "train/acc end difference: 2.89%\n",
      "\n",
      "val/acc mean difference: 4.39%\n",
      "val/acc max difference: 9.98%\n",
      "val/acc end difference: 1.46%\n"
     ]
    }
   ],
   "source": [
    "df_ = figure_data[['epoch', 'train/acc_epoch', 'Model']].dropna().pivot(index='epoch', columns='Model', values='train/acc_epoch')\n",
    "trainacc_diff = abs(df_.iloc[:,0] - df_.iloc[:,1])\n",
    "print(f'train/acc mean difference: {trainacc_diff.mean():.2%}')\n",
    "print(f'train/acc max difference: {trainacc_diff.max():.2%}')\n",
    "print(f'train/acc end difference: {abs(max(df_.iloc[:,0]) - max(df_.iloc[:,1])):.2%}')\n",
    "print()\n",
    "df_ = figure_data[['epoch', 'val/acc', 'Model']].dropna().pivot(index='epoch', columns='Model', values='val/acc')\n",
    "valacc_diff = abs(df_.iloc[:,0] - df_.iloc[:,1])\n",
    "print(f'val/acc mean difference: {valacc_diff.mean():.2%}')\n",
    "print(f'val/acc max difference: {valacc_diff.max():.2%}')\n",
    "print(f'val/acc end difference: {abs(max(df_.iloc[:,0]) - max(df_.iloc[:,1])):.2%}')"
   ]
  },
  {
   "cell_type": "code",
   "execution_count": 230,
   "metadata": {},
   "outputs": [],
   "source": [
    "figure_data.rename(columns={'train/acc_epoch': 'Training Accuracy', 'val/acc': 'Validation Accuracy',\n",
    "    'val/loss': 'Validation Loss', 'train/loss_epoch': 'Training Loss', 'epoch': 'Epoch'}, inplace=True)"
   ]
  },
  {
   "cell_type": "code",
   "execution_count": 238,
   "metadata": {},
   "outputs": [
    {
     "data": {
      "application/vnd.plotly.v1+json": {
       "config": {
        "plotlyServerURL": "https://plot.ly"
       },
       "data": [
        {
         "line": {
          "color": "rgb(31, 119, 180)"
         },
         "mode": "lines",
         "name": "$\\text{Dual-Attn Transformer}\\ (n_h^{sa}=10, n_h^{ra}=6)$",
         "showlegend": false,
         "type": "scatter",
         "x": [
          0,
          1,
          2,
          3,
          4,
          5,
          6,
          7,
          8,
          9,
          10,
          11,
          12,
          13,
          14,
          15,
          16,
          17,
          18,
          19,
          20,
          21,
          22,
          23,
          24,
          25,
          26,
          27,
          28,
          29,
          30,
          31,
          32,
          33,
          34,
          35,
          36,
          37,
          38,
          39,
          40,
          41,
          42,
          43,
          44,
          45
         ],
         "xaxis": "x",
         "y": [
          0.0213432908058166,
          0.062983937561512,
          0.1017022207379341,
          0.1342042088508606,
          0.1616451442241668,
          0.2021430730819702,
          0.2371990233659744,
          0.2621983885765075,
          0.2917686700820923,
          0.3114946484565735,
          0.334320992231369,
          0.3511776924133301,
          0.3700201213359833,
          0.3848567605018616,
          0.400068074464798,
          0.4121415615081787,
          0.4269532561302185,
          0.4375312328338623,
          0.449158251285553,
          0.45541512966156,
          0.4681442975997925,
          0.476396232843399,
          0.4839925169944763,
          0.496852844953537,
          0.5040619969367981,
          0.5122265219688416,
          0.518673837184906,
          0.5296108722686768,
          0.5360175967216492,
          0.5421214699745178,
          0.5510727763175964,
          0.5566458702087402,
          0.561994194984436,
          0.5712546110153198,
          0.5765748620033264,
          0.5804275870323181,
          0.5909400582313538,
          0.5928851366043091,
          0.5975621938705444,
          0.6035006046295166,
          0.6071879267692566,
          0.6137538552284241,
          0.6173131465911865,
          0.6215874552726746,
          0.6251686215400696,
          0.6283501386642456
         ],
         "yaxis": "y"
        },
        {
         "line": {
          "color": "rgb(31, 119, 180)"
         },
         "mode": "lines",
         "name": "$\\text{Dual-Attn Transformer}\\ (n_h^{sa}=10, n_h^{ra}=6)$",
         "type": "scatter",
         "x": [
          0,
          1,
          2,
          3,
          4,
          5,
          6,
          7,
          8,
          9,
          10,
          11,
          12,
          13,
          14,
          15,
          16,
          17,
          18,
          19,
          20,
          21,
          22,
          23,
          24,
          25,
          26,
          27,
          28,
          29,
          30,
          31,
          32,
          33,
          34,
          35,
          36,
          37,
          38,
          39,
          40,
          41,
          42,
          43,
          44,
          45
         ],
         "xaxis": "x2",
         "y": [
          0.0470352582633495,
          0.092708334326744,
          0.1411858946084976,
          0.1738782078027725,
          0.2004807740449905,
          0.2545672953128814,
          0.2846955060958862,
          0.3278044760227203,
          0.3370192348957062,
          0.3611378073692322,
          0.379006415605545,
          0.4002403914928436,
          0.4207532107830047,
          0.4314903914928436,
          0.4451923072338104,
          0.4576121866703033,
          0.4725160300731659,
          0.4834134578704834,
          0.4937500059604645,
          0.4965544939041137,
          0.5126602649688721,
          0.5229967832565308,
          0.5322916507720947,
          0.5326122045516968,
          0.5391826629638672,
          0.545352578163147,
          0.5521634817123413,
          0.5552884340286255,
          0.5631410479545593,
          0.5685096383094788,
          0.5696313977241516,
          0.5721153616905212,
          0.584455132484436,
          0.5813301205635071,
          0.5932692289352417,
          0.592067301273346,
          0.5900641083717346,
          0.5970352292060852,
          0.6054487228393555,
          0.5965544581413269,
          0.6052884459495544,
          0.6079326868057251,
          0.6133012771606445,
          0.6098557710647583,
          0.6117788553237915,
          0.6166666746139526
         ],
         "yaxis": "y2"
        },
        {
         "line": {
          "color": "rgb(214, 39, 40)"
         },
         "mode": "lines",
         "name": "$\\text{Transformer}\\ (n_h^{sa}=16, n_h^{ra}=0)$",
         "showlegend": false,
         "type": "scatter",
         "x": [
          0,
          1,
          2,
          3,
          4,
          5,
          6,
          7,
          8,
          9,
          10,
          11,
          12,
          13,
          14,
          15,
          16,
          17,
          18,
          19,
          20,
          21,
          22,
          23,
          24,
          25,
          26,
          27,
          28,
          29,
          30,
          31,
          32,
          33,
          34,
          35,
          36,
          37,
          38,
          39,
          40,
          41,
          42,
          43,
          44
         ],
         "xaxis": "x",
         "y": [
          0.0181430466473102,
          0.0522592179477214,
          0.0851983204483985,
          0.1145625188946724,
          0.1370641440153122,
          0.1571554392576217,
          0.1743493378162384,
          0.1919459998607635,
          0.2038977444171905,
          0.2181536555290222,
          0.2335117161273956,
          0.2545396685600281,
          0.2820086777210235,
          0.2987873554229736,
          0.3176141381263733,
          0.3365814387798309,
          0.3545777499675751,
          0.3685432970523834,
          0.3841542601585388,
          0.3963870108127594,
          0.4095064401626587,
          0.4214269518852234,
          0.4325138628482818,
          0.4432666897773742,
          0.4554244875907898,
          0.4641666114330292,
          0.4746665358543396,
          0.4837084114551544,
          0.4925972819328308,
          0.5003902912139893,
          0.5074089765548706,
          0.5169191360473633,
          0.5242531895637512,
          0.5313811302185059,
          0.5376692414283752,
          0.5447285175323486,
          0.5528025031089783,
          0.5611637234687805,
          0.5632181167602539,
          0.5675985217094421,
          0.5721663236618042,
          0.5802839994430542,
          0.5849485397338867,
          0.5880551338195801,
          0.5994355082511902
         ],
         "yaxis": "y"
        },
        {
         "line": {
          "color": "rgb(214, 39, 40)"
         },
         "mode": "lines",
         "name": "$\\text{Transformer}\\ (n_h^{sa}=16, n_h^{ra}=0)$",
         "type": "scatter",
         "x": [
          0,
          1,
          2,
          3,
          4,
          5,
          6,
          7,
          8,
          9,
          10,
          11,
          12,
          13,
          14,
          15,
          16,
          17,
          18,
          19,
          20,
          21,
          22,
          23,
          24,
          25,
          26,
          27,
          28,
          29,
          30,
          31,
          32,
          33,
          34,
          35,
          36,
          37,
          38,
          39,
          40,
          41,
          42,
          43,
          44
         ],
         "xaxis": "x2",
         "y": [
          0.0317307710647583,
          0.0810897424817085,
          0.1145833358168602,
          0.144230768084526,
          0.1736378222703933,
          0.1943109035491943,
          0.2149839699268341,
          0.2296474426984787,
          0.2395032048225402,
          0.2629006505012512,
          0.2791666686534881,
          0.309535264968872,
          0.3355769217014313,
          0.3430288434028625,
          0.3688301146030426,
          0.3886218070983886,
          0.4044871926307678,
          0.4197115302085876,
          0.429727554321289,
          0.4403846263885498,
          0.4518429338932037,
          0.4719551205635071,
          0.4781250059604645,
          0.4907852709293365,
          0.503125011920929,
          0.5039262771606445,
          0.5165865421295166,
          0.5241987109184265,
          0.5326923131942749,
          0.5368589758872986,
          0.5391025543212891,
          0.5560095906257629,
          0.5596153736114502,
          0.5571314096450806,
          0.5694711804389954,
          0.5737980604171753,
          0.5808493494987488,
          0.5806089639663696,
          0.5815705060958862,
          0.584294855594635,
          0.5909455418586731,
          0.6020833253860474,
          0.5915865302085876,
          0.6017628312110901,
          0.596794843673706
         ],
         "yaxis": "y2"
        }
       ],
       "layout": {
        "annotations": [
         {
          "font": {
           "size": 16
          },
          "showarrow": false,
          "text": "Training Accuracy",
          "x": 0.225,
          "xanchor": "center",
          "xref": "paper",
          "y": 1,
          "yanchor": "bottom",
          "yref": "paper"
         },
         {
          "font": {
           "size": 16
          },
          "showarrow": false,
          "text": "Validation Accuracy",
          "x": 0.775,
          "xanchor": "center",
          "xref": "paper",
          "y": 1,
          "yanchor": "bottom",
          "yref": "paper"
         }
        ],
        "font": {
         "family": "Computer Modern"
        },
        "height": 600,
        "legend": {
         "bordercolor": "Black",
         "borderwidth": 1,
         "title": {
          "text": "Model"
         },
         "x": 0.99,
         "xanchor": "right",
         "y": 0.01,
         "yanchor": "bottom"
        },
        "template": {
         "data": {
          "bar": [
           {
            "error_x": {
             "color": "#2a3f5f"
            },
            "error_y": {
             "color": "#2a3f5f"
            },
            "marker": {
             "line": {
              "color": "white",
              "width": 0.5
             },
             "pattern": {
              "fillmode": "overlay",
              "size": 10,
              "solidity": 0.2
             }
            },
            "type": "bar"
           }
          ],
          "barpolar": [
           {
            "marker": {
             "line": {
              "color": "white",
              "width": 0.5
             },
             "pattern": {
              "fillmode": "overlay",
              "size": 10,
              "solidity": 0.2
             }
            },
            "type": "barpolar"
           }
          ],
          "carpet": [
           {
            "aaxis": {
             "endlinecolor": "#2a3f5f",
             "gridcolor": "#C8D4E3",
             "linecolor": "#C8D4E3",
             "minorgridcolor": "#C8D4E3",
             "startlinecolor": "#2a3f5f"
            },
            "baxis": {
             "endlinecolor": "#2a3f5f",
             "gridcolor": "#C8D4E3",
             "linecolor": "#C8D4E3",
             "minorgridcolor": "#C8D4E3",
             "startlinecolor": "#2a3f5f"
            },
            "type": "carpet"
           }
          ],
          "choropleth": [
           {
            "colorbar": {
             "outlinewidth": 0,
             "ticks": ""
            },
            "type": "choropleth"
           }
          ],
          "contour": [
           {
            "colorbar": {
             "outlinewidth": 0,
             "ticks": ""
            },
            "colorscale": [
             [
              0,
              "#0d0887"
             ],
             [
              0.1111111111111111,
              "#46039f"
             ],
             [
              0.2222222222222222,
              "#7201a8"
             ],
             [
              0.3333333333333333,
              "#9c179e"
             ],
             [
              0.4444444444444444,
              "#bd3786"
             ],
             [
              0.5555555555555556,
              "#d8576b"
             ],
             [
              0.6666666666666666,
              "#ed7953"
             ],
             [
              0.7777777777777778,
              "#fb9f3a"
             ],
             [
              0.8888888888888888,
              "#fdca26"
             ],
             [
              1,
              "#f0f921"
             ]
            ],
            "type": "contour"
           }
          ],
          "contourcarpet": [
           {
            "colorbar": {
             "outlinewidth": 0,
             "ticks": ""
            },
            "type": "contourcarpet"
           }
          ],
          "heatmap": [
           {
            "colorbar": {
             "outlinewidth": 0,
             "ticks": ""
            },
            "colorscale": [
             [
              0,
              "#0d0887"
             ],
             [
              0.1111111111111111,
              "#46039f"
             ],
             [
              0.2222222222222222,
              "#7201a8"
             ],
             [
              0.3333333333333333,
              "#9c179e"
             ],
             [
              0.4444444444444444,
              "#bd3786"
             ],
             [
              0.5555555555555556,
              "#d8576b"
             ],
             [
              0.6666666666666666,
              "#ed7953"
             ],
             [
              0.7777777777777778,
              "#fb9f3a"
             ],
             [
              0.8888888888888888,
              "#fdca26"
             ],
             [
              1,
              "#f0f921"
             ]
            ],
            "type": "heatmap"
           }
          ],
          "heatmapgl": [
           {
            "colorbar": {
             "outlinewidth": 0,
             "ticks": ""
            },
            "colorscale": [
             [
              0,
              "#0d0887"
             ],
             [
              0.1111111111111111,
              "#46039f"
             ],
             [
              0.2222222222222222,
              "#7201a8"
             ],
             [
              0.3333333333333333,
              "#9c179e"
             ],
             [
              0.4444444444444444,
              "#bd3786"
             ],
             [
              0.5555555555555556,
              "#d8576b"
             ],
             [
              0.6666666666666666,
              "#ed7953"
             ],
             [
              0.7777777777777778,
              "#fb9f3a"
             ],
             [
              0.8888888888888888,
              "#fdca26"
             ],
             [
              1,
              "#f0f921"
             ]
            ],
            "type": "heatmapgl"
           }
          ],
          "histogram": [
           {
            "marker": {
             "pattern": {
              "fillmode": "overlay",
              "size": 10,
              "solidity": 0.2
             }
            },
            "type": "histogram"
           }
          ],
          "histogram2d": [
           {
            "colorbar": {
             "outlinewidth": 0,
             "ticks": ""
            },
            "colorscale": [
             [
              0,
              "#0d0887"
             ],
             [
              0.1111111111111111,
              "#46039f"
             ],
             [
              0.2222222222222222,
              "#7201a8"
             ],
             [
              0.3333333333333333,
              "#9c179e"
             ],
             [
              0.4444444444444444,
              "#bd3786"
             ],
             [
              0.5555555555555556,
              "#d8576b"
             ],
             [
              0.6666666666666666,
              "#ed7953"
             ],
             [
              0.7777777777777778,
              "#fb9f3a"
             ],
             [
              0.8888888888888888,
              "#fdca26"
             ],
             [
              1,
              "#f0f921"
             ]
            ],
            "type": "histogram2d"
           }
          ],
          "histogram2dcontour": [
           {
            "colorbar": {
             "outlinewidth": 0,
             "ticks": ""
            },
            "colorscale": [
             [
              0,
              "#0d0887"
             ],
             [
              0.1111111111111111,
              "#46039f"
             ],
             [
              0.2222222222222222,
              "#7201a8"
             ],
             [
              0.3333333333333333,
              "#9c179e"
             ],
             [
              0.4444444444444444,
              "#bd3786"
             ],
             [
              0.5555555555555556,
              "#d8576b"
             ],
             [
              0.6666666666666666,
              "#ed7953"
             ],
             [
              0.7777777777777778,
              "#fb9f3a"
             ],
             [
              0.8888888888888888,
              "#fdca26"
             ],
             [
              1,
              "#f0f921"
             ]
            ],
            "type": "histogram2dcontour"
           }
          ],
          "mesh3d": [
           {
            "colorbar": {
             "outlinewidth": 0,
             "ticks": ""
            },
            "type": "mesh3d"
           }
          ],
          "parcoords": [
           {
            "line": {
             "colorbar": {
              "outlinewidth": 0,
              "ticks": ""
             }
            },
            "type": "parcoords"
           }
          ],
          "pie": [
           {
            "automargin": true,
            "type": "pie"
           }
          ],
          "scatter": [
           {
            "fillpattern": {
             "fillmode": "overlay",
             "size": 10,
             "solidity": 0.2
            },
            "type": "scatter"
           }
          ],
          "scatter3d": [
           {
            "line": {
             "colorbar": {
              "outlinewidth": 0,
              "ticks": ""
             }
            },
            "marker": {
             "colorbar": {
              "outlinewidth": 0,
              "ticks": ""
             }
            },
            "type": "scatter3d"
           }
          ],
          "scattercarpet": [
           {
            "marker": {
             "colorbar": {
              "outlinewidth": 0,
              "ticks": ""
             }
            },
            "type": "scattercarpet"
           }
          ],
          "scattergeo": [
           {
            "marker": {
             "colorbar": {
              "outlinewidth": 0,
              "ticks": ""
             }
            },
            "type": "scattergeo"
           }
          ],
          "scattergl": [
           {
            "marker": {
             "colorbar": {
              "outlinewidth": 0,
              "ticks": ""
             }
            },
            "type": "scattergl"
           }
          ],
          "scattermapbox": [
           {
            "marker": {
             "colorbar": {
              "outlinewidth": 0,
              "ticks": ""
             }
            },
            "type": "scattermapbox"
           }
          ],
          "scatterpolar": [
           {
            "marker": {
             "colorbar": {
              "outlinewidth": 0,
              "ticks": ""
             }
            },
            "type": "scatterpolar"
           }
          ],
          "scatterpolargl": [
           {
            "marker": {
             "colorbar": {
              "outlinewidth": 0,
              "ticks": ""
             }
            },
            "type": "scatterpolargl"
           }
          ],
          "scatterternary": [
           {
            "marker": {
             "colorbar": {
              "outlinewidth": 0,
              "ticks": ""
             }
            },
            "type": "scatterternary"
           }
          ],
          "surface": [
           {
            "colorbar": {
             "outlinewidth": 0,
             "ticks": ""
            },
            "colorscale": [
             [
              0,
              "#0d0887"
             ],
             [
              0.1111111111111111,
              "#46039f"
             ],
             [
              0.2222222222222222,
              "#7201a8"
             ],
             [
              0.3333333333333333,
              "#9c179e"
             ],
             [
              0.4444444444444444,
              "#bd3786"
             ],
             [
              0.5555555555555556,
              "#d8576b"
             ],
             [
              0.6666666666666666,
              "#ed7953"
             ],
             [
              0.7777777777777778,
              "#fb9f3a"
             ],
             [
              0.8888888888888888,
              "#fdca26"
             ],
             [
              1,
              "#f0f921"
             ]
            ],
            "type": "surface"
           }
          ],
          "table": [
           {
            "cells": {
             "fill": {
              "color": "#EBF0F8"
             },
             "line": {
              "color": "white"
             }
            },
            "header": {
             "fill": {
              "color": "#C8D4E3"
             },
             "line": {
              "color": "white"
             }
            },
            "type": "table"
           }
          ]
         },
         "layout": {
          "annotationdefaults": {
           "arrowcolor": "#2a3f5f",
           "arrowhead": 0,
           "arrowwidth": 1
          },
          "autotypenumbers": "strict",
          "coloraxis": {
           "colorbar": {
            "outlinewidth": 0,
            "ticks": ""
           }
          },
          "colorscale": {
           "diverging": [
            [
             0,
             "#8e0152"
            ],
            [
             0.1,
             "#c51b7d"
            ],
            [
             0.2,
             "#de77ae"
            ],
            [
             0.3,
             "#f1b6da"
            ],
            [
             0.4,
             "#fde0ef"
            ],
            [
             0.5,
             "#f7f7f7"
            ],
            [
             0.6,
             "#e6f5d0"
            ],
            [
             0.7,
             "#b8e186"
            ],
            [
             0.8,
             "#7fbc41"
            ],
            [
             0.9,
             "#4d9221"
            ],
            [
             1,
             "#276419"
            ]
           ],
           "sequential": [
            [
             0,
             "#0d0887"
            ],
            [
             0.1111111111111111,
             "#46039f"
            ],
            [
             0.2222222222222222,
             "#7201a8"
            ],
            [
             0.3333333333333333,
             "#9c179e"
            ],
            [
             0.4444444444444444,
             "#bd3786"
            ],
            [
             0.5555555555555556,
             "#d8576b"
            ],
            [
             0.6666666666666666,
             "#ed7953"
            ],
            [
             0.7777777777777778,
             "#fb9f3a"
            ],
            [
             0.8888888888888888,
             "#fdca26"
            ],
            [
             1,
             "#f0f921"
            ]
           ],
           "sequentialminus": [
            [
             0,
             "#0d0887"
            ],
            [
             0.1111111111111111,
             "#46039f"
            ],
            [
             0.2222222222222222,
             "#7201a8"
            ],
            [
             0.3333333333333333,
             "#9c179e"
            ],
            [
             0.4444444444444444,
             "#bd3786"
            ],
            [
             0.5555555555555556,
             "#d8576b"
            ],
            [
             0.6666666666666666,
             "#ed7953"
            ],
            [
             0.7777777777777778,
             "#fb9f3a"
            ],
            [
             0.8888888888888888,
             "#fdca26"
            ],
            [
             1,
             "#f0f921"
            ]
           ]
          },
          "colorway": [
           "#636efa",
           "#EF553B",
           "#00cc96",
           "#ab63fa",
           "#FFA15A",
           "#19d3f3",
           "#FF6692",
           "#B6E880",
           "#FF97FF",
           "#FECB52"
          ],
          "font": {
           "color": "#2a3f5f"
          },
          "geo": {
           "bgcolor": "white",
           "lakecolor": "white",
           "landcolor": "white",
           "showlakes": true,
           "showland": true,
           "subunitcolor": "#C8D4E3"
          },
          "hoverlabel": {
           "align": "left"
          },
          "hovermode": "closest",
          "mapbox": {
           "style": "light"
          },
          "paper_bgcolor": "white",
          "plot_bgcolor": "white",
          "polar": {
           "angularaxis": {
            "gridcolor": "#EBF0F8",
            "linecolor": "#EBF0F8",
            "ticks": ""
           },
           "bgcolor": "white",
           "radialaxis": {
            "gridcolor": "#EBF0F8",
            "linecolor": "#EBF0F8",
            "ticks": ""
           }
          },
          "scene": {
           "xaxis": {
            "backgroundcolor": "white",
            "gridcolor": "#DFE8F3",
            "gridwidth": 2,
            "linecolor": "#EBF0F8",
            "showbackground": true,
            "ticks": "",
            "zerolinecolor": "#EBF0F8"
           },
           "yaxis": {
            "backgroundcolor": "white",
            "gridcolor": "#DFE8F3",
            "gridwidth": 2,
            "linecolor": "#EBF0F8",
            "showbackground": true,
            "ticks": "",
            "zerolinecolor": "#EBF0F8"
           },
           "zaxis": {
            "backgroundcolor": "white",
            "gridcolor": "#DFE8F3",
            "gridwidth": 2,
            "linecolor": "#EBF0F8",
            "showbackground": true,
            "ticks": "",
            "zerolinecolor": "#EBF0F8"
           }
          },
          "shapedefaults": {
           "line": {
            "color": "#2a3f5f"
           }
          },
          "ternary": {
           "aaxis": {
            "gridcolor": "#DFE8F3",
            "linecolor": "#A2B1C6",
            "ticks": ""
           },
           "baxis": {
            "gridcolor": "#DFE8F3",
            "linecolor": "#A2B1C6",
            "ticks": ""
           },
           "bgcolor": "white",
           "caxis": {
            "gridcolor": "#DFE8F3",
            "linecolor": "#A2B1C6",
            "ticks": ""
           }
          },
          "title": {
           "x": 0.05
          },
          "xaxis": {
           "automargin": true,
           "gridcolor": "#EBF0F8",
           "linecolor": "#EBF0F8",
           "ticks": "",
           "title": {
            "standoff": 15
           },
           "zerolinecolor": "#EBF0F8",
           "zerolinewidth": 2
          },
          "yaxis": {
           "automargin": true,
           "gridcolor": "#EBF0F8",
           "linecolor": "#EBF0F8",
           "ticks": "",
           "title": {
            "standoff": 15
           },
           "zerolinecolor": "#EBF0F8",
           "zerolinewidth": 2
          }
         }
        },
        "title": {
         "text": "Image Classification Training Curves"
        },
        "width": 1000,
        "xaxis": {
         "anchor": "y",
         "domain": [
          0,
          0.45
         ],
         "title": {
          "text": "Epoch"
         }
        },
        "xaxis2": {
         "anchor": "y2",
         "domain": [
          0.55,
          1
         ],
         "title": {
          "text": "Epoch"
         }
        },
        "yaxis": {
         "anchor": "x",
         "domain": [
          0,
          1
         ]
        },
        "yaxis2": {
         "anchor": "x2",
         "domain": [
          0,
          1
         ]
        }
       }
      },
      "text/html": [
       "<div>                            <div id=\"5311ceab-ca9d-4de1-ae39-109f1b6deb6a\" class=\"plotly-graph-div\" style=\"height:600px; width:1000px;\"></div>            <script type=\"text/javascript\">                require([\"plotly\"], function(Plotly) {                    window.PLOTLYENV=window.PLOTLYENV || {};                                    if (document.getElementById(\"5311ceab-ca9d-4de1-ae39-109f1b6deb6a\")) {                    Plotly.newPlot(                        \"5311ceab-ca9d-4de1-ae39-109f1b6deb6a\",                        [{\"line\":{\"color\":\"rgb(31, 119, 180)\"},\"mode\":\"lines\",\"name\":\"$\\\\text{Dual-Attn Transformer}\\\\ (n_h^{sa}=10, n_h^{ra}=6)$\",\"showlegend\":false,\"x\":[0,1,2,3,4,5,6,7,8,9,10,11,12,13,14,15,16,17,18,19,20,21,22,23,24,25,26,27,28,29,30,31,32,33,34,35,36,37,38,39,40,41,42,43,44,45],\"y\":[0.0213432908058166,0.062983937561512,0.1017022207379341,0.1342042088508606,0.1616451442241668,0.2021430730819702,0.2371990233659744,0.2621983885765075,0.2917686700820923,0.3114946484565735,0.334320992231369,0.3511776924133301,0.3700201213359833,0.3848567605018616,0.400068074464798,0.4121415615081787,0.4269532561302185,0.4375312328338623,0.449158251285553,0.45541512966156,0.4681442975997925,0.476396232843399,0.4839925169944763,0.496852844953537,0.5040619969367981,0.5122265219688416,0.518673837184906,0.5296108722686768,0.5360175967216492,0.5421214699745178,0.5510727763175964,0.5566458702087402,0.561994194984436,0.5712546110153198,0.5765748620033264,0.5804275870323181,0.5909400582313538,0.5928851366043091,0.5975621938705444,0.6035006046295166,0.6071879267692566,0.6137538552284241,0.6173131465911865,0.6215874552726746,0.6251686215400696,0.6283501386642456],\"type\":\"scatter\",\"xaxis\":\"x\",\"yaxis\":\"y\"},{\"line\":{\"color\":\"rgb(31, 119, 180)\"},\"mode\":\"lines\",\"name\":\"$\\\\text{Dual-Attn Transformer}\\\\ (n_h^{sa}=10, n_h^{ra}=6)$\",\"x\":[0,1,2,3,4,5,6,7,8,9,10,11,12,13,14,15,16,17,18,19,20,21,22,23,24,25,26,27,28,29,30,31,32,33,34,35,36,37,38,39,40,41,42,43,44,45],\"y\":[0.0470352582633495,0.092708334326744,0.1411858946084976,0.1738782078027725,0.2004807740449905,0.2545672953128814,0.2846955060958862,0.3278044760227203,0.3370192348957062,0.3611378073692322,0.379006415605545,0.4002403914928436,0.4207532107830047,0.4314903914928436,0.4451923072338104,0.4576121866703033,0.4725160300731659,0.4834134578704834,0.4937500059604645,0.4965544939041137,0.5126602649688721,0.5229967832565308,0.5322916507720947,0.5326122045516968,0.5391826629638672,0.545352578163147,0.5521634817123413,0.5552884340286255,0.5631410479545593,0.5685096383094788,0.5696313977241516,0.5721153616905212,0.584455132484436,0.5813301205635071,0.5932692289352417,0.592067301273346,0.5900641083717346,0.5970352292060852,0.6054487228393555,0.5965544581413269,0.6052884459495544,0.6079326868057251,0.6133012771606445,0.6098557710647583,0.6117788553237915,0.6166666746139526],\"type\":\"scatter\",\"xaxis\":\"x2\",\"yaxis\":\"y2\"},{\"line\":{\"color\":\"rgb(214, 39, 40)\"},\"mode\":\"lines\",\"name\":\"$\\\\text{Transformer}\\\\ (n_h^{sa}=16, n_h^{ra}=0)$\",\"showlegend\":false,\"x\":[0,1,2,3,4,5,6,7,8,9,10,11,12,13,14,15,16,17,18,19,20,21,22,23,24,25,26,27,28,29,30,31,32,33,34,35,36,37,38,39,40,41,42,43,44],\"y\":[0.0181430466473102,0.0522592179477214,0.0851983204483985,0.1145625188946724,0.1370641440153122,0.1571554392576217,0.1743493378162384,0.1919459998607635,0.2038977444171905,0.2181536555290222,0.2335117161273956,0.2545396685600281,0.2820086777210235,0.2987873554229736,0.3176141381263733,0.3365814387798309,0.3545777499675751,0.3685432970523834,0.3841542601585388,0.3963870108127594,0.4095064401626587,0.4214269518852234,0.4325138628482818,0.4432666897773742,0.4554244875907898,0.4641666114330292,0.4746665358543396,0.4837084114551544,0.4925972819328308,0.5003902912139893,0.5074089765548706,0.5169191360473633,0.5242531895637512,0.5313811302185059,0.5376692414283752,0.5447285175323486,0.5528025031089783,0.5611637234687805,0.5632181167602539,0.5675985217094421,0.5721663236618042,0.5802839994430542,0.5849485397338867,0.5880551338195801,0.5994355082511902],\"type\":\"scatter\",\"xaxis\":\"x\",\"yaxis\":\"y\"},{\"line\":{\"color\":\"rgb(214, 39, 40)\"},\"mode\":\"lines\",\"name\":\"$\\\\text{Transformer}\\\\ (n_h^{sa}=16, n_h^{ra}=0)$\",\"x\":[0,1,2,3,4,5,6,7,8,9,10,11,12,13,14,15,16,17,18,19,20,21,22,23,24,25,26,27,28,29,30,31,32,33,34,35,36,37,38,39,40,41,42,43,44],\"y\":[0.0317307710647583,0.0810897424817085,0.1145833358168602,0.144230768084526,0.1736378222703933,0.1943109035491943,0.2149839699268341,0.2296474426984787,0.2395032048225402,0.2629006505012512,0.2791666686534881,0.309535264968872,0.3355769217014313,0.3430288434028625,0.3688301146030426,0.3886218070983886,0.4044871926307678,0.4197115302085876,0.429727554321289,0.4403846263885498,0.4518429338932037,0.4719551205635071,0.4781250059604645,0.4907852709293365,0.503125011920929,0.5039262771606445,0.5165865421295166,0.5241987109184265,0.5326923131942749,0.5368589758872986,0.5391025543212891,0.5560095906257629,0.5596153736114502,0.5571314096450806,0.5694711804389954,0.5737980604171753,0.5808493494987488,0.5806089639663696,0.5815705060958862,0.584294855594635,0.5909455418586731,0.6020833253860474,0.5915865302085876,0.6017628312110901,0.596794843673706],\"type\":\"scatter\",\"xaxis\":\"x2\",\"yaxis\":\"y2\"}],                        {\"template\":{\"data\":{\"barpolar\":[{\"marker\":{\"line\":{\"color\":\"white\",\"width\":0.5},\"pattern\":{\"fillmode\":\"overlay\",\"size\":10,\"solidity\":0.2}},\"type\":\"barpolar\"}],\"bar\":[{\"error_x\":{\"color\":\"#2a3f5f\"},\"error_y\":{\"color\":\"#2a3f5f\"},\"marker\":{\"line\":{\"color\":\"white\",\"width\":0.5},\"pattern\":{\"fillmode\":\"overlay\",\"size\":10,\"solidity\":0.2}},\"type\":\"bar\"}],\"carpet\":[{\"aaxis\":{\"endlinecolor\":\"#2a3f5f\",\"gridcolor\":\"#C8D4E3\",\"linecolor\":\"#C8D4E3\",\"minorgridcolor\":\"#C8D4E3\",\"startlinecolor\":\"#2a3f5f\"},\"baxis\":{\"endlinecolor\":\"#2a3f5f\",\"gridcolor\":\"#C8D4E3\",\"linecolor\":\"#C8D4E3\",\"minorgridcolor\":\"#C8D4E3\",\"startlinecolor\":\"#2a3f5f\"},\"type\":\"carpet\"}],\"choropleth\":[{\"colorbar\":{\"outlinewidth\":0,\"ticks\":\"\"},\"type\":\"choropleth\"}],\"contourcarpet\":[{\"colorbar\":{\"outlinewidth\":0,\"ticks\":\"\"},\"type\":\"contourcarpet\"}],\"contour\":[{\"colorbar\":{\"outlinewidth\":0,\"ticks\":\"\"},\"colorscale\":[[0.0,\"#0d0887\"],[0.1111111111111111,\"#46039f\"],[0.2222222222222222,\"#7201a8\"],[0.3333333333333333,\"#9c179e\"],[0.4444444444444444,\"#bd3786\"],[0.5555555555555556,\"#d8576b\"],[0.6666666666666666,\"#ed7953\"],[0.7777777777777778,\"#fb9f3a\"],[0.8888888888888888,\"#fdca26\"],[1.0,\"#f0f921\"]],\"type\":\"contour\"}],\"heatmapgl\":[{\"colorbar\":{\"outlinewidth\":0,\"ticks\":\"\"},\"colorscale\":[[0.0,\"#0d0887\"],[0.1111111111111111,\"#46039f\"],[0.2222222222222222,\"#7201a8\"],[0.3333333333333333,\"#9c179e\"],[0.4444444444444444,\"#bd3786\"],[0.5555555555555556,\"#d8576b\"],[0.6666666666666666,\"#ed7953\"],[0.7777777777777778,\"#fb9f3a\"],[0.8888888888888888,\"#fdca26\"],[1.0,\"#f0f921\"]],\"type\":\"heatmapgl\"}],\"heatmap\":[{\"colorbar\":{\"outlinewidth\":0,\"ticks\":\"\"},\"colorscale\":[[0.0,\"#0d0887\"],[0.1111111111111111,\"#46039f\"],[0.2222222222222222,\"#7201a8\"],[0.3333333333333333,\"#9c179e\"],[0.4444444444444444,\"#bd3786\"],[0.5555555555555556,\"#d8576b\"],[0.6666666666666666,\"#ed7953\"],[0.7777777777777778,\"#fb9f3a\"],[0.8888888888888888,\"#fdca26\"],[1.0,\"#f0f921\"]],\"type\":\"heatmap\"}],\"histogram2dcontour\":[{\"colorbar\":{\"outlinewidth\":0,\"ticks\":\"\"},\"colorscale\":[[0.0,\"#0d0887\"],[0.1111111111111111,\"#46039f\"],[0.2222222222222222,\"#7201a8\"],[0.3333333333333333,\"#9c179e\"],[0.4444444444444444,\"#bd3786\"],[0.5555555555555556,\"#d8576b\"],[0.6666666666666666,\"#ed7953\"],[0.7777777777777778,\"#fb9f3a\"],[0.8888888888888888,\"#fdca26\"],[1.0,\"#f0f921\"]],\"type\":\"histogram2dcontour\"}],\"histogram2d\":[{\"colorbar\":{\"outlinewidth\":0,\"ticks\":\"\"},\"colorscale\":[[0.0,\"#0d0887\"],[0.1111111111111111,\"#46039f\"],[0.2222222222222222,\"#7201a8\"],[0.3333333333333333,\"#9c179e\"],[0.4444444444444444,\"#bd3786\"],[0.5555555555555556,\"#d8576b\"],[0.6666666666666666,\"#ed7953\"],[0.7777777777777778,\"#fb9f3a\"],[0.8888888888888888,\"#fdca26\"],[1.0,\"#f0f921\"]],\"type\":\"histogram2d\"}],\"histogram\":[{\"marker\":{\"pattern\":{\"fillmode\":\"overlay\",\"size\":10,\"solidity\":0.2}},\"type\":\"histogram\"}],\"mesh3d\":[{\"colorbar\":{\"outlinewidth\":0,\"ticks\":\"\"},\"type\":\"mesh3d\"}],\"parcoords\":[{\"line\":{\"colorbar\":{\"outlinewidth\":0,\"ticks\":\"\"}},\"type\":\"parcoords\"}],\"pie\":[{\"automargin\":true,\"type\":\"pie\"}],\"scatter3d\":[{\"line\":{\"colorbar\":{\"outlinewidth\":0,\"ticks\":\"\"}},\"marker\":{\"colorbar\":{\"outlinewidth\":0,\"ticks\":\"\"}},\"type\":\"scatter3d\"}],\"scattercarpet\":[{\"marker\":{\"colorbar\":{\"outlinewidth\":0,\"ticks\":\"\"}},\"type\":\"scattercarpet\"}],\"scattergeo\":[{\"marker\":{\"colorbar\":{\"outlinewidth\":0,\"ticks\":\"\"}},\"type\":\"scattergeo\"}],\"scattergl\":[{\"marker\":{\"colorbar\":{\"outlinewidth\":0,\"ticks\":\"\"}},\"type\":\"scattergl\"}],\"scattermapbox\":[{\"marker\":{\"colorbar\":{\"outlinewidth\":0,\"ticks\":\"\"}},\"type\":\"scattermapbox\"}],\"scatterpolargl\":[{\"marker\":{\"colorbar\":{\"outlinewidth\":0,\"ticks\":\"\"}},\"type\":\"scatterpolargl\"}],\"scatterpolar\":[{\"marker\":{\"colorbar\":{\"outlinewidth\":0,\"ticks\":\"\"}},\"type\":\"scatterpolar\"}],\"scatter\":[{\"fillpattern\":{\"fillmode\":\"overlay\",\"size\":10,\"solidity\":0.2},\"type\":\"scatter\"}],\"scatterternary\":[{\"marker\":{\"colorbar\":{\"outlinewidth\":0,\"ticks\":\"\"}},\"type\":\"scatterternary\"}],\"surface\":[{\"colorbar\":{\"outlinewidth\":0,\"ticks\":\"\"},\"colorscale\":[[0.0,\"#0d0887\"],[0.1111111111111111,\"#46039f\"],[0.2222222222222222,\"#7201a8\"],[0.3333333333333333,\"#9c179e\"],[0.4444444444444444,\"#bd3786\"],[0.5555555555555556,\"#d8576b\"],[0.6666666666666666,\"#ed7953\"],[0.7777777777777778,\"#fb9f3a\"],[0.8888888888888888,\"#fdca26\"],[1.0,\"#f0f921\"]],\"type\":\"surface\"}],\"table\":[{\"cells\":{\"fill\":{\"color\":\"#EBF0F8\"},\"line\":{\"color\":\"white\"}},\"header\":{\"fill\":{\"color\":\"#C8D4E3\"},\"line\":{\"color\":\"white\"}},\"type\":\"table\"}]},\"layout\":{\"annotationdefaults\":{\"arrowcolor\":\"#2a3f5f\",\"arrowhead\":0,\"arrowwidth\":1},\"autotypenumbers\":\"strict\",\"coloraxis\":{\"colorbar\":{\"outlinewidth\":0,\"ticks\":\"\"}},\"colorscale\":{\"diverging\":[[0,\"#8e0152\"],[0.1,\"#c51b7d\"],[0.2,\"#de77ae\"],[0.3,\"#f1b6da\"],[0.4,\"#fde0ef\"],[0.5,\"#f7f7f7\"],[0.6,\"#e6f5d0\"],[0.7,\"#b8e186\"],[0.8,\"#7fbc41\"],[0.9,\"#4d9221\"],[1,\"#276419\"]],\"sequential\":[[0.0,\"#0d0887\"],[0.1111111111111111,\"#46039f\"],[0.2222222222222222,\"#7201a8\"],[0.3333333333333333,\"#9c179e\"],[0.4444444444444444,\"#bd3786\"],[0.5555555555555556,\"#d8576b\"],[0.6666666666666666,\"#ed7953\"],[0.7777777777777778,\"#fb9f3a\"],[0.8888888888888888,\"#fdca26\"],[1.0,\"#f0f921\"]],\"sequentialminus\":[[0.0,\"#0d0887\"],[0.1111111111111111,\"#46039f\"],[0.2222222222222222,\"#7201a8\"],[0.3333333333333333,\"#9c179e\"],[0.4444444444444444,\"#bd3786\"],[0.5555555555555556,\"#d8576b\"],[0.6666666666666666,\"#ed7953\"],[0.7777777777777778,\"#fb9f3a\"],[0.8888888888888888,\"#fdca26\"],[1.0,\"#f0f921\"]]},\"colorway\":[\"#636efa\",\"#EF553B\",\"#00cc96\",\"#ab63fa\",\"#FFA15A\",\"#19d3f3\",\"#FF6692\",\"#B6E880\",\"#FF97FF\",\"#FECB52\"],\"font\":{\"color\":\"#2a3f5f\"},\"geo\":{\"bgcolor\":\"white\",\"lakecolor\":\"white\",\"landcolor\":\"white\",\"showlakes\":true,\"showland\":true,\"subunitcolor\":\"#C8D4E3\"},\"hoverlabel\":{\"align\":\"left\"},\"hovermode\":\"closest\",\"mapbox\":{\"style\":\"light\"},\"paper_bgcolor\":\"white\",\"plot_bgcolor\":\"white\",\"polar\":{\"angularaxis\":{\"gridcolor\":\"#EBF0F8\",\"linecolor\":\"#EBF0F8\",\"ticks\":\"\"},\"bgcolor\":\"white\",\"radialaxis\":{\"gridcolor\":\"#EBF0F8\",\"linecolor\":\"#EBF0F8\",\"ticks\":\"\"}},\"scene\":{\"xaxis\":{\"backgroundcolor\":\"white\",\"gridcolor\":\"#DFE8F3\",\"gridwidth\":2,\"linecolor\":\"#EBF0F8\",\"showbackground\":true,\"ticks\":\"\",\"zerolinecolor\":\"#EBF0F8\"},\"yaxis\":{\"backgroundcolor\":\"white\",\"gridcolor\":\"#DFE8F3\",\"gridwidth\":2,\"linecolor\":\"#EBF0F8\",\"showbackground\":true,\"ticks\":\"\",\"zerolinecolor\":\"#EBF0F8\"},\"zaxis\":{\"backgroundcolor\":\"white\",\"gridcolor\":\"#DFE8F3\",\"gridwidth\":2,\"linecolor\":\"#EBF0F8\",\"showbackground\":true,\"ticks\":\"\",\"zerolinecolor\":\"#EBF0F8\"}},\"shapedefaults\":{\"line\":{\"color\":\"#2a3f5f\"}},\"ternary\":{\"aaxis\":{\"gridcolor\":\"#DFE8F3\",\"linecolor\":\"#A2B1C6\",\"ticks\":\"\"},\"baxis\":{\"gridcolor\":\"#DFE8F3\",\"linecolor\":\"#A2B1C6\",\"ticks\":\"\"},\"bgcolor\":\"white\",\"caxis\":{\"gridcolor\":\"#DFE8F3\",\"linecolor\":\"#A2B1C6\",\"ticks\":\"\"}},\"title\":{\"x\":0.05},\"xaxis\":{\"automargin\":true,\"gridcolor\":\"#EBF0F8\",\"linecolor\":\"#EBF0F8\",\"ticks\":\"\",\"title\":{\"standoff\":15},\"zerolinecolor\":\"#EBF0F8\",\"zerolinewidth\":2},\"yaxis\":{\"automargin\":true,\"gridcolor\":\"#EBF0F8\",\"linecolor\":\"#EBF0F8\",\"ticks\":\"\",\"title\":{\"standoff\":15},\"zerolinecolor\":\"#EBF0F8\",\"zerolinewidth\":2}}},\"xaxis\":{\"anchor\":\"y\",\"domain\":[0.0,0.45],\"title\":{\"text\":\"Epoch\"}},\"yaxis\":{\"anchor\":\"x\",\"domain\":[0.0,1.0]},\"xaxis2\":{\"anchor\":\"y2\",\"domain\":[0.55,1.0],\"title\":{\"text\":\"Epoch\"}},\"yaxis2\":{\"anchor\":\"x2\",\"domain\":[0.0,1.0]},\"annotations\":[{\"font\":{\"size\":16},\"showarrow\":false,\"text\":\"Training Accuracy\",\"x\":0.225,\"xanchor\":\"center\",\"xref\":\"paper\",\"y\":1.0,\"yanchor\":\"bottom\",\"yref\":\"paper\"},{\"font\":{\"size\":16},\"showarrow\":false,\"text\":\"Validation Accuracy\",\"x\":0.775,\"xanchor\":\"center\",\"xref\":\"paper\",\"y\":1.0,\"yanchor\":\"bottom\",\"yref\":\"paper\"}],\"title\":{\"text\":\"Image Classification Training Curves\"},\"font\":{\"family\":\"Computer Modern\"},\"legend\":{\"title\":{\"text\":\"Model\"},\"yanchor\":\"bottom\",\"y\":0.01,\"xanchor\":\"right\",\"x\":0.99,\"bordercolor\":\"Black\",\"borderwidth\":1},\"height\":600,\"width\":1000},                        {\"responsive\": true}                    ).then(function(){\n",
       "                            \n",
       "var gd = document.getElementById('5311ceab-ca9d-4de1-ae39-109f1b6deb6a');\n",
       "var x = new MutationObserver(function (mutations, observer) {{\n",
       "        var display = window.getComputedStyle(gd).display;\n",
       "        if (!display || display === 'none') {{\n",
       "            console.log([gd, 'removed!']);\n",
       "            Plotly.purge(gd);\n",
       "            observer.disconnect();\n",
       "        }}\n",
       "}});\n",
       "\n",
       "// Listen for the removal of the full notebook cells\n",
       "var notebookContainer = gd.closest('#notebook-container');\n",
       "if (notebookContainer) {{\n",
       "    x.observe(notebookContainer, {childList: true});\n",
       "}}\n",
       "\n",
       "// Listen for the clearing of the current output cell\n",
       "var outputEl = gd.closest('.output');\n",
       "if (outputEl) {{\n",
       "    x.observe(outputEl, {childList: true});\n",
       "}}\n",
       "\n",
       "                        })                };                });            </script>        </div>"
      ]
     },
     "metadata": {},
     "output_type": "display_data"
    }
   ],
   "source": [
    "import plotly.subplots as sp\n",
    "import plotly.graph_objects as go\n",
    "\n",
    "# Assuming figure_data is your DataFrame with columns 'Epoch', 'Training Accuracy', 'Validation Accuracy', 'Model'\n",
    "# and color_map_ is a dictionary mapping 'Model' values to colors\n",
    "\n",
    "# Get unique models\n",
    "models = figure_data['Model'].unique()\n",
    "\n",
    "# Create subplots\n",
    "fig = sp.make_subplots(rows=1, cols=2, subplot_titles=(\"Training Accuracy\", \"Validation Accuracy\"), horizontal_spacing=0.1)\n",
    "\n",
    "# Add line plots to the subplots\n",
    "for model in models:\n",
    "    model_data = figure_data[figure_data['Model'] == model]\n",
    "    model_data_tr = model_data[['Epoch', 'Training Accuracy']].dropna()\n",
    "    model_data_val = model_data[['Epoch', 'Validation Accuracy']].dropna()\n",
    "    fig.add_trace(go.Scatter(\n",
    "        x=model_data_tr['Epoch'], y=model_data_tr['Training Accuracy'],\n",
    "        mode='lines', line=dict(color=color_map[model]), name=model, showlegend=False\n",
    "        ), \n",
    "        row=1, col=1)\n",
    "    fig.add_trace(go.Scatter(\n",
    "        x=model_data_val['Epoch'], y=model_data_val['Validation Accuracy'],\n",
    "        mode='lines', line=dict(color=color_map[model]), \n",
    "        name=model), \n",
    "        row=1, col=2)\n",
    "\n",
    "# Update layout\n",
    "fig.update_layout(\n",
    "    height=600, width=1000, title_text=\"Image Classification Training Curves\",\n",
    "    template=theme,\n",
    "    font_family=\"Computer Modern\",\n",
    "    legend_title=\"Model\",\n",
    "    legend=dict(yanchor=\"bottom\", y=0.01, xanchor=\"right\", x=0.99,\n",
    "#                     title_font_family=\"Computer Modern\", #bgcolor='LightSteelBlue',\n",
    "                    bordercolor=\"Black\", borderwidth=1),)\n",
    "\n",
    "fig.update_xaxes(title_text=\"Epoch\", row=1, col=1)\n",
    "# fig.update_yaxes(title_text=\"Training Accuracy\", row=1, col=1)\n",
    "fig.update_xaxes(title_text=\"Epoch\", row=1, col=2)\n",
    "# fig.update_yaxes(title_text=\"Validation Accuracy\", row=1, col=2)\n",
    "\n",
    "\n",
    "# Show the figure\n",
    "fig.show()"
   ]
  },
  {
   "cell_type": "code",
   "execution_count": 203,
   "metadata": {},
   "outputs": [],
   "source": [
    "fig_json = fig.to_json()\n",
    "# save fig_json to file\n",
    "with open(f'{save_dir}/imagenet_training_curves.json', 'w') as f:\n",
    "    f.write(fig_json)"
   ]
  }
 ],
 "metadata": {
  "kernelspec": {
   "display_name": "Python 3 (ipykernel)",
   "language": "python",
   "name": "python3"
  },
  "language_info": {
   "codemirror_mode": {
    "name": "ipython",
    "version": 3
   },
   "file_extension": ".py",
   "mimetype": "text/x-python",
   "name": "python",
   "nbconvert_exporter": "python",
   "pygments_lexer": "ipython3",
   "version": "3.10.12"
  }
 },
 "nbformat": 4,
 "nbformat_minor": 2
}
