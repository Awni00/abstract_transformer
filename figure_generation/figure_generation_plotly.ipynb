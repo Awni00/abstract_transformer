{
 "cells": [
  {
   "cell_type": "markdown",
   "metadata": {},
   "source": [
    "# Generating figures for paper"
   ]
  },
  {
   "cell_type": "code",
   "execution_count": 1,
   "metadata": {},
   "outputs": [],
   "source": [
    "import pandas as pd\n",
    "import numpy as np\n",
    "import scipy\n",
    "import seaborn as sns\n",
    "import plotly.express as px\n",
    "import matplotlib.pyplot as plt\n",
    "import plotly.io\n",
    "\n",
    "save_dir = 'plotly_figs'\n",
    "theme = 'plotly_white'"
   ]
  },
  {
   "cell_type": "code",
   "execution_count": 2,
   "metadata": {},
   "outputs": [],
   "source": [
    "# our_model_name = 'Dual-Attn Transformer'# 'Orthrus' # 'AbstractTransformer' # Orthrus\n",
    "our_model_name = 'DAT'\n",
    "transformer_name = 'Transformer'"
   ]
  },
  {
   "cell_type": "code",
   "execution_count": 3,
   "metadata": {},
   "outputs": [],
   "source": [
    "cmap = plt.cm.tab20"
   ]
  },
  {
   "cell_type": "code",
   "execution_count": 4,
   "metadata": {},
   "outputs": [],
   "source": [
    "def convert_to_plotly_color(color):\n",
    "    r, g, b, a = color\n",
    "    r, g, b, a = int(r*255), int(g*255), int(b*255), a\n",
    "    # return f'rgba({r}, {g}, {b}, {a})'\n",
    "    return f'rgb({r}, {g}, {b})'"
   ]
  },
  {
   "cell_type": "markdown",
   "metadata": {},
   "source": [
    "## Relational Games"
   ]
  },
  {
   "cell_type": "code",
   "execution_count": 5,
   "metadata": {},
   "outputs": [],
   "source": [
    "our_model_name = r'$\\textit{DAT}$' # 'Dual-Attn Transformer'# 'Orthrus' # 'AbstractTransformer' # Orthrus\n",
    "transformer_name = 'Transformer'"
   ]
  },
  {
   "cell_type": "code",
   "execution_count": 6,
   "metadata": {},
   "outputs": [
    {
     "name": "stderr",
     "output_type": "stream",
     "text": [
      "C:\\Users\\awnya\\AppData\\Local\\Temp\\ipykernel_51064\\3921338816.py:18: SettingWithCopyWarning: \n",
      "A value is trying to be set on a copy of a slice from a DataFrame.\n",
      "Try using .loc[row_indexer,col_indexer] = value instead\n",
      "\n",
      "See the caveats in the documentation: https://pandas.pydata.org/pandas-docs/stable/user_guide/indexing.html#returning-a-view-versus-a-copy\n",
      "  figure_data['Model'] = figure_data['group'].apply(process_groupname)\n",
      "C:\\Users\\awnya\\AppData\\Local\\Temp\\ipykernel_51064\\3921338816.py:20: SettingWithCopyWarning: \n",
      "A value is trying to be set on a copy of a slice from a DataFrame\n",
      "\n",
      "See the caveats in the documentation: https://pandas.pydata.org/pandas-docs/stable/user_guide/indexing.html#returning-a-view-versus-a-copy\n",
      "  figure_data.rename(columns={'train_size': 'Training Set Size', 'test/acc_in_distribution': 'Generalization Accuracy', 'task': 'Task'}, inplace=True)\n"
     ]
    }
   ],
   "source": [
    "# relgames_data = pd.read_csv('figure_data/relgames/relgames_data.csv')\n",
    "\n",
    "relgames_data1 = pd.read_csv('figure_data/relgames/relgames_data.csv')\n",
    "relgames_data2 = pd.read_csv('figure_data_tmp/relgames/relgames_data.csv')\n",
    "relgames_data = pd.concat([relgames_data1, relgames_data2], ignore_index=True)\n",
    "\n",
    "def process_groupname(group_name):\n",
    "    task, model_name = group_name.split('__')\n",
    "    return model_name\n",
    "\n",
    "\n",
    "# L, total_n_heads = 2, 2\n",
    "# filter_ = (relgames_data['n_layers'] == L) & ((relgames_data['n_heads_rca'] + relgames_data['n_heads_sa'] == total_n_heads) | (relgames_data['n_heads'] == total_n_heads)) & (relgames_data['train_size'] <= 25_000)\n",
    "# figure_data = relgames_data[filter_]\n",
    "filter_ = (relgames_data['task'] != '1task_match_patt') | (relgames_data['train_size'] <= 25_000) & (relgames_data['train_size'] > 2500)\n",
    "figure_data = relgames_data[filter_]\n",
    "\n",
    "figure_data['Model'] = figure_data['group'].apply(process_groupname)\n",
    "\n",
    "figure_data.rename(columns={'train_size': 'Training Set Size', 'test/acc_in_distribution': 'Generalization Accuracy', 'task': 'Task'}, inplace=True)"
   ]
  },
  {
   "cell_type": "code",
   "execution_count": 7,
   "metadata": {},
   "outputs": [
    {
     "data": {
      "text/plain": [
       "sa=2; d=128; L=2                                                                                             746\n",
       "sa=1; rca=1; d=128; L=2; rca_type=disentangled_v2; sym_rel=True; symbol_type=pos_sym_retriever               491\n",
       "sa=0; rca=2; d=128; L=2; rca_type=disentangled_v2; sym_rel=True; symbol_type=pos_sym_retriever               484\n",
       "sa=0; ra=8; nr=16; d=128; L=2; ra_type=relational_attention; sym_rel=True; symbol_type=positional_symbols    463\n",
       "sa=8; d=128; L=2                                                                                             296\n",
       "sa=4; d=128; L=2                                                                                             275\n",
       "sa=4; d=144; L=2                                                                                             247\n",
       "sa=8; d=144; L=2                                                                                             245\n",
       "sa=1; rca=1; d=128; L=2; rca_type=standard; sym_rel=False; symbol_type=pos_sym_retriever                     245\n",
       "sa=0; rca=2; d=128; L=2; rca_type=standard; sym_rel=False; symbol_type=pos_sym_retriever                     245\n",
       "sa=0; rca=2; d=128; L=2; rca_type=disentangled_v2; sym_rel=False; symbol_type=pos_sym_retriever              245\n",
       "sa=1; rca=1; d=128; L=2; rca_type=disentangled_v2; sym_rel=False; symbol_type=pos_sym_retriever              245\n",
       "sa=2; d=144; L=2                                                                                             243\n",
       "predinet                                                                                                     238\n",
       "corelnet                                                                                                     230\n",
       "sa=0; ra=2; nr=8; d=128; L=2; ra_type=relational_attention; sym_rel=False; symbol_type=positional_symbols    226\n",
       "abstractor                                                                                                   225\n",
       "sa=2; rca=2; d=128; L=2; rca_type=disentangled_v2; sym_rel=True; symbol_type=pos_sym_retriever               225\n",
       "sa=0; rca=4; d=128; L=2; rca_type=disentangled_v2; sym_rel=True; symbol_type=pos_sym_retriever               225\n",
       "sa=0; ra=4; nr=8; d=128; L=2; ra_type=relational_attention; sym_rel=True; symbol_type=positional_symbols     225\n",
       "sa=0; ra=2; nr=2; d=128; L=2; ra_type=relational_attention; sym_rel=True; symbol_type=positional_symbols     225\n",
       "sa=0; ra=2; nr=8; d=128; L=2; ra_type=relational_attention; sym_rel=True; symbol_type=symbolic_attention     225\n",
       "sa=0; ra=2; nr=8; d=128; L=2; ra_type=relational_attention; sym_rel=True; symbol_type=positional_symbols     225\n",
       "sa=0; ra=2; nr=8; d=128; L=2; ra_type=relational_attention; sym_rel=False; symbol_type=symbolic_attention    225\n",
       "sa=0; rca=8; d=128; L=1; rca_type=disentangled_v2; sym_rel=True; symbol_type=pos_sym_retriever               185\n",
       "sa=0; rca=8; d=128; L=2; rca_type=disentangled_v2; sym_rel=True; symbol_type=pos_sym_retriever               185\n",
       "sa=4; rca=4; d=128; L=1; rca_type=disentangled_v2; sym_rel=True; symbol_type=pos_sym_retriever               185\n",
       "sa=4; rca=4; d=128; L=2; rca_type=disentangled_v2; sym_rel=True; symbol_type=pos_sym_retriever               185\n",
       "Name: Model, dtype: int64"
      ]
     },
     "execution_count": 7,
     "metadata": {},
     "output_type": "execute_result"
    }
   ],
   "source": [
    "figure_data.Model.value_counts()"
   ]
  },
  {
   "cell_type": "code",
   "execution_count": 8,
   "metadata": {},
   "outputs": [
    {
     "name": "stderr",
     "output_type": "stream",
     "text": [
      "C:\\Users\\awnya\\AppData\\Local\\Temp\\ipykernel_51064\\2582143399.py:9: SettingWithCopyWarning: \n",
      "A value is trying to be set on a copy of a slice from a DataFrame.\n",
      "Try using .loc[row_indexer,col_indexer] = value instead\n",
      "\n",
      "See the caveats in the documentation: https://pandas.pydata.org/pandas-docs/stable/user_guide/indexing.html#returning-a-view-versus-a-copy\n",
      "  figure_data.loc[:, 'Symmetric RA'] = figure_data['group'].apply(parse_rel_symmetry)\n"
     ]
    }
   ],
   "source": [
    "def parse_rel_symmetry(group_name):\n",
    "    if 'sym_rel=True' in group_name:\n",
    "        return True\n",
    "    elif 'sym_rel=False' in group_name:\n",
    "        return False\n",
    "    else:\n",
    "        return None\n",
    "\n",
    "figure_data.loc[:, 'Symmetric RA'] = figure_data['group'].apply(parse_rel_symmetry)"
   ]
  },
  {
   "cell_type": "code",
   "execution_count": 9,
   "metadata": {},
   "outputs": [],
   "source": [
    "def get_name(row):\n",
    "\n",
    "    if row.baseline_model in ['abstractor', 'predinet', 'corelnet']:\n",
    "        name_map = {'abstractor': 'Abstractor', 'predinet': 'PrediNet', 'corelnet': 'CoRelNet'} # FIXME (swap to CoRelNetSoftmax)\n",
    "        name = name_map[row.baseline_model]\n",
    "    elif not np.isnan(row.n_heads):\n",
    "        name = f'{transformer_name} ($n_h^{{sa}}={int(row.n_heads)}, n_h^{{ra}}=0$)'\n",
    "    else:\n",
    "        if row.rca_type == 'standard':\n",
    "            name = \"Abstractor's RCA\"\n",
    "        elif row.rca_type == 'disentangled_v2':\n",
    "            name = our_model_name\n",
    "\n",
    "        if not row['Symmetric RA']:\n",
    "            name += ' [Asymmetric]'\n",
    "\n",
    "        name += f' ($n_h^{{sa}}={int(row.n_heads_sa)}, n_h^{{ra}}={int(row.n_heads_rca)}$)'\n",
    "\n",
    "    name += f' [{int(row.num_params//1000)}K]'\n",
    "    return name\n"
   ]
  },
  {
   "cell_type": "code",
   "execution_count": 10,
   "metadata": {},
   "outputs": [],
   "source": [
    "models = [\n",
    "    'sa=2; d=128; L=2',\n",
    "    # 'sa=2; d=128; L=2',\n",
    "    'sa=2; d=144; L=2',\n",
    "    # 'sa=4; d=128; L=2',\n",
    "    # 'sa=4; d=144; L=2',\n",
    "    'sa=8; d=128; L=2',\n",
    "    'sa=8; d=144; L=2',\n",
    "    'sa=1; rca=1; d=128; L=2; rca_type=standard; sym_rel=False; symbol_type=pos_sym_retriever',\n",
    "    'sa=0; rca=2; d=128; L=2; rca_type=standard; sym_rel=False; symbol_type=pos_sym_retriever',\n",
    "    'sa=0; rca=2; d=128; L=2; rca_type=disentangled_v2; sym_rel=False; symbol_type=pos_sym_retriever',\n",
    "    'sa=1; rca=1; d=128; L=2; rca_type=disentangled_v2; sym_rel=False; symbol_type=pos_sym_retriever',\n",
    "    'sa=1; rca=1; d=128; L=2; rca_type=disentangled_v2; sym_rel=True; symbol_type=pos_sym_retriever',\n",
    "    'sa=0; rca=2; d=128; L=2; rca_type=disentangled_v2; sym_rel=True; symbol_type=pos_sym_retriever',\n",
    "    'sa=0; rca=4; d=128; L=2; rca_type=disentangled_v2; sym_rel=True; symbol_type=pos_sym_retriever',\n",
    "    'sa=2; rca=2; d=128; L=2; rca_type=disentangled_v2; sym_rel=True; symbol_type=pos_sym_retriever',\n",
    "    'sa=4; rca=4; d=128; L=2; rca_type=disentangled_v2; sym_rel=True; symbol_type=pos_sym_retriever',\n",
    "    'sa=4; rca=4; d=128; L=1; rca_type=disentangled_v2; sym_rel=True; symbol_type=pos_sym_retriever',\n",
    "    'sa=0; rca=8; d=128; L=1; rca_type=disentangled_v2; sym_rel=True; symbol_type=pos_sym_retriever',\n",
    "    'sa=0; rca=8; d=128; L=2; rca_type=disentangled_v2; sym_rel=True; symbol_type=pos_sym_retriever',\n",
    "    # 'sa=1; ra=1; d=128; L=2; ra_type=rel_attn; sym_rel=True; symbol_type=positional_symbols',\n",
    "    # 'sa=0; ra=2; d=128; L=2; ra_type=rel_attn; sym_rel=True; symbol_type=positional_symbols',\n",
    "    # 'sa=1; ra=1; d=128; L=2; ra_type=rel_attn; sym_rel=False; symbol_type=positional_symbols',\n",
    "    # 'sa=0; ra=2; d=128; L=2; ra_type=rel_attn; sym_rel=False; symbol_type=positional_symbols',\n",
    "    # 'sa=1; ra=1; d=128; L=2; ra_type=rca; sym_rel=False; symbol_type=positional_symbols',\n",
    "    # 'sa=0; ra=2; d=128; L=2; ra_type=rca; sym_rel=False; symbol_type=positional_symbols',\n",
    "    'corelnet',\n",
    "    'predinet',\n",
    "    'abstractor',\n",
    "    ]\n",
    "# model_name_map = {\n",
    "#     'sa=2; d=128; L=2': 'Transformer ($n_h^{sa}=2, n_h^{ra}=0$)',\n",
    "#     'sa=1; rca=1; d=128; L=2; rca_type=disentangled_v2; sym_rel=True; symbol_type=pos_sym_retriever': f'{our_model_name} ($n_h^{{sa}}=1, n_h^{{ra}}=1$)',\n",
    "#     'sa=0; rca=2; d=128; L=2; rca_type=disentangled_v2; sym_rel=True; symbol_type=pos_sym_retriever': f'{our_model_name} ($n_h^{{sa}}=0, n_h^{{ra}}=2$)',\n",
    "#     'sa=1; rca=1; d=128; L=2; rca_type=disentangled_v2; sym_rel=False; symbol_type=pos_sym_retriever': f'{our_model_name} [asymmetric] ($n_h^{{sa}}=1, n_h^{{ra}}=1$)',\n",
    "#     'sa=0; rca=2; d=128; L=2; rca_type=disentangled_v2; sym_rel=False; symbol_type=pos_sym_retriever': f'{our_model_name} [asymmetric] ($n_h^{{sa}}=0, n_h^{{ra}}=2$)',\n",
    "#     'sa=1; rca=1; d=128; L=2; rca_type=standard; sym_rel=False; symbol_type=pos_sym_retriever': \"Abstractor's RCA ($n_h^{{sa}}=1, n_h^{{ra}}=1$)\",\n",
    "#     'sa=0; rca=2; d=128; L=2; rca_type=standard; sym_rel=False; symbol_type=pos_sym_retriever': \"Abstractor's RCA ($n_h^{{sa}}=0, n_h^{{ra}}=2$)\",\n",
    "#     }\n",
    "# models = [model_name_map[m] for m in models]\n",
    "\n",
    "tasks = ['same', 'occurs', 'xoccurs', '1task_between', '1task_match_patt']\n",
    "task_name_map = {\n",
    "    '1task_between': r'$\\texttt{between}$', '1task_match_patt': r'$\\texttt{match pattern}$',\n",
    "    'same': r'$\\texttt{same}$', 'occurs': r'$\\texttt{occurs}$', 'xoccurs': r'$\\texttt{xoccurs}$'}\n",
    "tasks = [task_name_map[t] for t in tasks]\n",
    "\n",
    "figure_data = figure_data[figure_data.model_name.isin(models)]\n",
    "\n",
    "# figure_data['Model'] = pd.Categorical(figure_data['Model'].map(model_name_map), models, ordered=True)\n",
    "\n",
    "figure_data['Task'] = pd.Categorical(figure_data['Task'].map(task_name_map), tasks, ordered=True)"
   ]
  },
  {
   "cell_type": "code",
   "execution_count": 11,
   "metadata": {},
   "outputs": [],
   "source": [
    "\n",
    "# bar plot figure\n",
    "# color_map_ = {\n",
    "#     f'{our_model_name} ($n_h^{{sa}}=1, n_h^{{ra}}=1$)': cmap(8), # purple\n",
    "#     f'{our_model_name} ($n_h^{{sa}}=0, n_h^{{ra}}=2$)': cmap(0), # blue\n",
    "#     f'{our_model_name} [asymmetric] ($n_h^{{sa}}=1, n_h^{{ra}}=1$)': cmap(8), # purple\n",
    "#     f'{our_model_name} [asymmetric] ($n_h^{{sa}}=0, n_h^{{ra}}=2$)': cmap(0), # blue\n",
    "#     'Transformer ($n_h^{sa}=2, n_h^{ra}=0$)': cmap(6), # red\n",
    "#     \"Abstractor's RCA ($n_h^{{sa}}=1, n_h^{{ra}}=1$)\": cmap(8),\n",
    "#     \"Abstractor's RCA ($n_h^{{sa}}=0, n_h^{{ra}}=2$)\": cmap(0),\n",
    "#     # 'Transformer+': cmap(4),\n",
    "#     }\n",
    "\n",
    "cmap = sns.color_palette('tab20c', as_cmap=True)\n",
    "color_map_ = {\n",
    "    f'{transformer_name} ($n_h^{{sa}}=8, n_h^{{ra}}=0$) [481K]': cmap(4),\n",
    "    # f'{transformer_name} ($n_h^{{sa}}=4, n_h^{{ra}}=0$) [481K]': cmap(),\n",
    "    f'{transformer_name} ($n_h^{{sa}}=2, n_h^{{ra}}=0$) [481K]': cmap(5),\n",
    "    f'{transformer_name} ($n_h^{{sa}}=8, n_h^{{ra}}=0$) [386K]': cmap(6),\n",
    "    f'{transformer_name} ($n_h^{{sa}}=2, n_h^{{ra}}=0$) [386K]': cmap(7),\n",
    "    # f'{transformer_name} ($n_h^{{sa}}=4, n_h^{{ra}}=0$) [386K]': cmap(),\n",
    "\n",
    "    \"Abstractor's RCA [Asymmetric] ($n_h^{sa}=1, n_h^{ra}=1$) [371K]\": cmap(12),\n",
    "    \"Abstractor's RCA [Asymmetric] ($n_h^{sa}=0, n_h^{ra}=2$) [388K]\": cmap(0),\n",
    "\n",
    "    f'{our_model_name} [Asymmetric] ($n_h^{{sa}}=0, n_h^{{ra}}=2$) [454K]': cmap(0),\n",
    "    f'{our_model_name} [Asymmetric] ($n_h^{{sa}}=1, n_h^{{ra}}=1$) [437K]': cmap(12),\n",
    "    f'{our_model_name} ($n_h^{{sa}}=1, n_h^{{ra}}=1$) [404K]': cmap(12),\n",
    "    f'{our_model_name} ($n_h^{{sa}}=0, n_h^{{ra}}=2$) [421K]': cmap(0),\n",
    "    # 'Dual-Attn Transformer [Asymmetric] ($n_h^{sa}=0, n_h^{ra}=2$) [454K]': cmap(0),\n",
    "    # 'Dual-Attn Transformer [Asymmetric] ($n_h^{sa}=1, n_h^{ra}=1$) [437K]': cmap(12),\n",
    "    # 'Dual-Attn Transformer ($n_h^{sa}=1, n_h^{ra}=1$) [404K]': cmap(12),\n",
    "    # 'Dual-Attn Transformer ($n_h^{sa}=0, n_h^{ra}=2$) [421K]': cmap(0),\n",
    "    # 'Dual-Attn Transformer [Asymmetric] ($n_h^{sa}=0, n_h^{ra}=4$) [421K]': cmap(),\n",
    "    # 'Dual-Attn Transformer [Asymmetric] ($n_h^{sa}=2, n_h^{ra}=2$) [404K]': cmap(),\n",
    "    # 'Dual-Attn Transformer [Asymmetric] ($n_h^{sa}=4, n_h^{ra}=4$) [405K]': cmap(),\n",
    "    # 'Dual-Attn Transformer [Asymmetric] ($n_h^{sa}=4, n_h^{ra}=4$) [232K]': cmap(),\n",
    "    # 'Dual-Attn Transformer [Asymmetric] ($n_h^{sa}=0, n_h^{ra}=8$) [241K]': cmap(),\n",
    "    # 'Dual-Attn Transformer [Asymmetric] ($n_h^{sa}=0, n_h^{ra}=8$) [423K]': cmap()\n",
    "    'Abstractor [469K]': cmap(8),\n",
    "    'CoRelNet [215K]': cmap(16),\n",
    "    'PrediNet [376K]': cmap(12),\n",
    "}\n",
    "\n",
    "color_map = {k: convert_to_plotly_color(v) for k, v in color_map_.items()}\n",
    "\n",
    "model_order = [\n",
    "    f'{our_model_name} ($n_h^{{sa}}=0, n_h^{{ra}}=2$) [421K]',\n",
    "    f'{our_model_name} ($n_h^{{sa}}=1, n_h^{{ra}}=1$) [404K]',\n",
    "    f'{our_model_name} [Asymmetric] ($n_h^{{sa}}=0, n_h^{{ra}}=2$) [454K]',\n",
    "    f'{our_model_name} [Asymmetric] ($n_h^{{sa}}=1, n_h^{{ra}}=1$) [437K]',\n",
    "    \"Abstractor's RCA [Asymmetric] ($n_h^{sa}=1, n_h^{ra}=1$) [371K]\",\n",
    "    \"Abstractor's RCA [Asymmetric] ($n_h^{sa}=0, n_h^{ra}=2$) [388K]\",\n",
    "    f'{transformer_name} ($n_h^{{sa}}=8, n_h^{{ra}}=0$) [481K]',\n",
    "    f'{transformer_name} ($n_h^{{sa}}=2, n_h^{{ra}}=0$) [481K]',\n",
    "    f'{transformer_name} ($n_h^{{sa}}=8, n_h^{{ra}}=0$) [386K]',\n",
    "    f'{transformer_name} ($n_h^{{sa}}=2, n_h^{{ra}}=0$) [386K]',\n",
    "    'PrediNet [376K]',\n",
    "    'CoRelNet [215K]',\n",
    "    'Abstractor [469K]',\n",
    "    ]\n",
    "\n",
    "figure_data['Model'] = pd.Categorical(figure_data.apply(get_name, axis=1), model_order, ordered=True)"
   ]
  },
  {
   "cell_type": "code",
   "execution_count": 12,
   "metadata": {},
   "outputs": [
    {
     "data": {
      "text/plain": [
       "['Transformer ($n_h^{sa}=8, n_h^{ra}=0$) [481K]',\n",
       " 'Transformer ($n_h^{sa}=2, n_h^{ra}=0$) [481K]',\n",
       " 'Transformer ($n_h^{sa}=8, n_h^{ra}=0$) [386K]',\n",
       " 'Transformer ($n_h^{sa}=2, n_h^{ra}=0$) [386K]',\n",
       " \"Abstractor's RCA [Asymmetric] ($n_h^{sa}=1, n_h^{ra}=1$) [371K]\",\n",
       " \"Abstractor's RCA [Asymmetric] ($n_h^{sa}=0, n_h^{ra}=2$) [388K]\",\n",
       " '$\\\\textit{DAT}$ [Asymmetric] ($n_h^{sa}=0, n_h^{ra}=2$) [454K]',\n",
       " '$\\\\textit{DAT}$ [Asymmetric] ($n_h^{sa}=1, n_h^{ra}=1$) [437K]',\n",
       " '$\\\\textit{DAT}$ ($n_h^{sa}=1, n_h^{ra}=1$) [404K]',\n",
       " '$\\\\textit{DAT}$ ($n_h^{sa}=0, n_h^{ra}=2$) [421K]',\n",
       " nan,\n",
       " 'Abstractor [469K]',\n",
       " 'PrediNet [376K]',\n",
       " 'CoRelNet [215K]']"
      ]
     },
     "execution_count": 12,
     "metadata": {},
     "output_type": "execute_result"
    }
   ],
   "source": [
    "list(figure_data.Model.unique())"
   ]
  },
  {
   "cell_type": "code",
   "execution_count": 13,
   "metadata": {},
   "outputs": [
    {
     "data": {
      "text/html": [
       "<svg  width=\"550\" height=\"55\"><rect x=\"0\" y=\"0\" width=\"55\" height=\"55\" style=\"fill:#4878d0;stroke-width:2;stroke:rgb(255,255,255)\"/><rect x=\"55\" y=\"0\" width=\"55\" height=\"55\" style=\"fill:#ee854a;stroke-width:2;stroke:rgb(255,255,255)\"/><rect x=\"110\" y=\"0\" width=\"55\" height=\"55\" style=\"fill:#6acc64;stroke-width:2;stroke:rgb(255,255,255)\"/><rect x=\"165\" y=\"0\" width=\"55\" height=\"55\" style=\"fill:#d65f5f;stroke-width:2;stroke:rgb(255,255,255)\"/><rect x=\"220\" y=\"0\" width=\"55\" height=\"55\" style=\"fill:#956cb4;stroke-width:2;stroke:rgb(255,255,255)\"/><rect x=\"275\" y=\"0\" width=\"55\" height=\"55\" style=\"fill:#8c613c;stroke-width:2;stroke:rgb(255,255,255)\"/><rect x=\"330\" y=\"0\" width=\"55\" height=\"55\" style=\"fill:#dc7ec0;stroke-width:2;stroke:rgb(255,255,255)\"/><rect x=\"385\" y=\"0\" width=\"55\" height=\"55\" style=\"fill:#797979;stroke-width:2;stroke:rgb(255,255,255)\"/><rect x=\"440\" y=\"0\" width=\"55\" height=\"55\" style=\"fill:#d5bb67;stroke-width:2;stroke:rgb(255,255,255)\"/><rect x=\"495\" y=\"0\" width=\"55\" height=\"55\" style=\"fill:#82c6e2;stroke-width:2;stroke:rgb(255,255,255)\"/></svg>"
      ],
      "text/plain": [
       "[(0.2823529411764706, 0.47058823529411764, 0.8156862745098039),\n",
       " (0.9333333333333333, 0.5215686274509804, 0.2901960784313726),\n",
       " (0.41568627450980394, 0.8, 0.39215686274509803),\n",
       " (0.8392156862745098, 0.37254901960784315, 0.37254901960784315),\n",
       " (0.5843137254901961, 0.4235294117647059, 0.7058823529411765),\n",
       " (0.5490196078431373, 0.3803921568627451, 0.23529411764705882),\n",
       " (0.8627450980392157, 0.49411764705882355, 0.7529411764705882),\n",
       " (0.4745098039215686, 0.4745098039215686, 0.4745098039215686),\n",
       " (0.8352941176470589, 0.7333333333333333, 0.403921568627451),\n",
       " (0.5098039215686274, 0.7764705882352941, 0.8862745098039215)]"
      ]
     },
     "execution_count": 13,
     "metadata": {},
     "output_type": "execute_result"
    }
   ],
   "source": [
    "sns.color_palette('muted')"
   ]
  },
  {
   "cell_type": "code",
   "execution_count": 14,
   "metadata": {},
   "outputs": [
    {
     "name": "stderr",
     "output_type": "stream",
     "text": [
      "C:\\Users\\awnya\\AppData\\Local\\Temp\\ipykernel_51064\\2155511435.py:20: SettingWithCopyWarning: \n",
      "A value is trying to be set on a copy of a slice from a DataFrame.\n",
      "Try using .loc[row_indexer,col_indexer] = value instead\n",
      "\n",
      "See the caveats in the documentation: https://pandas.pydata.org/pandas-docs/stable/user_guide/indexing.html#returning-a-view-versus-a-copy\n",
      "  figure_data_['Model'] = pd.Categorical(figure_data_['Model'], model_filter, ordered=True)\n",
      "C:\\Users\\awnya\\AppData\\Local\\Temp\\ipykernel_51064\\2155511435.py:21: SettingWithCopyWarning: \n",
      "A value is trying to be set on a copy of a slice from a DataFrame.\n",
      "Try using .loc[row_indexer,col_indexer] = value instead\n",
      "\n",
      "See the caveats in the documentation: https://pandas.pydata.org/pandas-docs/stable/user_guide/indexing.html#returning-a-view-versus-a-copy\n",
      "  figure_data_['Model'] = figure_data_['Model'].map(name_map)\n"
     ]
    }
   ],
   "source": [
    "metric = 'Generalization Accuracy'\n",
    "model_filter = [f'{our_model_name} ($n_h^{{sa}}=0, n_h^{{ra}}=2$) [421K]', f'{our_model_name} ($n_h^{{sa}}=1, n_h^{{ra}}=1$) [404K]', f'{transformer_name} ($n_h^{{sa}}=2, n_h^{{ra}}=0$) [481K]']\n",
    "\n",
    "cmap_ = sns.color_palette('muted')\n",
    "cmap = lambda x: (*cmap_[x], 1)\n",
    "\n",
    "color_map = {\n",
    "    f'{our_model_name} ($n_h^{{sa}}=0, n_h^{{ra}}=2$) [421K]': convert_to_plotly_color(cmap(0)),\n",
    "    f'{our_model_name} ($n_h^{{sa}}=1, n_h^{{ra}}=1$) [404K]': convert_to_plotly_color(cmap(4)),\n",
    "    f'{transformer_name} ($n_h^{{sa}}=2, n_h^{{ra}}=0$) [481K]': convert_to_plotly_color(cmap(3)),\n",
    "}\n",
    "\n",
    "# need everything in one latex expression\n",
    "name_map = {\n",
    "    f'{our_model_name} ($n_h^{{sa}}=0, n_h^{{ra}}=2$) [421K]': r'$\\textit{DAT}\\ (n_h^{sa}=0, n_h^{ra}=2)$',\n",
    "    f'{our_model_name} ($n_h^{{sa}}=1, n_h^{{ra}}=1$) [404K]': r'$\\textit{DAT}\\ (n_h^{sa}=1, n_h^{ra}=1)$',\n",
    "    f'{transformer_name} ($n_h^{{sa}}=2, n_h^{{ra}}=0$) [481K]': r'$\\mathrm{Transformer}\\ (n_h^{sa}=2, n_h^{ra}=0)$',\n",
    "}\n",
    "figure_data_ = figure_data[figure_data['Model'].isin(model_filter)]\n",
    "figure_data_['Model'] = pd.Categorical(figure_data_['Model'], model_filter, ordered=True)\n",
    "figure_data_['Model'] = figure_data_['Model'].map(name_map)\n",
    "# figure_data_['Model'] = figure_data_['Model'].apply(lambda x: x.split(' [')[0])\n",
    "color_map = {name_map[k]: v for k, v in color_map.items()}\n",
    "# color_map = {k.split(' [')[0]: v for k, v in color_map.items()}\n",
    "\n",
    "# figure_data_ = figure_data[figure_data['Symmetric RA']!=False]\n",
    "figure_data_ = figure_data_.groupby(['Model', 'Task', 'Training Set Size'])[metric].aggregate(['mean', 'std', 'count', 'sem']).reset_index()\n"
   ]
  },
  {
   "cell_type": "code",
   "execution_count": 15,
   "metadata": {},
   "outputs": [
    {
     "data": {
      "application/vnd.plotly.v1+json": {
       "config": {
        "plotlyServerURL": "https://plot.ly"
       },
       "data": [
        {
         "error_y": {
          "array": [
           0.007755917645565265,
           0.004850649326637723,
           0.006075040866292805,
           0.002414575583214803,
           0.003739333599209054,
           0.003895311230126188,
           0.004772218625776381,
           0.004606912874107022,
           0.00399096799707186,
           0.004828836043137342,
           null,
           null,
           null,
           null,
           null,
           null,
           null,
           null,
           null
          ]
         },
         "hovertemplate": "Model=$\\textit{DAT}\\ (n_h^{sa}=0, n_h^{ra}=2)$<br>Task=$\\texttt{same}$<br>Training Set Size=%{x}<br>mean=%{y}<extra></extra>",
         "legendgroup": "$\\textit{DAT}\\ (n_h^{sa}=0, n_h^{ra}=2)$",
         "line": {
          "color": "rgb(72, 120, 208)",
          "dash": "solid"
         },
         "marker": {
          "symbol": "circle"
         },
         "mode": "lines",
         "name": "$\\textit{DAT}\\ (n_h^{sa}=0, n_h^{ra}=2)$",
         "orientation": "v",
         "showlegend": true,
         "type": "scatter",
         "x": [
          250,
          500,
          750,
          1000,
          1250,
          1500,
          1750,
          2000,
          2250,
          2500,
          5000,
          7500,
          10000,
          12500,
          15000,
          17500,
          20000,
          22500,
          25000
         ],
         "xaxis": "x4",
         "y": [
          0.6524399936199188,
          0.7436900019645691,
          0.8148099899291992,
          0.8629199981689453,
          0.8822199940681458,
          0.8980099976062774,
          0.90625,
          0.9144100069999694,
          0.9285600125789643,
          0.9257099986076355,
          null,
          null,
          null,
          null,
          null,
          null,
          null,
          null,
          null
         ],
         "yaxis": "y4"
        },
        {
         "error_y": {
          "array": [
           0.004647463769645841,
           0.010373923109067157,
           0.0060312133617764834,
           0.0034572349833791602,
           0.0050816470904507475,
           0.003937547422044071,
           0.003074088580578415,
           0.002790744822415783,
           0.002676107963596683,
           0.003243296057276759,
           null,
           null,
           null,
           null,
           null,
           null,
           null,
           null,
           null
          ]
         },
         "hovertemplate": "Model=$\\textit{DAT}\\ (n_h^{sa}=0, n_h^{ra}=2)$<br>Task=$\\texttt{occurs}$<br>Training Set Size=%{x}<br>mean=%{y}<extra></extra>",
         "legendgroup": "$\\textit{DAT}\\ (n_h^{sa}=0, n_h^{ra}=2)$",
         "line": {
          "color": "rgb(72, 120, 208)",
          "dash": "solid"
         },
         "marker": {
          "symbol": "circle"
         },
         "mode": "lines",
         "name": "$\\textit{DAT}\\ (n_h^{sa}=0, n_h^{ra}=2)$",
         "orientation": "v",
         "showlegend": false,
         "type": "scatter",
         "x": [
          250,
          500,
          750,
          1000,
          1250,
          1500,
          1750,
          2000,
          2250,
          2500,
          5000,
          7500,
          10000,
          12500,
          15000,
          17500,
          20000,
          22500,
          25000
         ],
         "xaxis": "x5",
         "y": [
          0.632260000705719,
          0.7868500053882599,
          0.8542700052261353,
          0.8862599968910218,
          0.8993699967861175,
          0.909850001335144,
          0.9195300042629242,
          0.9163599967956543,
          0.9299000024795532,
          0.9311500012874603,
          null,
          null,
          null,
          null,
          null,
          null,
          null,
          null,
          null
         ],
         "yaxis": "y5"
        },
        {
         "error_y": {
          "array": [
           0.001730704093409212,
           0.0061869553924606985,
           0.00783158620245823,
           0.013749227573857463,
           0.01327414802157246,
           0.016959311323227703,
           0.006704467060185107,
           0.006738514750554585,
           0.004423848872010152,
           0.003461178506723257,
           null,
           null,
           null,
           null,
           null,
           null,
           null,
           null,
           null
          ]
         },
         "hovertemplate": "Model=$\\textit{DAT}\\ (n_h^{sa}=0, n_h^{ra}=2)$<br>Task=$\\texttt{xoccurs}$<br>Training Set Size=%{x}<br>mean=%{y}<extra></extra>",
         "legendgroup": "$\\textit{DAT}\\ (n_h^{sa}=0, n_h^{ra}=2)$",
         "line": {
          "color": "rgb(72, 120, 208)",
          "dash": "solid"
         },
         "marker": {
          "symbol": "circle"
         },
         "mode": "lines",
         "name": "$\\textit{DAT}\\ (n_h^{sa}=0, n_h^{ra}=2)$",
         "orientation": "v",
         "showlegend": false,
         "type": "scatter",
         "x": [
          250,
          500,
          750,
          1000,
          1250,
          1500,
          1750,
          2000,
          2250,
          2500,
          5000,
          7500,
          10000,
          12500,
          15000,
          17500,
          20000,
          22500,
          25000
         ],
         "xaxis": "x6",
         "y": [
          0.5203000009059906,
          0.5563800036907196,
          0.6200200080871582,
          0.6655699968338012,
          0.7535100042819977,
          0.7721699893474578,
          0.8234099924564362,
          0.8602599918842315,
          0.873199999332428,
          0.8857000052928925,
          null,
          null,
          null,
          null,
          null,
          null,
          null,
          null,
          null
         ],
         "yaxis": "y6"
        },
        {
         "error_y": {
          "array": [
           0.013181468460730903,
           0.012388272091472717,
           0.012029234881055638,
           0.007215106926477951,
           0.004264630677389157,
           0.004679559476450444,
           0.0033590761079502884,
           0.003000305771634201,
           0.002048200776496506,
           0.0037862580714203543,
           null,
           null,
           null,
           null,
           null,
           null,
           null,
           null,
           null
          ]
         },
         "hovertemplate": "Model=$\\textit{DAT}\\ (n_h^{sa}=0, n_h^{ra}=2)$<br>Task=$\\texttt{between}$<br>Training Set Size=%{x}<br>mean=%{y}<extra></extra>",
         "legendgroup": "$\\textit{DAT}\\ (n_h^{sa}=0, n_h^{ra}=2)$",
         "line": {
          "color": "rgb(72, 120, 208)",
          "dash": "solid"
         },
         "marker": {
          "symbol": "circle"
         },
         "mode": "lines",
         "name": "$\\textit{DAT}\\ (n_h^{sa}=0, n_h^{ra}=2)$",
         "orientation": "v",
         "showlegend": false,
         "type": "scatter",
         "x": [
          250,
          500,
          750,
          1000,
          1250,
          1500,
          1750,
          2000,
          2250,
          2500,
          5000,
          7500,
          10000,
          12500,
          15000,
          17500,
          20000,
          22500,
          25000
         ],
         "xaxis": "x",
         "y": [
          0.6140900075435638,
          0.7501900017261505,
          0.8362600028514862,
          0.8810699939727783,
          0.8974199950695038,
          0.9081500053405762,
          0.920440000295639,
          0.9290499985218048,
          0.9259299993515014,
          0.9312799990177154,
          null,
          null,
          null,
          null,
          null,
          null,
          null,
          null,
          null
         ],
         "yaxis": "y"
        },
        {
         "error_y": {
          "array": [
           null,
           null,
           null,
           null,
           null,
           null,
           null,
           null,
           null,
           null,
           0.0045523888677041465,
           0.0521003904887345,
           0.04823735072976977,
           0.046830280997083557,
           0.003076497524077193,
           0.00654791087297859,
           0.008168655496373689,
           0.007443938278647261,
           0.011285270927879598
          ]
         },
         "hovertemplate": "Model=$\\textit{DAT}\\ (n_h^{sa}=0, n_h^{ra}=2)$<br>Task=$\\texttt{match pattern}$<br>Training Set Size=%{x}<br>mean=%{y}<extra></extra>",
         "legendgroup": "$\\textit{DAT}\\ (n_h^{sa}=0, n_h^{ra}=2)$",
         "line": {
          "color": "rgb(72, 120, 208)",
          "dash": "solid"
         },
         "marker": {
          "symbol": "circle"
         },
         "mode": "lines",
         "name": "$\\textit{DAT}\\ (n_h^{sa}=0, n_h^{ra}=2)$",
         "orientation": "v",
         "showlegend": false,
         "type": "scatter",
         "x": [
          250,
          500,
          750,
          1000,
          1250,
          1500,
          1750,
          2000,
          2250,
          2500,
          5000,
          7500,
          10000,
          12500,
          15000,
          17500,
          20000,
          22500,
          25000
         ],
         "xaxis": "x2",
         "y": [
          null,
          null,
          null,
          null,
          null,
          null,
          null,
          null,
          null,
          null,
          0.528309085152366,
          0.6817300021648407,
          0.7731599986553193,
          0.7915300011634827,
          0.8884799957275391,
          0.9153500020503997,
          0.9302875027060509,
          0.9176499992609024,
          0.927885719708034
         ],
         "yaxis": "y2"
        },
        {
         "error_y": {
          "array": [
           0.007461157987828272,
           0.011927746024167742,
           0.0067080061565542365,
           0.0023242085367097777,
           0.0026326549725128236,
           0.0024632855935122324,
           0.0034854660908033943,
           0.0014927251319744263,
           0.003940980480652025,
           0.003266021255848893,
           null,
           null,
           null,
           null,
           null,
           null,
           null,
           null,
           null
          ]
         },
         "hovertemplate": "Model=$\\textit{DAT}\\ (n_h^{sa}=1, n_h^{ra}=1)$<br>Task=$\\texttt{same}$<br>Training Set Size=%{x}<br>mean=%{y}<extra></extra>",
         "legendgroup": "$\\textit{DAT}\\ (n_h^{sa}=1, n_h^{ra}=1)$",
         "line": {
          "color": "rgb(149, 108, 180)",
          "dash": "solid"
         },
         "marker": {
          "symbol": "circle"
         },
         "mode": "lines",
         "name": "$\\textit{DAT}\\ (n_h^{sa}=1, n_h^{ra}=1)$",
         "orientation": "v",
         "showlegend": true,
         "type": "scatter",
         "x": [
          250,
          500,
          750,
          1000,
          1250,
          1500,
          1750,
          2000,
          2250,
          2500,
          5000,
          7500,
          10000,
          12500,
          15000,
          17500,
          20000,
          22500,
          25000
         ],
         "xaxis": "x4",
         "y": [
          0.6387199997901917,
          0.7435999929904937,
          0.8284300029277801,
          0.8801199972629548,
          0.899399995803833,
          0.9023299932479858,
          0.9167699992656708,
          0.9290999889373779,
          0.9372999966144562,
          0.9398000001907348,
          null,
          null,
          null,
          null,
          null,
          null,
          null,
          null,
          null
         ],
         "yaxis": "y4"
        },
        {
         "error_y": {
          "array": [
           0.005399906171289049,
           0.014517439591323367,
           0.006584948109886284,
           0.004792536808725057,
           0.004142099566191265,
           0.002234838786146011,
           0.0036160888548400494,
           0.002367784931763517,
           0.002162462299622347,
           0.003267543939761642,
           null,
           null,
           null,
           null,
           null,
           null,
           null,
           null,
           null
          ]
         },
         "hovertemplate": "Model=$\\textit{DAT}\\ (n_h^{sa}=1, n_h^{ra}=1)$<br>Task=$\\texttt{occurs}$<br>Training Set Size=%{x}<br>mean=%{y}<extra></extra>",
         "legendgroup": "$\\textit{DAT}\\ (n_h^{sa}=1, n_h^{ra}=1)$",
         "line": {
          "color": "rgb(149, 108, 180)",
          "dash": "solid"
         },
         "marker": {
          "symbol": "circle"
         },
         "mode": "lines",
         "name": "$\\textit{DAT}\\ (n_h^{sa}=1, n_h^{ra}=1)$",
         "orientation": "v",
         "showlegend": false,
         "type": "scatter",
         "x": [
          250,
          500,
          750,
          1000,
          1250,
          1500,
          1750,
          2000,
          2250,
          2500,
          5000,
          7500,
          10000,
          12500,
          15000,
          17500,
          20000,
          22500,
          25000
         ],
         "xaxis": "x5",
         "y": [
          0.6187100052833557,
          0.7746900022029877,
          0.8546999990940094,
          0.8952799916267395,
          0.9004099905490875,
          0.9134500026702881,
          0.9184900045394897,
          0.9280799865722656,
          0.9263300001621246,
          0.928519994020462,
          null,
          null,
          null,
          null,
          null,
          null,
          null,
          null,
          null
         ],
         "yaxis": "y5"
        },
        {
         "error_y": {
          "array": [
           0.0029725935264404155,
           0.005195410674297937,
           0.0061562576778830085,
           0.008323228111679891,
           0.01814854488863798,
           0.016854872204638865,
           0.004584229000128059,
           0.007839427293127019,
           0.006614922173241598,
           0.009260468324882164,
           null,
           null,
           null,
           null,
           null,
           null,
           null,
           null,
           null
          ]
         },
         "hovertemplate": "Model=$\\textit{DAT}\\ (n_h^{sa}=1, n_h^{ra}=1)$<br>Task=$\\texttt{xoccurs}$<br>Training Set Size=%{x}<br>mean=%{y}<extra></extra>",
         "legendgroup": "$\\textit{DAT}\\ (n_h^{sa}=1, n_h^{ra}=1)$",
         "line": {
          "color": "rgb(149, 108, 180)",
          "dash": "solid"
         },
         "marker": {
          "symbol": "circle"
         },
         "mode": "lines",
         "name": "$\\textit{DAT}\\ (n_h^{sa}=1, n_h^{ra}=1)$",
         "orientation": "v",
         "showlegend": false,
         "type": "scatter",
         "x": [
          250,
          500,
          750,
          1000,
          1250,
          1500,
          1750,
          2000,
          2250,
          2500,
          5000,
          7500,
          10000,
          12500,
          15000,
          17500,
          20000,
          22500,
          25000
         ],
         "xaxis": "x6",
         "y": [
          0.5218100070953369,
          0.5425599992275238,
          0.5849800050258637,
          0.6342100024223327,
          0.7157400012016296,
          0.7228700041770935,
          0.8274599969387054,
          0.8523000001907348,
          0.8664100050926209,
          0.8734499990940094,
          null,
          null,
          null,
          null,
          null,
          null,
          null,
          null,
          null
         ],
         "yaxis": "y6"
        },
        {
         "error_y": {
          "array": [
           0.012336945473862266,
           0.014522027185535986,
           0.009922464339913329,
           0.010205056767926185,
           0.0036298717128787346,
           0.004069566340510597,
           0.0035687875522172263,
           0.0019131022145954073,
           0.0018306316929482807,
           0.0018890441507721197,
           null,
           null,
           null,
           null,
           null,
           null,
           null,
           null,
           null
          ]
         },
         "hovertemplate": "Model=$\\textit{DAT}\\ (n_h^{sa}=1, n_h^{ra}=1)$<br>Task=$\\texttt{between}$<br>Training Set Size=%{x}<br>mean=%{y}<extra></extra>",
         "legendgroup": "$\\textit{DAT}\\ (n_h^{sa}=1, n_h^{ra}=1)$",
         "line": {
          "color": "rgb(149, 108, 180)",
          "dash": "solid"
         },
         "marker": {
          "symbol": "circle"
         },
         "mode": "lines",
         "name": "$\\textit{DAT}\\ (n_h^{sa}=1, n_h^{ra}=1)$",
         "orientation": "v",
         "showlegend": false,
         "type": "scatter",
         "x": [
          250,
          500,
          750,
          1000,
          1250,
          1500,
          1750,
          2000,
          2250,
          2500,
          5000,
          7500,
          10000,
          12500,
          15000,
          17500,
          20000,
          22500,
          25000
         ],
         "xaxis": "x",
         "y": [
          0.63992999792099,
          0.7105199992656708,
          0.8164700031280517,
          0.8689499974250794,
          0.8980199992656708,
          0.9112399995326996,
          0.923030000925064,
          0.929420006275177,
          0.9303900063037872,
          0.9375600039958953,
          null,
          null,
          null,
          null,
          null,
          null,
          null,
          null,
          null
         ],
         "yaxis": "y"
        },
        {
         "error_y": {
          "array": [
           null,
           null,
           null,
           null,
           null,
           null,
           null,
           null,
           null,
           null,
           0.028560392141601904,
           0.044239393327329596,
           0.04367425233126229,
           0.05033535346125859,
           0.044059247837149165,
           0.03765812366424689,
           0.03866052069792613,
           0.026438234003488974,
           0.03242463581526497
          ]
         },
         "hovertemplate": "Model=$\\textit{DAT}\\ (n_h^{sa}=1, n_h^{ra}=1)$<br>Task=$\\texttt{match pattern}$<br>Training Set Size=%{x}<br>mean=%{y}<extra></extra>",
         "legendgroup": "$\\textit{DAT}\\ (n_h^{sa}=1, n_h^{ra}=1)$",
         "line": {
          "color": "rgb(149, 108, 180)",
          "dash": "solid"
         },
         "marker": {
          "symbol": "circle"
         },
         "mode": "lines",
         "name": "$\\textit{DAT}\\ (n_h^{sa}=1, n_h^{ra}=1)$",
         "orientation": "v",
         "showlegend": false,
         "type": "scatter",
         "x": [
          250,
          500,
          750,
          1000,
          1250,
          1500,
          1750,
          2000,
          2250,
          2500,
          5000,
          7500,
          10000,
          12500,
          15000,
          17500,
          20000,
          22500,
          25000
         ],
         "xaxis": "x2",
         "y": [
          null,
          null,
          null,
          null,
          null,
          null,
          null,
          null,
          null,
          null,
          0.545990916815671,
          0.6064000129699707,
          0.6387199997901917,
          0.7418900012969971,
          0.7395000040531159,
          0.7624400019645691,
          0.8320799946784974,
          0.9010299980640412,
          0.8554499983787537
         ],
         "yaxis": "y2"
        },
        {
         "error_y": {
          "array": [
           0.009695850219605248,
           0.028648153888821557,
           0.01293350999292062,
           0.004259701130982233,
           0.006153370960415806,
           0.004321754245625414,
           0.0034381081871180507,
           0.00468267481021147,
           0.005323500337487153,
           0.004408673147296668,
           null,
           null,
           null,
           null,
           null,
           null,
           null,
           null,
           null
          ]
         },
         "hovertemplate": "Model=$\\mathrm{Transformer}\\ (n_h^{sa}=2, n_h^{ra}=0)$<br>Task=$\\texttt{same}$<br>Training Set Size=%{x}<br>mean=%{y}<extra></extra>",
         "legendgroup": "$\\mathrm{Transformer}\\ (n_h^{sa}=2, n_h^{ra}=0)$",
         "line": {
          "color": "rgb(214, 95, 95)",
          "dash": "solid"
         },
         "marker": {
          "symbol": "circle"
         },
         "mode": "lines",
         "name": "$\\mathrm{Transformer}\\ (n_h^{sa}=2, n_h^{ra}=0)$",
         "orientation": "v",
         "showlegend": true,
         "type": "scatter",
         "x": [
          250,
          500,
          750,
          1000,
          1250,
          1500,
          1750,
          2000,
          2250,
          2500,
          5000,
          7500,
          10000,
          12500,
          15000,
          17500,
          20000,
          22500,
          25000
         ],
         "xaxis": "x4",
         "y": [
          0.6708199977874756,
          0.7502599954605103,
          0.8758400082588196,
          0.8976000070571899,
          0.9009000062942505,
          0.9240400075912476,
          0.9313599944114686,
          0.937720000743866,
          0.9455600023269654,
          0.9464199900627136,
          null,
          null,
          null,
          null,
          null,
          null,
          null,
          null,
          null
         ],
         "yaxis": "y4"
        },
        {
         "error_y": {
          "array": [
           0.0035975801060082763,
           0.006299003496352548,
           0.008607360268657042,
           0.011165730107564633,
           0.0228070250866772,
           0.04319480397782378,
           0.031631743855741384,
           0.0370125492739318,
           0.026253752149820262,
           0.03872756374288259,
           null,
           null,
           null,
           null,
           null,
           null,
           null,
           null,
           null
          ]
         },
         "hovertemplate": "Model=$\\mathrm{Transformer}\\ (n_h^{sa}=2, n_h^{ra}=0)$<br>Task=$\\texttt{occurs}$<br>Training Set Size=%{x}<br>mean=%{y}<extra></extra>",
         "legendgroup": "$\\mathrm{Transformer}\\ (n_h^{sa}=2, n_h^{ra}=0)$",
         "line": {
          "color": "rgb(214, 95, 95)",
          "dash": "solid"
         },
         "marker": {
          "symbol": "circle"
         },
         "mode": "lines",
         "name": "$\\mathrm{Transformer}\\ (n_h^{sa}=2, n_h^{ra}=0)$",
         "orientation": "v",
         "showlegend": false,
         "type": "scatter",
         "x": [
          250,
          500,
          750,
          1000,
          1250,
          1500,
          1750,
          2000,
          2250,
          2500,
          5000,
          7500,
          10000,
          12500,
          15000,
          17500,
          20000,
          22500,
          25000
         ],
         "xaxis": "x5",
         "y": [
          0.5327399969100952,
          0.524780011177063,
          0.6158599972724914,
          0.64617999792099,
          0.6984400033950806,
          0.7515799880027771,
          0.7633200049400329,
          0.8248600125312805,
          0.8844199895858764,
          0.8846400022506714,
          null,
          null,
          null,
          null,
          null,
          null,
          null,
          null,
          null
         ],
         "yaxis": "y5"
        },
        {
         "error_y": {
          "array": [
           0.002854719571779541,
           0.0016971762829592594,
           0.004956846938649759,
           0.0008625392866308954,
           0.005719233703623251,
           0.00972396624983945,
           0.012815551157872106,
           0.004978345522557789,
           0.05942462949933084,
           0.010217480412191459,
           null,
           null,
           null,
           null,
           null,
           null,
           null,
           null,
           null
          ]
         },
         "hovertemplate": "Model=$\\mathrm{Transformer}\\ (n_h^{sa}=2, n_h^{ra}=0)$<br>Task=$\\texttt{xoccurs}$<br>Training Set Size=%{x}<br>mean=%{y}<extra></extra>",
         "legendgroup": "$\\mathrm{Transformer}\\ (n_h^{sa}=2, n_h^{ra}=0)$",
         "line": {
          "color": "rgb(214, 95, 95)",
          "dash": "solid"
         },
         "marker": {
          "symbol": "circle"
         },
         "mode": "lines",
         "name": "$\\mathrm{Transformer}\\ (n_h^{sa}=2, n_h^{ra}=0)$",
         "orientation": "v",
         "showlegend": false,
         "type": "scatter",
         "x": [
          250,
          500,
          750,
          1000,
          1250,
          1500,
          1750,
          2000,
          2250,
          2500,
          5000,
          7500,
          10000,
          12500,
          15000,
          17500,
          20000,
          22500,
          25000
         ],
         "xaxis": "x6",
         "y": [
          0.5076199889183044,
          0.504119998216629,
          0.5271800041198731,
          0.5461749881505966,
          0.5477400064468384,
          0.5843400001525879,
          0.5833600044250489,
          0.598199999332428,
          0.6785199761390686,
          0.6529000043869019,
          null,
          null,
          null,
          null,
          null,
          null,
          null,
          null,
          null
         ],
         "yaxis": "y6"
        },
        {
         "error_y": {
          "array": [
           0.004829552545502022,
           0.019692779873783595,
           0.015162979688990273,
           0.015966079146047044,
           0.018215263986783355,
           0.009591032601974595,
           0.007460457563638074,
           0.002589092649363041,
           0.007358327113425051,
           0.0036491948831581227,
           null,
           null,
           null,
           null,
           null,
           null,
           null,
           null,
           null
          ]
         },
         "hovertemplate": "Model=$\\mathrm{Transformer}\\ (n_h^{sa}=2, n_h^{ra}=0)$<br>Task=$\\texttt{between}$<br>Training Set Size=%{x}<br>mean=%{y}<extra></extra>",
         "legendgroup": "$\\mathrm{Transformer}\\ (n_h^{sa}=2, n_h^{ra}=0)$",
         "line": {
          "color": "rgb(214, 95, 95)",
          "dash": "solid"
         },
         "marker": {
          "symbol": "circle"
         },
         "mode": "lines",
         "name": "$\\mathrm{Transformer}\\ (n_h^{sa}=2, n_h^{ra}=0)$",
         "orientation": "v",
         "showlegend": false,
         "type": "scatter",
         "x": [
          250,
          500,
          750,
          1000,
          1250,
          1500,
          1750,
          2000,
          2250,
          2500,
          5000,
          7500,
          10000,
          12500,
          15000,
          17500,
          20000,
          22500,
          25000
         ],
         "xaxis": "x",
         "y": [
          0.5963600039482116,
          0.6178250163793564,
          0.71670001745224,
          0.7739800095558167,
          0.8086400032043457,
          0.8453999996185303,
          0.8700800061225891,
          0.8858800053596496,
          0.9036999940872192,
          0.9106400012969971,
          null,
          null,
          null,
          null,
          null,
          null,
          null,
          null,
          null
         ],
         "yaxis": "y"
        },
        {
         "error_y": {
          "array": [
           null,
           null,
           null,
           null,
           null,
           null,
           null,
           null,
           null,
           null,
           0.0002437227099985903,
           0.0022299299470454424,
           0.002685626684256194,
           0.0023784457243379944,
           0.0009562466792870037,
           0.004773326081616844,
           0.010115138572521904,
           0.005724158395434886,
           0.005418767234047119
          ]
         },
         "hovertemplate": "Model=$\\mathrm{Transformer}\\ (n_h^{sa}=2, n_h^{ra}=0)$<br>Task=$\\texttt{match pattern}$<br>Training Set Size=%{x}<br>mean=%{y}<extra></extra>",
         "legendgroup": "$\\mathrm{Transformer}\\ (n_h^{sa}=2, n_h^{ra}=0)$",
         "line": {
          "color": "rgb(214, 95, 95)",
          "dash": "solid"
         },
         "marker": {
          "symbol": "circle"
         },
         "mode": "lines",
         "name": "$\\mathrm{Transformer}\\ (n_h^{sa}=2, n_h^{ra}=0)$",
         "orientation": "v",
         "showlegend": false,
         "type": "scatter",
         "x": [
          250,
          500,
          750,
          1000,
          1250,
          1500,
          1750,
          2000,
          2250,
          2500,
          5000,
          7500,
          10000,
          12500,
          15000,
          17500,
          20000,
          22500,
          25000
         ],
         "xaxis": "x2",
         "y": [
          null,
          null,
          null,
          null,
          null,
          null,
          null,
          null,
          null,
          null,
          0.5114800095558166,
          0.5214599967002869,
          0.5206400156021118,
          0.5240999817848205,
          0.5340199947357178,
          0.5375599980354309,
          0.564300000667572,
          0.5651999950408936,
          0.5645999908447266
         ],
         "yaxis": "y2"
        }
       ],
       "layout": {
        "annotations": [
         {
          "font": {},
          "showarrow": false,
          "text": "$\\texttt{between}$",
          "x": 0.13333333333333333,
          "xanchor": "center",
          "xref": "paper",
          "y": 0.35,
          "yanchor": "bottom",
          "yref": "paper"
         },
         {
          "font": {},
          "showarrow": false,
          "text": "$\\texttt{match pattern}$",
          "x": 0.5,
          "xanchor": "center",
          "xref": "paper",
          "y": 0.35,
          "yanchor": "bottom",
          "yref": "paper"
         },
         {
          "font": {},
          "showarrow": false,
          "text": "$\\texttt{same}$",
          "x": 0.13333333333333333,
          "xanchor": "center",
          "xref": "paper",
          "y": 0.9999999999999999,
          "yanchor": "bottom",
          "yref": "paper"
         },
         {
          "font": {},
          "showarrow": false,
          "text": "$\\texttt{occurs}$",
          "x": 0.5,
          "xanchor": "center",
          "xref": "paper",
          "y": 0.9999999999999999,
          "yanchor": "bottom",
          "yref": "paper"
         },
         {
          "font": {},
          "showarrow": false,
          "text": "$\\texttt{xoccurs}$",
          "x": 0.8666666666666667,
          "xanchor": "center",
          "xref": "paper",
          "y": 0.9999999999999999,
          "yanchor": "bottom",
          "yref": "paper"
         }
        ],
        "legend": {
         "orientation": "v",
         "title": {
          "side": "top",
          "text": "Model"
         },
         "tracegroupgap": 0,
         "x": 0.85,
         "xanchor": "center",
         "y": 0.35,
         "yanchor": "top"
        },
        "template": {
         "data": {
          "bar": [
           {
            "error_x": {
             "color": "#2a3f5f"
            },
            "error_y": {
             "color": "#2a3f5f"
            },
            "marker": {
             "line": {
              "color": "white",
              "width": 0.5
             },
             "pattern": {
              "fillmode": "overlay",
              "size": 10,
              "solidity": 0.2
             }
            },
            "type": "bar"
           }
          ],
          "barpolar": [
           {
            "marker": {
             "line": {
              "color": "white",
              "width": 0.5
             },
             "pattern": {
              "fillmode": "overlay",
              "size": 10,
              "solidity": 0.2
             }
            },
            "type": "barpolar"
           }
          ],
          "carpet": [
           {
            "aaxis": {
             "endlinecolor": "#2a3f5f",
             "gridcolor": "#C8D4E3",
             "linecolor": "#C8D4E3",
             "minorgridcolor": "#C8D4E3",
             "startlinecolor": "#2a3f5f"
            },
            "baxis": {
             "endlinecolor": "#2a3f5f",
             "gridcolor": "#C8D4E3",
             "linecolor": "#C8D4E3",
             "minorgridcolor": "#C8D4E3",
             "startlinecolor": "#2a3f5f"
            },
            "type": "carpet"
           }
          ],
          "choropleth": [
           {
            "colorbar": {
             "outlinewidth": 0,
             "ticks": ""
            },
            "type": "choropleth"
           }
          ],
          "contour": [
           {
            "colorbar": {
             "outlinewidth": 0,
             "ticks": ""
            },
            "colorscale": [
             [
              0,
              "#0d0887"
             ],
             [
              0.1111111111111111,
              "#46039f"
             ],
             [
              0.2222222222222222,
              "#7201a8"
             ],
             [
              0.3333333333333333,
              "#9c179e"
             ],
             [
              0.4444444444444444,
              "#bd3786"
             ],
             [
              0.5555555555555556,
              "#d8576b"
             ],
             [
              0.6666666666666666,
              "#ed7953"
             ],
             [
              0.7777777777777778,
              "#fb9f3a"
             ],
             [
              0.8888888888888888,
              "#fdca26"
             ],
             [
              1,
              "#f0f921"
             ]
            ],
            "type": "contour"
           }
          ],
          "contourcarpet": [
           {
            "colorbar": {
             "outlinewidth": 0,
             "ticks": ""
            },
            "type": "contourcarpet"
           }
          ],
          "heatmap": [
           {
            "colorbar": {
             "outlinewidth": 0,
             "ticks": ""
            },
            "colorscale": [
             [
              0,
              "#0d0887"
             ],
             [
              0.1111111111111111,
              "#46039f"
             ],
             [
              0.2222222222222222,
              "#7201a8"
             ],
             [
              0.3333333333333333,
              "#9c179e"
             ],
             [
              0.4444444444444444,
              "#bd3786"
             ],
             [
              0.5555555555555556,
              "#d8576b"
             ],
             [
              0.6666666666666666,
              "#ed7953"
             ],
             [
              0.7777777777777778,
              "#fb9f3a"
             ],
             [
              0.8888888888888888,
              "#fdca26"
             ],
             [
              1,
              "#f0f921"
             ]
            ],
            "type": "heatmap"
           }
          ],
          "heatmapgl": [
           {
            "colorbar": {
             "outlinewidth": 0,
             "ticks": ""
            },
            "colorscale": [
             [
              0,
              "#0d0887"
             ],
             [
              0.1111111111111111,
              "#46039f"
             ],
             [
              0.2222222222222222,
              "#7201a8"
             ],
             [
              0.3333333333333333,
              "#9c179e"
             ],
             [
              0.4444444444444444,
              "#bd3786"
             ],
             [
              0.5555555555555556,
              "#d8576b"
             ],
             [
              0.6666666666666666,
              "#ed7953"
             ],
             [
              0.7777777777777778,
              "#fb9f3a"
             ],
             [
              0.8888888888888888,
              "#fdca26"
             ],
             [
              1,
              "#f0f921"
             ]
            ],
            "type": "heatmapgl"
           }
          ],
          "histogram": [
           {
            "marker": {
             "pattern": {
              "fillmode": "overlay",
              "size": 10,
              "solidity": 0.2
             }
            },
            "type": "histogram"
           }
          ],
          "histogram2d": [
           {
            "colorbar": {
             "outlinewidth": 0,
             "ticks": ""
            },
            "colorscale": [
             [
              0,
              "#0d0887"
             ],
             [
              0.1111111111111111,
              "#46039f"
             ],
             [
              0.2222222222222222,
              "#7201a8"
             ],
             [
              0.3333333333333333,
              "#9c179e"
             ],
             [
              0.4444444444444444,
              "#bd3786"
             ],
             [
              0.5555555555555556,
              "#d8576b"
             ],
             [
              0.6666666666666666,
              "#ed7953"
             ],
             [
              0.7777777777777778,
              "#fb9f3a"
             ],
             [
              0.8888888888888888,
              "#fdca26"
             ],
             [
              1,
              "#f0f921"
             ]
            ],
            "type": "histogram2d"
           }
          ],
          "histogram2dcontour": [
           {
            "colorbar": {
             "outlinewidth": 0,
             "ticks": ""
            },
            "colorscale": [
             [
              0,
              "#0d0887"
             ],
             [
              0.1111111111111111,
              "#46039f"
             ],
             [
              0.2222222222222222,
              "#7201a8"
             ],
             [
              0.3333333333333333,
              "#9c179e"
             ],
             [
              0.4444444444444444,
              "#bd3786"
             ],
             [
              0.5555555555555556,
              "#d8576b"
             ],
             [
              0.6666666666666666,
              "#ed7953"
             ],
             [
              0.7777777777777778,
              "#fb9f3a"
             ],
             [
              0.8888888888888888,
              "#fdca26"
             ],
             [
              1,
              "#f0f921"
             ]
            ],
            "type": "histogram2dcontour"
           }
          ],
          "mesh3d": [
           {
            "colorbar": {
             "outlinewidth": 0,
             "ticks": ""
            },
            "type": "mesh3d"
           }
          ],
          "parcoords": [
           {
            "line": {
             "colorbar": {
              "outlinewidth": 0,
              "ticks": ""
             }
            },
            "type": "parcoords"
           }
          ],
          "pie": [
           {
            "automargin": true,
            "type": "pie"
           }
          ],
          "scatter": [
           {
            "fillpattern": {
             "fillmode": "overlay",
             "size": 10,
             "solidity": 0.2
            },
            "type": "scatter"
           }
          ],
          "scatter3d": [
           {
            "line": {
             "colorbar": {
              "outlinewidth": 0,
              "ticks": ""
             }
            },
            "marker": {
             "colorbar": {
              "outlinewidth": 0,
              "ticks": ""
             }
            },
            "type": "scatter3d"
           }
          ],
          "scattercarpet": [
           {
            "marker": {
             "colorbar": {
              "outlinewidth": 0,
              "ticks": ""
             }
            },
            "type": "scattercarpet"
           }
          ],
          "scattergeo": [
           {
            "marker": {
             "colorbar": {
              "outlinewidth": 0,
              "ticks": ""
             }
            },
            "type": "scattergeo"
           }
          ],
          "scattergl": [
           {
            "marker": {
             "colorbar": {
              "outlinewidth": 0,
              "ticks": ""
             }
            },
            "type": "scattergl"
           }
          ],
          "scattermapbox": [
           {
            "marker": {
             "colorbar": {
              "outlinewidth": 0,
              "ticks": ""
             }
            },
            "type": "scattermapbox"
           }
          ],
          "scatterpolar": [
           {
            "marker": {
             "colorbar": {
              "outlinewidth": 0,
              "ticks": ""
             }
            },
            "type": "scatterpolar"
           }
          ],
          "scatterpolargl": [
           {
            "marker": {
             "colorbar": {
              "outlinewidth": 0,
              "ticks": ""
             }
            },
            "type": "scatterpolargl"
           }
          ],
          "scatterternary": [
           {
            "marker": {
             "colorbar": {
              "outlinewidth": 0,
              "ticks": ""
             }
            },
            "type": "scatterternary"
           }
          ],
          "surface": [
           {
            "colorbar": {
             "outlinewidth": 0,
             "ticks": ""
            },
            "colorscale": [
             [
              0,
              "#0d0887"
             ],
             [
              0.1111111111111111,
              "#46039f"
             ],
             [
              0.2222222222222222,
              "#7201a8"
             ],
             [
              0.3333333333333333,
              "#9c179e"
             ],
             [
              0.4444444444444444,
              "#bd3786"
             ],
             [
              0.5555555555555556,
              "#d8576b"
             ],
             [
              0.6666666666666666,
              "#ed7953"
             ],
             [
              0.7777777777777778,
              "#fb9f3a"
             ],
             [
              0.8888888888888888,
              "#fdca26"
             ],
             [
              1,
              "#f0f921"
             ]
            ],
            "type": "surface"
           }
          ],
          "table": [
           {
            "cells": {
             "fill": {
              "color": "#EBF0F8"
             },
             "line": {
              "color": "white"
             }
            },
            "header": {
             "fill": {
              "color": "#C8D4E3"
             },
             "line": {
              "color": "white"
             }
            },
            "type": "table"
           }
          ]
         },
         "layout": {
          "annotationdefaults": {
           "arrowcolor": "#2a3f5f",
           "arrowhead": 0,
           "arrowwidth": 1
          },
          "autotypenumbers": "strict",
          "coloraxis": {
           "colorbar": {
            "outlinewidth": 0,
            "ticks": ""
           }
          },
          "colorscale": {
           "diverging": [
            [
             0,
             "#8e0152"
            ],
            [
             0.1,
             "#c51b7d"
            ],
            [
             0.2,
             "#de77ae"
            ],
            [
             0.3,
             "#f1b6da"
            ],
            [
             0.4,
             "#fde0ef"
            ],
            [
             0.5,
             "#f7f7f7"
            ],
            [
             0.6,
             "#e6f5d0"
            ],
            [
             0.7,
             "#b8e186"
            ],
            [
             0.8,
             "#7fbc41"
            ],
            [
             0.9,
             "#4d9221"
            ],
            [
             1,
             "#276419"
            ]
           ],
           "sequential": [
            [
             0,
             "#0d0887"
            ],
            [
             0.1111111111111111,
             "#46039f"
            ],
            [
             0.2222222222222222,
             "#7201a8"
            ],
            [
             0.3333333333333333,
             "#9c179e"
            ],
            [
             0.4444444444444444,
             "#bd3786"
            ],
            [
             0.5555555555555556,
             "#d8576b"
            ],
            [
             0.6666666666666666,
             "#ed7953"
            ],
            [
             0.7777777777777778,
             "#fb9f3a"
            ],
            [
             0.8888888888888888,
             "#fdca26"
            ],
            [
             1,
             "#f0f921"
            ]
           ],
           "sequentialminus": [
            [
             0,
             "#0d0887"
            ],
            [
             0.1111111111111111,
             "#46039f"
            ],
            [
             0.2222222222222222,
             "#7201a8"
            ],
            [
             0.3333333333333333,
             "#9c179e"
            ],
            [
             0.4444444444444444,
             "#bd3786"
            ],
            [
             0.5555555555555556,
             "#d8576b"
            ],
            [
             0.6666666666666666,
             "#ed7953"
            ],
            [
             0.7777777777777778,
             "#fb9f3a"
            ],
            [
             0.8888888888888888,
             "#fdca26"
            ],
            [
             1,
             "#f0f921"
            ]
           ]
          },
          "colorway": [
           "#636efa",
           "#EF553B",
           "#00cc96",
           "#ab63fa",
           "#FFA15A",
           "#19d3f3",
           "#FF6692",
           "#B6E880",
           "#FF97FF",
           "#FECB52"
          ],
          "font": {
           "color": "#2a3f5f"
          },
          "geo": {
           "bgcolor": "white",
           "lakecolor": "white",
           "landcolor": "white",
           "showlakes": true,
           "showland": true,
           "subunitcolor": "#C8D4E3"
          },
          "hoverlabel": {
           "align": "left"
          },
          "hovermode": "closest",
          "mapbox": {
           "style": "light"
          },
          "paper_bgcolor": "white",
          "plot_bgcolor": "white",
          "polar": {
           "angularaxis": {
            "gridcolor": "#EBF0F8",
            "linecolor": "#EBF0F8",
            "ticks": ""
           },
           "bgcolor": "white",
           "radialaxis": {
            "gridcolor": "#EBF0F8",
            "linecolor": "#EBF0F8",
            "ticks": ""
           }
          },
          "scene": {
           "xaxis": {
            "backgroundcolor": "white",
            "gridcolor": "#DFE8F3",
            "gridwidth": 2,
            "linecolor": "#EBF0F8",
            "showbackground": true,
            "ticks": "",
            "zerolinecolor": "#EBF0F8"
           },
           "yaxis": {
            "backgroundcolor": "white",
            "gridcolor": "#DFE8F3",
            "gridwidth": 2,
            "linecolor": "#EBF0F8",
            "showbackground": true,
            "ticks": "",
            "zerolinecolor": "#EBF0F8"
           },
           "zaxis": {
            "backgroundcolor": "white",
            "gridcolor": "#DFE8F3",
            "gridwidth": 2,
            "linecolor": "#EBF0F8",
            "showbackground": true,
            "ticks": "",
            "zerolinecolor": "#EBF0F8"
           }
          },
          "shapedefaults": {
           "line": {
            "color": "#2a3f5f"
           }
          },
          "ternary": {
           "aaxis": {
            "gridcolor": "#DFE8F3",
            "linecolor": "#A2B1C6",
            "ticks": ""
           },
           "baxis": {
            "gridcolor": "#DFE8F3",
            "linecolor": "#A2B1C6",
            "ticks": ""
           },
           "bgcolor": "white",
           "caxis": {
            "gridcolor": "#DFE8F3",
            "linecolor": "#A2B1C6",
            "ticks": ""
           }
          },
          "title": {
           "x": 0.05
          },
          "xaxis": {
           "automargin": true,
           "gridcolor": "#EBF0F8",
           "linecolor": "#EBF0F8",
           "ticks": "",
           "title": {
            "standoff": 15
           },
           "zerolinecolor": "#EBF0F8",
           "zerolinewidth": 2
          },
          "yaxis": {
           "automargin": true,
           "gridcolor": "#EBF0F8",
           "linecolor": "#EBF0F8",
           "ticks": "",
           "title": {
            "standoff": 15
           },
           "zerolinecolor": "#EBF0F8",
           "zerolinewidth": 2
          }
         }
        },
        "title": {
         "text": "Relational Games: Data Efficiency in Relational Learning"
        },
        "xaxis": {
         "anchor": "y",
         "domain": [
          0,
          0.26666666666666666
         ],
         "range": [
          100,
          3000
         ],
         "showticklabels": true,
         "tickvals": [
          500,
          1000,
          1500,
          2000,
          2500
         ],
         "title": {
          "text": "Training Set Size"
         }
        },
        "xaxis2": {
         "anchor": "y2",
         "domain": [
          0.3666666666666667,
          0.6333333333333333
         ],
         "range": [
          2000,
          30000
         ],
         "showticklabels": true,
         "tickvals": [
          5000,
          10000,
          15000,
          20000,
          25000
         ],
         "title": {
          "text": "Training Set Size"
         }
        },
        "xaxis3": {
         "anchor": "y3",
         "domain": [
          0.7333333333333334,
          1
         ],
         "range": [
          100,
          3000
         ],
         "showticklabels": true,
         "tickvals": [
          500,
          1000,
          1500,
          2000,
          2500
         ],
         "title": {
          "text": "Training Set Size"
         }
        },
        "xaxis4": {
         "anchor": "y4",
         "domain": [
          0,
          0.26666666666666666
         ],
         "range": [
          100,
          3000
         ],
         "showticklabels": true,
         "tickvals": [
          500,
          1000,
          1500,
          2000,
          2500
         ],
         "title": {
          "text": "Training Set Size"
         }
        },
        "xaxis5": {
         "anchor": "y5",
         "domain": [
          0.3666666666666667,
          0.6333333333333333
         ],
         "range": [
          100,
          3000
         ],
         "showticklabels": true,
         "tickvals": [
          500,
          1000,
          1500,
          2000,
          2500
         ],
         "title": {
          "text": "Training Set Size"
         }
        },
        "xaxis6": {
         "anchor": "y6",
         "domain": [
          0.7333333333333334,
          1
         ],
         "range": [
          100,
          3000
         ],
         "showticklabels": true,
         "tickvals": [
          500,
          1000,
          1500,
          2000,
          2500
         ],
         "title": {
          "text": "Training Set Size"
         }
        },
        "yaxis": {
         "anchor": "x",
         "domain": [
          0,
          0.35
         ],
         "showticklabels": true,
         "title": {
          "text": "Accuracy"
         }
        },
        "yaxis2": {
         "anchor": "x2",
         "domain": [
          0,
          0.35
         ],
         "showticklabels": true,
         "title": {
          "text": "Accuracy"
         }
        },
        "yaxis3": {
         "anchor": "x3",
         "domain": [
          0,
          0.35
         ],
         "showticklabels": true,
         "title": {
          "text": "Accuracy"
         }
        },
        "yaxis4": {
         "anchor": "x4",
         "domain": [
          0.6499999999999999,
          0.9999999999999999
         ],
         "showticklabels": true,
         "title": {
          "text": "Accuracy"
         }
        },
        "yaxis5": {
         "anchor": "x5",
         "domain": [
          0.6499999999999999,
          0.9999999999999999
         ],
         "showticklabels": true,
         "title": {
          "text": "Accuracy"
         }
        },
        "yaxis6": {
         "anchor": "x6",
         "domain": [
          0.6499999999999999,
          0.9999999999999999
         ],
         "showticklabels": true,
         "title": {
          "text": "Accuracy"
         }
        }
       }
      }
     },
     "metadata": {},
     "output_type": "display_data"
    }
   ],
   "source": [
    "fig = px.line(figure_data_,\n",
    "    x='Training Set Size', y='mean', color='Model', error_y='sem', facet_col='Task',\n",
    "    facet_col_wrap=3, color_discrete_map=color_map, facet_col_spacing=0.1, facet_row_spacing=0.3,\n",
    "    title='Relational Games: Data Efficiency in Relational Learning',\n",
    "    template=theme)\n",
    "    # width=1200, height=600, \n",
    "\n",
    "fig.update_xaxes(matches=None, showticklabels=True, title_text='Training Set Size')\n",
    "fig.update_yaxes(title_text='Accuracy', matches=None, showticklabels=True)\n",
    "\n",
    "for axis in fig.layout:\n",
    "    if axis.startswith('yaxis') or axis.startswith('xaxis'):\n",
    "        fig.layout[axis].showticklabels = True\n",
    "\n",
    "fig.for_each_annotation(lambda a: a.update(text=a.text.split(\"=\")[1]))\n",
    "\n",
    "fig.update_xaxes(range=[100, 3000], tickvals=[500, 1e3, 1.5e3, 2e3, 2.5e3])\n",
    "fig.update_xaxes(range=[2000, 30000], tickvals=[5e3, 10e3, 15e3, 20e3, 25e3], row=1, col=2)\n",
    "\n",
    "fig.update_layout(\n",
    "    legend=dict(\n",
    "        x=0.85,  # Horizontal position (0 to 1)\n",
    "        y=0.35,  # Vertical position (0 to 1)\n",
    "        xanchor='center',  # Anchor point for x position\n",
    "        yanchor='top',  # Anchor point for y position\n",
    "        orientation='v',  # Horizontal orientation\n",
    "        title=dict(\n",
    "            text='Model',  # Title for the legend\n",
    "            side='top'  # Position the title at the top and center it\n",
    "        )\n",
    "    )\n",
    ")\n",
    "\n",
    "fig.show()"
   ]
  },
  {
   "cell_type": "code",
   "execution_count": 16,
   "metadata": {},
   "outputs": [],
   "source": [
    "# save to html\n",
    "fig_html = plotly.offline.plot(fig, include_plotlyjs=False, output_type='div')\n",
    "with open(f'{save_dir}/relgames_learning_curves.html', 'w') as f:\n",
    "    f.write(fig_html)\n",
    "\n",
    "fig_json = fig.to_json()\n",
    "# save fig_json to file\n",
    "with open(f'{save_dir}/relgames_learning_curves.json', 'w') as f:\n",
    "    f.write(fig_json)"
   ]
  },
  {
   "cell_type": "markdown",
   "metadata": {},
   "source": [
    "## Math"
   ]
  },
  {
   "cell_type": "code",
   "execution_count": 17,
   "metadata": {},
   "outputs": [
    {
     "name": "stderr",
     "output_type": "stream",
     "text": [
      "C:\\Users\\awnya\\AppData\\Local\\Temp\\ipykernel_51064\\2012129618.py:4: DtypeWarning:\n",
      "\n",
      "Columns (16,24) have mixed types. Specify dtype option on import or set low_memory=False.\n",
      "\n"
     ]
    }
   ],
   "source": [
    "our_model_name = r'$\\textit{DAT}$'\n",
    "transformer_name = r'$\\mathrm{Transformer}$'\n",
    "\n",
    "figure_data = pd.read_csv('figure_data/math/run_history_all.csv')"
   ]
  },
  {
   "cell_type": "code",
   "execution_count": 18,
   "metadata": {},
   "outputs": [],
   "source": [
    "figure_data['task'] = figure_data.task.map(lambda x: {'algebra__linear_1': 'algebra__linear_1d'}.get(x, x))"
   ]
  },
  {
   "cell_type": "code",
   "execution_count": 19,
   "metadata": {},
   "outputs": [],
   "source": [
    "import re\n",
    "def parse_model_name(group_name):\n",
    "    # format: enc_sa=8; enc_ra=0; dec_sa=8; dec_ra=0; dec_cross=8; d=128; ra_type=NA, symbol_type=NA; el=2; dl=2\n",
    "    # extract enc_sa, enc_ra, d, el, etc.\n",
    "    regex_exprs = [r'enc_sa=(\\d+)', r'enc_ra=(\\d+)', r'dec_sa=(\\d+)', r'dec_ra=(\\d+)', r'dec_cross=(\\d+)', r'd=(\\d+)', r'ra_type=(\\w+)', r'symbol_type=(\\w+)', r'el=(\\d+)', r'dl=(\\d+)']\n",
    "    inferred_config_vals = []\n",
    "\n",
    "    for expr in regex_exprs:\n",
    "        match = re.search(expr, group_name)\n",
    "        if match:\n",
    "            inferred_config_vals.append(match.group(1))\n",
    "        else:\n",
    "            inferred_config_vals.append(None)\n",
    "\n",
    "    return tuple(inferred_config_vals)\n",
    "\n",
    "figure_data['enc_sa'], figure_data['enc_ra'], figure_data['dec_sa'], figure_data['dec_ra'], figure_data['dec_cross'], figure_data['d'], figure_data['ra_type'], figure_data['symbol_type'], figure_data['el'], figure_data['dl'] = zip(*figure_data['group'].apply(parse_model_name))"
   ]
  },
  {
   "cell_type": "code",
   "execution_count": 20,
   "metadata": {},
   "outputs": [],
   "source": [
    "models = {\n",
    "    'enc_sa=8; enc_ra=0; dec_sa=8; dec_ra=0; dec_cross=8; d=128; ra_type=NA, symbol_type=NA; el=2; dl=2': f'{transformer_name} [692K]',\n",
    "    # 'ee=8; ea=0; de=8; da=0; dc=8; el=2; dl=2': 'Transformer',\n",
    "    'enc_sa=8; enc_ra=0; dec_sa=8; dec_ra=0; dec_cross=8; d=144; ra_type=NA, symbol_type=NA; el=2; dl=2': f'{transformer_name} [871K]',\n",
    "    'enc_sa=8; enc_ra=0; dec_sa=8; dec_ra=0; d_cross=8; d=144; el=3; dl=3': f'{transformer_name} [1.3M]',\n",
    "    'enc_sa=8; enc_ra=0; dec_sa=8; dec_ra=0; d_cross=8; d=144; el=4; dl=4': f'{transformer_name} [1.7M]',\n",
    "    'enc_sa=4; enc_ra=4; dec_sa=8; dec_ra=0; dec_cross=8; d=128; ra_type=rel_attn, symbol_type=position_relative; el=2; dl=2': f'{our_model_name} [783K]',\n",
    "    'enc_sa=4; enc_ra=4; dec_sa=4; dec_ra=4; dec_cross=8; d=128; ra_type=rel_attn, symbol_type=position_relative; el=2; dl=2': f'{our_model_name} [832K]',\n",
    "    'enc_sa=4; enc_ra=4; dec_sa=4; dec_ra=4; d_cross=8; d=128; el=4; dl=4': f'{our_model_name} [1.46M]',\n",
    "    'enc_sa=4; enc_ra=4; dec_sa=8; dec_ra=0; d_cross=8; d=128; el=4; dl=4': f'{our_model_name} [1.43M]',\n",
    "    'enc_sa=4; enc_ra=4; dec_sa=4; dec_ra=4; d_cross=8; d=128; el=3; dl=3': f'{our_model_name} [1.11M]',\n",
    "    'enc_sa=4; enc_ra=4; dec_sa=8; dec_ra=0; d_cross=8; d=128; el=3; dl=3': f'{our_model_name} [1.09M]',\n",
    "    # 'Abstractor - L=1, d=128, h=8': 'Abstractor [816K]',\n",
    "    # 'Abstractor - L=2, d=128, h=8': 'Abstractor [1.54M]',\n",
    "    # 'e_sa=4; e_rca=4; d_sa=8; d_rca=0; d_cross=8; rca_dis=True, el=2; dl=2': 'AbstractTransformer (v1; OGRCA)',\n",
    "    # 'e_sa=4; e_rca=4; d_sa=4; d_rca=4; d_cross=8; rca_dis=True, el=2; dl=2': 'AbstractTransformer (v2; OGRCA)',\n",
    "    }"
   ]
  },
  {
   "cell_type": "code",
   "execution_count": 21,
   "metadata": {},
   "outputs": [],
   "source": [
    "figure_data.rename(columns={\n",
    "    'epoch': 'Epoch', 'interpolate_teacher_forcing_acc': 'Accuracy',\n",
    "    'train_teacher_forcing_acc': 'Accuracy (Training)', 'task': 'Task', 'group': 'Model'}, inplace=True)\n",
    "\n",
    "def format_task(task):\n",
    "    string = task.replace('_', r'\\_')\n",
    "    string = r\"$\\mathtt{\" + string + r\"}$\"\n",
    "    return string\n",
    "figure_data['Task'] = pd.Categorical(figure_data['Task'].map(format_task))\n",
    "figure_data = figure_data[figure_data['Model'].isin(models.keys())]\n",
    "figure_data['Model'] = pd.Categorical(figure_data['Model'].map(models), models.values(), ordered=True)"
   ]
  },
  {
   "cell_type": "code",
   "execution_count": 22,
   "metadata": {},
   "outputs": [
    {
     "data": {
      "text/plain": [
       "$\\textit{DAT}$ [783K]            5775\n",
       "$\\textit{DAT}$ [832K]            5730\n",
       "$\\mathrm{Transformer}$ [1.3M]    4560\n",
       "$\\mathrm{Transformer}$ [1.7M]    4560\n",
       "$\\mathrm{Transformer}$ [871K]    3002\n",
       "$\\textit{DAT}$ [1.11M]           2960\n",
       "$\\textit{DAT}$ [1.09M]           2959\n",
       "$\\textit{DAT}$ [1.43M]           2873\n",
       "$\\textit{DAT}$ [1.46M]           2739\n",
       "$\\mathrm{Transformer}$ [692K]    2400\n",
       "Name: Model, dtype: int64"
      ]
     },
     "execution_count": 22,
     "metadata": {},
     "output_type": "execute_result"
    }
   ],
   "source": [
    "cmap = sns.color_palette('tab20c', as_cmap=True)\n",
    "color_map_ = {\n",
    "    f'{transformer_name} [692K]': cmap(5), # lighter red\n",
    "    f'{our_model_name} [783K]': cmap(2),\n",
    "    # 'Abstractor [816K]': cmap(9),\n",
    "    f'{transformer_name} [871K]': cmap(6), # red\n",
    "    f'{our_model_name} [1.09M]': cmap(1),\n",
    "    f'{transformer_name} [1.3M]': cmap(5),\n",
    "    f'{our_model_name} [1.43M]': cmap(0),\n",
    "    # 'Abstractor [1.54M]': cmap(8),\n",
    "    f'{transformer_name} [1.7M]': cmap(4),\n",
    "    # f'{our_model_name} [832K]': cmap(2),\n",
    "    # f'{our_model_name} [1.11M]': cmap(1),\n",
    "    # f'{our_model_name} [1.46M]': cmap(0),\n",
    "    # 'Transformer': cmap(6), # red\n",
    "    # 'Transformer+': cmap(4),\n",
    "    }\n",
    "color_map = {k: convert_to_plotly_color(color_map_[k]) for k in color_map_}\n",
    "\n",
    "model_selection = list(color_map_.keys())\n",
    "\n",
    "model_filter = figure_data['Model'].isin(model_selection)\n",
    "# figure_data = figure_data[model_filter]\n",
    "\n",
    "figure_data.Model.value_counts()"
   ]
  },
  {
   "cell_type": "code",
   "execution_count": 23,
   "metadata": {},
   "outputs": [],
   "source": [
    "figure_data[r'$d_{\\text{model}}$'] = figure_data['d']\n",
    "figure_data[r'Encoder $n_h^{sa}$'] = figure_data['enc_sa']\n",
    "figure_data[r'Encoder $n_h^{ra}$'] = figure_data['enc_ra']\n",
    "figure_data[r'Decoder $n_h^{sa}$'] = figure_data['dec_sa']\n",
    "figure_data[r'Decoder $n_h^{ra}$'] = figure_data['dec_ra']\n",
    "figure_data['# Layers'] = figure_data['n_layers_dec']\n",
    "config_cols = ['# Layers', r'$d_{\\text{model}}$', 'Encoder $n_h^{sa}$', 'Encoder $n_h^{ra}$', 'Decoder $n_h^{sa}$', 'Decoder $n_h^{ra}$']\n",
    "\n",
    "depth_comparison_table = figure_data[figure_data.Epoch == figure_data.Epoch.max()][['Task', 'Model'] + config_cols + ['Accuracy']].dropna()\n",
    "\n",
    "model_remove = [f'{our_model_name} [783K]', f'{our_model_name} [1.43M]', f'{our_model_name} [1.09M]']\n",
    "depth_comparison_table = depth_comparison_table[~depth_comparison_table['Model'].isin(model_remove)]\n",
    "\n",
    "# depth_comparison_table['Model'] = pd.Categorical(depth_comparison_table['Model'], model_selection, ordered=True)\n",
    "\n",
    "depth_comparison_table['Parameter Count'] = depth_comparison_table.Model.apply(lambda x: x.split('[')[1][:-1].strip())\n",
    "def parse_param_count(param_ct_str):\n",
    "    number = float(param_ct_str[:-1])\n",
    "    unit = param_ct_str[-1]\n",
    "    unit_map = dict(K=1e3, M=1e6)\n",
    "    return int(number * unit_map[unit])\n",
    "depth_comparison_table['Parameter Count'] = depth_comparison_table['Parameter Count'].apply(parse_param_count).astype(int)\n",
    "\n",
    "\n",
    "depth_comparison_table['Model'] = depth_comparison_table['Model'].apply(lambda x: x.split('[')[0].strip())\n",
    "\n",
    "# depth_comparison_table.groupby(['Task', 'Model']).aggregate(['mean', 'sem'])\n",
    "depth_comparison_table = depth_comparison_table.groupby(['Task', 'Model', 'Parameter Count'] + config_cols).aggregate(['mean', 'sem', 'count'])\n",
    "depth_comparison_table[[('Accuracy', 'mean'), ('Accuracy', 'sem')]] = depth_comparison_table[[('Accuracy', 'mean'), ('Accuracy', 'sem')]] * 100 # convert to percentage\n",
    "depth_comparison_table = depth_comparison_table.dropna()\n",
    "depth_comparison_table = depth_comparison_table.reset_index()\n",
    "depth_comparison_table.columns = [''.join(col).strip() for col in depth_comparison_table.columns]"
   ]
  },
  {
   "cell_type": "code",
   "execution_count": 24,
   "metadata": {},
   "outputs": [
    {
     "name": "stdout",
     "output_type": "stream",
     "text": [
      "['$\\\\textit{DAT}$' '$\\\\mathrm{Transformer}$']\n"
     ]
    },
    {
     "data": {
      "text/html": [
       "<div>\n",
       "<style scoped>\n",
       "    .dataframe tbody tr th:only-of-type {\n",
       "        vertical-align: middle;\n",
       "    }\n",
       "\n",
       "    .dataframe tbody tr th {\n",
       "        vertical-align: top;\n",
       "    }\n",
       "\n",
       "    .dataframe thead th {\n",
       "        text-align: right;\n",
       "    }\n",
       "</style>\n",
       "<table border=\"1\" class=\"dataframe\">\n",
       "  <thead>\n",
       "    <tr style=\"text-align: right;\">\n",
       "      <th></th>\n",
       "      <th>Task</th>\n",
       "      <th>Model</th>\n",
       "      <th>Parameter Count</th>\n",
       "      <th>mean</th>\n",
       "      <th>sem</th>\n",
       "      <th>count</th>\n",
       "    </tr>\n",
       "  </thead>\n",
       "  <tbody>\n",
       "    <tr>\n",
       "      <th>0</th>\n",
       "      <td>$\\mathtt{algebra\\_\\_linear\\_1d}$</td>\n",
       "      <td>$\\mathrm{Transformer}$</td>\n",
       "      <td>692000</td>\n",
       "      <td>0.624775</td>\n",
       "      <td>1.141305e-02</td>\n",
       "      <td>4</td>\n",
       "    </tr>\n",
       "    <tr>\n",
       "      <th>1</th>\n",
       "      <td>$\\mathtt{algebra\\_\\_linear\\_1d}$</td>\n",
       "      <td>$\\mathrm{Transformer}$</td>\n",
       "      <td>871000</td>\n",
       "      <td>0.639930</td>\n",
       "      <td>1.471048e-02</td>\n",
       "      <td>5</td>\n",
       "    </tr>\n",
       "    <tr>\n",
       "      <th>2</th>\n",
       "      <td>$\\mathtt{algebra\\_\\_linear\\_1d}$</td>\n",
       "      <td>$\\mathrm{Transformer}$</td>\n",
       "      <td>1300000</td>\n",
       "      <td>0.569788</td>\n",
       "      <td>2.300507e-02</td>\n",
       "      <td>6</td>\n",
       "    </tr>\n",
       "    <tr>\n",
       "      <th>3</th>\n",
       "      <td>$\\mathtt{algebra\\_\\_linear\\_1d}$</td>\n",
       "      <td>$\\mathrm{Transformer}$</td>\n",
       "      <td>1700000</td>\n",
       "      <td>0.532451</td>\n",
       "      <td>1.065810e-02</td>\n",
       "      <td>6</td>\n",
       "    </tr>\n",
       "    <tr>\n",
       "      <th>4</th>\n",
       "      <td>$\\mathtt{algebra\\_\\_linear\\_1d}$</td>\n",
       "      <td>$\\textit{DAT}$</td>\n",
       "      <td>832000</td>\n",
       "      <td>0.663310</td>\n",
       "      <td>1.651395e-02</td>\n",
       "      <td>7</td>\n",
       "    </tr>\n",
       "    <tr>\n",
       "      <th>5</th>\n",
       "      <td>$\\mathtt{algebra\\_\\_linear\\_1d}$</td>\n",
       "      <td>$\\textit{DAT}$</td>\n",
       "      <td>1110000</td>\n",
       "      <td>0.762244</td>\n",
       "      <td>3.537042e-02</td>\n",
       "      <td>4</td>\n",
       "    </tr>\n",
       "    <tr>\n",
       "      <th>6</th>\n",
       "      <td>$\\mathtt{algebra\\_\\_linear\\_1d}$</td>\n",
       "      <td>$\\textit{DAT}$</td>\n",
       "      <td>1460000</td>\n",
       "      <td>0.753228</td>\n",
       "      <td>5.024529e-02</td>\n",
       "      <td>4</td>\n",
       "    </tr>\n",
       "    <tr>\n",
       "      <th>7</th>\n",
       "      <td>$\\mathtt{algebra\\_\\_sequence\\_next\\_term}$</td>\n",
       "      <td>$\\mathrm{Transformer}$</td>\n",
       "      <td>692000</td>\n",
       "      <td>0.910546</td>\n",
       "      <td>2.026369e-03</td>\n",
       "      <td>4</td>\n",
       "    </tr>\n",
       "    <tr>\n",
       "      <th>8</th>\n",
       "      <td>$\\mathtt{algebra\\_\\_sequence\\_next\\_term}$</td>\n",
       "      <td>$\\mathrm{Transformer}$</td>\n",
       "      <td>871000</td>\n",
       "      <td>0.914477</td>\n",
       "      <td>2.424640e-03</td>\n",
       "      <td>5</td>\n",
       "    </tr>\n",
       "    <tr>\n",
       "      <th>9</th>\n",
       "      <td>$\\mathtt{algebra\\_\\_sequence\\_next\\_term}$</td>\n",
       "      <td>$\\mathrm{Transformer}$</td>\n",
       "      <td>1300000</td>\n",
       "      <td>0.960990</td>\n",
       "      <td>5.069484e-03</td>\n",
       "      <td>8</td>\n",
       "    </tr>\n",
       "    <tr>\n",
       "      <th>10</th>\n",
       "      <td>$\\mathtt{algebra\\_\\_sequence\\_next\\_term}$</td>\n",
       "      <td>$\\mathrm{Transformer}$</td>\n",
       "      <td>1700000</td>\n",
       "      <td>0.933706</td>\n",
       "      <td>2.011277e-02</td>\n",
       "      <td>8</td>\n",
       "    </tr>\n",
       "    <tr>\n",
       "      <th>11</th>\n",
       "      <td>$\\mathtt{algebra\\_\\_sequence\\_next\\_term}$</td>\n",
       "      <td>$\\textit{DAT}$</td>\n",
       "      <td>832000</td>\n",
       "      <td>0.921168</td>\n",
       "      <td>4.413040e-03</td>\n",
       "      <td>6</td>\n",
       "    </tr>\n",
       "    <tr>\n",
       "      <th>12</th>\n",
       "      <td>$\\mathtt{algebra\\_\\_sequence\\_next\\_term}$</td>\n",
       "      <td>$\\textit{DAT}$</td>\n",
       "      <td>1110000</td>\n",
       "      <td>0.976419</td>\n",
       "      <td>4.310642e-03</td>\n",
       "      <td>5</td>\n",
       "    </tr>\n",
       "    <tr>\n",
       "      <th>13</th>\n",
       "      <td>$\\mathtt{algebra\\_\\_sequence\\_next\\_term}$</td>\n",
       "      <td>$\\textit{DAT}$</td>\n",
       "      <td>1460000</td>\n",
       "      <td>0.987745</td>\n",
       "      <td>2.791196e-03</td>\n",
       "      <td>2</td>\n",
       "    </tr>\n",
       "    <tr>\n",
       "      <th>14</th>\n",
       "      <td>$\\mathtt{calculus\\_\\_differentiate}$</td>\n",
       "      <td>$\\mathrm{Transformer}$</td>\n",
       "      <td>692000</td>\n",
       "      <td>0.998872</td>\n",
       "      <td>2.757009e-04</td>\n",
       "      <td>4</td>\n",
       "    </tr>\n",
       "    <tr>\n",
       "      <th>15</th>\n",
       "      <td>$\\mathtt{calculus\\_\\_differentiate}$</td>\n",
       "      <td>$\\mathrm{Transformer}$</td>\n",
       "      <td>871000</td>\n",
       "      <td>0.998837</td>\n",
       "      <td>1.499245e-04</td>\n",
       "      <td>5</td>\n",
       "    </tr>\n",
       "    <tr>\n",
       "      <th>16</th>\n",
       "      <td>$\\mathtt{calculus\\_\\_differentiate}$</td>\n",
       "      <td>$\\mathrm{Transformer}$</td>\n",
       "      <td>1300000</td>\n",
       "      <td>0.999126</td>\n",
       "      <td>1.923266e-04</td>\n",
       "      <td>8</td>\n",
       "    </tr>\n",
       "    <tr>\n",
       "      <th>17</th>\n",
       "      <td>$\\mathtt{calculus\\_\\_differentiate}$</td>\n",
       "      <td>$\\mathrm{Transformer}$</td>\n",
       "      <td>1700000</td>\n",
       "      <td>0.998840</td>\n",
       "      <td>4.152842e-04</td>\n",
       "      <td>8</td>\n",
       "    </tr>\n",
       "    <tr>\n",
       "      <th>18</th>\n",
       "      <td>$\\mathtt{calculus\\_\\_differentiate}$</td>\n",
       "      <td>$\\textit{DAT}$</td>\n",
       "      <td>832000</td>\n",
       "      <td>0.999915</td>\n",
       "      <td>9.010988e-06</td>\n",
       "      <td>8</td>\n",
       "    </tr>\n",
       "    <tr>\n",
       "      <th>19</th>\n",
       "      <td>$\\mathtt{calculus\\_\\_differentiate}$</td>\n",
       "      <td>$\\textit{DAT}$</td>\n",
       "      <td>1110000</td>\n",
       "      <td>0.999998</td>\n",
       "      <td>1.765926e-07</td>\n",
       "      <td>3</td>\n",
       "    </tr>\n",
       "    <tr>\n",
       "      <th>20</th>\n",
       "      <td>$\\mathtt{calculus\\_\\_differentiate}$</td>\n",
       "      <td>$\\textit{DAT}$</td>\n",
       "      <td>1460000</td>\n",
       "      <td>0.999999</td>\n",
       "      <td>4.221703e-07</td>\n",
       "      <td>4</td>\n",
       "    </tr>\n",
       "    <tr>\n",
       "      <th>21</th>\n",
       "      <td>$\\mathtt{polynomials\\_\\_add}$</td>\n",
       "      <td>$\\mathrm{Transformer}$</td>\n",
       "      <td>692000</td>\n",
       "      <td>0.832732</td>\n",
       "      <td>5.148533e-04</td>\n",
       "      <td>4</td>\n",
       "    </tr>\n",
       "    <tr>\n",
       "      <th>22</th>\n",
       "      <td>$\\mathtt{polynomials\\_\\_add}$</td>\n",
       "      <td>$\\mathrm{Transformer}$</td>\n",
       "      <td>871000</td>\n",
       "      <td>0.844630</td>\n",
       "      <td>2.725614e-03</td>\n",
       "      <td>5</td>\n",
       "    </tr>\n",
       "    <tr>\n",
       "      <th>23</th>\n",
       "      <td>$\\mathtt{polynomials\\_\\_add}$</td>\n",
       "      <td>$\\mathrm{Transformer}$</td>\n",
       "      <td>1300000</td>\n",
       "      <td>0.864324</td>\n",
       "      <td>2.743941e-03</td>\n",
       "      <td>8</td>\n",
       "    </tr>\n",
       "    <tr>\n",
       "      <th>24</th>\n",
       "      <td>$\\mathtt{polynomials\\_\\_add}$</td>\n",
       "      <td>$\\mathrm{Transformer}$</td>\n",
       "      <td>1700000</td>\n",
       "      <td>0.875642</td>\n",
       "      <td>2.434589e-03</td>\n",
       "      <td>8</td>\n",
       "    </tr>\n",
       "    <tr>\n",
       "      <th>25</th>\n",
       "      <td>$\\mathtt{polynomials\\_\\_add}$</td>\n",
       "      <td>$\\textit{DAT}$</td>\n",
       "      <td>832000</td>\n",
       "      <td>0.858919</td>\n",
       "      <td>5.502036e-04</td>\n",
       "      <td>7</td>\n",
       "    </tr>\n",
       "    <tr>\n",
       "      <th>26</th>\n",
       "      <td>$\\mathtt{polynomials\\_\\_add}$</td>\n",
       "      <td>$\\textit{DAT}$</td>\n",
       "      <td>1110000</td>\n",
       "      <td>0.878943</td>\n",
       "      <td>1.794164e-04</td>\n",
       "      <td>5</td>\n",
       "    </tr>\n",
       "    <tr>\n",
       "      <th>27</th>\n",
       "      <td>$\\mathtt{polynomials\\_\\_add}$</td>\n",
       "      <td>$\\textit{DAT}$</td>\n",
       "      <td>1460000</td>\n",
       "      <td>0.886945</td>\n",
       "      <td>4.607166e-04</td>\n",
       "      <td>4</td>\n",
       "    </tr>\n",
       "    <tr>\n",
       "      <th>28</th>\n",
       "      <td>$\\mathtt{polynomials\\_\\_expand}$</td>\n",
       "      <td>$\\mathrm{Transformer}$</td>\n",
       "      <td>692000</td>\n",
       "      <td>0.740311</td>\n",
       "      <td>6.966622e-03</td>\n",
       "      <td>4</td>\n",
       "    </tr>\n",
       "    <tr>\n",
       "      <th>29</th>\n",
       "      <td>$\\mathtt{polynomials\\_\\_expand}$</td>\n",
       "      <td>$\\mathrm{Transformer}$</td>\n",
       "      <td>871000</td>\n",
       "      <td>0.740651</td>\n",
       "      <td>6.060357e-03</td>\n",
       "      <td>5</td>\n",
       "    </tr>\n",
       "    <tr>\n",
       "      <th>30</th>\n",
       "      <td>$\\mathtt{polynomials\\_\\_expand}$</td>\n",
       "      <td>$\\mathrm{Transformer}$</td>\n",
       "      <td>1300000</td>\n",
       "      <td>0.809547</td>\n",
       "      <td>1.182173e-02</td>\n",
       "      <td>8</td>\n",
       "    </tr>\n",
       "    <tr>\n",
       "      <th>31</th>\n",
       "      <td>$\\mathtt{polynomials\\_\\_expand}$</td>\n",
       "      <td>$\\mathrm{Transformer}$</td>\n",
       "      <td>1700000</td>\n",
       "      <td>0.892141</td>\n",
       "      <td>5.137899e-03</td>\n",
       "      <td>8</td>\n",
       "    </tr>\n",
       "    <tr>\n",
       "      <th>32</th>\n",
       "      <td>$\\mathtt{polynomials\\_\\_expand}$</td>\n",
       "      <td>$\\textit{DAT}$</td>\n",
       "      <td>832000</td>\n",
       "      <td>0.779421</td>\n",
       "      <td>1.207222e-03</td>\n",
       "      <td>7</td>\n",
       "    </tr>\n",
       "    <tr>\n",
       "      <th>33</th>\n",
       "      <td>$\\mathtt{polynomials\\_\\_expand}$</td>\n",
       "      <td>$\\textit{DAT}$</td>\n",
       "      <td>1110000</td>\n",
       "      <td>0.869087</td>\n",
       "      <td>9.582807e-03</td>\n",
       "      <td>4</td>\n",
       "    </tr>\n",
       "    <tr>\n",
       "      <th>34</th>\n",
       "      <td>$\\mathtt{polynomials\\_\\_expand}$</td>\n",
       "      <td>$\\textit{DAT}$</td>\n",
       "      <td>1460000</td>\n",
       "      <td>0.901355</td>\n",
       "      <td>2.464911e-02</td>\n",
       "      <td>2</td>\n",
       "    </tr>\n",
       "  </tbody>\n",
       "</table>\n",
       "</div>"
      ],
      "text/plain": [
       "                                          Task                   Model  \\\n",
       "0             $\\mathtt{algebra\\_\\_linear\\_1d}$  $\\mathrm{Transformer}$   \n",
       "1             $\\mathtt{algebra\\_\\_linear\\_1d}$  $\\mathrm{Transformer}$   \n",
       "2             $\\mathtt{algebra\\_\\_linear\\_1d}$  $\\mathrm{Transformer}$   \n",
       "3             $\\mathtt{algebra\\_\\_linear\\_1d}$  $\\mathrm{Transformer}$   \n",
       "4             $\\mathtt{algebra\\_\\_linear\\_1d}$          $\\textit{DAT}$   \n",
       "5             $\\mathtt{algebra\\_\\_linear\\_1d}$          $\\textit{DAT}$   \n",
       "6             $\\mathtt{algebra\\_\\_linear\\_1d}$          $\\textit{DAT}$   \n",
       "7   $\\mathtt{algebra\\_\\_sequence\\_next\\_term}$  $\\mathrm{Transformer}$   \n",
       "8   $\\mathtt{algebra\\_\\_sequence\\_next\\_term}$  $\\mathrm{Transformer}$   \n",
       "9   $\\mathtt{algebra\\_\\_sequence\\_next\\_term}$  $\\mathrm{Transformer}$   \n",
       "10  $\\mathtt{algebra\\_\\_sequence\\_next\\_term}$  $\\mathrm{Transformer}$   \n",
       "11  $\\mathtt{algebra\\_\\_sequence\\_next\\_term}$          $\\textit{DAT}$   \n",
       "12  $\\mathtt{algebra\\_\\_sequence\\_next\\_term}$          $\\textit{DAT}$   \n",
       "13  $\\mathtt{algebra\\_\\_sequence\\_next\\_term}$          $\\textit{DAT}$   \n",
       "14        $\\mathtt{calculus\\_\\_differentiate}$  $\\mathrm{Transformer}$   \n",
       "15        $\\mathtt{calculus\\_\\_differentiate}$  $\\mathrm{Transformer}$   \n",
       "16        $\\mathtt{calculus\\_\\_differentiate}$  $\\mathrm{Transformer}$   \n",
       "17        $\\mathtt{calculus\\_\\_differentiate}$  $\\mathrm{Transformer}$   \n",
       "18        $\\mathtt{calculus\\_\\_differentiate}$          $\\textit{DAT}$   \n",
       "19        $\\mathtt{calculus\\_\\_differentiate}$          $\\textit{DAT}$   \n",
       "20        $\\mathtt{calculus\\_\\_differentiate}$          $\\textit{DAT}$   \n",
       "21               $\\mathtt{polynomials\\_\\_add}$  $\\mathrm{Transformer}$   \n",
       "22               $\\mathtt{polynomials\\_\\_add}$  $\\mathrm{Transformer}$   \n",
       "23               $\\mathtt{polynomials\\_\\_add}$  $\\mathrm{Transformer}$   \n",
       "24               $\\mathtt{polynomials\\_\\_add}$  $\\mathrm{Transformer}$   \n",
       "25               $\\mathtt{polynomials\\_\\_add}$          $\\textit{DAT}$   \n",
       "26               $\\mathtt{polynomials\\_\\_add}$          $\\textit{DAT}$   \n",
       "27               $\\mathtt{polynomials\\_\\_add}$          $\\textit{DAT}$   \n",
       "28            $\\mathtt{polynomials\\_\\_expand}$  $\\mathrm{Transformer}$   \n",
       "29            $\\mathtt{polynomials\\_\\_expand}$  $\\mathrm{Transformer}$   \n",
       "30            $\\mathtt{polynomials\\_\\_expand}$  $\\mathrm{Transformer}$   \n",
       "31            $\\mathtt{polynomials\\_\\_expand}$  $\\mathrm{Transformer}$   \n",
       "32            $\\mathtt{polynomials\\_\\_expand}$          $\\textit{DAT}$   \n",
       "33            $\\mathtt{polynomials\\_\\_expand}$          $\\textit{DAT}$   \n",
       "34            $\\mathtt{polynomials\\_\\_expand}$          $\\textit{DAT}$   \n",
       "\n",
       "    Parameter Count      mean           sem  count  \n",
       "0            692000  0.624775  1.141305e-02      4  \n",
       "1            871000  0.639930  1.471048e-02      5  \n",
       "2           1300000  0.569788  2.300507e-02      6  \n",
       "3           1700000  0.532451  1.065810e-02      6  \n",
       "4            832000  0.663310  1.651395e-02      7  \n",
       "5           1110000  0.762244  3.537042e-02      4  \n",
       "6           1460000  0.753228  5.024529e-02      4  \n",
       "7            692000  0.910546  2.026369e-03      4  \n",
       "8            871000  0.914477  2.424640e-03      5  \n",
       "9           1300000  0.960990  5.069484e-03      8  \n",
       "10          1700000  0.933706  2.011277e-02      8  \n",
       "11           832000  0.921168  4.413040e-03      6  \n",
       "12          1110000  0.976419  4.310642e-03      5  \n",
       "13          1460000  0.987745  2.791196e-03      2  \n",
       "14           692000  0.998872  2.757009e-04      4  \n",
       "15           871000  0.998837  1.499245e-04      5  \n",
       "16          1300000  0.999126  1.923266e-04      8  \n",
       "17          1700000  0.998840  4.152842e-04      8  \n",
       "18           832000  0.999915  9.010988e-06      8  \n",
       "19          1110000  0.999998  1.765926e-07      3  \n",
       "20          1460000  0.999999  4.221703e-07      4  \n",
       "21           692000  0.832732  5.148533e-04      4  \n",
       "22           871000  0.844630  2.725614e-03      5  \n",
       "23          1300000  0.864324  2.743941e-03      8  \n",
       "24          1700000  0.875642  2.434589e-03      8  \n",
       "25           832000  0.858919  5.502036e-04      7  \n",
       "26          1110000  0.878943  1.794164e-04      5  \n",
       "27          1460000  0.886945  4.607166e-04      4  \n",
       "28           692000  0.740311  6.966622e-03      4  \n",
       "29           871000  0.740651  6.060357e-03      5  \n",
       "30          1300000  0.809547  1.182173e-02      8  \n",
       "31          1700000  0.892141  5.137899e-03      8  \n",
       "32           832000  0.779421  1.207222e-03      7  \n",
       "33          1110000  0.869087  9.582807e-03      4  \n",
       "34          1460000  0.901355  2.464911e-02      2  "
      ]
     },
     "execution_count": 24,
     "metadata": {},
     "output_type": "execute_result"
    }
   ],
   "source": [
    "# figure_data['# Layers'] = figure_data['n_layers_dec']\n",
    "depth_comparison_table = figure_data[figure_data.Epoch == figure_data.Epoch.max()][['Task', 'Model', 'Accuracy']].dropna()\n",
    "# depth_comparison_table['Model'] = pd.Categorical(depth_comparison_table['Model'], model_selection, ordered=True)\n",
    "\n",
    "# keepe only DAT models with E=4/4, D=4/4 not E=4/4, D=8/0\n",
    "# model_remove = [f'{our_model_name} [783K]', f'{our_model_name} [1.43M]', f'{our_model_name} [1.09M]']\n",
    "# depth_comparison_table = depth_comparison_table[~depth_comparison_table['Model'].isin(model_remove)]\n",
    "\n",
    "depth_comparison_table['Parameter Count'] = depth_comparison_table.Model.apply(lambda x: x.split('[')[1][:-1].strip())\n",
    "def parse_param_count(param_ct_str):\n",
    "    number = float(param_ct_str[:-1])\n",
    "    unit = param_ct_str[-1]\n",
    "    unit_map = dict(K=1e3, M=1e6)\n",
    "    return int(number * unit_map[unit])\n",
    "depth_comparison_table['Parameter Count'] = depth_comparison_table['Parameter Count'].apply(parse_param_count).astype(int)\n",
    "\n",
    "model_remove = [f'{our_model_name} [783K]', f'{our_model_name} [1.43M]', f'{our_model_name} [1.09M]']\n",
    "depth_comparison_table = depth_comparison_table[~depth_comparison_table['Model'].isin(model_remove)]\n",
    "\n",
    "depth_comparison_table['Model'] = depth_comparison_table['Model'].apply(lambda x: x.split('[')[0].strip())\n",
    "print(depth_comparison_table.Model.unique())\n",
    "agg_depth_comparison_table = depth_comparison_table.groupby(['Task', 'Model', 'Parameter Count'])['Accuracy'].aggregate(\n",
    "    ['mean', 'sem', 'count']).dropna().reset_index()\n",
    "agg_depth_comparison_table.sort_values(by=['Task', 'Model', 'Parameter Count'], inplace=True)\n",
    "agg_depth_comparison_table"
   ]
  },
  {
   "cell_type": "code",
   "execution_count": 25,
   "metadata": {},
   "outputs": [],
   "source": [
    "cmap_ = sns.color_palette('muted')\n",
    "cmap = lambda x: (*cmap_[x], 1)"
   ]
  },
  {
   "cell_type": "code",
   "execution_count": 26,
   "metadata": {},
   "outputs": [
    {
     "data": {
      "application/vnd.plotly.v1+json": {
       "config": {
        "plotlyServerURL": "https://plot.ly"
       },
       "data": [
        {
         "customdata": [
          [
           4
          ],
          [
           5
          ],
          [
           6
          ],
          [
           6
          ]
         ],
         "error_y": {
          "array": [
           0.011413051633684923,
           0.014710475026405875,
           0.02300506510235838,
           0.010658096172535958
          ]
         },
         "hovertemplate": "Model=$\\mathrm{Transformer}$<br>Task=$\\mathtt{algebra\\_\\_linear\\_1d}$<br>Parameter Count=%{x}<br>mean=%{y}<br>count=%{customdata[0]}<extra></extra>",
         "legendgroup": "$\\mathrm{Transformer}$",
         "line": {
          "color": "rgb(214, 95, 95)",
          "dash": "solid"
         },
         "marker": {
          "symbol": "circle"
         },
         "mode": "lines",
         "name": "$\\mathrm{Transformer}$",
         "orientation": "v",
         "showlegend": true,
         "type": "scatter",
         "x": [
          692000,
          871000,
          1300000,
          1700000
         ],
         "xaxis": "x4",
         "y": [
          0.6247753500938416,
          0.6399300694465637,
          0.5697876662015915,
          0.53245081504186
         ],
         "yaxis": "y4"
        },
        {
         "customdata": [
          [
           4
          ],
          [
           5
          ],
          [
           8
          ],
          [
           8
          ]
         ],
         "error_y": {
          "array": [
           0.002026369245449504,
           0.0024246398242948187,
           0.005069483629117103,
           0.02011277248256298
          ]
         },
         "hovertemplate": "Model=$\\mathrm{Transformer}$<br>Task=$\\mathtt{algebra\\_\\_sequence\\_next\\_term}$<br>Parameter Count=%{x}<br>mean=%{y}<br>count=%{customdata[0]}<extra></extra>",
         "legendgroup": "$\\mathrm{Transformer}$",
         "line": {
          "color": "rgb(214, 95, 95)",
          "dash": "solid"
         },
         "marker": {
          "symbol": "circle"
         },
         "mode": "lines",
         "name": "$\\mathrm{Transformer}$",
         "orientation": "v",
         "showlegend": false,
         "type": "scatter",
         "x": [
          692000,
          871000,
          1300000,
          1700000
         ],
         "xaxis": "x5",
         "y": [
          0.9105456471443176,
          0.9144765377044678,
          0.9609899744391441,
          0.9337056875228882
         ],
         "yaxis": "y5"
        },
        {
         "customdata": [
          [
           4
          ],
          [
           5
          ],
          [
           8
          ],
          [
           8
          ]
         ],
         "error_y": {
          "array": [
           0.0002757009235975849,
           0.00014992450577906724,
           0.00019232664244296063,
           0.0004152842273161705
          ]
         },
         "hovertemplate": "Model=$\\mathrm{Transformer}$<br>Task=$\\mathtt{calculus\\_\\_differentiate}$<br>Parameter Count=%{x}<br>mean=%{y}<br>count=%{customdata[0]}<extra></extra>",
         "legendgroup": "$\\mathrm{Transformer}$",
         "line": {
          "color": "rgb(214, 95, 95)",
          "dash": "solid"
         },
         "marker": {
          "symbol": "circle"
         },
         "mode": "lines",
         "name": "$\\mathrm{Transformer}$",
         "orientation": "v",
         "showlegend": false,
         "type": "scatter",
         "x": [
          692000,
          871000,
          1300000,
          1700000
         ],
         "xaxis": "x6",
         "y": [
          0.9988716542720795,
          0.9988373875617981,
          0.9991255030035973,
          0.9988399893045425
         ],
         "yaxis": "y6"
        },
        {
         "customdata": [
          [
           4
          ],
          [
           5
          ],
          [
           8
          ],
          [
           8
          ]
         ],
         "error_y": {
          "array": [
           0.000514853320050759,
           0.002725613702443125,
           0.002743940739182514,
           0.002434589467679521
          ]
         },
         "hovertemplate": "Model=$\\mathrm{Transformer}$<br>Task=$\\mathtt{polynomials\\_\\_add}$<br>Parameter Count=%{x}<br>mean=%{y}<br>count=%{customdata[0]}<extra></extra>",
         "legendgroup": "$\\mathrm{Transformer}$",
         "line": {
          "color": "rgb(214, 95, 95)",
          "dash": "solid"
         },
         "marker": {
          "symbol": "circle"
         },
         "mode": "lines",
         "name": "$\\mathrm{Transformer}$",
         "orientation": "v",
         "showlegend": false,
         "type": "scatter",
         "x": [
          692000,
          871000,
          1300000,
          1700000
         ],
         "xaxis": "x",
         "y": [
          0.8327324092388153,
          0.8446304798126221,
          0.8643235713243484,
          0.8756416961550713
         ],
         "yaxis": "y"
        },
        {
         "customdata": [
          [
           4
          ],
          [
           5
          ],
          [
           8
          ],
          [
           8
          ]
         ],
         "error_y": {
          "array": [
           0.006966621981093613,
           0.006060357347203539,
           0.011821725212474774,
           0.005137899295403083
          ]
         },
         "hovertemplate": "Model=$\\mathrm{Transformer}$<br>Task=$\\mathtt{polynomials\\_\\_expand}$<br>Parameter Count=%{x}<br>mean=%{y}<br>count=%{customdata[0]}<extra></extra>",
         "legendgroup": "$\\mathrm{Transformer}$",
         "line": {
          "color": "rgb(214, 95, 95)",
          "dash": "solid"
         },
         "marker": {
          "symbol": "circle"
         },
         "mode": "lines",
         "name": "$\\mathrm{Transformer}$",
         "orientation": "v",
         "showlegend": false,
         "type": "scatter",
         "x": [
          692000,
          871000,
          1300000,
          1700000
         ],
         "xaxis": "x2",
         "y": [
          0.7403112500905991,
          0.740651297569275,
          0.8095467388629913,
          0.8921409845352173
         ],
         "yaxis": "y2"
        },
        {
         "customdata": [
          [
           7
          ],
          [
           4
          ],
          [
           4
          ]
         ],
         "error_y": {
          "array": [
           0.016513949802765476,
           0.03537041788931122,
           0.05024528543528732
          ]
         },
         "hovertemplate": "Model=$\\textit{DAT}$<br>Task=$\\mathtt{algebra\\_\\_linear\\_1d}$<br>Parameter Count=%{x}<br>mean=%{y}<br>count=%{customdata[0]}<extra></extra>",
         "legendgroup": "$\\textit{DAT}$",
         "line": {
          "color": "rgb(72, 120, 208)",
          "dash": "solid"
         },
         "marker": {
          "symbol": "circle"
         },
         "mode": "lines",
         "name": "$\\textit{DAT}$",
         "orientation": "v",
         "showlegend": true,
         "type": "scatter",
         "x": [
          832000,
          1110000,
          1460000
         ],
         "xaxis": "x4",
         "y": [
          0.6633102297782898,
          0.7622441053390503,
          0.7532281428575516
         ],
         "yaxis": "y4"
        },
        {
         "customdata": [
          [
           6
          ],
          [
           5
          ],
          [
           2
          ]
         ],
         "error_y": {
          "array": [
           0.0044130403823508454,
           0.0043106420840620255,
           0.0027911961078643794
          ]
         },
         "hovertemplate": "Model=$\\textit{DAT}$<br>Task=$\\mathtt{algebra\\_\\_sequence\\_next\\_term}$<br>Parameter Count=%{x}<br>mean=%{y}<br>count=%{customdata[0]}<extra></extra>",
         "legendgroup": "$\\textit{DAT}$",
         "line": {
          "color": "rgb(72, 120, 208)",
          "dash": "solid"
         },
         "marker": {
          "symbol": "circle"
         },
         "mode": "lines",
         "name": "$\\textit{DAT}$",
         "orientation": "v",
         "showlegend": false,
         "type": "scatter",
         "x": [
          832000,
          1110000,
          1460000
         ],
         "xaxis": "x5",
         "y": [
          0.9211684763431549,
          0.9764190554618836,
          0.9877452552318572
         ],
         "yaxis": "y5"
        },
        {
         "customdata": [
          [
           8
          ],
          [
           3
          ],
          [
           4
          ]
         ],
         "error_y": {
          "array": [
           0.000009010987604688928,
           1.7659255690878634e-7,
           4.2217034818253366e-7
          ]
         },
         "hovertemplate": "Model=$\\textit{DAT}$<br>Task=$\\mathtt{calculus\\_\\_differentiate}$<br>Parameter Count=%{x}<br>mean=%{y}<br>count=%{customdata[0]}<extra></extra>",
         "legendgroup": "$\\textit{DAT}$",
         "line": {
          "color": "rgb(72, 120, 208)",
          "dash": "solid"
         },
         "marker": {
          "symbol": "circle"
         },
         "mode": "lines",
         "name": "$\\textit{DAT}$",
         "orientation": "v",
         "showlegend": false,
         "type": "scatter",
         "x": [
          832000,
          1110000,
          1460000
         ],
         "xaxis": "x6",
         "y": [
          0.9999149069190025,
          0.9999984701474508,
          0.9999991655349731
         ],
         "yaxis": "y6"
        },
        {
         "customdata": [
          [
           7
          ],
          [
           5
          ],
          [
           4
          ]
         ],
         "error_y": {
          "array": [
           0.0005502035650123913,
           0.0001794164308310568,
           0.00046071659374576394
          ]
         },
         "hovertemplate": "Model=$\\textit{DAT}$<br>Task=$\\mathtt{polynomials\\_\\_add}$<br>Parameter Count=%{x}<br>mean=%{y}<br>count=%{customdata[0]}<extra></extra>",
         "legendgroup": "$\\textit{DAT}$",
         "line": {
          "color": "rgb(72, 120, 208)",
          "dash": "solid"
         },
         "marker": {
          "symbol": "circle"
         },
         "mode": "lines",
         "name": "$\\textit{DAT}$",
         "orientation": "v",
         "showlegend": false,
         "type": "scatter",
         "x": [
          832000,
          1110000,
          1460000
         ],
         "xaxis": "x",
         "y": [
          0.8589186923844474,
          0.8789429903030396,
          0.8869445770978928
         ],
         "yaxis": "y"
        },
        {
         "customdata": [
          [
           7
          ],
          [
           4
          ],
          [
           2
          ]
         ],
         "error_y": {
          "array": [
           0.001207221996098515,
           0.009582807239840887,
           0.024649113416671836
          ]
         },
         "hovertemplate": "Model=$\\textit{DAT}$<br>Task=$\\mathtt{polynomials\\_\\_expand}$<br>Parameter Count=%{x}<br>mean=%{y}<br>count=%{customdata[0]}<extra></extra>",
         "legendgroup": "$\\textit{DAT}$",
         "line": {
          "color": "rgb(72, 120, 208)",
          "dash": "solid"
         },
         "marker": {
          "symbol": "circle"
         },
         "mode": "lines",
         "name": "$\\textit{DAT}$",
         "orientation": "v",
         "showlegend": false,
         "type": "scatter",
         "x": [
          832000,
          1110000,
          1460000
         ],
         "xaxis": "x2",
         "y": [
          0.7794212188039508,
          0.8690868467092514,
          0.9013552963733673
         ],
         "yaxis": "y2"
        }
       ],
       "layout": {
        "annotations": [
         {
          "font": {},
          "showarrow": false,
          "text": "$\\mathtt{polynomials\\_\\_add}$",
          "x": 0.13333333333333333,
          "xanchor": "center",
          "xref": "paper",
          "y": 0.35,
          "yanchor": "bottom",
          "yref": "paper"
         },
         {
          "font": {},
          "showarrow": false,
          "text": "$\\mathtt{polynomials\\_\\_expand}$",
          "x": 0.5,
          "xanchor": "center",
          "xref": "paper",
          "y": 0.35,
          "yanchor": "bottom",
          "yref": "paper"
         },
         {
          "font": {},
          "showarrow": false,
          "text": "$\\mathtt{algebra\\_\\_linear\\_1d}$",
          "x": 0.13333333333333333,
          "xanchor": "center",
          "xref": "paper",
          "y": 0.9999999999999999,
          "yanchor": "bottom",
          "yref": "paper"
         },
         {
          "font": {},
          "showarrow": false,
          "text": "$\\mathtt{algebra\\_\\_sequence\\_next\\_term}$",
          "x": 0.5,
          "xanchor": "center",
          "xref": "paper",
          "y": 0.9999999999999999,
          "yanchor": "bottom",
          "yref": "paper"
         },
         {
          "font": {},
          "showarrow": false,
          "text": "$\\mathtt{calculus\\_\\_differentiate}$",
          "x": 0.8666666666666667,
          "xanchor": "center",
          "xref": "paper",
          "y": 0.9999999999999999,
          "yanchor": "bottom",
          "yref": "paper"
         }
        ],
        "legend": {
         "orientation": "v",
         "title": {
          "side": "top",
          "text": "Model"
         },
         "tracegroupgap": 0,
         "x": 0.85,
         "xanchor": "center",
         "y": 0.25,
         "yanchor": "top"
        },
        "template": {
         "data": {
          "bar": [
           {
            "error_x": {
             "color": "#2a3f5f"
            },
            "error_y": {
             "color": "#2a3f5f"
            },
            "marker": {
             "line": {
              "color": "white",
              "width": 0.5
             },
             "pattern": {
              "fillmode": "overlay",
              "size": 10,
              "solidity": 0.2
             }
            },
            "type": "bar"
           }
          ],
          "barpolar": [
           {
            "marker": {
             "line": {
              "color": "white",
              "width": 0.5
             },
             "pattern": {
              "fillmode": "overlay",
              "size": 10,
              "solidity": 0.2
             }
            },
            "type": "barpolar"
           }
          ],
          "carpet": [
           {
            "aaxis": {
             "endlinecolor": "#2a3f5f",
             "gridcolor": "#C8D4E3",
             "linecolor": "#C8D4E3",
             "minorgridcolor": "#C8D4E3",
             "startlinecolor": "#2a3f5f"
            },
            "baxis": {
             "endlinecolor": "#2a3f5f",
             "gridcolor": "#C8D4E3",
             "linecolor": "#C8D4E3",
             "minorgridcolor": "#C8D4E3",
             "startlinecolor": "#2a3f5f"
            },
            "type": "carpet"
           }
          ],
          "choropleth": [
           {
            "colorbar": {
             "outlinewidth": 0,
             "ticks": ""
            },
            "type": "choropleth"
           }
          ],
          "contour": [
           {
            "colorbar": {
             "outlinewidth": 0,
             "ticks": ""
            },
            "colorscale": [
             [
              0,
              "#0d0887"
             ],
             [
              0.1111111111111111,
              "#46039f"
             ],
             [
              0.2222222222222222,
              "#7201a8"
             ],
             [
              0.3333333333333333,
              "#9c179e"
             ],
             [
              0.4444444444444444,
              "#bd3786"
             ],
             [
              0.5555555555555556,
              "#d8576b"
             ],
             [
              0.6666666666666666,
              "#ed7953"
             ],
             [
              0.7777777777777778,
              "#fb9f3a"
             ],
             [
              0.8888888888888888,
              "#fdca26"
             ],
             [
              1,
              "#f0f921"
             ]
            ],
            "type": "contour"
           }
          ],
          "contourcarpet": [
           {
            "colorbar": {
             "outlinewidth": 0,
             "ticks": ""
            },
            "type": "contourcarpet"
           }
          ],
          "heatmap": [
           {
            "colorbar": {
             "outlinewidth": 0,
             "ticks": ""
            },
            "colorscale": [
             [
              0,
              "#0d0887"
             ],
             [
              0.1111111111111111,
              "#46039f"
             ],
             [
              0.2222222222222222,
              "#7201a8"
             ],
             [
              0.3333333333333333,
              "#9c179e"
             ],
             [
              0.4444444444444444,
              "#bd3786"
             ],
             [
              0.5555555555555556,
              "#d8576b"
             ],
             [
              0.6666666666666666,
              "#ed7953"
             ],
             [
              0.7777777777777778,
              "#fb9f3a"
             ],
             [
              0.8888888888888888,
              "#fdca26"
             ],
             [
              1,
              "#f0f921"
             ]
            ],
            "type": "heatmap"
           }
          ],
          "heatmapgl": [
           {
            "colorbar": {
             "outlinewidth": 0,
             "ticks": ""
            },
            "colorscale": [
             [
              0,
              "#0d0887"
             ],
             [
              0.1111111111111111,
              "#46039f"
             ],
             [
              0.2222222222222222,
              "#7201a8"
             ],
             [
              0.3333333333333333,
              "#9c179e"
             ],
             [
              0.4444444444444444,
              "#bd3786"
             ],
             [
              0.5555555555555556,
              "#d8576b"
             ],
             [
              0.6666666666666666,
              "#ed7953"
             ],
             [
              0.7777777777777778,
              "#fb9f3a"
             ],
             [
              0.8888888888888888,
              "#fdca26"
             ],
             [
              1,
              "#f0f921"
             ]
            ],
            "type": "heatmapgl"
           }
          ],
          "histogram": [
           {
            "marker": {
             "pattern": {
              "fillmode": "overlay",
              "size": 10,
              "solidity": 0.2
             }
            },
            "type": "histogram"
           }
          ],
          "histogram2d": [
           {
            "colorbar": {
             "outlinewidth": 0,
             "ticks": ""
            },
            "colorscale": [
             [
              0,
              "#0d0887"
             ],
             [
              0.1111111111111111,
              "#46039f"
             ],
             [
              0.2222222222222222,
              "#7201a8"
             ],
             [
              0.3333333333333333,
              "#9c179e"
             ],
             [
              0.4444444444444444,
              "#bd3786"
             ],
             [
              0.5555555555555556,
              "#d8576b"
             ],
             [
              0.6666666666666666,
              "#ed7953"
             ],
             [
              0.7777777777777778,
              "#fb9f3a"
             ],
             [
              0.8888888888888888,
              "#fdca26"
             ],
             [
              1,
              "#f0f921"
             ]
            ],
            "type": "histogram2d"
           }
          ],
          "histogram2dcontour": [
           {
            "colorbar": {
             "outlinewidth": 0,
             "ticks": ""
            },
            "colorscale": [
             [
              0,
              "#0d0887"
             ],
             [
              0.1111111111111111,
              "#46039f"
             ],
             [
              0.2222222222222222,
              "#7201a8"
             ],
             [
              0.3333333333333333,
              "#9c179e"
             ],
             [
              0.4444444444444444,
              "#bd3786"
             ],
             [
              0.5555555555555556,
              "#d8576b"
             ],
             [
              0.6666666666666666,
              "#ed7953"
             ],
             [
              0.7777777777777778,
              "#fb9f3a"
             ],
             [
              0.8888888888888888,
              "#fdca26"
             ],
             [
              1,
              "#f0f921"
             ]
            ],
            "type": "histogram2dcontour"
           }
          ],
          "mesh3d": [
           {
            "colorbar": {
             "outlinewidth": 0,
             "ticks": ""
            },
            "type": "mesh3d"
           }
          ],
          "parcoords": [
           {
            "line": {
             "colorbar": {
              "outlinewidth": 0,
              "ticks": ""
             }
            },
            "type": "parcoords"
           }
          ],
          "pie": [
           {
            "automargin": true,
            "type": "pie"
           }
          ],
          "scatter": [
           {
            "fillpattern": {
             "fillmode": "overlay",
             "size": 10,
             "solidity": 0.2
            },
            "type": "scatter"
           }
          ],
          "scatter3d": [
           {
            "line": {
             "colorbar": {
              "outlinewidth": 0,
              "ticks": ""
             }
            },
            "marker": {
             "colorbar": {
              "outlinewidth": 0,
              "ticks": ""
             }
            },
            "type": "scatter3d"
           }
          ],
          "scattercarpet": [
           {
            "marker": {
             "colorbar": {
              "outlinewidth": 0,
              "ticks": ""
             }
            },
            "type": "scattercarpet"
           }
          ],
          "scattergeo": [
           {
            "marker": {
             "colorbar": {
              "outlinewidth": 0,
              "ticks": ""
             }
            },
            "type": "scattergeo"
           }
          ],
          "scattergl": [
           {
            "marker": {
             "colorbar": {
              "outlinewidth": 0,
              "ticks": ""
             }
            },
            "type": "scattergl"
           }
          ],
          "scattermapbox": [
           {
            "marker": {
             "colorbar": {
              "outlinewidth": 0,
              "ticks": ""
             }
            },
            "type": "scattermapbox"
           }
          ],
          "scatterpolar": [
           {
            "marker": {
             "colorbar": {
              "outlinewidth": 0,
              "ticks": ""
             }
            },
            "type": "scatterpolar"
           }
          ],
          "scatterpolargl": [
           {
            "marker": {
             "colorbar": {
              "outlinewidth": 0,
              "ticks": ""
             }
            },
            "type": "scatterpolargl"
           }
          ],
          "scatterternary": [
           {
            "marker": {
             "colorbar": {
              "outlinewidth": 0,
              "ticks": ""
             }
            },
            "type": "scatterternary"
           }
          ],
          "surface": [
           {
            "colorbar": {
             "outlinewidth": 0,
             "ticks": ""
            },
            "colorscale": [
             [
              0,
              "#0d0887"
             ],
             [
              0.1111111111111111,
              "#46039f"
             ],
             [
              0.2222222222222222,
              "#7201a8"
             ],
             [
              0.3333333333333333,
              "#9c179e"
             ],
             [
              0.4444444444444444,
              "#bd3786"
             ],
             [
              0.5555555555555556,
              "#d8576b"
             ],
             [
              0.6666666666666666,
              "#ed7953"
             ],
             [
              0.7777777777777778,
              "#fb9f3a"
             ],
             [
              0.8888888888888888,
              "#fdca26"
             ],
             [
              1,
              "#f0f921"
             ]
            ],
            "type": "surface"
           }
          ],
          "table": [
           {
            "cells": {
             "fill": {
              "color": "#EBF0F8"
             },
             "line": {
              "color": "white"
             }
            },
            "header": {
             "fill": {
              "color": "#C8D4E3"
             },
             "line": {
              "color": "white"
             }
            },
            "type": "table"
           }
          ]
         },
         "layout": {
          "annotationdefaults": {
           "arrowcolor": "#2a3f5f",
           "arrowhead": 0,
           "arrowwidth": 1
          },
          "autotypenumbers": "strict",
          "coloraxis": {
           "colorbar": {
            "outlinewidth": 0,
            "ticks": ""
           }
          },
          "colorscale": {
           "diverging": [
            [
             0,
             "#8e0152"
            ],
            [
             0.1,
             "#c51b7d"
            ],
            [
             0.2,
             "#de77ae"
            ],
            [
             0.3,
             "#f1b6da"
            ],
            [
             0.4,
             "#fde0ef"
            ],
            [
             0.5,
             "#f7f7f7"
            ],
            [
             0.6,
             "#e6f5d0"
            ],
            [
             0.7,
             "#b8e186"
            ],
            [
             0.8,
             "#7fbc41"
            ],
            [
             0.9,
             "#4d9221"
            ],
            [
             1,
             "#276419"
            ]
           ],
           "sequential": [
            [
             0,
             "#0d0887"
            ],
            [
             0.1111111111111111,
             "#46039f"
            ],
            [
             0.2222222222222222,
             "#7201a8"
            ],
            [
             0.3333333333333333,
             "#9c179e"
            ],
            [
             0.4444444444444444,
             "#bd3786"
            ],
            [
             0.5555555555555556,
             "#d8576b"
            ],
            [
             0.6666666666666666,
             "#ed7953"
            ],
            [
             0.7777777777777778,
             "#fb9f3a"
            ],
            [
             0.8888888888888888,
             "#fdca26"
            ],
            [
             1,
             "#f0f921"
            ]
           ],
           "sequentialminus": [
            [
             0,
             "#0d0887"
            ],
            [
             0.1111111111111111,
             "#46039f"
            ],
            [
             0.2222222222222222,
             "#7201a8"
            ],
            [
             0.3333333333333333,
             "#9c179e"
            ],
            [
             0.4444444444444444,
             "#bd3786"
            ],
            [
             0.5555555555555556,
             "#d8576b"
            ],
            [
             0.6666666666666666,
             "#ed7953"
            ],
            [
             0.7777777777777778,
             "#fb9f3a"
            ],
            [
             0.8888888888888888,
             "#fdca26"
            ],
            [
             1,
             "#f0f921"
            ]
           ]
          },
          "colorway": [
           "#636efa",
           "#EF553B",
           "#00cc96",
           "#ab63fa",
           "#FFA15A",
           "#19d3f3",
           "#FF6692",
           "#B6E880",
           "#FF97FF",
           "#FECB52"
          ],
          "font": {
           "color": "#2a3f5f"
          },
          "geo": {
           "bgcolor": "white",
           "lakecolor": "white",
           "landcolor": "white",
           "showlakes": true,
           "showland": true,
           "subunitcolor": "#C8D4E3"
          },
          "hoverlabel": {
           "align": "left"
          },
          "hovermode": "closest",
          "mapbox": {
           "style": "light"
          },
          "paper_bgcolor": "white",
          "plot_bgcolor": "white",
          "polar": {
           "angularaxis": {
            "gridcolor": "#EBF0F8",
            "linecolor": "#EBF0F8",
            "ticks": ""
           },
           "bgcolor": "white",
           "radialaxis": {
            "gridcolor": "#EBF0F8",
            "linecolor": "#EBF0F8",
            "ticks": ""
           }
          },
          "scene": {
           "xaxis": {
            "backgroundcolor": "white",
            "gridcolor": "#DFE8F3",
            "gridwidth": 2,
            "linecolor": "#EBF0F8",
            "showbackground": true,
            "ticks": "",
            "zerolinecolor": "#EBF0F8"
           },
           "yaxis": {
            "backgroundcolor": "white",
            "gridcolor": "#DFE8F3",
            "gridwidth": 2,
            "linecolor": "#EBF0F8",
            "showbackground": true,
            "ticks": "",
            "zerolinecolor": "#EBF0F8"
           },
           "zaxis": {
            "backgroundcolor": "white",
            "gridcolor": "#DFE8F3",
            "gridwidth": 2,
            "linecolor": "#EBF0F8",
            "showbackground": true,
            "ticks": "",
            "zerolinecolor": "#EBF0F8"
           }
          },
          "shapedefaults": {
           "line": {
            "color": "#2a3f5f"
           }
          },
          "ternary": {
           "aaxis": {
            "gridcolor": "#DFE8F3",
            "linecolor": "#A2B1C6",
            "ticks": ""
           },
           "baxis": {
            "gridcolor": "#DFE8F3",
            "linecolor": "#A2B1C6",
            "ticks": ""
           },
           "bgcolor": "white",
           "caxis": {
            "gridcolor": "#DFE8F3",
            "linecolor": "#A2B1C6",
            "ticks": ""
           }
          },
          "title": {
           "x": 0.05
          },
          "xaxis": {
           "automargin": true,
           "gridcolor": "#EBF0F8",
           "linecolor": "#EBF0F8",
           "ticks": "",
           "title": {
            "standoff": 15
           },
           "zerolinecolor": "#EBF0F8",
           "zerolinewidth": 2
          },
          "yaxis": {
           "automargin": true,
           "gridcolor": "#EBF0F8",
           "linecolor": "#EBF0F8",
           "ticks": "",
           "title": {
            "standoff": 15
           },
           "zerolinecolor": "#EBF0F8",
           "zerolinewidth": 2
          }
         }
        },
        "title": {
         "text": "Mathematical Problem Solving"
        },
        "xaxis": {
         "anchor": "y",
         "domain": [
          0,
          0.26666666666666666
         ],
         "showticklabels": true,
         "tickvals": [
          750000,
          1000000,
          1250000,
          1750000
         ],
         "title": {
          "text": "Parameter Count"
         }
        },
        "xaxis2": {
         "anchor": "y2",
         "domain": [
          0.3666666666666667,
          0.6333333333333333
         ],
         "matches": "x",
         "showticklabels": true,
         "tickvals": [
          750000,
          1000000,
          1250000,
          1750000
         ],
         "title": {
          "text": "Parameter Count"
         }
        },
        "xaxis3": {
         "anchor": "y3",
         "domain": [
          0.7333333333333334,
          1
         ],
         "matches": "x",
         "showticklabels": true,
         "tickvals": [
          750000,
          1000000,
          1250000,
          1750000
         ],
         "title": {
          "text": "Parameter Count"
         }
        },
        "xaxis4": {
         "anchor": "y4",
         "domain": [
          0,
          0.26666666666666666
         ],
         "matches": "x",
         "showticklabels": true,
         "tickvals": [
          750000,
          1000000,
          1250000,
          1750000
         ],
         "title": {
          "text": "Parameter Count"
         }
        },
        "xaxis5": {
         "anchor": "y5",
         "domain": [
          0.3666666666666667,
          0.6333333333333333
         ],
         "matches": "x",
         "showticklabels": true,
         "tickvals": [
          750000,
          1000000,
          1250000,
          1750000
         ],
         "title": {
          "text": "Parameter Count"
         }
        },
        "xaxis6": {
         "anchor": "y6",
         "domain": [
          0.7333333333333334,
          1
         ],
         "matches": "x",
         "showticklabels": true,
         "tickvals": [
          750000,
          1000000,
          1250000,
          1750000
         ],
         "title": {
          "text": "Parameter Count"
         }
        },
        "yaxis": {
         "anchor": "x",
         "domain": [
          0,
          0.35
         ],
         "showticklabels": true,
         "title": {
          "text": "Accuracy"
         }
        },
        "yaxis2": {
         "anchor": "x2",
         "domain": [
          0,
          0.35
         ],
         "showticklabels": true,
         "title": {
          "text": "Accuracy"
         }
        },
        "yaxis3": {
         "anchor": "x3",
         "domain": [
          0,
          0.35
         ],
         "showticklabels": true,
         "title": {
          "text": "Accuracy"
         }
        },
        "yaxis4": {
         "anchor": "x4",
         "domain": [
          0.6499999999999999,
          0.9999999999999999
         ],
         "showticklabels": true,
         "title": {
          "text": "Accuracy"
         }
        },
        "yaxis5": {
         "anchor": "x5",
         "domain": [
          0.6499999999999999,
          0.9999999999999999
         ],
         "showticklabels": true,
         "title": {
          "text": "Accuracy"
         }
        },
        "yaxis6": {
         "anchor": "x6",
         "domain": [
          0.6499999999999999,
          0.9999999999999999
         ],
         "showticklabels": true,
         "title": {
          "text": "Accuracy"
         }
        }
       }
      }
     },
     "metadata": {},
     "output_type": "display_data"
    }
   ],
   "source": [
    "# agg_depth_comparison_table = depth_comparison_table[['Task', 'Model', 'Parameter Count', 'Accuracy']].groupby(\n",
    "    # ['Task', 'Model', 'Parameter Count']).aggregate(['mean', 'sem', 'count']).dropna().reset_index()\n",
    "\n",
    "color_map = {\n",
    "    transformer_name: convert_to_plotly_color(cmap(3)),\n",
    "    our_model_name: convert_to_plotly_color(cmap(0)),\n",
    "}\n",
    "\n",
    "agg_depth_comparison_table['Model'] = pd.Categorical(agg_depth_comparison_table['Model'], [transformer_name, our_model_name], ordered=True)\n",
    "\n",
    "fig = px.line(agg_depth_comparison_table, x='Parameter Count', y='mean', color='Model',\n",
    "    facet_col='Task', facet_col_wrap=3, facet_row_spacing=0.3, facet_col_spacing=0.1, error_y='sem', hover_data=['count'],\n",
    "    title='Mathematical Problem Solving', color_discrete_map=color_map,\n",
    "    template=theme)\n",
    "\n",
    "fig.update_yaxes(matches=None)\n",
    "for axis in fig.layout:\n",
    "    if axis.startswith('yaxis') or axis.startswith('xaxis'):\n",
    "        fig.layout[axis].showticklabels = True\n",
    "\n",
    "fig.update_xaxes(tickvals=[750e3, 1e6, 1.25e6, 1.75e6], title_text='Parameter Count')\n",
    "fig.update_yaxes(title_text='Accuracy')\n",
    "\n",
    "\n",
    "fig.for_each_annotation(lambda a: a.update(text=a.text.split(\"=\")[1]))\n",
    "\n",
    "fig.update_layout(\n",
    "    legend=dict(\n",
    "        x=0.85,  # Horizontal position (0 to 1)\n",
    "        y=0.25,  # Vertical position (0 to 1)\n",
    "        xanchor='center',  # Anchor point for x position\n",
    "        yanchor='top',  # Anchor point for y position\n",
    "        orientation='v',  # Horizontal orientation\n",
    "        # title_text='Model'  # Title for the legend\n",
    "        title=dict(\n",
    "            text='Model',  # Title for the legend\n",
    "            side='top'  # Position the title at the top and center it\n",
    "        )\n",
    "    )\n",
    ")\n",
    "\n",
    "fig.show()"
   ]
  },
  {
   "cell_type": "code",
   "execution_count": 27,
   "metadata": {},
   "outputs": [],
   "source": [
    "# save to html\n",
    "fig_html = plotly.offline.plot(fig, include_plotlyjs=False, output_type='div')\n",
    "with open(f'{save_dir}/math_accuracy_scaling.html', 'w') as f:\n",
    "    f.write(fig_html)\n",
    "\n",
    "# save fig\n",
    "fig_json = fig.to_json()\n",
    "# save fig_json to file\n",
    "with open(f'{save_dir}/math_accuracy_scaling.json', 'w') as f:\n",
    "    f.write(fig_json)"
   ]
  },
  {
   "cell_type": "markdown",
   "metadata": {},
   "source": [
    "## Language Modeling: Fineweb"
   ]
  },
  {
   "cell_type": "code",
   "execution_count": 28,
   "metadata": {},
   "outputs": [
    {
     "name": "stderr",
     "output_type": "stream",
     "text": [
      "C:\\Users\\awnya\\AppData\\Local\\Temp\\ipykernel_51064\\188304530.py:1: DtypeWarning:\n",
      "\n",
      "Columns (500,502,503) have mixed types. Specify dtype option on import or set low_memory=False.\n",
      "\n"
     ]
    },
    {
     "data": {
      "text/html": [
       "<div>\n",
       "<style scoped>\n",
       "    .dataframe tbody tr th:only-of-type {\n",
       "        vertical-align: middle;\n",
       "    }\n",
       "\n",
       "    .dataframe tbody tr th {\n",
       "        vertical-align: top;\n",
       "    }\n",
       "\n",
       "    .dataframe thead th {\n",
       "        text-align: right;\n",
       "    }\n",
       "</style>\n",
       "<table border=\"1\" class=\"dataframe\">\n",
       "  <thead>\n",
       "    <tr style=\"text-align: right;\">\n",
       "      <th></th>\n",
       "      <th>grad_norms/blocks.23.ff_block.linear1.weight</th>\n",
       "      <th>grad_norms/blocks.21.norm2.bias</th>\n",
       "      <th>grad_norms/blocks.20.norm1.weight</th>\n",
       "      <th>grad_norms/blocks.4.dual_attn.self_attention.wk.weight</th>\n",
       "      <th>grad_norms/blocks.14.dual_attn.self_attention.wv.weight</th>\n",
       "      <th>grad_norms/blocks.17.ff_block.linear1.bias</th>\n",
       "      <th>grad_norms/blocks.16.dual_attn.self_attention.wk.weight</th>\n",
       "      <th>grad_norms/blocks.16.dual_attn.relational_attention.wq_attn.weight</th>\n",
       "      <th>grad_norms/blocks.4.dual_attn.relational_attention.wk_attn.weight</th>\n",
       "      <th>grad_norms/blocks.17.dual_attn.self_attention.wv.weight</th>\n",
       "      <th>...</th>\n",
       "      <th>grad_norms/symbol_retrievers.8.q_proj.weight</th>\n",
       "      <th>grad_norms/symbol_retrievers.15.q_proj.bias</th>\n",
       "      <th>grad_norms/symbol_retrievers.23.q_proj.weight</th>\n",
       "      <th>grad_norms/symbol_retrievers.22.q_proj.weight</th>\n",
       "      <th>grad_norms/symbol_retrievers.4.template_features</th>\n",
       "      <th>grad_norms/symbol_retrievers.20.q_proj.weight</th>\n",
       "      <th>grad_norms/symbol_retrievers.18.template_features</th>\n",
       "      <th>grad_norms/symbol_retriever.q_proj.weight</th>\n",
       "      <th>grad_norms/symbol_retriever.q_proj.bias</th>\n",
       "      <th>grad_norms/symbol_retriever.template_features</th>\n",
       "    </tr>\n",
       "  </thead>\n",
       "  <tbody>\n",
       "    <tr>\n",
       "      <th>0</th>\n",
       "      <td>0.016342</td>\n",
       "      <td>0.000575</td>\n",
       "      <td>0.000398</td>\n",
       "      <td>0.001477</td>\n",
       "      <td>0.012219</td>\n",
       "      <td>0.00032</td>\n",
       "      <td>0.002339</td>\n",
       "      <td>0.002593</td>\n",
       "      <td>0.003096</td>\n",
       "      <td>0.010029</td>\n",
       "      <td>...</td>\n",
       "      <td>NaN</td>\n",
       "      <td>NaN</td>\n",
       "      <td>NaN</td>\n",
       "      <td>NaN</td>\n",
       "      <td>NaN</td>\n",
       "      <td>NaN</td>\n",
       "      <td>NaN</td>\n",
       "      <td>NaN</td>\n",
       "      <td>NaN</td>\n",
       "      <td>NaN</td>\n",
       "    </tr>\n",
       "    <tr>\n",
       "      <th>1</th>\n",
       "      <td>NaN</td>\n",
       "      <td>NaN</td>\n",
       "      <td>NaN</td>\n",
       "      <td>NaN</td>\n",
       "      <td>NaN</td>\n",
       "      <td>NaN</td>\n",
       "      <td>NaN</td>\n",
       "      <td>NaN</td>\n",
       "      <td>NaN</td>\n",
       "      <td>NaN</td>\n",
       "      <td>...</td>\n",
       "      <td>NaN</td>\n",
       "      <td>NaN</td>\n",
       "      <td>NaN</td>\n",
       "      <td>NaN</td>\n",
       "      <td>NaN</td>\n",
       "      <td>NaN</td>\n",
       "      <td>NaN</td>\n",
       "      <td>NaN</td>\n",
       "      <td>NaN</td>\n",
       "      <td>NaN</td>\n",
       "    </tr>\n",
       "    <tr>\n",
       "      <th>2</th>\n",
       "      <td>NaN</td>\n",
       "      <td>NaN</td>\n",
       "      <td>NaN</td>\n",
       "      <td>NaN</td>\n",
       "      <td>NaN</td>\n",
       "      <td>NaN</td>\n",
       "      <td>NaN</td>\n",
       "      <td>NaN</td>\n",
       "      <td>NaN</td>\n",
       "      <td>NaN</td>\n",
       "      <td>...</td>\n",
       "      <td>NaN</td>\n",
       "      <td>NaN</td>\n",
       "      <td>NaN</td>\n",
       "      <td>NaN</td>\n",
       "      <td>NaN</td>\n",
       "      <td>NaN</td>\n",
       "      <td>NaN</td>\n",
       "      <td>NaN</td>\n",
       "      <td>NaN</td>\n",
       "      <td>NaN</td>\n",
       "    </tr>\n",
       "    <tr>\n",
       "      <th>3</th>\n",
       "      <td>NaN</td>\n",
       "      <td>NaN</td>\n",
       "      <td>NaN</td>\n",
       "      <td>NaN</td>\n",
       "      <td>NaN</td>\n",
       "      <td>NaN</td>\n",
       "      <td>NaN</td>\n",
       "      <td>NaN</td>\n",
       "      <td>NaN</td>\n",
       "      <td>NaN</td>\n",
       "      <td>...</td>\n",
       "      <td>NaN</td>\n",
       "      <td>NaN</td>\n",
       "      <td>NaN</td>\n",
       "      <td>NaN</td>\n",
       "      <td>NaN</td>\n",
       "      <td>NaN</td>\n",
       "      <td>NaN</td>\n",
       "      <td>NaN</td>\n",
       "      <td>NaN</td>\n",
       "      <td>NaN</td>\n",
       "    </tr>\n",
       "    <tr>\n",
       "      <th>4</th>\n",
       "      <td>NaN</td>\n",
       "      <td>NaN</td>\n",
       "      <td>NaN</td>\n",
       "      <td>NaN</td>\n",
       "      <td>NaN</td>\n",
       "      <td>NaN</td>\n",
       "      <td>NaN</td>\n",
       "      <td>NaN</td>\n",
       "      <td>NaN</td>\n",
       "      <td>NaN</td>\n",
       "      <td>...</td>\n",
       "      <td>NaN</td>\n",
       "      <td>NaN</td>\n",
       "      <td>NaN</td>\n",
       "      <td>NaN</td>\n",
       "      <td>NaN</td>\n",
       "      <td>NaN</td>\n",
       "      <td>NaN</td>\n",
       "      <td>NaN</td>\n",
       "      <td>NaN</td>\n",
       "      <td>NaN</td>\n",
       "    </tr>\n",
       "  </tbody>\n",
       "</table>\n",
       "<p>5 rows × 676 columns</p>\n",
       "</div>"
      ],
      "text/plain": [
       "   grad_norms/blocks.23.ff_block.linear1.weight  \\\n",
       "0                                      0.016342   \n",
       "1                                           NaN   \n",
       "2                                           NaN   \n",
       "3                                           NaN   \n",
       "4                                           NaN   \n",
       "\n",
       "   grad_norms/blocks.21.norm2.bias  grad_norms/blocks.20.norm1.weight  \\\n",
       "0                         0.000575                           0.000398   \n",
       "1                              NaN                                NaN   \n",
       "2                              NaN                                NaN   \n",
       "3                              NaN                                NaN   \n",
       "4                              NaN                                NaN   \n",
       "\n",
       "   grad_norms/blocks.4.dual_attn.self_attention.wk.weight  \\\n",
       "0                                           0.001477        \n",
       "1                                                NaN        \n",
       "2                                                NaN        \n",
       "3                                                NaN        \n",
       "4                                                NaN        \n",
       "\n",
       "   grad_norms/blocks.14.dual_attn.self_attention.wv.weight  \\\n",
       "0                                           0.012219         \n",
       "1                                                NaN         \n",
       "2                                                NaN         \n",
       "3                                                NaN         \n",
       "4                                                NaN         \n",
       "\n",
       "   grad_norms/blocks.17.ff_block.linear1.bias  \\\n",
       "0                                     0.00032   \n",
       "1                                         NaN   \n",
       "2                                         NaN   \n",
       "3                                         NaN   \n",
       "4                                         NaN   \n",
       "\n",
       "   grad_norms/blocks.16.dual_attn.self_attention.wk.weight  \\\n",
       "0                                           0.002339         \n",
       "1                                                NaN         \n",
       "2                                                NaN         \n",
       "3                                                NaN         \n",
       "4                                                NaN         \n",
       "\n",
       "   grad_norms/blocks.16.dual_attn.relational_attention.wq_attn.weight  \\\n",
       "0                                           0.002593                    \n",
       "1                                                NaN                    \n",
       "2                                                NaN                    \n",
       "3                                                NaN                    \n",
       "4                                                NaN                    \n",
       "\n",
       "   grad_norms/blocks.4.dual_attn.relational_attention.wk_attn.weight  \\\n",
       "0                                           0.003096                   \n",
       "1                                                NaN                   \n",
       "2                                                NaN                   \n",
       "3                                                NaN                   \n",
       "4                                                NaN                   \n",
       "\n",
       "   grad_norms/blocks.17.dual_attn.self_attention.wv.weight  ...  \\\n",
       "0                                           0.010029        ...   \n",
       "1                                                NaN        ...   \n",
       "2                                                NaN        ...   \n",
       "3                                                NaN        ...   \n",
       "4                                                NaN        ...   \n",
       "\n",
       "   grad_norms/symbol_retrievers.8.q_proj.weight  \\\n",
       "0                                           NaN   \n",
       "1                                           NaN   \n",
       "2                                           NaN   \n",
       "3                                           NaN   \n",
       "4                                           NaN   \n",
       "\n",
       "   grad_norms/symbol_retrievers.15.q_proj.bias  \\\n",
       "0                                          NaN   \n",
       "1                                          NaN   \n",
       "2                                          NaN   \n",
       "3                                          NaN   \n",
       "4                                          NaN   \n",
       "\n",
       "   grad_norms/symbol_retrievers.23.q_proj.weight  \\\n",
       "0                                            NaN   \n",
       "1                                            NaN   \n",
       "2                                            NaN   \n",
       "3                                            NaN   \n",
       "4                                            NaN   \n",
       "\n",
       "   grad_norms/symbol_retrievers.22.q_proj.weight  \\\n",
       "0                                            NaN   \n",
       "1                                            NaN   \n",
       "2                                            NaN   \n",
       "3                                            NaN   \n",
       "4                                            NaN   \n",
       "\n",
       "   grad_norms/symbol_retrievers.4.template_features  \\\n",
       "0                                               NaN   \n",
       "1                                               NaN   \n",
       "2                                               NaN   \n",
       "3                                               NaN   \n",
       "4                                               NaN   \n",
       "\n",
       "   grad_norms/symbol_retrievers.20.q_proj.weight  \\\n",
       "0                                            NaN   \n",
       "1                                            NaN   \n",
       "2                                            NaN   \n",
       "3                                            NaN   \n",
       "4                                            NaN   \n",
       "\n",
       "   grad_norms/symbol_retrievers.18.template_features  \\\n",
       "0                                                NaN   \n",
       "1                                                NaN   \n",
       "2                                                NaN   \n",
       "3                                                NaN   \n",
       "4                                                NaN   \n",
       "\n",
       "   grad_norms/symbol_retriever.q_proj.weight  \\\n",
       "0                                        NaN   \n",
       "1                                        NaN   \n",
       "2                                        NaN   \n",
       "3                                        NaN   \n",
       "4                                        NaN   \n",
       "\n",
       "   grad_norms/symbol_retriever.q_proj.bias  \\\n",
       "0                                      NaN   \n",
       "1                                      NaN   \n",
       "2                                      NaN   \n",
       "3                                      NaN   \n",
       "4                                      NaN   \n",
       "\n",
       "   grad_norms/symbol_retriever.template_features  \n",
       "0                                            NaN  \n",
       "1                                            NaN  \n",
       "2                                            NaN  \n",
       "3                                            NaN  \n",
       "4                                            NaN  \n",
       "\n",
       "[5 rows x 676 columns]"
      ]
     },
     "execution_count": 28,
     "metadata": {},
     "output_type": "execute_result"
    }
   ],
   "source": [
    "figure_data = pd.read_csv('figure_data/fineweb/run_histories.csv')\n",
    "figure_data.head()"
   ]
  },
  {
   "cell_type": "code",
   "execution_count": 29,
   "metadata": {},
   "outputs": [],
   "source": [
    "# NOTE: resumption of DAT-sa16-ra16-nr128-ns2048-sh16-nkvh8-1.27B_2024_07_31_08_52_58 is ongoing TODO: add when completed\n",
    "name_map = {\n",
    "    # 1.3B Scale\n",
    "    'T-sa32-1.3B_2024_07_11_19_05_56': 'Transformer - 1.31B',\n",
    "    'T-sa32-1.3B_2024_07_11_19_05_56_resumed_2024_07_26_18_41_46': 'Transformer - 1.31B',\n",
    "    # 'DAT-sa16-ra16-nr64-ns512-sh16-nkvh8-1.27B_2024_07_24_09_41_58': f'{our_model_name} - 1.27B',\n",
    "    'DAT-sa16-ra16-nr128-ns2048-sh16-nkvh8-1.27B_2024_07_31_08_52_58': f'{our_model_name} - 1.27B',\n",
    "    'DAT-sa16-ra16-nr128-ns2048-sh16-nkvh8-1.27B_2024_07_31_08_52_58_resumed_2024_08_19_15_26_57': f'{our_model_name} - 1.27B',\n",
    "\n",
    "    # 'DAT-sa16-ra16-nr64-ns2048-sh8-nkvh8-1.27B_2024_07_28_00_48_29': f'{our_model_name} - 1.27B',\n",
    "    # 'DAT-sa16-ra16-nr64-ns2048-sh8-1.37B_2024_07_22_18_31_43': f'{our_model_name} - 1.37B',\n",
    "\n",
    "    # 750M scale\n",
    "    'T-sa24-757M_2024_08_22_19_01_41': 'Transformer - 757M',\n",
    "    'DAT-sa12-ra12-nr64-ns1024-sh8-nkvh6-734M_2024_08_21_07_48_32': f'{our_model_name} - 734M',\n",
    "    'DAT-sa12-ra12-nr64-ns1024-sh8-nkvh6-734M_2024_08_21_07_48_32_resumed_2024_08_23_16_14_12': f'{our_model_name} - 734M',\n",
    "\n",
    "    # 350M scale\n",
    "    'T-350M_2024_07_09_17_25_58': 'Transformer - 353M', # TODO check exact param count\n",
    "    # 'DAT-sa8-ra8-ns1024-sh8-nkvh4-343M_2024_07_19_13_50_14': f'{our_model_name} - 343M',\n",
    "    # 'DAT-sa8-ra8-ns1024-sh8-nkvh4-343M_2024_07_19_13_50_14_resumed_2024_07_26_18_49_04': f'{our_model_name} - 343M',\n",
    "    'DAT-sa8-ra8-nr64-ns1024-sh8-nkvh4-343M_2024_07_30_13_58_00': f'{our_model_name} - 343M',\n",
    "    'DAT-sa8-ra8-nr64-ns1024-sh8-nkvh4-343M_2024_07_30_13_58_00_resumed_2024_08_14_19_34_08': f'{our_model_name} - 343M',\n",
    "    # 'DAT-ra8sa8nr32-ns1024sh8-368M_2024_07_15_18_38_39': f'{our_model_name} - 368M', # TODO: decide precisely which models want here\n",
    "}"
   ]
  },
  {
   "cell_type": "code",
   "execution_count": 30,
   "metadata": {},
   "outputs": [],
   "source": [
    "cmap = plt.cm.tab20\n",
    "\n",
    "color_map_ = {\n",
    "    'Transformer - 1.31B': cmap(6), # red\n",
    "    f'{our_model_name} - 1.27B': cmap(0), # blue\n",
    "    # f'{our_model_name} - 1.37B': cmap(8), # purple\n",
    "\n",
    "    'Transformer - 757M': cmap(6), # lighter red\n",
    "    f'{our_model_name} - 734M': cmap(0),\n",
    "\n",
    "    'Transformer - 353M': cmap(6), # red\n",
    "    f'{our_model_name} - 343M': cmap(0), # blue\n",
    "    # f'{our_model_name} - 368M': cmap(8), # purple\n",
    "    }\n",
    "color_map = {k: convert_to_plotly_color(v) for k, v in color_map_.items()}\n",
    "\n",
    "scale_map = {\n",
    "    'Transformer - 1.31B': '1.3B Scale',\n",
    "    f'{our_model_name} - 1.27B': '1.3B Scale',\n",
    "\n",
    "    'Transformer - 757M': '750M Scale',\n",
    "    f'{our_model_name} - 734M': '750M Scale',\n",
    "\n",
    "    'Transformer - 353M': '350M Scale',\n",
    "    f'{our_model_name} - 343M': '350M Scale',\n",
    "    }\n",
    "\n",
    "\n",
    "# models = color_map_.keys()"
   ]
  },
  {
   "cell_type": "code",
   "execution_count": 31,
   "metadata": {},
   "outputs": [],
   "source": [
    "figure_data = figure_data[figure_data.name.isin(name_map.keys())]\n",
    "figure_data = figure_data[['name', 'loss/val', 'tokens']].dropna()\n",
    "\n",
    "figure_data = figure_data.rename(columns={\n",
    "    # 'symbol_type': 'Symbol Type', 'symmetric_rels': 'Symmetric RA', \n",
    "    'loss/val': 'Validation Loss', 'tokens': 'Tokens'})\n",
    "\n",
    "figure_data['Model'] = pd.Categorical(figure_data['name'].map(name_map), list(set(name_map.values())), ordered=True)\n",
    "\n",
    "figure_data['Scale'] = figure_data['Model'].map(scale_map)\n",
    "\n",
    "figure_data['Perplexity'] = figure_data['Validation Loss'].apply(np.exp)\n",
    "\n",
    "# figure_data = figure_data[['Model', 'Tokens', 'Perplexity']].dropna()"
   ]
  },
  {
   "cell_type": "code",
   "execution_count": 32,
   "metadata": {},
   "outputs": [
    {
     "name": "stderr",
     "output_type": "stream",
     "text": [
      "C:\\Users\\awnya\\AppData\\Local\\Temp\\ipykernel_51064\\3197883166.py:18: SettingWithCopyWarning:\n",
      "\n",
      "\n",
      "A value is trying to be set on a copy of a slice from a DataFrame\n",
      "\n",
      "See the caveats in the documentation: https://pandas.pydata.org/pandas-docs/stable/user_guide/indexing.html#returning-a-view-versus-a-copy\n",
      "\n"
     ]
    },
    {
     "data": {
      "application/vnd.plotly.v1+json": {
       "config": {
        "plotlyServerURL": "https://plot.ly"
       },
       "data": [
        {
         "line": {
          "color": "rgb(31, 119, 180)"
         },
         "mode": "lines",
         "name": "$\\textit{DAT}$ - 343M",
         "type": "scatter",
         "x": [
          131072000,
          262144000,
          393216000,
          524288000,
          655360000,
          786432000,
          917504000,
          1048576000,
          1179648000,
          1310720000,
          1441792000,
          1572864000,
          1703936000,
          1835008000,
          1966080000,
          2097152000,
          2228224000,
          2359296000,
          2490368000,
          2621440000,
          2752512000,
          2883584000,
          3014656000,
          3145728000,
          3276800000,
          3407872000,
          3538944000,
          3670016000,
          3801088000,
          3932160000,
          4063232000,
          4194304000,
          4325376000,
          4456448000,
          4587520000,
          4718592000,
          4849664000,
          4980736000,
          5111808000,
          5242880000,
          5373952000,
          5505024000,
          5636096000,
          5767168000,
          5898240000,
          6029312000,
          6160384000,
          6291456000,
          6422528000,
          6553600000,
          6684672000,
          6815744000,
          6946816000,
          7077888000,
          7208960000,
          7340032000,
          7471104000,
          7602176000,
          7733248000,
          7864320000,
          7995392000,
          8126464000,
          8257536000,
          8388608000,
          8519680000,
          8650752000,
          8781824000,
          8912896000,
          9043968000,
          9175040000,
          9306112000,
          9437184000,
          9568256000,
          9699328000,
          9830400000,
          9961472000
         ],
         "y": [
          310.5509590410084,
          110.05446923427183,
          59.41836238341376,
          42.226156293680006,
          36.04167071398246,
          32.500191920612494,
          30.114108187927275,
          28.68893742446705,
          27.27154443249144,
          26.480558390472723,
          25.637086956568005,
          24.82985160916036,
          24.45545744203305,
          23.9269670474664,
          23.25173952844511,
          22.828718641574547,
          22.642311730705934,
          22.373436697752222,
          21.918160930130576,
          21.6695115887246,
          21.31554882309634,
          21.378750897463313,
          20.973357566446772,
          20.766486349989947,
          20.48632822186039,
          20.179024597840947,
          20.07182179568902,
          19.94417434705051,
          19.73755101944637,
          19.56280289198864,
          19.454587526839063,
          19.389407753937096,
          19.188824651000377,
          19.044671617509426,
          18.910359655344816,
          18.807627659388956,
          18.681097222264242,
          18.590723783244194,
          18.51807323207409,
          18.490257236897357,
          18.321038792250597,
          18.028596475986948,
          18.024397474802168,
          17.893786596615282,
          17.809790682433974,
          17.74314020405423,
          17.665414307751835,
          17.590578617824523,
          17.50943782469444,
          17.393291487621315,
          17.320356009311148,
          17.21751190778311,
          17.148011662626065,
          17.091175029330927,
          17.024993403903945,
          16.930558072857682,
          16.89452980143727,
          16.826345341672837,
          16.803990890587187,
          16.732565070848235,
          16.661490517334812,
          16.602046429408105,
          16.572492865030707,
          16.520304914550213,
          16.479659855966258,
          16.45568256430755,
          16.423605251109837,
          16.375352710499264,
          16.34301116052387,
          16.319057602197585,
          16.28612053021726,
          16.26204874079272,
          16.24668688118339,
          16.237455052459854,
          16.22912225881682,
          16.079006189457274
         ]
        },
        {
         "line": {
          "color": "rgb(214, 39, 40)"
         },
         "mode": "lines",
         "name": "Transformer - 353M",
         "type": "scatter",
         "x": [
          131072000,
          262144000,
          393216000,
          524288000,
          655360000,
          786432000,
          917504000,
          1048576000,
          1179648000,
          1310720000,
          1441792000,
          1572864000,
          1703936000,
          1835008000,
          1966080000,
          2097152000,
          2228224000,
          2359296000,
          2490368000,
          2621440000,
          2752512000,
          2883584000,
          3014656000,
          3145728000,
          3276800000,
          3407872000,
          3538944000,
          3670016000,
          3801088000,
          3932160000,
          4063232000,
          4194304000,
          4325376000,
          4456448000,
          4587520000,
          4718592000,
          4849664000,
          4980736000,
          5111808000,
          5242880000,
          5373952000,
          5505024000,
          5636096000,
          5767168000,
          5898240000,
          6029312000,
          6160384000,
          6291456000,
          6422528000,
          6553600000,
          6684672000,
          6815744000,
          6946816000,
          7077888000,
          7208960000,
          7340032000,
          7471104000,
          7602176000,
          7733248000,
          7864320000,
          7995392000,
          8126464000,
          8257536000,
          8388608000,
          8519680000,
          8650752000,
          8781824000,
          8912896000,
          9043968000,
          9175040000,
          9306112000,
          9437184000,
          9568256000,
          9699328000,
          9830400000,
          9961472000
         ],
         "y": [
          323.4646801706817,
          123.13866769681461,
          65.47574217990947,
          46.757158418533756,
          39.293116719968054,
          34.83805073141676,
          32.45685165260507,
          30.534657281949812,
          28.99058192201221,
          28.20218163143475,
          27.22532810455163,
          26.307305539554374,
          25.979258497241997,
          25.2794886937771,
          24.607571734923393,
          24.222636028346514,
          23.92754322238565,
          23.58095165481069,
          23.163254325358732,
          22.78760820494494,
          22.473388304976545,
          22.542189263444378,
          22.08275825109778,
          21.82744817068265,
          21.522844877736308,
          21.27744741717383,
          21.14989177616886,
          20.994134670469315,
          20.816413914873912,
          20.602910418165752,
          20.48298273498783,
          20.412517768773498,
          20.26221999491166,
          20.06437694613519,
          19.927324774872012,
          19.818458491187233,
          19.703768797939734,
          19.569333771822418,
          19.412544768268102,
          19.383639363943654,
          19.20368991602196,
          19.012823240336985,
          18.9604033770046,
          18.856491353728845,
          18.775665366264015,
          18.663788402384757,
          18.57862733947394,
          18.509231992746205,
          18.388049390786293,
          18.304460712535548,
          18.219979181935518,
          18.136445359218296,
          18.058257989017754,
          17.987885533603002,
          17.94002797867318,
          17.863104743237855,
          17.80051942842796,
          17.74922864188186,
          17.70754841108918,
          17.610704165929295,
          17.53403080435821,
          17.51481967917699,
          17.448341218830592,
          17.412194955353062,
          17.37434640673472,
          17.337435755981748,
          17.27934919291696,
          17.233343859834633,
          17.201850346692375,
          17.172764358058192,
          17.15538055050559,
          17.138525100636667,
          17.107820757534096,
          17.094471903887854,
          17.084212522974827,
          16.94448185271312
         ]
        }
       ],
       "frames": [
        {
         "data": [
          {
           "line": {
            "color": "rgb(31, 119, 180)"
           },
           "mode": "lines",
           "name": "$\\textit{DAT}$ - 343M",
           "type": "scatter",
           "x": [
            131072000,
            262144000,
            393216000,
            524288000,
            655360000,
            786432000,
            917504000,
            1048576000,
            1179648000,
            1310720000,
            1441792000,
            1572864000,
            1703936000,
            1835008000,
            1966080000,
            2097152000,
            2228224000,
            2359296000,
            2490368000,
            2621440000,
            2752512000,
            2883584000,
            3014656000,
            3145728000,
            3276800000,
            3407872000,
            3538944000,
            3670016000,
            3801088000,
            3932160000,
            4063232000,
            4194304000,
            4325376000,
            4456448000,
            4587520000,
            4718592000,
            4849664000,
            4980736000,
            5111808000,
            5242880000,
            5373952000,
            5505024000,
            5636096000,
            5767168000,
            5898240000,
            6029312000,
            6160384000,
            6291456000,
            6422528000,
            6553600000,
            6684672000,
            6815744000,
            6946816000,
            7077888000,
            7208960000,
            7340032000,
            7471104000,
            7602176000,
            7733248000,
            7864320000,
            7995392000,
            8126464000,
            8257536000,
            8388608000,
            8519680000,
            8650752000,
            8781824000,
            8912896000,
            9043968000,
            9175040000,
            9306112000,
            9437184000,
            9568256000,
            9699328000,
            9830400000,
            9961472000
           ],
           "y": [
            310.5509590410084,
            110.05446923427183,
            59.41836238341376,
            42.226156293680006,
            36.04167071398246,
            32.500191920612494,
            30.114108187927275,
            28.68893742446705,
            27.27154443249144,
            26.480558390472723,
            25.637086956568005,
            24.82985160916036,
            24.45545744203305,
            23.9269670474664,
            23.25173952844511,
            22.828718641574547,
            22.642311730705934,
            22.373436697752222,
            21.918160930130576,
            21.6695115887246,
            21.31554882309634,
            21.378750897463313,
            20.973357566446772,
            20.766486349989947,
            20.48632822186039,
            20.179024597840947,
            20.07182179568902,
            19.94417434705051,
            19.73755101944637,
            19.56280289198864,
            19.454587526839063,
            19.389407753937096,
            19.188824651000377,
            19.044671617509426,
            18.910359655344816,
            18.807627659388956,
            18.681097222264242,
            18.590723783244194,
            18.51807323207409,
            18.490257236897357,
            18.321038792250597,
            18.028596475986948,
            18.024397474802168,
            17.893786596615282,
            17.809790682433974,
            17.74314020405423,
            17.665414307751835,
            17.590578617824523,
            17.50943782469444,
            17.393291487621315,
            17.320356009311148,
            17.21751190778311,
            17.148011662626065,
            17.091175029330927,
            17.024993403903945,
            16.930558072857682,
            16.89452980143727,
            16.826345341672837,
            16.803990890587187,
            16.732565070848235,
            16.661490517334812,
            16.602046429408105,
            16.572492865030707,
            16.520304914550213,
            16.479659855966258,
            16.45568256430755,
            16.423605251109837,
            16.375352710499264,
            16.34301116052387,
            16.319057602197585,
            16.28612053021726,
            16.26204874079272,
            16.24668688118339,
            16.237455052459854,
            16.22912225881682,
            16.079006189457274
           ]
          },
          {
           "line": {
            "color": "rgb(214, 39, 40)"
           },
           "mode": "lines",
           "name": "Transformer - 353M",
           "type": "scatter",
           "x": [
            131072000,
            262144000,
            393216000,
            524288000,
            655360000,
            786432000,
            917504000,
            1048576000,
            1179648000,
            1310720000,
            1441792000,
            1572864000,
            1703936000,
            1835008000,
            1966080000,
            2097152000,
            2228224000,
            2359296000,
            2490368000,
            2621440000,
            2752512000,
            2883584000,
            3014656000,
            3145728000,
            3276800000,
            3407872000,
            3538944000,
            3670016000,
            3801088000,
            3932160000,
            4063232000,
            4194304000,
            4325376000,
            4456448000,
            4587520000,
            4718592000,
            4849664000,
            4980736000,
            5111808000,
            5242880000,
            5373952000,
            5505024000,
            5636096000,
            5767168000,
            5898240000,
            6029312000,
            6160384000,
            6291456000,
            6422528000,
            6553600000,
            6684672000,
            6815744000,
            6946816000,
            7077888000,
            7208960000,
            7340032000,
            7471104000,
            7602176000,
            7733248000,
            7864320000,
            7995392000,
            8126464000,
            8257536000,
            8388608000,
            8519680000,
            8650752000,
            8781824000,
            8912896000,
            9043968000,
            9175040000,
            9306112000,
            9437184000,
            9568256000,
            9699328000,
            9830400000,
            9961472000
           ],
           "y": [
            323.4646801706817,
            123.13866769681461,
            65.47574217990947,
            46.757158418533756,
            39.293116719968054,
            34.83805073141676,
            32.45685165260507,
            30.534657281949812,
            28.99058192201221,
            28.20218163143475,
            27.22532810455163,
            26.307305539554374,
            25.979258497241997,
            25.2794886937771,
            24.607571734923393,
            24.222636028346514,
            23.92754322238565,
            23.58095165481069,
            23.163254325358732,
            22.78760820494494,
            22.473388304976545,
            22.542189263444378,
            22.08275825109778,
            21.82744817068265,
            21.522844877736308,
            21.27744741717383,
            21.14989177616886,
            20.994134670469315,
            20.816413914873912,
            20.602910418165752,
            20.48298273498783,
            20.412517768773498,
            20.26221999491166,
            20.06437694613519,
            19.927324774872012,
            19.818458491187233,
            19.703768797939734,
            19.569333771822418,
            19.412544768268102,
            19.383639363943654,
            19.20368991602196,
            19.012823240336985,
            18.9604033770046,
            18.856491353728845,
            18.775665366264015,
            18.663788402384757,
            18.57862733947394,
            18.509231992746205,
            18.388049390786293,
            18.304460712535548,
            18.219979181935518,
            18.136445359218296,
            18.058257989017754,
            17.987885533603002,
            17.94002797867318,
            17.863104743237855,
            17.80051942842796,
            17.74922864188186,
            17.70754841108918,
            17.610704165929295,
            17.53403080435821,
            17.51481967917699,
            17.448341218830592,
            17.412194955353062,
            17.37434640673472,
            17.337435755981748,
            17.27934919291696,
            17.233343859834633,
            17.201850346692375,
            17.172764358058192,
            17.15538055050559,
            17.138525100636667,
            17.107820757534096,
            17.094471903887854,
            17.084212522974827,
            16.94448185271312
           ]
          }
         ],
         "layout": {
          "yaxis": {
           "range": [
            12.5,
            30
           ]
          }
         },
         "name": "350M Scale"
        },
        {
         "data": [
          {
           "line": {
            "color": "rgb(31, 119, 180)"
           },
           "mode": "lines",
           "name": "$\\textit{DAT}$ - 734M",
           "type": "scatter",
           "x": [
            131072000,
            262144000,
            393216000,
            524288000,
            655360000,
            786432000,
            917504000,
            1048576000,
            1179648000,
            1310720000,
            1441792000,
            1572864000,
            1703936000,
            1835008000,
            1966080000,
            2097152000,
            2228224000,
            2359296000,
            2490368000,
            2621440000,
            2752512000,
            2883584000,
            3014656000,
            3145728000,
            3276800000,
            3407872000,
            3538944000,
            3670016000,
            3801088000,
            3932160000,
            4063232000,
            4194304000,
            4325376000,
            4456448000,
            4587520000,
            4718592000,
            4849664000,
            4980736000,
            5111808000,
            5242880000,
            5242880000,
            5373952000,
            5373952000,
            5505024000,
            5505024000,
            5636096000,
            5767168000,
            5898240000,
            6029312000,
            6160384000,
            6291456000,
            6422528000,
            6553600000,
            6684672000,
            6815744000,
            6946816000,
            7077888000,
            7208960000,
            7340032000,
            7471104000,
            7602176000,
            7733248000,
            7864320000,
            7995392000,
            8126464000,
            8257536000,
            8388608000,
            8519680000,
            8650752000,
            8781824000,
            8912896000,
            9043968000,
            9175040000,
            9306112000,
            9437184000,
            9568256000,
            9699328000,
            9830400000,
            9961472000
           ],
           "y": [
            266.9553543756486,
            89.56905563732492,
            49.775714693395216,
            37.34422281558651,
            32.41272683978857,
            29.524397379843148,
            27.597841947157548,
            26.239947486548896,
            24.94724752316228,
            24.134408786154655,
            23.380931463650402,
            22.70160911689241,
            22.312363111310816,
            21.782235272307503,
            21.234163532213312,
            20.850806243954164,
            20.673391859089477,
            20.289678036295435,
            19.97549197092111,
            19.716517901734715,
            19.374892990230524,
            19.33171805472997,
            19.012261155368332,
            18.808524498343658,
            18.561780772895116,
            18.299499376594415,
            18.193001329058333,
            18.056006392537494,
            17.89751138659553,
            17.69839367568197,
            17.548655894513704,
            17.50415360990938,
            17.340978584659226,
            17.17898063951241,
            17.079252093352856,
            16.941270453038417,
            16.82758099475222,
            16.707534654959847,
            16.669294155304428,
            16.630411605340242,
            16.63678061317208,
            16.481911359466846,
            16.477043311688178,
            16.190818658871798,
            16.17922679376342,
            16.16102611995837,
            16.064583240799315,
            16.005433173075648,
            15.911144070970838,
            15.820273005287227,
            15.782783844844465,
            15.689350021361692,
            15.549252927491938,
            15.49992876701075,
            15.42160963212617,
            15.327989530197625,
            15.268275045076289,
            15.227391734860177,
            15.146686302901108,
            15.116605597643833,
            15.034182369937895,
            14.99491614199593,
            14.941913149835143,
            14.858139656775041,
            14.805782510567882,
            14.766260818723396,
            14.733689451891381,
            14.707686198970599,
            14.689333669796293,
            14.637752836819901,
            14.587379072328913,
            14.560311358211903,
            14.542146193270307,
            14.51113127388345,
            14.4906987078566,
            14.479795844475245,
            14.457638997038238,
            14.447549791613923,
            14.312448929427314
           ]
          },
          {
           "line": {
            "color": "rgb(214, 39, 40)"
           },
           "mode": "lines",
           "name": "Transformer - 757M",
           "type": "scatter",
           "x": [
            131072000,
            262144000,
            393216000,
            524288000,
            655360000,
            786432000,
            917504000,
            1048576000,
            1179648000,
            1310720000,
            1441792000,
            1572864000,
            1703936000,
            1835008000,
            1966080000,
            2097152000,
            2228224000,
            2359296000,
            2490368000,
            2621440000,
            2752512000,
            2883584000,
            3014656000,
            3145728000,
            3276800000,
            3407872000,
            3538944000,
            3670016000,
            3801088000,
            3932160000,
            4063232000,
            4194304000,
            4325376000,
            4456448000,
            4587520000,
            4718592000,
            4849664000,
            4980736000,
            5111808000,
            5242880000,
            5373952000,
            5505024000,
            5636096000,
            5767168000,
            5898240000,
            6029312000,
            6160384000,
            6291456000,
            6422528000,
            6553600000,
            6684672000,
            6815744000,
            6946816000,
            7077888000,
            7208960000,
            7340032000,
            7471104000,
            7602176000,
            7733248000,
            7864320000,
            7995392000,
            8126464000,
            8257536000,
            8388608000,
            8519680000,
            8650752000,
            8781824000,
            8912896000,
            9043968000,
            9175040000,
            9306112000,
            9437184000,
            9568256000,
            9699328000,
            9830400000,
            9961472000
           ],
           "y": [
            269.85277938901635,
            102.42549012939618,
            54.66473459605171,
            40.559092353303065,
            34.775164397861886,
            31.070499282514128,
            28.838739601014044,
            27.316888321721727,
            25.860927285035082,
            25.137133140720664,
            24.151043840811045,
            23.40250895518961,
            23.054154528325444,
            22.53462327020077,
            21.884835893152935,
            21.496572527428896,
            21.187875903459826,
            20.863277791038332,
            20.509571229150477,
            20.240010083602588,
            19.85427391144115,
            19.922047063498017,
            19.50095647424363,
            19.32886987738054,
            19.04251041285819,
            18.760111611301763,
            18.646228881501056,
            18.53419076943115,
            18.34166771619815,
            18.133003729643036,
            18.032048383351505,
            17.94874710372693,
            17.77956653560664,
            17.626994328137986,
            17.49700200860732,
            17.383238200813143,
            17.268443622846508,
            17.16184013126279,
            17.06507923477413,
            17.04714599729127,
            16.902527213752048,
            16.58716222042252,
            16.538500124942104,
            16.4509752291832,
            16.396636548339806,
            16.307272836843083,
            16.200804193306393,
            16.14414685223575,
            16.05579174891713,
            15.929044336749284,
            15.890509375033849,
            15.797187302632942,
            15.7048513741025,
            15.644489282498201,
            15.58811240315336,
            15.519760253897958,
            15.476587287599315,
            15.392351723252789,
            15.368237877930504,
            15.301127105190742,
            15.217977147319173,
            15.16819211306526,
            15.124720558259822,
            15.08655945301484,
            15.04474939229209,
            15.025958356937531,
            14.987710539561494,
            14.92994106001091,
            14.90315439712259,
            14.861232543203505,
            14.837536857171047,
            14.815931131373143,
            14.800160330299287,
            14.789909673695496,
            14.783426433063786,
            14.650206648607035
           ]
          }
         ],
         "layout": {
          "yaxis": {
           "range": [
            12.5,
            30
           ]
          }
         },
         "name": "750M Scale"
        },
        {
         "data": [
          {
           "line": {
            "color": "rgb(31, 119, 180)"
           },
           "mode": "lines",
           "name": "$\\textit{DAT}$ - 1.27B",
           "type": "scatter",
           "x": [
            131072000,
            262144000,
            393216000,
            524288000,
            655360000,
            786432000,
            917504000,
            1048576000,
            1179648000,
            1310720000,
            1441792000,
            1572864000,
            1703936000,
            1835008000,
            1966080000,
            2097152000,
            2228224000,
            2359296000,
            2490368000,
            2621440000,
            2752512000,
            2883584000,
            3014656000,
            3145728000,
            3276800000,
            3407872000,
            3538944000,
            3670016000,
            3801088000,
            3932160000,
            4063232000,
            4194304000,
            4325376000,
            4456448000,
            4587520000,
            4718592000,
            4849664000,
            4980736000,
            5111808000,
            5242880000,
            5373952000,
            5505024000,
            5636096000,
            5767168000,
            5898240000,
            6029312000,
            6160384000,
            6291456000,
            6422528000,
            6553600000,
            6684672000,
            6815744000,
            6946816000,
            7077888000,
            7208960000,
            7340032000,
            7471104000,
            7602176000,
            7733248000,
            7864320000,
            7995392000,
            8126464000,
            8257536000,
            8388608000,
            8519680000,
            8650752000,
            8781824000,
            8912896000,
            9043968000,
            9175040000,
            9306112000,
            9437184000,
            9568256000,
            9699328000,
            9830400000,
            9961472000
           ],
           "y": [
            246.9078236348348,
            79.86168735429732,
            44.83484683396449,
            35.351927489201486,
            31.060648491316496,
            27.924328301814096,
            26.020288538268932,
            24.801144871633657,
            23.4577226825647,
            22.80497321837789,
            22.09945441898371,
            21.402598187454885,
            20.979068844249365,
            20.634755695472972,
            20.072018001952525,
            19.681612607634126,
            19.44880901963734,
            19.138707342047724,
            18.821663605150892,
            18.627651057966773,
            18.30805273858726,
            18.265743935433026,
            17.93138576702407,
            17.72726678394162,
            17.52210806814894,
            17.281236126727748,
            17.13250726905343,
            17.060624664295066,
            16.88763935064763,
            16.6766203433242,
            16.564248782294797,
            16.483121718823675,
            16.349995140035055,
            16.227744837833566,
            16.03222093733445,
            15.945367958409625,
            15.845855474514476,
            15.70932273855739,
            15.643452394401512,
            15.581543023587823,
            15.471208339677299,
            15.306063744125359,
            15.274763331758512,
            15.166445502667896,
            15.097282071589884,
            14.98862177116713,
            14.888742529468548,
            14.858543502309356,
            14.799592231258085,
            14.675859846497797,
            14.632766601693277,
            14.515134725892269,
            14.438558833020638,
            14.363465605496211,
            14.305578098733193,
            14.234390000060662,
            14.207272706059657,
            14.147525169226268,
            14.115504157421976,
            14.044779716221171,
            14.00590353620519,
            13.944635482161491,
            13.89880405626586,
            13.86110522802671,
            13.815703151963515,
            13.784597498692133,
            13.757054568783946,
            13.703522177869415,
            13.66948136612026,
            13.637648158672928,
            13.6286803063758,
            13.604808909009856,
            13.587852008553646,
            13.573673218918081,
            13.546293358170347,
            13.4250860949465
           ]
          },
          {
           "line": {
            "color": "rgb(214, 39, 40)"
           },
           "mode": "lines",
           "name": "Transformer - 1.31B",
           "type": "scatter",
           "x": [
            131072000,
            262144000,
            393216000,
            524288000,
            655360000,
            786432000,
            917504000,
            1048576000,
            1179648000,
            1310720000,
            1441792000,
            1572864000,
            1703936000,
            1835008000,
            1966080000,
            2097152000,
            2228224000,
            2359296000,
            2490368000,
            2621440000,
            2752512000,
            2883584000,
            3014656000,
            3145728000,
            3276800000,
            3407872000,
            3538944000,
            3670016000,
            3801088000,
            3932160000,
            4063232000,
            4194304000,
            4325376000,
            4456448000,
            4587520000,
            4718592000,
            4849664000,
            4980736000,
            5111808000,
            5242880000,
            5242880000,
            5373952000,
            5373952000,
            5505024000,
            5505024000,
            5636096000,
            5636096000,
            5767168000,
            5767168000,
            5898240000,
            6029312000,
            6160384000,
            6291456000,
            6422528000,
            6553600000,
            6684672000,
            6815744000,
            6946816000,
            7077888000,
            7208960000,
            7340032000,
            7471104000,
            7602176000,
            7733248000,
            7864320000,
            7995392000,
            8126464000,
            8257536000,
            8388608000,
            8519680000,
            8650752000,
            8781824000,
            8912896000,
            9043968000,
            9175040000,
            9306112000,
            9437184000,
            9568256000,
            9699328000,
            9830400000,
            9961472000
           ],
           "y": [
            282.28673781323806,
            93.53295795314676,
            52.62676801106057,
            40.126027340795915,
            33.88644297905084,
            30.019885098600458,
            27.6573152974562,
            26.19685342087436,
            24.721947974581038,
            23.862050970166226,
            23.039994298429153,
            22.255170161977475,
            21.810661098064177,
            21.395037207731466,
            20.731531215268426,
            20.311293532202917,
            20.1151533053891,
            19.7595063616913,
            19.405362957876726,
            19.153341987530442,
            18.805228825375966,
            18.78146776448672,
            18.475345157120152,
            18.26187284607026,
            17.988636062329377,
            17.740196163510777,
            17.58830146625671,
            17.48219072106709,
            17.290698621601752,
            17.087161769730244,
            16.972440658994724,
            16.90431657363483,
            16.72653026618267,
            16.564841176586352,
            16.463652798321956,
            16.327938747177964,
            16.2193396872894,
            16.104335108794324,
            16.06477857683751,
            16.01663703099986,
            15.83565452632914,
            15.8568304296188,
            15.712064606514286,
            15.561443371186538,
            15.555656633333552,
            15.530898147947125,
            15.485814802215907,
            15.437324916115305,
            15.411656075989427,
            15.31560585668392,
            15.208437844873814,
            15.128839187359683,
            15.076096057417566,
            15.036189783847467,
            14.894614978470784,
            14.856524384397378,
            14.75702578216977,
            14.679800246748528,
            14.590718240555404,
            14.531291233569045,
            14.451907822601296,
            14.438896194188608,
            14.373581765099809,
            14.327030515089442,
            14.252513935019621,
            14.194796069089117,
            14.133591290700656,
            14.103027411963069,
            14.072100174617024,
            14.024147809717132,
            13.998569086324478,
            13.966066069138856,
            13.915166953554454,
            13.886194397803733,
            13.841287633593423,
            13.83471555425512,
            13.814649137670745,
            13.792803054339627,
            13.787660860895427,
            13.762027852610853,
            13.629889110961322
           ]
          }
         ],
         "layout": {
          "yaxis": {
           "range": [
            12.5,
            30
           ]
          }
         },
         "name": "1.3B Scale"
        }
       ],
       "layout": {
        "font": {
         "family": "Computer Modern"
        },
        "height": 600,
        "legend": {
         "bordercolor": "Black",
         "borderwidth": 1,
         "title": {
          "text": "Model"
         },
         "x": 0.99,
         "xanchor": "right",
         "y": 0.99,
         "yanchor": "top"
        },
        "sliders": [
         {
          "steps": [
           {
            "args": [
             [
              "350M Scale"
             ]
            ],
            "label": "350M Scale",
            "method": "animate"
           },
           {
            "args": [
             [
              "750M Scale"
             ]
            ],
            "label": "750M Scale",
            "method": "animate"
           },
           {
            "args": [
             [
              "1.3B Scale"
             ]
            ],
            "label": "1.3B Scale",
            "method": "animate"
           }
          ]
         }
        ],
        "template": {
         "data": {
          "bar": [
           {
            "error_x": {
             "color": "#2a3f5f"
            },
            "error_y": {
             "color": "#2a3f5f"
            },
            "marker": {
             "line": {
              "color": "white",
              "width": 0.5
             },
             "pattern": {
              "fillmode": "overlay",
              "size": 10,
              "solidity": 0.2
             }
            },
            "type": "bar"
           }
          ],
          "barpolar": [
           {
            "marker": {
             "line": {
              "color": "white",
              "width": 0.5
             },
             "pattern": {
              "fillmode": "overlay",
              "size": 10,
              "solidity": 0.2
             }
            },
            "type": "barpolar"
           }
          ],
          "carpet": [
           {
            "aaxis": {
             "endlinecolor": "#2a3f5f",
             "gridcolor": "#C8D4E3",
             "linecolor": "#C8D4E3",
             "minorgridcolor": "#C8D4E3",
             "startlinecolor": "#2a3f5f"
            },
            "baxis": {
             "endlinecolor": "#2a3f5f",
             "gridcolor": "#C8D4E3",
             "linecolor": "#C8D4E3",
             "minorgridcolor": "#C8D4E3",
             "startlinecolor": "#2a3f5f"
            },
            "type": "carpet"
           }
          ],
          "choropleth": [
           {
            "colorbar": {
             "outlinewidth": 0,
             "ticks": ""
            },
            "type": "choropleth"
           }
          ],
          "contour": [
           {
            "colorbar": {
             "outlinewidth": 0,
             "ticks": ""
            },
            "colorscale": [
             [
              0,
              "#0d0887"
             ],
             [
              0.1111111111111111,
              "#46039f"
             ],
             [
              0.2222222222222222,
              "#7201a8"
             ],
             [
              0.3333333333333333,
              "#9c179e"
             ],
             [
              0.4444444444444444,
              "#bd3786"
             ],
             [
              0.5555555555555556,
              "#d8576b"
             ],
             [
              0.6666666666666666,
              "#ed7953"
             ],
             [
              0.7777777777777778,
              "#fb9f3a"
             ],
             [
              0.8888888888888888,
              "#fdca26"
             ],
             [
              1,
              "#f0f921"
             ]
            ],
            "type": "contour"
           }
          ],
          "contourcarpet": [
           {
            "colorbar": {
             "outlinewidth": 0,
             "ticks": ""
            },
            "type": "contourcarpet"
           }
          ],
          "heatmap": [
           {
            "colorbar": {
             "outlinewidth": 0,
             "ticks": ""
            },
            "colorscale": [
             [
              0,
              "#0d0887"
             ],
             [
              0.1111111111111111,
              "#46039f"
             ],
             [
              0.2222222222222222,
              "#7201a8"
             ],
             [
              0.3333333333333333,
              "#9c179e"
             ],
             [
              0.4444444444444444,
              "#bd3786"
             ],
             [
              0.5555555555555556,
              "#d8576b"
             ],
             [
              0.6666666666666666,
              "#ed7953"
             ],
             [
              0.7777777777777778,
              "#fb9f3a"
             ],
             [
              0.8888888888888888,
              "#fdca26"
             ],
             [
              1,
              "#f0f921"
             ]
            ],
            "type": "heatmap"
           }
          ],
          "heatmapgl": [
           {
            "colorbar": {
             "outlinewidth": 0,
             "ticks": ""
            },
            "colorscale": [
             [
              0,
              "#0d0887"
             ],
             [
              0.1111111111111111,
              "#46039f"
             ],
             [
              0.2222222222222222,
              "#7201a8"
             ],
             [
              0.3333333333333333,
              "#9c179e"
             ],
             [
              0.4444444444444444,
              "#bd3786"
             ],
             [
              0.5555555555555556,
              "#d8576b"
             ],
             [
              0.6666666666666666,
              "#ed7953"
             ],
             [
              0.7777777777777778,
              "#fb9f3a"
             ],
             [
              0.8888888888888888,
              "#fdca26"
             ],
             [
              1,
              "#f0f921"
             ]
            ],
            "type": "heatmapgl"
           }
          ],
          "histogram": [
           {
            "marker": {
             "pattern": {
              "fillmode": "overlay",
              "size": 10,
              "solidity": 0.2
             }
            },
            "type": "histogram"
           }
          ],
          "histogram2d": [
           {
            "colorbar": {
             "outlinewidth": 0,
             "ticks": ""
            },
            "colorscale": [
             [
              0,
              "#0d0887"
             ],
             [
              0.1111111111111111,
              "#46039f"
             ],
             [
              0.2222222222222222,
              "#7201a8"
             ],
             [
              0.3333333333333333,
              "#9c179e"
             ],
             [
              0.4444444444444444,
              "#bd3786"
             ],
             [
              0.5555555555555556,
              "#d8576b"
             ],
             [
              0.6666666666666666,
              "#ed7953"
             ],
             [
              0.7777777777777778,
              "#fb9f3a"
             ],
             [
              0.8888888888888888,
              "#fdca26"
             ],
             [
              1,
              "#f0f921"
             ]
            ],
            "type": "histogram2d"
           }
          ],
          "histogram2dcontour": [
           {
            "colorbar": {
             "outlinewidth": 0,
             "ticks": ""
            },
            "colorscale": [
             [
              0,
              "#0d0887"
             ],
             [
              0.1111111111111111,
              "#46039f"
             ],
             [
              0.2222222222222222,
              "#7201a8"
             ],
             [
              0.3333333333333333,
              "#9c179e"
             ],
             [
              0.4444444444444444,
              "#bd3786"
             ],
             [
              0.5555555555555556,
              "#d8576b"
             ],
             [
              0.6666666666666666,
              "#ed7953"
             ],
             [
              0.7777777777777778,
              "#fb9f3a"
             ],
             [
              0.8888888888888888,
              "#fdca26"
             ],
             [
              1,
              "#f0f921"
             ]
            ],
            "type": "histogram2dcontour"
           }
          ],
          "mesh3d": [
           {
            "colorbar": {
             "outlinewidth": 0,
             "ticks": ""
            },
            "type": "mesh3d"
           }
          ],
          "parcoords": [
           {
            "line": {
             "colorbar": {
              "outlinewidth": 0,
              "ticks": ""
             }
            },
            "type": "parcoords"
           }
          ],
          "pie": [
           {
            "automargin": true,
            "type": "pie"
           }
          ],
          "scatter": [
           {
            "fillpattern": {
             "fillmode": "overlay",
             "size": 10,
             "solidity": 0.2
            },
            "type": "scatter"
           }
          ],
          "scatter3d": [
           {
            "line": {
             "colorbar": {
              "outlinewidth": 0,
              "ticks": ""
             }
            },
            "marker": {
             "colorbar": {
              "outlinewidth": 0,
              "ticks": ""
             }
            },
            "type": "scatter3d"
           }
          ],
          "scattercarpet": [
           {
            "marker": {
             "colorbar": {
              "outlinewidth": 0,
              "ticks": ""
             }
            },
            "type": "scattercarpet"
           }
          ],
          "scattergeo": [
           {
            "marker": {
             "colorbar": {
              "outlinewidth": 0,
              "ticks": ""
             }
            },
            "type": "scattergeo"
           }
          ],
          "scattergl": [
           {
            "marker": {
             "colorbar": {
              "outlinewidth": 0,
              "ticks": ""
             }
            },
            "type": "scattergl"
           }
          ],
          "scattermapbox": [
           {
            "marker": {
             "colorbar": {
              "outlinewidth": 0,
              "ticks": ""
             }
            },
            "type": "scattermapbox"
           }
          ],
          "scatterpolar": [
           {
            "marker": {
             "colorbar": {
              "outlinewidth": 0,
              "ticks": ""
             }
            },
            "type": "scatterpolar"
           }
          ],
          "scatterpolargl": [
           {
            "marker": {
             "colorbar": {
              "outlinewidth": 0,
              "ticks": ""
             }
            },
            "type": "scatterpolargl"
           }
          ],
          "scatterternary": [
           {
            "marker": {
             "colorbar": {
              "outlinewidth": 0,
              "ticks": ""
             }
            },
            "type": "scatterternary"
           }
          ],
          "surface": [
           {
            "colorbar": {
             "outlinewidth": 0,
             "ticks": ""
            },
            "colorscale": [
             [
              0,
              "#0d0887"
             ],
             [
              0.1111111111111111,
              "#46039f"
             ],
             [
              0.2222222222222222,
              "#7201a8"
             ],
             [
              0.3333333333333333,
              "#9c179e"
             ],
             [
              0.4444444444444444,
              "#bd3786"
             ],
             [
              0.5555555555555556,
              "#d8576b"
             ],
             [
              0.6666666666666666,
              "#ed7953"
             ],
             [
              0.7777777777777778,
              "#fb9f3a"
             ],
             [
              0.8888888888888888,
              "#fdca26"
             ],
             [
              1,
              "#f0f921"
             ]
            ],
            "type": "surface"
           }
          ],
          "table": [
           {
            "cells": {
             "fill": {
              "color": "#EBF0F8"
             },
             "line": {
              "color": "white"
             }
            },
            "header": {
             "fill": {
              "color": "#C8D4E3"
             },
             "line": {
              "color": "white"
             }
            },
            "type": "table"
           }
          ]
         },
         "layout": {
          "annotationdefaults": {
           "arrowcolor": "#2a3f5f",
           "arrowhead": 0,
           "arrowwidth": 1
          },
          "autotypenumbers": "strict",
          "coloraxis": {
           "colorbar": {
            "outlinewidth": 0,
            "ticks": ""
           }
          },
          "colorscale": {
           "diverging": [
            [
             0,
             "#8e0152"
            ],
            [
             0.1,
             "#c51b7d"
            ],
            [
             0.2,
             "#de77ae"
            ],
            [
             0.3,
             "#f1b6da"
            ],
            [
             0.4,
             "#fde0ef"
            ],
            [
             0.5,
             "#f7f7f7"
            ],
            [
             0.6,
             "#e6f5d0"
            ],
            [
             0.7,
             "#b8e186"
            ],
            [
             0.8,
             "#7fbc41"
            ],
            [
             0.9,
             "#4d9221"
            ],
            [
             1,
             "#276419"
            ]
           ],
           "sequential": [
            [
             0,
             "#0d0887"
            ],
            [
             0.1111111111111111,
             "#46039f"
            ],
            [
             0.2222222222222222,
             "#7201a8"
            ],
            [
             0.3333333333333333,
             "#9c179e"
            ],
            [
             0.4444444444444444,
             "#bd3786"
            ],
            [
             0.5555555555555556,
             "#d8576b"
            ],
            [
             0.6666666666666666,
             "#ed7953"
            ],
            [
             0.7777777777777778,
             "#fb9f3a"
            ],
            [
             0.8888888888888888,
             "#fdca26"
            ],
            [
             1,
             "#f0f921"
            ]
           ],
           "sequentialminus": [
            [
             0,
             "#0d0887"
            ],
            [
             0.1111111111111111,
             "#46039f"
            ],
            [
             0.2222222222222222,
             "#7201a8"
            ],
            [
             0.3333333333333333,
             "#9c179e"
            ],
            [
             0.4444444444444444,
             "#bd3786"
            ],
            [
             0.5555555555555556,
             "#d8576b"
            ],
            [
             0.6666666666666666,
             "#ed7953"
            ],
            [
             0.7777777777777778,
             "#fb9f3a"
            ],
            [
             0.8888888888888888,
             "#fdca26"
            ],
            [
             1,
             "#f0f921"
            ]
           ]
          },
          "colorway": [
           "#636efa",
           "#EF553B",
           "#00cc96",
           "#ab63fa",
           "#FFA15A",
           "#19d3f3",
           "#FF6692",
           "#B6E880",
           "#FF97FF",
           "#FECB52"
          ],
          "font": {
           "color": "#2a3f5f"
          },
          "geo": {
           "bgcolor": "white",
           "lakecolor": "white",
           "landcolor": "white",
           "showlakes": true,
           "showland": true,
           "subunitcolor": "#C8D4E3"
          },
          "hoverlabel": {
           "align": "left"
          },
          "hovermode": "closest",
          "mapbox": {
           "style": "light"
          },
          "paper_bgcolor": "white",
          "plot_bgcolor": "white",
          "polar": {
           "angularaxis": {
            "gridcolor": "#EBF0F8",
            "linecolor": "#EBF0F8",
            "ticks": ""
           },
           "bgcolor": "white",
           "radialaxis": {
            "gridcolor": "#EBF0F8",
            "linecolor": "#EBF0F8",
            "ticks": ""
           }
          },
          "scene": {
           "xaxis": {
            "backgroundcolor": "white",
            "gridcolor": "#DFE8F3",
            "gridwidth": 2,
            "linecolor": "#EBF0F8",
            "showbackground": true,
            "ticks": "",
            "zerolinecolor": "#EBF0F8"
           },
           "yaxis": {
            "backgroundcolor": "white",
            "gridcolor": "#DFE8F3",
            "gridwidth": 2,
            "linecolor": "#EBF0F8",
            "showbackground": true,
            "ticks": "",
            "zerolinecolor": "#EBF0F8"
           },
           "zaxis": {
            "backgroundcolor": "white",
            "gridcolor": "#DFE8F3",
            "gridwidth": 2,
            "linecolor": "#EBF0F8",
            "showbackground": true,
            "ticks": "",
            "zerolinecolor": "#EBF0F8"
           }
          },
          "shapedefaults": {
           "line": {
            "color": "#2a3f5f"
           }
          },
          "ternary": {
           "aaxis": {
            "gridcolor": "#DFE8F3",
            "linecolor": "#A2B1C6",
            "ticks": ""
           },
           "baxis": {
            "gridcolor": "#DFE8F3",
            "linecolor": "#A2B1C6",
            "ticks": ""
           },
           "bgcolor": "white",
           "caxis": {
            "gridcolor": "#DFE8F3",
            "linecolor": "#A2B1C6",
            "ticks": ""
           }
          },
          "title": {
           "x": 0.05
          },
          "xaxis": {
           "automargin": true,
           "gridcolor": "#EBF0F8",
           "linecolor": "#EBF0F8",
           "ticks": "",
           "title": {
            "standoff": 15
           },
           "zerolinecolor": "#EBF0F8",
           "zerolinewidth": 2
          },
          "yaxis": {
           "automargin": true,
           "gridcolor": "#EBF0F8",
           "linecolor": "#EBF0F8",
           "ticks": "",
           "title": {
            "standoff": 15
           },
           "zerolinecolor": "#EBF0F8",
           "zerolinewidth": 2
          }
         }
        },
        "title": {
         "text": "Language Modeling Training Curves"
        },
        "updatemenus": [
         {
          "buttons": [
           {
            "args": [
             {
              "xaxis.range": [
               0,
               10000000000
              ],
              "xaxis.type": "linear"
             }
            ],
            "label": "Linear Scale",
            "method": "relayout"
           },
           {
            "args": [
             {
              "xaxis.range": [
               9,
               10
              ],
              "xaxis.type": "log"
             }
            ],
            "label": "Logarithmic Scale",
            "method": "relayout"
           }
          ],
          "direction": "left",
          "pad": {
           "r": 10,
           "t": 10
          },
          "showactive": true,
          "type": "buttons",
          "x": 1,
          "xanchor": "right",
          "y": 1.2,
          "yanchor": "top"
         }
        ],
        "width": 1000,
        "xaxis": {
         "title": {
          "text": "Tokens"
         }
        },
        "yaxis": {
         "range": [
          12.5,
          30
         ],
         "title": {
          "text": "Perplexity"
         }
        }
       }
      }
     },
     "metadata": {},
     "output_type": "display_data"
    }
   ],
   "source": [
    "import plotly.graph_objects as go\n",
    "\n",
    "# Get unique tasks and models\n",
    "model_scales = ['350M Scale', '750M Scale', '1.3B Scale']\n",
    "\n",
    "metric = 'Perplexity'\n",
    "\n",
    "# Create frames for each task\n",
    "frames = []\n",
    "for scale in model_scales:\n",
    "    frame_data = []\n",
    "    scale_filter = figure_data['Scale'] == scale\n",
    "    ax_data = figure_data[scale_filter]\n",
    "\n",
    "    for model in ax_data.Model.unique():\n",
    "        model_filter = ax_data['Model'] == model\n",
    "        model_data = ax_data[model_filter]\n",
    "        model_data.sort_values('Tokens', inplace=True)\n",
    "\n",
    "        frame_data.append(go.Scatter(\n",
    "            x=model_data['Tokens'],\n",
    "            y=model_data['Perplexity'],\n",
    "            mode='lines',\n",
    "            name=model,\n",
    "            line=dict(color=color_map[model])\n",
    "            ))\n",
    "    yrange = (12.5, 30)\n",
    "\n",
    "    frames.append(\n",
    "        go.Frame(\n",
    "        data=frame_data,\n",
    "        name=f'{scale}',\n",
    "        layout=dict(yaxis=dict(range=yrange))\n",
    "        ))\n",
    "\n",
    "# Create steps for the slider\n",
    "steps = [dict(method='animate',\n",
    "              args=[[frame['name']]],  # frame name to be shown\n",
    "              label=frame['name']) for frame in frames]\n",
    "\n",
    "# Create base frame\n",
    "fig = go.Figure(\n",
    "    data=frames[0]['data'],\n",
    "    layout=go.Layout(\n",
    "        title='Language Modeling Training Curves',\n",
    "        xaxis=dict(title='Tokens'), #, type='log', range=(9, 10)),\n",
    "        yaxis=dict(title=metric, range=(12.5, 30)),\n",
    "        height=600,\n",
    "        width=1000,\n",
    "        sliders=[dict(steps=steps)],  # add the slider\n",
    "                font_family=\"Computer Modern\",\n",
    "        template=theme,\n",
    "        legend_title=\"Model\",\n",
    "        legend=dict(yanchor=\"top\", y=0.99, xanchor=\"right\", x=0.99,\n",
    "                    title_font_family=\"Times New Roman\", #bgcolor='LightSteelBlue',\n",
    "                    bordercolor=\"Black\", borderwidth=1),\n",
    "    ),\n",
    "    frames=frames\n",
    ")\n",
    "\n",
    "toggle_scale_button = dict(\n",
    "    type=\"buttons\",\n",
    "    direction=\"left\",\n",
    "    buttons=list([\n",
    "        dict(\n",
    "            args=[{\"xaxis.type\": \"linear\", 'xaxis.range': [0, 10e9]}],\n",
    "            label=\"Linear Scale\",\n",
    "            method=\"relayout\"\n",
    "        ),\n",
    "        dict(\n",
    "            args=[{\"xaxis.type\": \"log\", 'xaxis.range': [9, 10]}],\n",
    "            label=\"Logarithmic Scale\",\n",
    "            method=\"relayout\"\n",
    "        )\n",
    "    ]),\n",
    "    pad={\"r\": 10, \"t\": 10},\n",
    "    showactive=True,\n",
    "    x=1,\n",
    "    xanchor=\"right\",\n",
    "    y=1.2,\n",
    "    yanchor=\"top\"\n",
    ")\n",
    "\n",
    "# Add the toggle button to the layout\n",
    "fig.update_layout(\n",
    "    updatemenus=[toggle_scale_button]\n",
    ")\n",
    "\n",
    "fig.show()"
   ]
  },
  {
   "cell_type": "code",
   "execution_count": 33,
   "metadata": {},
   "outputs": [],
   "source": [
    "import plotly.offline\n",
    "\n",
    "fig_html = plotly.offline.plot(fig, include_plotlyjs=False, output_type='div')\n",
    "with open(f'{save_dir}/language_modeling_fineweb_training_curves.html', 'w') as f:\n",
    "    f.write(fig_html)"
   ]
  },
  {
   "cell_type": "code",
   "execution_count": 34,
   "metadata": {},
   "outputs": [],
   "source": [
    "def get_first_tokens_below_perp(line, perp):\n",
    "    return min([row.Tokens for _, row in line.iterrows() if row.Perplexity < perp], default=np.nan)\n",
    "\n",
    "def parse_param_count(param_ct_str):\n",
    "    number = float(param_ct_str[:-1])\n",
    "    unit = param_ct_str[-1]\n",
    "    unit_map = dict(K=1e3, M=1e6, B=1e9)\n",
    "    return int(number * unit_map[unit])\n",
    "\n",
    "df = pd.DataFrame()\n",
    "\n",
    "perplexities = np.linspace(15, 30, 6)\n",
    "\n",
    "for model in figure_data.Model.unique():\n",
    "    line = figure_data[figure_data.Model == model].sort_values('Tokens')\n",
    "    tokens = [get_first_tokens_below_perp(line, p) for p in perplexities]\n",
    "    df_ = pd.DataFrame({'Perplexity': perplexities, 'Tokens': tokens, #'Model': [model]*len(perplexities), \n",
    "        'Param Count': [parse_param_count(model.split('-')[1].strip())] * len(perplexities), 'Model': [model.split('-')[0]]*len(perplexities)})\n",
    "    df = pd.concat([df, df_])\n",
    "df = df.reset_index(drop=True)\n",
    "df['Param Count'] = df['Param Count'].astype(float)\n",
    "df['Perplexity'] = df['Perplexity'].astype(float)\n",
    "df.sort_values('Param Count', inplace=True)"
   ]
  },
  {
   "cell_type": "code",
   "execution_count": 35,
   "metadata": {},
   "outputs": [
    {
     "data": {
      "application/vnd.plotly.v1+json": {
       "config": {
        "plotlyServerURL": "https://plot.ly"
       },
       "data": [
        {
         "hovertemplate": "Perplexity=30.0<br>Model=$\\textit{DAT}$ <br>Param Count=%{x}<br>Tokens=%{y}<extra></extra>",
         "legendgroup": "30.0, $\\textit{DAT}$ ",
         "line": {
          "color": "rgb(111, 198, 107)",
          "dash": "solid"
         },
         "marker": {
          "symbol": "circle"
         },
         "mode": "lines",
         "name": "30.0",
         "orientation": "v",
         "showlegend": true,
         "type": "scatter",
         "x": [
          343000000,
          734000000,
          1270000000
         ],
         "xaxis": "x",
         "y": [
          1048576000,
          786432000,
          786432000
         ],
         "yaxis": "y"
        },
        {
         "hovertemplate": "Perplexity=30.0<br>Model=Transformer <br>Param Count=%{x}<br>Tokens=%{y}<extra></extra>",
         "legendgroup": "30.0, Transformer ",
         "line": {
          "color": "rgb(111, 198, 107)",
          "dash": "dot"
         },
         "marker": {
          "symbol": "circle"
         },
         "mode": "lines",
         "name": "",
         "orientation": "v",
         "showlegend": false,
         "type": "scatter",
         "x": [
          353000000,
          757000000,
          1310000000
         ],
         "xaxis": "x",
         "y": [
          1179648000,
          917504000,
          917504000
         ],
         "yaxis": "y"
        },
        {
         "hovertemplate": "Perplexity=27.0<br>Model=$\\textit{DAT}$ <br>Param Count=%{x}<br>Tokens=%{y}<extra></extra>",
         "legendgroup": "27.0, $\\textit{DAT}$ ",
         "line": {
          "color": "rgb(81, 178, 124)",
          "dash": "solid"
         },
         "marker": {
          "symbol": "circle"
         },
         "mode": "lines",
         "name": "27.0",
         "orientation": "v",
         "showlegend": true,
         "type": "scatter",
         "x": [
          343000000,
          734000000,
          1270000000
         ],
         "xaxis": "x",
         "y": [
          1310720000,
          1048576000,
          917504000
         ],
         "yaxis": "y"
        },
        {
         "hovertemplate": "Perplexity=27.0<br>Model=Transformer <br>Param Count=%{x}<br>Tokens=%{y}<extra></extra>",
         "legendgroup": "27.0, Transformer ",
         "line": {
          "color": "rgb(81, 178, 124)",
          "dash": "dot"
         },
         "marker": {
          "symbol": "circle"
         },
         "mode": "lines",
         "name": "",
         "orientation": "v",
         "showlegend": false,
         "type": "scatter",
         "x": [
          353000000,
          757000000,
          1310000000
         ],
         "xaxis": "x",
         "y": [
          1572864000,
          1179648000,
          1048576000
         ],
         "yaxis": "y"
        },
        {
         "hovertemplate": "Perplexity=24.0<br>Model=$\\textit{DAT}$ <br>Param Count=%{x}<br>Tokens=%{y}<extra></extra>",
         "legendgroup": "24.0, $\\textit{DAT}$ ",
         "line": {
          "color": "rgb(65, 157, 133)",
          "dash": "solid"
         },
         "marker": {
          "symbol": "circle"
         },
         "mode": "lines",
         "name": "24.0",
         "orientation": "v",
         "showlegend": true,
         "type": "scatter",
         "x": [
          343000000,
          734000000,
          1270000000
         ],
         "xaxis": "x",
         "y": [
          1835008000,
          1441792000,
          1179648000
         ],
         "yaxis": "y"
        },
        {
         "hovertemplate": "Perplexity=24.0<br>Model=Transformer <br>Param Count=%{x}<br>Tokens=%{y}<extra></extra>",
         "legendgroup": "24.0, Transformer ",
         "line": {
          "color": "rgb(65, 157, 133)",
          "dash": "dot"
         },
         "marker": {
          "symbol": "circle"
         },
         "mode": "lines",
         "name": "",
         "orientation": "v",
         "showlegend": false,
         "type": "scatter",
         "x": [
          353000000,
          757000000,
          1310000000
         ],
         "xaxis": "x",
         "y": [
          2228224000,
          1572864000,
          1310720000
         ],
         "yaxis": "y"
        },
        {
         "hovertemplate": "Perplexity=21.0<br>Model=$\\textit{DAT}$ <br>Param Count=%{x}<br>Tokens=%{y}<extra></extra>",
         "legendgroup": "21.0, $\\textit{DAT}$ ",
         "line": {
          "color": "rgb(53, 136, 136)",
          "dash": "solid"
         },
         "marker": {
          "symbol": "circle"
         },
         "mode": "lines",
         "name": "21.0",
         "orientation": "v",
         "showlegend": true,
         "type": "scatter",
         "x": [
          343000000,
          734000000,
          1270000000
         ],
         "xaxis": "x",
         "y": [
          3014656000,
          2097152000,
          1703936000
         ],
         "yaxis": "y"
        },
        {
         "hovertemplate": "Perplexity=21.0<br>Model=Transformer <br>Param Count=%{x}<br>Tokens=%{y}<extra></extra>",
         "legendgroup": "21.0, Transformer ",
         "line": {
          "color": "rgb(53, 136, 136)",
          "dash": "dot"
         },
         "marker": {
          "symbol": "circle"
         },
         "mode": "lines",
         "name": "",
         "orientation": "v",
         "showlegend": false,
         "type": "scatter",
         "x": [
          353000000,
          757000000,
          1310000000
         ],
         "xaxis": "x",
         "y": [
          3670016000,
          2359296000,
          1966080000
         ],
         "yaxis": "y"
        },
        {
         "hovertemplate": "Perplexity=18.0<br>Model=$\\textit{DAT}$ <br>Param Count=%{x}<br>Tokens=%{y}<extra></extra>",
         "legendgroup": "18.0, $\\textit{DAT}$ ",
         "line": {
          "color": "rgb(38, 116, 137)",
          "dash": "solid"
         },
         "marker": {
          "symbol": "circle"
         },
         "mode": "lines",
         "name": "18.0",
         "orientation": "v",
         "showlegend": true,
         "type": "scatter",
         "x": [
          343000000,
          734000000,
          1270000000
         ],
         "xaxis": "x",
         "y": [
          5767168000,
          3801088000,
          3014656000
         ],
         "yaxis": "y"
        },
        {
         "hovertemplate": "Perplexity=18.0<br>Model=Transformer <br>Param Count=%{x}<br>Tokens=%{y}<extra></extra>",
         "legendgroup": "18.0, Transformer ",
         "line": {
          "color": "rgb(38, 116, 137)",
          "dash": "dot"
         },
         "marker": {
          "symbol": "circle"
         },
         "mode": "lines",
         "name": "",
         "orientation": "v",
         "showlegend": false,
         "type": "scatter",
         "x": [
          353000000,
          757000000,
          1310000000
         ],
         "xaxis": "x",
         "y": [
          7077888000,
          4194304000,
          3276800000
         ],
         "yaxis": "y"
        },
        {
         "hovertemplate": "Perplexity=15.0<br>Model=$\\textit{DAT}$ <br>Param Count=%{x}<br>Tokens=%{y}<extra></extra>",
         "legendgroup": "15.0, $\\textit{DAT}$ ",
         "line": {
          "color": "rgb(18, 95, 142)",
          "dash": "solid"
         },
         "marker": {
          "symbol": "circle"
         },
         "mode": "lines",
         "name": "15.0",
         "orientation": "v",
         "showlegend": true,
         "type": "scatter",
         "x": [
          343000000,
          734000000,
          1270000000
         ],
         "xaxis": "x",
         "y": [
          null,
          7733248000,
          6029312000
         ],
         "yaxis": "y"
        },
        {
         "hovertemplate": "Perplexity=15.0<br>Model=Transformer <br>Param Count=%{x}<br>Tokens=%{y}<extra></extra>",
         "legendgroup": "15.0, Transformer ",
         "line": {
          "color": "rgb(18, 95, 142)",
          "dash": "dot"
         },
         "marker": {
          "symbol": "circle"
         },
         "mode": "lines",
         "name": "",
         "orientation": "v",
         "showlegend": false,
         "type": "scatter",
         "x": [
          353000000,
          757000000,
          1310000000
         ],
         "xaxis": "x",
         "y": [
          null,
          8781824000,
          6553600000
         ],
         "yaxis": "y"
        },
        {
         "line": {
          "color": "black",
          "dash": "solid"
         },
         "marker": {
          "color": "black",
          "symbol": "circle"
         },
         "mode": "lines",
         "name": "$\\textit{DAT}$ ",
         "type": "scatter",
         "y": [
          null
         ]
        },
        {
         "line": {
          "color": "black",
          "dash": "dot"
         },
         "marker": {
          "color": "black",
          "symbol": "circle"
         },
         "mode": "lines",
         "name": "Transformer ",
         "type": "scatter",
         "y": [
          null
         ]
        }
       ],
       "layout": {
        "legend": {
         "itemclick": false,
         "itemdoubleclick": false,
         "title": {
          "text": "Perplexity"
         },
         "tracegroupgap": 0
        },
        "template": {
         "data": {
          "bar": [
           {
            "error_x": {
             "color": "#2a3f5f"
            },
            "error_y": {
             "color": "#2a3f5f"
            },
            "marker": {
             "line": {
              "color": "white",
              "width": 0.5
             },
             "pattern": {
              "fillmode": "overlay",
              "size": 10,
              "solidity": 0.2
             }
            },
            "type": "bar"
           }
          ],
          "barpolar": [
           {
            "marker": {
             "line": {
              "color": "white",
              "width": 0.5
             },
             "pattern": {
              "fillmode": "overlay",
              "size": 10,
              "solidity": 0.2
             }
            },
            "type": "barpolar"
           }
          ],
          "carpet": [
           {
            "aaxis": {
             "endlinecolor": "#2a3f5f",
             "gridcolor": "#C8D4E3",
             "linecolor": "#C8D4E3",
             "minorgridcolor": "#C8D4E3",
             "startlinecolor": "#2a3f5f"
            },
            "baxis": {
             "endlinecolor": "#2a3f5f",
             "gridcolor": "#C8D4E3",
             "linecolor": "#C8D4E3",
             "minorgridcolor": "#C8D4E3",
             "startlinecolor": "#2a3f5f"
            },
            "type": "carpet"
           }
          ],
          "choropleth": [
           {
            "colorbar": {
             "outlinewidth": 0,
             "ticks": ""
            },
            "type": "choropleth"
           }
          ],
          "contour": [
           {
            "colorbar": {
             "outlinewidth": 0,
             "ticks": ""
            },
            "colorscale": [
             [
              0,
              "#0d0887"
             ],
             [
              0.1111111111111111,
              "#46039f"
             ],
             [
              0.2222222222222222,
              "#7201a8"
             ],
             [
              0.3333333333333333,
              "#9c179e"
             ],
             [
              0.4444444444444444,
              "#bd3786"
             ],
             [
              0.5555555555555556,
              "#d8576b"
             ],
             [
              0.6666666666666666,
              "#ed7953"
             ],
             [
              0.7777777777777778,
              "#fb9f3a"
             ],
             [
              0.8888888888888888,
              "#fdca26"
             ],
             [
              1,
              "#f0f921"
             ]
            ],
            "type": "contour"
           }
          ],
          "contourcarpet": [
           {
            "colorbar": {
             "outlinewidth": 0,
             "ticks": ""
            },
            "type": "contourcarpet"
           }
          ],
          "heatmap": [
           {
            "colorbar": {
             "outlinewidth": 0,
             "ticks": ""
            },
            "colorscale": [
             [
              0,
              "#0d0887"
             ],
             [
              0.1111111111111111,
              "#46039f"
             ],
             [
              0.2222222222222222,
              "#7201a8"
             ],
             [
              0.3333333333333333,
              "#9c179e"
             ],
             [
              0.4444444444444444,
              "#bd3786"
             ],
             [
              0.5555555555555556,
              "#d8576b"
             ],
             [
              0.6666666666666666,
              "#ed7953"
             ],
             [
              0.7777777777777778,
              "#fb9f3a"
             ],
             [
              0.8888888888888888,
              "#fdca26"
             ],
             [
              1,
              "#f0f921"
             ]
            ],
            "type": "heatmap"
           }
          ],
          "heatmapgl": [
           {
            "colorbar": {
             "outlinewidth": 0,
             "ticks": ""
            },
            "colorscale": [
             [
              0,
              "#0d0887"
             ],
             [
              0.1111111111111111,
              "#46039f"
             ],
             [
              0.2222222222222222,
              "#7201a8"
             ],
             [
              0.3333333333333333,
              "#9c179e"
             ],
             [
              0.4444444444444444,
              "#bd3786"
             ],
             [
              0.5555555555555556,
              "#d8576b"
             ],
             [
              0.6666666666666666,
              "#ed7953"
             ],
             [
              0.7777777777777778,
              "#fb9f3a"
             ],
             [
              0.8888888888888888,
              "#fdca26"
             ],
             [
              1,
              "#f0f921"
             ]
            ],
            "type": "heatmapgl"
           }
          ],
          "histogram": [
           {
            "marker": {
             "pattern": {
              "fillmode": "overlay",
              "size": 10,
              "solidity": 0.2
             }
            },
            "type": "histogram"
           }
          ],
          "histogram2d": [
           {
            "colorbar": {
             "outlinewidth": 0,
             "ticks": ""
            },
            "colorscale": [
             [
              0,
              "#0d0887"
             ],
             [
              0.1111111111111111,
              "#46039f"
             ],
             [
              0.2222222222222222,
              "#7201a8"
             ],
             [
              0.3333333333333333,
              "#9c179e"
             ],
             [
              0.4444444444444444,
              "#bd3786"
             ],
             [
              0.5555555555555556,
              "#d8576b"
             ],
             [
              0.6666666666666666,
              "#ed7953"
             ],
             [
              0.7777777777777778,
              "#fb9f3a"
             ],
             [
              0.8888888888888888,
              "#fdca26"
             ],
             [
              1,
              "#f0f921"
             ]
            ],
            "type": "histogram2d"
           }
          ],
          "histogram2dcontour": [
           {
            "colorbar": {
             "outlinewidth": 0,
             "ticks": ""
            },
            "colorscale": [
             [
              0,
              "#0d0887"
             ],
             [
              0.1111111111111111,
              "#46039f"
             ],
             [
              0.2222222222222222,
              "#7201a8"
             ],
             [
              0.3333333333333333,
              "#9c179e"
             ],
             [
              0.4444444444444444,
              "#bd3786"
             ],
             [
              0.5555555555555556,
              "#d8576b"
             ],
             [
              0.6666666666666666,
              "#ed7953"
             ],
             [
              0.7777777777777778,
              "#fb9f3a"
             ],
             [
              0.8888888888888888,
              "#fdca26"
             ],
             [
              1,
              "#f0f921"
             ]
            ],
            "type": "histogram2dcontour"
           }
          ],
          "mesh3d": [
           {
            "colorbar": {
             "outlinewidth": 0,
             "ticks": ""
            },
            "type": "mesh3d"
           }
          ],
          "parcoords": [
           {
            "line": {
             "colorbar": {
              "outlinewidth": 0,
              "ticks": ""
             }
            },
            "type": "parcoords"
           }
          ],
          "pie": [
           {
            "automargin": true,
            "type": "pie"
           }
          ],
          "scatter": [
           {
            "fillpattern": {
             "fillmode": "overlay",
             "size": 10,
             "solidity": 0.2
            },
            "type": "scatter"
           }
          ],
          "scatter3d": [
           {
            "line": {
             "colorbar": {
              "outlinewidth": 0,
              "ticks": ""
             }
            },
            "marker": {
             "colorbar": {
              "outlinewidth": 0,
              "ticks": ""
             }
            },
            "type": "scatter3d"
           }
          ],
          "scattercarpet": [
           {
            "marker": {
             "colorbar": {
              "outlinewidth": 0,
              "ticks": ""
             }
            },
            "type": "scattercarpet"
           }
          ],
          "scattergeo": [
           {
            "marker": {
             "colorbar": {
              "outlinewidth": 0,
              "ticks": ""
             }
            },
            "type": "scattergeo"
           }
          ],
          "scattergl": [
           {
            "marker": {
             "colorbar": {
              "outlinewidth": 0,
              "ticks": ""
             }
            },
            "type": "scattergl"
           }
          ],
          "scattermapbox": [
           {
            "marker": {
             "colorbar": {
              "outlinewidth": 0,
              "ticks": ""
             }
            },
            "type": "scattermapbox"
           }
          ],
          "scatterpolar": [
           {
            "marker": {
             "colorbar": {
              "outlinewidth": 0,
              "ticks": ""
             }
            },
            "type": "scatterpolar"
           }
          ],
          "scatterpolargl": [
           {
            "marker": {
             "colorbar": {
              "outlinewidth": 0,
              "ticks": ""
             }
            },
            "type": "scatterpolargl"
           }
          ],
          "scatterternary": [
           {
            "marker": {
             "colorbar": {
              "outlinewidth": 0,
              "ticks": ""
             }
            },
            "type": "scatterternary"
           }
          ],
          "surface": [
           {
            "colorbar": {
             "outlinewidth": 0,
             "ticks": ""
            },
            "colorscale": [
             [
              0,
              "#0d0887"
             ],
             [
              0.1111111111111111,
              "#46039f"
             ],
             [
              0.2222222222222222,
              "#7201a8"
             ],
             [
              0.3333333333333333,
              "#9c179e"
             ],
             [
              0.4444444444444444,
              "#bd3786"
             ],
             [
              0.5555555555555556,
              "#d8576b"
             ],
             [
              0.6666666666666666,
              "#ed7953"
             ],
             [
              0.7777777777777778,
              "#fb9f3a"
             ],
             [
              0.8888888888888888,
              "#fdca26"
             ],
             [
              1,
              "#f0f921"
             ]
            ],
            "type": "surface"
           }
          ],
          "table": [
           {
            "cells": {
             "fill": {
              "color": "#EBF0F8"
             },
             "line": {
              "color": "white"
             }
            },
            "header": {
             "fill": {
              "color": "#C8D4E3"
             },
             "line": {
              "color": "white"
             }
            },
            "type": "table"
           }
          ]
         },
         "layout": {
          "annotationdefaults": {
           "arrowcolor": "#2a3f5f",
           "arrowhead": 0,
           "arrowwidth": 1
          },
          "autotypenumbers": "strict",
          "coloraxis": {
           "colorbar": {
            "outlinewidth": 0,
            "ticks": ""
           }
          },
          "colorscale": {
           "diverging": [
            [
             0,
             "#8e0152"
            ],
            [
             0.1,
             "#c51b7d"
            ],
            [
             0.2,
             "#de77ae"
            ],
            [
             0.3,
             "#f1b6da"
            ],
            [
             0.4,
             "#fde0ef"
            ],
            [
             0.5,
             "#f7f7f7"
            ],
            [
             0.6,
             "#e6f5d0"
            ],
            [
             0.7,
             "#b8e186"
            ],
            [
             0.8,
             "#7fbc41"
            ],
            [
             0.9,
             "#4d9221"
            ],
            [
             1,
             "#276419"
            ]
           ],
           "sequential": [
            [
             0,
             "#0d0887"
            ],
            [
             0.1111111111111111,
             "#46039f"
            ],
            [
             0.2222222222222222,
             "#7201a8"
            ],
            [
             0.3333333333333333,
             "#9c179e"
            ],
            [
             0.4444444444444444,
             "#bd3786"
            ],
            [
             0.5555555555555556,
             "#d8576b"
            ],
            [
             0.6666666666666666,
             "#ed7953"
            ],
            [
             0.7777777777777778,
             "#fb9f3a"
            ],
            [
             0.8888888888888888,
             "#fdca26"
            ],
            [
             1,
             "#f0f921"
            ]
           ],
           "sequentialminus": [
            [
             0,
             "#0d0887"
            ],
            [
             0.1111111111111111,
             "#46039f"
            ],
            [
             0.2222222222222222,
             "#7201a8"
            ],
            [
             0.3333333333333333,
             "#9c179e"
            ],
            [
             0.4444444444444444,
             "#bd3786"
            ],
            [
             0.5555555555555556,
             "#d8576b"
            ],
            [
             0.6666666666666666,
             "#ed7953"
            ],
            [
             0.7777777777777778,
             "#fb9f3a"
            ],
            [
             0.8888888888888888,
             "#fdca26"
            ],
            [
             1,
             "#f0f921"
            ]
           ]
          },
          "colorway": [
           "#636efa",
           "#EF553B",
           "#00cc96",
           "#ab63fa",
           "#FFA15A",
           "#19d3f3",
           "#FF6692",
           "#B6E880",
           "#FF97FF",
           "#FECB52"
          ],
          "font": {
           "color": "#2a3f5f"
          },
          "geo": {
           "bgcolor": "white",
           "lakecolor": "white",
           "landcolor": "white",
           "showlakes": true,
           "showland": true,
           "subunitcolor": "#C8D4E3"
          },
          "hoverlabel": {
           "align": "left"
          },
          "hovermode": "closest",
          "mapbox": {
           "style": "light"
          },
          "paper_bgcolor": "white",
          "plot_bgcolor": "white",
          "polar": {
           "angularaxis": {
            "gridcolor": "#EBF0F8",
            "linecolor": "#EBF0F8",
            "ticks": ""
           },
           "bgcolor": "white",
           "radialaxis": {
            "gridcolor": "#EBF0F8",
            "linecolor": "#EBF0F8",
            "ticks": ""
           }
          },
          "scene": {
           "xaxis": {
            "backgroundcolor": "white",
            "gridcolor": "#DFE8F3",
            "gridwidth": 2,
            "linecolor": "#EBF0F8",
            "showbackground": true,
            "ticks": "",
            "zerolinecolor": "#EBF0F8"
           },
           "yaxis": {
            "backgroundcolor": "white",
            "gridcolor": "#DFE8F3",
            "gridwidth": 2,
            "linecolor": "#EBF0F8",
            "showbackground": true,
            "ticks": "",
            "zerolinecolor": "#EBF0F8"
           },
           "zaxis": {
            "backgroundcolor": "white",
            "gridcolor": "#DFE8F3",
            "gridwidth": 2,
            "linecolor": "#EBF0F8",
            "showbackground": true,
            "ticks": "",
            "zerolinecolor": "#EBF0F8"
           }
          },
          "shapedefaults": {
           "line": {
            "color": "#2a3f5f"
           }
          },
          "ternary": {
           "aaxis": {
            "gridcolor": "#DFE8F3",
            "linecolor": "#A2B1C6",
            "ticks": ""
           },
           "baxis": {
            "gridcolor": "#DFE8F3",
            "linecolor": "#A2B1C6",
            "ticks": ""
           },
           "bgcolor": "white",
           "caxis": {
            "gridcolor": "#DFE8F3",
            "linecolor": "#A2B1C6",
            "ticks": ""
           }
          },
          "title": {
           "x": 0.05
          },
          "xaxis": {
           "automargin": true,
           "gridcolor": "#EBF0F8",
           "linecolor": "#EBF0F8",
           "ticks": "",
           "title": {
            "standoff": 15
           },
           "zerolinecolor": "#EBF0F8",
           "zerolinewidth": 2
          },
          "yaxis": {
           "automargin": true,
           "gridcolor": "#EBF0F8",
           "linecolor": "#EBF0F8",
           "ticks": "",
           "title": {
            "standoff": 15
           },
           "zerolinecolor": "#EBF0F8",
           "zerolinewidth": 2
          }
         }
        },
        "title": {
         "text": "Language Modeling Scaling Laws"
        },
        "xaxis": {
         "anchor": "y",
         "domain": [
          0,
          1
         ],
         "range": [
          300000000,
          1350000000
         ],
         "ticktext": [
          "350M",
          "750M",
          "1.3B"
         ],
         "tickvals": [
          350000000,
          750000000,
          1300000000
         ],
         "title": {
          "text": "Parameter Count"
         }
        },
        "yaxis": {
         "anchor": "x",
         "domain": [
          0,
          1
         ],
         "ticktext": [
          "1B",
          "2B",
          "5B",
          "10B"
         ],
         "tickvals": [
          1000000000,
          2000000000,
          5000000000,
          10000000000
         ],
         "title": {
          "text": "Tokens"
         },
         "type": "log"
        }
       }
      }
     },
     "metadata": {},
     "output_type": "display_data"
    }
   ],
   "source": [
    "import plotly.express as px\n",
    "import plotly.graph_objects as go\n",
    "\n",
    "fig = px.line(df, x='Param Count', y='Tokens', color='Perplexity', line_dash='Model',\n",
    "    # width=1200, height=600, \n",
    "    template=theme,\n",
    "    color_discrete_sequence=px.colors.sequential.haline_r[3:],\n",
    "    title='Language Modeling Scaling Laws')\n",
    "\n",
    "fig.update_yaxes(type='log')\n",
    "\n",
    "fig.update_xaxes(range=[300e6, 1.35e9], tickvals=[350e6, 750e6, 1.3e9], ticktext=['350M', '750M', '1.3B'], title_text='Parameter Count')\n",
    "fig.update_yaxes(tickvals=[1e9, 2e9, 5e9, 10e9], ticktext=['1B', '2B', '5B', '10B'])\n",
    "\n",
    "def compress_legend(fig):\n",
    "   group1_base, group2_base  = fig.data[0].name.split(\",\")\n",
    "   lines_marker_name = []\n",
    "   for i, trace in enumerate(fig.data):\n",
    "       part1,part2 = trace.name.split(',')\n",
    "       if part1 == group1_base:\n",
    "           lines_marker_name.append({\"line\": trace.line.to_plotly_json(), \"marker\": trace.marker.to_plotly_json(), \"mode\": trace.mode, \"name\": part2.lstrip(\" \")})\n",
    "       if part2 != group2_base:\n",
    "           trace['name'] = ''\n",
    "           trace['showlegend']=False\n",
    "       else:\n",
    "           trace['name'] = part1\n",
    "\n",
    "   for lmn in lines_marker_name:\n",
    "       lmn[\"line\"][\"color\"] = \"black\"\n",
    "       lmn[\"marker\"][\"color\"] = \"black\"\n",
    "       fig.add_trace(go.Scatter(y=[None], **lmn))\n",
    "   fig.update_layout(legend_title_text='Perplexity', \n",
    "                     legend_itemclick=False,\n",
    "                     legend_itemdoubleclick= False)\n",
    "\n",
    "compress_legend(fig)\n",
    "\n",
    "fig.show()"
   ]
  },
  {
   "cell_type": "code",
   "execution_count": 36,
   "metadata": {},
   "outputs": [],
   "source": [
    "# save to html\n",
    "fig_html = plotly.offline.plot(fig, include_plotlyjs=False, output_type='div')\n",
    "with open(f'{save_dir}/language_modeling_scaling_laws.html', 'w') as f:\n",
    "    f.write(fig_html)\n",
    "\n",
    "# save json\n",
    "fig_json = fig.to_json()\n",
    "with open(f'{save_dir}/language_modeling_scaling_laws.json', 'w') as f:\n",
    "    f.write(fig_json)"
   ]
  },
  {
   "cell_type": "markdown",
   "metadata": {},
   "source": [
    "## Language Modeling: Tiny Stories"
   ]
  },
  {
   "cell_type": "code",
   "execution_count": 41,
   "metadata": {},
   "outputs": [
    {
     "data": {
      "text/html": [
       "<div>\n",
       "<style scoped>\n",
       "    .dataframe tbody tr th:only-of-type {\n",
       "        vertical-align: middle;\n",
       "    }\n",
       "\n",
       "    .dataframe tbody tr th {\n",
       "        vertical-align: top;\n",
       "    }\n",
       "\n",
       "    .dataframe thead th {\n",
       "        text-align: right;\n",
       "    }\n",
       "</style>\n",
       "<table border=\"1\" class=\"dataframe\">\n",
       "  <thead>\n",
       "    <tr style=\"text-align: right;\">\n",
       "      <th></th>\n",
       "      <th>val/perplexity</th>\n",
       "      <th>mfu</th>\n",
       "      <th>tokens</th>\n",
       "      <th>Generated Samples</th>\n",
       "      <th>lr</th>\n",
       "      <th>val/loss</th>\n",
       "      <th>train/loss</th>\n",
       "      <th>_timestamp</th>\n",
       "      <th>_step</th>\n",
       "      <th>train/perplexity</th>\n",
       "      <th>...</th>\n",
       "      <th>n_layers</th>\n",
       "      <th>wandb_log</th>\n",
       "      <th>weight_decay</th>\n",
       "      <th>vocab_source</th>\n",
       "      <th>out_dir</th>\n",
       "      <th>pos_enc_type</th>\n",
       "      <th>beta1</th>\n",
       "      <th>sym_attn_n_symbols</th>\n",
       "      <th>group</th>\n",
       "      <th>name</th>\n",
       "    </tr>\n",
       "  </thead>\n",
       "  <tbody>\n",
       "    <tr>\n",
       "      <th>0</th>\n",
       "      <td>39238.144531</td>\n",
       "      <td>-100.000000</td>\n",
       "      <td>0.000000e+00</td>\n",
       "      <td>NaN</td>\n",
       "      <td>0.001</td>\n",
       "      <td>10.577385</td>\n",
       "      <td>10.578004</td>\n",
       "      <td>1.716068e+09</td>\n",
       "      <td>0</td>\n",
       "      <td>39261.359375</td>\n",
       "      <td>...</td>\n",
       "      <td>6</td>\n",
       "      <td>True</td>\n",
       "      <td>0.1</td>\n",
       "      <td>llama2</td>\n",
       "      <td>out/sa=4; rca=4; d=128; L=6; rca_type=disentan...</td>\n",
       "      <td>RoPE</td>\n",
       "      <td>0.9</td>\n",
       "      <td>512.0</td>\n",
       "      <td>NaN</td>\n",
       "      <td>sa=4; rca=4; d=128; L=6; rca_type=disentangled...</td>\n",
       "    </tr>\n",
       "    <tr>\n",
       "      <th>1</th>\n",
       "      <td>5.612392</td>\n",
       "      <td>3.820743</td>\n",
       "      <td>2.621440e+08</td>\n",
       "      <td>NaN</td>\n",
       "      <td>0.001</td>\n",
       "      <td>1.724343</td>\n",
       "      <td>1.727050</td>\n",
       "      <td>1.716069e+09</td>\n",
       "      <td>2000</td>\n",
       "      <td>5.626907</td>\n",
       "      <td>...</td>\n",
       "      <td>6</td>\n",
       "      <td>True</td>\n",
       "      <td>0.1</td>\n",
       "      <td>llama2</td>\n",
       "      <td>out/sa=4; rca=4; d=128; L=6; rca_type=disentan...</td>\n",
       "      <td>RoPE</td>\n",
       "      <td>0.9</td>\n",
       "      <td>512.0</td>\n",
       "      <td>NaN</td>\n",
       "      <td>sa=4; rca=4; d=128; L=6; rca_type=disentangled...</td>\n",
       "    </tr>\n",
       "    <tr>\n",
       "      <th>2</th>\n",
       "      <td>4.960096</td>\n",
       "      <td>3.820697</td>\n",
       "      <td>5.242880e+08</td>\n",
       "      <td>NaN</td>\n",
       "      <td>0.001</td>\n",
       "      <td>1.600834</td>\n",
       "      <td>1.604139</td>\n",
       "      <td>1.716071e+09</td>\n",
       "      <td>4000</td>\n",
       "      <td>4.975849</td>\n",
       "      <td>...</td>\n",
       "      <td>6</td>\n",
       "      <td>True</td>\n",
       "      <td>0.1</td>\n",
       "      <td>llama2</td>\n",
       "      <td>out/sa=4; rca=4; d=128; L=6; rca_type=disentan...</td>\n",
       "      <td>RoPE</td>\n",
       "      <td>0.9</td>\n",
       "      <td>512.0</td>\n",
       "      <td>NaN</td>\n",
       "      <td>sa=4; rca=4; d=128; L=6; rca_type=disentangled...</td>\n",
       "    </tr>\n",
       "    <tr>\n",
       "      <th>3</th>\n",
       "      <td>4.704290</td>\n",
       "      <td>3.820555</td>\n",
       "      <td>7.864320e+08</td>\n",
       "      <td>NaN</td>\n",
       "      <td>0.001</td>\n",
       "      <td>1.547904</td>\n",
       "      <td>1.550540</td>\n",
       "      <td>1.716072e+09</td>\n",
       "      <td>6000</td>\n",
       "      <td>4.716177</td>\n",
       "      <td>...</td>\n",
       "      <td>6</td>\n",
       "      <td>True</td>\n",
       "      <td>0.1</td>\n",
       "      <td>llama2</td>\n",
       "      <td>out/sa=4; rca=4; d=128; L=6; rca_type=disentan...</td>\n",
       "      <td>RoPE</td>\n",
       "      <td>0.9</td>\n",
       "      <td>512.0</td>\n",
       "      <td>NaN</td>\n",
       "      <td>sa=4; rca=4; d=128; L=6; rca_type=disentangled...</td>\n",
       "    </tr>\n",
       "    <tr>\n",
       "      <th>4</th>\n",
       "      <td>4.540239</td>\n",
       "      <td>3.820479</td>\n",
       "      <td>1.048576e+09</td>\n",
       "      <td>NaN</td>\n",
       "      <td>0.001</td>\n",
       "      <td>1.512442</td>\n",
       "      <td>1.515324</td>\n",
       "      <td>1.716074e+09</td>\n",
       "      <td>8000</td>\n",
       "      <td>4.552852</td>\n",
       "      <td>...</td>\n",
       "      <td>6</td>\n",
       "      <td>True</td>\n",
       "      <td>0.1</td>\n",
       "      <td>llama2</td>\n",
       "      <td>out/sa=4; rca=4; d=128; L=6; rca_type=disentan...</td>\n",
       "      <td>RoPE</td>\n",
       "      <td>0.9</td>\n",
       "      <td>512.0</td>\n",
       "      <td>NaN</td>\n",
       "      <td>sa=4; rca=4; d=128; L=6; rca_type=disentangled...</td>\n",
       "    </tr>\n",
       "  </tbody>\n",
       "</table>\n",
       "<p>5 rows × 59 columns</p>\n",
       "</div>"
      ],
      "text/plain": [
       "   val/perplexity         mfu        tokens Generated Samples     lr  \\\n",
       "0    39238.144531 -100.000000  0.000000e+00               NaN  0.001   \n",
       "1        5.612392    3.820743  2.621440e+08               NaN  0.001   \n",
       "2        4.960096    3.820697  5.242880e+08               NaN  0.001   \n",
       "3        4.704290    3.820555  7.864320e+08               NaN  0.001   \n",
       "4        4.540239    3.820479  1.048576e+09               NaN  0.001   \n",
       "\n",
       "    val/loss  train/loss    _timestamp  _step  train/perplexity  ...  \\\n",
       "0  10.577385   10.578004  1.716068e+09      0      39261.359375  ...   \n",
       "1   1.724343    1.727050  1.716069e+09   2000          5.626907  ...   \n",
       "2   1.600834    1.604139  1.716071e+09   4000          4.975849  ...   \n",
       "3   1.547904    1.550540  1.716072e+09   6000          4.716177  ...   \n",
       "4   1.512442    1.515324  1.716074e+09   8000          4.552852  ...   \n",
       "\n",
       "   n_layers  wandb_log  weight_decay vocab_source  \\\n",
       "0         6       True           0.1       llama2   \n",
       "1         6       True           0.1       llama2   \n",
       "2         6       True           0.1       llama2   \n",
       "3         6       True           0.1       llama2   \n",
       "4         6       True           0.1       llama2   \n",
       "\n",
       "                                             out_dir  pos_enc_type  beta1  \\\n",
       "0  out/sa=4; rca=4; d=128; L=6; rca_type=disentan...          RoPE    0.9   \n",
       "1  out/sa=4; rca=4; d=128; L=6; rca_type=disentan...          RoPE    0.9   \n",
       "2  out/sa=4; rca=4; d=128; L=6; rca_type=disentan...          RoPE    0.9   \n",
       "3  out/sa=4; rca=4; d=128; L=6; rca_type=disentan...          RoPE    0.9   \n",
       "4  out/sa=4; rca=4; d=128; L=6; rca_type=disentan...          RoPE    0.9   \n",
       "\n",
       "   sym_attn_n_symbols  group  \\\n",
       "0               512.0    NaN   \n",
       "1               512.0    NaN   \n",
       "2               512.0    NaN   \n",
       "3               512.0    NaN   \n",
       "4               512.0    NaN   \n",
       "\n",
       "                                                name  \n",
       "0  sa=4; rca=4; d=128; L=6; rca_type=disentangled...  \n",
       "1  sa=4; rca=4; d=128; L=6; rca_type=disentangled...  \n",
       "2  sa=4; rca=4; d=128; L=6; rca_type=disentangled...  \n",
       "3  sa=4; rca=4; d=128; L=6; rca_type=disentangled...  \n",
       "4  sa=4; rca=4; d=128; L=6; rca_type=disentangled...  \n",
       "\n",
       "[5 rows x 59 columns]"
      ]
     },
     "execution_count": 41,
     "metadata": {},
     "output_type": "execute_result"
    }
   ],
   "source": [
    "figure_data = pd.read_csv('figure_data/tiny_stories/run_histories.csv')\n",
    "figure_data.head()"
   ]
  },
  {
   "cell_type": "code",
   "execution_count": 42,
   "metadata": {},
   "outputs": [],
   "source": [
    "# bar plot figure\n",
    "color_map_ = {\n",
    "    '$\\\\text{Transformer}\\ (n_h^{sa}=8, n_h^{ra}=0)$': cmap(6), # red\n",
    "    f'$\\\\text{{{our_model_name}}}\\ (n_h^{{sa}}=6, n_h^{{ra}}=2)$': cmap(8), # purple\n",
    "    f'$\\\\text{{{our_model_name}}}\\ (n_h^{{sa}}=4, n_h^{{ra}}=4)$': cmap(0), # blue\n",
    "    # 'Transformer+': cmap(4),\n",
    "    }\n",
    "\n",
    "color_map = {k: convert_to_plotly_color(color_map_[k]) for k in color_map_}\n",
    "models = color_map_.keys()"
   ]
  },
  {
   "cell_type": "code",
   "execution_count": 43,
   "metadata": {},
   "outputs": [],
   "source": [
    "def get_model_name(row):\n",
    "    if row.rca == 0:\n",
    "        return f'$\\\\text{{Transformer}}\\ (n_h^{{sa}}={row.sa}, n_h^{{ra}}={row.rca})$'\n",
    "    else:\n",
    "        # return f\"AbstractTransformer [{row['Symbol Type']}, symm={row['Symmetric RA']}] ($n_h^{{sa}} = {row.sa}, n_h^{{ra}}={row.rca}$)\"\n",
    "        return f\"$\\\\text{{{our_model_name}}}\\ (n_h^{{sa}}={row.sa}, n_h^{{ra}}={row.rca})$\""
   ]
  },
  {
   "cell_type": "code",
   "execution_count": 44,
   "metadata": {},
   "outputs": [],
   "source": [
    "figure_data = figure_data.rename(columns={\n",
    "    'symbol_type': 'Symbol Type', 'symmetric_rels': 'Symmetric RA', \n",
    "    'val/loss': 'Validation Loss', 'val/perplexity': 'Validation Perplexity', 'tokens': 'Tokens'})\n",
    "\n",
    "figure_data.loc[figure_data['rca']==0, 'Symbol Type'] = 'NA'\n",
    "figure_data.loc[figure_data['rca']==0, 'Symmetric RA'] = 'NA'\n",
    "\n",
    "figure_data['Model'] = pd.Categorical(figure_data.apply(get_model_name, axis=1), models, ordered=True)\n",
    "sym_map = {'sym_attn': 'Symbolic Attention', 'pos_relative': 'Position-Relative Symbols'}\n",
    "figure_data['Symbol Type'] = pd.Categorical(figure_data['Symbol Type'].map(sym_map), sym_map.values(), ordered=True)"
   ]
  },
  {
   "cell_type": "code",
   "execution_count": 45,
   "metadata": {},
   "outputs": [],
   "source": [
    "def filter_data(figure_data, d_models=None, layers=None, filter_first_step=False, filter_transformer=False, symbol_types=None, symmetry=None, rca_types=None):\n",
    "    filter_ = ~figure_data.index.isna()\n",
    "    if d_models is not None:\n",
    "        filter_ = filter_ & (figure_data['d_model'].isin(d_models))\n",
    "    if layers is not None:\n",
    "        filter_ = filter_ & (figure_data['n_layers'].isin(layers))\n",
    "    if filter_transformer:\n",
    "        filter_ = filter_ & (figure_data['rca'] > 0)\n",
    "    if filter_first_step:\n",
    "        filter_ = filter_ & (figure_data['_step'] > 0)\n",
    "    if symbol_types is not None:\n",
    "        symbol_types = [sym_map[s] for s in symbol_types]\n",
    "        filter_ = filter_ & ((figure_data['rca'] == 0) | figure_data['Symbol Type'].isin(symbol_types))\n",
    "    if symmetry is not None:\n",
    "        filter_ = filter_ & ((figure_data['rca'] == 0) | figure_data['Symmetric RA'].isin(symmetry))\n",
    "    if rca_types is not None:\n",
    "        filter_ = filter_ & ((figure_data['rca'] == 0) | (figure_data['rca_type'].isin(rca_types)))\n",
    "    filtered_data = figure_data.copy()[filter_]\n",
    "\n",
    "    if filter_transformer:\n",
    "        filtered_data['Model'] = filtered_data['Model'].cat.remove_unused_categories()\n",
    "\n",
    "    return filtered_data"
   ]
  },
  {
   "cell_type": "markdown",
   "metadata": {},
   "source": [
    "### All Plots & Ablations"
   ]
  },
  {
   "cell_type": "code",
   "execution_count": 46,
   "metadata": {},
   "outputs": [
    {
     "data": {
      "application/vnd.plotly.v1+json": {
       "config": {
        "plotlyServerURL": "https://plot.ly"
       },
       "data": [
        {
         "line": {
          "color": "rgb(214, 39, 40)"
         },
         "mode": "lines",
         "name": "$\\text{Transformer}\\ (n_h^{sa}=8, n_h^{ra}=0)$",
         "type": "scatter",
         "x": [
          262144000,
          524288000,
          786432000,
          1048576000,
          1310720000,
          1572864000,
          1835008000,
          2097152000,
          2359296000,
          2621440000,
          2883584000,
          3145728000,
          3407872000,
          3670016000,
          3932160000,
          4194304000,
          4456448000,
          4718592000,
          4980736000,
          5242880000,
          5505024000,
          5767168000,
          6029312000,
          6291456000,
          6553600000,
          6815744000,
          7077888000,
          7340032000,
          7602176000,
          7864320000,
          8126464000,
          8388608000,
          8650752000,
          8912896000,
          9175040000,
          9437184000,
          9699328000,
          9961472000,
          10223616000,
          10485760000,
          10747904000,
          11010048000,
          11272192000,
          11534336000,
          11796480000,
          12058624000,
          12320768000,
          12582912000,
          12845056000,
          13107200000
         ],
         "y": [
          2.1996302604675293,
          2.0533580780029297,
          1.9890649318695068,
          1.9500603675842283,
          1.9248363971710205,
          1.9057464599609373,
          1.8914169073104856,
          1.8777374029159544,
          1.8683210611343384,
          1.8589776754379272,
          1.8503668308258057,
          1.8430774211883545,
          1.8382142782211304,
          1.8315367698669436,
          1.8272401094436648,
          1.82348895072937,
          1.8201165199279783,
          1.8167064189910889,
          1.814137578010559,
          1.8096237182617188,
          1.8082042932510376,
          1.8064602613449097,
          1.8034521341323853,
          1.801059007644653,
          1.8011616468429563,
          1.799071192741394,
          1.7970629930496216,
          1.794730544090271,
          1.795030117034912,
          1.79325270652771,
          1.7925949096679688,
          1.7911642789840698,
          1.7892590761184692,
          1.787448167800903,
          1.7878050804138184,
          1.787154197692871,
          1.7865177392959597,
          1.7838354110717771,
          1.7856651544570925,
          1.7845475673675537,
          1.7826460599899292,
          1.7818496227264404,
          1.7819966077804563,
          1.7812185287475586,
          1.7802876234054563,
          1.77818500995636,
          1.778957486152649,
          1.7770054340362549,
          1.7774953842163086,
          1.7751867771148682
         ]
        },
        {
         "line": {
          "color": "rgb(148, 103, 189)"
         },
         "mode": "lines",
         "name": "$\\text{Dual-Attn Transformer}\\ (n_h^{sa}=6, n_h^{ra}=2)$",
         "type": "scatter",
         "x": [
          262144000,
          524288000,
          786432000,
          1048576000,
          1310720000,
          1572864000,
          1835008000,
          2097152000,
          2359296000,
          2621440000,
          2883584000,
          3145728000,
          3407872000,
          3670016000,
          3932160000,
          4194304000,
          4456448000,
          4718592000,
          4980736000,
          5242880000,
          5505024000,
          5767168000,
          6029312000,
          6291456000,
          6553600000,
          6815744000,
          7077888000,
          7340032000,
          7602176000,
          7864320000,
          8126464000,
          8388608000,
          8650752000,
          8912896000,
          9175040000,
          9437184000,
          9699328000,
          9961472000,
          10223616000,
          10485760000,
          10747904000,
          11010048000,
          11272192000,
          11534336000,
          11796480000,
          12058624000,
          12320768000,
          12582912000,
          12845056000,
          13107200000
         ],
         "y": [
          2.196382999420166,
          2.034463405609131,
          1.9667112827301023,
          1.9289926290512085,
          1.9015259742736816,
          1.8813143968582156,
          1.8663032054901123,
          1.8528841733932493,
          1.8421305418014529,
          1.8336639404296875,
          1.8249456882476809,
          1.8171300888061523,
          1.810732126235962,
          1.803471326828003,
          1.7997289896011353,
          1.7948590517044067,
          1.7909040451049805,
          1.7875593900680542,
          1.783300757408142,
          1.7809395790100098,
          1.7778390645980835,
          1.774359107017517,
          1.7723537683486938,
          1.770103931427002,
          1.7688703536987305,
          1.7653864622116089,
          1.7639352083206177,
          1.7620267868041992,
          1.760570049285889,
          1.759976863861084,
          1.757420778274536,
          1.7573339939117432,
          1.7545944452285769,
          1.7523537874221802,
          1.7518348693847656,
          1.7515450716018677,
          1.7493668794631958,
          1.7480849027633667,
          1.7494202852249146,
          1.747207760810852,
          1.7461035251617432,
          1.7452399730682373,
          1.7448861598968506,
          1.7427618503570557,
          1.7439885139465332,
          1.7426352500915527,
          1.7418321371078491,
          1.7414636611938477,
          1.7409448623657229,
          1.739770531654358
         ]
        },
        {
         "line": {
          "color": "rgb(31, 119, 180)"
         },
         "mode": "lines",
         "name": "$\\text{Dual-Attn Transformer}\\ (n_h^{sa}=4, n_h^{ra}=4)$",
         "type": "scatter",
         "x": [
          262144000,
          524288000,
          786432000,
          1048576000,
          1310720000,
          1572864000,
          1835008000,
          2097152000,
          2359296000,
          2621440000,
          2883584000,
          3145728000,
          3407872000,
          3670016000,
          3932160000,
          4194304000,
          4456448000,
          4718592000,
          4980736000,
          5242880000,
          5505024000,
          5767168000,
          6029312000,
          6291456000,
          6553600000,
          6815744000,
          7077888000,
          7340032000,
          7602176000,
          7864320000,
          8126464000,
          8388608000,
          8650752000,
          8912896000,
          9175040000,
          9437184000,
          9699328000,
          9961472000,
          10223616000,
          10485760000,
          10747904000,
          11010048000,
          11272192000,
          11534336000,
          11796480000,
          12058624000,
          12320768000,
          12582912000,
          12845056000,
          13107200000
         ],
         "y": [
          2.196918487548828,
          2.0397231578826904,
          1.971346139907837,
          1.9299396276474,
          1.9008493423461916,
          1.880784511566162,
          1.8637737035751345,
          1.848860025405884,
          1.836646556854248,
          1.8273401260375977,
          1.8188908100128172,
          1.8099637031555176,
          1.8018194437026975,
          1.795548677444458,
          1.7904152870178225,
          1.7842307090759275,
          1.7816473245620728,
          1.778003215789795,
          1.7738474607467651,
          1.7702778577804563,
          1.7682969570159912,
          1.7652488946914673,
          1.762418508529663,
          1.7595878839492798,
          1.7581572532653809,
          1.755863070487976,
          1.7535613775253296,
          1.752448558807373,
          1.7503437995910645,
          1.7507153749465942,
          1.7495825290679932,
          1.7458027601242063,
          1.74564790725708,
          1.743393063545227,
          1.7426176071166992,
          1.743573784828186,
          1.7404687404632568,
          1.738733172416687,
          1.7387416362762451,
          1.7366671562194824,
          1.736600399017334,
          1.734992265701294,
          1.7351617813110352,
          1.7343353033065796,
          1.7333511114120483,
          1.7330397367477417,
          1.7329760789871216,
          1.7322916984558103,
          1.7298462390899658,
          1.7293901443481443
         ]
        }
       ],
       "frames": [
        {
         "data": [
          {
           "line": {
            "color": "rgb(214, 39, 40)"
           },
           "mode": "lines",
           "name": "$\\text{Transformer}\\ (n_h^{sa}=8, n_h^{ra}=0)$",
           "type": "scatter",
           "x": [
            262144000,
            524288000,
            786432000,
            1048576000,
            1310720000,
            1572864000,
            1835008000,
            2097152000,
            2359296000,
            2621440000,
            2883584000,
            3145728000,
            3407872000,
            3670016000,
            3932160000,
            4194304000,
            4456448000,
            4718592000,
            4980736000,
            5242880000,
            5505024000,
            5767168000,
            6029312000,
            6291456000,
            6553600000,
            6815744000,
            7077888000,
            7340032000,
            7602176000,
            7864320000,
            8126464000,
            8388608000,
            8650752000,
            8912896000,
            9175040000,
            9437184000,
            9699328000,
            9961472000,
            10223616000,
            10485760000,
            10747904000,
            11010048000,
            11272192000,
            11534336000,
            11796480000,
            12058624000,
            12320768000,
            12582912000,
            12845056000,
            13107200000
           ],
           "y": [
            2.1996302604675293,
            2.0533580780029297,
            1.9890649318695068,
            1.9500603675842283,
            1.9248363971710205,
            1.9057464599609373,
            1.8914169073104856,
            1.8777374029159544,
            1.8683210611343384,
            1.8589776754379272,
            1.8503668308258057,
            1.8430774211883545,
            1.8382142782211304,
            1.8315367698669436,
            1.8272401094436648,
            1.82348895072937,
            1.8201165199279783,
            1.8167064189910889,
            1.814137578010559,
            1.8096237182617188,
            1.8082042932510376,
            1.8064602613449097,
            1.8034521341323853,
            1.801059007644653,
            1.8011616468429563,
            1.799071192741394,
            1.7970629930496216,
            1.794730544090271,
            1.795030117034912,
            1.79325270652771,
            1.7925949096679688,
            1.7911642789840698,
            1.7892590761184692,
            1.787448167800903,
            1.7878050804138184,
            1.787154197692871,
            1.7865177392959597,
            1.7838354110717771,
            1.7856651544570925,
            1.7845475673675537,
            1.7826460599899292,
            1.7818496227264404,
            1.7819966077804563,
            1.7812185287475586,
            1.7802876234054563,
            1.77818500995636,
            1.778957486152649,
            1.7770054340362549,
            1.7774953842163086,
            1.7751867771148682
           ]
          },
          {
           "line": {
            "color": "rgb(148, 103, 189)"
           },
           "mode": "lines",
           "name": "$\\text{Dual-Attn Transformer}\\ (n_h^{sa}=6, n_h^{ra}=2)$",
           "type": "scatter",
           "x": [
            262144000,
            524288000,
            786432000,
            1048576000,
            1310720000,
            1572864000,
            1835008000,
            2097152000,
            2359296000,
            2621440000,
            2883584000,
            3145728000,
            3407872000,
            3670016000,
            3932160000,
            4194304000,
            4456448000,
            4718592000,
            4980736000,
            5242880000,
            5505024000,
            5767168000,
            6029312000,
            6291456000,
            6553600000,
            6815744000,
            7077888000,
            7340032000,
            7602176000,
            7864320000,
            8126464000,
            8388608000,
            8650752000,
            8912896000,
            9175040000,
            9437184000,
            9699328000,
            9961472000,
            10223616000,
            10485760000,
            10747904000,
            11010048000,
            11272192000,
            11534336000,
            11796480000,
            12058624000,
            12320768000,
            12582912000,
            12845056000,
            13107200000
           ],
           "y": [
            2.196382999420166,
            2.034463405609131,
            1.9667112827301023,
            1.9289926290512085,
            1.9015259742736816,
            1.8813143968582156,
            1.8663032054901123,
            1.8528841733932493,
            1.8421305418014529,
            1.8336639404296875,
            1.8249456882476809,
            1.8171300888061523,
            1.810732126235962,
            1.803471326828003,
            1.7997289896011353,
            1.7948590517044067,
            1.7909040451049805,
            1.7875593900680542,
            1.783300757408142,
            1.7809395790100098,
            1.7778390645980835,
            1.774359107017517,
            1.7723537683486938,
            1.770103931427002,
            1.7688703536987305,
            1.7653864622116089,
            1.7639352083206177,
            1.7620267868041992,
            1.760570049285889,
            1.759976863861084,
            1.757420778274536,
            1.7573339939117432,
            1.7545944452285769,
            1.7523537874221802,
            1.7518348693847656,
            1.7515450716018677,
            1.7493668794631958,
            1.7480849027633667,
            1.7494202852249146,
            1.747207760810852,
            1.7461035251617432,
            1.7452399730682373,
            1.7448861598968506,
            1.7427618503570557,
            1.7439885139465332,
            1.7426352500915527,
            1.7418321371078491,
            1.7414636611938477,
            1.7409448623657229,
            1.739770531654358
           ]
          },
          {
           "line": {
            "color": "rgb(31, 119, 180)"
           },
           "mode": "lines",
           "name": "$\\text{Dual-Attn Transformer}\\ (n_h^{sa}=4, n_h^{ra}=4)$",
           "type": "scatter",
           "x": [
            262144000,
            524288000,
            786432000,
            1048576000,
            1310720000,
            1572864000,
            1835008000,
            2097152000,
            2359296000,
            2621440000,
            2883584000,
            3145728000,
            3407872000,
            3670016000,
            3932160000,
            4194304000,
            4456448000,
            4718592000,
            4980736000,
            5242880000,
            5505024000,
            5767168000,
            6029312000,
            6291456000,
            6553600000,
            6815744000,
            7077888000,
            7340032000,
            7602176000,
            7864320000,
            8126464000,
            8388608000,
            8650752000,
            8912896000,
            9175040000,
            9437184000,
            9699328000,
            9961472000,
            10223616000,
            10485760000,
            10747904000,
            11010048000,
            11272192000,
            11534336000,
            11796480000,
            12058624000,
            12320768000,
            12582912000,
            12845056000,
            13107200000
           ],
           "y": [
            2.196918487548828,
            2.0397231578826904,
            1.971346139907837,
            1.9299396276474,
            1.9008493423461916,
            1.880784511566162,
            1.8637737035751345,
            1.848860025405884,
            1.836646556854248,
            1.8273401260375977,
            1.8188908100128172,
            1.8099637031555176,
            1.8018194437026975,
            1.795548677444458,
            1.7904152870178225,
            1.7842307090759275,
            1.7816473245620728,
            1.778003215789795,
            1.7738474607467651,
            1.7702778577804563,
            1.7682969570159912,
            1.7652488946914673,
            1.762418508529663,
            1.7595878839492798,
            1.7581572532653809,
            1.755863070487976,
            1.7535613775253296,
            1.752448558807373,
            1.7503437995910645,
            1.7507153749465942,
            1.7495825290679932,
            1.7458027601242063,
            1.74564790725708,
            1.743393063545227,
            1.7426176071166992,
            1.743573784828186,
            1.7404687404632568,
            1.738733172416687,
            1.7387416362762451,
            1.7366671562194824,
            1.736600399017334,
            1.734992265701294,
            1.7351617813110352,
            1.7343353033065796,
            1.7333511114120483,
            1.7330397367477417,
            1.7329760789871216,
            1.7322916984558103,
            1.7298462390899658,
            1.7293901443481443
           ]
          }
         ],
         "layout": {
          "yaxis": {
           "range": [
            1.642259457707405,
            2.213224670290947
           ]
          }
         },
         "name": "L = 4"
        },
        {
         "data": [
          {
           "line": {
            "color": "rgb(214, 39, 40)"
           },
           "mode": "lines",
           "name": "$\\text{Transformer}\\ (n_h^{sa}=8, n_h^{ra}=0)$",
           "type": "scatter",
           "x": [
            262144000,
            524288000,
            786432000,
            1048576000,
            1310720000,
            1572864000,
            1835008000,
            2097152000,
            2359296000,
            2621440000,
            2883584000,
            3145728000,
            3407872000,
            3670016000,
            3932160000,
            4194304000,
            4456448000,
            4718592000,
            4980736000,
            5242880000,
            5505024000,
            5767168000,
            6029312000,
            6291456000,
            6553600000,
            6815744000,
            7077888000,
            7340032000,
            7602176000,
            7864320000,
            8126464000,
            8388608000,
            8650752000,
            8912896000,
            9175040000,
            9437184000,
            9699328000,
            9961472000,
            10223616000,
            10485760000,
            10747904000,
            11010048000,
            11272192000,
            11534336000,
            11796480000,
            12058624000,
            12320768000,
            12582912000,
            12845056000,
            13107200000
           ],
           "y": [
            2.1660988330841064,
            2.021992444992065,
            1.956819772720337,
            1.916224718093872,
            1.887123703956604,
            1.8655154705047607,
            1.8476455211639404,
            1.834680438041687,
            1.820277452468872,
            1.8114944696426392,
            1.8019529581069944,
            1.79448664188385,
            1.7879871129989624,
            1.782109022140503,
            1.7779639959335327,
            1.7728155851364136,
            1.7693935632705688,
            1.7668824195861816,
            1.7633731365203855,
            1.759678602218628,
            1.7575820684432983,
            1.755030393600464,
            1.7531224489212036,
            1.7526919841766355,
            1.7509374618530271,
            1.7484744787216189,
            1.7456932067871094,
            1.7468512058258057,
            1.7456780672073364,
            1.7445881366729736,
            1.745491623878479,
            1.7438576221466064,
            1.7411296367645264,
            1.7405946254730225,
            1.7395938634872437,
            1.7392233610153198,
            1.737269163131714,
            1.7369128465652466,
            1.7365326881408691,
            1.735326647758484,
            1.736436128616333,
            1.734127402305603,
            1.7332295179367063,
            1.733435034751892,
            1.7341690063476562,
            1.7325470447540283,
            1.7318531274795532,
            1.7323429584503174,
            1.729607343673706,
            1.729842185974121
           ]
          },
          {
           "line": {
            "color": "rgb(148, 103, 189)"
           },
           "mode": "lines",
           "name": "$\\text{Dual-Attn Transformer}\\ (n_h^{sa}=6, n_h^{ra}=2)$",
           "type": "scatter",
           "x": [
            262144000,
            524288000,
            786432000,
            1048576000,
            1310720000,
            1572864000,
            1835008000,
            2097152000,
            2359296000,
            2621440000,
            2883584000,
            3145728000,
            3407872000,
            3670016000,
            3932160000,
            4194304000,
            4456448000,
            4718592000,
            4980736000,
            5242880000,
            5505024000,
            5767168000,
            6029312000,
            6291456000,
            6553600000,
            6815744000,
            7077888000,
            7340032000,
            7602176000,
            7864320000,
            8126464000,
            8388608000,
            8650752000,
            8912896000,
            9175040000,
            9437184000,
            9699328000,
            9961472000,
            10223616000,
            10485760000,
            10747904000,
            11010048000,
            11272192000,
            11534336000,
            11796480000,
            12058624000,
            12320768000,
            12582912000,
            12845056000,
            13107200000
           ],
           "y": [
            2.161012887954712,
            2.0023186206817627,
            1.9359955787658687,
            1.8958898782730105,
            1.866760730743408,
            1.84404718875885,
            1.825775146484375,
            1.809792280197144,
            1.7983909845352173,
            1.7868233919143677,
            1.7786870002746582,
            1.7708359956741333,
            1.7611889839172363,
            1.7564482688903809,
            1.7504446506500244,
            1.7449880838394165,
            1.742721676826477,
            1.7390573024749756,
            1.7351584434509275,
            1.7319241762161257,
            1.7299407720565796,
            1.7267574071884155,
            1.7225738763809204,
            1.7221004962921145,
            1.7199561595916748,
            1.7181832790374756,
            1.7154721021652222,
            1.714714765548706,
            1.7132841348648071,
            1.7130001783370972,
            1.7111777067184448,
            1.7080692052841189,
            1.7069542407989502,
            1.706882119178772,
            1.7049691677093506,
            1.7047815322875977,
            1.7027581930160522,
            1.7017062902450562,
            1.7025517225265503,
            1.7005648612976074,
            1.6993030309677124,
            1.6998614072799685,
            1.6979669332504272,
            1.6970289945602417,
            1.697022557258606,
            1.696025848388672,
            1.6961764097213743,
            1.6946303844451904,
            1.6938668489456177,
            1.6921508312225342
           ]
          },
          {
           "line": {
            "color": "rgb(31, 119, 180)"
           },
           "mode": "lines",
           "name": "$\\text{Dual-Attn Transformer}\\ (n_h^{sa}=4, n_h^{ra}=4)$",
           "type": "scatter",
           "x": [
            262144000,
            524288000,
            786432000,
            1048576000,
            1310720000,
            1572864000,
            1835008000,
            2097152000,
            2359296000,
            2621440000,
            2883584000,
            3145728000,
            3407872000,
            3670016000,
            3932160000,
            4194304000,
            4456448000,
            4718592000,
            4980736000,
            5242880000,
            5505024000,
            5767168000,
            6029312000,
            6291456000,
            6553600000,
            6815744000,
            7077888000,
            7340032000,
            7602176000,
            7864320000,
            8126464000,
            8388608000,
            8650752000,
            8912896000,
            9175040000,
            9437184000,
            9699328000,
            9961472000,
            10223616000,
            10485760000,
            10747904000,
            11010048000,
            11272192000,
            11534336000,
            11796480000,
            12058624000,
            12320768000,
            12582912000,
            12845056000,
            13107200000
           ],
           "y": [
            2.1712021827697754,
            2.0074057579040527,
            1.936933994293213,
            1.8948155641555784,
            1.8657265901565552,
            1.8428502082824707,
            1.827654242515564,
            1.8123937845230105,
            1.8017398118972776,
            1.7910236120224,
            1.7829296588897705,
            1.774643898010254,
            1.7667899131774902,
            1.7594552040100098,
            1.7532528638839722,
            1.7487770318984983,
            1.7445127964019775,
            1.7405288219451904,
            1.736067533493042,
            1.7322512865066528,
            1.7303026914596558,
            1.7268978357315063,
            1.7242382764816284,
            1.7226600646972656,
            1.7211135625839231,
            1.7180657386779783,
            1.715840458869934,
            1.7137326002120972,
            1.711660861968994,
            1.7118569612503052,
            1.7100001573562622,
            1.708329200744629,
            1.7062101364135742,
            1.7060819864273071,
            1.7041990756988523,
            1.704026460647583,
            1.7019777297973633,
            1.701483130455017,
            1.7020782232284546,
            1.698737382888794,
            1.699249267578125,
            1.6975384950637815,
            1.6969408988952637,
            1.6962776184082031,
            1.695611596107483,
            1.6940171718597412,
            1.6941365003585815,
            1.693739891052246,
            1.6926312446594238,
            1.691848874092102
           ]
          }
         ],
         "layout": {
          "yaxis": {
           "range": [
            1.642259457707405,
            2.213224670290947
           ]
          }
         },
         "name": "L = 5"
        },
        {
         "data": [
          {
           "line": {
            "color": "rgb(214, 39, 40)"
           },
           "mode": "lines",
           "name": "$\\text{Transformer}\\ (n_h^{sa}=8, n_h^{ra}=0)$",
           "type": "scatter",
           "x": [
            262144000,
            524288000,
            786432000,
            1048576000,
            1310720000,
            1572864000,
            1835008000,
            2097152000,
            2359296000,
            2621440000,
            2883584000,
            3145728000,
            3407872000,
            3670016000,
            3932160000,
            4194304000,
            4456448000,
            4718592000,
            4980736000,
            5242880000,
            5505024000,
            5767168000,
            6029312000,
            6291456000,
            6553600000,
            6815744000,
            7077888000,
            7340032000,
            7602176000,
            7864320000,
            8126464000,
            8388608000,
            8650752000,
            8912896000,
            9175040000,
            9437184000,
            9699328000,
            9961472000,
            10223616000,
            10485760000,
            10747904000,
            11010048000,
            11272192000,
            11534336000,
            11796480000,
            12058624000,
            12320768000,
            12582912000,
            12845056000,
            13107200000
           ],
           "y": [
            2.127302408218384,
            1.9809859991073608,
            1.9166555404663088,
            1.8761606216430664,
            1.8476980924606323,
            1.8269461393356323,
            1.810126781463623,
            1.7953784465789795,
            1.7837858200073242,
            1.7736679315567017,
            1.762976884841919,
            1.756126046180725,
            1.749895453453064,
            1.7420698404312134,
            1.737152099609375,
            1.7314850091934204,
            1.7280550003051758,
            1.7271941900253296,
            1.7234312295913696,
            1.7213006019592283,
            1.717420220375061,
            1.7152366638183594,
            1.7143683433532717,
            1.7118984460830688,
            1.7122769355773926,
            1.7086045742034912,
            1.7075533866882324,
            1.7064093351364136,
            1.7054111957550049,
            1.7050940990447998,
            1.7051475048065186,
            1.7018187046051023,
            1.701892971992493,
            1.7017260789871216,
            1.7008426189422607,
            1.7008622884750366,
            1.699040412902832,
            1.6976972818374634,
            1.6994355916976929,
            1.6975170373916626,
            1.6973518133163452,
            1.6961627006530762,
            1.6959820985794067,
            1.6950243711471558,
            1.695582151412964,
            1.695067286491394,
            1.6945773363113403,
            1.694210171699524,
            1.6931065320968628,
            1.6919440031051636
           ]
          },
          {
           "line": {
            "color": "rgb(148, 103, 189)"
           },
           "mode": "lines",
           "name": "$\\text{Dual-Attn Transformer}\\ (n_h^{sa}=6, n_h^{ra}=2)$",
           "type": "scatter",
           "x": [
            262144000,
            524288000,
            786432000,
            1048576000,
            1310720000,
            1572864000,
            1835008000,
            2097152000,
            2359296000,
            2621440000,
            2883584000,
            3145728000,
            3407872000,
            3670016000,
            3932160000,
            4194304000,
            4456448000,
            4718592000,
            4980736000,
            5242880000,
            5505024000,
            5767168000,
            6029312000,
            6291456000,
            6553600000,
            6815744000,
            7077888000,
            7340032000,
            7602176000,
            7864320000,
            8126464000,
            8388608000,
            8650752000,
            8912896000,
            9175040000,
            9437184000,
            9699328000,
            9961472000,
            10223616000,
            10485760000,
            10747904000,
            11010048000,
            11272192000,
            11534336000,
            11796480000,
            12058624000,
            12320768000,
            12582912000,
            12845056000,
            13107200000
           ],
           "y": [
            2.123218297958374,
            1.9641896486282349,
            1.901269555091858,
            1.861202836036682,
            1.8331725597381592,
            1.8129748106002808,
            1.7953985929489136,
            1.77891743183136,
            1.7680834531784058,
            1.7567039728164673,
            1.7458676099777222,
            1.7383530139923096,
            1.7305970191955566,
            1.7236621379852295,
            1.7181811332702637,
            1.7133549451828003,
            1.71049165725708,
            1.7061736583709717,
            1.7058193683624268,
            1.6999163627624512,
            1.6973687410354614,
            1.69584321975708,
            1.6936447620391846,
            1.6904144287109375,
            1.6895300149917605,
            1.6863200664520264,
            1.685909390449524,
            1.685042381286621,
            1.6821061372756958,
            1.6809033155441284,
            1.6802290678024292,
            1.6794503927230835,
            1.677833080291748,
            1.6759506464004517,
            1.6760412454605105,
            1.6746867895126345,
            1.6731282472610474,
            1.6729072332382202,
            1.6724928617477417,
            1.672435283660889,
            1.670018196105957,
            1.6681530475616455,
            1.6685997247695925,
            1.6667542457580566,
            1.6664690971374512,
            1.666622281074524,
            1.665823221206665,
            1.664592146873474,
            1.6636912822723389,
            1.663072943687439
           ]
          },
          {
           "line": {
            "color": "rgb(31, 119, 180)"
           },
           "mode": "lines",
           "name": "$\\text{Dual-Attn Transformer}\\ (n_h^{sa}=4, n_h^{ra}=4)$",
           "type": "scatter",
           "x": [
            262144000,
            524288000,
            786432000,
            1048576000,
            1310720000,
            1572864000,
            1835008000,
            2097152000,
            2359296000,
            2621440000,
            2883584000,
            3145728000,
            3407872000,
            3670016000,
            3932160000,
            4194304000,
            4456448000,
            4718592000,
            4980736000,
            5242880000,
            5505024000,
            5767168000,
            6029312000,
            6291456000,
            6553600000,
            6815744000,
            7077888000,
            7340032000,
            7602176000,
            7864320000,
            8126464000,
            8388608000,
            8650752000,
            8912896000,
            9175040000,
            9437184000,
            9699328000,
            9961472000,
            10223616000,
            10485760000,
            10747904000,
            11010048000,
            11272192000,
            11534336000,
            11796480000,
            12058624000,
            12320768000,
            12582912000,
            12845056000,
            13107200000
           ],
           "y": [
            2.1233255863189697,
            1.9681271314620967,
            1.9040405750274656,
            1.863444805145264,
            1.835254192352295,
            1.8133021593093872,
            1.7967365980148315,
            1.7805501222610474,
            1.7678914070129397,
            1.757208228111267,
            1.7469134330749512,
            1.7398409843444824,
            1.730586290359497,
            1.7236369848251345,
            1.7181183099746704,
            1.7125189304351809,
            1.7099777460098269,
            1.706104397773743,
            1.7018078565597534,
            1.6973320245742798,
            1.6953189373016355,
            1.6922835111618042,
            1.6903109550476074,
            1.6866546869277954,
            1.6870633363723757,
            1.683038592338562,
            1.6806219816207886,
            1.6798211336135864,
            1.6790634393692017,
            1.6776106357574463,
            1.675757646560669,
            1.6757116317749023,
            1.6734817028045654,
            1.6708197593688965,
            1.670015573501587,
            1.6689255237579346,
            1.6686151027679443,
            1.6662102937698364,
            1.6666481494903564,
            1.6647059917449951,
            1.6625332832336426,
            1.6631006002426147,
            1.6614881753921509,
            1.6605806350708008,
            1.6609159708023071,
            1.6598637104034424,
            1.6585310697555542,
            1.6588841676712036,
            1.6558723449707031,
            1.6558538675308228
           ]
          }
         ],
         "layout": {
          "yaxis": {
           "range": [
            1.642259457707405,
            2.213224670290947
           ]
          }
         },
         "name": "L = 6"
        }
       ],
       "layout": {
        "font": {
         "family": "Computer Modern"
        },
        "height": 600,
        "legend": {
         "bordercolor": "Black",
         "borderwidth": 1,
         "title": {
          "text": "Model"
         },
         "x": 0.99,
         "xanchor": "right",
         "y": 0.99,
         "yanchor": "top"
        },
        "sliders": [
         {
          "steps": [
           {
            "args": [
             [
              "L = 4"
             ]
            ],
            "label": "L = 4",
            "method": "animate"
           },
           {
            "args": [
             [
              "L = 5"
             ]
            ],
            "label": "L = 5",
            "method": "animate"
           },
           {
            "args": [
             [
              "L = 6"
             ]
            ],
            "label": "L = 6",
            "method": "animate"
           }
          ]
         }
        ],
        "template": {
         "data": {
          "bar": [
           {
            "error_x": {
             "color": "#2a3f5f"
            },
            "error_y": {
             "color": "#2a3f5f"
            },
            "marker": {
             "line": {
              "color": "white",
              "width": 0.5
             },
             "pattern": {
              "fillmode": "overlay",
              "size": 10,
              "solidity": 0.2
             }
            },
            "type": "bar"
           }
          ],
          "barpolar": [
           {
            "marker": {
             "line": {
              "color": "white",
              "width": 0.5
             },
             "pattern": {
              "fillmode": "overlay",
              "size": 10,
              "solidity": 0.2
             }
            },
            "type": "barpolar"
           }
          ],
          "carpet": [
           {
            "aaxis": {
             "endlinecolor": "#2a3f5f",
             "gridcolor": "#C8D4E3",
             "linecolor": "#C8D4E3",
             "minorgridcolor": "#C8D4E3",
             "startlinecolor": "#2a3f5f"
            },
            "baxis": {
             "endlinecolor": "#2a3f5f",
             "gridcolor": "#C8D4E3",
             "linecolor": "#C8D4E3",
             "minorgridcolor": "#C8D4E3",
             "startlinecolor": "#2a3f5f"
            },
            "type": "carpet"
           }
          ],
          "choropleth": [
           {
            "colorbar": {
             "outlinewidth": 0,
             "ticks": ""
            },
            "type": "choropleth"
           }
          ],
          "contour": [
           {
            "colorbar": {
             "outlinewidth": 0,
             "ticks": ""
            },
            "colorscale": [
             [
              0,
              "#0d0887"
             ],
             [
              0.1111111111111111,
              "#46039f"
             ],
             [
              0.2222222222222222,
              "#7201a8"
             ],
             [
              0.3333333333333333,
              "#9c179e"
             ],
             [
              0.4444444444444444,
              "#bd3786"
             ],
             [
              0.5555555555555556,
              "#d8576b"
             ],
             [
              0.6666666666666666,
              "#ed7953"
             ],
             [
              0.7777777777777778,
              "#fb9f3a"
             ],
             [
              0.8888888888888888,
              "#fdca26"
             ],
             [
              1,
              "#f0f921"
             ]
            ],
            "type": "contour"
           }
          ],
          "contourcarpet": [
           {
            "colorbar": {
             "outlinewidth": 0,
             "ticks": ""
            },
            "type": "contourcarpet"
           }
          ],
          "heatmap": [
           {
            "colorbar": {
             "outlinewidth": 0,
             "ticks": ""
            },
            "colorscale": [
             [
              0,
              "#0d0887"
             ],
             [
              0.1111111111111111,
              "#46039f"
             ],
             [
              0.2222222222222222,
              "#7201a8"
             ],
             [
              0.3333333333333333,
              "#9c179e"
             ],
             [
              0.4444444444444444,
              "#bd3786"
             ],
             [
              0.5555555555555556,
              "#d8576b"
             ],
             [
              0.6666666666666666,
              "#ed7953"
             ],
             [
              0.7777777777777778,
              "#fb9f3a"
             ],
             [
              0.8888888888888888,
              "#fdca26"
             ],
             [
              1,
              "#f0f921"
             ]
            ],
            "type": "heatmap"
           }
          ],
          "heatmapgl": [
           {
            "colorbar": {
             "outlinewidth": 0,
             "ticks": ""
            },
            "colorscale": [
             [
              0,
              "#0d0887"
             ],
             [
              0.1111111111111111,
              "#46039f"
             ],
             [
              0.2222222222222222,
              "#7201a8"
             ],
             [
              0.3333333333333333,
              "#9c179e"
             ],
             [
              0.4444444444444444,
              "#bd3786"
             ],
             [
              0.5555555555555556,
              "#d8576b"
             ],
             [
              0.6666666666666666,
              "#ed7953"
             ],
             [
              0.7777777777777778,
              "#fb9f3a"
             ],
             [
              0.8888888888888888,
              "#fdca26"
             ],
             [
              1,
              "#f0f921"
             ]
            ],
            "type": "heatmapgl"
           }
          ],
          "histogram": [
           {
            "marker": {
             "pattern": {
              "fillmode": "overlay",
              "size": 10,
              "solidity": 0.2
             }
            },
            "type": "histogram"
           }
          ],
          "histogram2d": [
           {
            "colorbar": {
             "outlinewidth": 0,
             "ticks": ""
            },
            "colorscale": [
             [
              0,
              "#0d0887"
             ],
             [
              0.1111111111111111,
              "#46039f"
             ],
             [
              0.2222222222222222,
              "#7201a8"
             ],
             [
              0.3333333333333333,
              "#9c179e"
             ],
             [
              0.4444444444444444,
              "#bd3786"
             ],
             [
              0.5555555555555556,
              "#d8576b"
             ],
             [
              0.6666666666666666,
              "#ed7953"
             ],
             [
              0.7777777777777778,
              "#fb9f3a"
             ],
             [
              0.8888888888888888,
              "#fdca26"
             ],
             [
              1,
              "#f0f921"
             ]
            ],
            "type": "histogram2d"
           }
          ],
          "histogram2dcontour": [
           {
            "colorbar": {
             "outlinewidth": 0,
             "ticks": ""
            },
            "colorscale": [
             [
              0,
              "#0d0887"
             ],
             [
              0.1111111111111111,
              "#46039f"
             ],
             [
              0.2222222222222222,
              "#7201a8"
             ],
             [
              0.3333333333333333,
              "#9c179e"
             ],
             [
              0.4444444444444444,
              "#bd3786"
             ],
             [
              0.5555555555555556,
              "#d8576b"
             ],
             [
              0.6666666666666666,
              "#ed7953"
             ],
             [
              0.7777777777777778,
              "#fb9f3a"
             ],
             [
              0.8888888888888888,
              "#fdca26"
             ],
             [
              1,
              "#f0f921"
             ]
            ],
            "type": "histogram2dcontour"
           }
          ],
          "mesh3d": [
           {
            "colorbar": {
             "outlinewidth": 0,
             "ticks": ""
            },
            "type": "mesh3d"
           }
          ],
          "parcoords": [
           {
            "line": {
             "colorbar": {
              "outlinewidth": 0,
              "ticks": ""
             }
            },
            "type": "parcoords"
           }
          ],
          "pie": [
           {
            "automargin": true,
            "type": "pie"
           }
          ],
          "scatter": [
           {
            "fillpattern": {
             "fillmode": "overlay",
             "size": 10,
             "solidity": 0.2
            },
            "type": "scatter"
           }
          ],
          "scatter3d": [
           {
            "line": {
             "colorbar": {
              "outlinewidth": 0,
              "ticks": ""
             }
            },
            "marker": {
             "colorbar": {
              "outlinewidth": 0,
              "ticks": ""
             }
            },
            "type": "scatter3d"
           }
          ],
          "scattercarpet": [
           {
            "marker": {
             "colorbar": {
              "outlinewidth": 0,
              "ticks": ""
             }
            },
            "type": "scattercarpet"
           }
          ],
          "scattergeo": [
           {
            "marker": {
             "colorbar": {
              "outlinewidth": 0,
              "ticks": ""
             }
            },
            "type": "scattergeo"
           }
          ],
          "scattergl": [
           {
            "marker": {
             "colorbar": {
              "outlinewidth": 0,
              "ticks": ""
             }
            },
            "type": "scattergl"
           }
          ],
          "scattermapbox": [
           {
            "marker": {
             "colorbar": {
              "outlinewidth": 0,
              "ticks": ""
             }
            },
            "type": "scattermapbox"
           }
          ],
          "scatterpolar": [
           {
            "marker": {
             "colorbar": {
              "outlinewidth": 0,
              "ticks": ""
             }
            },
            "type": "scatterpolar"
           }
          ],
          "scatterpolargl": [
           {
            "marker": {
             "colorbar": {
              "outlinewidth": 0,
              "ticks": ""
             }
            },
            "type": "scatterpolargl"
           }
          ],
          "scatterternary": [
           {
            "marker": {
             "colorbar": {
              "outlinewidth": 0,
              "ticks": ""
             }
            },
            "type": "scatterternary"
           }
          ],
          "surface": [
           {
            "colorbar": {
             "outlinewidth": 0,
             "ticks": ""
            },
            "colorscale": [
             [
              0,
              "#0d0887"
             ],
             [
              0.1111111111111111,
              "#46039f"
             ],
             [
              0.2222222222222222,
              "#7201a8"
             ],
             [
              0.3333333333333333,
              "#9c179e"
             ],
             [
              0.4444444444444444,
              "#bd3786"
             ],
             [
              0.5555555555555556,
              "#d8576b"
             ],
             [
              0.6666666666666666,
              "#ed7953"
             ],
             [
              0.7777777777777778,
              "#fb9f3a"
             ],
             [
              0.8888888888888888,
              "#fdca26"
             ],
             [
              1,
              "#f0f921"
             ]
            ],
            "type": "surface"
           }
          ],
          "table": [
           {
            "cells": {
             "fill": {
              "color": "#EBF0F8"
             },
             "line": {
              "color": "white"
             }
            },
            "header": {
             "fill": {
              "color": "#C8D4E3"
             },
             "line": {
              "color": "white"
             }
            },
            "type": "table"
           }
          ]
         },
         "layout": {
          "annotationdefaults": {
           "arrowcolor": "#2a3f5f",
           "arrowhead": 0,
           "arrowwidth": 1
          },
          "autotypenumbers": "strict",
          "coloraxis": {
           "colorbar": {
            "outlinewidth": 0,
            "ticks": ""
           }
          },
          "colorscale": {
           "diverging": [
            [
             0,
             "#8e0152"
            ],
            [
             0.1,
             "#c51b7d"
            ],
            [
             0.2,
             "#de77ae"
            ],
            [
             0.3,
             "#f1b6da"
            ],
            [
             0.4,
             "#fde0ef"
            ],
            [
             0.5,
             "#f7f7f7"
            ],
            [
             0.6,
             "#e6f5d0"
            ],
            [
             0.7,
             "#b8e186"
            ],
            [
             0.8,
             "#7fbc41"
            ],
            [
             0.9,
             "#4d9221"
            ],
            [
             1,
             "#276419"
            ]
           ],
           "sequential": [
            [
             0,
             "#0d0887"
            ],
            [
             0.1111111111111111,
             "#46039f"
            ],
            [
             0.2222222222222222,
             "#7201a8"
            ],
            [
             0.3333333333333333,
             "#9c179e"
            ],
            [
             0.4444444444444444,
             "#bd3786"
            ],
            [
             0.5555555555555556,
             "#d8576b"
            ],
            [
             0.6666666666666666,
             "#ed7953"
            ],
            [
             0.7777777777777778,
             "#fb9f3a"
            ],
            [
             0.8888888888888888,
             "#fdca26"
            ],
            [
             1,
             "#f0f921"
            ]
           ],
           "sequentialminus": [
            [
             0,
             "#0d0887"
            ],
            [
             0.1111111111111111,
             "#46039f"
            ],
            [
             0.2222222222222222,
             "#7201a8"
            ],
            [
             0.3333333333333333,
             "#9c179e"
            ],
            [
             0.4444444444444444,
             "#bd3786"
            ],
            [
             0.5555555555555556,
             "#d8576b"
            ],
            [
             0.6666666666666666,
             "#ed7953"
            ],
            [
             0.7777777777777778,
             "#fb9f3a"
            ],
            [
             0.8888888888888888,
             "#fdca26"
            ],
            [
             1,
             "#f0f921"
            ]
           ]
          },
          "colorway": [
           "#636efa",
           "#EF553B",
           "#00cc96",
           "#ab63fa",
           "#FFA15A",
           "#19d3f3",
           "#FF6692",
           "#B6E880",
           "#FF97FF",
           "#FECB52"
          ],
          "font": {
           "color": "#2a3f5f"
          },
          "geo": {
           "bgcolor": "white",
           "lakecolor": "white",
           "landcolor": "white",
           "showlakes": true,
           "showland": true,
           "subunitcolor": "#C8D4E3"
          },
          "hoverlabel": {
           "align": "left"
          },
          "hovermode": "closest",
          "mapbox": {
           "style": "light"
          },
          "paper_bgcolor": "white",
          "plot_bgcolor": "white",
          "polar": {
           "angularaxis": {
            "gridcolor": "#EBF0F8",
            "linecolor": "#EBF0F8",
            "ticks": ""
           },
           "bgcolor": "white",
           "radialaxis": {
            "gridcolor": "#EBF0F8",
            "linecolor": "#EBF0F8",
            "ticks": ""
           }
          },
          "scene": {
           "xaxis": {
            "backgroundcolor": "white",
            "gridcolor": "#DFE8F3",
            "gridwidth": 2,
            "linecolor": "#EBF0F8",
            "showbackground": true,
            "ticks": "",
            "zerolinecolor": "#EBF0F8"
           },
           "yaxis": {
            "backgroundcolor": "white",
            "gridcolor": "#DFE8F3",
            "gridwidth": 2,
            "linecolor": "#EBF0F8",
            "showbackground": true,
            "ticks": "",
            "zerolinecolor": "#EBF0F8"
           },
           "zaxis": {
            "backgroundcolor": "white",
            "gridcolor": "#DFE8F3",
            "gridwidth": 2,
            "linecolor": "#EBF0F8",
            "showbackground": true,
            "ticks": "",
            "zerolinecolor": "#EBF0F8"
           }
          },
          "shapedefaults": {
           "line": {
            "color": "#2a3f5f"
           }
          },
          "ternary": {
           "aaxis": {
            "gridcolor": "#DFE8F3",
            "linecolor": "#A2B1C6",
            "ticks": ""
           },
           "baxis": {
            "gridcolor": "#DFE8F3",
            "linecolor": "#A2B1C6",
            "ticks": ""
           },
           "bgcolor": "white",
           "caxis": {
            "gridcolor": "#DFE8F3",
            "linecolor": "#A2B1C6",
            "ticks": ""
           }
          },
          "title": {
           "x": 0.05
          },
          "xaxis": {
           "automargin": true,
           "gridcolor": "#EBF0F8",
           "linecolor": "#EBF0F8",
           "ticks": "",
           "title": {
            "standoff": 15
           },
           "zerolinecolor": "#EBF0F8",
           "zerolinewidth": 2
          },
          "yaxis": {
           "automargin": true,
           "gridcolor": "#EBF0F8",
           "linecolor": "#EBF0F8",
           "ticks": "",
           "title": {
            "standoff": 15
           },
           "zerolinecolor": "#EBF0F8",
           "zerolinewidth": 2
          }
         }
        },
        "title": {
         "text": "Language Modeling Training Curves"
        },
        "width": 1000,
        "xaxis": {
         "title": {
          "text": "Tokens"
         }
        },
        "yaxis": {
         "title": {
          "text": "Validation Loss"
         }
        }
       }
      }
     },
     "metadata": {},
     "output_type": "display_data"
    }
   ],
   "source": [
    "import plotly.graph_objects as go\n",
    "\n",
    "# Get unique tasks and models\n",
    "model_scales = [4, 5, 6]\n",
    "d = 64\n",
    "metric = 'Validation Loss'\n",
    "# metric = 'Validation Perplexity'\n",
    "# models = figure_data_['Model'].unique()\n",
    "\n",
    "fig_data = filter_data(figure_data, d_models=[d], layers=model_scales, filter_first_step=True,\n",
    "    symbol_types=('sym_attn',), symmetry=(False,), rca_types=('disentangled_v2',))\n",
    "yrange_global = [fig_data[metric].min(), fig_data[metric].max()]\n",
    "\n",
    "# Create frames for each task\n",
    "frames = []\n",
    "for scale in model_scales:\n",
    "    frame_data = []\n",
    "    ax_data = filter_data(figure_data, d_models=[d], layers=[scale], filter_first_step=True,\n",
    "        symbol_types=('sym_attn',), symmetry=(False,), rca_types=('disentangled_v2',))\n",
    "    ax_data = ax_data.groupby(['Model', 'Tokens'])[metric].aggregate(['mean', 'std', 'count', 'sem']).reset_index()\n",
    "    models = ax_data['Model'].unique()\n",
    "\n",
    "    yrange = [ax_data['mean'].min(), ax_data['mean'].max()]\n",
    "\n",
    "    yrange = yrange_global\n",
    "    # xrange = [task_data['Epoch'].min(), task_data['Training Set Size'].max()]\n",
    "    eps_y = 0.025 * (yrange[1] - yrange[0])\n",
    "    # eps_x = 0.025 * (xrange[1] - xrange[0])\n",
    "    yrange = [yrange[0] - eps_y, yrange[1] + eps_y]\n",
    "    # xrange = [xrange[0] - eps_x, xrange[1] + eps_x]\n",
    "\n",
    "    for model in models:\n",
    "        model_filter = ax_data['Model'] == model\n",
    "        model_data = ax_data[model_filter]\n",
    "        frame_data.append(go.Scatter(\n",
    "            x=model_data['Tokens'], \n",
    "            y=model_data['mean'],\n",
    "            mode='lines',\n",
    "            name=model,\n",
    "            line=dict(color=color_map[model]))) # change color based on model\n",
    "    frames.append(go.Frame(data=frame_data, \n",
    "                           name=f'L = {scale}',\n",
    "                           layout=dict(yaxis=dict(range=yrange))\n",
    "                                       ))\n",
    "\n",
    "# Create steps for the slider\n",
    "steps = [dict(method='animate',\n",
    "              args=[[frame['name']]],  # frame name to be shown\n",
    "              label=frame['name']) for frame in frames]\n",
    "\n",
    "# Create base frame\n",
    "fig = go.Figure(\n",
    "    data=frames[0]['data'],\n",
    "    layout=go.Layout(\n",
    "        title='Language Modeling Training Curves',\n",
    "        xaxis=dict(title='Tokens'),\n",
    "        yaxis=dict(title=metric),\n",
    "        height=600,\n",
    "        width=1000,\n",
    "        sliders=[dict(steps=steps)],  # add the slider\n",
    "                font_family=\"Computer Modern\",\n",
    "        template=theme,\n",
    "        legend_title=\"Model\",\n",
    "        legend=dict(yanchor=\"top\", y=0.99, xanchor=\"right\", x=0.99,\n",
    "                    title_font_family=\"Times New Roman\", #bgcolor='LightSteelBlue',\n",
    "                    bordercolor=\"Black\", borderwidth=1),\n",
    "    ),\n",
    "    frames=frames\n",
    ")\n",
    "\n",
    "fig.show()"
   ]
  },
  {
   "cell_type": "code",
   "execution_count": 47,
   "metadata": {},
   "outputs": [],
   "source": [
    "fig_json = fig.to_json()\n",
    "# save fig_json to file\n",
    "with open(f'{save_dir}/language_modeling_training_curves.json', 'w') as f:\n",
    "    f.write(fig_json)"
   ]
  },
  {
   "cell_type": "markdown",
   "metadata": {},
   "source": [
    "## Vision"
   ]
  },
  {
   "cell_type": "code",
   "execution_count": 227,
   "metadata": {},
   "outputs": [
    {
     "data": {
      "text/html": [
       "<div>\n",
       "<style scoped>\n",
       "    .dataframe tbody tr th:only-of-type {\n",
       "        vertical-align: middle;\n",
       "    }\n",
       "\n",
       "    .dataframe tbody tr th {\n",
       "        vertical-align: top;\n",
       "    }\n",
       "\n",
       "    .dataframe thead th {\n",
       "        text-align: right;\n",
       "    }\n",
       "</style>\n",
       "<table border=\"1\" class=\"dataframe\">\n",
       "  <thead>\n",
       "    <tr style=\"text-align: right;\">\n",
       "      <th></th>\n",
       "      <th>train/loss_epoch</th>\n",
       "      <th>train/acc_step</th>\n",
       "      <th>trainer/global_step</th>\n",
       "      <th>val/top4_acc</th>\n",
       "      <th>_step</th>\n",
       "      <th>val/top3_acc</th>\n",
       "      <th>val/acc</th>\n",
       "      <th>val/loss</th>\n",
       "      <th>val/top2_acc</th>\n",
       "      <th>_runtime</th>\n",
       "      <th>...</th>\n",
       "      <th>val/top7_acc</th>\n",
       "      <th>val/top8_acc</th>\n",
       "      <th>train/acc_epoch</th>\n",
       "      <th>d_model</th>\n",
       "      <th>n_layers</th>\n",
       "      <th>symbol_retrieval</th>\n",
       "      <th>rca_type</th>\n",
       "      <th>symmetric_rels</th>\n",
       "      <th>group</th>\n",
       "      <th>name</th>\n",
       "    </tr>\n",
       "  </thead>\n",
       "  <tbody>\n",
       "    <tr>\n",
       "      <th>6</th>\n",
       "      <td>NaN</td>\n",
       "      <td>NaN</td>\n",
       "      <td>312</td>\n",
       "      <td>0.126362</td>\n",
       "      <td>6</td>\n",
       "      <td>0.105609</td>\n",
       "      <td>0.047035</td>\n",
       "      <td>5.619035</td>\n",
       "      <td>0.079808</td>\n",
       "      <td>7318.165370</td>\n",
       "      <td>...</td>\n",
       "      <td>0.177324</td>\n",
       "      <td>0.191186</td>\n",
       "      <td>NaN</td>\n",
       "      <td>1024</td>\n",
       "      <td>24</td>\n",
       "      <td>pos_relative</td>\n",
       "      <td>disentangled_v2</td>\n",
       "      <td>NaN</td>\n",
       "      <td>NaN</td>\n",
       "      <td>sa=10; rca=6; d=1024; L=24; rca_type=disentang...</td>\n",
       "    </tr>\n",
       "    <tr>\n",
       "      <th>7</th>\n",
       "      <td>6.408384</td>\n",
       "      <td>NaN</td>\n",
       "      <td>312</td>\n",
       "      <td>NaN</td>\n",
       "      <td>7</td>\n",
       "      <td>NaN</td>\n",
       "      <td>NaN</td>\n",
       "      <td>NaN</td>\n",
       "      <td>NaN</td>\n",
       "      <td>7322.367173</td>\n",
       "      <td>...</td>\n",
       "      <td>NaN</td>\n",
       "      <td>NaN</td>\n",
       "      <td>0.021343</td>\n",
       "      <td>1024</td>\n",
       "      <td>24</td>\n",
       "      <td>pos_relative</td>\n",
       "      <td>disentangled_v2</td>\n",
       "      <td>NaN</td>\n",
       "      <td>NaN</td>\n",
       "      <td>sa=10; rca=6; d=1024; L=24; rca_type=disentang...</td>\n",
       "    </tr>\n",
       "    <tr>\n",
       "      <th>14</th>\n",
       "      <td>NaN</td>\n",
       "      <td>NaN</td>\n",
       "      <td>625</td>\n",
       "      <td>0.208734</td>\n",
       "      <td>14</td>\n",
       "      <td>0.177083</td>\n",
       "      <td>0.092708</td>\n",
       "      <td>5.096831</td>\n",
       "      <td>0.141026</td>\n",
       "      <td>14620.223963</td>\n",
       "      <td>...</td>\n",
       "      <td>0.277804</td>\n",
       "      <td>0.297035</td>\n",
       "      <td>NaN</td>\n",
       "      <td>1024</td>\n",
       "      <td>24</td>\n",
       "      <td>pos_relative</td>\n",
       "      <td>disentangled_v2</td>\n",
       "      <td>NaN</td>\n",
       "      <td>NaN</td>\n",
       "      <td>sa=10; rca=6; d=1024; L=24; rca_type=disentang...</td>\n",
       "    </tr>\n",
       "    <tr>\n",
       "      <th>15</th>\n",
       "      <td>5.503854</td>\n",
       "      <td>NaN</td>\n",
       "      <td>625</td>\n",
       "      <td>NaN</td>\n",
       "      <td>15</td>\n",
       "      <td>NaN</td>\n",
       "      <td>NaN</td>\n",
       "      <td>NaN</td>\n",
       "      <td>NaN</td>\n",
       "      <td>14624.322500</td>\n",
       "      <td>...</td>\n",
       "      <td>NaN</td>\n",
       "      <td>NaN</td>\n",
       "      <td>0.062984</td>\n",
       "      <td>1024</td>\n",
       "      <td>24</td>\n",
       "      <td>pos_relative</td>\n",
       "      <td>disentangled_v2</td>\n",
       "      <td>NaN</td>\n",
       "      <td>NaN</td>\n",
       "      <td>sa=10; rca=6; d=1024; L=24; rca_type=disentang...</td>\n",
       "    </tr>\n",
       "    <tr>\n",
       "      <th>22</th>\n",
       "      <td>NaN</td>\n",
       "      <td>NaN</td>\n",
       "      <td>938</td>\n",
       "      <td>0.290545</td>\n",
       "      <td>22</td>\n",
       "      <td>0.257212</td>\n",
       "      <td>0.141186</td>\n",
       "      <td>4.607257</td>\n",
       "      <td>0.211538</td>\n",
       "      <td>21924.534104</td>\n",
       "      <td>...</td>\n",
       "      <td>0.369631</td>\n",
       "      <td>0.390625</td>\n",
       "      <td>NaN</td>\n",
       "      <td>1024</td>\n",
       "      <td>24</td>\n",
       "      <td>pos_relative</td>\n",
       "      <td>disentangled_v2</td>\n",
       "      <td>NaN</td>\n",
       "      <td>NaN</td>\n",
       "      <td>sa=10; rca=6; d=1024; L=24; rca_type=disentang...</td>\n",
       "    </tr>\n",
       "  </tbody>\n",
       "</table>\n",
       "<p>5 rows × 27 columns</p>\n",
       "</div>"
      ],
      "text/plain": [
       "    train/loss_epoch  train/acc_step  trainer/global_step  val/top4_acc  \\\n",
       "6                NaN             NaN                  312      0.126362   \n",
       "7           6.408384             NaN                  312           NaN   \n",
       "14               NaN             NaN                  625      0.208734   \n",
       "15          5.503854             NaN                  625           NaN   \n",
       "22               NaN             NaN                  938      0.290545   \n",
       "\n",
       "    _step  val/top3_acc   val/acc  val/loss  val/top2_acc      _runtime  ...  \\\n",
       "6       6      0.105609  0.047035  5.619035      0.079808   7318.165370  ...   \n",
       "7       7           NaN       NaN       NaN           NaN   7322.367173  ...   \n",
       "14     14      0.177083  0.092708  5.096831      0.141026  14620.223963  ...   \n",
       "15     15           NaN       NaN       NaN           NaN  14624.322500  ...   \n",
       "22     22      0.257212  0.141186  4.607257      0.211538  21924.534104  ...   \n",
       "\n",
       "    val/top7_acc  val/top8_acc  train/acc_epoch  d_model  n_layers  \\\n",
       "6       0.177324      0.191186              NaN     1024        24   \n",
       "7            NaN           NaN         0.021343     1024        24   \n",
       "14      0.277804      0.297035              NaN     1024        24   \n",
       "15           NaN           NaN         0.062984     1024        24   \n",
       "22      0.369631      0.390625              NaN     1024        24   \n",
       "\n",
       "    symbol_retrieval         rca_type  symmetric_rels  group  \\\n",
       "6       pos_relative  disentangled_v2             NaN    NaN   \n",
       "7       pos_relative  disentangled_v2             NaN    NaN   \n",
       "14      pos_relative  disentangled_v2             NaN    NaN   \n",
       "15      pos_relative  disentangled_v2             NaN    NaN   \n",
       "22      pos_relative  disentangled_v2             NaN    NaN   \n",
       "\n",
       "                                                 name  \n",
       "6   sa=10; rca=6; d=1024; L=24; rca_type=disentang...  \n",
       "7   sa=10; rca=6; d=1024; L=24; rca_type=disentang...  \n",
       "14  sa=10; rca=6; d=1024; L=24; rca_type=disentang...  \n",
       "15  sa=10; rca=6; d=1024; L=24; rca_type=disentang...  \n",
       "22  sa=10; rca=6; d=1024; L=24; rca_type=disentang...  \n",
       "\n",
       "[5 rows x 27 columns]"
      ]
     },
     "execution_count": 227,
     "metadata": {},
     "output_type": "execute_result"
    }
   ],
   "source": [
    "figure_data = pd.read_csv('figure_data/imagenet/run_histories.csv')\n",
    "figure_data.dropna(subset=['train/acc_epoch', 'val/loss'], inplace=True, how='all') # drop step rows and keep epoch rows\n",
    "figure_data.head()"
   ]
  },
  {
   "cell_type": "code",
   "execution_count": 228,
   "metadata": {},
   "outputs": [],
   "source": [
    "model_name_map = {\n",
    "    'sa=16; d=1024; L=24__2024_05_15_16_38_09': '$\\\\text{Transformer}\\\\ (n_h^{sa}=16, n_h^{ra}=0)$',\n",
    "    'sa=10; rca=6; d=1024; L=24; rca_type=disentangled_v2; sym_rel=True; symbol_type=pos_relative__2024_05_15_18_13_54': f'$\\\\text{{{our_model_name}}}\\\\ (n_h^{{sa}}=10, n_h^{{ra}}=6)$'\n",
    "    }\n",
    "\n",
    "figure_data['Model'] = pd.Categorical(figure_data['name'].map(model_name_map), model_name_map.values(), ordered=True)\n",
    "\n",
    "color_map_ = {\n",
    "    '$\\\\text{Transformer}\\\\ (n_h^{sa}=16, n_h^{ra}=0)$': cmap(6), # red\n",
    "    f'$\\\\text{{{our_model_name}}}\\\\ (n_h^{{sa}}=10, n_h^{{ra}}=6)$': cmap(8), # purple\n",
    "    f'$\\\\text{{{our_model_name}}}\\\\ (n_h^{{sa}}=10, n_h^{{ra}}=6)$': cmap(0), # blue\n",
    "    }\n",
    "\n",
    "color_map = {k: convert_to_plotly_color(color_map_[k]) for k in color_map_}"
   ]
  },
  {
   "cell_type": "code",
   "execution_count": 229,
   "metadata": {},
   "outputs": [
    {
     "name": "stdout",
     "output_type": "stream",
     "text": [
      "train/acc mean difference: 5.01%\n",
      "train/acc max difference: 10.08%\n",
      "train/acc end difference: 2.89%\n",
      "\n",
      "val/acc mean difference: 4.39%\n",
      "val/acc max difference: 9.98%\n",
      "val/acc end difference: 1.46%\n"
     ]
    }
   ],
   "source": [
    "df_ = figure_data[['epoch', 'train/acc_epoch', 'Model']].dropna().pivot(index='epoch', columns='Model', values='train/acc_epoch')\n",
    "trainacc_diff = abs(df_.iloc[:,0] - df_.iloc[:,1])\n",
    "print(f'train/acc mean difference: {trainacc_diff.mean():.2%}')\n",
    "print(f'train/acc max difference: {trainacc_diff.max():.2%}')\n",
    "print(f'train/acc end difference: {abs(max(df_.iloc[:,0]) - max(df_.iloc[:,1])):.2%}')\n",
    "print()\n",
    "df_ = figure_data[['epoch', 'val/acc', 'Model']].dropna().pivot(index='epoch', columns='Model', values='val/acc')\n",
    "valacc_diff = abs(df_.iloc[:,0] - df_.iloc[:,1])\n",
    "print(f'val/acc mean difference: {valacc_diff.mean():.2%}')\n",
    "print(f'val/acc max difference: {valacc_diff.max():.2%}')\n",
    "print(f'val/acc end difference: {abs(max(df_.iloc[:,0]) - max(df_.iloc[:,1])):.2%}')"
   ]
  },
  {
   "cell_type": "code",
   "execution_count": 230,
   "metadata": {},
   "outputs": [],
   "source": [
    "figure_data.rename(columns={'train/acc_epoch': 'Training Accuracy', 'val/acc': 'Validation Accuracy',\n",
    "    'val/loss': 'Validation Loss', 'train/loss_epoch': 'Training Loss', 'epoch': 'Epoch'}, inplace=True)"
   ]
  },
  {
   "cell_type": "code",
   "execution_count": 238,
   "metadata": {},
   "outputs": [
    {
     "data": {
      "application/vnd.plotly.v1+json": {
       "config": {
        "plotlyServerURL": "https://plot.ly"
       },
       "data": [
        {
         "line": {
          "color": "rgb(31, 119, 180)"
         },
         "mode": "lines",
         "name": "$\\text{Dual-Attn Transformer}\\ (n_h^{sa}=10, n_h^{ra}=6)$",
         "showlegend": false,
         "type": "scatter",
         "x": [
          0,
          1,
          2,
          3,
          4,
          5,
          6,
          7,
          8,
          9,
          10,
          11,
          12,
          13,
          14,
          15,
          16,
          17,
          18,
          19,
          20,
          21,
          22,
          23,
          24,
          25,
          26,
          27,
          28,
          29,
          30,
          31,
          32,
          33,
          34,
          35,
          36,
          37,
          38,
          39,
          40,
          41,
          42,
          43,
          44,
          45
         ],
         "xaxis": "x",
         "y": [
          0.0213432908058166,
          0.062983937561512,
          0.1017022207379341,
          0.1342042088508606,
          0.1616451442241668,
          0.2021430730819702,
          0.2371990233659744,
          0.2621983885765075,
          0.2917686700820923,
          0.3114946484565735,
          0.334320992231369,
          0.3511776924133301,
          0.3700201213359833,
          0.3848567605018616,
          0.400068074464798,
          0.4121415615081787,
          0.4269532561302185,
          0.4375312328338623,
          0.449158251285553,
          0.45541512966156,
          0.4681442975997925,
          0.476396232843399,
          0.4839925169944763,
          0.496852844953537,
          0.5040619969367981,
          0.5122265219688416,
          0.518673837184906,
          0.5296108722686768,
          0.5360175967216492,
          0.5421214699745178,
          0.5510727763175964,
          0.5566458702087402,
          0.561994194984436,
          0.5712546110153198,
          0.5765748620033264,
          0.5804275870323181,
          0.5909400582313538,
          0.5928851366043091,
          0.5975621938705444,
          0.6035006046295166,
          0.6071879267692566,
          0.6137538552284241,
          0.6173131465911865,
          0.6215874552726746,
          0.6251686215400696,
          0.6283501386642456
         ],
         "yaxis": "y"
        },
        {
         "line": {
          "color": "rgb(31, 119, 180)"
         },
         "mode": "lines",
         "name": "$\\text{Dual-Attn Transformer}\\ (n_h^{sa}=10, n_h^{ra}=6)$",
         "type": "scatter",
         "x": [
          0,
          1,
          2,
          3,
          4,
          5,
          6,
          7,
          8,
          9,
          10,
          11,
          12,
          13,
          14,
          15,
          16,
          17,
          18,
          19,
          20,
          21,
          22,
          23,
          24,
          25,
          26,
          27,
          28,
          29,
          30,
          31,
          32,
          33,
          34,
          35,
          36,
          37,
          38,
          39,
          40,
          41,
          42,
          43,
          44,
          45
         ],
         "xaxis": "x2",
         "y": [
          0.0470352582633495,
          0.092708334326744,
          0.1411858946084976,
          0.1738782078027725,
          0.2004807740449905,
          0.2545672953128814,
          0.2846955060958862,
          0.3278044760227203,
          0.3370192348957062,
          0.3611378073692322,
          0.379006415605545,
          0.4002403914928436,
          0.4207532107830047,
          0.4314903914928436,
          0.4451923072338104,
          0.4576121866703033,
          0.4725160300731659,
          0.4834134578704834,
          0.4937500059604645,
          0.4965544939041137,
          0.5126602649688721,
          0.5229967832565308,
          0.5322916507720947,
          0.5326122045516968,
          0.5391826629638672,
          0.545352578163147,
          0.5521634817123413,
          0.5552884340286255,
          0.5631410479545593,
          0.5685096383094788,
          0.5696313977241516,
          0.5721153616905212,
          0.584455132484436,
          0.5813301205635071,
          0.5932692289352417,
          0.592067301273346,
          0.5900641083717346,
          0.5970352292060852,
          0.6054487228393555,
          0.5965544581413269,
          0.6052884459495544,
          0.6079326868057251,
          0.6133012771606445,
          0.6098557710647583,
          0.6117788553237915,
          0.6166666746139526
         ],
         "yaxis": "y2"
        },
        {
         "line": {
          "color": "rgb(214, 39, 40)"
         },
         "mode": "lines",
         "name": "$\\text{Transformer}\\ (n_h^{sa}=16, n_h^{ra}=0)$",
         "showlegend": false,
         "type": "scatter",
         "x": [
          0,
          1,
          2,
          3,
          4,
          5,
          6,
          7,
          8,
          9,
          10,
          11,
          12,
          13,
          14,
          15,
          16,
          17,
          18,
          19,
          20,
          21,
          22,
          23,
          24,
          25,
          26,
          27,
          28,
          29,
          30,
          31,
          32,
          33,
          34,
          35,
          36,
          37,
          38,
          39,
          40,
          41,
          42,
          43,
          44
         ],
         "xaxis": "x",
         "y": [
          0.0181430466473102,
          0.0522592179477214,
          0.0851983204483985,
          0.1145625188946724,
          0.1370641440153122,
          0.1571554392576217,
          0.1743493378162384,
          0.1919459998607635,
          0.2038977444171905,
          0.2181536555290222,
          0.2335117161273956,
          0.2545396685600281,
          0.2820086777210235,
          0.2987873554229736,
          0.3176141381263733,
          0.3365814387798309,
          0.3545777499675751,
          0.3685432970523834,
          0.3841542601585388,
          0.3963870108127594,
          0.4095064401626587,
          0.4214269518852234,
          0.4325138628482818,
          0.4432666897773742,
          0.4554244875907898,
          0.4641666114330292,
          0.4746665358543396,
          0.4837084114551544,
          0.4925972819328308,
          0.5003902912139893,
          0.5074089765548706,
          0.5169191360473633,
          0.5242531895637512,
          0.5313811302185059,
          0.5376692414283752,
          0.5447285175323486,
          0.5528025031089783,
          0.5611637234687805,
          0.5632181167602539,
          0.5675985217094421,
          0.5721663236618042,
          0.5802839994430542,
          0.5849485397338867,
          0.5880551338195801,
          0.5994355082511902
         ],
         "yaxis": "y"
        },
        {
         "line": {
          "color": "rgb(214, 39, 40)"
         },
         "mode": "lines",
         "name": "$\\text{Transformer}\\ (n_h^{sa}=16, n_h^{ra}=0)$",
         "type": "scatter",
         "x": [
          0,
          1,
          2,
          3,
          4,
          5,
          6,
          7,
          8,
          9,
          10,
          11,
          12,
          13,
          14,
          15,
          16,
          17,
          18,
          19,
          20,
          21,
          22,
          23,
          24,
          25,
          26,
          27,
          28,
          29,
          30,
          31,
          32,
          33,
          34,
          35,
          36,
          37,
          38,
          39,
          40,
          41,
          42,
          43,
          44
         ],
         "xaxis": "x2",
         "y": [
          0.0317307710647583,
          0.0810897424817085,
          0.1145833358168602,
          0.144230768084526,
          0.1736378222703933,
          0.1943109035491943,
          0.2149839699268341,
          0.2296474426984787,
          0.2395032048225402,
          0.2629006505012512,
          0.2791666686534881,
          0.309535264968872,
          0.3355769217014313,
          0.3430288434028625,
          0.3688301146030426,
          0.3886218070983886,
          0.4044871926307678,
          0.4197115302085876,
          0.429727554321289,
          0.4403846263885498,
          0.4518429338932037,
          0.4719551205635071,
          0.4781250059604645,
          0.4907852709293365,
          0.503125011920929,
          0.5039262771606445,
          0.5165865421295166,
          0.5241987109184265,
          0.5326923131942749,
          0.5368589758872986,
          0.5391025543212891,
          0.5560095906257629,
          0.5596153736114502,
          0.5571314096450806,
          0.5694711804389954,
          0.5737980604171753,
          0.5808493494987488,
          0.5806089639663696,
          0.5815705060958862,
          0.584294855594635,
          0.5909455418586731,
          0.6020833253860474,
          0.5915865302085876,
          0.6017628312110901,
          0.596794843673706
         ],
         "yaxis": "y2"
        }
       ],
       "layout": {
        "annotations": [
         {
          "font": {
           "size": 16
          },
          "showarrow": false,
          "text": "Training Accuracy",
          "x": 0.225,
          "xanchor": "center",
          "xref": "paper",
          "y": 1,
          "yanchor": "bottom",
          "yref": "paper"
         },
         {
          "font": {
           "size": 16
          },
          "showarrow": false,
          "text": "Validation Accuracy",
          "x": 0.775,
          "xanchor": "center",
          "xref": "paper",
          "y": 1,
          "yanchor": "bottom",
          "yref": "paper"
         }
        ],
        "font": {
         "family": "Computer Modern"
        },
        "height": 600,
        "legend": {
         "bordercolor": "Black",
         "borderwidth": 1,
         "title": {
          "text": "Model"
         },
         "x": 0.99,
         "xanchor": "right",
         "y": 0.01,
         "yanchor": "bottom"
        },
        "template": {
         "data": {
          "bar": [
           {
            "error_x": {
             "color": "#2a3f5f"
            },
            "error_y": {
             "color": "#2a3f5f"
            },
            "marker": {
             "line": {
              "color": "white",
              "width": 0.5
             },
             "pattern": {
              "fillmode": "overlay",
              "size": 10,
              "solidity": 0.2
             }
            },
            "type": "bar"
           }
          ],
          "barpolar": [
           {
            "marker": {
             "line": {
              "color": "white",
              "width": 0.5
             },
             "pattern": {
              "fillmode": "overlay",
              "size": 10,
              "solidity": 0.2
             }
            },
            "type": "barpolar"
           }
          ],
          "carpet": [
           {
            "aaxis": {
             "endlinecolor": "#2a3f5f",
             "gridcolor": "#C8D4E3",
             "linecolor": "#C8D4E3",
             "minorgridcolor": "#C8D4E3",
             "startlinecolor": "#2a3f5f"
            },
            "baxis": {
             "endlinecolor": "#2a3f5f",
             "gridcolor": "#C8D4E3",
             "linecolor": "#C8D4E3",
             "minorgridcolor": "#C8D4E3",
             "startlinecolor": "#2a3f5f"
            },
            "type": "carpet"
           }
          ],
          "choropleth": [
           {
            "colorbar": {
             "outlinewidth": 0,
             "ticks": ""
            },
            "type": "choropleth"
           }
          ],
          "contour": [
           {
            "colorbar": {
             "outlinewidth": 0,
             "ticks": ""
            },
            "colorscale": [
             [
              0,
              "#0d0887"
             ],
             [
              0.1111111111111111,
              "#46039f"
             ],
             [
              0.2222222222222222,
              "#7201a8"
             ],
             [
              0.3333333333333333,
              "#9c179e"
             ],
             [
              0.4444444444444444,
              "#bd3786"
             ],
             [
              0.5555555555555556,
              "#d8576b"
             ],
             [
              0.6666666666666666,
              "#ed7953"
             ],
             [
              0.7777777777777778,
              "#fb9f3a"
             ],
             [
              0.8888888888888888,
              "#fdca26"
             ],
             [
              1,
              "#f0f921"
             ]
            ],
            "type": "contour"
           }
          ],
          "contourcarpet": [
           {
            "colorbar": {
             "outlinewidth": 0,
             "ticks": ""
            },
            "type": "contourcarpet"
           }
          ],
          "heatmap": [
           {
            "colorbar": {
             "outlinewidth": 0,
             "ticks": ""
            },
            "colorscale": [
             [
              0,
              "#0d0887"
             ],
             [
              0.1111111111111111,
              "#46039f"
             ],
             [
              0.2222222222222222,
              "#7201a8"
             ],
             [
              0.3333333333333333,
              "#9c179e"
             ],
             [
              0.4444444444444444,
              "#bd3786"
             ],
             [
              0.5555555555555556,
              "#d8576b"
             ],
             [
              0.6666666666666666,
              "#ed7953"
             ],
             [
              0.7777777777777778,
              "#fb9f3a"
             ],
             [
              0.8888888888888888,
              "#fdca26"
             ],
             [
              1,
              "#f0f921"
             ]
            ],
            "type": "heatmap"
           }
          ],
          "heatmapgl": [
           {
            "colorbar": {
             "outlinewidth": 0,
             "ticks": ""
            },
            "colorscale": [
             [
              0,
              "#0d0887"
             ],
             [
              0.1111111111111111,
              "#46039f"
             ],
             [
              0.2222222222222222,
              "#7201a8"
             ],
             [
              0.3333333333333333,
              "#9c179e"
             ],
             [
              0.4444444444444444,
              "#bd3786"
             ],
             [
              0.5555555555555556,
              "#d8576b"
             ],
             [
              0.6666666666666666,
              "#ed7953"
             ],
             [
              0.7777777777777778,
              "#fb9f3a"
             ],
             [
              0.8888888888888888,
              "#fdca26"
             ],
             [
              1,
              "#f0f921"
             ]
            ],
            "type": "heatmapgl"
           }
          ],
          "histogram": [
           {
            "marker": {
             "pattern": {
              "fillmode": "overlay",
              "size": 10,
              "solidity": 0.2
             }
            },
            "type": "histogram"
           }
          ],
          "histogram2d": [
           {
            "colorbar": {
             "outlinewidth": 0,
             "ticks": ""
            },
            "colorscale": [
             [
              0,
              "#0d0887"
             ],
             [
              0.1111111111111111,
              "#46039f"
             ],
             [
              0.2222222222222222,
              "#7201a8"
             ],
             [
              0.3333333333333333,
              "#9c179e"
             ],
             [
              0.4444444444444444,
              "#bd3786"
             ],
             [
              0.5555555555555556,
              "#d8576b"
             ],
             [
              0.6666666666666666,
              "#ed7953"
             ],
             [
              0.7777777777777778,
              "#fb9f3a"
             ],
             [
              0.8888888888888888,
              "#fdca26"
             ],
             [
              1,
              "#f0f921"
             ]
            ],
            "type": "histogram2d"
           }
          ],
          "histogram2dcontour": [
           {
            "colorbar": {
             "outlinewidth": 0,
             "ticks": ""
            },
            "colorscale": [
             [
              0,
              "#0d0887"
             ],
             [
              0.1111111111111111,
              "#46039f"
             ],
             [
              0.2222222222222222,
              "#7201a8"
             ],
             [
              0.3333333333333333,
              "#9c179e"
             ],
             [
              0.4444444444444444,
              "#bd3786"
             ],
             [
              0.5555555555555556,
              "#d8576b"
             ],
             [
              0.6666666666666666,
              "#ed7953"
             ],
             [
              0.7777777777777778,
              "#fb9f3a"
             ],
             [
              0.8888888888888888,
              "#fdca26"
             ],
             [
              1,
              "#f0f921"
             ]
            ],
            "type": "histogram2dcontour"
           }
          ],
          "mesh3d": [
           {
            "colorbar": {
             "outlinewidth": 0,
             "ticks": ""
            },
            "type": "mesh3d"
           }
          ],
          "parcoords": [
           {
            "line": {
             "colorbar": {
              "outlinewidth": 0,
              "ticks": ""
             }
            },
            "type": "parcoords"
           }
          ],
          "pie": [
           {
            "automargin": true,
            "type": "pie"
           }
          ],
          "scatter": [
           {
            "fillpattern": {
             "fillmode": "overlay",
             "size": 10,
             "solidity": 0.2
            },
            "type": "scatter"
           }
          ],
          "scatter3d": [
           {
            "line": {
             "colorbar": {
              "outlinewidth": 0,
              "ticks": ""
             }
            },
            "marker": {
             "colorbar": {
              "outlinewidth": 0,
              "ticks": ""
             }
            },
            "type": "scatter3d"
           }
          ],
          "scattercarpet": [
           {
            "marker": {
             "colorbar": {
              "outlinewidth": 0,
              "ticks": ""
             }
            },
            "type": "scattercarpet"
           }
          ],
          "scattergeo": [
           {
            "marker": {
             "colorbar": {
              "outlinewidth": 0,
              "ticks": ""
             }
            },
            "type": "scattergeo"
           }
          ],
          "scattergl": [
           {
            "marker": {
             "colorbar": {
              "outlinewidth": 0,
              "ticks": ""
             }
            },
            "type": "scattergl"
           }
          ],
          "scattermapbox": [
           {
            "marker": {
             "colorbar": {
              "outlinewidth": 0,
              "ticks": ""
             }
            },
            "type": "scattermapbox"
           }
          ],
          "scatterpolar": [
           {
            "marker": {
             "colorbar": {
              "outlinewidth": 0,
              "ticks": ""
             }
            },
            "type": "scatterpolar"
           }
          ],
          "scatterpolargl": [
           {
            "marker": {
             "colorbar": {
              "outlinewidth": 0,
              "ticks": ""
             }
            },
            "type": "scatterpolargl"
           }
          ],
          "scatterternary": [
           {
            "marker": {
             "colorbar": {
              "outlinewidth": 0,
              "ticks": ""
             }
            },
            "type": "scatterternary"
           }
          ],
          "surface": [
           {
            "colorbar": {
             "outlinewidth": 0,
             "ticks": ""
            },
            "colorscale": [
             [
              0,
              "#0d0887"
             ],
             [
              0.1111111111111111,
              "#46039f"
             ],
             [
              0.2222222222222222,
              "#7201a8"
             ],
             [
              0.3333333333333333,
              "#9c179e"
             ],
             [
              0.4444444444444444,
              "#bd3786"
             ],
             [
              0.5555555555555556,
              "#d8576b"
             ],
             [
              0.6666666666666666,
              "#ed7953"
             ],
             [
              0.7777777777777778,
              "#fb9f3a"
             ],
             [
              0.8888888888888888,
              "#fdca26"
             ],
             [
              1,
              "#f0f921"
             ]
            ],
            "type": "surface"
           }
          ],
          "table": [
           {
            "cells": {
             "fill": {
              "color": "#EBF0F8"
             },
             "line": {
              "color": "white"
             }
            },
            "header": {
             "fill": {
              "color": "#C8D4E3"
             },
             "line": {
              "color": "white"
             }
            },
            "type": "table"
           }
          ]
         },
         "layout": {
          "annotationdefaults": {
           "arrowcolor": "#2a3f5f",
           "arrowhead": 0,
           "arrowwidth": 1
          },
          "autotypenumbers": "strict",
          "coloraxis": {
           "colorbar": {
            "outlinewidth": 0,
            "ticks": ""
           }
          },
          "colorscale": {
           "diverging": [
            [
             0,
             "#8e0152"
            ],
            [
             0.1,
             "#c51b7d"
            ],
            [
             0.2,
             "#de77ae"
            ],
            [
             0.3,
             "#f1b6da"
            ],
            [
             0.4,
             "#fde0ef"
            ],
            [
             0.5,
             "#f7f7f7"
            ],
            [
             0.6,
             "#e6f5d0"
            ],
            [
             0.7,
             "#b8e186"
            ],
            [
             0.8,
             "#7fbc41"
            ],
            [
             0.9,
             "#4d9221"
            ],
            [
             1,
             "#276419"
            ]
           ],
           "sequential": [
            [
             0,
             "#0d0887"
            ],
            [
             0.1111111111111111,
             "#46039f"
            ],
            [
             0.2222222222222222,
             "#7201a8"
            ],
            [
             0.3333333333333333,
             "#9c179e"
            ],
            [
             0.4444444444444444,
             "#bd3786"
            ],
            [
             0.5555555555555556,
             "#d8576b"
            ],
            [
             0.6666666666666666,
             "#ed7953"
            ],
            [
             0.7777777777777778,
             "#fb9f3a"
            ],
            [
             0.8888888888888888,
             "#fdca26"
            ],
            [
             1,
             "#f0f921"
            ]
           ],
           "sequentialminus": [
            [
             0,
             "#0d0887"
            ],
            [
             0.1111111111111111,
             "#46039f"
            ],
            [
             0.2222222222222222,
             "#7201a8"
            ],
            [
             0.3333333333333333,
             "#9c179e"
            ],
            [
             0.4444444444444444,
             "#bd3786"
            ],
            [
             0.5555555555555556,
             "#d8576b"
            ],
            [
             0.6666666666666666,
             "#ed7953"
            ],
            [
             0.7777777777777778,
             "#fb9f3a"
            ],
            [
             0.8888888888888888,
             "#fdca26"
            ],
            [
             1,
             "#f0f921"
            ]
           ]
          },
          "colorway": [
           "#636efa",
           "#EF553B",
           "#00cc96",
           "#ab63fa",
           "#FFA15A",
           "#19d3f3",
           "#FF6692",
           "#B6E880",
           "#FF97FF",
           "#FECB52"
          ],
          "font": {
           "color": "#2a3f5f"
          },
          "geo": {
           "bgcolor": "white",
           "lakecolor": "white",
           "landcolor": "white",
           "showlakes": true,
           "showland": true,
           "subunitcolor": "#C8D4E3"
          },
          "hoverlabel": {
           "align": "left"
          },
          "hovermode": "closest",
          "mapbox": {
           "style": "light"
          },
          "paper_bgcolor": "white",
          "plot_bgcolor": "white",
          "polar": {
           "angularaxis": {
            "gridcolor": "#EBF0F8",
            "linecolor": "#EBF0F8",
            "ticks": ""
           },
           "bgcolor": "white",
           "radialaxis": {
            "gridcolor": "#EBF0F8",
            "linecolor": "#EBF0F8",
            "ticks": ""
           }
          },
          "scene": {
           "xaxis": {
            "backgroundcolor": "white",
            "gridcolor": "#DFE8F3",
            "gridwidth": 2,
            "linecolor": "#EBF0F8",
            "showbackground": true,
            "ticks": "",
            "zerolinecolor": "#EBF0F8"
           },
           "yaxis": {
            "backgroundcolor": "white",
            "gridcolor": "#DFE8F3",
            "gridwidth": 2,
            "linecolor": "#EBF0F8",
            "showbackground": true,
            "ticks": "",
            "zerolinecolor": "#EBF0F8"
           },
           "zaxis": {
            "backgroundcolor": "white",
            "gridcolor": "#DFE8F3",
            "gridwidth": 2,
            "linecolor": "#EBF0F8",
            "showbackground": true,
            "ticks": "",
            "zerolinecolor": "#EBF0F8"
           }
          },
          "shapedefaults": {
           "line": {
            "color": "#2a3f5f"
           }
          },
          "ternary": {
           "aaxis": {
            "gridcolor": "#DFE8F3",
            "linecolor": "#A2B1C6",
            "ticks": ""
           },
           "baxis": {
            "gridcolor": "#DFE8F3",
            "linecolor": "#A2B1C6",
            "ticks": ""
           },
           "bgcolor": "white",
           "caxis": {
            "gridcolor": "#DFE8F3",
            "linecolor": "#A2B1C6",
            "ticks": ""
           }
          },
          "title": {
           "x": 0.05
          },
          "xaxis": {
           "automargin": true,
           "gridcolor": "#EBF0F8",
           "linecolor": "#EBF0F8",
           "ticks": "",
           "title": {
            "standoff": 15
           },
           "zerolinecolor": "#EBF0F8",
           "zerolinewidth": 2
          },
          "yaxis": {
           "automargin": true,
           "gridcolor": "#EBF0F8",
           "linecolor": "#EBF0F8",
           "ticks": "",
           "title": {
            "standoff": 15
           },
           "zerolinecolor": "#EBF0F8",
           "zerolinewidth": 2
          }
         }
        },
        "title": {
         "text": "Image Classification Training Curves"
        },
        "width": 1000,
        "xaxis": {
         "anchor": "y",
         "domain": [
          0,
          0.45
         ],
         "title": {
          "text": "Epoch"
         }
        },
        "xaxis2": {
         "anchor": "y2",
         "domain": [
          0.55,
          1
         ],
         "title": {
          "text": "Epoch"
         }
        },
        "yaxis": {
         "anchor": "x",
         "domain": [
          0,
          1
         ]
        },
        "yaxis2": {
         "anchor": "x2",
         "domain": [
          0,
          1
         ]
        }
       }
      },
      "text/html": [
       "<div>                            <div id=\"5311ceab-ca9d-4de1-ae39-109f1b6deb6a\" class=\"plotly-graph-div\" style=\"height:600px; width:1000px;\"></div>            <script type=\"text/javascript\">                require([\"plotly\"], function(Plotly) {                    window.PLOTLYENV=window.PLOTLYENV || {};                                    if (document.getElementById(\"5311ceab-ca9d-4de1-ae39-109f1b6deb6a\")) {                    Plotly.newPlot(                        \"5311ceab-ca9d-4de1-ae39-109f1b6deb6a\",                        [{\"line\":{\"color\":\"rgb(31, 119, 180)\"},\"mode\":\"lines\",\"name\":\"$\\\\text{Dual-Attn Transformer}\\\\ (n_h^{sa}=10, n_h^{ra}=6)$\",\"showlegend\":false,\"x\":[0,1,2,3,4,5,6,7,8,9,10,11,12,13,14,15,16,17,18,19,20,21,22,23,24,25,26,27,28,29,30,31,32,33,34,35,36,37,38,39,40,41,42,43,44,45],\"y\":[0.0213432908058166,0.062983937561512,0.1017022207379341,0.1342042088508606,0.1616451442241668,0.2021430730819702,0.2371990233659744,0.2621983885765075,0.2917686700820923,0.3114946484565735,0.334320992231369,0.3511776924133301,0.3700201213359833,0.3848567605018616,0.400068074464798,0.4121415615081787,0.4269532561302185,0.4375312328338623,0.449158251285553,0.45541512966156,0.4681442975997925,0.476396232843399,0.4839925169944763,0.496852844953537,0.5040619969367981,0.5122265219688416,0.518673837184906,0.5296108722686768,0.5360175967216492,0.5421214699745178,0.5510727763175964,0.5566458702087402,0.561994194984436,0.5712546110153198,0.5765748620033264,0.5804275870323181,0.5909400582313538,0.5928851366043091,0.5975621938705444,0.6035006046295166,0.6071879267692566,0.6137538552284241,0.6173131465911865,0.6215874552726746,0.6251686215400696,0.6283501386642456],\"type\":\"scatter\",\"xaxis\":\"x\",\"yaxis\":\"y\"},{\"line\":{\"color\":\"rgb(31, 119, 180)\"},\"mode\":\"lines\",\"name\":\"$\\\\text{Dual-Attn Transformer}\\\\ (n_h^{sa}=10, n_h^{ra}=6)$\",\"x\":[0,1,2,3,4,5,6,7,8,9,10,11,12,13,14,15,16,17,18,19,20,21,22,23,24,25,26,27,28,29,30,31,32,33,34,35,36,37,38,39,40,41,42,43,44,45],\"y\":[0.0470352582633495,0.092708334326744,0.1411858946084976,0.1738782078027725,0.2004807740449905,0.2545672953128814,0.2846955060958862,0.3278044760227203,0.3370192348957062,0.3611378073692322,0.379006415605545,0.4002403914928436,0.4207532107830047,0.4314903914928436,0.4451923072338104,0.4576121866703033,0.4725160300731659,0.4834134578704834,0.4937500059604645,0.4965544939041137,0.5126602649688721,0.5229967832565308,0.5322916507720947,0.5326122045516968,0.5391826629638672,0.545352578163147,0.5521634817123413,0.5552884340286255,0.5631410479545593,0.5685096383094788,0.5696313977241516,0.5721153616905212,0.584455132484436,0.5813301205635071,0.5932692289352417,0.592067301273346,0.5900641083717346,0.5970352292060852,0.6054487228393555,0.5965544581413269,0.6052884459495544,0.6079326868057251,0.6133012771606445,0.6098557710647583,0.6117788553237915,0.6166666746139526],\"type\":\"scatter\",\"xaxis\":\"x2\",\"yaxis\":\"y2\"},{\"line\":{\"color\":\"rgb(214, 39, 40)\"},\"mode\":\"lines\",\"name\":\"$\\\\text{Transformer}\\\\ (n_h^{sa}=16, n_h^{ra}=0)$\",\"showlegend\":false,\"x\":[0,1,2,3,4,5,6,7,8,9,10,11,12,13,14,15,16,17,18,19,20,21,22,23,24,25,26,27,28,29,30,31,32,33,34,35,36,37,38,39,40,41,42,43,44],\"y\":[0.0181430466473102,0.0522592179477214,0.0851983204483985,0.1145625188946724,0.1370641440153122,0.1571554392576217,0.1743493378162384,0.1919459998607635,0.2038977444171905,0.2181536555290222,0.2335117161273956,0.2545396685600281,0.2820086777210235,0.2987873554229736,0.3176141381263733,0.3365814387798309,0.3545777499675751,0.3685432970523834,0.3841542601585388,0.3963870108127594,0.4095064401626587,0.4214269518852234,0.4325138628482818,0.4432666897773742,0.4554244875907898,0.4641666114330292,0.4746665358543396,0.4837084114551544,0.4925972819328308,0.5003902912139893,0.5074089765548706,0.5169191360473633,0.5242531895637512,0.5313811302185059,0.5376692414283752,0.5447285175323486,0.5528025031089783,0.5611637234687805,0.5632181167602539,0.5675985217094421,0.5721663236618042,0.5802839994430542,0.5849485397338867,0.5880551338195801,0.5994355082511902],\"type\":\"scatter\",\"xaxis\":\"x\",\"yaxis\":\"y\"},{\"line\":{\"color\":\"rgb(214, 39, 40)\"},\"mode\":\"lines\",\"name\":\"$\\\\text{Transformer}\\\\ (n_h^{sa}=16, n_h^{ra}=0)$\",\"x\":[0,1,2,3,4,5,6,7,8,9,10,11,12,13,14,15,16,17,18,19,20,21,22,23,24,25,26,27,28,29,30,31,32,33,34,35,36,37,38,39,40,41,42,43,44],\"y\":[0.0317307710647583,0.0810897424817085,0.1145833358168602,0.144230768084526,0.1736378222703933,0.1943109035491943,0.2149839699268341,0.2296474426984787,0.2395032048225402,0.2629006505012512,0.2791666686534881,0.309535264968872,0.3355769217014313,0.3430288434028625,0.3688301146030426,0.3886218070983886,0.4044871926307678,0.4197115302085876,0.429727554321289,0.4403846263885498,0.4518429338932037,0.4719551205635071,0.4781250059604645,0.4907852709293365,0.503125011920929,0.5039262771606445,0.5165865421295166,0.5241987109184265,0.5326923131942749,0.5368589758872986,0.5391025543212891,0.5560095906257629,0.5596153736114502,0.5571314096450806,0.5694711804389954,0.5737980604171753,0.5808493494987488,0.5806089639663696,0.5815705060958862,0.584294855594635,0.5909455418586731,0.6020833253860474,0.5915865302085876,0.6017628312110901,0.596794843673706],\"type\":\"scatter\",\"xaxis\":\"x2\",\"yaxis\":\"y2\"}],                        {\"template\":{\"data\":{\"barpolar\":[{\"marker\":{\"line\":{\"color\":\"white\",\"width\":0.5},\"pattern\":{\"fillmode\":\"overlay\",\"size\":10,\"solidity\":0.2}},\"type\":\"barpolar\"}],\"bar\":[{\"error_x\":{\"color\":\"#2a3f5f\"},\"error_y\":{\"color\":\"#2a3f5f\"},\"marker\":{\"line\":{\"color\":\"white\",\"width\":0.5},\"pattern\":{\"fillmode\":\"overlay\",\"size\":10,\"solidity\":0.2}},\"type\":\"bar\"}],\"carpet\":[{\"aaxis\":{\"endlinecolor\":\"#2a3f5f\",\"gridcolor\":\"#C8D4E3\",\"linecolor\":\"#C8D4E3\",\"minorgridcolor\":\"#C8D4E3\",\"startlinecolor\":\"#2a3f5f\"},\"baxis\":{\"endlinecolor\":\"#2a3f5f\",\"gridcolor\":\"#C8D4E3\",\"linecolor\":\"#C8D4E3\",\"minorgridcolor\":\"#C8D4E3\",\"startlinecolor\":\"#2a3f5f\"},\"type\":\"carpet\"}],\"choropleth\":[{\"colorbar\":{\"outlinewidth\":0,\"ticks\":\"\"},\"type\":\"choropleth\"}],\"contourcarpet\":[{\"colorbar\":{\"outlinewidth\":0,\"ticks\":\"\"},\"type\":\"contourcarpet\"}],\"contour\":[{\"colorbar\":{\"outlinewidth\":0,\"ticks\":\"\"},\"colorscale\":[[0.0,\"#0d0887\"],[0.1111111111111111,\"#46039f\"],[0.2222222222222222,\"#7201a8\"],[0.3333333333333333,\"#9c179e\"],[0.4444444444444444,\"#bd3786\"],[0.5555555555555556,\"#d8576b\"],[0.6666666666666666,\"#ed7953\"],[0.7777777777777778,\"#fb9f3a\"],[0.8888888888888888,\"#fdca26\"],[1.0,\"#f0f921\"]],\"type\":\"contour\"}],\"heatmapgl\":[{\"colorbar\":{\"outlinewidth\":0,\"ticks\":\"\"},\"colorscale\":[[0.0,\"#0d0887\"],[0.1111111111111111,\"#46039f\"],[0.2222222222222222,\"#7201a8\"],[0.3333333333333333,\"#9c179e\"],[0.4444444444444444,\"#bd3786\"],[0.5555555555555556,\"#d8576b\"],[0.6666666666666666,\"#ed7953\"],[0.7777777777777778,\"#fb9f3a\"],[0.8888888888888888,\"#fdca26\"],[1.0,\"#f0f921\"]],\"type\":\"heatmapgl\"}],\"heatmap\":[{\"colorbar\":{\"outlinewidth\":0,\"ticks\":\"\"},\"colorscale\":[[0.0,\"#0d0887\"],[0.1111111111111111,\"#46039f\"],[0.2222222222222222,\"#7201a8\"],[0.3333333333333333,\"#9c179e\"],[0.4444444444444444,\"#bd3786\"],[0.5555555555555556,\"#d8576b\"],[0.6666666666666666,\"#ed7953\"],[0.7777777777777778,\"#fb9f3a\"],[0.8888888888888888,\"#fdca26\"],[1.0,\"#f0f921\"]],\"type\":\"heatmap\"}],\"histogram2dcontour\":[{\"colorbar\":{\"outlinewidth\":0,\"ticks\":\"\"},\"colorscale\":[[0.0,\"#0d0887\"],[0.1111111111111111,\"#46039f\"],[0.2222222222222222,\"#7201a8\"],[0.3333333333333333,\"#9c179e\"],[0.4444444444444444,\"#bd3786\"],[0.5555555555555556,\"#d8576b\"],[0.6666666666666666,\"#ed7953\"],[0.7777777777777778,\"#fb9f3a\"],[0.8888888888888888,\"#fdca26\"],[1.0,\"#f0f921\"]],\"type\":\"histogram2dcontour\"}],\"histogram2d\":[{\"colorbar\":{\"outlinewidth\":0,\"ticks\":\"\"},\"colorscale\":[[0.0,\"#0d0887\"],[0.1111111111111111,\"#46039f\"],[0.2222222222222222,\"#7201a8\"],[0.3333333333333333,\"#9c179e\"],[0.4444444444444444,\"#bd3786\"],[0.5555555555555556,\"#d8576b\"],[0.6666666666666666,\"#ed7953\"],[0.7777777777777778,\"#fb9f3a\"],[0.8888888888888888,\"#fdca26\"],[1.0,\"#f0f921\"]],\"type\":\"histogram2d\"}],\"histogram\":[{\"marker\":{\"pattern\":{\"fillmode\":\"overlay\",\"size\":10,\"solidity\":0.2}},\"type\":\"histogram\"}],\"mesh3d\":[{\"colorbar\":{\"outlinewidth\":0,\"ticks\":\"\"},\"type\":\"mesh3d\"}],\"parcoords\":[{\"line\":{\"colorbar\":{\"outlinewidth\":0,\"ticks\":\"\"}},\"type\":\"parcoords\"}],\"pie\":[{\"automargin\":true,\"type\":\"pie\"}],\"scatter3d\":[{\"line\":{\"colorbar\":{\"outlinewidth\":0,\"ticks\":\"\"}},\"marker\":{\"colorbar\":{\"outlinewidth\":0,\"ticks\":\"\"}},\"type\":\"scatter3d\"}],\"scattercarpet\":[{\"marker\":{\"colorbar\":{\"outlinewidth\":0,\"ticks\":\"\"}},\"type\":\"scattercarpet\"}],\"scattergeo\":[{\"marker\":{\"colorbar\":{\"outlinewidth\":0,\"ticks\":\"\"}},\"type\":\"scattergeo\"}],\"scattergl\":[{\"marker\":{\"colorbar\":{\"outlinewidth\":0,\"ticks\":\"\"}},\"type\":\"scattergl\"}],\"scattermapbox\":[{\"marker\":{\"colorbar\":{\"outlinewidth\":0,\"ticks\":\"\"}},\"type\":\"scattermapbox\"}],\"scatterpolargl\":[{\"marker\":{\"colorbar\":{\"outlinewidth\":0,\"ticks\":\"\"}},\"type\":\"scatterpolargl\"}],\"scatterpolar\":[{\"marker\":{\"colorbar\":{\"outlinewidth\":0,\"ticks\":\"\"}},\"type\":\"scatterpolar\"}],\"scatter\":[{\"fillpattern\":{\"fillmode\":\"overlay\",\"size\":10,\"solidity\":0.2},\"type\":\"scatter\"}],\"scatterternary\":[{\"marker\":{\"colorbar\":{\"outlinewidth\":0,\"ticks\":\"\"}},\"type\":\"scatterternary\"}],\"surface\":[{\"colorbar\":{\"outlinewidth\":0,\"ticks\":\"\"},\"colorscale\":[[0.0,\"#0d0887\"],[0.1111111111111111,\"#46039f\"],[0.2222222222222222,\"#7201a8\"],[0.3333333333333333,\"#9c179e\"],[0.4444444444444444,\"#bd3786\"],[0.5555555555555556,\"#d8576b\"],[0.6666666666666666,\"#ed7953\"],[0.7777777777777778,\"#fb9f3a\"],[0.8888888888888888,\"#fdca26\"],[1.0,\"#f0f921\"]],\"type\":\"surface\"}],\"table\":[{\"cells\":{\"fill\":{\"color\":\"#EBF0F8\"},\"line\":{\"color\":\"white\"}},\"header\":{\"fill\":{\"color\":\"#C8D4E3\"},\"line\":{\"color\":\"white\"}},\"type\":\"table\"}]},\"layout\":{\"annotationdefaults\":{\"arrowcolor\":\"#2a3f5f\",\"arrowhead\":0,\"arrowwidth\":1},\"autotypenumbers\":\"strict\",\"coloraxis\":{\"colorbar\":{\"outlinewidth\":0,\"ticks\":\"\"}},\"colorscale\":{\"diverging\":[[0,\"#8e0152\"],[0.1,\"#c51b7d\"],[0.2,\"#de77ae\"],[0.3,\"#f1b6da\"],[0.4,\"#fde0ef\"],[0.5,\"#f7f7f7\"],[0.6,\"#e6f5d0\"],[0.7,\"#b8e186\"],[0.8,\"#7fbc41\"],[0.9,\"#4d9221\"],[1,\"#276419\"]],\"sequential\":[[0.0,\"#0d0887\"],[0.1111111111111111,\"#46039f\"],[0.2222222222222222,\"#7201a8\"],[0.3333333333333333,\"#9c179e\"],[0.4444444444444444,\"#bd3786\"],[0.5555555555555556,\"#d8576b\"],[0.6666666666666666,\"#ed7953\"],[0.7777777777777778,\"#fb9f3a\"],[0.8888888888888888,\"#fdca26\"],[1.0,\"#f0f921\"]],\"sequentialminus\":[[0.0,\"#0d0887\"],[0.1111111111111111,\"#46039f\"],[0.2222222222222222,\"#7201a8\"],[0.3333333333333333,\"#9c179e\"],[0.4444444444444444,\"#bd3786\"],[0.5555555555555556,\"#d8576b\"],[0.6666666666666666,\"#ed7953\"],[0.7777777777777778,\"#fb9f3a\"],[0.8888888888888888,\"#fdca26\"],[1.0,\"#f0f921\"]]},\"colorway\":[\"#636efa\",\"#EF553B\",\"#00cc96\",\"#ab63fa\",\"#FFA15A\",\"#19d3f3\",\"#FF6692\",\"#B6E880\",\"#FF97FF\",\"#FECB52\"],\"font\":{\"color\":\"#2a3f5f\"},\"geo\":{\"bgcolor\":\"white\",\"lakecolor\":\"white\",\"landcolor\":\"white\",\"showlakes\":true,\"showland\":true,\"subunitcolor\":\"#C8D4E3\"},\"hoverlabel\":{\"align\":\"left\"},\"hovermode\":\"closest\",\"mapbox\":{\"style\":\"light\"},\"paper_bgcolor\":\"white\",\"plot_bgcolor\":\"white\",\"polar\":{\"angularaxis\":{\"gridcolor\":\"#EBF0F8\",\"linecolor\":\"#EBF0F8\",\"ticks\":\"\"},\"bgcolor\":\"white\",\"radialaxis\":{\"gridcolor\":\"#EBF0F8\",\"linecolor\":\"#EBF0F8\",\"ticks\":\"\"}},\"scene\":{\"xaxis\":{\"backgroundcolor\":\"white\",\"gridcolor\":\"#DFE8F3\",\"gridwidth\":2,\"linecolor\":\"#EBF0F8\",\"showbackground\":true,\"ticks\":\"\",\"zerolinecolor\":\"#EBF0F8\"},\"yaxis\":{\"backgroundcolor\":\"white\",\"gridcolor\":\"#DFE8F3\",\"gridwidth\":2,\"linecolor\":\"#EBF0F8\",\"showbackground\":true,\"ticks\":\"\",\"zerolinecolor\":\"#EBF0F8\"},\"zaxis\":{\"backgroundcolor\":\"white\",\"gridcolor\":\"#DFE8F3\",\"gridwidth\":2,\"linecolor\":\"#EBF0F8\",\"showbackground\":true,\"ticks\":\"\",\"zerolinecolor\":\"#EBF0F8\"}},\"shapedefaults\":{\"line\":{\"color\":\"#2a3f5f\"}},\"ternary\":{\"aaxis\":{\"gridcolor\":\"#DFE8F3\",\"linecolor\":\"#A2B1C6\",\"ticks\":\"\"},\"baxis\":{\"gridcolor\":\"#DFE8F3\",\"linecolor\":\"#A2B1C6\",\"ticks\":\"\"},\"bgcolor\":\"white\",\"caxis\":{\"gridcolor\":\"#DFE8F3\",\"linecolor\":\"#A2B1C6\",\"ticks\":\"\"}},\"title\":{\"x\":0.05},\"xaxis\":{\"automargin\":true,\"gridcolor\":\"#EBF0F8\",\"linecolor\":\"#EBF0F8\",\"ticks\":\"\",\"title\":{\"standoff\":15},\"zerolinecolor\":\"#EBF0F8\",\"zerolinewidth\":2},\"yaxis\":{\"automargin\":true,\"gridcolor\":\"#EBF0F8\",\"linecolor\":\"#EBF0F8\",\"ticks\":\"\",\"title\":{\"standoff\":15},\"zerolinecolor\":\"#EBF0F8\",\"zerolinewidth\":2}}},\"xaxis\":{\"anchor\":\"y\",\"domain\":[0.0,0.45],\"title\":{\"text\":\"Epoch\"}},\"yaxis\":{\"anchor\":\"x\",\"domain\":[0.0,1.0]},\"xaxis2\":{\"anchor\":\"y2\",\"domain\":[0.55,1.0],\"title\":{\"text\":\"Epoch\"}},\"yaxis2\":{\"anchor\":\"x2\",\"domain\":[0.0,1.0]},\"annotations\":[{\"font\":{\"size\":16},\"showarrow\":false,\"text\":\"Training Accuracy\",\"x\":0.225,\"xanchor\":\"center\",\"xref\":\"paper\",\"y\":1.0,\"yanchor\":\"bottom\",\"yref\":\"paper\"},{\"font\":{\"size\":16},\"showarrow\":false,\"text\":\"Validation Accuracy\",\"x\":0.775,\"xanchor\":\"center\",\"xref\":\"paper\",\"y\":1.0,\"yanchor\":\"bottom\",\"yref\":\"paper\"}],\"title\":{\"text\":\"Image Classification Training Curves\"},\"font\":{\"family\":\"Computer Modern\"},\"legend\":{\"title\":{\"text\":\"Model\"},\"yanchor\":\"bottom\",\"y\":0.01,\"xanchor\":\"right\",\"x\":0.99,\"bordercolor\":\"Black\",\"borderwidth\":1},\"height\":600,\"width\":1000},                        {\"responsive\": true}                    ).then(function(){\n",
       "                            \n",
       "var gd = document.getElementById('5311ceab-ca9d-4de1-ae39-109f1b6deb6a');\n",
       "var x = new MutationObserver(function (mutations, observer) {{\n",
       "        var display = window.getComputedStyle(gd).display;\n",
       "        if (!display || display === 'none') {{\n",
       "            console.log([gd, 'removed!']);\n",
       "            Plotly.purge(gd);\n",
       "            observer.disconnect();\n",
       "        }}\n",
       "}});\n",
       "\n",
       "// Listen for the removal of the full notebook cells\n",
       "var notebookContainer = gd.closest('#notebook-container');\n",
       "if (notebookContainer) {{\n",
       "    x.observe(notebookContainer, {childList: true});\n",
       "}}\n",
       "\n",
       "// Listen for the clearing of the current output cell\n",
       "var outputEl = gd.closest('.output');\n",
       "if (outputEl) {{\n",
       "    x.observe(outputEl, {childList: true});\n",
       "}}\n",
       "\n",
       "                        })                };                });            </script>        </div>"
      ]
     },
     "metadata": {},
     "output_type": "display_data"
    }
   ],
   "source": [
    "import plotly.subplots as sp\n",
    "import plotly.graph_objects as go\n",
    "\n",
    "# Assuming figure_data is your DataFrame with columns 'Epoch', 'Training Accuracy', 'Validation Accuracy', 'Model'\n",
    "# and color_map_ is a dictionary mapping 'Model' values to colors\n",
    "\n",
    "# Get unique models\n",
    "models = figure_data['Model'].unique()\n",
    "\n",
    "# Create subplots\n",
    "fig = sp.make_subplots(rows=1, cols=2, subplot_titles=(\"Training Accuracy\", \"Validation Accuracy\"), horizontal_spacing=0.1)\n",
    "\n",
    "# Add line plots to the subplots\n",
    "for model in models:\n",
    "    model_data = figure_data[figure_data['Model'] == model]\n",
    "    model_data_tr = model_data[['Epoch', 'Training Accuracy']].dropna()\n",
    "    model_data_val = model_data[['Epoch', 'Validation Accuracy']].dropna()\n",
    "    fig.add_trace(go.Scatter(\n",
    "        x=model_data_tr['Epoch'], y=model_data_tr['Training Accuracy'],\n",
    "        mode='lines', line=dict(color=color_map[model]), name=model, showlegend=False\n",
    "        ), \n",
    "        row=1, col=1)\n",
    "    fig.add_trace(go.Scatter(\n",
    "        x=model_data_val['Epoch'], y=model_data_val['Validation Accuracy'],\n",
    "        mode='lines', line=dict(color=color_map[model]), \n",
    "        name=model), \n",
    "        row=1, col=2)\n",
    "\n",
    "# Update layout\n",
    "fig.update_layout(\n",
    "    height=600, width=1000, title_text=\"Image Classification Training Curves\",\n",
    "    template=theme,\n",
    "    font_family=\"Computer Modern\",\n",
    "    legend_title=\"Model\",\n",
    "    legend=dict(yanchor=\"bottom\", y=0.01, xanchor=\"right\", x=0.99,\n",
    "#                     title_font_family=\"Computer Modern\", #bgcolor='LightSteelBlue',\n",
    "                    bordercolor=\"Black\", borderwidth=1),)\n",
    "\n",
    "fig.update_xaxes(title_text=\"Epoch\", row=1, col=1)\n",
    "# fig.update_yaxes(title_text=\"Training Accuracy\", row=1, col=1)\n",
    "fig.update_xaxes(title_text=\"Epoch\", row=1, col=2)\n",
    "# fig.update_yaxes(title_text=\"Validation Accuracy\", row=1, col=2)\n",
    "\n",
    "\n",
    "# Show the figure\n",
    "fig.show()"
   ]
  },
  {
   "cell_type": "code",
   "execution_count": 203,
   "metadata": {},
   "outputs": [],
   "source": [
    "fig_json = fig.to_json()\n",
    "# save fig_json to file\n",
    "with open(f'{save_dir}/imagenet_training_curves.json', 'w') as f:\n",
    "    f.write(fig_json)"
   ]
  }
 ],
 "metadata": {
  "kernelspec": {
   "display_name": "attention",
   "language": "python",
   "name": "python3"
  },
  "language_info": {
   "codemirror_mode": {
    "name": "ipython",
    "version": 3
   },
   "file_extension": ".py",
   "mimetype": "text/x-python",
   "name": "python",
   "nbconvert_exporter": "python",
   "pygments_lexer": "ipython3",
   "version": "3.10.15"
  }
 },
 "nbformat": 4,
 "nbformat_minor": 2
}
