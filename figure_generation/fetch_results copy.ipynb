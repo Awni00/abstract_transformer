{
 "cells": [
  {
   "cell_type": "markdown",
   "metadata": {},
   "source": [
    "# Fetch Experiment Results from W&B Logs"
   ]
  },
  {
   "cell_type": "code",
   "execution_count": 25,
   "metadata": {},
   "outputs": [],
   "source": [
    "import wandb\n",
    "import pandas as pd\n",
    "import seaborn as sns\n",
    "import matplotlib.pyplot as plt\n",
    "import plotly.express as px\n",
    "from tqdm import tqdm\n",
    "\n",
    "from wandb_utils import get_wandb_project_table"
   ]
  },
  {
   "cell_type": "code",
   "execution_count": 26,
   "metadata": {},
   "outputs": [],
   "source": [
    "data_dir = 'figure_data_tmp'"
   ]
  },
  {
   "cell_type": "code",
   "execution_count": 27,
   "metadata": {},
   "outputs": [],
   "source": [
    "def get_project_run_histories(project_name, keys=None, groups=None, runs_filter=None, entity='Awni00', attr_cols=('group', 'name'), config_cols='all', retrieval_method='history', **kwargs):\n",
    "    '''gets the log history of all runs in a project'''\n",
    "\n",
    "    def get_run_history(run):\n",
    "        if retrieval_method == 'scan':\n",
    "            history_scan = run.scan_history(keys=keys)\n",
    "            run_history_data = {key: [] for key in keys}\n",
    "            for row in history_scan:\n",
    "                for key in keys:\n",
    "                    run_history_data[key].append(row[key])\n",
    "            return pd.DataFrame(run_history_data)\n",
    "        elif retrieval_method == 'history':\n",
    "            return run.history(keys=keys, **kwargs)\n",
    "        else:\n",
    "            raise ValueError(f'invalid retrieval method: {retrieval_method}')\n",
    "\n",
    "    api = wandb.Api(timeout=60)\n",
    "\n",
    "    runs = api.runs(entity + \"/\" + project_name)\n",
    "    if groups is not None:\n",
    "        runs = [run for run in runs if run.group in groups]\n",
    "    if runs_filter:\n",
    "        runs = [run for run in runs if run.name in runs_filter]\n",
    "\n",
    "    if config_cols == 'all':\n",
    "        config_cols = set().union(*tuple(run.config.keys() for run in runs))\n",
    "\n",
    "    run_history_dfs = []\n",
    "\n",
    "    print(f'fetching run history for {len(runs)} runs in {project_name}')\n",
    "\n",
    "    for run in tqdm(runs):\n",
    "        run_history = get_run_history(run)\n",
    "\n",
    "        for config_col in config_cols:\n",
    "            run_history[config_col] = run.config.get(config_col, None)\n",
    "\n",
    "        for attr_col in attr_cols:\n",
    "            run_history[attr_col] = getattr(run, attr_col, None)\n",
    "\n",
    "        run_history_dfs.append(run_history)\n",
    "\n",
    "    runs_history_df = pd.concat(run_history_dfs, axis=0)\n",
    "\n",
    "    runs_history_df = runs_history_df.reset_index(drop=True)\n",
    "\n",
    "    return runs_history_df"
   ]
  },
  {
   "cell_type": "markdown",
   "metadata": {},
   "source": [
    "## Relational Games"
   ]
  },
  {
   "cell_type": "code",
   "execution_count": 44,
   "metadata": {},
   "outputs": [],
   "source": [
    "api = wandb.Api()\n",
    "project = 'dual_attention--relational_games_learning_curves'\n",
    "data_dir = 'figure_data'"
   ]
  },
  {
   "cell_type": "code",
   "execution_count": 45,
   "metadata": {},
   "outputs": [],
   "source": [
    "config_cols = 'all' #['d_model', 'n_layers', 'symbol_retrieval', 'n_heads_rca', 'n_heads_sa', 'rca_type', 'rca_kwargs.symmetric_rels', 'n_heads', 'task', 'train_size', 'num_params']\n",
    "attr_cols = ['name']\n",
    "\n",
    "relgames_data = get_wandb_project_table(\n",
    "    # project_name=project, entity='awni00', attr_cols=attr_cols, config_cols=config_cols, summary_cols='all')\n",
    "    project_name=project, entity='dual-attention', attr_cols=attr_cols, config_cols=config_cols, summary_cols='all')"
   ]
  },
  {
   "cell_type": "code",
   "execution_count": 46,
   "metadata": {},
   "outputs": [],
   "source": [
    "def process_groupname(group_name):\n",
    "    task, model_name = group_name.split('__')\n",
    "    return model_name"
   ]
  },
  {
   "cell_type": "code",
   "execution_count": 58,
   "metadata": {},
   "outputs": [],
   "source": [
    "relgames_data['model_name'] = relgames_data['group'].apply(process_groupname)"
   ]
  },
  {
   "cell_type": "code",
   "execution_count": 59,
   "metadata": {},
   "outputs": [
    {
     "data": {
      "text/plain": [
       "{'sa=0; ra=8; nr=8; d=128; L=2; ra_type=relational_attention; sym_rel=True; sym_attn=True; symbol_type=': 'sa=0; ra=8; nr=8; d=128; L=2; ra_type=relational_attention; sym_rel=True; sym_attn=True; symbol_type=positional_symbols',\n",
       " 'sa=0; ra=4; nr=4; d=128; L=2; ra_type=relational_attention; sym_rel=True; sym_attn=True; symbol_type=': 'sa=0; ra=4; nr=4; d=128; L=2; ra_type=relational_attention; sym_rel=True; sym_attn=True; symbol_type=positional_symbols',\n",
       " 'sa=0; ra=8; nr=8; d=128; L=2; ra_type=relational_attention; sym_rel=True; sym_attn=True; symbol_type=pos': 'sa=0; ra=8; nr=8; d=128; L=2; ra_type=relational_attention; sym_rel=True; sym_attn=True; symbol_type=positional_symbols',\n",
       " 'sa=0; ra=4; nr=4; d=128; L=2; ra_type=relational_attention; sym_rel=True; sym_attn=True; symbol_type=positiona': 'sa=0; ra=4; nr=4; d=128; L=2; ra_type=relational_attention; sym_rel=True; sym_attn=True; symbol_type=positional_symbols',\n",
       " 'sa=0; ra=4; nr=4; d=128; L=2; ra_type=relational_attention; sym_rel=True; sym_attn=True; symbol_type=pos': 'sa=0; ra=4; nr=4; d=128; L=2; ra_type=relational_attention; sym_rel=True; sym_attn=True; symbol_type=positional_symbols',\n",
       " 'sa=0; ra=8; nr=8; d=128; L=2; ra_type=relational_attention; sym_rel=True; sym_attn=True; symbol_type=positiona': 'sa=0; ra=8; nr=8; d=128; L=2; ra_type=relational_attention; sym_rel=True; sym_attn=True; symbol_type=positional_symbols',\n",
       " 'sa=0; ra=4; nr=4; d=128; L=2; ra_type=relational_attention; sym_rel=True; sym_attn=True; symbol_type=positional': 'sa=0; ra=4; nr=4; d=128; L=2; ra_type=relational_attention; sym_rel=True; sym_attn=True; symbol_type=positional_symbols',\n",
       " 'sa=0; ra=8; nr=8; d=128; L=2; ra_type=relational_attention; sym_rel=True; sym_attn=True; symbol_type=positional': 'sa=0; ra=8; nr=8; d=128; L=2; ra_type=relational_attention; sym_rel=True; sym_attn=True; symbol_type=positional_symbols',\n",
       " 'sa=0; ra=8; nr=8; d=128; L=2; ra_type=relational_attention; sym_rel=True; sym_attn=True; symbol_type=positional_s': 'sa=0; ra=8; nr=8; d=128; L=2; ra_type=relational_attention; sym_rel=True; sym_attn=True; symbol_type=positional_symbols',\n",
       " 'sa=0; ra=4; nr=4; d=128; L=2; ra_type=relational_attention; sym_rel=True; sym_attn=True; symbol_type=positional_s': 'sa=0; ra=4; nr=4; d=128; L=2; ra_type=relational_attention; sym_rel=True; sym_attn=True; symbol_type=positional_symbols',\n",
       " 'sa=4; ra=4; nr=8; d=128; L=2; ra_type=relational_attention; sym_rel=True; sym_attn=True; symbol_type=': 'sa=4; ra=4; nr=8; d=128; L=2; ra_type=relational_attention; sym_rel=True; sym_attn=True; symbol_type=positional_symbols',\n",
       " 'sa=2; ra=2; nr=4; d=128; L=2; ra_type=relational_attention; sym_rel=True; sym_attn=True; symbol_type=': 'sa=2; ra=2; nr=4; d=128; L=2; ra_type=relational_attention; sym_rel=True; sym_attn=True; symbol_type=positional_symbols',\n",
       " 'sa=0; ra=2; nr=2; d=128; L=2; ra_type=relational_attention; sym_rel=True; sym_attn=True; symbol_type=': 'sa=0; ra=2; nr=2; d=128; L=2; ra_type=relational_attention; sym_rel=True; sym_attn=True; symbol_type=positional_symbols',\n",
       " 'sa=1; ra=1; nr=2; d=128; L=2; ra_type=relational_attention; sym_rel=True; sym_attn=True; symbol_type=': 'sa=1; ra=1; nr=2; d=128; L=2; ra_type=relational_attention; sym_rel=True; sym_attn=True; symbol_type=positional_symbols',\n",
       " 'sa=4; ra=4; nr=8; d=128; L=2; ra_type=relational_attention; sym_rel=True; sym_attn=True; symbol_type=pos': 'sa=4; ra=4; nr=8; d=128; L=2; ra_type=relational_attention; sym_rel=True; sym_attn=True; symbol_type=positional_symbols',\n",
       " 'sa=2; ra=2; nr=4; d=128; L=2; ra_type=relational_attention; sym_rel=True; sym_attn=True; symbol_type=pos': 'sa=2; ra=2; nr=4; d=128; L=2; ra_type=relational_attention; sym_rel=True; sym_attn=True; symbol_type=positional_symbols',\n",
       " 'sa=1; ra=1; nr=2; d=128; L=2; ra_type=relational_attention; sym_rel=True; sym_attn=True; symbol_type=pos': 'sa=1; ra=1; nr=2; d=128; L=2; ra_type=relational_attention; sym_rel=True; sym_attn=True; symbol_type=positional_symbols',\n",
       " 'sa=0; ra=2; nr=2; d=128; L=2; ra_type=relational_attention; sym_rel=True; sym_attn=True; symbol_type=pos': 'sa=0; ra=2; nr=2; d=128; L=2; ra_type=relational_attention; sym_rel=True; sym_attn=True; symbol_type=positional_symbols'}"
      ]
     },
     "execution_count": 59,
     "metadata": {},
     "output_type": "execute_result"
    }
   ],
   "source": [
    "trimmed_names = [\n",
    "    'sa=0; ra=8; nr=8; d=128; L=2; ra_type=relational_attention; sym_rel=True; sym_attn=True; symbol_type=',\n",
    "    'sa=0; ra=4; nr=4; d=128; L=2; ra_type=relational_attention; sym_rel=True; sym_attn=True; symbol_type=',\n",
    "    'sa=0; ra=8; nr=8; d=128; L=2; ra_type=relational_attention; sym_rel=True; sym_attn=True; symbol_type=pos',\n",
    "    'sa=0; ra=4; nr=4; d=128; L=2; ra_type=relational_attention; sym_rel=True; sym_attn=True; symbol_type=positiona',\n",
    "    'sa=0; ra=4; nr=4; d=128; L=2; ra_type=relational_attention; sym_rel=True; sym_attn=True; symbol_type=pos',\n",
    "    'sa=0; ra=8; nr=8; d=128; L=2; ra_type=relational_attention; sym_rel=True; sym_attn=True; symbol_type=positiona',\n",
    "    'sa=0; ra=4; nr=4; d=128; L=2; ra_type=relational_attention; sym_rel=True; sym_attn=True; symbol_type=positional',\n",
    "    'sa=0; ra=8; nr=8; d=128; L=2; ra_type=relational_attention; sym_rel=True; sym_attn=True; symbol_type=positional',\n",
    "    'sa=0; ra=8; nr=8; d=128; L=2; ra_type=relational_attention; sym_rel=True; sym_attn=True; symbol_type=positional_s',\n",
    "    'sa=0; ra=4; nr=4; d=128; L=2; ra_type=relational_attention; sym_rel=True; sym_attn=True; symbol_type=positional_s',\n",
    "    'sa=4; ra=4; nr=8; d=128; L=2; ra_type=relational_attention; sym_rel=True; sym_attn=True; symbol_type=',\n",
    "    'sa=2; ra=2; nr=4; d=128; L=2; ra_type=relational_attention; sym_rel=True; sym_attn=True; symbol_type=',\n",
    "    'sa=0; ra=2; nr=2; d=128; L=2; ra_type=relational_attention; sym_rel=True; sym_attn=True; symbol_type=',\n",
    "    'sa=1; ra=1; nr=2; d=128; L=2; ra_type=relational_attention; sym_rel=True; sym_attn=True; symbol_type=',\n",
    "    'sa=4; ra=4; nr=8; d=128; L=2; ra_type=relational_attention; sym_rel=True; sym_attn=True; symbol_type=pos',\n",
    "    'sa=2; ra=2; nr=4; d=128; L=2; ra_type=relational_attention; sym_rel=True; sym_attn=True; symbol_type=pos',\n",
    "    'sa=1; ra=1; nr=2; d=128; L=2; ra_type=relational_attention; sym_rel=True; sym_attn=True; symbol_type=pos',\n",
    "    'sa=0; ra=2; nr=2; d=128; L=2; ra_type=relational_attention; sym_rel=True; sym_attn=True; symbol_type=pos'\n",
    "]\n",
    "\n",
    "trim_length = len('sa=0; ra=8; nr=8; d=128; L=2; ra_type=relational_attention; sym_rel=True; sym_attn=True; symbol_type=')\n",
    "trimmed_name_map = {trimmed_name: trimmed_name[:trim_length]+'positional_symbols' for trimmed_name in trimmed_names}\n",
    "trimmed_name_map"
   ]
  },
  {
   "cell_type": "code",
   "execution_count": 60,
   "metadata": {},
   "outputs": [],
   "source": [
    "relgames_data['model_name'] = relgames_data['model_name'].map(lambda x: trimmed_name_map.get(x, x))"
   ]
  },
  {
   "cell_type": "code",
   "execution_count": 61,
   "metadata": {},
   "outputs": [
    {
     "data": {
      "text/plain": [
       "array(['sa=0; ra=8; nr=8; d=128; L=2; ra_type=relational_attention; sym_rel=True; sym_attn=True; symbol_type=positional_symbols',\n",
       "       'sa=0; ra=4; nr=4; d=128; L=2; ra_type=relational_attention; sym_rel=True; sym_attn=True; symbol_type=positional_symbols',\n",
       "       'sa=4; ra=4; nr=8; d=128; L=2; ra_type=relational_attention; sym_rel=True; sym_attn=True; symbol_type=positional_symbols',\n",
       "       'sa=2; ra=2; nr=4; d=128; L=2; ra_type=relational_attention; sym_rel=True; sym_attn=True; symbol_type=positional_symbols',\n",
       "       'sa=0; ra=2; nr=2; d=128; L=2; ra_type=relational_attention; sym_rel=True; sym_attn=True; symbol_type=positional_symbols',\n",
       "       'sa=1; ra=1; nr=2; d=128; L=2; ra_type=relational_attention; sym_rel=True; sym_attn=True; symbol_type=positional_symbols',\n",
       "       'sa=4; d=144; L=2; sym_attn', 'sa=8; d=144; L=2; sym_attn',\n",
       "       'sa=0; ra=2; nr=2; d=128; L=2; ra_type=relational_attention; sym_rel=True; symbol_type=positional_symbols',\n",
       "       'sa=1; ra=1; nr=2; d=128; L=2; ra_type=relational_attention; sym_rel=True; symbol_type=positional_symbols',\n",
       "       'sa=2; d=128; L=2; sym_attn', 'sa=2; d=144; L=2; sym_attn',\n",
       "       'sa=4; d=144; L=2', 'sa=8; d=144; L=2', 'sa=2; d=144; L=2',\n",
       "       'sa=8; d=128; L=2', 'sa=2; d=128; L=2', 'sa=4; d=128; L=2',\n",
       "       'sa=1; rca=1; d=128; L=2; rca_type=standard; sym_rel=False; symbol_type=pos_sym_retriever',\n",
       "       'sa=0; rca=2; d=128; L=2; rca_type=standard; sym_rel=False; symbol_type=pos_sym_retriever',\n",
       "       'sa=0; rca=2; d=128; L=2; rca_type=disentangled_v2; sym_rel=False; symbol_type=pos_sym_retriever',\n",
       "       'sa=1; rca=1; d=128; L=2; rca_type=disentangled_v2; sym_rel=False; symbol_type=pos_sym_retriever',\n",
       "       'sa=1; rca=1; d=128; L=2; rca_type=disentangled_v2; sym_rel=True; symbol_type=pos_sym_retriever',\n",
       "       'sa=0; rca=2; d=128; L=2; rca_type=disentangled_v2; sym_rel=True; symbol_type=pos_sym_retriever',\n",
       "       'sa=0; rca=4; d=128; L=2; rca_type=disentangled_v2; sym_rel=True; symbol_type=pos_sym_retriever',\n",
       "       'sa=2; rca=2; d=128; L=2; rca_type=disentangled_v2; sym_rel=True; symbol_type=pos_sym_retriever',\n",
       "       'sa=4; rca=4; d=128; L=2; rca_type=disentangled_v2; sym_rel=True; symbol_type=pos_sym_retriever',\n",
       "       'sa=4; rca=4; d=128; L=1; rca_type=disentangled_v2; sym_rel=True; symbol_type=pos_sym_retriever',\n",
       "       'sa=0; rca=8; d=128; L=1; rca_type=disentangled_v2; sym_rel=True; symbol_type=pos_sym_retriever',\n",
       "       'sa=0; rca=8; d=128; L=2; rca_type=disentangled_v2; sym_rel=True; symbol_type=pos_sym_retriever'],\n",
       "      dtype=object)"
      ]
     },
     "execution_count": 61,
     "metadata": {},
     "output_type": "execute_result"
    }
   ],
   "source": [
    "relgames_data['model_name'].unique()"
   ]
  },
  {
   "cell_type": "code",
   "execution_count": 62,
   "metadata": {},
   "outputs": [
    {
     "data": {
      "text/html": [
       "<div>\n",
       "<style scoped>\n",
       "    .dataframe tbody tr th:only-of-type {\n",
       "        vertical-align: middle;\n",
       "    }\n",
       "\n",
       "    .dataframe tbody tr th {\n",
       "        vertical-align: top;\n",
       "    }\n",
       "\n",
       "    .dataframe thead th {\n",
       "        text-align: right;\n",
       "    }\n",
       "</style>\n",
       "<table border=\"1\" class=\"dataframe\">\n",
       "  <thead>\n",
       "    <tr style=\"text-align: right;\">\n",
       "      <th></th>\n",
       "      <th>task</th>\n",
       "      <th>model_name</th>\n",
       "    </tr>\n",
       "  </thead>\n",
       "  <tbody>\n",
       "    <tr>\n",
       "      <th>923</th>\n",
       "      <td>1task_between</td>\n",
       "      <td>sa=4; d=144; L=2; sym_attn</td>\n",
       "    </tr>\n",
       "    <tr>\n",
       "      <th>3998</th>\n",
       "      <td>1task_between</td>\n",
       "      <td>sa=4; d=144; L=2</td>\n",
       "    </tr>\n",
       "    <tr>\n",
       "      <th>4004</th>\n",
       "      <td>1task_between</td>\n",
       "      <td>sa=2; d=144; L=2</td>\n",
       "    </tr>\n",
       "    <tr>\n",
       "      <th>4670</th>\n",
       "      <td>1task_between</td>\n",
       "      <td>sa=1; rca=1; d=128; L=2; rca_type=standard; sy...</td>\n",
       "    </tr>\n",
       "    <tr>\n",
       "      <th>4679</th>\n",
       "      <td>1task_between</td>\n",
       "      <td>sa=0; rca=2; d=128; L=2; rca_type=standard; sy...</td>\n",
       "    </tr>\n",
       "    <tr>\n",
       "      <th>...</th>\n",
       "      <td>...</td>\n",
       "      <td>...</td>\n",
       "    </tr>\n",
       "    <tr>\n",
       "      <th>4776</th>\n",
       "      <td>xoccurs</td>\n",
       "      <td>sa=0; rca=2; d=128; L=2; rca_type=standard; sy...</td>\n",
       "    </tr>\n",
       "    <tr>\n",
       "      <th>4765</th>\n",
       "      <td>xoccurs</td>\n",
       "      <td>sa=1; rca=1; d=128; L=2; rca_type=standard; sy...</td>\n",
       "    </tr>\n",
       "    <tr>\n",
       "      <th>913</th>\n",
       "      <td>xoccurs</td>\n",
       "      <td>sa=4; ra=4; nr=8; d=128; L=2; ra_type=relation...</td>\n",
       "    </tr>\n",
       "    <tr>\n",
       "      <th>6955</th>\n",
       "      <td>xoccurs</td>\n",
       "      <td>sa=0; rca=4; d=128; L=2; rca_type=disentangled...</td>\n",
       "    </tr>\n",
       "    <tr>\n",
       "      <th>4011</th>\n",
       "      <td>xoccurs</td>\n",
       "      <td>sa=8; d=144; L=2</td>\n",
       "    </tr>\n",
       "  </tbody>\n",
       "</table>\n",
       "<p>148 rows × 2 columns</p>\n",
       "</div>"
      ],
      "text/plain": [
       "               task                                         model_name\n",
       "923   1task_between                         sa=4; d=144; L=2; sym_attn\n",
       "3998  1task_between                                   sa=4; d=144; L=2\n",
       "4004  1task_between                                   sa=2; d=144; L=2\n",
       "4670  1task_between  sa=1; rca=1; d=128; L=2; rca_type=standard; sy...\n",
       "4679  1task_between  sa=0; rca=2; d=128; L=2; rca_type=standard; sy...\n",
       "...             ...                                                ...\n",
       "4776        xoccurs  sa=0; rca=2; d=128; L=2; rca_type=standard; sy...\n",
       "4765        xoccurs  sa=1; rca=1; d=128; L=2; rca_type=standard; sy...\n",
       "913         xoccurs  sa=4; ra=4; nr=8; d=128; L=2; ra_type=relation...\n",
       "6955        xoccurs  sa=0; rca=4; d=128; L=2; rca_type=disentangled...\n",
       "4011        xoccurs                                   sa=8; d=144; L=2\n",
       "\n",
       "[148 rows x 2 columns]"
      ]
     },
     "execution_count": 62,
     "metadata": {},
     "output_type": "execute_result"
    }
   ],
   "source": [
    "relgames_data[['task', 'model_name']].drop_duplicates().sort_values(by='task')"
   ]
  },
  {
   "cell_type": "code",
   "execution_count": 51,
   "metadata": {},
   "outputs": [],
   "source": [
    "# L, total_n_heads = 2, 2\n",
    "# filter_ = (relgames_data['n_layers'] == L) & ((relgames_data['n_heads_rca'] + relgames_data['n_heads_sa'] == total_n_heads) | (relgames_data['n_heads'] == total_n_heads)) & (relgames_data['train_size'] <= 25_000)\n",
    "# relgames_data = relgames_data[filter_]"
   ]
  },
  {
   "cell_type": "code",
   "execution_count": 64,
   "metadata": {},
   "outputs": [],
   "source": [
    "relgames_data.to_csv(f'{data_dir}/relgames/relgames_data.csv', index=False)"
   ]
  },
  {
   "cell_type": "markdown",
   "metadata": {},
   "source": [
    "## Math"
   ]
  },
  {
   "cell_type": "code",
   "execution_count": 86,
   "metadata": {},
   "outputs": [],
   "source": [
    "api = wandb.Api()\n",
    "projects = [project for project in api.projects('awni00') if 'dual_attention--math' in project.name]"
   ]
  },
  {
   "cell_type": "code",
   "execution_count": 87,
   "metadata": {},
   "outputs": [],
   "source": [
    "config_cols = ['d_model', 'n_layers_enc', 'n_layers_dec', 'symbol_retrieval', 'encoder_kwargs', 'decoder_kwargs']\n",
    "attr_cols = ['group', 'name']\n",
    "\n",
    "project_dfs = []\n",
    "for project in projects:\n",
    "    task_name = project.name.split('--math--')[1]\n",
    "    project_df = get_wandb_project_table(\n",
    "        project_name=project.name, entity='awni00', attr_cols=attr_cols, config_cols=config_cols, summary_cols='all')\n",
    "    project_df['task'] = task_name\n",
    "    project_dfs.append(project_df)\n",
    "\n",
    "math_eot_data = pd.concat(project_dfs)"
   ]
  },
  {
   "cell_type": "code",
   "execution_count": 88,
   "metadata": {},
   "outputs": [],
   "source": [
    "math_eot_data.to_csv(f'{data_dir}/math/math_eot_data.csv', index=False)"
   ]
  },
  {
   "cell_type": "code",
   "execution_count": 89,
   "metadata": {},
   "outputs": [
    {
     "name": "stdout",
     "output_type": "stream",
     "text": [
      "fetching run history for 18 runs in dual_attention--math--algebra__sequence_next_term\n"
     ]
    },
    {
     "name": "stderr",
     "output_type": "stream",
     "text": [
      "100%|██████████| 18/18 [00:08<00:00,  2.04it/s]\n"
     ]
    },
    {
     "name": "stdout",
     "output_type": "stream",
     "text": [
      "fetching run history for 19 runs in dual_attention--math--calculus__differentiate\n"
     ]
    },
    {
     "name": "stderr",
     "output_type": "stream",
     "text": [
      "100%|██████████| 19/19 [00:09<00:00,  2.11it/s]\n"
     ]
    },
    {
     "name": "stdout",
     "output_type": "stream",
     "text": [
      "fetching run history for 19 runs in dual_attention--math--polynomials__expand\n"
     ]
    },
    {
     "name": "stderr",
     "output_type": "stream",
     "text": [
      "100%|██████████| 19/19 [00:11<00:00,  1.68it/s]\n"
     ]
    },
    {
     "name": "stdout",
     "output_type": "stream",
     "text": [
      "fetching run history for 19 runs in dual_attention--math--polynomials__add\n"
     ]
    },
    {
     "name": "stderr",
     "output_type": "stream",
     "text": [
      "100%|██████████| 19/19 [00:11<00:00,  1.72it/s]\n"
     ]
    },
    {
     "name": "stdout",
     "output_type": "stream",
     "text": [
      "fetching run history for 19 runs in dual_attention--math--algebra__linear_1d\n"
     ]
    },
    {
     "name": "stderr",
     "output_type": "stream",
     "text": [
      "100%|██████████| 19/19 [00:08<00:00,  2.16it/s]\n"
     ]
    }
   ],
   "source": [
    "metrics = None # ['epoch', 'train_teacher_forcing_acc', 'interpolate_teacher_forcing_acc', 'extrapolate_teacher_forcing_acc', 'train_loss', 'interpolate_loss', 'extrapolate_loss']\n",
    "groups = None\n",
    "# groups = [\n",
    "#     'ee=8; ea=0; de=8; da=0; dc=8; el=2; dl=2',\n",
    "#  'e_sa=8; e_rca=0; d_sa=8; d_rca=0; d_cross=8; d=128; rca_type=NA, symbol_type=NA; el=2; dl=2',\n",
    "#  'e_sa=8; e_rca=0; d_sa=8; d_rca=0; d_cross=8; d=144; rca_type=NA, symbol_type=NA; el=2; dl=2',\n",
    "#  'e_sa=4; e_rca=4; d_sa=8; d_rca=0; d_cross=8; d=128; rca_type=disentangled_v2, symbol_type=pos_relative; el=2; dl=2',\n",
    "#  'e_sa=4; e_rca=4; d_sa=4; d_rca=4; d_cross=8; d=128; rca_type=disentangled_v2, symbol_type=pos_relative; el=2; dl=2',\n",
    "#  'e_sa=4; e_rca=4; d_sa=8; d_rca=0; d_cross=8; rca_dis=True, el=2; dl=2',\n",
    "#  'e_sa=4; e_rca=4; d_sa=4; d_rca=4; d_cross=8; rca_dis=True, el=2; dl=2'\n",
    "#  ]\n",
    "\n",
    "config_cols = 'all' # ['d_model', 'n_layers_enc', 'n_layers_dec', 'symbol_retrieval']\n",
    "attr_cols = ['group', 'name']\n",
    "project_dfs = []\n",
    "for project in projects:\n",
    "    task_name = project.name.split('--math--')[1]\n",
    "    project_df = get_project_run_histories(\n",
    "        project_name=project.name, entity='awni00', keys=metrics, groups=groups, attr_cols=attr_cols, config_cols=config_cols)\n",
    "    project_df.to_csv(f'{data_dir}/math/run_history_{project.name}.csv')\n",
    "    project_df['task'] = task_name\n",
    "    project_dfs.append(project_df)\n",
    "\n",
    "math_run_histories = pd.concat(project_dfs)"
   ]
  },
  {
   "cell_type": "code",
   "execution_count": 90,
   "metadata": {},
   "outputs": [],
   "source": [
    "math_run_histories.to_csv(f'{data_dir}/math/run_history_all.csv', index=False)"
   ]
  },
  {
   "cell_type": "markdown",
   "metadata": {},
   "source": [
    "## Language Modeling (Tiny Stories)"
   ]
  },
  {
   "cell_type": "code",
   "execution_count": 15,
   "metadata": {},
   "outputs": [
    {
     "name": "stdout",
     "output_type": "stream",
     "text": [
      "fetching run history for 57 runs in abstract_transformer--tiny_stories-LM\n"
     ]
    },
    {
     "name": "stderr",
     "output_type": "stream",
     "text": [
      "100%|██████████| 57/57 [00:29<00:00,  1.96it/s]\n"
     ]
    }
   ],
   "source": [
    "api = wandb.Api()\n",
    "project = 'abstract_transformer--tiny_stories-LM'\n",
    "\n",
    "metrics = ['iter', 'tokens', 'train/loss', 'val/loss', 'train/perplexity', 'val/perplexity']\n",
    "\n",
    "groups = None\n",
    "\n",
    "config_cols = 'all' # ['d_model', 'n_layers', 'symbol_retrieval', 'rca_type', 'symmetric_rels']\n",
    "attr_cols = ['group', 'name']\n",
    "project_df = get_project_run_histories(\n",
    "    project_name=project, entity='awni00', keys=metrics, groups=groups, attr_cols=attr_cols, config_cols=config_cols)"
   ]
  },
  {
   "cell_type": "code",
   "execution_count": 16,
   "metadata": {},
   "outputs": [],
   "source": [
    "project_df.to_csv(f'{data_dir}/tiny_stories/run_histories.csv', index=False)"
   ]
  },
  {
   "cell_type": "markdown",
   "metadata": {},
   "source": [
    "## Language Modeling (Fineweb)"
   ]
  },
  {
   "cell_type": "code",
   "execution_count": 96,
   "metadata": {},
   "outputs": [
    {
     "name": "stdout",
     "output_type": "stream",
     "text": [
      "fetching run history for 49 runs in fineweb\n"
     ]
    },
    {
     "name": "stderr",
     "output_type": "stream",
     "text": [
      "100%|██████████| 49/49 [02:04<00:00,  2.55s/it]\n"
     ]
    }
   ],
   "source": [
    "data_dir = 'figure_data'\n",
    "\n",
    "api = wandb.Api()\n",
    "project = 'fineweb'\n",
    "\n",
    "metrics = ['step', 'tokens', 'loss/train', 'loss/val', 'norm', 'lr']\n",
    "\n",
    "groups = None\n",
    "\n",
    "config_cols = 'all' # ['d_model', 'n_layers', 'symbol_retrieval', 'rca_type', 'symmetric_rels']\n",
    "attr_cols = ['group', 'name']\n",
    "project_df = get_project_run_histories(\n",
    "    project_name=project, entity='awni00', x_axis='_step', samples=20_000, keys=None, groups=groups, attr_cols=attr_cols, config_cols=config_cols, retrieval_method='history')"
   ]
  },
  {
   "cell_type": "code",
   "execution_count": 97,
   "metadata": {},
   "outputs": [],
   "source": [
    "project_df.to_csv(f'{data_dir}/fineweb/run_histories.csv', index=False)"
   ]
  },
  {
   "cell_type": "markdown",
   "metadata": {},
   "source": [
    "## Vision"
   ]
  },
  {
   "cell_type": "code",
   "execution_count": 17,
   "metadata": {},
   "outputs": [
    {
     "name": "stdout",
     "output_type": "stream",
     "text": [
      "fetching run history for 2 runs in abstract_transformer--Vision-IMAGENET\n"
     ]
    },
    {
     "name": "stderr",
     "output_type": "stream",
     "text": [
      "100%|██████████| 2/2 [00:00<00:00,  2.57it/s]\n"
     ]
    }
   ],
   "source": [
    "api = wandb.Api()\n",
    "project = 'abstract_transformer--Vision-IMAGENET'\n",
    "\n",
    "groups = None\n",
    "\n",
    "run_filter = [\n",
    "    'sa=16; d=1024; L=24__2024_05_15_16_38_09',\n",
    "    'sa=10; rca=6; d=1024; L=24; rca_type=disentangled_v2; sym_rel=True; symbol_type=pos_relative__2024_05_15_18_13_54']\n",
    "\n",
    "config_cols = ['d_model', 'n_layers', 'symbol_retrieval', 'rca_type', 'symmetric_rels']\n",
    "attr_cols = ['group', 'name']\n",
    "project_df = get_project_run_histories(\n",
    "    project_name=project, entity='awni00', keys=None, groups=groups, runs_filter=run_filter, attr_cols=attr_cols, config_cols=config_cols)"
   ]
  },
  {
   "cell_type": "code",
   "execution_count": 18,
   "metadata": {},
   "outputs": [],
   "source": [
    "project_df.to_csv(f'{data_dir}/imagenet/run_histories.csv', index=False)"
   ]
  }
 ],
 "metadata": {
  "kernelspec": {
   "display_name": "attention",
   "language": "python",
   "name": "python3"
  },
  "language_info": {
   "codemirror_mode": {
    "name": "ipython",
    "version": 3
   },
   "file_extension": ".py",
   "mimetype": "text/x-python",
   "name": "python",
   "nbconvert_exporter": "python",
   "pygments_lexer": "ipython3",
   "version": "3.10.15"
  }
 },
 "nbformat": 4,
 "nbformat_minor": 2
}
