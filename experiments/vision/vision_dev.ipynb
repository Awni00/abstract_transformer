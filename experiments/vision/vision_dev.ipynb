{
 "cells": [
  {
   "cell_type": "markdown",
   "metadata": {},
   "source": [
    "# Vision Experiments"
   ]
  },
  {
   "cell_type": "code",
   "execution_count": 1,
   "metadata": {},
   "outputs": [],
   "source": [
    "import torch\n",
    "import torchvision\n",
    "import torchvision.transforms as transforms\n",
    "\n",
    "import torchinfo\n",
    "import lightning as L\n",
    "from lightning.pytorch.loggers.wandb import WandbLogger\n",
    "import torchmetrics\n",
    "\n",
    "import wandb\n",
    "\n",
    "import sys; sys.path.append('../..')\n",
    "from vision_models import ViT, VAT, configure_optimizers\n",
    "from utils.pl_tqdm_progbar import TQDMProgressBar"
   ]
  },
  {
   "cell_type": "markdown",
   "metadata": {},
   "source": [
    "## Config"
   ]
  },
  {
   "cell_type": "code",
   "execution_count": 2,
   "metadata": {},
   "outputs": [
    {
     "name": "stdout",
     "output_type": "stream",
     "text": [
      "cuda available:  True\n",
      "device count:  1\n",
      "current device name:  NVIDIA GeForce RTX 4070 Laptop GPU\n",
      "Memory Usage:\n",
      "\tAllocated: 0.0 GB\n",
      "\tReserved:    0.0 GB\n"
     ]
    }
   ],
   "source": [
    "print('cuda available: ', torch.cuda.is_available())\n",
    "print('device count: ', torch.cuda.device_count())\n",
    "print('current device name: ', torch.cuda.get_device_name(torch.cuda.current_device()))\n",
    "print('Memory Usage:')\n",
    "print('\\tAllocated:', round(torch.cuda.memory_allocated(0)/1024**3,1), 'GB')\n",
    "print('\\tReserved:   ', round(torch.cuda.memory_reserved(0)/1024**3,1), 'GB')"
   ]
  },
  {
   "cell_type": "code",
   "execution_count": 3,
   "metadata": {},
   "outputs": [],
   "source": [
    "device = 'cuda'\n",
    "device_type = 'cuda' if 'cuda' in device else 'cpu' # for later use in torch.autocast\n",
    "\n",
    "dtype = 'bfloat16' if torch.cuda.is_available() and torch.cuda.is_bf16_supported() else 'float16'\n",
    "ptdtype = {'float32': torch.float32, 'bfloat16': torch.bfloat16, 'float16': torch.float16}[dtype]\n",
    "\n",
    "# optimization hyperparams\n",
    "learning_rate = 1e-3 # with baby networks can afford to go a bit higher\n",
    "# max_iters = 5000\n",
    "grad_clip = 1.0 # clip gradients at this value, or disable if == 0.0\n",
    "decay_lr = True # whether to decay the learning rate\n",
    "lr_decay_iters = 5000 # make equal to max_iters usually\n",
    "weight_decay = 1e-1\n",
    "min_lr = 1e-4 # learning_rate / 10 usually\n",
    "beta1 = 0.9\n",
    "beta2 = 0.99 # make a bit bigger because number of tokens per iter is small\n",
    "# warmup_iters = 100\n",
    "gradient_accumulation_steps = 1 # accumulate gradients over this many steps. simulates larger batch size\n"
   ]
  },
  {
   "cell_type": "markdown",
   "metadata": {},
   "source": [
    "## Data"
   ]
  },
  {
   "cell_type": "code",
   "execution_count": 4,
   "metadata": {},
   "outputs": [
    {
     "name": "stdout",
     "output_type": "stream",
     "text": [
      "Files already downloaded and verified\n",
      "Files already downloaded and verified\n"
     ]
    }
   ],
   "source": [
    "# load CIFAR10 data\n",
    "\n",
    "transform = transforms.Compose(\n",
    "    [transforms.ToTensor(),\n",
    "     transforms.Normalize((0.5, 0.5, 0.5), (0.5, 0.5, 0.5))])\n",
    "\n",
    "batch_size = 32\n",
    "\n",
    "train_data = torchvision.datasets.CIFAR10(root='./data', train=True, download=True, transform=transform)\n",
    "train_dataloader = torch.utils.data.DataLoader(train_data, batch_size=batch_size, shuffle=True, num_workers=2)\n",
    "\n",
    "test_data = torchvision.datasets.CIFAR10(root='./data', train=False, download=True, transform=transform)\n",
    "val_dataloader = torch.utils.data.DataLoader(test_data, batch_size=batch_size, shuffle=False, num_workers=2)\n",
    "\n",
    "classes = ('plane', 'car', 'bird', 'cat', 'deer', 'dog', 'frog', 'horse', 'ship', 'truck')\n",
    "n_classes = 10\n",
    "assert n_classes == len(classes)"
   ]
  },
  {
   "cell_type": "code",
   "execution_count": 5,
   "metadata": {},
   "outputs": [
    {
     "data": {
      "image/png": "[encoded data removed]",
      "text/plain": [
       "<Figure size 640x480 with 1 Axes>"
      ]
     },
     "metadata": {},
     "output_type": "display_data"
    },
    {
     "name": "stdout",
     "output_type": "stream",
     "text": [
      "plane frog  car   horse\n"
     ]
    }
   ],
   "source": [
    "import matplotlib.pyplot as plt\n",
    "import numpy as np\n",
    "\n",
    "# functions to show an image\n",
    "\n",
    "\n",
    "def imshow(img):\n",
    "    img = img / 2 + 0.5     # unnormalize\n",
    "    npimg = img.numpy()\n",
    "    plt.imshow(np.transpose(npimg, (1, 2, 0)))\n",
    "    plt.show()\n",
    "\n",
    "\n",
    "# get some random training images\n",
    "dataiter = iter(train_dataloader)\n",
    "images, labels = next(dataiter)\n",
    "\n",
    "# show images\n",
    "imshow(torchvision.utils.make_grid(images))\n",
    "# print labels\n",
    "print(' '.join(f'{classes[labels[j]]:5s}' for j in range(batch_size)))"
   ]
  },
  {
   "cell_type": "markdown",
   "metadata": {},
   "source": [
    "## Define Pytorch Lightning Module"
   ]
  },
  {
   "cell_type": "code",
   "execution_count": 6,
   "metadata": {},
   "outputs": [
    {
     "name": "stdout",
     "output_type": "stream",
     "text": [
      "torch.Size([4, 3, 32, 32])\n",
      "torch.Size([4])\n"
     ]
    }
   ],
   "source": [
    "for x in train_dataloader:\n",
    "    # print(x)\n",
    "    print(x[0].shape)\n",
    "    print(x[1].shape)\n",
    "    # print(len(x))\n",
    "    break"
   ]
  },
  {
   "cell_type": "code",
   "execution_count": 7,
   "metadata": {},
   "outputs": [],
   "source": [
    "log_on_step = True\n",
    "\n",
    "class LitVisionModel(L.LightningModule):\n",
    "    def __init__(self, model):\n",
    "        super().__init__()\n",
    "        self.model = model\n",
    "        self.criterion = torch.nn.functional.cross_entropy\n",
    "        self.accuracy = lambda pred, y: torchmetrics.functional.accuracy(pred, y, task=\"multiclass\", num_classes=n_classes, top_k=1, average='micro')\n",
    "\n",
    "    def training_step(self, batch, batch_idx):\n",
    "        x, y = batch\n",
    "        logits = self.model(x)\n",
    "        loss = self.criterion(logits, y)\n",
    "        acc = self.accuracy(logits, y)\n",
    "\n",
    "        self.log('train/loss', loss, prog_bar=True, logger=True, on_step=log_on_step, on_epoch=True)\n",
    "        self.log('train/acc', acc, prog_bar=True, logger=True, on_step=log_on_step, on_epoch=True)\n",
    "\n",
    "        return loss\n",
    "\n",
    "    def validation_step(self, batch, batch_idx):\n",
    "        x, y = batch\n",
    "        logits = self.model(x)\n",
    "        loss = self.criterion(logits, y)\n",
    "        acc = self.accuracy(logits, y)\n",
    "\n",
    "        self.log(f\"val/loss\", loss, prog_bar=True, logger=True, add_dataloader_idx=False)\n",
    "        self.log(f\"val/acc\", acc, prog_bar=True, logger=True, add_dataloader_idx=False)\n",
    "\n",
    "    def test_step(self, batch, batch_idx):\n",
    "        x, y = batch\n",
    "\n",
    "        logits = self.model(x)\n",
    "        loss = self.criterion(logits, y)\n",
    "        acc = self.accuracy(logits, y)\n",
    "\n",
    "        self.log(f\"test/loss\", loss, prog_bar=True, logger=True, add_dataloader_idx=False)\n",
    "        self.log(f\"test/acc\", acc, prog_bar=True, logger=True, add_dataloader_idx=False)\n",
    "\n",
    "\n",
    "    def configure_optimizers(self):\n",
    "        optimizer = configure_optimizers(self.model, weight_decay, learning_rate, (beta1, beta2), device_type=device)\n",
    "        return optimizer\n",
    "\n",
    "# endregion\n"
   ]
  },
  {
   "cell_type": "markdown",
   "metadata": {},
   "source": [
    "## Create Model"
   ]
  },
  {
   "cell_type": "code",
   "execution_count": 8,
   "metadata": {},
   "outputs": [],
   "source": [
    "c, w, h = images.shape[1:]\n",
    "image_shape = (c, w, h)"
   ]
  },
  {
   "cell_type": "code",
   "execution_count": 9,
   "metadata": {},
   "outputs": [],
   "source": [
    "# model args\n",
    "symbol_type = 'pos_relative'\n",
    "d_model, n_layers, dff = 256, 4, None\n",
    "sa, rca = 4, 0\n",
    "patch_size = (4, 4)\n",
    "n_patches = (w // patch_size[0]) * (h // patch_size[1])\n",
    "activation = 'gelu'\n",
    "dropout_rate = 0.1\n",
    "disentangled_rca = True\n",
    "norm_first = True\n",
    "bias = False\n",
    "pool = 'cls'"
   ]
  },
  {
   "cell_type": "code",
   "execution_count": 10,
   "metadata": {},
   "outputs": [
    {
     "name": "stdout",
     "output_type": "stream",
     "text": [
      "============================================================================================================================================\n",
      "Layer (type:depth-idx)                   Input Shape               Output Shape              Param #                   Param %\n",
      "============================================================================================================================================\n",
      "ViT                                      [1, 3, 32, 32]            [1, 10]                   16,896                      0.53%\n",
      "├─Sequential: 1-1                        [1, 3, 32, 32]            [1, 64, 256]              --                             --\n",
      "│    └─Rearrange: 2-1                    [1, 3, 32, 32]            [1, 64, 48]               --                             --\n",
      "│    └─LayerNorm: 2-2                    [1, 64, 48]               [1, 64, 48]               96                          0.00%\n",
      "│    └─Linear: 2-3                       [1, 64, 48]               [1, 64, 256]              12,544                      0.39%\n",
      "│    └─LayerNorm: 2-4                    [1, 64, 256]              [1, 64, 256]              512                         0.02%\n",
      "├─Dropout: 1-2                           [1, 65, 256]              [1, 65, 256]              --                             --\n",
      "├─ModuleList: 1-3                        --                        --                        --                             --\n",
      "│    └─EncoderBlock: 2-5                 [1, 65, 256]              [1, 65, 256]              --                             --\n",
      "│    │    └─LayerNorm: 3-1               [1, 65, 256]              [1, 65, 256]              512                         0.02%\n",
      "│    │    └─Attention: 3-2               --                        [1, 65, 256]              262,144                     8.24%\n",
      "│    │    └─Dropout: 3-3                 [1, 65, 256]              [1, 65, 256]              --                             --\n",
      "│    │    └─LayerNorm: 3-4               [1, 65, 256]              [1, 65, 256]              512                         0.02%\n",
      "│    │    └─FeedForwardBlock: 3-5        [1, 65, 256]              [1, 65, 256]              524,288                    16.47%\n",
      "│    │    └─Dropout: 3-6                 [1, 65, 256]              [1, 65, 256]              --                        (recursive)\n",
      "│    └─EncoderBlock: 2-6                 [1, 65, 256]              [1, 65, 256]              --                             --\n",
      "│    │    └─LayerNorm: 3-7               [1, 65, 256]              [1, 65, 256]              512                         0.02%\n",
      "│    │    └─Attention: 3-8               --                        [1, 65, 256]              262,144                     8.24%\n",
      "│    │    └─Dropout: 3-9                 [1, 65, 256]              [1, 65, 256]              --                             --\n",
      "│    │    └─LayerNorm: 3-10              [1, 65, 256]              [1, 65, 256]              512                         0.02%\n",
      "│    │    └─FeedForwardBlock: 3-11       [1, 65, 256]              [1, 65, 256]              524,288                    16.47%\n",
      "│    │    └─Dropout: 3-12                [1, 65, 256]              [1, 65, 256]              --                        (recursive)\n",
      "│    └─EncoderBlock: 2-7                 [1, 65, 256]              [1, 65, 256]              --                             --\n",
      "│    │    └─LayerNorm: 3-13              [1, 65, 256]              [1, 65, 256]              512                         0.02%\n",
      "│    │    └─Attention: 3-14              --                        [1, 65, 256]              262,144                     8.24%\n",
      "│    │    └─Dropout: 3-15                [1, 65, 256]              [1, 65, 256]              --                             --\n",
      "│    │    └─LayerNorm: 3-16              [1, 65, 256]              [1, 65, 256]              512                         0.02%\n",
      "│    │    └─FeedForwardBlock: 3-17       [1, 65, 256]              [1, 65, 256]              524,288                    16.47%\n",
      "│    │    └─Dropout: 3-18                [1, 65, 256]              [1, 65, 256]              --                        (recursive)\n",
      "│    └─EncoderBlock: 2-8                 [1, 65, 256]              [1, 65, 256]              --                             --\n",
      "│    │    └─LayerNorm: 3-19              [1, 65, 256]              [1, 65, 256]              512                         0.02%\n",
      "│    │    └─Attention: 3-20              --                        [1, 65, 256]              262,144                     8.24%\n",
      "│    │    └─Dropout: 3-21                [1, 65, 256]              [1, 65, 256]              --                             --\n",
      "│    │    └─LayerNorm: 3-22              [1, 65, 256]              [1, 65, 256]              512                         0.02%\n",
      "│    │    └─FeedForwardBlock: 3-23       [1, 65, 256]              [1, 65, 256]              524,288                    16.47%\n",
      "│    │    └─Dropout: 3-24                [1, 65, 256]              [1, 65, 256]              --                        (recursive)\n",
      "├─Linear: 1-4                            [1, 256]                  [1, 10]                   2,570                       0.08%\n",
      "============================================================================================================================================\n",
      "Total params: 3,182,442\n",
      "Trainable params: 3,182,442\n",
      "Non-trainable params: 0\n",
      "Total mult-adds (Units.MEGABYTES): 3.17\n",
      "============================================================================================================================================\n",
      "Input size (MB): 0.01\n",
      "Forward/backward pass size (MB): 6.14\n",
      "Params size (MB): 12.66\n",
      "Estimated Total Size (MB): 18.82\n",
      "============================================================================================================================================\n"
     ]
    }
   ],
   "source": [
    "# define kwargs for symbol-retrieval module based on type\n",
    "rca_kwargs = dict()\n",
    "if symbol_type == 'sym_attn':\n",
    "    symbol_retrieval_kwargs = dict(d_model=d_model, n_symbols=50, n_heads=4) # NOTE: n_heads, n_symbols fixed for now\n",
    "elif symbol_type == 'pos_sym_retriever':\n",
    "    symbol_retrieval_kwargs = dict(symbol_dim=d_model, max_length=n_patches+1)\n",
    "elif symbol_type == 'pos_relative':\n",
    "    symbol_retrieval_kwargs = dict(symbol_dim=d_model, max_rel_pos=n_patches+1)\n",
    "    rca_kwargs['use_relative_positional_symbols'] = True # if using position-relative symbols, need to tell RCA module\n",
    "elif rca != 0:\n",
    "    raise ValueError(f'`symbol_type` {symbol_type} not valid')\n",
    "\n",
    "# if rca=0, use TransformerLM\n",
    "if rca == 0:\n",
    "    model_args = dict(\n",
    "        image_shape=image_shape, patch_size=patch_size, num_classes=n_classes, pool=pool,\n",
    "        d_model=d_model, n_layers=n_layers, n_heads=sa, dff=dff, dropout_rate=dropout_rate,\n",
    "        activation=activation, norm_first=norm_first, bias=bias)\n",
    "\n",
    "    model = transformer_lm = ViT(**model_args).to(device)\n",
    "# otherwise, use AbstractTransformerLM\n",
    "else:\n",
    "    model_args = dict(\n",
    "        image_shape=image_shape, patch_size=patch_size, num_classes=n_classes, pool=pool,\n",
    "        d_model=d_model, n_layers=n_layers, n_heads_sa=sa, n_heads_rca=rca, dff=dff, dropout_rate=dropout_rate,\n",
    "        activation=activation, norm_first=norm_first, bias=bias, \n",
    "        symbol_retrieval=symbol_type, symbol_retrieval_kwargs=symbol_retrieval_kwargs, rca_kwargs=rca_kwargs)\n",
    "\n",
    "    model = abstracttransformer_lm = VAT(**model_args).to(device)\n",
    "\n",
    "print(torchinfo.summary(\n",
    "    model, input_size=(1, *image_shape),\n",
    "    col_names=(\"input_size\", \"output_size\", \"num_params\", \"params_percent\")))\n"
   ]
  },
  {
   "cell_type": "code",
   "execution_count": 11,
   "metadata": {},
   "outputs": [],
   "source": [
    "lit_model = LitVisionModel(model)"
   ]
  },
  {
   "cell_type": "markdown",
   "metadata": {},
   "source": [
    "## Train Model"
   ]
  },
  {
   "cell_type": "code",
   "execution_count": 12,
   "metadata": {},
   "outputs": [],
   "source": [
    "log_to_wandb = False\n",
    "n_epochs = 1\n",
    "max_steps = -1\n",
    "log_every_n_steps = 20\n",
    "eval_interval = None"
   ]
  },
  {
   "cell_type": "code",
   "execution_count": 13,
   "metadata": {},
   "outputs": [
    {
     "name": "stderr",
     "output_type": "stream",
     "text": [
      "GPU available: True (cuda), used: True\n",
      "TPU available: False, using: 0 TPU cores\n",
      "IPU available: False, using: 0 IPUs\n",
      "HPU available: False, using: 0 HPUs\n",
      "You are using a CUDA device ('NVIDIA GeForce RTX 4070 Laptop GPU') that has Tensor Cores. To properly utilize them, you should set `torch.set_float32_matmul_precision('medium' | 'high')` which will trade-off precision for performance. For more details, read https://pytorch.org/docs/stable/generated/torch.set_float32_matmul_precision.html#torch.set_float32_matmul_precision\n",
      "2024-04-15 18:28:02.980214: I tensorflow/core/util/port.cc:113] oneDNN custom operations are on. You may see slightly different numerical results due to floating-point round-off errors from different computation orders. To turn them off, set the environment variable `TF_ENABLE_ONEDNN_OPTS=0`.\n",
      "2024-04-15 18:28:03.945999: E external/local_xla/xla/stream_executor/cuda/cuda_dnn.cc:9261] Unable to register cuDNN factory: Attempting to register factory for plugin cuDNN when one has already been registered\n",
      "2024-04-15 18:28:03.946107: E external/local_xla/xla/stream_executor/cuda/cuda_fft.cc:607] Unable to register cuFFT factory: Attempting to register factory for plugin cuFFT when one has already been registered\n",
      "2024-04-15 18:28:04.017446: E external/local_xla/xla/stream_executor/cuda/cuda_blas.cc:1515] Unable to register cuBLAS factory: Attempting to register factory for plugin cuBLAS when one has already been registered\n",
      "2024-04-15 18:28:04.298215: I tensorflow/core/platform/cpu_feature_guard.cc:182] This TensorFlow binary is optimized to use available CPU instructions in performance-critical operations.\n",
      "To enable the following instructions: AVX2 AVX_VNNI FMA, in other operations, rebuild TensorFlow with the appropriate compiler flags.\n",
      "2024-04-15 18:28:09.007509: W tensorflow/compiler/tf2tensorrt/utils/py_utils.cc:38] TF-TRT Warning: Could not find TensorRT\n",
      "LOCAL_RANK: 0 - CUDA_VISIBLE_DEVICES: [0]\n",
      "\n",
      "  | Name  | Type | Params\n",
      "-------------------------------\n",
      "0 | model | ViT  | 3.2 M \n",
      "-------------------------------\n",
      "3.2 M     Trainable params\n",
      "0         Non-trainable params\n",
      "3.2 M     Total params\n",
      "12.730    Total estimated model params size (MB)\n"
     ]
    },
    {
     "name": "stdout",
     "output_type": "stream",
     "text": [
      "num decayed parameter tensors: 28, with 3,177,472 parameters\n",
      "num non-decayed parameter tensors: 22, with 4,970 parameters\n",
      "using fused AdamW: True\n",
      "Epoch 0: 100%|██████████| 12500/12500 [05:16<00:00, 39.54it/s, v_num=3, train/loss_step=1.980, train/acc_step=0.250, val/loss=1.940, val/acc=0.273, train/loss_epoch=2.220, train/acc_epoch=0.206]"
     ]
    },
    {
     "name": "stderr",
     "output_type": "stream",
     "text": [
      "`Trainer.fit` stopped: `max_epochs=1` reached.\n"
     ]
    },
    {
     "name": "stdout",
     "output_type": "stream",
     "text": [
      "Epoch 0: 100%|██████████| 12500/12500 [05:16<00:00, 39.54it/s, v_num=3, train/loss_step=1.980, train/acc_step=0.250, val/loss=1.940, val/acc=0.273, train/loss_epoch=2.220, train/acc_epoch=0.206]\n"
     ]
    }
   ],
   "source": [
    "if log_to_wandb:\n",
    "    run = wandb.init(project=wandb_project, group=group_name, name=run_name,\n",
    "        config={'group': group_name, 'num_params': num_params, **model_args})\n",
    "\n",
    "    wandb_logger = WandbLogger(experiment=run, log_model=log_model),\n",
    "else:\n",
    "    wandb_logger = None\n",
    "\n",
    "callbacks = [\n",
    "    TQDMProgressBar(refresh_rate=50)\n",
    "]\n",
    "\n",
    "trainer_kwargs = dict(\n",
    "    max_epochs=n_epochs, enable_checkpointing=False, enable_model_summary=True, benchmark=True,\n",
    "    enable_progress_bar=True, callbacks=callbacks, logger=wandb_logger,\n",
    "    accumulate_grad_batches=gradient_accumulation_steps, gradient_clip_val=grad_clip,\n",
    "    log_every_n_steps=log_every_n_steps, max_steps=max_steps, val_check_interval=eval_interval)\n",
    "\n",
    "trainer = L.Trainer(\n",
    "    **trainer_kwargs\n",
    "    )\n",
    "trainer.fit(model=lit_model, train_dataloaders=train_dataloader, val_dataloaders=val_dataloader)\n",
    "# endregion\n"
   ]
  }
 ],
 "metadata": {
  "kernelspec": {
   "display_name": "abstract_transformer",
   "language": "python",
   "name": "python3"
  },
  "language_info": {
   "codemirror_mode": {
    "name": "ipython",
    "version": 3
   },
   "file_extension": ".py",
   "mimetype": "text/x-python",
   "name": "python",
   "nbconvert_exporter": "python",
   "pygments_lexer": "ipython3",
   "version": "3.11.7"
  }
 },
 "nbformat": 4,
 "nbformat_minor": 2
}
