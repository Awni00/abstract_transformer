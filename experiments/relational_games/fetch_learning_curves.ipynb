{
 "cells": [
  {
   "cell_type": "code",
   "execution_count": 113,
   "metadata": {},
   "outputs": [],
   "source": [
    "import wandb\n",
    "import pandas as pd\n",
    "import seaborn as sns\n",
    "import matplotlib.pyplot as plt\n",
    "import plotly.express as px\n",
    "from tqdm import tqdm\n",
    "\n",
    "import sys; sys.path.append('../..')\n",
    "from utils.wandb_utils import get_wandb_project_table"
   ]
  },
  {
   "cell_type": "code",
   "execution_count": 114,
   "metadata": {},
   "outputs": [],
   "source": [
    "api = wandb.Api()\n",
    "# project = 'abstract_transformer--relational_games_learning_curves'\n",
    "project = 'abstract_transformer--relational_games_learning_curves'"
   ]
  },
  {
   "cell_type": "code",
   "execution_count": 115,
   "metadata": {},
   "outputs": [],
   "source": [
    "config_cols = ['d_model', 'n_layers', 'symbol_retrieval', 'n_heads_rca', 'n_heads_sa', 'rca_type', 'rca_kwargs.symmetric_rels', 'n_heads', 'task', 'train_size']\n",
    "attr_cols = ['group', 'name']\n",
    "\n",
    "project_df = get_wandb_project_table(\n",
    "    project_name=project, entity='awni00', attr_cols=attr_cols, config_cols=config_cols, summary_cols='all')"
   ]
  },
  {
   "cell_type": "code",
   "execution_count": 116,
   "metadata": {},
   "outputs": [
    {
     "data": {
      "text/html": [
       "<div>\n",
       "<style scoped>\n",
       "    .dataframe tbody tr th:only-of-type {\n",
       "        vertical-align: middle;\n",
       "    }\n",
       "\n",
       "    .dataframe tbody tr th {\n",
       "        vertical-align: top;\n",
       "    }\n",
       "\n",
       "    .dataframe thead th {\n",
       "        text-align: right;\n",
       "    }\n",
       "</style>\n",
       "<table border=\"1\" class=\"dataframe\">\n",
       "  <thead>\n",
       "    <tr style=\"text-align: right;\">\n",
       "      <th></th>\n",
       "      <th>group</th>\n",
       "      <th>name</th>\n",
       "      <th>_runtime</th>\n",
       "      <th>test/acc_in_distribution</th>\n",
       "      <th>test/loss_in_distribution</th>\n",
       "      <th>test/acc_hexos</th>\n",
       "      <th>_wandb</th>\n",
       "      <th>_timestamp</th>\n",
       "      <th>_step</th>\n",
       "      <th>test/loss_stripes</th>\n",
       "      <th>...</th>\n",
       "      <th>d_model</th>\n",
       "      <th>n_layers</th>\n",
       "      <th>symbol_retrieval</th>\n",
       "      <th>n_heads_rca</th>\n",
       "      <th>n_heads_sa</th>\n",
       "      <th>rca_type</th>\n",
       "      <th>rca_kwargs.symmetric_rels</th>\n",
       "      <th>n_heads</th>\n",
       "      <th>task</th>\n",
       "      <th>train_size</th>\n",
       "    </tr>\n",
       "  </thead>\n",
       "  <tbody>\n",
       "    <tr>\n",
       "      <th>0</th>\n",
       "      <td>1task_match_patt__sa=1; rca=1; d=128; L=2; rca...</td>\n",
       "      <td>1task_match_patt__sa=1; rca=1; d=128; L=2; rca...</td>\n",
       "      <td>162.387316</td>\n",
       "      <td>0.7461</td>\n",
       "      <td>0.790650</td>\n",
       "      <td>0.68405</td>\n",
       "      <td>{'runtime': 161}</td>\n",
       "      <td>1.715378e+09</td>\n",
       "      <td>0.0</td>\n",
       "      <td>2.399708</td>\n",
       "      <td>...</td>\n",
       "      <td>128</td>\n",
       "      <td>2</td>\n",
       "      <td>pos_sym_retriever</td>\n",
       "      <td>1.0</td>\n",
       "      <td>1.0</td>\n",
       "      <td>disentangled_v2</td>\n",
       "      <td>None</td>\n",
       "      <td>NaN</td>\n",
       "      <td>1task_match_patt</td>\n",
       "      <td>30000</td>\n",
       "    </tr>\n",
       "    <tr>\n",
       "      <th>1</th>\n",
       "      <td>1task_match_patt__sa=1; rca=1; d=128; L=2; rca...</td>\n",
       "      <td>1task_match_patt__sa=1; rca=1; d=128; L=2; rca...</td>\n",
       "      <td>161.452005</td>\n",
       "      <td>0.9616</td>\n",
       "      <td>0.180565</td>\n",
       "      <td>0.89900</td>\n",
       "      <td>{'runtime': 160}</td>\n",
       "      <td>1.715378e+09</td>\n",
       "      <td>0.0</td>\n",
       "      <td>1.611184</td>\n",
       "      <td>...</td>\n",
       "      <td>128</td>\n",
       "      <td>2</td>\n",
       "      <td>pos_sym_retriever</td>\n",
       "      <td>1.0</td>\n",
       "      <td>1.0</td>\n",
       "      <td>disentangled_v2</td>\n",
       "      <td>None</td>\n",
       "      <td>NaN</td>\n",
       "      <td>1task_match_patt</td>\n",
       "      <td>27500</td>\n",
       "    </tr>\n",
       "    <tr>\n",
       "      <th>2</th>\n",
       "      <td>1task_match_patt__sa=1; rca=1; d=128; L=2; rca...</td>\n",
       "      <td>1task_match_patt__sa=1; rca=1; d=128; L=2; rca...</td>\n",
       "      <td>150.886259</td>\n",
       "      <td>0.7449</td>\n",
       "      <td>0.912223</td>\n",
       "      <td>0.67695</td>\n",
       "      <td>{'runtime': 149}</td>\n",
       "      <td>1.715378e+09</td>\n",
       "      <td>0.0</td>\n",
       "      <td>2.494844</td>\n",
       "      <td>...</td>\n",
       "      <td>128</td>\n",
       "      <td>2</td>\n",
       "      <td>pos_sym_retriever</td>\n",
       "      <td>1.0</td>\n",
       "      <td>1.0</td>\n",
       "      <td>disentangled_v2</td>\n",
       "      <td>None</td>\n",
       "      <td>NaN</td>\n",
       "      <td>1task_match_patt</td>\n",
       "      <td>25000</td>\n",
       "    </tr>\n",
       "    <tr>\n",
       "      <th>3</th>\n",
       "      <td>1task_match_patt__sa=1; rca=1; d=128; L=2; rca...</td>\n",
       "      <td>1task_match_patt__sa=1; rca=1; d=128; L=2; rca...</td>\n",
       "      <td>142.877645</td>\n",
       "      <td>0.9105</td>\n",
       "      <td>0.355275</td>\n",
       "      <td>0.81195</td>\n",
       "      <td>{'runtime': 142}</td>\n",
       "      <td>1.715378e+09</td>\n",
       "      <td>0.0</td>\n",
       "      <td>3.082216</td>\n",
       "      <td>...</td>\n",
       "      <td>128</td>\n",
       "      <td>2</td>\n",
       "      <td>pos_sym_retriever</td>\n",
       "      <td>1.0</td>\n",
       "      <td>1.0</td>\n",
       "      <td>disentangled_v2</td>\n",
       "      <td>None</td>\n",
       "      <td>NaN</td>\n",
       "      <td>1task_match_patt</td>\n",
       "      <td>22500</td>\n",
       "    </tr>\n",
       "    <tr>\n",
       "      <th>4</th>\n",
       "      <td>1task_match_patt__sa=1; rca=1; d=128; L=2; rca...</td>\n",
       "      <td>1task_match_patt__sa=1; rca=1; d=128; L=2; rca...</td>\n",
       "      <td>138.077277</td>\n",
       "      <td>0.7439</td>\n",
       "      <td>0.800453</td>\n",
       "      <td>0.68775</td>\n",
       "      <td>{'runtime': 136}</td>\n",
       "      <td>1.715378e+09</td>\n",
       "      <td>0.0</td>\n",
       "      <td>2.328363</td>\n",
       "      <td>...</td>\n",
       "      <td>128</td>\n",
       "      <td>2</td>\n",
       "      <td>pos_sym_retriever</td>\n",
       "      <td>1.0</td>\n",
       "      <td>1.0</td>\n",
       "      <td>disentangled_v2</td>\n",
       "      <td>None</td>\n",
       "      <td>NaN</td>\n",
       "      <td>1task_match_patt</td>\n",
       "      <td>20000</td>\n",
       "    </tr>\n",
       "  </tbody>\n",
       "</table>\n",
       "<p>5 rows × 22 columns</p>\n",
       "</div>"
      ],
      "text/plain": [
       "                                               group  \\\n",
       "0  1task_match_patt__sa=1; rca=1; d=128; L=2; rca...   \n",
       "1  1task_match_patt__sa=1; rca=1; d=128; L=2; rca...   \n",
       "2  1task_match_patt__sa=1; rca=1; d=128; L=2; rca...   \n",
       "3  1task_match_patt__sa=1; rca=1; d=128; L=2; rca...   \n",
       "4  1task_match_patt__sa=1; rca=1; d=128; L=2; rca...   \n",
       "\n",
       "                                                name    _runtime  \\\n",
       "0  1task_match_patt__sa=1; rca=1; d=128; L=2; rca...  162.387316   \n",
       "1  1task_match_patt__sa=1; rca=1; d=128; L=2; rca...  161.452005   \n",
       "2  1task_match_patt__sa=1; rca=1; d=128; L=2; rca...  150.886259   \n",
       "3  1task_match_patt__sa=1; rca=1; d=128; L=2; rca...  142.877645   \n",
       "4  1task_match_patt__sa=1; rca=1; d=128; L=2; rca...  138.077277   \n",
       "\n",
       "   test/acc_in_distribution  test/loss_in_distribution  test/acc_hexos  \\\n",
       "0                    0.7461                   0.790650         0.68405   \n",
       "1                    0.9616                   0.180565         0.89900   \n",
       "2                    0.7449                   0.912223         0.67695   \n",
       "3                    0.9105                   0.355275         0.81195   \n",
       "4                    0.7439                   0.800453         0.68775   \n",
       "\n",
       "             _wandb    _timestamp  _step  test/loss_stripes  ...  d_model  \\\n",
       "0  {'runtime': 161}  1.715378e+09    0.0           2.399708  ...      128   \n",
       "1  {'runtime': 160}  1.715378e+09    0.0           1.611184  ...      128   \n",
       "2  {'runtime': 149}  1.715378e+09    0.0           2.494844  ...      128   \n",
       "3  {'runtime': 142}  1.715378e+09    0.0           3.082216  ...      128   \n",
       "4  {'runtime': 136}  1.715378e+09    0.0           2.328363  ...      128   \n",
       "\n",
       "   n_layers   symbol_retrieval  n_heads_rca n_heads_sa         rca_type  \\\n",
       "0         2  pos_sym_retriever          1.0        1.0  disentangled_v2   \n",
       "1         2  pos_sym_retriever          1.0        1.0  disentangled_v2   \n",
       "2         2  pos_sym_retriever          1.0        1.0  disentangled_v2   \n",
       "3         2  pos_sym_retriever          1.0        1.0  disentangled_v2   \n",
       "4         2  pos_sym_retriever          1.0        1.0  disentangled_v2   \n",
       "\n",
       "   rca_kwargs.symmetric_rels n_heads              task  train_size  \n",
       "0                       None     NaN  1task_match_patt       30000  \n",
       "1                       None     NaN  1task_match_patt       27500  \n",
       "2                       None     NaN  1task_match_patt       25000  \n",
       "3                       None     NaN  1task_match_patt       22500  \n",
       "4                       None     NaN  1task_match_patt       20000  \n",
       "\n",
       "[5 rows x 22 columns]"
      ]
     },
     "execution_count": 116,
     "metadata": {},
     "output_type": "execute_result"
    }
   ],
   "source": [
    "project_df.head()"
   ]
  },
  {
   "cell_type": "code",
   "execution_count": 117,
   "metadata": {},
   "outputs": [],
   "source": [
    "def process_groupname(group_name):\n",
    "    task, model_name = group_name.split('__')\n",
    "    return model_name"
   ]
  },
  {
   "cell_type": "code",
   "execution_count": 118,
   "metadata": {},
   "outputs": [],
   "source": [
    "project_df['model_name'] = project_df['group'].apply(process_groupname)"
   ]
  },
  {
   "cell_type": "code",
   "execution_count": 119,
   "metadata": {},
   "outputs": [],
   "source": [
    "L, total_n_heads = 2, 2\n",
    "filter_ = (project_df['n_layers'] == L) & ((project_df['n_heads_rca'] + project_df['n_heads_sa'] == total_n_heads) | (project_df['n_heads'] == total_n_heads)) & (project_df['train_size'] <= 25_000)\n",
    "project_df_ = project_df[filter_]"
   ]
  },
  {
   "cell_type": "code",
   "execution_count": 120,
   "metadata": {},
   "outputs": [
    {
     "data": {
      "text/plain": [
       "array(['1task_match_patt__sa=1; rca=1; d=128; L=2; rca_type=disentangled_v2; sym_rel=True; symbol_type=pos_sym_retriever',\n",
       "       '1task_match_patt__sa=2; d=128; L=2',\n",
       "       '1task_match_patt__sa=0; rca=2; d=128; L=2; rca_type=disentangled_v2; sym_rel=True; symbol_type=pos_sym_retriever',\n",
       "       '1task_between__sa=1; rca=1; d=128; L=2; rca_type=disentangled_v2; sym_rel=True; symbol_type=pos_sym_retriever',\n",
       "       'xoccurs__sa=0; rca=2; d=128; L=2; rca_type=disentangled_v2; sym_rel=True; symbol_type=pos_sym_retriever',\n",
       "       'same__sa=1; rca=1; d=128; L=2; rca_type=disentangled_v2; sym_rel=True; symbol_type=pos_sym_retriever',\n",
       "       '1task_between__sa=0; rca=2; d=128; L=2; rca_type=disentangled_v2; sym_rel=True; symbol_type=pos_sym_retriever',\n",
       "       'same__sa=0; rca=2; d=128; L=2; rca_type=disentangled_v2; sym_rel=True; symbol_type=pos_sym_retriever',\n",
       "       'xoccurs__sa=1; rca=1; d=128; L=2; rca_type=disentangled_v2; sym_rel=True; symbol_type=pos_sym_retriever',\n",
       "       'occurs__sa=2; d=128; L=2',\n",
       "       'occurs__sa=0; rca=2; d=128; L=2; rca_type=disentangled_v2; sym_rel=True; symbol_type=pos_sym_retriever',\n",
       "       'occurs__sa=1; rca=1; d=128; L=2; rca_type=disentangled_v2; sym_rel=True; symbol_type=pos_sym_retriever',\n",
       "       '1task_between__sa=2; d=128; L=2', 'same__sa=2; d=128; L=2',\n",
       "       'xoccurs__sa=2; d=128; L=2'], dtype=object)"
      ]
     },
     "execution_count": 120,
     "metadata": {},
     "output_type": "execute_result"
    }
   ],
   "source": [
    "project_df_.group.unique()"
   ]
  },
  {
   "cell_type": "code",
   "execution_count": 121,
   "metadata": {},
   "outputs": [
    {
     "data": {
      "application/vnd.plotly.v1+json": {
       "config": {
        "plotlyServerURL": "https://plot.ly"
       },
       "data": [
        {
         "customdata": [
          [
           10,
           0.04168346324158341,
           0.013181468460730903
          ],
          [
           10,
           0.03917515608295158,
           0.012388272091472717
          ],
          [
           10,
           0.03803978073328048,
           0.01202923488105564
          ],
          [
           10,
           0.022816171449327363,
           0.007215106926477951
          ],
          [
           10,
           0.013485946319976475,
           0.004264630677389158
          ],
          [
           10,
           0.014798066391808478,
           0.004679559476450445
          ],
          [
           10,
           0.010622331334976545,
           0.0033590761079502884
          ],
          [
           10,
           0.009487799915313086,
           0.0030003057716342014
          ],
          [
           10,
           0.0064769795590544285,
           0.002048200776496506
          ],
          [
           10,
           0.011973199314884799,
           0.0037862580714203547
          ]
         ],
         "error_y": {
          "array": [
           0.013181468460730903,
           0.012388272091472717,
           0.01202923488105564,
           0.007215106926477951,
           0.004264630677389158,
           0.004679559476450445,
           0.0033590761079502884,
           0.0030003057716342014,
           0.002048200776496506,
           0.0037862580714203547
          ]
         },
         "hovertemplate": "model_name=sa=0; rca=2; d=128; L=2; rca_type=disentangled_v2; sym_rel=True; symbol_type=pos_sym_retriever<br>task=1task_between<br>train_size=%{x}<br>Accuracy=%{y}<br># of Trials=%{customdata[0]}<br>Standard Deviation=%{customdata[1]}<br>Standard Error=%{customdata[2]}<extra></extra>",
         "legendgroup": "sa=0; rca=2; d=128; L=2; rca_type=disentangled_v2; sym_rel=True; symbol_type=pos_sym_retriever",
         "line": {
          "color": "#636efa",
          "dash": "solid"
         },
         "marker": {
          "symbol": "circle"
         },
         "mode": "lines",
         "name": "sa=0; rca=2; d=128; L=2; rca_type=disentangled_v2; sym_rel=True; symbol_type=pos_sym_retriever",
         "orientation": "v",
         "showlegend": true,
         "type": "scatter",
         "x": [
          250,
          500,
          750,
          1000,
          1250,
          1500,
          1750,
          2000,
          2250,
          2500
         ],
         "xaxis": "x4",
         "y": [
          0.6140900075435638,
          0.7501900017261505,
          0.8362600028514862,
          0.8810699939727783,
          0.8974199950695038,
          0.9081500053405762,
          0.920440000295639,
          0.9290499985218048,
          0.9259299993515014,
          0.9312799990177154
         ],
         "yaxis": "y4"
        },
        {
         "customdata": [
          [
           11,
           0.01509856577396552,
           0.0045523888677041465
          ],
          [
           10,
           0.16475590092857423,
           0.05210039048873451
          ],
          [
           10,
           0.15253989659845782,
           0.04823735072976977
          ],
          [
           10,
           0.1480903514164851,
           0.046830280997083557
          ],
          [
           10,
           0.009728739391952639,
           0.0030764975240771936
          ],
          [
           10,
           0.020706312274393828,
           0.00654791087297859
          ],
          [
           8,
           0.023104446778650395,
           0.008168655496373689
          ],
          [
           8,
           0.021054636942262377,
           0.007443938278647261
          ],
          [
           7,
           0.029858020353156555,
           0.011285270927879598
          ]
         ],
         "error_y": {
          "array": [
           0.0045523888677041465,
           0.05210039048873451,
           0.04823735072976977,
           0.046830280997083557,
           0.0030764975240771936,
           0.00654791087297859,
           0.008168655496373689,
           0.007443938278647261,
           0.011285270927879598
          ]
         },
         "hovertemplate": "model_name=sa=0; rca=2; d=128; L=2; rca_type=disentangled_v2; sym_rel=True; symbol_type=pos_sym_retriever<br>task=1task_match_patt<br>train_size=%{x}<br>Accuracy=%{y}<br># of Trials=%{customdata[0]}<br>Standard Deviation=%{customdata[1]}<br>Standard Error=%{customdata[2]}<extra></extra>",
         "legendgroup": "sa=0; rca=2; d=128; L=2; rca_type=disentangled_v2; sym_rel=True; symbol_type=pos_sym_retriever",
         "line": {
          "color": "#636efa",
          "dash": "solid"
         },
         "marker": {
          "symbol": "circle"
         },
         "mode": "lines",
         "name": "sa=0; rca=2; d=128; L=2; rca_type=disentangled_v2; sym_rel=True; symbol_type=pos_sym_retriever",
         "orientation": "v",
         "showlegend": false,
         "type": "scatter",
         "x": [
          5000,
          7500,
          10000,
          12500,
          15000,
          17500,
          20000,
          22500,
          25000
         ],
         "xaxis": "x5",
         "y": [
          0.528309085152366,
          0.6817300021648407,
          0.7731599986553193,
          0.7915300011634827,
          0.8884799957275391,
          0.9153500020503997,
          0.9302875027060509,
          0.9176499992609024,
          0.927885719708034
         ],
         "yaxis": "y5"
        },
        {
         "customdata": [
          [
           10,
           0.014696570855192968,
           0.004647463769645841
          ],
          [
           10,
           0.03280522529610757,
           0.010373923109067157
          ],
          [
           10,
           0.019072371277654803,
           0.006031213361776483
          ],
          [
           10,
           0.010932736953892517,
           0.0034572349833791602
          ],
          [
           10,
           0.016069579070992043,
           0.0050816470904507475
          ],
          [
           10,
           0.01245161824858356,
           0.003937547422044071
          ],
          [
           10,
           0.009721121643741846,
           0.003074088580578415
          ],
          [
           10,
           0.008825110007156002,
           0.002790744822415783
          ],
          [
           10,
           0.008462596429480485,
           0.002676107963596683
          ],
          [
           10,
           0.01025620266723848,
           0.0032432960572767594
          ]
         ],
         "error_y": {
          "array": [
           0.004647463769645841,
           0.010373923109067157,
           0.006031213361776483,
           0.0034572349833791602,
           0.0050816470904507475,
           0.003937547422044071,
           0.003074088580578415,
           0.002790744822415783,
           0.002676107963596683,
           0.0032432960572767594
          ]
         },
         "hovertemplate": "model_name=sa=0; rca=2; d=128; L=2; rca_type=disentangled_v2; sym_rel=True; symbol_type=pos_sym_retriever<br>task=occurs<br>train_size=%{x}<br>Accuracy=%{y}<br># of Trials=%{customdata[0]}<br>Standard Deviation=%{customdata[1]}<br>Standard Error=%{customdata[2]}<extra></extra>",
         "legendgroup": "sa=0; rca=2; d=128; L=2; rca_type=disentangled_v2; sym_rel=True; symbol_type=pos_sym_retriever",
         "line": {
          "color": "#636efa",
          "dash": "solid"
         },
         "marker": {
          "symbol": "circle"
         },
         "mode": "lines",
         "name": "sa=0; rca=2; d=128; L=2; rca_type=disentangled_v2; sym_rel=True; symbol_type=pos_sym_retriever",
         "orientation": "v",
         "showlegend": false,
         "type": "scatter",
         "x": [
          250,
          500,
          750,
          1000,
          1250,
          1500,
          1750,
          2000,
          2250,
          2500
         ],
         "xaxis": "x6",
         "y": [
          0.632260000705719,
          0.7868500053882599,
          0.8542700052261353,
          0.8862599968910218,
          0.8993699967861175,
          0.909850001335144,
          0.9195300042629242,
          0.9163599967956543,
          0.9299000024795532,
          0.9311500012874603
         ],
         "yaxis": "y6"
        },
        {
         "customdata": [
          [
           10,
           0.024526365104676772,
           0.0077559176455652655
          ],
          [
           10,
           0.015339100002937265,
           0.004850649326637723
          ],
          [
           10,
           0.019210966016087697,
           0.006075040866292805
          ],
          [
           10,
           0.007635558425588208,
           0.0024145755832148032
          ],
          [
           10,
           0.011824811104695812,
           0.0037393335992090544
          ],
          [
           10,
           0.012318055682431054,
           0.0038953112301261883
          ],
          [
           10,
           0.015091080349732094,
           0.004772218625776381
          ],
          [
           10,
           0.014568337664130739,
           0.004606912874107022
          ],
          [
           10,
           0.012620548939587284,
           0.00399096799707186
          ],
          [
           10,
           0.01527012034382909,
           0.004828836043137342
          ]
         ],
         "error_y": {
          "array": [
           0.0077559176455652655,
           0.004850649326637723,
           0.006075040866292805,
           0.0024145755832148032,
           0.0037393335992090544,
           0.0038953112301261883,
           0.004772218625776381,
           0.004606912874107022,
           0.00399096799707186,
           0.004828836043137342
          ]
         },
         "hovertemplate": "model_name=sa=0; rca=2; d=128; L=2; rca_type=disentangled_v2; sym_rel=True; symbol_type=pos_sym_retriever<br>task=same<br>train_size=%{x}<br>Accuracy=%{y}<br># of Trials=%{customdata[0]}<br>Standard Deviation=%{customdata[1]}<br>Standard Error=%{customdata[2]}<extra></extra>",
         "legendgroup": "sa=0; rca=2; d=128; L=2; rca_type=disentangled_v2; sym_rel=True; symbol_type=pos_sym_retriever",
         "line": {
          "color": "#636efa",
          "dash": "solid"
         },
         "marker": {
          "symbol": "circle"
         },
         "mode": "lines",
         "name": "sa=0; rca=2; d=128; L=2; rca_type=disentangled_v2; sym_rel=True; symbol_type=pos_sym_retriever",
         "orientation": "v",
         "showlegend": false,
         "type": "scatter",
         "x": [
          250,
          500,
          750,
          1000,
          1250,
          1500,
          1750,
          2000,
          2250,
          2500
         ],
         "xaxis": "x",
         "y": [
          0.6524399936199188,
          0.7436900019645691,
          0.8148099899291992,
          0.8629199981689453,
          0.8822199940681458,
          0.8980099976062774,
          0.90625,
          0.9144100069999694,
          0.9285600125789643,
          0.9257099986076355
         ],
         "yaxis": "y"
        },
        {
         "customdata": [
          [
           10,
           0.00547296689094992,
           0.0017307040934092124
          ],
          [
           10,
           0.019564870822036756,
           0.006186955392460699
          ],
          [
           10,
           0.024765650091716575,
           0.00783158620245823
          ],
          [
           10,
           0.043478875201380544,
           0.013749227573857464
          ],
          [
           10,
           0.04197654174638688,
           0.013274148021572462
          ],
          [
           10,
           0.053630051329283605,
           0.016959311323227703
          ],
          [
           10,
           0.021201386407758135,
           0.006704467060185108
          ],
          [
           10,
           0.021309054658393865,
           0.006738514750554585
          ],
          [
           10,
           0.013989438459918789,
           0.004423848872010153
          ],
          [
           10,
           0.010945207469665907,
           0.003461178506723257
          ]
         ],
         "error_y": {
          "array": [
           0.0017307040934092124,
           0.006186955392460699,
           0.00783158620245823,
           0.013749227573857464,
           0.013274148021572462,
           0.016959311323227703,
           0.006704467060185108,
           0.006738514750554585,
           0.004423848872010153,
           0.003461178506723257
          ]
         },
         "hovertemplate": "model_name=sa=0; rca=2; d=128; L=2; rca_type=disentangled_v2; sym_rel=True; symbol_type=pos_sym_retriever<br>task=xoccurs<br>train_size=%{x}<br>Accuracy=%{y}<br># of Trials=%{customdata[0]}<br>Standard Deviation=%{customdata[1]}<br>Standard Error=%{customdata[2]}<extra></extra>",
         "legendgroup": "sa=0; rca=2; d=128; L=2; rca_type=disentangled_v2; sym_rel=True; symbol_type=pos_sym_retriever",
         "line": {
          "color": "#636efa",
          "dash": "solid"
         },
         "marker": {
          "symbol": "circle"
         },
         "mode": "lines",
         "name": "sa=0; rca=2; d=128; L=2; rca_type=disentangled_v2; sym_rel=True; symbol_type=pos_sym_retriever",
         "orientation": "v",
         "showlegend": false,
         "type": "scatter",
         "x": [
          250,
          500,
          750,
          1000,
          1250,
          1500,
          1750,
          2000,
          2250,
          2500
         ],
         "xaxis": "x2",
         "y": [
          0.5203000009059906,
          0.5563800036907196,
          0.6200200080871582,
          0.6655699968338012,
          0.7535100042819977,
          0.7721699893474578,
          0.8234099924564362,
          0.8602599918842315,
          0.873199999332428,
          0.8857000052928925
         ],
         "yaxis": "y2"
        },
        {
         "customdata": [
          [
           10,
           0.039012847066710044,
           0.012336945473862266
          ],
          [
           10,
           0.045922682149178336,
           0.014522027185535987
          ],
          [
           10,
           0.031377587315925305,
           0.009922464339913329
          ],
          [
           10,
           0.0322712230379631,
           0.010205056767926185
          ],
          [
           10,
           0.011478662226913553,
           0.003629871712878735
          ],
          [
           10,
           0.012869098725169847,
           0.004069566340510598
          ],
          [
           10,
           0.01128549715026353,
           0.0035687875522172267
          ],
          [
           10,
           0.0060497603948337095,
           0.0019131022145954075
          ],
          [
           10,
           0.0057889657066065685,
           0.0018306316929482809
          ],
          [
           10,
           0.005973682117058422,
           0.0018890441507721197
          ]
         ],
         "error_y": {
          "array": [
           0.012336945473862266,
           0.014522027185535987,
           0.009922464339913329,
           0.010205056767926185,
           0.003629871712878735,
           0.004069566340510598,
           0.0035687875522172267,
           0.0019131022145954075,
           0.0018306316929482809,
           0.0018890441507721197
          ]
         },
         "hovertemplate": "model_name=sa=1; rca=1; d=128; L=2; rca_type=disentangled_v2; sym_rel=True; symbol_type=pos_sym_retriever<br>task=1task_between<br>train_size=%{x}<br>Accuracy=%{y}<br># of Trials=%{customdata[0]}<br>Standard Deviation=%{customdata[1]}<br>Standard Error=%{customdata[2]}<extra></extra>",
         "legendgroup": "sa=1; rca=1; d=128; L=2; rca_type=disentangled_v2; sym_rel=True; symbol_type=pos_sym_retriever",
         "line": {
          "color": "#EF553B",
          "dash": "solid"
         },
         "marker": {
          "symbol": "circle"
         },
         "mode": "lines",
         "name": "sa=1; rca=1; d=128; L=2; rca_type=disentangled_v2; sym_rel=True; symbol_type=pos_sym_retriever",
         "orientation": "v",
         "showlegend": true,
         "type": "scatter",
         "x": [
          250,
          500,
          750,
          1000,
          1250,
          1500,
          1750,
          2000,
          2250,
          2500
         ],
         "xaxis": "x4",
         "y": [
          0.63992999792099,
          0.7105199992656708,
          0.8164700031280517,
          0.8689499974250794,
          0.8980199992656708,
          0.9112399995326996,
          0.923030000925064,
          0.929420006275177,
          0.9303900063037872,
          0.9375600039958953
         ],
         "yaxis": "y4"
        },
        {
         "customdata": [
          [
           11,
           0.09472410459910842,
           0.0285603921416019
          ],
          [
           10,
           0.13989724521841645,
           0.044239393327329596
          ],
          [
           10,
           0.1381101124717075,
           0.0436742523312623
          ],
          [
           10,
           0.15917436376721716,
           0.05033535346125859
          ],
          [
           10,
           0.1393275751592388,
           0.044059247837149165
          ],
          [
           10,
           0.11908544318730614,
           0.037658123664246895
          ],
          [
           10,
           0.12225530093352906,
           0.03866052069792614
          ],
          [
           10,
           0.0836050367635372,
           0.026438234003488974
          ],
          [
           10,
           0.10253570147770794,
           0.03242463581526497
          ]
         ],
         "error_y": {
          "array": [
           0.0285603921416019,
           0.044239393327329596,
           0.0436742523312623,
           0.05033535346125859,
           0.044059247837149165,
           0.037658123664246895,
           0.03866052069792614,
           0.026438234003488974,
           0.03242463581526497
          ]
         },
         "hovertemplate": "model_name=sa=1; rca=1; d=128; L=2; rca_type=disentangled_v2; sym_rel=True; symbol_type=pos_sym_retriever<br>task=1task_match_patt<br>train_size=%{x}<br>Accuracy=%{y}<br># of Trials=%{customdata[0]}<br>Standard Deviation=%{customdata[1]}<br>Standard Error=%{customdata[2]}<extra></extra>",
         "legendgroup": "sa=1; rca=1; d=128; L=2; rca_type=disentangled_v2; sym_rel=True; symbol_type=pos_sym_retriever",
         "line": {
          "color": "#EF553B",
          "dash": "solid"
         },
         "marker": {
          "symbol": "circle"
         },
         "mode": "lines",
         "name": "sa=1; rca=1; d=128; L=2; rca_type=disentangled_v2; sym_rel=True; symbol_type=pos_sym_retriever",
         "orientation": "v",
         "showlegend": false,
         "type": "scatter",
         "x": [
          5000,
          7500,
          10000,
          12500,
          15000,
          17500,
          20000,
          22500,
          25000
         ],
         "xaxis": "x5",
         "y": [
          0.545990916815671,
          0.6064000129699707,
          0.6387199997901917,
          0.7418900012969971,
          0.7395000040531159,
          0.7624400019645691,
          0.8320799946784974,
          0.9010299980640412,
          0.8554499983787537
         ],
         "yaxis": "y5"
        },
        {
         "customdata": [
          [
           10,
           0.01707600265247273,
           0.00539990617128905
          ],
          [
           10,
           0.04590817490248585,
           0.014517439591323369
          ],
          [
           10,
           0.020823434301261393,
           0.006584948109886285
          ],
          [
           10,
           0.015155332085765907,
           0.004792536808725057
          ],
          [
           10,
           0.013098468924359773,
           0.004142099566191265
          ],
          [
           10,
           0.007067180767507349,
           0.002234838786146011
          ],
          [
           10,
           0.011435077002844546,
           0.0036160888548400494
          ],
          [
           10,
           0.00748759339379908,
           0.002367784931763517
          ],
          [
           10,
           0.006838306221052089,
           0.0021624622996223473
          ],
          [
           10,
           0.010332881204326815,
           0.003267543939761642
          ]
         ],
         "error_y": {
          "array": [
           0.00539990617128905,
           0.014517439591323369,
           0.006584948109886285,
           0.004792536808725057,
           0.004142099566191265,
           0.002234838786146011,
           0.0036160888548400494,
           0.002367784931763517,
           0.0021624622996223473,
           0.003267543939761642
          ]
         },
         "hovertemplate": "model_name=sa=1; rca=1; d=128; L=2; rca_type=disentangled_v2; sym_rel=True; symbol_type=pos_sym_retriever<br>task=occurs<br>train_size=%{x}<br>Accuracy=%{y}<br># of Trials=%{customdata[0]}<br>Standard Deviation=%{customdata[1]}<br>Standard Error=%{customdata[2]}<extra></extra>",
         "legendgroup": "sa=1; rca=1; d=128; L=2; rca_type=disentangled_v2; sym_rel=True; symbol_type=pos_sym_retriever",
         "line": {
          "color": "#EF553B",
          "dash": "solid"
         },
         "marker": {
          "symbol": "circle"
         },
         "mode": "lines",
         "name": "sa=1; rca=1; d=128; L=2; rca_type=disentangled_v2; sym_rel=True; symbol_type=pos_sym_retriever",
         "orientation": "v",
         "showlegend": false,
         "type": "scatter",
         "x": [
          250,
          500,
          750,
          1000,
          1250,
          1500,
          1750,
          2000,
          2250,
          2500
         ],
         "xaxis": "x6",
         "y": [
          0.6187100052833557,
          0.7746900022029877,
          0.8546999990940094,
          0.8952799916267395,
          0.9004099905490875,
          0.9134500026702881,
          0.9184900045394897,
          0.9280799865722656,
          0.9263300001621246,
          0.928519994020462
         ],
         "yaxis": "y6"
        },
        {
         "customdata": [
          [
           10,
           0.023594253223896203,
           0.007461157987828272
          ],
          [
           10,
           0.037718844788387856,
           0.011927746024167742
          ],
          [
           10,
           0.021212578013143416,
           0.006708006156554237
          ],
          [
           10,
           0.007349792733209969,
           0.0023242085367097777
          ],
          [
           10,
           0.008325186006508502,
           0.002632654972512824
          ],
          [
           10,
           0.00778959300297834,
           0.0024632855935122324
          ],
          [
           10,
           0.011022011554221986,
           0.0034854660908033947
          ],
          [
           10,
           0.0047204113376146245,
           0.0014927251319744263
          ],
          [
           10,
           0.012462474533125541,
           0.003940980480652025
          ],
          [
           10,
           0.01032806605500603,
           0.003266021255848893
          ]
         ],
         "error_y": {
          "array": [
           0.007461157987828272,
           0.011927746024167742,
           0.006708006156554237,
           0.0023242085367097777,
           0.002632654972512824,
           0.0024632855935122324,
           0.0034854660908033947,
           0.0014927251319744263,
           0.003940980480652025,
           0.003266021255848893
          ]
         },
         "hovertemplate": "model_name=sa=1; rca=1; d=128; L=2; rca_type=disentangled_v2; sym_rel=True; symbol_type=pos_sym_retriever<br>task=same<br>train_size=%{x}<br>Accuracy=%{y}<br># of Trials=%{customdata[0]}<br>Standard Deviation=%{customdata[1]}<br>Standard Error=%{customdata[2]}<extra></extra>",
         "legendgroup": "sa=1; rca=1; d=128; L=2; rca_type=disentangled_v2; sym_rel=True; symbol_type=pos_sym_retriever",
         "line": {
          "color": "#EF553B",
          "dash": "solid"
         },
         "marker": {
          "symbol": "circle"
         },
         "mode": "lines",
         "name": "sa=1; rca=1; d=128; L=2; rca_type=disentangled_v2; sym_rel=True; symbol_type=pos_sym_retriever",
         "orientation": "v",
         "showlegend": false,
         "type": "scatter",
         "x": [
          250,
          500,
          750,
          1000,
          1250,
          1500,
          1750,
          2000,
          2250,
          2500
         ],
         "xaxis": "x",
         "y": [
          0.6387199997901917,
          0.7435999929904937,
          0.8284300029277801,
          0.8801199972629548,
          0.899399995803833,
          0.9023299932479858,
          0.9167699992656708,
          0.9290999889373779,
          0.9372999966144562,
          0.9398000001907348
         ],
         "yaxis": "y"
        },
        {
         "customdata": [
          [
           10,
           0.00940016610142367,
           0.0029725935264404155
          ],
          [
           10,
           0.016429331110732703,
           0.005195410674297937
          ],
          [
           10,
           0.019467796125009502,
           0.006156257677883009
          ],
          [
           10,
           0.02632035831805077,
           0.008323228111679893
          ],
          [
           10,
           0.057390738065902905,
           0.01814854488863798
          ],
          [
           10,
           0.05329978583772245,
           0.016854872204638865
          ],
          [
           10,
           0.014496604956200988,
           0.0045842290001280595
          ],
          [
           10,
           0.02479044579756984,
           0.007839427293127019
          ],
          [
           10,
           0.020918220612194373,
           0.006614922173241599
          ],
          [
           10,
           0.029284172106471763,
           0.009260468324882164
          ]
         ],
         "error_y": {
          "array": [
           0.0029725935264404155,
           0.005195410674297937,
           0.006156257677883009,
           0.008323228111679893,
           0.01814854488863798,
           0.016854872204638865,
           0.0045842290001280595,
           0.007839427293127019,
           0.006614922173241599,
           0.009260468324882164
          ]
         },
         "hovertemplate": "model_name=sa=1; rca=1; d=128; L=2; rca_type=disentangled_v2; sym_rel=True; symbol_type=pos_sym_retriever<br>task=xoccurs<br>train_size=%{x}<br>Accuracy=%{y}<br># of Trials=%{customdata[0]}<br>Standard Deviation=%{customdata[1]}<br>Standard Error=%{customdata[2]}<extra></extra>",
         "legendgroup": "sa=1; rca=1; d=128; L=2; rca_type=disentangled_v2; sym_rel=True; symbol_type=pos_sym_retriever",
         "line": {
          "color": "#EF553B",
          "dash": "solid"
         },
         "marker": {
          "symbol": "circle"
         },
         "mode": "lines",
         "name": "sa=1; rca=1; d=128; L=2; rca_type=disentangled_v2; sym_rel=True; symbol_type=pos_sym_retriever",
         "orientation": "v",
         "showlegend": false,
         "type": "scatter",
         "x": [
          250,
          500,
          750,
          1000,
          1250,
          1500,
          1750,
          2000,
          2250,
          2500
         ],
         "xaxis": "x2",
         "y": [
          0.5218100070953369,
          0.5425599992275238,
          0.5849800050258637,
          0.6342100024223327,
          0.7157400012016296,
          0.7228700041770935,
          0.8274599969387054,
          0.8523000001907348,
          0.8664100050926209,
          0.8734499990940094
         ],
         "yaxis": "y2"
        },
        {
         "customdata": [
          [
           10,
           0.03068182797652573,
           0.00970244591832965
          ],
          [
           10,
           0.03251232904570525,
           0.010281301182127724
          ],
          [
           10,
           0.03437079393839878,
           0.01086899938336492
          ],
          [
           10,
           0.01653884476270509,
           0.00523004193180951
          ],
          [
           10,
           0.035783865769027395,
           0.011315851931585932
          ],
          [
           10,
           0.011577551743356736,
           0.0036611433237460477
          ],
          [
           10,
           0.011084350486389614,
           0.003505179392058639
          ],
          [
           10,
           0.0184324011890664,
           0.005828837050344574
          ],
          [
           10,
           0.025975751259531114,
           0.008214253791410588
          ],
          [
           10,
           0.019761536791077342,
           0.006249146632501939
          ]
         ],
         "error_y": {
          "array": [
           0.00970244591832965,
           0.010281301182127724,
           0.01086899938336492,
           0.00523004193180951,
           0.011315851931585932,
           0.0036611433237460477,
           0.003505179392058639,
           0.005828837050344574,
           0.008214253791410588,
           0.006249146632501939
          ]
         },
         "hovertemplate": "model_name=sa=2; d=128; L=2<br>task=1task_between<br>train_size=%{x}<br>Accuracy=%{y}<br># of Trials=%{customdata[0]}<br>Standard Deviation=%{customdata[1]}<br>Standard Error=%{customdata[2]}<extra></extra>",
         "legendgroup": "sa=2; d=128; L=2",
         "line": {
          "color": "#00cc96",
          "dash": "solid"
         },
         "marker": {
          "symbol": "circle"
         },
         "mode": "lines",
         "name": "sa=2; d=128; L=2",
         "orientation": "v",
         "showlegend": true,
         "type": "scatter",
         "x": [
          250,
          500,
          750,
          1000,
          1250,
          1500,
          1750,
          2000,
          2250,
          2500
         ],
         "xaxis": "x4",
         "y": [
          0.597189998626709,
          0.6645399987697601,
          0.7422299981117249,
          0.787470006942749,
          0.8291099965572357,
          0.859419995546341,
          0.8747399926185608,
          0.8914000034332276,
          0.9199199974536896,
          0.9237500071525574
         ],
         "yaxis": "y4"
        },
        {
         "customdata": [
          [
           11,
           0.003378706326303642,
           0.0010187182873772074
          ],
          [
           10,
           0.004379568808552475,
           0.001384941260445574
          ],
          [
           10,
           0.0044582146637358955,
           0.0014098112635367106
          ],
          [
           10,
           0.006505217221607055,
           0.0020571303094430605
          ],
          [
           10,
           0.004190151435284281,
           0.0013250422276521955
          ],
          [
           10,
           0.008286597301718024,
           0.002620452152603448
          ],
          [
           10,
           0.009488947717972606,
           0.0030006687387050496
          ],
          [
           10,
           0.012600886201797114,
           0.003984750093426699
          ],
          [
           10,
           0.12794686264046432,
           0.04046035054165725
          ]
         ],
         "error_y": {
          "array": [
           0.0010187182873772074,
           0.001384941260445574,
           0.0014098112635367106,
           0.0020571303094430605,
           0.0013250422276521955,
           0.002620452152603448,
           0.0030006687387050496,
           0.003984750093426699,
           0.04046035054165725
          ]
         },
         "hovertemplate": "model_name=sa=2; d=128; L=2<br>task=1task_match_patt<br>train_size=%{x}<br>Accuracy=%{y}<br># of Trials=%{customdata[0]}<br>Standard Deviation=%{customdata[1]}<br>Standard Error=%{customdata[2]}<extra></extra>",
         "legendgroup": "sa=2; d=128; L=2",
         "line": {
          "color": "#00cc96",
          "dash": "solid"
         },
         "marker": {
          "symbol": "circle"
         },
         "mode": "lines",
         "name": "sa=2; d=128; L=2",
         "orientation": "v",
         "showlegend": false,
         "type": "scatter",
         "x": [
          5000,
          7500,
          10000,
          12500,
          15000,
          17500,
          20000,
          22500,
          25000
         ],
         "xaxis": "x5",
         "y": [
          0.5153818293051287,
          0.5188499927520752,
          0.523530000448227,
          0.5286699950695037,
          0.5382799983024598,
          0.5499100029468537,
          0.5561299979686737,
          0.5638699948787689,
          0.6387299954891205
         ],
         "yaxis": "y5"
        },
        {
         "customdata": [
          [
           10,
           0.008019615956174347,
           0.002536025238134001
          ],
          [
           10,
           0.012765698987834776,
           0.004036868472566401
          ],
          [
           10,
           0.02476909269117719,
           0.007832674847994952
          ],
          [
           10,
           0.039321613330076235,
           0.012434585939547924
          ],
          [
           10,
           0.08384618650118364,
           0.026514492246300453
          ],
          [
           10,
           0.08840170627032955,
           0.02795507408594301
          ],
          [
           10,
           0.09310411379611762,
           0.029442105912723733
          ],
          [
           10,
           0.07964692595612044,
           0.02518656946521247
          ],
          [
           10,
           0.05933995754165537,
           0.01876494220893169
          ],
          [
           10,
           0.035897495841783124,
           0.011351784915645806
          ]
         ],
         "error_y": {
          "array": [
           0.002536025238134001,
           0.004036868472566401,
           0.007832674847994952,
           0.012434585939547924,
           0.026514492246300453,
           0.02795507408594301,
           0.029442105912723733,
           0.02518656946521247,
           0.01876494220893169,
           0.011351784915645806
          ]
         },
         "hovertemplate": "model_name=sa=2; d=128; L=2<br>task=occurs<br>train_size=%{x}<br>Accuracy=%{y}<br># of Trials=%{customdata[0]}<br>Standard Deviation=%{customdata[1]}<br>Standard Error=%{customdata[2]}<extra></extra>",
         "legendgroup": "sa=2; d=128; L=2",
         "line": {
          "color": "#00cc96",
          "dash": "solid"
         },
         "marker": {
          "symbol": "circle"
         },
         "mode": "lines",
         "name": "sa=2; d=128; L=2",
         "orientation": "v",
         "showlegend": false,
         "type": "scatter",
         "x": [
          250,
          500,
          750,
          1000,
          1250,
          1500,
          1750,
          2000,
          2250,
          2500
         ],
         "xaxis": "x6",
         "y": [
          0.5373900055885314,
          0.5763099968433381,
          0.6233900010585784,
          0.657589989900589,
          0.7358699917793274,
          0.7894799947738648,
          0.8471700072288513,
          0.8563199996948242,
          0.9098099887371063,
          0.9275200068950653
         ],
         "yaxis": "y6"
        },
        {
         "customdata": [
          [
           10,
           0.019631734903830803,
           0.006208099671673198
          ],
          [
           10,
           0.040549589360863544,
           0.012822906056486017
          ],
          [
           10,
           0.012869235040210982,
           0.00406960944711153
          ],
          [
           10,
           0.013548305594115047,
           0.00428435041134043
          ],
          [
           10,
           0.011458597851132539,
           0.0036235268001489824
          ],
          [
           10,
           0.010345461468109518,
           0.0032715221684735496
          ],
          [
           10,
           0.007207436314143377,
           0.0022791914843301926
          ],
          [
           10,
           0.007815786861464578,
           0.002471568818864697
          ],
          [
           10,
           0.0077740672869471596,
           0.0024583759310158803
          ],
          [
           9,
           0.010059047117586557,
           0.0033530157058621855
          ]
         ],
         "error_y": {
          "array": [
           0.006208099671673198,
           0.012822906056486017,
           0.00406960944711153,
           0.00428435041134043,
           0.0036235268001489824,
           0.0032715221684735496,
           0.0022791914843301926,
           0.002471568818864697,
           0.0024583759310158803,
           0.0033530157058621855
          ]
         },
         "hovertemplate": "model_name=sa=2; d=128; L=2<br>task=same<br>train_size=%{x}<br>Accuracy=%{y}<br># of Trials=%{customdata[0]}<br>Standard Deviation=%{customdata[1]}<br>Standard Error=%{customdata[2]}<extra></extra>",
         "legendgroup": "sa=2; d=128; L=2",
         "line": {
          "color": "#00cc96",
          "dash": "solid"
         },
         "marker": {
          "symbol": "circle"
         },
         "mode": "lines",
         "name": "sa=2; d=128; L=2",
         "orientation": "v",
         "showlegend": false,
         "type": "scatter",
         "x": [
          250,
          500,
          750,
          1000,
          1250,
          1500,
          1750,
          2000,
          2250,
          2500
         ],
         "xaxis": "x",
         "y": [
          0.658950001001358,
          0.7880400061607361,
          0.8551799952983856,
          0.8865100085735321,
          0.9155799984931946,
          0.9250799953937531,
          0.9342599928379058,
          0.9425700008869171,
          0.9485599935054779,
          0.9486777782440186
         ],
         "yaxis": "y"
        },
        {
         "customdata": [
          [
           10,
           0.00807138265528615,
           0.0025523953057481927
          ],
          [
           10,
           0.004596662398723569,
           0.0014535922814819541
          ],
          [
           10,
           0.00771002400391246,
           0.002438123666693433
          ],
          [
           10,
           0.006844149314943504,
           0.002164310048150256
          ],
          [
           10,
           0.0062083778243741585,
           0.0019632614499903167
          ],
          [
           10,
           0.015688568260381616,
           0.0049611608929831475
          ],
          [
           10,
           0.02038649144977774,
           0.006446774648084581
          ],
          [
           10,
           0.026758018638201663,
           0.008461628456995423
          ],
          [
           10,
           0.025567247121774793,
           0.008085073440519272
          ],
          [
           10,
           0.10523735959446726,
           0.033278975126069026
          ]
         ],
         "error_y": {
          "array": [
           0.0025523953057481927,
           0.0014535922814819541,
           0.002438123666693433,
           0.002164310048150256,
           0.0019632614499903167,
           0.0049611608929831475,
           0.006446774648084581,
           0.008461628456995423,
           0.008085073440519272,
           0.033278975126069026
          ]
         },
         "hovertemplate": "model_name=sa=2; d=128; L=2<br>task=xoccurs<br>train_size=%{x}<br>Accuracy=%{y}<br># of Trials=%{customdata[0]}<br>Standard Deviation=%{customdata[1]}<br>Standard Error=%{customdata[2]}<extra></extra>",
         "legendgroup": "sa=2; d=128; L=2",
         "line": {
          "color": "#00cc96",
          "dash": "solid"
         },
         "marker": {
          "symbol": "circle"
         },
         "mode": "lines",
         "name": "sa=2; d=128; L=2",
         "orientation": "v",
         "showlegend": false,
         "type": "scatter",
         "x": [
          250,
          500,
          750,
          1000,
          1250,
          1500,
          1750,
          2000,
          2250,
          2500
         ],
         "xaxis": "x2",
         "y": [
          0.51075000166893,
          0.5188400030136109,
          0.5338999986648559,
          0.5453300058841706,
          0.5644799888134002,
          0.5650700092315674,
          0.5974700093269348,
          0.613560003042221,
          0.6245800077915191,
          0.684170001745224
         ],
         "yaxis": "y2"
        }
       ],
       "layout": {
        "annotations": [
         {
          "font": {},
          "showarrow": false,
          "text": "task=same",
          "x": 0.15999999999999998,
          "xanchor": "center",
          "xref": "paper",
          "y": 0.46499999999999997,
          "yanchor": "bottom",
          "yref": "paper"
         },
         {
          "font": {},
          "showarrow": false,
          "text": "task=xoccurs",
          "x": 0.49999999999999994,
          "xanchor": "center",
          "xref": "paper",
          "y": 0.46499999999999997,
          "yanchor": "bottom",
          "yref": "paper"
         },
         {
          "font": {},
          "showarrow": false,
          "text": "task=1task_between",
          "x": 0.15999999999999998,
          "xanchor": "center",
          "xref": "paper",
          "y": 0.9999999999999999,
          "yanchor": "bottom",
          "yref": "paper"
         },
         {
          "font": {},
          "showarrow": false,
          "text": "task=1task_match_patt",
          "x": 0.49999999999999994,
          "xanchor": "center",
          "xref": "paper",
          "y": 0.9999999999999999,
          "yanchor": "bottom",
          "yref": "paper"
         },
         {
          "font": {},
          "showarrow": false,
          "text": "task=occurs",
          "x": 0.8399999999999999,
          "xanchor": "center",
          "xref": "paper",
          "y": 0.9999999999999999,
          "yanchor": "bottom",
          "yref": "paper"
         }
        ],
        "height": 600,
        "legend": {
         "title": {
          "text": "model_name"
         },
         "tracegroupgap": 0
        },
        "template": {
         "data": {
          "bar": [
           {
            "error_x": {
             "color": "#2a3f5f"
            },
            "error_y": {
             "color": "#2a3f5f"
            },
            "marker": {
             "line": {
              "color": "#E5ECF6",
              "width": 0.5
             },
             "pattern": {
              "fillmode": "overlay",
              "size": 10,
              "solidity": 0.2
             }
            },
            "type": "bar"
           }
          ],
          "barpolar": [
           {
            "marker": {
             "line": {
              "color": "#E5ECF6",
              "width": 0.5
             },
             "pattern": {
              "fillmode": "overlay",
              "size": 10,
              "solidity": 0.2
             }
            },
            "type": "barpolar"
           }
          ],
          "carpet": [
           {
            "aaxis": {
             "endlinecolor": "#2a3f5f",
             "gridcolor": "white",
             "linecolor": "white",
             "minorgridcolor": "white",
             "startlinecolor": "#2a3f5f"
            },
            "baxis": {
             "endlinecolor": "#2a3f5f",
             "gridcolor": "white",
             "linecolor": "white",
             "minorgridcolor": "white",
             "startlinecolor": "#2a3f5f"
            },
            "type": "carpet"
           }
          ],
          "choropleth": [
           {
            "colorbar": {
             "outlinewidth": 0,
             "ticks": ""
            },
            "type": "choropleth"
           }
          ],
          "contour": [
           {
            "colorbar": {
             "outlinewidth": 0,
             "ticks": ""
            },
            "colorscale": [
             [
              0,
              "#0d0887"
             ],
             [
              0.1111111111111111,
              "#46039f"
             ],
             [
              0.2222222222222222,
              "#7201a8"
             ],
             [
              0.3333333333333333,
              "#9c179e"
             ],
             [
              0.4444444444444444,
              "#bd3786"
             ],
             [
              0.5555555555555556,
              "#d8576b"
             ],
             [
              0.6666666666666666,
              "#ed7953"
             ],
             [
              0.7777777777777778,
              "#fb9f3a"
             ],
             [
              0.8888888888888888,
              "#fdca26"
             ],
             [
              1,
              "#f0f921"
             ]
            ],
            "type": "contour"
           }
          ],
          "contourcarpet": [
           {
            "colorbar": {
             "outlinewidth": 0,
             "ticks": ""
            },
            "type": "contourcarpet"
           }
          ],
          "heatmap": [
           {
            "colorbar": {
             "outlinewidth": 0,
             "ticks": ""
            },
            "colorscale": [
             [
              0,
              "#0d0887"
             ],
             [
              0.1111111111111111,
              "#46039f"
             ],
             [
              0.2222222222222222,
              "#7201a8"
             ],
             [
              0.3333333333333333,
              "#9c179e"
             ],
             [
              0.4444444444444444,
              "#bd3786"
             ],
             [
              0.5555555555555556,
              "#d8576b"
             ],
             [
              0.6666666666666666,
              "#ed7953"
             ],
             [
              0.7777777777777778,
              "#fb9f3a"
             ],
             [
              0.8888888888888888,
              "#fdca26"
             ],
             [
              1,
              "#f0f921"
             ]
            ],
            "type": "heatmap"
           }
          ],
          "heatmapgl": [
           {
            "colorbar": {
             "outlinewidth": 0,
             "ticks": ""
            },
            "colorscale": [
             [
              0,
              "#0d0887"
             ],
             [
              0.1111111111111111,
              "#46039f"
             ],
             [
              0.2222222222222222,
              "#7201a8"
             ],
             [
              0.3333333333333333,
              "#9c179e"
             ],
             [
              0.4444444444444444,
              "#bd3786"
             ],
             [
              0.5555555555555556,
              "#d8576b"
             ],
             [
              0.6666666666666666,
              "#ed7953"
             ],
             [
              0.7777777777777778,
              "#fb9f3a"
             ],
             [
              0.8888888888888888,
              "#fdca26"
             ],
             [
              1,
              "#f0f921"
             ]
            ],
            "type": "heatmapgl"
           }
          ],
          "histogram": [
           {
            "marker": {
             "pattern": {
              "fillmode": "overlay",
              "size": 10,
              "solidity": 0.2
             }
            },
            "type": "histogram"
           }
          ],
          "histogram2d": [
           {
            "colorbar": {
             "outlinewidth": 0,
             "ticks": ""
            },
            "colorscale": [
             [
              0,
              "#0d0887"
             ],
             [
              0.1111111111111111,
              "#46039f"
             ],
             [
              0.2222222222222222,
              "#7201a8"
             ],
             [
              0.3333333333333333,
              "#9c179e"
             ],
             [
              0.4444444444444444,
              "#bd3786"
             ],
             [
              0.5555555555555556,
              "#d8576b"
             ],
             [
              0.6666666666666666,
              "#ed7953"
             ],
             [
              0.7777777777777778,
              "#fb9f3a"
             ],
             [
              0.8888888888888888,
              "#fdca26"
             ],
             [
              1,
              "#f0f921"
             ]
            ],
            "type": "histogram2d"
           }
          ],
          "histogram2dcontour": [
           {
            "colorbar": {
             "outlinewidth": 0,
             "ticks": ""
            },
            "colorscale": [
             [
              0,
              "#0d0887"
             ],
             [
              0.1111111111111111,
              "#46039f"
             ],
             [
              0.2222222222222222,
              "#7201a8"
             ],
             [
              0.3333333333333333,
              "#9c179e"
             ],
             [
              0.4444444444444444,
              "#bd3786"
             ],
             [
              0.5555555555555556,
              "#d8576b"
             ],
             [
              0.6666666666666666,
              "#ed7953"
             ],
             [
              0.7777777777777778,
              "#fb9f3a"
             ],
             [
              0.8888888888888888,
              "#fdca26"
             ],
             [
              1,
              "#f0f921"
             ]
            ],
            "type": "histogram2dcontour"
           }
          ],
          "mesh3d": [
           {
            "colorbar": {
             "outlinewidth": 0,
             "ticks": ""
            },
            "type": "mesh3d"
           }
          ],
          "parcoords": [
           {
            "line": {
             "colorbar": {
              "outlinewidth": 0,
              "ticks": ""
             }
            },
            "type": "parcoords"
           }
          ],
          "pie": [
           {
            "automargin": true,
            "type": "pie"
           }
          ],
          "scatter": [
           {
            "fillpattern": {
             "fillmode": "overlay",
             "size": 10,
             "solidity": 0.2
            },
            "type": "scatter"
           }
          ],
          "scatter3d": [
           {
            "line": {
             "colorbar": {
              "outlinewidth": 0,
              "ticks": ""
             }
            },
            "marker": {
             "colorbar": {
              "outlinewidth": 0,
              "ticks": ""
             }
            },
            "type": "scatter3d"
           }
          ],
          "scattercarpet": [
           {
            "marker": {
             "colorbar": {
              "outlinewidth": 0,
              "ticks": ""
             }
            },
            "type": "scattercarpet"
           }
          ],
          "scattergeo": [
           {
            "marker": {
             "colorbar": {
              "outlinewidth": 0,
              "ticks": ""
             }
            },
            "type": "scattergeo"
           }
          ],
          "scattergl": [
           {
            "marker": {
             "colorbar": {
              "outlinewidth": 0,
              "ticks": ""
             }
            },
            "type": "scattergl"
           }
          ],
          "scattermapbox": [
           {
            "marker": {
             "colorbar": {
              "outlinewidth": 0,
              "ticks": ""
             }
            },
            "type": "scattermapbox"
           }
          ],
          "scatterpolar": [
           {
            "marker": {
             "colorbar": {
              "outlinewidth": 0,
              "ticks": ""
             }
            },
            "type": "scatterpolar"
           }
          ],
          "scatterpolargl": [
           {
            "marker": {
             "colorbar": {
              "outlinewidth": 0,
              "ticks": ""
             }
            },
            "type": "scatterpolargl"
           }
          ],
          "scatterternary": [
           {
            "marker": {
             "colorbar": {
              "outlinewidth": 0,
              "ticks": ""
             }
            },
            "type": "scatterternary"
           }
          ],
          "surface": [
           {
            "colorbar": {
             "outlinewidth": 0,
             "ticks": ""
            },
            "colorscale": [
             [
              0,
              "#0d0887"
             ],
             [
              0.1111111111111111,
              "#46039f"
             ],
             [
              0.2222222222222222,
              "#7201a8"
             ],
             [
              0.3333333333333333,
              "#9c179e"
             ],
             [
              0.4444444444444444,
              "#bd3786"
             ],
             [
              0.5555555555555556,
              "#d8576b"
             ],
             [
              0.6666666666666666,
              "#ed7953"
             ],
             [
              0.7777777777777778,
              "#fb9f3a"
             ],
             [
              0.8888888888888888,
              "#fdca26"
             ],
             [
              1,
              "#f0f921"
             ]
            ],
            "type": "surface"
           }
          ],
          "table": [
           {
            "cells": {
             "fill": {
              "color": "#EBF0F8"
             },
             "line": {
              "color": "white"
             }
            },
            "header": {
             "fill": {
              "color": "#C8D4E3"
             },
             "line": {
              "color": "white"
             }
            },
            "type": "table"
           }
          ]
         },
         "layout": {
          "annotationdefaults": {
           "arrowcolor": "#2a3f5f",
           "arrowhead": 0,
           "arrowwidth": 1
          },
          "autotypenumbers": "strict",
          "coloraxis": {
           "colorbar": {
            "outlinewidth": 0,
            "ticks": ""
           }
          },
          "colorscale": {
           "diverging": [
            [
             0,
             "#8e0152"
            ],
            [
             0.1,
             "#c51b7d"
            ],
            [
             0.2,
             "#de77ae"
            ],
            [
             0.3,
             "#f1b6da"
            ],
            [
             0.4,
             "#fde0ef"
            ],
            [
             0.5,
             "#f7f7f7"
            ],
            [
             0.6,
             "#e6f5d0"
            ],
            [
             0.7,
             "#b8e186"
            ],
            [
             0.8,
             "#7fbc41"
            ],
            [
             0.9,
             "#4d9221"
            ],
            [
             1,
             "#276419"
            ]
           ],
           "sequential": [
            [
             0,
             "#0d0887"
            ],
            [
             0.1111111111111111,
             "#46039f"
            ],
            [
             0.2222222222222222,
             "#7201a8"
            ],
            [
             0.3333333333333333,
             "#9c179e"
            ],
            [
             0.4444444444444444,
             "#bd3786"
            ],
            [
             0.5555555555555556,
             "#d8576b"
            ],
            [
             0.6666666666666666,
             "#ed7953"
            ],
            [
             0.7777777777777778,
             "#fb9f3a"
            ],
            [
             0.8888888888888888,
             "#fdca26"
            ],
            [
             1,
             "#f0f921"
            ]
           ],
           "sequentialminus": [
            [
             0,
             "#0d0887"
            ],
            [
             0.1111111111111111,
             "#46039f"
            ],
            [
             0.2222222222222222,
             "#7201a8"
            ],
            [
             0.3333333333333333,
             "#9c179e"
            ],
            [
             0.4444444444444444,
             "#bd3786"
            ],
            [
             0.5555555555555556,
             "#d8576b"
            ],
            [
             0.6666666666666666,
             "#ed7953"
            ],
            [
             0.7777777777777778,
             "#fb9f3a"
            ],
            [
             0.8888888888888888,
             "#fdca26"
            ],
            [
             1,
             "#f0f921"
            ]
           ]
          },
          "colorway": [
           "#636efa",
           "#EF553B",
           "#00cc96",
           "#ab63fa",
           "#FFA15A",
           "#19d3f3",
           "#FF6692",
           "#B6E880",
           "#FF97FF",
           "#FECB52"
          ],
          "font": {
           "color": "#2a3f5f"
          },
          "geo": {
           "bgcolor": "white",
           "lakecolor": "white",
           "landcolor": "#E5ECF6",
           "showlakes": true,
           "showland": true,
           "subunitcolor": "white"
          },
          "hoverlabel": {
           "align": "left"
          },
          "hovermode": "closest",
          "mapbox": {
           "style": "light"
          },
          "paper_bgcolor": "white",
          "plot_bgcolor": "#E5ECF6",
          "polar": {
           "angularaxis": {
            "gridcolor": "white",
            "linecolor": "white",
            "ticks": ""
           },
           "bgcolor": "#E5ECF6",
           "radialaxis": {
            "gridcolor": "white",
            "linecolor": "white",
            "ticks": ""
           }
          },
          "scene": {
           "xaxis": {
            "backgroundcolor": "#E5ECF6",
            "gridcolor": "white",
            "gridwidth": 2,
            "linecolor": "white",
            "showbackground": true,
            "ticks": "",
            "zerolinecolor": "white"
           },
           "yaxis": {
            "backgroundcolor": "#E5ECF6",
            "gridcolor": "white",
            "gridwidth": 2,
            "linecolor": "white",
            "showbackground": true,
            "ticks": "",
            "zerolinecolor": "white"
           },
           "zaxis": {
            "backgroundcolor": "#E5ECF6",
            "gridcolor": "white",
            "gridwidth": 2,
            "linecolor": "white",
            "showbackground": true,
            "ticks": "",
            "zerolinecolor": "white"
           }
          },
          "shapedefaults": {
           "line": {
            "color": "#2a3f5f"
           }
          },
          "ternary": {
           "aaxis": {
            "gridcolor": "white",
            "linecolor": "white",
            "ticks": ""
           },
           "baxis": {
            "gridcolor": "white",
            "linecolor": "white",
            "ticks": ""
           },
           "bgcolor": "#E5ECF6",
           "caxis": {
            "gridcolor": "white",
            "linecolor": "white",
            "ticks": ""
           }
          },
          "title": {
           "x": 0.05
          },
          "xaxis": {
           "automargin": true,
           "gridcolor": "white",
           "linecolor": "white",
           "ticks": "",
           "title": {
            "standoff": 15
           },
           "zerolinecolor": "white",
           "zerolinewidth": 2
          },
          "yaxis": {
           "automargin": true,
           "gridcolor": "white",
           "linecolor": "white",
           "ticks": "",
           "title": {
            "standoff": 15
           },
           "zerolinecolor": "white",
           "zerolinewidth": 2
          }
         }
        },
        "title": {
         "text": "Learning curves (test/acc_in_distribution)"
        },
        "width": 1400,
        "xaxis": {
         "anchor": "y",
         "domain": [
          0,
          0.31999999999999995
         ],
         "showticklabels": true,
         "title": {
          "text": "train_size"
         }
        },
        "xaxis2": {
         "anchor": "y2",
         "domain": [
          0.33999999999999997,
          0.6599999999999999
         ],
         "showticklabels": true,
         "title": {
          "text": "train_size"
         }
        },
        "xaxis3": {
         "anchor": "y3",
         "domain": [
          0.6799999999999999,
          0.9999999999999999
         ],
         "showticklabels": true,
         "title": {
          "text": "train_size"
         }
        },
        "xaxis4": {
         "anchor": "y4",
         "domain": [
          0,
          0.31999999999999995
         ],
         "showticklabels": true
        },
        "xaxis5": {
         "anchor": "y5",
         "domain": [
          0.33999999999999997,
          0.6599999999999999
         ],
         "showticklabels": true
        },
        "xaxis6": {
         "anchor": "y6",
         "domain": [
          0.6799999999999999,
          0.9999999999999999
         ],
         "showticklabels": true
        },
        "yaxis": {
         "anchor": "x",
         "domain": [
          0,
          0.46499999999999997
         ],
         "showticklabels": true,
         "title": {
          "text": "Accuracy"
         }
        },
        "yaxis2": {
         "anchor": "x2",
         "domain": [
          0,
          0.46499999999999997
         ],
         "showticklabels": true
        },
        "yaxis3": {
         "anchor": "x3",
         "domain": [
          0,
          0.46499999999999997
         ],
         "showticklabels": true
        },
        "yaxis4": {
         "anchor": "x4",
         "domain": [
          0.5349999999999999,
          0.9999999999999999
         ],
         "showticklabels": true,
         "title": {
          "text": "Accuracy"
         }
        },
        "yaxis5": {
         "anchor": "x5",
         "domain": [
          0.5349999999999999,
          0.9999999999999999
         ],
         "showticklabels": true
        },
        "yaxis6": {
         "anchor": "x6",
         "domain": [
          0.5349999999999999,
          0.9999999999999999
         ],
         "showticklabels": true
        }
       }
      },
      "text/html": [
       "<div>                            <div id=\"89803bfd-6116-43b9-aecf-5f17d59e6e51\" class=\"plotly-graph-div\" style=\"height:600px; width:1400px;\"></div>            <script type=\"text/javascript\">                require([\"plotly\"], function(Plotly) {                    window.PLOTLYENV=window.PLOTLYENV || {};                                    if (document.getElementById(\"89803bfd-6116-43b9-aecf-5f17d59e6e51\")) {                    Plotly.newPlot(                        \"89803bfd-6116-43b9-aecf-5f17d59e6e51\",                        [{\"customdata\":[[10.0,0.04168346324158341,0.013181468460730903],[10.0,0.03917515608295158,0.012388272091472717],[10.0,0.03803978073328048,0.01202923488105564],[10.0,0.022816171449327363,0.007215106926477951],[10.0,0.013485946319976475,0.004264630677389158],[10.0,0.014798066391808478,0.004679559476450445],[10.0,0.010622331334976545,0.0033590761079502884],[10.0,0.009487799915313086,0.0030003057716342014],[10.0,0.0064769795590544285,0.002048200776496506],[10.0,0.011973199314884799,0.0037862580714203547]],\"error_y\":{\"array\":[0.013181468460730903,0.012388272091472717,0.01202923488105564,0.007215106926477951,0.004264630677389158,0.004679559476450445,0.0033590761079502884,0.0030003057716342014,0.002048200776496506,0.0037862580714203547]},\"hovertemplate\":\"model_name=sa=0; rca=2; d=128; L=2; rca_type=disentangled_v2; sym_rel=True; symbol_type=pos_sym_retriever<br>task=1task_between<br>train_size=%{x}<br>Accuracy=%{y}<br># of Trials=%{customdata[0]}<br>Standard Deviation=%{customdata[1]}<br>Standard Error=%{customdata[2]}<extra></extra>\",\"legendgroup\":\"sa=0; rca=2; d=128; L=2; rca_type=disentangled_v2; sym_rel=True; symbol_type=pos_sym_retriever\",\"line\":{\"color\":\"#636efa\",\"dash\":\"solid\"},\"marker\":{\"symbol\":\"circle\"},\"mode\":\"lines\",\"name\":\"sa=0; rca=2; d=128; L=2; rca_type=disentangled_v2; sym_rel=True; symbol_type=pos_sym_retriever\",\"orientation\":\"v\",\"showlegend\":true,\"x\":[250,500,750,1000,1250,1500,1750,2000,2250,2500],\"xaxis\":\"x4\",\"y\":[0.6140900075435638,0.7501900017261505,0.8362600028514862,0.8810699939727783,0.8974199950695038,0.9081500053405762,0.920440000295639,0.9290499985218048,0.9259299993515014,0.9312799990177154],\"yaxis\":\"y4\",\"type\":\"scatter\"},{\"customdata\":[[11.0,0.01509856577396552,0.0045523888677041465],[10.0,0.16475590092857423,0.05210039048873451],[10.0,0.15253989659845782,0.04823735072976977],[10.0,0.1480903514164851,0.046830280997083557],[10.0,0.009728739391952639,0.0030764975240771936],[10.0,0.020706312274393828,0.00654791087297859],[8.0,0.023104446778650395,0.008168655496373689],[8.0,0.021054636942262377,0.007443938278647261],[7.0,0.029858020353156555,0.011285270927879598]],\"error_y\":{\"array\":[0.0045523888677041465,0.05210039048873451,0.04823735072976977,0.046830280997083557,0.0030764975240771936,0.00654791087297859,0.008168655496373689,0.007443938278647261,0.011285270927879598]},\"hovertemplate\":\"model_name=sa=0; rca=2; d=128; L=2; rca_type=disentangled_v2; sym_rel=True; symbol_type=pos_sym_retriever<br>task=1task_match_patt<br>train_size=%{x}<br>Accuracy=%{y}<br># of Trials=%{customdata[0]}<br>Standard Deviation=%{customdata[1]}<br>Standard Error=%{customdata[2]}<extra></extra>\",\"legendgroup\":\"sa=0; rca=2; d=128; L=2; rca_type=disentangled_v2; sym_rel=True; symbol_type=pos_sym_retriever\",\"line\":{\"color\":\"#636efa\",\"dash\":\"solid\"},\"marker\":{\"symbol\":\"circle\"},\"mode\":\"lines\",\"name\":\"sa=0; rca=2; d=128; L=2; rca_type=disentangled_v2; sym_rel=True; symbol_type=pos_sym_retriever\",\"orientation\":\"v\",\"showlegend\":false,\"x\":[5000,7500,10000,12500,15000,17500,20000,22500,25000],\"xaxis\":\"x5\",\"y\":[0.528309085152366,0.6817300021648407,0.7731599986553193,0.7915300011634827,0.8884799957275391,0.9153500020503997,0.9302875027060509,0.9176499992609024,0.927885719708034],\"yaxis\":\"y5\",\"type\":\"scatter\"},{\"customdata\":[[10.0,0.014696570855192968,0.004647463769645841],[10.0,0.03280522529610757,0.010373923109067157],[10.0,0.019072371277654803,0.006031213361776483],[10.0,0.010932736953892517,0.0034572349833791602],[10.0,0.016069579070992043,0.0050816470904507475],[10.0,0.01245161824858356,0.003937547422044071],[10.0,0.009721121643741846,0.003074088580578415],[10.0,0.008825110007156002,0.002790744822415783],[10.0,0.008462596429480485,0.002676107963596683],[10.0,0.01025620266723848,0.0032432960572767594]],\"error_y\":{\"array\":[0.004647463769645841,0.010373923109067157,0.006031213361776483,0.0034572349833791602,0.0050816470904507475,0.003937547422044071,0.003074088580578415,0.002790744822415783,0.002676107963596683,0.0032432960572767594]},\"hovertemplate\":\"model_name=sa=0; rca=2; d=128; L=2; rca_type=disentangled_v2; sym_rel=True; symbol_type=pos_sym_retriever<br>task=occurs<br>train_size=%{x}<br>Accuracy=%{y}<br># of Trials=%{customdata[0]}<br>Standard Deviation=%{customdata[1]}<br>Standard Error=%{customdata[2]}<extra></extra>\",\"legendgroup\":\"sa=0; rca=2; d=128; L=2; rca_type=disentangled_v2; sym_rel=True; symbol_type=pos_sym_retriever\",\"line\":{\"color\":\"#636efa\",\"dash\":\"solid\"},\"marker\":{\"symbol\":\"circle\"},\"mode\":\"lines\",\"name\":\"sa=0; rca=2; d=128; L=2; rca_type=disentangled_v2; sym_rel=True; symbol_type=pos_sym_retriever\",\"orientation\":\"v\",\"showlegend\":false,\"x\":[250,500,750,1000,1250,1500,1750,2000,2250,2500],\"xaxis\":\"x6\",\"y\":[0.632260000705719,0.7868500053882599,0.8542700052261353,0.8862599968910218,0.8993699967861175,0.909850001335144,0.9195300042629242,0.9163599967956543,0.9299000024795532,0.9311500012874603],\"yaxis\":\"y6\",\"type\":\"scatter\"},{\"customdata\":[[10.0,0.024526365104676772,0.0077559176455652655],[10.0,0.015339100002937265,0.004850649326637723],[10.0,0.019210966016087697,0.006075040866292805],[10.0,0.007635558425588208,0.0024145755832148032],[10.0,0.011824811104695812,0.0037393335992090544],[10.0,0.012318055682431054,0.0038953112301261883],[10.0,0.015091080349732094,0.004772218625776381],[10.0,0.014568337664130739,0.004606912874107022],[10.0,0.012620548939587284,0.00399096799707186],[10.0,0.01527012034382909,0.004828836043137342]],\"error_y\":{\"array\":[0.0077559176455652655,0.004850649326637723,0.006075040866292805,0.0024145755832148032,0.0037393335992090544,0.0038953112301261883,0.004772218625776381,0.004606912874107022,0.00399096799707186,0.004828836043137342]},\"hovertemplate\":\"model_name=sa=0; rca=2; d=128; L=2; rca_type=disentangled_v2; sym_rel=True; symbol_type=pos_sym_retriever<br>task=same<br>train_size=%{x}<br>Accuracy=%{y}<br># of Trials=%{customdata[0]}<br>Standard Deviation=%{customdata[1]}<br>Standard Error=%{customdata[2]}<extra></extra>\",\"legendgroup\":\"sa=0; rca=2; d=128; L=2; rca_type=disentangled_v2; sym_rel=True; symbol_type=pos_sym_retriever\",\"line\":{\"color\":\"#636efa\",\"dash\":\"solid\"},\"marker\":{\"symbol\":\"circle\"},\"mode\":\"lines\",\"name\":\"sa=0; rca=2; d=128; L=2; rca_type=disentangled_v2; sym_rel=True; symbol_type=pos_sym_retriever\",\"orientation\":\"v\",\"showlegend\":false,\"x\":[250,500,750,1000,1250,1500,1750,2000,2250,2500],\"xaxis\":\"x\",\"y\":[0.6524399936199188,0.7436900019645691,0.8148099899291992,0.8629199981689453,0.8822199940681458,0.8980099976062774,0.90625,0.9144100069999694,0.9285600125789643,0.9257099986076355],\"yaxis\":\"y\",\"type\":\"scatter\"},{\"customdata\":[[10.0,0.00547296689094992,0.0017307040934092124],[10.0,0.019564870822036756,0.006186955392460699],[10.0,0.024765650091716575,0.00783158620245823],[10.0,0.043478875201380544,0.013749227573857464],[10.0,0.04197654174638688,0.013274148021572462],[10.0,0.053630051329283605,0.016959311323227703],[10.0,0.021201386407758135,0.006704467060185108],[10.0,0.021309054658393865,0.006738514750554585],[10.0,0.013989438459918789,0.004423848872010153],[10.0,0.010945207469665907,0.003461178506723257]],\"error_y\":{\"array\":[0.0017307040934092124,0.006186955392460699,0.00783158620245823,0.013749227573857464,0.013274148021572462,0.016959311323227703,0.006704467060185108,0.006738514750554585,0.004423848872010153,0.003461178506723257]},\"hovertemplate\":\"model_name=sa=0; rca=2; d=128; L=2; rca_type=disentangled_v2; sym_rel=True; symbol_type=pos_sym_retriever<br>task=xoccurs<br>train_size=%{x}<br>Accuracy=%{y}<br># of Trials=%{customdata[0]}<br>Standard Deviation=%{customdata[1]}<br>Standard Error=%{customdata[2]}<extra></extra>\",\"legendgroup\":\"sa=0; rca=2; d=128; L=2; rca_type=disentangled_v2; sym_rel=True; symbol_type=pos_sym_retriever\",\"line\":{\"color\":\"#636efa\",\"dash\":\"solid\"},\"marker\":{\"symbol\":\"circle\"},\"mode\":\"lines\",\"name\":\"sa=0; rca=2; d=128; L=2; rca_type=disentangled_v2; sym_rel=True; symbol_type=pos_sym_retriever\",\"orientation\":\"v\",\"showlegend\":false,\"x\":[250,500,750,1000,1250,1500,1750,2000,2250,2500],\"xaxis\":\"x2\",\"y\":[0.5203000009059906,0.5563800036907196,0.6200200080871582,0.6655699968338012,0.7535100042819977,0.7721699893474578,0.8234099924564362,0.8602599918842315,0.873199999332428,0.8857000052928925],\"yaxis\":\"y2\",\"type\":\"scatter\"},{\"customdata\":[[10.0,0.039012847066710044,0.012336945473862266],[10.0,0.045922682149178336,0.014522027185535987],[10.0,0.031377587315925305,0.009922464339913329],[10.0,0.0322712230379631,0.010205056767926185],[10.0,0.011478662226913553,0.003629871712878735],[10.0,0.012869098725169847,0.004069566340510598],[10.0,0.01128549715026353,0.0035687875522172267],[10.0,0.0060497603948337095,0.0019131022145954075],[10.0,0.0057889657066065685,0.0018306316929482809],[10.0,0.005973682117058422,0.0018890441507721197]],\"error_y\":{\"array\":[0.012336945473862266,0.014522027185535987,0.009922464339913329,0.010205056767926185,0.003629871712878735,0.004069566340510598,0.0035687875522172267,0.0019131022145954075,0.0018306316929482809,0.0018890441507721197]},\"hovertemplate\":\"model_name=sa=1; rca=1; d=128; L=2; rca_type=disentangled_v2; sym_rel=True; symbol_type=pos_sym_retriever<br>task=1task_between<br>train_size=%{x}<br>Accuracy=%{y}<br># of Trials=%{customdata[0]}<br>Standard Deviation=%{customdata[1]}<br>Standard Error=%{customdata[2]}<extra></extra>\",\"legendgroup\":\"sa=1; rca=1; d=128; L=2; rca_type=disentangled_v2; sym_rel=True; symbol_type=pos_sym_retriever\",\"line\":{\"color\":\"#EF553B\",\"dash\":\"solid\"},\"marker\":{\"symbol\":\"circle\"},\"mode\":\"lines\",\"name\":\"sa=1; rca=1; d=128; L=2; rca_type=disentangled_v2; sym_rel=True; symbol_type=pos_sym_retriever\",\"orientation\":\"v\",\"showlegend\":true,\"x\":[250,500,750,1000,1250,1500,1750,2000,2250,2500],\"xaxis\":\"x4\",\"y\":[0.63992999792099,0.7105199992656708,0.8164700031280517,0.8689499974250794,0.8980199992656708,0.9112399995326996,0.923030000925064,0.929420006275177,0.9303900063037872,0.9375600039958953],\"yaxis\":\"y4\",\"type\":\"scatter\"},{\"customdata\":[[11.0,0.09472410459910842,0.0285603921416019],[10.0,0.13989724521841645,0.044239393327329596],[10.0,0.1381101124717075,0.0436742523312623],[10.0,0.15917436376721716,0.05033535346125859],[10.0,0.1393275751592388,0.044059247837149165],[10.0,0.11908544318730614,0.037658123664246895],[10.0,0.12225530093352906,0.03866052069792614],[10.0,0.0836050367635372,0.026438234003488974],[10.0,0.10253570147770794,0.03242463581526497]],\"error_y\":{\"array\":[0.0285603921416019,0.044239393327329596,0.0436742523312623,0.05033535346125859,0.044059247837149165,0.037658123664246895,0.03866052069792614,0.026438234003488974,0.03242463581526497]},\"hovertemplate\":\"model_name=sa=1; rca=1; d=128; L=2; rca_type=disentangled_v2; sym_rel=True; symbol_type=pos_sym_retriever<br>task=1task_match_patt<br>train_size=%{x}<br>Accuracy=%{y}<br># of Trials=%{customdata[0]}<br>Standard Deviation=%{customdata[1]}<br>Standard Error=%{customdata[2]}<extra></extra>\",\"legendgroup\":\"sa=1; rca=1; d=128; L=2; rca_type=disentangled_v2; sym_rel=True; symbol_type=pos_sym_retriever\",\"line\":{\"color\":\"#EF553B\",\"dash\":\"solid\"},\"marker\":{\"symbol\":\"circle\"},\"mode\":\"lines\",\"name\":\"sa=1; rca=1; d=128; L=2; rca_type=disentangled_v2; sym_rel=True; symbol_type=pos_sym_retriever\",\"orientation\":\"v\",\"showlegend\":false,\"x\":[5000,7500,10000,12500,15000,17500,20000,22500,25000],\"xaxis\":\"x5\",\"y\":[0.545990916815671,0.6064000129699707,0.6387199997901917,0.7418900012969971,0.7395000040531159,0.7624400019645691,0.8320799946784974,0.9010299980640412,0.8554499983787537],\"yaxis\":\"y5\",\"type\":\"scatter\"},{\"customdata\":[[10.0,0.01707600265247273,0.00539990617128905],[10.0,0.04590817490248585,0.014517439591323369],[10.0,0.020823434301261393,0.006584948109886285],[10.0,0.015155332085765907,0.004792536808725057],[10.0,0.013098468924359773,0.004142099566191265],[10.0,0.007067180767507349,0.002234838786146011],[10.0,0.011435077002844546,0.0036160888548400494],[10.0,0.00748759339379908,0.002367784931763517],[10.0,0.006838306221052089,0.0021624622996223473],[10.0,0.010332881204326815,0.003267543939761642]],\"error_y\":{\"array\":[0.00539990617128905,0.014517439591323369,0.006584948109886285,0.004792536808725057,0.004142099566191265,0.002234838786146011,0.0036160888548400494,0.002367784931763517,0.0021624622996223473,0.003267543939761642]},\"hovertemplate\":\"model_name=sa=1; rca=1; d=128; L=2; rca_type=disentangled_v2; sym_rel=True; symbol_type=pos_sym_retriever<br>task=occurs<br>train_size=%{x}<br>Accuracy=%{y}<br># of Trials=%{customdata[0]}<br>Standard Deviation=%{customdata[1]}<br>Standard Error=%{customdata[2]}<extra></extra>\",\"legendgroup\":\"sa=1; rca=1; d=128; L=2; rca_type=disentangled_v2; sym_rel=True; symbol_type=pos_sym_retriever\",\"line\":{\"color\":\"#EF553B\",\"dash\":\"solid\"},\"marker\":{\"symbol\":\"circle\"},\"mode\":\"lines\",\"name\":\"sa=1; rca=1; d=128; L=2; rca_type=disentangled_v2; sym_rel=True; symbol_type=pos_sym_retriever\",\"orientation\":\"v\",\"showlegend\":false,\"x\":[250,500,750,1000,1250,1500,1750,2000,2250,2500],\"xaxis\":\"x6\",\"y\":[0.6187100052833557,0.7746900022029877,0.8546999990940094,0.8952799916267395,0.9004099905490875,0.9134500026702881,0.9184900045394897,0.9280799865722656,0.9263300001621246,0.928519994020462],\"yaxis\":\"y6\",\"type\":\"scatter\"},{\"customdata\":[[10.0,0.023594253223896203,0.007461157987828272],[10.0,0.037718844788387856,0.011927746024167742],[10.0,0.021212578013143416,0.006708006156554237],[10.0,0.007349792733209969,0.0023242085367097777],[10.0,0.008325186006508502,0.002632654972512824],[10.0,0.00778959300297834,0.0024632855935122324],[10.0,0.011022011554221986,0.0034854660908033947],[10.0,0.0047204113376146245,0.0014927251319744263],[10.0,0.012462474533125541,0.003940980480652025],[10.0,0.01032806605500603,0.003266021255848893]],\"error_y\":{\"array\":[0.007461157987828272,0.011927746024167742,0.006708006156554237,0.0023242085367097777,0.002632654972512824,0.0024632855935122324,0.0034854660908033947,0.0014927251319744263,0.003940980480652025,0.003266021255848893]},\"hovertemplate\":\"model_name=sa=1; rca=1; d=128; L=2; rca_type=disentangled_v2; sym_rel=True; symbol_type=pos_sym_retriever<br>task=same<br>train_size=%{x}<br>Accuracy=%{y}<br># of Trials=%{customdata[0]}<br>Standard Deviation=%{customdata[1]}<br>Standard Error=%{customdata[2]}<extra></extra>\",\"legendgroup\":\"sa=1; rca=1; d=128; L=2; rca_type=disentangled_v2; sym_rel=True; symbol_type=pos_sym_retriever\",\"line\":{\"color\":\"#EF553B\",\"dash\":\"solid\"},\"marker\":{\"symbol\":\"circle\"},\"mode\":\"lines\",\"name\":\"sa=1; rca=1; d=128; L=2; rca_type=disentangled_v2; sym_rel=True; symbol_type=pos_sym_retriever\",\"orientation\":\"v\",\"showlegend\":false,\"x\":[250,500,750,1000,1250,1500,1750,2000,2250,2500],\"xaxis\":\"x\",\"y\":[0.6387199997901917,0.7435999929904937,0.8284300029277801,0.8801199972629548,0.899399995803833,0.9023299932479858,0.9167699992656708,0.9290999889373779,0.9372999966144562,0.9398000001907348],\"yaxis\":\"y\",\"type\":\"scatter\"},{\"customdata\":[[10.0,0.00940016610142367,0.0029725935264404155],[10.0,0.016429331110732703,0.005195410674297937],[10.0,0.019467796125009502,0.006156257677883009],[10.0,0.02632035831805077,0.008323228111679893],[10.0,0.057390738065902905,0.01814854488863798],[10.0,0.05329978583772245,0.016854872204638865],[10.0,0.014496604956200988,0.0045842290001280595],[10.0,0.02479044579756984,0.007839427293127019],[10.0,0.020918220612194373,0.006614922173241599],[10.0,0.029284172106471763,0.009260468324882164]],\"error_y\":{\"array\":[0.0029725935264404155,0.005195410674297937,0.006156257677883009,0.008323228111679893,0.01814854488863798,0.016854872204638865,0.0045842290001280595,0.007839427293127019,0.006614922173241599,0.009260468324882164]},\"hovertemplate\":\"model_name=sa=1; rca=1; d=128; L=2; rca_type=disentangled_v2; sym_rel=True; symbol_type=pos_sym_retriever<br>task=xoccurs<br>train_size=%{x}<br>Accuracy=%{y}<br># of Trials=%{customdata[0]}<br>Standard Deviation=%{customdata[1]}<br>Standard Error=%{customdata[2]}<extra></extra>\",\"legendgroup\":\"sa=1; rca=1; d=128; L=2; rca_type=disentangled_v2; sym_rel=True; symbol_type=pos_sym_retriever\",\"line\":{\"color\":\"#EF553B\",\"dash\":\"solid\"},\"marker\":{\"symbol\":\"circle\"},\"mode\":\"lines\",\"name\":\"sa=1; rca=1; d=128; L=2; rca_type=disentangled_v2; sym_rel=True; symbol_type=pos_sym_retriever\",\"orientation\":\"v\",\"showlegend\":false,\"x\":[250,500,750,1000,1250,1500,1750,2000,2250,2500],\"xaxis\":\"x2\",\"y\":[0.5218100070953369,0.5425599992275238,0.5849800050258637,0.6342100024223327,0.7157400012016296,0.7228700041770935,0.8274599969387054,0.8523000001907348,0.8664100050926209,0.8734499990940094],\"yaxis\":\"y2\",\"type\":\"scatter\"},{\"customdata\":[[10.0,0.03068182797652573,0.00970244591832965],[10.0,0.03251232904570525,0.010281301182127724],[10.0,0.03437079393839878,0.01086899938336492],[10.0,0.01653884476270509,0.00523004193180951],[10.0,0.035783865769027395,0.011315851931585932],[10.0,0.011577551743356736,0.0036611433237460477],[10.0,0.011084350486389614,0.003505179392058639],[10.0,0.0184324011890664,0.005828837050344574],[10.0,0.025975751259531114,0.008214253791410588],[10.0,0.019761536791077342,0.006249146632501939]],\"error_y\":{\"array\":[0.00970244591832965,0.010281301182127724,0.01086899938336492,0.00523004193180951,0.011315851931585932,0.0036611433237460477,0.003505179392058639,0.005828837050344574,0.008214253791410588,0.006249146632501939]},\"hovertemplate\":\"model_name=sa=2; d=128; L=2<br>task=1task_between<br>train_size=%{x}<br>Accuracy=%{y}<br># of Trials=%{customdata[0]}<br>Standard Deviation=%{customdata[1]}<br>Standard Error=%{customdata[2]}<extra></extra>\",\"legendgroup\":\"sa=2; d=128; L=2\",\"line\":{\"color\":\"#00cc96\",\"dash\":\"solid\"},\"marker\":{\"symbol\":\"circle\"},\"mode\":\"lines\",\"name\":\"sa=2; d=128; L=2\",\"orientation\":\"v\",\"showlegend\":true,\"x\":[250,500,750,1000,1250,1500,1750,2000,2250,2500],\"xaxis\":\"x4\",\"y\":[0.597189998626709,0.6645399987697601,0.7422299981117249,0.787470006942749,0.8291099965572357,0.859419995546341,0.8747399926185608,0.8914000034332276,0.9199199974536896,0.9237500071525574],\"yaxis\":\"y4\",\"type\":\"scatter\"},{\"customdata\":[[11.0,0.003378706326303642,0.0010187182873772074],[10.0,0.004379568808552475,0.001384941260445574],[10.0,0.0044582146637358955,0.0014098112635367106],[10.0,0.006505217221607055,0.0020571303094430605],[10.0,0.004190151435284281,0.0013250422276521955],[10.0,0.008286597301718024,0.002620452152603448],[10.0,0.009488947717972606,0.0030006687387050496],[10.0,0.012600886201797114,0.003984750093426699],[10.0,0.12794686264046432,0.04046035054165725]],\"error_y\":{\"array\":[0.0010187182873772074,0.001384941260445574,0.0014098112635367106,0.0020571303094430605,0.0013250422276521955,0.002620452152603448,0.0030006687387050496,0.003984750093426699,0.04046035054165725]},\"hovertemplate\":\"model_name=sa=2; d=128; L=2<br>task=1task_match_patt<br>train_size=%{x}<br>Accuracy=%{y}<br># of Trials=%{customdata[0]}<br>Standard Deviation=%{customdata[1]}<br>Standard Error=%{customdata[2]}<extra></extra>\",\"legendgroup\":\"sa=2; d=128; L=2\",\"line\":{\"color\":\"#00cc96\",\"dash\":\"solid\"},\"marker\":{\"symbol\":\"circle\"},\"mode\":\"lines\",\"name\":\"sa=2; d=128; L=2\",\"orientation\":\"v\",\"showlegend\":false,\"x\":[5000,7500,10000,12500,15000,17500,20000,22500,25000],\"xaxis\":\"x5\",\"y\":[0.5153818293051287,0.5188499927520752,0.523530000448227,0.5286699950695037,0.5382799983024598,0.5499100029468537,0.5561299979686737,0.5638699948787689,0.6387299954891205],\"yaxis\":\"y5\",\"type\":\"scatter\"},{\"customdata\":[[10.0,0.008019615956174347,0.002536025238134001],[10.0,0.012765698987834776,0.004036868472566401],[10.0,0.02476909269117719,0.007832674847994952],[10.0,0.039321613330076235,0.012434585939547924],[10.0,0.08384618650118364,0.026514492246300453],[10.0,0.08840170627032955,0.02795507408594301],[10.0,0.09310411379611762,0.029442105912723733],[10.0,0.07964692595612044,0.02518656946521247],[10.0,0.05933995754165537,0.01876494220893169],[10.0,0.035897495841783124,0.011351784915645806]],\"error_y\":{\"array\":[0.002536025238134001,0.004036868472566401,0.007832674847994952,0.012434585939547924,0.026514492246300453,0.02795507408594301,0.029442105912723733,0.02518656946521247,0.01876494220893169,0.011351784915645806]},\"hovertemplate\":\"model_name=sa=2; d=128; L=2<br>task=occurs<br>train_size=%{x}<br>Accuracy=%{y}<br># of Trials=%{customdata[0]}<br>Standard Deviation=%{customdata[1]}<br>Standard Error=%{customdata[2]}<extra></extra>\",\"legendgroup\":\"sa=2; d=128; L=2\",\"line\":{\"color\":\"#00cc96\",\"dash\":\"solid\"},\"marker\":{\"symbol\":\"circle\"},\"mode\":\"lines\",\"name\":\"sa=2; d=128; L=2\",\"orientation\":\"v\",\"showlegend\":false,\"x\":[250,500,750,1000,1250,1500,1750,2000,2250,2500],\"xaxis\":\"x6\",\"y\":[0.5373900055885314,0.5763099968433381,0.6233900010585784,0.657589989900589,0.7358699917793274,0.7894799947738648,0.8471700072288513,0.8563199996948242,0.9098099887371063,0.9275200068950653],\"yaxis\":\"y6\",\"type\":\"scatter\"},{\"customdata\":[[10.0,0.019631734903830803,0.006208099671673198],[10.0,0.040549589360863544,0.012822906056486017],[10.0,0.012869235040210982,0.00406960944711153],[10.0,0.013548305594115047,0.00428435041134043],[10.0,0.011458597851132539,0.0036235268001489824],[10.0,0.010345461468109518,0.0032715221684735496],[10.0,0.007207436314143377,0.0022791914843301926],[10.0,0.007815786861464578,0.002471568818864697],[10.0,0.0077740672869471596,0.0024583759310158803],[9.0,0.010059047117586557,0.0033530157058621855]],\"error_y\":{\"array\":[0.006208099671673198,0.012822906056486017,0.00406960944711153,0.00428435041134043,0.0036235268001489824,0.0032715221684735496,0.0022791914843301926,0.002471568818864697,0.0024583759310158803,0.0033530157058621855]},\"hovertemplate\":\"model_name=sa=2; d=128; L=2<br>task=same<br>train_size=%{x}<br>Accuracy=%{y}<br># of Trials=%{customdata[0]}<br>Standard Deviation=%{customdata[1]}<br>Standard Error=%{customdata[2]}<extra></extra>\",\"legendgroup\":\"sa=2; d=128; L=2\",\"line\":{\"color\":\"#00cc96\",\"dash\":\"solid\"},\"marker\":{\"symbol\":\"circle\"},\"mode\":\"lines\",\"name\":\"sa=2; d=128; L=2\",\"orientation\":\"v\",\"showlegend\":false,\"x\":[250,500,750,1000,1250,1500,1750,2000,2250,2500],\"xaxis\":\"x\",\"y\":[0.658950001001358,0.7880400061607361,0.8551799952983856,0.8865100085735321,0.9155799984931946,0.9250799953937531,0.9342599928379058,0.9425700008869171,0.9485599935054779,0.9486777782440186],\"yaxis\":\"y\",\"type\":\"scatter\"},{\"customdata\":[[10.0,0.00807138265528615,0.0025523953057481927],[10.0,0.004596662398723569,0.0014535922814819541],[10.0,0.00771002400391246,0.002438123666693433],[10.0,0.006844149314943504,0.002164310048150256],[10.0,0.0062083778243741585,0.0019632614499903167],[10.0,0.015688568260381616,0.0049611608929831475],[10.0,0.02038649144977774,0.006446774648084581],[10.0,0.026758018638201663,0.008461628456995423],[10.0,0.025567247121774793,0.008085073440519272],[10.0,0.10523735959446726,0.033278975126069026]],\"error_y\":{\"array\":[0.0025523953057481927,0.0014535922814819541,0.002438123666693433,0.002164310048150256,0.0019632614499903167,0.0049611608929831475,0.006446774648084581,0.008461628456995423,0.008085073440519272,0.033278975126069026]},\"hovertemplate\":\"model_name=sa=2; d=128; L=2<br>task=xoccurs<br>train_size=%{x}<br>Accuracy=%{y}<br># of Trials=%{customdata[0]}<br>Standard Deviation=%{customdata[1]}<br>Standard Error=%{customdata[2]}<extra></extra>\",\"legendgroup\":\"sa=2; d=128; L=2\",\"line\":{\"color\":\"#00cc96\",\"dash\":\"solid\"},\"marker\":{\"symbol\":\"circle\"},\"mode\":\"lines\",\"name\":\"sa=2; d=128; L=2\",\"orientation\":\"v\",\"showlegend\":false,\"x\":[250,500,750,1000,1250,1500,1750,2000,2250,2500],\"xaxis\":\"x2\",\"y\":[0.51075000166893,0.5188400030136109,0.5338999986648559,0.5453300058841706,0.5644799888134002,0.5650700092315674,0.5974700093269348,0.613560003042221,0.6245800077915191,0.684170001745224],\"yaxis\":\"y2\",\"type\":\"scatter\"}],                        {\"template\":{\"data\":{\"histogram2dcontour\":[{\"type\":\"histogram2dcontour\",\"colorbar\":{\"outlinewidth\":0,\"ticks\":\"\"},\"colorscale\":[[0.0,\"#0d0887\"],[0.1111111111111111,\"#46039f\"],[0.2222222222222222,\"#7201a8\"],[0.3333333333333333,\"#9c179e\"],[0.4444444444444444,\"#bd3786\"],[0.5555555555555556,\"#d8576b\"],[0.6666666666666666,\"#ed7953\"],[0.7777777777777778,\"#fb9f3a\"],[0.8888888888888888,\"#fdca26\"],[1.0,\"#f0f921\"]]}],\"choropleth\":[{\"type\":\"choropleth\",\"colorbar\":{\"outlinewidth\":0,\"ticks\":\"\"}}],\"histogram2d\":[{\"type\":\"histogram2d\",\"colorbar\":{\"outlinewidth\":0,\"ticks\":\"\"},\"colorscale\":[[0.0,\"#0d0887\"],[0.1111111111111111,\"#46039f\"],[0.2222222222222222,\"#7201a8\"],[0.3333333333333333,\"#9c179e\"],[0.4444444444444444,\"#bd3786\"],[0.5555555555555556,\"#d8576b\"],[0.6666666666666666,\"#ed7953\"],[0.7777777777777778,\"#fb9f3a\"],[0.8888888888888888,\"#fdca26\"],[1.0,\"#f0f921\"]]}],\"heatmap\":[{\"type\":\"heatmap\",\"colorbar\":{\"outlinewidth\":0,\"ticks\":\"\"},\"colorscale\":[[0.0,\"#0d0887\"],[0.1111111111111111,\"#46039f\"],[0.2222222222222222,\"#7201a8\"],[0.3333333333333333,\"#9c179e\"],[0.4444444444444444,\"#bd3786\"],[0.5555555555555556,\"#d8576b\"],[0.6666666666666666,\"#ed7953\"],[0.7777777777777778,\"#fb9f3a\"],[0.8888888888888888,\"#fdca26\"],[1.0,\"#f0f921\"]]}],\"heatmapgl\":[{\"type\":\"heatmapgl\",\"colorbar\":{\"outlinewidth\":0,\"ticks\":\"\"},\"colorscale\":[[0.0,\"#0d0887\"],[0.1111111111111111,\"#46039f\"],[0.2222222222222222,\"#7201a8\"],[0.3333333333333333,\"#9c179e\"],[0.4444444444444444,\"#bd3786\"],[0.5555555555555556,\"#d8576b\"],[0.6666666666666666,\"#ed7953\"],[0.7777777777777778,\"#fb9f3a\"],[0.8888888888888888,\"#fdca26\"],[1.0,\"#f0f921\"]]}],\"contourcarpet\":[{\"type\":\"contourcarpet\",\"colorbar\":{\"outlinewidth\":0,\"ticks\":\"\"}}],\"contour\":[{\"type\":\"contour\",\"colorbar\":{\"outlinewidth\":0,\"ticks\":\"\"},\"colorscale\":[[0.0,\"#0d0887\"],[0.1111111111111111,\"#46039f\"],[0.2222222222222222,\"#7201a8\"],[0.3333333333333333,\"#9c179e\"],[0.4444444444444444,\"#bd3786\"],[0.5555555555555556,\"#d8576b\"],[0.6666666666666666,\"#ed7953\"],[0.7777777777777778,\"#fb9f3a\"],[0.8888888888888888,\"#fdca26\"],[1.0,\"#f0f921\"]]}],\"surface\":[{\"type\":\"surface\",\"colorbar\":{\"outlinewidth\":0,\"ticks\":\"\"},\"colorscale\":[[0.0,\"#0d0887\"],[0.1111111111111111,\"#46039f\"],[0.2222222222222222,\"#7201a8\"],[0.3333333333333333,\"#9c179e\"],[0.4444444444444444,\"#bd3786\"],[0.5555555555555556,\"#d8576b\"],[0.6666666666666666,\"#ed7953\"],[0.7777777777777778,\"#fb9f3a\"],[0.8888888888888888,\"#fdca26\"],[1.0,\"#f0f921\"]]}],\"mesh3d\":[{\"type\":\"mesh3d\",\"colorbar\":{\"outlinewidth\":0,\"ticks\":\"\"}}],\"scatter\":[{\"fillpattern\":{\"fillmode\":\"overlay\",\"size\":10,\"solidity\":0.2},\"type\":\"scatter\"}],\"parcoords\":[{\"type\":\"parcoords\",\"line\":{\"colorbar\":{\"outlinewidth\":0,\"ticks\":\"\"}}}],\"scatterpolargl\":[{\"type\":\"scatterpolargl\",\"marker\":{\"colorbar\":{\"outlinewidth\":0,\"ticks\":\"\"}}}],\"bar\":[{\"error_x\":{\"color\":\"#2a3f5f\"},\"error_y\":{\"color\":\"#2a3f5f\"},\"marker\":{\"line\":{\"color\":\"#E5ECF6\",\"width\":0.5},\"pattern\":{\"fillmode\":\"overlay\",\"size\":10,\"solidity\":0.2}},\"type\":\"bar\"}],\"scattergeo\":[{\"type\":\"scattergeo\",\"marker\":{\"colorbar\":{\"outlinewidth\":0,\"ticks\":\"\"}}}],\"scatterpolar\":[{\"type\":\"scatterpolar\",\"marker\":{\"colorbar\":{\"outlinewidth\":0,\"ticks\":\"\"}}}],\"histogram\":[{\"marker\":{\"pattern\":{\"fillmode\":\"overlay\",\"size\":10,\"solidity\":0.2}},\"type\":\"histogram\"}],\"scattergl\":[{\"type\":\"scattergl\",\"marker\":{\"colorbar\":{\"outlinewidth\":0,\"ticks\":\"\"}}}],\"scatter3d\":[{\"type\":\"scatter3d\",\"line\":{\"colorbar\":{\"outlinewidth\":0,\"ticks\":\"\"}},\"marker\":{\"colorbar\":{\"outlinewidth\":0,\"ticks\":\"\"}}}],\"scattermapbox\":[{\"type\":\"scattermapbox\",\"marker\":{\"colorbar\":{\"outlinewidth\":0,\"ticks\":\"\"}}}],\"scatterternary\":[{\"type\":\"scatterternary\",\"marker\":{\"colorbar\":{\"outlinewidth\":0,\"ticks\":\"\"}}}],\"scattercarpet\":[{\"type\":\"scattercarpet\",\"marker\":{\"colorbar\":{\"outlinewidth\":0,\"ticks\":\"\"}}}],\"carpet\":[{\"aaxis\":{\"endlinecolor\":\"#2a3f5f\",\"gridcolor\":\"white\",\"linecolor\":\"white\",\"minorgridcolor\":\"white\",\"startlinecolor\":\"#2a3f5f\"},\"baxis\":{\"endlinecolor\":\"#2a3f5f\",\"gridcolor\":\"white\",\"linecolor\":\"white\",\"minorgridcolor\":\"white\",\"startlinecolor\":\"#2a3f5f\"},\"type\":\"carpet\"}],\"table\":[{\"cells\":{\"fill\":{\"color\":\"#EBF0F8\"},\"line\":{\"color\":\"white\"}},\"header\":{\"fill\":{\"color\":\"#C8D4E3\"},\"line\":{\"color\":\"white\"}},\"type\":\"table\"}],\"barpolar\":[{\"marker\":{\"line\":{\"color\":\"#E5ECF6\",\"width\":0.5},\"pattern\":{\"fillmode\":\"overlay\",\"size\":10,\"solidity\":0.2}},\"type\":\"barpolar\"}],\"pie\":[{\"automargin\":true,\"type\":\"pie\"}]},\"layout\":{\"autotypenumbers\":\"strict\",\"colorway\":[\"#636efa\",\"#EF553B\",\"#00cc96\",\"#ab63fa\",\"#FFA15A\",\"#19d3f3\",\"#FF6692\",\"#B6E880\",\"#FF97FF\",\"#FECB52\"],\"font\":{\"color\":\"#2a3f5f\"},\"hovermode\":\"closest\",\"hoverlabel\":{\"align\":\"left\"},\"paper_bgcolor\":\"white\",\"plot_bgcolor\":\"#E5ECF6\",\"polar\":{\"bgcolor\":\"#E5ECF6\",\"angularaxis\":{\"gridcolor\":\"white\",\"linecolor\":\"white\",\"ticks\":\"\"},\"radialaxis\":{\"gridcolor\":\"white\",\"linecolor\":\"white\",\"ticks\":\"\"}},\"ternary\":{\"bgcolor\":\"#E5ECF6\",\"aaxis\":{\"gridcolor\":\"white\",\"linecolor\":\"white\",\"ticks\":\"\"},\"baxis\":{\"gridcolor\":\"white\",\"linecolor\":\"white\",\"ticks\":\"\"},\"caxis\":{\"gridcolor\":\"white\",\"linecolor\":\"white\",\"ticks\":\"\"}},\"coloraxis\":{\"colorbar\":{\"outlinewidth\":0,\"ticks\":\"\"}},\"colorscale\":{\"sequential\":[[0.0,\"#0d0887\"],[0.1111111111111111,\"#46039f\"],[0.2222222222222222,\"#7201a8\"],[0.3333333333333333,\"#9c179e\"],[0.4444444444444444,\"#bd3786\"],[0.5555555555555556,\"#d8576b\"],[0.6666666666666666,\"#ed7953\"],[0.7777777777777778,\"#fb9f3a\"],[0.8888888888888888,\"#fdca26\"],[1.0,\"#f0f921\"]],\"sequentialminus\":[[0.0,\"#0d0887\"],[0.1111111111111111,\"#46039f\"],[0.2222222222222222,\"#7201a8\"],[0.3333333333333333,\"#9c179e\"],[0.4444444444444444,\"#bd3786\"],[0.5555555555555556,\"#d8576b\"],[0.6666666666666666,\"#ed7953\"],[0.7777777777777778,\"#fb9f3a\"],[0.8888888888888888,\"#fdca26\"],[1.0,\"#f0f921\"]],\"diverging\":[[0,\"#8e0152\"],[0.1,\"#c51b7d\"],[0.2,\"#de77ae\"],[0.3,\"#f1b6da\"],[0.4,\"#fde0ef\"],[0.5,\"#f7f7f7\"],[0.6,\"#e6f5d0\"],[0.7,\"#b8e186\"],[0.8,\"#7fbc41\"],[0.9,\"#4d9221\"],[1,\"#276419\"]]},\"xaxis\":{\"gridcolor\":\"white\",\"linecolor\":\"white\",\"ticks\":\"\",\"title\":{\"standoff\":15},\"zerolinecolor\":\"white\",\"automargin\":true,\"zerolinewidth\":2},\"yaxis\":{\"gridcolor\":\"white\",\"linecolor\":\"white\",\"ticks\":\"\",\"title\":{\"standoff\":15},\"zerolinecolor\":\"white\",\"automargin\":true,\"zerolinewidth\":2},\"scene\":{\"xaxis\":{\"backgroundcolor\":\"#E5ECF6\",\"gridcolor\":\"white\",\"linecolor\":\"white\",\"showbackground\":true,\"ticks\":\"\",\"zerolinecolor\":\"white\",\"gridwidth\":2},\"yaxis\":{\"backgroundcolor\":\"#E5ECF6\",\"gridcolor\":\"white\",\"linecolor\":\"white\",\"showbackground\":true,\"ticks\":\"\",\"zerolinecolor\":\"white\",\"gridwidth\":2},\"zaxis\":{\"backgroundcolor\":\"#E5ECF6\",\"gridcolor\":\"white\",\"linecolor\":\"white\",\"showbackground\":true,\"ticks\":\"\",\"zerolinecolor\":\"white\",\"gridwidth\":2}},\"shapedefaults\":{\"line\":{\"color\":\"#2a3f5f\"}},\"annotationdefaults\":{\"arrowcolor\":\"#2a3f5f\",\"arrowhead\":0,\"arrowwidth\":1},\"geo\":{\"bgcolor\":\"white\",\"landcolor\":\"#E5ECF6\",\"subunitcolor\":\"white\",\"showland\":true,\"showlakes\":true,\"lakecolor\":\"white\"},\"title\":{\"x\":0.05},\"mapbox\":{\"style\":\"light\"}}},\"xaxis\":{\"anchor\":\"y\",\"domain\":[0.0,0.31999999999999995],\"title\":{\"text\":\"train_size\"},\"showticklabels\":true},\"yaxis\":{\"anchor\":\"x\",\"domain\":[0.0,0.46499999999999997],\"title\":{\"text\":\"Accuracy\"},\"showticklabels\":true},\"xaxis2\":{\"anchor\":\"y2\",\"domain\":[0.33999999999999997,0.6599999999999999],\"title\":{\"text\":\"train_size\"},\"showticklabels\":true},\"yaxis2\":{\"anchor\":\"x2\",\"domain\":[0.0,0.46499999999999997],\"showticklabels\":true},\"xaxis3\":{\"anchor\":\"y3\",\"domain\":[0.6799999999999999,0.9999999999999999],\"title\":{\"text\":\"train_size\"},\"showticklabels\":true},\"yaxis3\":{\"anchor\":\"x3\",\"domain\":[0.0,0.46499999999999997],\"showticklabels\":true},\"xaxis4\":{\"anchor\":\"y4\",\"domain\":[0.0,0.31999999999999995],\"showticklabels\":true},\"yaxis4\":{\"anchor\":\"x4\",\"domain\":[0.5349999999999999,0.9999999999999999],\"title\":{\"text\":\"Accuracy\"},\"showticklabels\":true},\"xaxis5\":{\"anchor\":\"y5\",\"domain\":[0.33999999999999997,0.6599999999999999],\"showticklabels\":true},\"yaxis5\":{\"anchor\":\"x5\",\"domain\":[0.5349999999999999,0.9999999999999999],\"showticklabels\":true},\"xaxis6\":{\"anchor\":\"y6\",\"domain\":[0.6799999999999999,0.9999999999999999],\"showticklabels\":true},\"yaxis6\":{\"anchor\":\"x6\",\"domain\":[0.5349999999999999,0.9999999999999999],\"showticklabels\":true},\"annotations\":[{\"font\":{},\"showarrow\":false,\"text\":\"task=same\",\"x\":0.15999999999999998,\"xanchor\":\"center\",\"xref\":\"paper\",\"y\":0.46499999999999997,\"yanchor\":\"bottom\",\"yref\":\"paper\"},{\"font\":{},\"showarrow\":false,\"text\":\"task=xoccurs\",\"x\":0.49999999999999994,\"xanchor\":\"center\",\"xref\":\"paper\",\"y\":0.46499999999999997,\"yanchor\":\"bottom\",\"yref\":\"paper\"},{\"font\":{},\"showarrow\":false,\"text\":\"task=1task_between\",\"x\":0.15999999999999998,\"xanchor\":\"center\",\"xref\":\"paper\",\"y\":0.9999999999999999,\"yanchor\":\"bottom\",\"yref\":\"paper\"},{\"font\":{},\"showarrow\":false,\"text\":\"task=1task_match_patt\",\"x\":0.49999999999999994,\"xanchor\":\"center\",\"xref\":\"paper\",\"y\":0.9999999999999999,\"yanchor\":\"bottom\",\"yref\":\"paper\"},{\"font\":{},\"showarrow\":false,\"text\":\"task=occurs\",\"x\":0.8399999999999999,\"xanchor\":\"center\",\"xref\":\"paper\",\"y\":0.9999999999999999,\"yanchor\":\"bottom\",\"yref\":\"paper\"}],\"legend\":{\"title\":{\"text\":\"model_name\"},\"tracegroupgap\":0},\"title\":{\"text\":\"Learning curves (test/acc_in_distribution)\"},\"height\":600,\"width\":1400},                        {\"responsive\": true}                    ).then(function(){\n",
       "                            \n",
       "var gd = document.getElementById('89803bfd-6116-43b9-aecf-5f17d59e6e51');\n",
       "var x = new MutationObserver(function (mutations, observer) {{\n",
       "        var display = window.getComputedStyle(gd).display;\n",
       "        if (!display || display === 'none') {{\n",
       "            console.log([gd, 'removed!']);\n",
       "            Plotly.purge(gd);\n",
       "            observer.disconnect();\n",
       "        }}\n",
       "}});\n",
       "\n",
       "// Listen for the removal of the full notebook cells\n",
       "var notebookContainer = gd.closest('#notebook-container');\n",
       "if (notebookContainer) {{\n",
       "    x.observe(notebookContainer, {childList: true});\n",
       "}}\n",
       "\n",
       "// Listen for the clearing of the current output cell\n",
       "var outputEl = gd.closest('.output');\n",
       "if (outputEl) {{\n",
       "    x.observe(outputEl, {childList: true});\n",
       "}}\n",
       "\n",
       "                        })                };                });            </script>        </div>"
      ]
     },
     "metadata": {},
     "output_type": "display_data"
    }
   ],
   "source": [
    "metric = 'test/acc_in_distribution'\n",
    "agg_df = project_df_.groupby(['model_name', 'task', 'train_size'])[metric].aggregate(['mean', 'std', 'sem', 'count']).reset_index()\n",
    "agg_df.rename(columns={'mean': 'Accuracy', 'sem': 'Standard Error', 'std': 'Standard Deviation', 'count': '# of Trials'}, inplace=True)\n",
    "hover_data = ['# of Trials', 'Standard Deviation', 'Standard Error']\n",
    "fig = px.line(\n",
    "    agg_df, x='train_size', y='Accuracy', error_y='Standard Error', color='model_name', hover_data=hover_data, facet_col='task',\n",
    "    facet_col_wrap=3, title=f'Learning curves ({metric})', width=1400, height=600)\n",
    "fig.update_xaxes(matches=None)\n",
    "fig.update_yaxes(showticklabels=True, col=1)\n",
    "fig.update_yaxes(showticklabels=True, col=2)\n",
    "fig.update_yaxes(showticklabels=True, col=3)\n",
    "fig.update_xaxes(showticklabels=True, col=1)\n",
    "fig.update_xaxes(showticklabels=True, col=2)\n",
    "fig.update_xaxes(showticklabels=True, col=3)\n",
    "fig.update_yaxes(matches=None)\n",
    "fig.show()"
   ]
  },
  {
   "cell_type": "code",
   "execution_count": 122,
   "metadata": {},
   "outputs": [
    {
     "data": {
      "application/vnd.plotly.v1+json": {
       "config": {
        "plotlyServerURL": "https://plot.ly"
       },
       "data": [
        {
         "customdata": [
          [
           10,
           0.04079835795570359,
           0.012901573593487434
          ],
          [
           10,
           0.037180477568639396,
           0.01175749936096999
          ],
          [
           10,
           0.03769835440267239,
           0.011921266395268117
          ],
          [
           10,
           0.016595910917337003,
           0.0052480878344039325
          ],
          [
           10,
           0.010703640031089923,
           0.003384788175279964
          ],
          [
           10,
           0.01368489272605154,
           0.004327543054939354
          ],
          [
           10,
           0.014084772597938467,
           0.004453996173501256
          ],
          [
           10,
           0.01132635783029809,
           0.0035817088337824843
          ],
          [
           10,
           0.009193294577232882,
           0.002907175006493065
          ],
          [
           10,
           0.013056982088424063,
           0.004128980276744209
          ]
         ],
         "error_y": {
          "array": [
           0.012901573593487434,
           0.01175749936096999,
           0.011921266395268117,
           0.0052480878344039325,
           0.003384788175279964,
           0.004327543054939354,
           0.004453996173501256,
           0.0035817088337824843,
           0.002907175006493065,
           0.004128980276744209
          ]
         },
         "hovertemplate": "model_name=sa=0; rca=2; d=128; L=2; rca_type=disentangled_v2; sym_rel=True; symbol_type=pos_sym_retriever<br>task=1task_between<br>train_size=%{x}<br>Accuracy=%{y}<br># of Trials=%{customdata[0]}<br>Standard Deviation=%{customdata[1]}<br>Standard Error=%{customdata[2]}<extra></extra>",
         "legendgroup": "sa=0; rca=2; d=128; L=2; rca_type=disentangled_v2; sym_rel=True; symbol_type=pos_sym_retriever",
         "line": {
          "color": "#636efa",
          "dash": "solid"
         },
         "marker": {
          "symbol": "circle"
         },
         "mode": "lines",
         "name": "sa=0; rca=2; d=128; L=2; rca_type=disentangled_v2; sym_rel=True; symbol_type=pos_sym_retriever",
         "orientation": "v",
         "showlegend": true,
         "type": "scatter",
         "x": [
          250,
          500,
          750,
          1000,
          1250,
          1500,
          1750,
          2000,
          2250,
          2500
         ],
         "xaxis": "x4",
         "y": [
          0.6035820007324219,
          0.7243800044059754,
          0.8043360054492951,
          0.8479720056056976,
          0.8627220034599304,
          0.8706560075283051,
          0.8844059944152832,
          0.8967220067977906,
          0.8903219938278198,
          0.9005280017852784
         ],
         "yaxis": "y4"
        },
        {
         "customdata": [
          [
           11,
           0.012494323062780756,
           0.003767180146247988
          ],
          [
           10,
           0.14561023931913208,
           0.04604600068906628
          ],
          [
           10,
           0.1314905579711819,
           0.041580965399534375
          ],
          [
           10,
           0.1295002916757964,
           0.04095158793516601
          ],
          [
           10,
           0.014247926210002121,
           0.0045055898757617235
          ],
          [
           10,
           0.02708796096042625,
           0.008565965380466913
          ],
          [
           8,
           0.03205424404469099,
           0.011332886664904751
          ],
          [
           8,
           0.027070822469922692,
           0.009570981070389749
          ],
          [
           7,
           0.04114345648932283,
           0.015550764849764974
          ]
         ],
         "error_y": {
          "array": [
           0.003767180146247988,
           0.04604600068906628,
           0.041580965399534375,
           0.04095158793516601,
           0.0045055898757617235,
           0.008565965380466913,
           0.011332886664904751,
           0.009570981070389749,
           0.015550764849764974
          ]
         },
         "hovertemplate": "model_name=sa=0; rca=2; d=128; L=2; rca_type=disentangled_v2; sym_rel=True; symbol_type=pos_sym_retriever<br>task=1task_match_patt<br>train_size=%{x}<br>Accuracy=%{y}<br># of Trials=%{customdata[0]}<br>Standard Deviation=%{customdata[1]}<br>Standard Error=%{customdata[2]}<extra></extra>",
         "legendgroup": "sa=0; rca=2; d=128; L=2; rca_type=disentangled_v2; sym_rel=True; symbol_type=pos_sym_retriever",
         "line": {
          "color": "#636efa",
          "dash": "solid"
         },
         "marker": {
          "symbol": "circle"
         },
         "mode": "lines",
         "name": "sa=0; rca=2; d=128; L=2; rca_type=disentangled_v2; sym_rel=True; symbol_type=pos_sym_retriever",
         "orientation": "v",
         "showlegend": false,
         "type": "scatter",
         "x": [
          5000,
          7500,
          10000,
          12500,
          15000,
          17500,
          20000,
          22500,
          25000
         ],
         "xaxis": "x5",
         "y": [
          0.5172727270559832,
          0.6479849994182587,
          0.725979995727539,
          0.7420300006866455,
          0.8193549990653992,
          0.8218749940395356,
          0.8286124989390373,
          0.8199624940752983,
          0.8229499885014125
         ],
         "yaxis": "y5"
        },
        {
         "customdata": [
          [
           10,
           0.020040989367771052,
           0.00633751729653744
          ],
          [
           10,
           0.035276436522126975,
           0.011155388714427006
          ],
          [
           10,
           0.019435930773076735,
           0.00614618096882797
          ],
          [
           10,
           0.01755806791700172,
           0.005552348592965369
          ],
          [
           10,
           0.018810921855701355,
           0.005948535795145751
          ],
          [
           10,
           0.013670725624271558,
           0.004323063023992537
          ],
          [
           10,
           0.012986639720431127,
           0.004106736066857468
          ],
          [
           10,
           0.017596368398377804,
           0.005564460268628298
          ],
          [
           10,
           0.013679431329145429,
           0.004325816009596403
          ],
          [
           10,
           0.012931595225298399,
           0.00408932946913012
          ]
         ],
         "error_y": {
          "array": [
           0.00633751729653744,
           0.011155388714427006,
           0.00614618096882797,
           0.005552348592965369,
           0.005948535795145751,
           0.004323063023992537,
           0.004106736066857468,
           0.005564460268628298,
           0.004325816009596403,
           0.00408932946913012
          ]
         },
         "hovertemplate": "model_name=sa=0; rca=2; d=128; L=2; rca_type=disentangled_v2; sym_rel=True; symbol_type=pos_sym_retriever<br>task=occurs<br>train_size=%{x}<br>Accuracy=%{y}<br># of Trials=%{customdata[0]}<br>Standard Deviation=%{customdata[1]}<br>Standard Error=%{customdata[2]}<extra></extra>",
         "legendgroup": "sa=0; rca=2; d=128; L=2; rca_type=disentangled_v2; sym_rel=True; symbol_type=pos_sym_retriever",
         "line": {
          "color": "#636efa",
          "dash": "solid"
         },
         "marker": {
          "symbol": "circle"
         },
         "mode": "lines",
         "name": "sa=0; rca=2; d=128; L=2; rca_type=disentangled_v2; sym_rel=True; symbol_type=pos_sym_retriever",
         "orientation": "v",
         "showlegend": false,
         "type": "scatter",
         "x": [
          250,
          500,
          750,
          1000,
          1250,
          1500,
          1750,
          2000,
          2250,
          2500
         ],
         "xaxis": "x6",
         "y": [
          0.6130700051784516,
          0.7452549934387207,
          0.812119996547699,
          0.8500499963760376,
          0.8560599982738495,
          0.8630149960517883,
          0.881630003452301,
          0.8774600088596344,
          0.8900150060653687,
          0.8909700095653534
         ],
         "yaxis": "y6"
        },
        {
         "customdata": [
          [
           10,
           0.024593359196608003,
           0.007777103037593005
          ],
          [
           10,
           0.020556343863279522,
           0.00650048669735882
          ],
          [
           10,
           0.02142590309917059,
           0.006775465471943961
          ],
          [
           10,
           0.009192592096072935,
           0.0029069528624451864
          ],
          [
           10,
           0.013239226139422994,
           0.004186610905861459
          ],
          [
           10,
           0.015220890527707583,
           0.004813268208363818
          ],
          [
           10,
           0.02091042469793712,
           0.006612456888691969
          ],
          [
           10,
           0.01985116772802367,
           0.006277490423458473
          ],
          [
           10,
           0.01457508110190432,
           0.004609045336369436
          ],
          [
           10,
           0.02387121915110544,
           0.007548742304252431
          ]
         ],
         "error_y": {
          "array": [
           0.007777103037593005,
           0.00650048669735882,
           0.006775465471943961,
           0.0029069528624451864,
           0.004186610905861459,
           0.004813268208363818,
           0.006612456888691969,
           0.006277490423458473,
           0.004609045336369436,
           0.007548742304252431
          ]
         },
         "hovertemplate": "model_name=sa=0; rca=2; d=128; L=2; rca_type=disentangled_v2; sym_rel=True; symbol_type=pos_sym_retriever<br>task=same<br>train_size=%{x}<br>Accuracy=%{y}<br># of Trials=%{customdata[0]}<br>Standard Deviation=%{customdata[1]}<br>Standard Error=%{customdata[2]}<extra></extra>",
         "legendgroup": "sa=0; rca=2; d=128; L=2; rca_type=disentangled_v2; sym_rel=True; symbol_type=pos_sym_retriever",
         "line": {
          "color": "#636efa",
          "dash": "solid"
         },
         "marker": {
          "symbol": "circle"
         },
         "mode": "lines",
         "name": "sa=0; rca=2; d=128; L=2; rca_type=disentangled_v2; sym_rel=True; symbol_type=pos_sym_retriever",
         "orientation": "v",
         "showlegend": false,
         "type": "scatter",
         "x": [
          250,
          500,
          750,
          1000,
          1250,
          1500,
          1750,
          2000,
          2250,
          2500
         ],
         "xaxis": "x",
         "y": [
          0.6321950018405914,
          0.7217999935150147,
          0.7802049934864044,
          0.8289350032806396,
          0.8395099937915802,
          0.8637700021266937,
          0.87362499833107,
          0.8769800007343292,
          0.899795013666153,
          0.8925849974155426
         ],
         "yaxis": "y"
        },
        {
         "customdata": [
          [
           10,
           0.005346237925765249,
           0.0016906288758592382
          ],
          [
           10,
           0.0189843010133506,
           0.006003363098843053
          ],
          [
           10,
           0.021175856497858716,
           0.006696393793811003
          ],
          [
           10,
           0.038432466016384184,
           0.012153412870879213
          ],
          [
           10,
           0.042387826078495214,
           0.013404207547112804
          ],
          [
           10,
           0.04419615894829661,
           0.01397605261074492
          ],
          [
           10,
           0.021165160643770886,
           0.006693011467767166
          ],
          [
           10,
           0.014659478961352527,
           0.004635734282919346
          ],
          [
           10,
           0.016983028013687076,
           0.00537050500896964
          ],
          [
           10,
           0.016449764356572083,
           0.005201872233982197
          ]
         ],
         "error_y": {
          "array": [
           0.0016906288758592382,
           0.006003363098843053,
           0.006696393793811003,
           0.012153412870879213,
           0.013404207547112804,
           0.01397605261074492,
           0.006693011467767166,
           0.004635734282919346,
           0.00537050500896964,
           0.005201872233982197
          ]
         },
         "hovertemplate": "model_name=sa=0; rca=2; d=128; L=2; rca_type=disentangled_v2; sym_rel=True; symbol_type=pos_sym_retriever<br>task=xoccurs<br>train_size=%{x}<br>Accuracy=%{y}<br># of Trials=%{customdata[0]}<br>Standard Deviation=%{customdata[1]}<br>Standard Error=%{customdata[2]}<extra></extra>",
         "legendgroup": "sa=0; rca=2; d=128; L=2; rca_type=disentangled_v2; sym_rel=True; symbol_type=pos_sym_retriever",
         "line": {
          "color": "#636efa",
          "dash": "solid"
         },
         "marker": {
          "symbol": "circle"
         },
         "mode": "lines",
         "name": "sa=0; rca=2; d=128; L=2; rca_type=disentangled_v2; sym_rel=True; symbol_type=pos_sym_retriever",
         "orientation": "v",
         "showlegend": false,
         "type": "scatter",
         "x": [
          250,
          500,
          750,
          1000,
          1250,
          1500,
          1750,
          2000,
          2250,
          2500
         ],
         "xaxis": "x2",
         "y": [
          0.5160850048065185,
          0.5497300088405609,
          0.5968600034713745,
          0.6282650053501129,
          0.6958350121974946,
          0.7155049979686737,
          0.7560599982738495,
          0.7898149967193604,
          0.809724998474121,
          0.8123000025749206
         ],
         "yaxis": "y2"
        },
        {
         "customdata": [
          [
           10,
           0.031329781976342286,
           0.009907346964173315
          ],
          [
           10,
           0.04187513181961619,
           0.013242079386977834
          ],
          [
           10,
           0.029271713943173135,
           0.009256528707733566
          ],
          [
           10,
           0.025889759760889294,
           0.008187060891898645
          ],
          [
           10,
           0.009488215010485994,
           0.0030004370362534142
          ],
          [
           10,
           0.015619503017147486,
           0.00493932054540581
          ],
          [
           10,
           0.011216569759374103,
           0.0035469907973788937
          ],
          [
           10,
           0.007969083138347462,
           0.00252004535804207
          ],
          [
           10,
           0.013512762778482219,
           0.004273110786154912
          ],
          [
           10,
           0.013313466093994548,
           0.004210087640844813
          ]
         ],
         "error_y": {
          "array": [
           0.009907346964173315,
           0.013242079386977834,
           0.009256528707733566,
           0.008187060891898645,
           0.0030004370362534142,
           0.00493932054540581,
           0.0035469907973788937,
           0.00252004535804207,
           0.004273110786154912,
           0.004210087640844813
          ]
         },
         "hovertemplate": "model_name=sa=1; rca=1; d=128; L=2; rca_type=disentangled_v2; sym_rel=True; symbol_type=pos_sym_retriever<br>task=1task_between<br>train_size=%{x}<br>Accuracy=%{y}<br># of Trials=%{customdata[0]}<br>Standard Deviation=%{customdata[1]}<br>Standard Error=%{customdata[2]}<extra></extra>",
         "legendgroup": "sa=1; rca=1; d=128; L=2; rca_type=disentangled_v2; sym_rel=True; symbol_type=pos_sym_retriever",
         "line": {
          "color": "#EF553B",
          "dash": "solid"
         },
         "marker": {
          "symbol": "circle"
         },
         "mode": "lines",
         "name": "sa=1; rca=1; d=128; L=2; rca_type=disentangled_v2; sym_rel=True; symbol_type=pos_sym_retriever",
         "orientation": "v",
         "showlegend": true,
         "type": "scatter",
         "x": [
          250,
          500,
          750,
          1000,
          1250,
          1500,
          1750,
          2000,
          2250,
          2500
         ],
         "xaxis": "x4",
         "y": [
          0.6303039968013764,
          0.6984420001506806,
          0.7933759987354279,
          0.8387879967689514,
          0.8636880040168762,
          0.8803319990634918,
          0.8920279979705811,
          0.8969020009040832,
          0.9005060076713562,
          0.9084980010986328
         ],
         "yaxis": "y4"
        },
        {
         "customdata": [
          [
           11,
           0.08397109511246131,
           0.025318237793025482
          ],
          [
           10,
           0.12433512626266796,
           0.03931821921546497
          ],
          [
           10,
           0.12428794909927486,
           0.03930330048647815
          ],
          [
           10,
           0.14574508512104997,
           0.04608864267576352
          ],
          [
           10,
           0.12119540533971021,
           0.03832535228208171
          ],
          [
           10,
           0.10707501287080583,
           0.0338600921163591
          ],
          [
           10,
           0.11583249258630755,
           0.03662945036272998
          ],
          [
           10,
           0.08693212196603166,
           0.027490350724421478
          ],
          [
           10,
           0.09798349686075324,
           0.03098510231879385
          ]
         ],
         "error_y": {
          "array": [
           0.025318237793025482,
           0.03931821921546497,
           0.03930330048647815,
           0.04608864267576352,
           0.03832535228208171,
           0.0338600921163591,
           0.03662945036272998,
           0.027490350724421478,
           0.03098510231879385
          ]
         },
         "hovertemplate": "model_name=sa=1; rca=1; d=128; L=2; rca_type=disentangled_v2; sym_rel=True; symbol_type=pos_sym_retriever<br>task=1task_match_patt<br>train_size=%{x}<br>Accuracy=%{y}<br># of Trials=%{customdata[0]}<br>Standard Deviation=%{customdata[1]}<br>Standard Error=%{customdata[2]}<extra></extra>",
         "legendgroup": "sa=1; rca=1; d=128; L=2; rca_type=disentangled_v2; sym_rel=True; symbol_type=pos_sym_retriever",
         "line": {
          "color": "#EF553B",
          "dash": "solid"
         },
         "marker": {
          "symbol": "circle"
         },
         "mode": "lines",
         "name": "sa=1; rca=1; d=128; L=2; rca_type=disentangled_v2; sym_rel=True; symbol_type=pos_sym_retriever",
         "orientation": "v",
         "showlegend": false,
         "type": "scatter",
         "x": [
          5000,
          7500,
          10000,
          12500,
          15000,
          17500,
          20000,
          22500,
          25000
         ],
         "xaxis": "x5",
         "y": [
          0.5319454534487291,
          0.5859549939632416,
          0.6096299946308136,
          0.7005000054836273,
          0.6912099897861481,
          0.7146949946880341,
          0.7757049918174743,
          0.8381300032138824,
          0.7877900004386902
         ],
         "yaxis": "y5"
        },
        {
         "customdata": [
          [
           10,
           0.018904135572848577,
           0.005978012560681342
          ],
          [
           10,
           0.03849024478509743,
           0.012171684121832607
          ],
          [
           10,
           0.017944930699378536,
           0.005674685346391448
          ],
          [
           10,
           0.022964546704548974,
           0.0072620273019688595
          ],
          [
           10,
           0.013188446386458389,
           0.004170552938022575
          ],
          [
           10,
           0.0061034319867735295,
           0.001930074662213104
          ],
          [
           10,
           0.014736901328028356,
           0.004660217384972979
          ],
          [
           10,
           0.013905736641722365,
           0.0043973800330303495
          ],
          [
           10,
           0.014649009350246505,
           0.004632423501188223
          ],
          [
           10,
           0.017503659515804033,
           0.005535143145802076
          ]
         ],
         "error_y": {
          "array": [
           0.005978012560681342,
           0.012171684121832607,
           0.005674685346391448,
           0.0072620273019688595,
           0.004170552938022575,
           0.001930074662213104,
           0.004660217384972979,
           0.0043973800330303495,
           0.004632423501188223,
           0.005535143145802076
          ]
         },
         "hovertemplate": "model_name=sa=1; rca=1; d=128; L=2; rca_type=disentangled_v2; sym_rel=True; symbol_type=pos_sym_retriever<br>task=occurs<br>train_size=%{x}<br>Accuracy=%{y}<br># of Trials=%{customdata[0]}<br>Standard Deviation=%{customdata[1]}<br>Standard Error=%{customdata[2]}<extra></extra>",
         "legendgroup": "sa=1; rca=1; d=128; L=2; rca_type=disentangled_v2; sym_rel=True; symbol_type=pos_sym_retriever",
         "line": {
          "color": "#EF553B",
          "dash": "solid"
         },
         "marker": {
          "symbol": "circle"
         },
         "mode": "lines",
         "name": "sa=1; rca=1; d=128; L=2; rca_type=disentangled_v2; sym_rel=True; symbol_type=pos_sym_retriever",
         "orientation": "v",
         "showlegend": false,
         "type": "scatter",
         "x": [
          250,
          500,
          750,
          1000,
          1250,
          1500,
          1750,
          2000,
          2250,
          2500
         ],
         "xaxis": "x6",
         "y": [
          0.6063149988651275,
          0.7344449996948242,
          0.8078149914741516,
          0.8495149970054626,
          0.8569500029087067,
          0.8728550016880036,
          0.8760849952697753,
          0.8928299963474273,
          0.8889450013637543,
          0.8925000011920929
         ],
         "yaxis": "y6"
        },
        {
         "customdata": [
          [
           10,
           0.024450824912008624,
           0.0077320297391933355
          ],
          [
           10,
           0.03958764622544715,
           0.01251871292773806
          ],
          [
           10,
           0.021675227194529505,
           0.00685430867363348
          ],
          [
           10,
           0.009141705718695436,
           0.0028908611770064097
          ],
          [
           10,
           0.012853715669076142,
           0.004064701791047573
          ],
          [
           10,
           0.012504146312191905,
           0.003954158254252128
          ],
          [
           10,
           0.01657595894638927,
           0.005241778467203498
          ],
          [
           10,
           0.009247677562326053,
           0.0029243724163784054
          ],
          [
           10,
           0.02009963008519774,
           0.006356061119606907
          ],
          [
           10,
           0.01514924838438106,
           0.004790612973427014
          ]
         ],
         "error_y": {
          "array": [
           0.0077320297391933355,
           0.01251871292773806,
           0.00685430867363348,
           0.0028908611770064097,
           0.004064701791047573,
           0.003954158254252128,
           0.005241778467203498,
           0.0029243724163784054,
           0.006356061119606907,
           0.004790612973427014
          ]
         },
         "hovertemplate": "model_name=sa=1; rca=1; d=128; L=2; rca_type=disentangled_v2; sym_rel=True; symbol_type=pos_sym_retriever<br>task=same<br>train_size=%{x}<br>Accuracy=%{y}<br># of Trials=%{customdata[0]}<br>Standard Deviation=%{customdata[1]}<br>Standard Error=%{customdata[2]}<extra></extra>",
         "legendgroup": "sa=1; rca=1; d=128; L=2; rca_type=disentangled_v2; sym_rel=True; symbol_type=pos_sym_retriever",
         "line": {
          "color": "#EF553B",
          "dash": "solid"
         },
         "marker": {
          "symbol": "circle"
         },
         "mode": "lines",
         "name": "sa=1; rca=1; d=128; L=2; rca_type=disentangled_v2; sym_rel=True; symbol_type=pos_sym_retriever",
         "orientation": "v",
         "showlegend": false,
         "type": "scatter",
         "x": [
          250,
          500,
          750,
          1000,
          1250,
          1500,
          1750,
          2000,
          2250,
          2500
         ],
         "xaxis": "x",
         "y": [
          0.6205250144004821,
          0.7251649916172027,
          0.8049749910831452,
          0.8559699952602386,
          0.8791800022125245,
          0.8746100008487702,
          0.8868300020694733,
          0.906029999256134,
          0.915215003490448,
          0.9197150051593781
         ],
         "yaxis": "y"
        },
        {
         "customdata": [
          [
           10,
           0.00825416995012607,
           0.0026101977236516814
          ],
          [
           10,
           0.01635058407308557,
           0.005170508674502341
          ],
          [
           10,
           0.014083557417011333,
           0.004453611899551362
          ],
          [
           10,
           0.021018358124529034,
           0.006646588435061673
          ],
          [
           10,
           0.04161735260690447,
           0.013160562442416425
          ],
          [
           10,
           0.04642372320964704,
           0.014680470280770713
          ],
          [
           10,
           0.01827033906524214,
           0.005777588506971685
          ],
          [
           10,
           0.027310299185830476,
           0.008636274900786639
          ],
          [
           10,
           0.02493312344743832,
           0.007884545927605461
          ],
          [
           10,
           0.028343879506883076,
           0.00896312169671207
          ]
         ],
         "error_y": {
          "array": [
           0.0026101977236516814,
           0.005170508674502341,
           0.004453611899551362,
           0.006646588435061673,
           0.013160562442416425,
           0.014680470280770713,
           0.005777588506971685,
           0.008636274900786639,
           0.007884545927605461,
           0.00896312169671207
          ]
         },
         "hovertemplate": "model_name=sa=1; rca=1; d=128; L=2; rca_type=disentangled_v2; sym_rel=True; symbol_type=pos_sym_retriever<br>task=xoccurs<br>train_size=%{x}<br>Accuracy=%{y}<br># of Trials=%{customdata[0]}<br>Standard Deviation=%{customdata[1]}<br>Standard Error=%{customdata[2]}<extra></extra>",
         "legendgroup": "sa=1; rca=1; d=128; L=2; rca_type=disentangled_v2; sym_rel=True; symbol_type=pos_sym_retriever",
         "line": {
          "color": "#EF553B",
          "dash": "solid"
         },
         "marker": {
          "symbol": "circle"
         },
         "mode": "lines",
         "name": "sa=1; rca=1; d=128; L=2; rca_type=disentangled_v2; sym_rel=True; symbol_type=pos_sym_retriever",
         "orientation": "v",
         "showlegend": false,
         "type": "scatter",
         "x": [
          250,
          500,
          750,
          1000,
          1250,
          1500,
          1750,
          2000,
          2250,
          2500
         ],
         "xaxis": "x2",
         "y": [
          0.516445004940033,
          0.5330599963665008,
          0.5675299882888794,
          0.60731999874115,
          0.6719899952411652,
          0.6780900001525879,
          0.7648149967193604,
          0.7872449934482575,
          0.7958750009536744,
          0.8058499991893768
         ],
         "yaxis": "y2"
        },
        {
         "customdata": [
          [
           10,
           0.028279748244249454,
           0.0089428416107976
          ],
          [
           10,
           0.0335005459819021,
           0.010593802816201259
          ],
          [
           10,
           0.03290396928500146,
           0.010405148700082663
          ],
          [
           10,
           0.019753079560725632,
           0.00624647222144113
          ],
          [
           10,
           0.035965898231972084,
           0.011373415650685474
          ],
          [
           10,
           0.01466626639923674,
           0.004637880659238448
          ],
          [
           10,
           0.011532484120183381,
           0.0036468916899502495
          ],
          [
           10,
           0.020574411018267732,
           0.006506200033419021
          ],
          [
           10,
           0.03202732028887376,
           0.010127927946456299
          ],
          [
           10,
           0.020608656760326884,
           0.006517029487925975
          ]
         ],
         "error_y": {
          "array": [
           0.0089428416107976,
           0.010593802816201259,
           0.010405148700082663,
           0.00624647222144113,
           0.011373415650685474,
           0.004637880659238448,
           0.0036468916899502495,
           0.006506200033419021,
           0.010127927946456299,
           0.006517029487925975
          ]
         },
         "hovertemplate": "model_name=sa=2; d=128; L=2<br>task=1task_between<br>train_size=%{x}<br>Accuracy=%{y}<br># of Trials=%{customdata[0]}<br>Standard Deviation=%{customdata[1]}<br>Standard Error=%{customdata[2]}<extra></extra>",
         "legendgroup": "sa=2; d=128; L=2",
         "line": {
          "color": "#00cc96",
          "dash": "solid"
         },
         "marker": {
          "symbol": "circle"
         },
         "mode": "lines",
         "name": "sa=2; d=128; L=2",
         "orientation": "v",
         "showlegend": true,
         "type": "scatter",
         "x": [
          250,
          500,
          750,
          1000,
          1250,
          1500,
          1750,
          2000,
          2250,
          2500
         ],
         "xaxis": "x4",
         "y": [
          0.5869000017642975,
          0.6533179998397827,
          0.7282459974288941,
          0.777156001329422,
          0.8159839987754822,
          0.8434879899024963,
          0.8591879963874817,
          0.8783920049667359,
          0.9031320095062256,
          0.9094760000705719
         ],
         "yaxis": "y4"
        },
        {
         "customdata": [
          [
           11,
           0.00460287529140793,
           0.0013878191180361707
          ],
          [
           10,
           0.0034962813876036705,
           0.0011056212525681589
          ],
          [
           10,
           0.0026474477713023603,
           0.0008371964943652019
          ],
          [
           10,
           0.004341965024593185,
           0.0013730498998503478
          ],
          [
           10,
           0.005214287261572003,
           0.0016489024120969699
          ],
          [
           10,
           0.007725506429300698,
           0.0024430196394864784
          ],
          [
           10,
           0.012998333541106237,
           0.00411043397764576
          ],
          [
           10,
           0.01181793983554629,
           0.0037371607131162004
          ],
          [
           10,
           0.13295373494251614,
           0.04204366258446668
          ]
         ],
         "error_y": {
          "array": [
           0.0013878191180361707,
           0.0011056212525681589,
           0.0008371964943652019,
           0.0013730498998503478,
           0.0016489024120969699,
           0.0024430196394864784,
           0.00411043397764576,
           0.0037371607131162004,
           0.04204366258446668
          ]
         },
         "hovertemplate": "model_name=sa=2; d=128; L=2<br>task=1task_match_patt<br>train_size=%{x}<br>Accuracy=%{y}<br># of Trials=%{customdata[0]}<br>Standard Deviation=%{customdata[1]}<br>Standard Error=%{customdata[2]}<extra></extra>",
         "legendgroup": "sa=2; d=128; L=2",
         "line": {
          "color": "#00cc96",
          "dash": "solid"
         },
         "marker": {
          "symbol": "circle"
         },
         "mode": "lines",
         "name": "sa=2; d=128; L=2",
         "orientation": "v",
         "showlegend": false,
         "type": "scatter",
         "x": [
          5000,
          7500,
          10000,
          12500,
          15000,
          17500,
          20000,
          22500,
          25000
         ],
         "xaxis": "x5",
         "y": [
          0.5025090927427466,
          0.5034750044345856,
          0.5055800020694733,
          0.5072400063276291,
          0.5079600065946579,
          0.5173199951648713,
          0.5201749980449677,
          0.5223450064659119,
          0.5953899979591369
         ],
         "yaxis": "y5"
        },
        {
         "customdata": [
          [
           10,
           0.007135260672631993,
           0.0022563675424542157
          ],
          [
           10,
           0.008998927731759835,
           0.0028457108131613833
          ],
          [
           10,
           0.021179728042969304,
           0.006697618083872358
          ],
          [
           10,
           0.03670567899021767,
           0.011607354867207719
          ],
          [
           10,
           0.08025800956888307,
           0.025379811070925896
          ],
          [
           10,
           0.08924091079091975,
           0.02822045385672048
          ],
          [
           10,
           0.09321636401673543,
           0.029477602549224602
          ],
          [
           10,
           0.08358846404258487,
           0.026432993248965395
          ],
          [
           10,
           0.06140764907422388,
           0.019418803683087762
          ],
          [
           10,
           0.04212816866638551,
           0.01332209666375164
          ]
         ],
         "error_y": {
          "array": [
           0.0022563675424542157,
           0.0028457108131613833,
           0.006697618083872358,
           0.011607354867207719,
           0.025379811070925896,
           0.02822045385672048,
           0.029477602549224602,
           0.026432993248965395,
           0.019418803683087762,
           0.01332209666375164
          ]
         },
         "hovertemplate": "model_name=sa=2; d=128; L=2<br>task=occurs<br>train_size=%{x}<br>Accuracy=%{y}<br># of Trials=%{customdata[0]}<br>Standard Deviation=%{customdata[1]}<br>Standard Error=%{customdata[2]}<extra></extra>",
         "legendgroup": "sa=2; d=128; L=2",
         "line": {
          "color": "#00cc96",
          "dash": "solid"
         },
         "marker": {
          "symbol": "circle"
         },
         "mode": "lines",
         "name": "sa=2; d=128; L=2",
         "orientation": "v",
         "showlegend": false,
         "type": "scatter",
         "x": [
          250,
          500,
          750,
          1000,
          1250,
          1500,
          1750,
          2000,
          2250,
          2500
         ],
         "xaxis": "x6",
         "y": [
          0.5303549945354462,
          0.5613949954509735,
          0.6050200045108796,
          0.6364200055599213,
          0.7125000059604645,
          0.7668449997901916,
          0.816525000333786,
          0.8277700126171113,
          0.8882250010967254,
          0.902174997329712
         ],
         "yaxis": "y6"
        },
        {
         "customdata": [
          [
           10,
           0.01986633319622596,
           0.006282286165588682
          ],
          [
           10,
           0.0409299328265892,
           0.012943181220971543
          ],
          [
           10,
           0.014393450225686869,
           0.004551608610143511
          ],
          [
           10,
           0.021823766090268124,
           0.00690128079679951
          ],
          [
           10,
           0.01352493415811271,
           0.004276959714344805
          ],
          [
           10,
           0.012393130130112173,
           0.003919051855001337
          ],
          [
           10,
           0.011984230856775682,
           0.00378974655126823
          ],
          [
           10,
           0.014787842105524902,
           0.004676326273239873
          ],
          [
           10,
           0.008470013818515944,
           0.002678453547961044
          ],
          [
           9,
           0.01236119889942642,
           0.0041203996331421406
          ]
         ],
         "error_y": {
          "array": [
           0.006282286165588682,
           0.012943181220971543,
           0.004551608610143511,
           0.00690128079679951,
           0.004276959714344805,
           0.003919051855001337,
           0.00378974655126823,
           0.004676326273239873,
           0.002678453547961044,
           0.0041203996331421406
          ]
         },
         "hovertemplate": "model_name=sa=2; d=128; L=2<br>task=same<br>train_size=%{x}<br>Accuracy=%{y}<br># of Trials=%{customdata[0]}<br>Standard Deviation=%{customdata[1]}<br>Standard Error=%{customdata[2]}<extra></extra>",
         "legendgroup": "sa=2; d=128; L=2",
         "line": {
          "color": "#00cc96",
          "dash": "solid"
         },
         "marker": {
          "symbol": "circle"
         },
         "mode": "lines",
         "name": "sa=2; d=128; L=2",
         "orientation": "v",
         "showlegend": false,
         "type": "scatter",
         "x": [
          250,
          500,
          750,
          1000,
          1250,
          1500,
          1750,
          2000,
          2250,
          2500
         ],
         "xaxis": "x",
         "y": [
          0.6414399981498718,
          0.7702050030231475,
          0.8405549943447113,
          0.8692899942398071,
          0.8958599984645843,
          0.9058900058269501,
          0.9155399978160859,
          0.9193049967288971,
          0.9269249856472015,
          0.9276055428716872
         ],
         "yaxis": "y"
        },
        {
         "customdata": [
          [
           10,
           0.005968152588364327,
           0.00188729556026606
          ],
          [
           10,
           0.005378624207235336,
           0.0017008703172981161
          ],
          [
           10,
           0.009123653798300593,
           0.002885152658547634
          ],
          [
           10,
           0.006136272975732482,
           0.001940459894785377
          ],
          [
           10,
           0.007840352039425288,
           0.002479337010213018
          ],
          [
           10,
           0.014524520854424128,
           0.004593056782259517
          ],
          [
           10,
           0.02031206946963999,
           0.006423240351563072
          ],
          [
           10,
           0.02176068968759658,
           0.00688133428689431
          ],
          [
           10,
           0.02098722280460768,
           0.006636742582398722
          ],
          [
           10,
           0.0977872244037217,
           0.03092303551817613
          ]
         ],
         "error_y": {
          "array": [
           0.00188729556026606,
           0.0017008703172981161,
           0.002885152658547634,
           0.001940459894785377,
           0.002479337010213018,
           0.004593056782259517,
           0.006423240351563072,
           0.00688133428689431,
           0.006636742582398722,
           0.03092303551817613
          ]
         },
         "hovertemplate": "model_name=sa=2; d=128; L=2<br>task=xoccurs<br>train_size=%{x}<br>Accuracy=%{y}<br># of Trials=%{customdata[0]}<br>Standard Deviation=%{customdata[1]}<br>Standard Error=%{customdata[2]}<extra></extra>",
         "legendgroup": "sa=2; d=128; L=2",
         "line": {
          "color": "#00cc96",
          "dash": "solid"
         },
         "marker": {
          "symbol": "circle"
         },
         "mode": "lines",
         "name": "sa=2; d=128; L=2",
         "orientation": "v",
         "showlegend": false,
         "type": "scatter",
         "x": [
          250,
          500,
          750,
          1000,
          1250,
          1500,
          1750,
          2000,
          2250,
          2500
         ],
         "xaxis": "x2",
         "y": [
          0.5084400057792664,
          0.5147750020027161,
          0.5274600028991699,
          0.5378899991512298,
          0.552290004491806,
          0.5510850012302398,
          0.5806100070476532,
          0.5902499973773956,
          0.5964349985122681,
          0.6540350019931793
         ],
         "yaxis": "y2"
        }
       ],
       "layout": {
        "annotations": [
         {
          "font": {},
          "showarrow": false,
          "text": "task=same",
          "x": 0.15999999999999998,
          "xanchor": "center",
          "xref": "paper",
          "y": 0.46499999999999997,
          "yanchor": "bottom",
          "yref": "paper"
         },
         {
          "font": {},
          "showarrow": false,
          "text": "task=xoccurs",
          "x": 0.49999999999999994,
          "xanchor": "center",
          "xref": "paper",
          "y": 0.46499999999999997,
          "yanchor": "bottom",
          "yref": "paper"
         },
         {
          "font": {},
          "showarrow": false,
          "text": "task=1task_between",
          "x": 0.15999999999999998,
          "xanchor": "center",
          "xref": "paper",
          "y": 0.9999999999999999,
          "yanchor": "bottom",
          "yref": "paper"
         },
         {
          "font": {},
          "showarrow": false,
          "text": "task=1task_match_patt",
          "x": 0.49999999999999994,
          "xanchor": "center",
          "xref": "paper",
          "y": 0.9999999999999999,
          "yanchor": "bottom",
          "yref": "paper"
         },
         {
          "font": {},
          "showarrow": false,
          "text": "task=occurs",
          "x": 0.8399999999999999,
          "xanchor": "center",
          "xref": "paper",
          "y": 0.9999999999999999,
          "yanchor": "bottom",
          "yref": "paper"
         }
        ],
        "height": 600,
        "legend": {
         "title": {
          "text": "model_name"
         },
         "tracegroupgap": 0
        },
        "template": {
         "data": {
          "bar": [
           {
            "error_x": {
             "color": "#2a3f5f"
            },
            "error_y": {
             "color": "#2a3f5f"
            },
            "marker": {
             "line": {
              "color": "#E5ECF6",
              "width": 0.5
             },
             "pattern": {
              "fillmode": "overlay",
              "size": 10,
              "solidity": 0.2
             }
            },
            "type": "bar"
           }
          ],
          "barpolar": [
           {
            "marker": {
             "line": {
              "color": "#E5ECF6",
              "width": 0.5
             },
             "pattern": {
              "fillmode": "overlay",
              "size": 10,
              "solidity": 0.2
             }
            },
            "type": "barpolar"
           }
          ],
          "carpet": [
           {
            "aaxis": {
             "endlinecolor": "#2a3f5f",
             "gridcolor": "white",
             "linecolor": "white",
             "minorgridcolor": "white",
             "startlinecolor": "#2a3f5f"
            },
            "baxis": {
             "endlinecolor": "#2a3f5f",
             "gridcolor": "white",
             "linecolor": "white",
             "minorgridcolor": "white",
             "startlinecolor": "#2a3f5f"
            },
            "type": "carpet"
           }
          ],
          "choropleth": [
           {
            "colorbar": {
             "outlinewidth": 0,
             "ticks": ""
            },
            "type": "choropleth"
           }
          ],
          "contour": [
           {
            "colorbar": {
             "outlinewidth": 0,
             "ticks": ""
            },
            "colorscale": [
             [
              0,
              "#0d0887"
             ],
             [
              0.1111111111111111,
              "#46039f"
             ],
             [
              0.2222222222222222,
              "#7201a8"
             ],
             [
              0.3333333333333333,
              "#9c179e"
             ],
             [
              0.4444444444444444,
              "#bd3786"
             ],
             [
              0.5555555555555556,
              "#d8576b"
             ],
             [
              0.6666666666666666,
              "#ed7953"
             ],
             [
              0.7777777777777778,
              "#fb9f3a"
             ],
             [
              0.8888888888888888,
              "#fdca26"
             ],
             [
              1,
              "#f0f921"
             ]
            ],
            "type": "contour"
           }
          ],
          "contourcarpet": [
           {
            "colorbar": {
             "outlinewidth": 0,
             "ticks": ""
            },
            "type": "contourcarpet"
           }
          ],
          "heatmap": [
           {
            "colorbar": {
             "outlinewidth": 0,
             "ticks": ""
            },
            "colorscale": [
             [
              0,
              "#0d0887"
             ],
             [
              0.1111111111111111,
              "#46039f"
             ],
             [
              0.2222222222222222,
              "#7201a8"
             ],
             [
              0.3333333333333333,
              "#9c179e"
             ],
             [
              0.4444444444444444,
              "#bd3786"
             ],
             [
              0.5555555555555556,
              "#d8576b"
             ],
             [
              0.6666666666666666,
              "#ed7953"
             ],
             [
              0.7777777777777778,
              "#fb9f3a"
             ],
             [
              0.8888888888888888,
              "#fdca26"
             ],
             [
              1,
              "#f0f921"
             ]
            ],
            "type": "heatmap"
           }
          ],
          "heatmapgl": [
           {
            "colorbar": {
             "outlinewidth": 0,
             "ticks": ""
            },
            "colorscale": [
             [
              0,
              "#0d0887"
             ],
             [
              0.1111111111111111,
              "#46039f"
             ],
             [
              0.2222222222222222,
              "#7201a8"
             ],
             [
              0.3333333333333333,
              "#9c179e"
             ],
             [
              0.4444444444444444,
              "#bd3786"
             ],
             [
              0.5555555555555556,
              "#d8576b"
             ],
             [
              0.6666666666666666,
              "#ed7953"
             ],
             [
              0.7777777777777778,
              "#fb9f3a"
             ],
             [
              0.8888888888888888,
              "#fdca26"
             ],
             [
              1,
              "#f0f921"
             ]
            ],
            "type": "heatmapgl"
           }
          ],
          "histogram": [
           {
            "marker": {
             "pattern": {
              "fillmode": "overlay",
              "size": 10,
              "solidity": 0.2
             }
            },
            "type": "histogram"
           }
          ],
          "histogram2d": [
           {
            "colorbar": {
             "outlinewidth": 0,
             "ticks": ""
            },
            "colorscale": [
             [
              0,
              "#0d0887"
             ],
             [
              0.1111111111111111,
              "#46039f"
             ],
             [
              0.2222222222222222,
              "#7201a8"
             ],
             [
              0.3333333333333333,
              "#9c179e"
             ],
             [
              0.4444444444444444,
              "#bd3786"
             ],
             [
              0.5555555555555556,
              "#d8576b"
             ],
             [
              0.6666666666666666,
              "#ed7953"
             ],
             [
              0.7777777777777778,
              "#fb9f3a"
             ],
             [
              0.8888888888888888,
              "#fdca26"
             ],
             [
              1,
              "#f0f921"
             ]
            ],
            "type": "histogram2d"
           }
          ],
          "histogram2dcontour": [
           {
            "colorbar": {
             "outlinewidth": 0,
             "ticks": ""
            },
            "colorscale": [
             [
              0,
              "#0d0887"
             ],
             [
              0.1111111111111111,
              "#46039f"
             ],
             [
              0.2222222222222222,
              "#7201a8"
             ],
             [
              0.3333333333333333,
              "#9c179e"
             ],
             [
              0.4444444444444444,
              "#bd3786"
             ],
             [
              0.5555555555555556,
              "#d8576b"
             ],
             [
              0.6666666666666666,
              "#ed7953"
             ],
             [
              0.7777777777777778,
              "#fb9f3a"
             ],
             [
              0.8888888888888888,
              "#fdca26"
             ],
             [
              1,
              "#f0f921"
             ]
            ],
            "type": "histogram2dcontour"
           }
          ],
          "mesh3d": [
           {
            "colorbar": {
             "outlinewidth": 0,
             "ticks": ""
            },
            "type": "mesh3d"
           }
          ],
          "parcoords": [
           {
            "line": {
             "colorbar": {
              "outlinewidth": 0,
              "ticks": ""
             }
            },
            "type": "parcoords"
           }
          ],
          "pie": [
           {
            "automargin": true,
            "type": "pie"
           }
          ],
          "scatter": [
           {
            "fillpattern": {
             "fillmode": "overlay",
             "size": 10,
             "solidity": 0.2
            },
            "type": "scatter"
           }
          ],
          "scatter3d": [
           {
            "line": {
             "colorbar": {
              "outlinewidth": 0,
              "ticks": ""
             }
            },
            "marker": {
             "colorbar": {
              "outlinewidth": 0,
              "ticks": ""
             }
            },
            "type": "scatter3d"
           }
          ],
          "scattercarpet": [
           {
            "marker": {
             "colorbar": {
              "outlinewidth": 0,
              "ticks": ""
             }
            },
            "type": "scattercarpet"
           }
          ],
          "scattergeo": [
           {
            "marker": {
             "colorbar": {
              "outlinewidth": 0,
              "ticks": ""
             }
            },
            "type": "scattergeo"
           }
          ],
          "scattergl": [
           {
            "marker": {
             "colorbar": {
              "outlinewidth": 0,
              "ticks": ""
             }
            },
            "type": "scattergl"
           }
          ],
          "scattermapbox": [
           {
            "marker": {
             "colorbar": {
              "outlinewidth": 0,
              "ticks": ""
             }
            },
            "type": "scattermapbox"
           }
          ],
          "scatterpolar": [
           {
            "marker": {
             "colorbar": {
              "outlinewidth": 0,
              "ticks": ""
             }
            },
            "type": "scatterpolar"
           }
          ],
          "scatterpolargl": [
           {
            "marker": {
             "colorbar": {
              "outlinewidth": 0,
              "ticks": ""
             }
            },
            "type": "scatterpolargl"
           }
          ],
          "scatterternary": [
           {
            "marker": {
             "colorbar": {
              "outlinewidth": 0,
              "ticks": ""
             }
            },
            "type": "scatterternary"
           }
          ],
          "surface": [
           {
            "colorbar": {
             "outlinewidth": 0,
             "ticks": ""
            },
            "colorscale": [
             [
              0,
              "#0d0887"
             ],
             [
              0.1111111111111111,
              "#46039f"
             ],
             [
              0.2222222222222222,
              "#7201a8"
             ],
             [
              0.3333333333333333,
              "#9c179e"
             ],
             [
              0.4444444444444444,
              "#bd3786"
             ],
             [
              0.5555555555555556,
              "#d8576b"
             ],
             [
              0.6666666666666666,
              "#ed7953"
             ],
             [
              0.7777777777777778,
              "#fb9f3a"
             ],
             [
              0.8888888888888888,
              "#fdca26"
             ],
             [
              1,
              "#f0f921"
             ]
            ],
            "type": "surface"
           }
          ],
          "table": [
           {
            "cells": {
             "fill": {
              "color": "#EBF0F8"
             },
             "line": {
              "color": "white"
             }
            },
            "header": {
             "fill": {
              "color": "#C8D4E3"
             },
             "line": {
              "color": "white"
             }
            },
            "type": "table"
           }
          ]
         },
         "layout": {
          "annotationdefaults": {
           "arrowcolor": "#2a3f5f",
           "arrowhead": 0,
           "arrowwidth": 1
          },
          "autotypenumbers": "strict",
          "coloraxis": {
           "colorbar": {
            "outlinewidth": 0,
            "ticks": ""
           }
          },
          "colorscale": {
           "diverging": [
            [
             0,
             "#8e0152"
            ],
            [
             0.1,
             "#c51b7d"
            ],
            [
             0.2,
             "#de77ae"
            ],
            [
             0.3,
             "#f1b6da"
            ],
            [
             0.4,
             "#fde0ef"
            ],
            [
             0.5,
             "#f7f7f7"
            ],
            [
             0.6,
             "#e6f5d0"
            ],
            [
             0.7,
             "#b8e186"
            ],
            [
             0.8,
             "#7fbc41"
            ],
            [
             0.9,
             "#4d9221"
            ],
            [
             1,
             "#276419"
            ]
           ],
           "sequential": [
            [
             0,
             "#0d0887"
            ],
            [
             0.1111111111111111,
             "#46039f"
            ],
            [
             0.2222222222222222,
             "#7201a8"
            ],
            [
             0.3333333333333333,
             "#9c179e"
            ],
            [
             0.4444444444444444,
             "#bd3786"
            ],
            [
             0.5555555555555556,
             "#d8576b"
            ],
            [
             0.6666666666666666,
             "#ed7953"
            ],
            [
             0.7777777777777778,
             "#fb9f3a"
            ],
            [
             0.8888888888888888,
             "#fdca26"
            ],
            [
             1,
             "#f0f921"
            ]
           ],
           "sequentialminus": [
            [
             0,
             "#0d0887"
            ],
            [
             0.1111111111111111,
             "#46039f"
            ],
            [
             0.2222222222222222,
             "#7201a8"
            ],
            [
             0.3333333333333333,
             "#9c179e"
            ],
            [
             0.4444444444444444,
             "#bd3786"
            ],
            [
             0.5555555555555556,
             "#d8576b"
            ],
            [
             0.6666666666666666,
             "#ed7953"
            ],
            [
             0.7777777777777778,
             "#fb9f3a"
            ],
            [
             0.8888888888888888,
             "#fdca26"
            ],
            [
             1,
             "#f0f921"
            ]
           ]
          },
          "colorway": [
           "#636efa",
           "#EF553B",
           "#00cc96",
           "#ab63fa",
           "#FFA15A",
           "#19d3f3",
           "#FF6692",
           "#B6E880",
           "#FF97FF",
           "#FECB52"
          ],
          "font": {
           "color": "#2a3f5f"
          },
          "geo": {
           "bgcolor": "white",
           "lakecolor": "white",
           "landcolor": "#E5ECF6",
           "showlakes": true,
           "showland": true,
           "subunitcolor": "white"
          },
          "hoverlabel": {
           "align": "left"
          },
          "hovermode": "closest",
          "mapbox": {
           "style": "light"
          },
          "paper_bgcolor": "white",
          "plot_bgcolor": "#E5ECF6",
          "polar": {
           "angularaxis": {
            "gridcolor": "white",
            "linecolor": "white",
            "ticks": ""
           },
           "bgcolor": "#E5ECF6",
           "radialaxis": {
            "gridcolor": "white",
            "linecolor": "white",
            "ticks": ""
           }
          },
          "scene": {
           "xaxis": {
            "backgroundcolor": "#E5ECF6",
            "gridcolor": "white",
            "gridwidth": 2,
            "linecolor": "white",
            "showbackground": true,
            "ticks": "",
            "zerolinecolor": "white"
           },
           "yaxis": {
            "backgroundcolor": "#E5ECF6",
            "gridcolor": "white",
            "gridwidth": 2,
            "linecolor": "white",
            "showbackground": true,
            "ticks": "",
            "zerolinecolor": "white"
           },
           "zaxis": {
            "backgroundcolor": "#E5ECF6",
            "gridcolor": "white",
            "gridwidth": 2,
            "linecolor": "white",
            "showbackground": true,
            "ticks": "",
            "zerolinecolor": "white"
           }
          },
          "shapedefaults": {
           "line": {
            "color": "#2a3f5f"
           }
          },
          "ternary": {
           "aaxis": {
            "gridcolor": "white",
            "linecolor": "white",
            "ticks": ""
           },
           "baxis": {
            "gridcolor": "white",
            "linecolor": "white",
            "ticks": ""
           },
           "bgcolor": "#E5ECF6",
           "caxis": {
            "gridcolor": "white",
            "linecolor": "white",
            "ticks": ""
           }
          },
          "title": {
           "x": 0.05
          },
          "xaxis": {
           "automargin": true,
           "gridcolor": "white",
           "linecolor": "white",
           "ticks": "",
           "title": {
            "standoff": 15
           },
           "zerolinecolor": "white",
           "zerolinewidth": 2
          },
          "yaxis": {
           "automargin": true,
           "gridcolor": "white",
           "linecolor": "white",
           "ticks": "",
           "title": {
            "standoff": 15
           },
           "zerolinecolor": "white",
           "zerolinewidth": 2
          }
         }
        },
        "title": {
         "text": "Learning curves (test/acc_hexos)"
        },
        "width": 1400,
        "xaxis": {
         "anchor": "y",
         "domain": [
          0,
          0.31999999999999995
         ],
         "showticklabels": true,
         "title": {
          "text": "train_size"
         }
        },
        "xaxis2": {
         "anchor": "y2",
         "domain": [
          0.33999999999999997,
          0.6599999999999999
         ],
         "showticklabels": true,
         "title": {
          "text": "train_size"
         }
        },
        "xaxis3": {
         "anchor": "y3",
         "domain": [
          0.6799999999999999,
          0.9999999999999999
         ],
         "showticklabels": true,
         "title": {
          "text": "train_size"
         }
        },
        "xaxis4": {
         "anchor": "y4",
         "domain": [
          0,
          0.31999999999999995
         ],
         "showticklabels": true
        },
        "xaxis5": {
         "anchor": "y5",
         "domain": [
          0.33999999999999997,
          0.6599999999999999
         ],
         "showticklabels": true
        },
        "xaxis6": {
         "anchor": "y6",
         "domain": [
          0.6799999999999999,
          0.9999999999999999
         ],
         "showticklabels": true
        },
        "yaxis": {
         "anchor": "x",
         "domain": [
          0,
          0.46499999999999997
         ],
         "showticklabels": true,
         "title": {
          "text": "Accuracy"
         }
        },
        "yaxis2": {
         "anchor": "x2",
         "domain": [
          0,
          0.46499999999999997
         ],
         "showticklabels": true
        },
        "yaxis3": {
         "anchor": "x3",
         "domain": [
          0,
          0.46499999999999997
         ],
         "showticklabels": true
        },
        "yaxis4": {
         "anchor": "x4",
         "domain": [
          0.5349999999999999,
          0.9999999999999999
         ],
         "showticklabels": true,
         "title": {
          "text": "Accuracy"
         }
        },
        "yaxis5": {
         "anchor": "x5",
         "domain": [
          0.5349999999999999,
          0.9999999999999999
         ],
         "showticklabels": true
        },
        "yaxis6": {
         "anchor": "x6",
         "domain": [
          0.5349999999999999,
          0.9999999999999999
         ],
         "showticklabels": true
        }
       }
      },
      "text/html": [
       "<div>                            <div id=\"0b096105-7166-434f-bbe1-6bf609dae9e9\" class=\"plotly-graph-div\" style=\"height:600px; width:1400px;\"></div>            <script type=\"text/javascript\">                require([\"plotly\"], function(Plotly) {                    window.PLOTLYENV=window.PLOTLYENV || {};                                    if (document.getElementById(\"0b096105-7166-434f-bbe1-6bf609dae9e9\")) {                    Plotly.newPlot(                        \"0b096105-7166-434f-bbe1-6bf609dae9e9\",                        [{\"customdata\":[[10.0,0.04079835795570359,0.012901573593487434],[10.0,0.037180477568639396,0.01175749936096999],[10.0,0.03769835440267239,0.011921266395268117],[10.0,0.016595910917337003,0.0052480878344039325],[10.0,0.010703640031089923,0.003384788175279964],[10.0,0.01368489272605154,0.004327543054939354],[10.0,0.014084772597938467,0.004453996173501256],[10.0,0.01132635783029809,0.0035817088337824843],[10.0,0.009193294577232882,0.002907175006493065],[10.0,0.013056982088424063,0.004128980276744209]],\"error_y\":{\"array\":[0.012901573593487434,0.01175749936096999,0.011921266395268117,0.0052480878344039325,0.003384788175279964,0.004327543054939354,0.004453996173501256,0.0035817088337824843,0.002907175006493065,0.004128980276744209]},\"hovertemplate\":\"model_name=sa=0; rca=2; d=128; L=2; rca_type=disentangled_v2; sym_rel=True; symbol_type=pos_sym_retriever<br>task=1task_between<br>train_size=%{x}<br>Accuracy=%{y}<br># of Trials=%{customdata[0]}<br>Standard Deviation=%{customdata[1]}<br>Standard Error=%{customdata[2]}<extra></extra>\",\"legendgroup\":\"sa=0; rca=2; d=128; L=2; rca_type=disentangled_v2; sym_rel=True; symbol_type=pos_sym_retriever\",\"line\":{\"color\":\"#636efa\",\"dash\":\"solid\"},\"marker\":{\"symbol\":\"circle\"},\"mode\":\"lines\",\"name\":\"sa=0; rca=2; d=128; L=2; rca_type=disentangled_v2; sym_rel=True; symbol_type=pos_sym_retriever\",\"orientation\":\"v\",\"showlegend\":true,\"x\":[250,500,750,1000,1250,1500,1750,2000,2250,2500],\"xaxis\":\"x4\",\"y\":[0.6035820007324219,0.7243800044059754,0.8043360054492951,0.8479720056056976,0.8627220034599304,0.8706560075283051,0.8844059944152832,0.8967220067977906,0.8903219938278198,0.9005280017852784],\"yaxis\":\"y4\",\"type\":\"scatter\"},{\"customdata\":[[11.0,0.012494323062780756,0.003767180146247988],[10.0,0.14561023931913208,0.04604600068906628],[10.0,0.1314905579711819,0.041580965399534375],[10.0,0.1295002916757964,0.04095158793516601],[10.0,0.014247926210002121,0.0045055898757617235],[10.0,0.02708796096042625,0.008565965380466913],[8.0,0.03205424404469099,0.011332886664904751],[8.0,0.027070822469922692,0.009570981070389749],[7.0,0.04114345648932283,0.015550764849764974]],\"error_y\":{\"array\":[0.003767180146247988,0.04604600068906628,0.041580965399534375,0.04095158793516601,0.0045055898757617235,0.008565965380466913,0.011332886664904751,0.009570981070389749,0.015550764849764974]},\"hovertemplate\":\"model_name=sa=0; rca=2; d=128; L=2; rca_type=disentangled_v2; sym_rel=True; symbol_type=pos_sym_retriever<br>task=1task_match_patt<br>train_size=%{x}<br>Accuracy=%{y}<br># of Trials=%{customdata[0]}<br>Standard Deviation=%{customdata[1]}<br>Standard Error=%{customdata[2]}<extra></extra>\",\"legendgroup\":\"sa=0; rca=2; d=128; L=2; rca_type=disentangled_v2; sym_rel=True; symbol_type=pos_sym_retriever\",\"line\":{\"color\":\"#636efa\",\"dash\":\"solid\"},\"marker\":{\"symbol\":\"circle\"},\"mode\":\"lines\",\"name\":\"sa=0; rca=2; d=128; L=2; rca_type=disentangled_v2; sym_rel=True; symbol_type=pos_sym_retriever\",\"orientation\":\"v\",\"showlegend\":false,\"x\":[5000,7500,10000,12500,15000,17500,20000,22500,25000],\"xaxis\":\"x5\",\"y\":[0.5172727270559832,0.6479849994182587,0.725979995727539,0.7420300006866455,0.8193549990653992,0.8218749940395356,0.8286124989390373,0.8199624940752983,0.8229499885014125],\"yaxis\":\"y5\",\"type\":\"scatter\"},{\"customdata\":[[10.0,0.020040989367771052,0.00633751729653744],[10.0,0.035276436522126975,0.011155388714427006],[10.0,0.019435930773076735,0.00614618096882797],[10.0,0.01755806791700172,0.005552348592965369],[10.0,0.018810921855701355,0.005948535795145751],[10.0,0.013670725624271558,0.004323063023992537],[10.0,0.012986639720431127,0.004106736066857468],[10.0,0.017596368398377804,0.005564460268628298],[10.0,0.013679431329145429,0.004325816009596403],[10.0,0.012931595225298399,0.00408932946913012]],\"error_y\":{\"array\":[0.00633751729653744,0.011155388714427006,0.00614618096882797,0.005552348592965369,0.005948535795145751,0.004323063023992537,0.004106736066857468,0.005564460268628298,0.004325816009596403,0.00408932946913012]},\"hovertemplate\":\"model_name=sa=0; rca=2; d=128; L=2; rca_type=disentangled_v2; sym_rel=True; symbol_type=pos_sym_retriever<br>task=occurs<br>train_size=%{x}<br>Accuracy=%{y}<br># of Trials=%{customdata[0]}<br>Standard Deviation=%{customdata[1]}<br>Standard Error=%{customdata[2]}<extra></extra>\",\"legendgroup\":\"sa=0; rca=2; d=128; L=2; rca_type=disentangled_v2; sym_rel=True; symbol_type=pos_sym_retriever\",\"line\":{\"color\":\"#636efa\",\"dash\":\"solid\"},\"marker\":{\"symbol\":\"circle\"},\"mode\":\"lines\",\"name\":\"sa=0; rca=2; d=128; L=2; rca_type=disentangled_v2; sym_rel=True; symbol_type=pos_sym_retriever\",\"orientation\":\"v\",\"showlegend\":false,\"x\":[250,500,750,1000,1250,1500,1750,2000,2250,2500],\"xaxis\":\"x6\",\"y\":[0.6130700051784516,0.7452549934387207,0.812119996547699,0.8500499963760376,0.8560599982738495,0.8630149960517883,0.881630003452301,0.8774600088596344,0.8900150060653687,0.8909700095653534],\"yaxis\":\"y6\",\"type\":\"scatter\"},{\"customdata\":[[10.0,0.024593359196608003,0.007777103037593005],[10.0,0.020556343863279522,0.00650048669735882],[10.0,0.02142590309917059,0.006775465471943961],[10.0,0.009192592096072935,0.0029069528624451864],[10.0,0.013239226139422994,0.004186610905861459],[10.0,0.015220890527707583,0.004813268208363818],[10.0,0.02091042469793712,0.006612456888691969],[10.0,0.01985116772802367,0.006277490423458473],[10.0,0.01457508110190432,0.004609045336369436],[10.0,0.02387121915110544,0.007548742304252431]],\"error_y\":{\"array\":[0.007777103037593005,0.00650048669735882,0.006775465471943961,0.0029069528624451864,0.004186610905861459,0.004813268208363818,0.006612456888691969,0.006277490423458473,0.004609045336369436,0.007548742304252431]},\"hovertemplate\":\"model_name=sa=0; rca=2; d=128; L=2; rca_type=disentangled_v2; sym_rel=True; symbol_type=pos_sym_retriever<br>task=same<br>train_size=%{x}<br>Accuracy=%{y}<br># of Trials=%{customdata[0]}<br>Standard Deviation=%{customdata[1]}<br>Standard Error=%{customdata[2]}<extra></extra>\",\"legendgroup\":\"sa=0; rca=2; d=128; L=2; rca_type=disentangled_v2; sym_rel=True; symbol_type=pos_sym_retriever\",\"line\":{\"color\":\"#636efa\",\"dash\":\"solid\"},\"marker\":{\"symbol\":\"circle\"},\"mode\":\"lines\",\"name\":\"sa=0; rca=2; d=128; L=2; rca_type=disentangled_v2; sym_rel=True; symbol_type=pos_sym_retriever\",\"orientation\":\"v\",\"showlegend\":false,\"x\":[250,500,750,1000,1250,1500,1750,2000,2250,2500],\"xaxis\":\"x\",\"y\":[0.6321950018405914,0.7217999935150147,0.7802049934864044,0.8289350032806396,0.8395099937915802,0.8637700021266937,0.87362499833107,0.8769800007343292,0.899795013666153,0.8925849974155426],\"yaxis\":\"y\",\"type\":\"scatter\"},{\"customdata\":[[10.0,0.005346237925765249,0.0016906288758592382],[10.0,0.0189843010133506,0.006003363098843053],[10.0,0.021175856497858716,0.006696393793811003],[10.0,0.038432466016384184,0.012153412870879213],[10.0,0.042387826078495214,0.013404207547112804],[10.0,0.04419615894829661,0.01397605261074492],[10.0,0.021165160643770886,0.006693011467767166],[10.0,0.014659478961352527,0.004635734282919346],[10.0,0.016983028013687076,0.00537050500896964],[10.0,0.016449764356572083,0.005201872233982197]],\"error_y\":{\"array\":[0.0016906288758592382,0.006003363098843053,0.006696393793811003,0.012153412870879213,0.013404207547112804,0.01397605261074492,0.006693011467767166,0.004635734282919346,0.00537050500896964,0.005201872233982197]},\"hovertemplate\":\"model_name=sa=0; rca=2; d=128; L=2; rca_type=disentangled_v2; sym_rel=True; symbol_type=pos_sym_retriever<br>task=xoccurs<br>train_size=%{x}<br>Accuracy=%{y}<br># of Trials=%{customdata[0]}<br>Standard Deviation=%{customdata[1]}<br>Standard Error=%{customdata[2]}<extra></extra>\",\"legendgroup\":\"sa=0; rca=2; d=128; L=2; rca_type=disentangled_v2; sym_rel=True; symbol_type=pos_sym_retriever\",\"line\":{\"color\":\"#636efa\",\"dash\":\"solid\"},\"marker\":{\"symbol\":\"circle\"},\"mode\":\"lines\",\"name\":\"sa=0; rca=2; d=128; L=2; rca_type=disentangled_v2; sym_rel=True; symbol_type=pos_sym_retriever\",\"orientation\":\"v\",\"showlegend\":false,\"x\":[250,500,750,1000,1250,1500,1750,2000,2250,2500],\"xaxis\":\"x2\",\"y\":[0.5160850048065185,0.5497300088405609,0.5968600034713745,0.6282650053501129,0.6958350121974946,0.7155049979686737,0.7560599982738495,0.7898149967193604,0.809724998474121,0.8123000025749206],\"yaxis\":\"y2\",\"type\":\"scatter\"},{\"customdata\":[[10.0,0.031329781976342286,0.009907346964173315],[10.0,0.04187513181961619,0.013242079386977834],[10.0,0.029271713943173135,0.009256528707733566],[10.0,0.025889759760889294,0.008187060891898645],[10.0,0.009488215010485994,0.0030004370362534142],[10.0,0.015619503017147486,0.00493932054540581],[10.0,0.011216569759374103,0.0035469907973788937],[10.0,0.007969083138347462,0.00252004535804207],[10.0,0.013512762778482219,0.004273110786154912],[10.0,0.013313466093994548,0.004210087640844813]],\"error_y\":{\"array\":[0.009907346964173315,0.013242079386977834,0.009256528707733566,0.008187060891898645,0.0030004370362534142,0.00493932054540581,0.0035469907973788937,0.00252004535804207,0.004273110786154912,0.004210087640844813]},\"hovertemplate\":\"model_name=sa=1; rca=1; d=128; L=2; rca_type=disentangled_v2; sym_rel=True; symbol_type=pos_sym_retriever<br>task=1task_between<br>train_size=%{x}<br>Accuracy=%{y}<br># of Trials=%{customdata[0]}<br>Standard Deviation=%{customdata[1]}<br>Standard Error=%{customdata[2]}<extra></extra>\",\"legendgroup\":\"sa=1; rca=1; d=128; L=2; rca_type=disentangled_v2; sym_rel=True; symbol_type=pos_sym_retriever\",\"line\":{\"color\":\"#EF553B\",\"dash\":\"solid\"},\"marker\":{\"symbol\":\"circle\"},\"mode\":\"lines\",\"name\":\"sa=1; rca=1; d=128; L=2; rca_type=disentangled_v2; sym_rel=True; symbol_type=pos_sym_retriever\",\"orientation\":\"v\",\"showlegend\":true,\"x\":[250,500,750,1000,1250,1500,1750,2000,2250,2500],\"xaxis\":\"x4\",\"y\":[0.6303039968013764,0.6984420001506806,0.7933759987354279,0.8387879967689514,0.8636880040168762,0.8803319990634918,0.8920279979705811,0.8969020009040832,0.9005060076713562,0.9084980010986328],\"yaxis\":\"y4\",\"type\":\"scatter\"},{\"customdata\":[[11.0,0.08397109511246131,0.025318237793025482],[10.0,0.12433512626266796,0.03931821921546497],[10.0,0.12428794909927486,0.03930330048647815],[10.0,0.14574508512104997,0.04608864267576352],[10.0,0.12119540533971021,0.03832535228208171],[10.0,0.10707501287080583,0.0338600921163591],[10.0,0.11583249258630755,0.03662945036272998],[10.0,0.08693212196603166,0.027490350724421478],[10.0,0.09798349686075324,0.03098510231879385]],\"error_y\":{\"array\":[0.025318237793025482,0.03931821921546497,0.03930330048647815,0.04608864267576352,0.03832535228208171,0.0338600921163591,0.03662945036272998,0.027490350724421478,0.03098510231879385]},\"hovertemplate\":\"model_name=sa=1; rca=1; d=128; L=2; rca_type=disentangled_v2; sym_rel=True; symbol_type=pos_sym_retriever<br>task=1task_match_patt<br>train_size=%{x}<br>Accuracy=%{y}<br># of Trials=%{customdata[0]}<br>Standard Deviation=%{customdata[1]}<br>Standard Error=%{customdata[2]}<extra></extra>\",\"legendgroup\":\"sa=1; rca=1; d=128; L=2; rca_type=disentangled_v2; sym_rel=True; symbol_type=pos_sym_retriever\",\"line\":{\"color\":\"#EF553B\",\"dash\":\"solid\"},\"marker\":{\"symbol\":\"circle\"},\"mode\":\"lines\",\"name\":\"sa=1; rca=1; d=128; L=2; rca_type=disentangled_v2; sym_rel=True; symbol_type=pos_sym_retriever\",\"orientation\":\"v\",\"showlegend\":false,\"x\":[5000,7500,10000,12500,15000,17500,20000,22500,25000],\"xaxis\":\"x5\",\"y\":[0.5319454534487291,0.5859549939632416,0.6096299946308136,0.7005000054836273,0.6912099897861481,0.7146949946880341,0.7757049918174743,0.8381300032138824,0.7877900004386902],\"yaxis\":\"y5\",\"type\":\"scatter\"},{\"customdata\":[[10.0,0.018904135572848577,0.005978012560681342],[10.0,0.03849024478509743,0.012171684121832607],[10.0,0.017944930699378536,0.005674685346391448],[10.0,0.022964546704548974,0.0072620273019688595],[10.0,0.013188446386458389,0.004170552938022575],[10.0,0.0061034319867735295,0.001930074662213104],[10.0,0.014736901328028356,0.004660217384972979],[10.0,0.013905736641722365,0.0043973800330303495],[10.0,0.014649009350246505,0.004632423501188223],[10.0,0.017503659515804033,0.005535143145802076]],\"error_y\":{\"array\":[0.005978012560681342,0.012171684121832607,0.005674685346391448,0.0072620273019688595,0.004170552938022575,0.001930074662213104,0.004660217384972979,0.0043973800330303495,0.004632423501188223,0.005535143145802076]},\"hovertemplate\":\"model_name=sa=1; rca=1; d=128; L=2; rca_type=disentangled_v2; sym_rel=True; symbol_type=pos_sym_retriever<br>task=occurs<br>train_size=%{x}<br>Accuracy=%{y}<br># of Trials=%{customdata[0]}<br>Standard Deviation=%{customdata[1]}<br>Standard Error=%{customdata[2]}<extra></extra>\",\"legendgroup\":\"sa=1; rca=1; d=128; L=2; rca_type=disentangled_v2; sym_rel=True; symbol_type=pos_sym_retriever\",\"line\":{\"color\":\"#EF553B\",\"dash\":\"solid\"},\"marker\":{\"symbol\":\"circle\"},\"mode\":\"lines\",\"name\":\"sa=1; rca=1; d=128; L=2; rca_type=disentangled_v2; sym_rel=True; symbol_type=pos_sym_retriever\",\"orientation\":\"v\",\"showlegend\":false,\"x\":[250,500,750,1000,1250,1500,1750,2000,2250,2500],\"xaxis\":\"x6\",\"y\":[0.6063149988651275,0.7344449996948242,0.8078149914741516,0.8495149970054626,0.8569500029087067,0.8728550016880036,0.8760849952697753,0.8928299963474273,0.8889450013637543,0.8925000011920929],\"yaxis\":\"y6\",\"type\":\"scatter\"},{\"customdata\":[[10.0,0.024450824912008624,0.0077320297391933355],[10.0,0.03958764622544715,0.01251871292773806],[10.0,0.021675227194529505,0.00685430867363348],[10.0,0.009141705718695436,0.0028908611770064097],[10.0,0.012853715669076142,0.004064701791047573],[10.0,0.012504146312191905,0.003954158254252128],[10.0,0.01657595894638927,0.005241778467203498],[10.0,0.009247677562326053,0.0029243724163784054],[10.0,0.02009963008519774,0.006356061119606907],[10.0,0.01514924838438106,0.004790612973427014]],\"error_y\":{\"array\":[0.0077320297391933355,0.01251871292773806,0.00685430867363348,0.0028908611770064097,0.004064701791047573,0.003954158254252128,0.005241778467203498,0.0029243724163784054,0.006356061119606907,0.004790612973427014]},\"hovertemplate\":\"model_name=sa=1; rca=1; d=128; L=2; rca_type=disentangled_v2; sym_rel=True; symbol_type=pos_sym_retriever<br>task=same<br>train_size=%{x}<br>Accuracy=%{y}<br># of Trials=%{customdata[0]}<br>Standard Deviation=%{customdata[1]}<br>Standard Error=%{customdata[2]}<extra></extra>\",\"legendgroup\":\"sa=1; rca=1; d=128; L=2; rca_type=disentangled_v2; sym_rel=True; symbol_type=pos_sym_retriever\",\"line\":{\"color\":\"#EF553B\",\"dash\":\"solid\"},\"marker\":{\"symbol\":\"circle\"},\"mode\":\"lines\",\"name\":\"sa=1; rca=1; d=128; L=2; rca_type=disentangled_v2; sym_rel=True; symbol_type=pos_sym_retriever\",\"orientation\":\"v\",\"showlegend\":false,\"x\":[250,500,750,1000,1250,1500,1750,2000,2250,2500],\"xaxis\":\"x\",\"y\":[0.6205250144004821,0.7251649916172027,0.8049749910831452,0.8559699952602386,0.8791800022125245,0.8746100008487702,0.8868300020694733,0.906029999256134,0.915215003490448,0.9197150051593781],\"yaxis\":\"y\",\"type\":\"scatter\"},{\"customdata\":[[10.0,0.00825416995012607,0.0026101977236516814],[10.0,0.01635058407308557,0.005170508674502341],[10.0,0.014083557417011333,0.004453611899551362],[10.0,0.021018358124529034,0.006646588435061673],[10.0,0.04161735260690447,0.013160562442416425],[10.0,0.04642372320964704,0.014680470280770713],[10.0,0.01827033906524214,0.005777588506971685],[10.0,0.027310299185830476,0.008636274900786639],[10.0,0.02493312344743832,0.007884545927605461],[10.0,0.028343879506883076,0.00896312169671207]],\"error_y\":{\"array\":[0.0026101977236516814,0.005170508674502341,0.004453611899551362,0.006646588435061673,0.013160562442416425,0.014680470280770713,0.005777588506971685,0.008636274900786639,0.007884545927605461,0.00896312169671207]},\"hovertemplate\":\"model_name=sa=1; rca=1; d=128; L=2; rca_type=disentangled_v2; sym_rel=True; symbol_type=pos_sym_retriever<br>task=xoccurs<br>train_size=%{x}<br>Accuracy=%{y}<br># of Trials=%{customdata[0]}<br>Standard Deviation=%{customdata[1]}<br>Standard Error=%{customdata[2]}<extra></extra>\",\"legendgroup\":\"sa=1; rca=1; d=128; L=2; rca_type=disentangled_v2; sym_rel=True; symbol_type=pos_sym_retriever\",\"line\":{\"color\":\"#EF553B\",\"dash\":\"solid\"},\"marker\":{\"symbol\":\"circle\"},\"mode\":\"lines\",\"name\":\"sa=1; rca=1; d=128; L=2; rca_type=disentangled_v2; sym_rel=True; symbol_type=pos_sym_retriever\",\"orientation\":\"v\",\"showlegend\":false,\"x\":[250,500,750,1000,1250,1500,1750,2000,2250,2500],\"xaxis\":\"x2\",\"y\":[0.516445004940033,0.5330599963665008,0.5675299882888794,0.60731999874115,0.6719899952411652,0.6780900001525879,0.7648149967193604,0.7872449934482575,0.7958750009536744,0.8058499991893768],\"yaxis\":\"y2\",\"type\":\"scatter\"},{\"customdata\":[[10.0,0.028279748244249454,0.0089428416107976],[10.0,0.0335005459819021,0.010593802816201259],[10.0,0.03290396928500146,0.010405148700082663],[10.0,0.019753079560725632,0.00624647222144113],[10.0,0.035965898231972084,0.011373415650685474],[10.0,0.01466626639923674,0.004637880659238448],[10.0,0.011532484120183381,0.0036468916899502495],[10.0,0.020574411018267732,0.006506200033419021],[10.0,0.03202732028887376,0.010127927946456299],[10.0,0.020608656760326884,0.006517029487925975]],\"error_y\":{\"array\":[0.0089428416107976,0.010593802816201259,0.010405148700082663,0.00624647222144113,0.011373415650685474,0.004637880659238448,0.0036468916899502495,0.006506200033419021,0.010127927946456299,0.006517029487925975]},\"hovertemplate\":\"model_name=sa=2; d=128; L=2<br>task=1task_between<br>train_size=%{x}<br>Accuracy=%{y}<br># of Trials=%{customdata[0]}<br>Standard Deviation=%{customdata[1]}<br>Standard Error=%{customdata[2]}<extra></extra>\",\"legendgroup\":\"sa=2; d=128; L=2\",\"line\":{\"color\":\"#00cc96\",\"dash\":\"solid\"},\"marker\":{\"symbol\":\"circle\"},\"mode\":\"lines\",\"name\":\"sa=2; d=128; L=2\",\"orientation\":\"v\",\"showlegend\":true,\"x\":[250,500,750,1000,1250,1500,1750,2000,2250,2500],\"xaxis\":\"x4\",\"y\":[0.5869000017642975,0.6533179998397827,0.7282459974288941,0.777156001329422,0.8159839987754822,0.8434879899024963,0.8591879963874817,0.8783920049667359,0.9031320095062256,0.9094760000705719],\"yaxis\":\"y4\",\"type\":\"scatter\"},{\"customdata\":[[11.0,0.00460287529140793,0.0013878191180361707],[10.0,0.0034962813876036705,0.0011056212525681589],[10.0,0.0026474477713023603,0.0008371964943652019],[10.0,0.004341965024593185,0.0013730498998503478],[10.0,0.005214287261572003,0.0016489024120969699],[10.0,0.007725506429300698,0.0024430196394864784],[10.0,0.012998333541106237,0.00411043397764576],[10.0,0.01181793983554629,0.0037371607131162004],[10.0,0.13295373494251614,0.04204366258446668]],\"error_y\":{\"array\":[0.0013878191180361707,0.0011056212525681589,0.0008371964943652019,0.0013730498998503478,0.0016489024120969699,0.0024430196394864784,0.00411043397764576,0.0037371607131162004,0.04204366258446668]},\"hovertemplate\":\"model_name=sa=2; d=128; L=2<br>task=1task_match_patt<br>train_size=%{x}<br>Accuracy=%{y}<br># of Trials=%{customdata[0]}<br>Standard Deviation=%{customdata[1]}<br>Standard Error=%{customdata[2]}<extra></extra>\",\"legendgroup\":\"sa=2; d=128; L=2\",\"line\":{\"color\":\"#00cc96\",\"dash\":\"solid\"},\"marker\":{\"symbol\":\"circle\"},\"mode\":\"lines\",\"name\":\"sa=2; d=128; L=2\",\"orientation\":\"v\",\"showlegend\":false,\"x\":[5000,7500,10000,12500,15000,17500,20000,22500,25000],\"xaxis\":\"x5\",\"y\":[0.5025090927427466,0.5034750044345856,0.5055800020694733,0.5072400063276291,0.5079600065946579,0.5173199951648713,0.5201749980449677,0.5223450064659119,0.5953899979591369],\"yaxis\":\"y5\",\"type\":\"scatter\"},{\"customdata\":[[10.0,0.007135260672631993,0.0022563675424542157],[10.0,0.008998927731759835,0.0028457108131613833],[10.0,0.021179728042969304,0.006697618083872358],[10.0,0.03670567899021767,0.011607354867207719],[10.0,0.08025800956888307,0.025379811070925896],[10.0,0.08924091079091975,0.02822045385672048],[10.0,0.09321636401673543,0.029477602549224602],[10.0,0.08358846404258487,0.026432993248965395],[10.0,0.06140764907422388,0.019418803683087762],[10.0,0.04212816866638551,0.01332209666375164]],\"error_y\":{\"array\":[0.0022563675424542157,0.0028457108131613833,0.006697618083872358,0.011607354867207719,0.025379811070925896,0.02822045385672048,0.029477602549224602,0.026432993248965395,0.019418803683087762,0.01332209666375164]},\"hovertemplate\":\"model_name=sa=2; d=128; L=2<br>task=occurs<br>train_size=%{x}<br>Accuracy=%{y}<br># of Trials=%{customdata[0]}<br>Standard Deviation=%{customdata[1]}<br>Standard Error=%{customdata[2]}<extra></extra>\",\"legendgroup\":\"sa=2; d=128; L=2\",\"line\":{\"color\":\"#00cc96\",\"dash\":\"solid\"},\"marker\":{\"symbol\":\"circle\"},\"mode\":\"lines\",\"name\":\"sa=2; d=128; L=2\",\"orientation\":\"v\",\"showlegend\":false,\"x\":[250,500,750,1000,1250,1500,1750,2000,2250,2500],\"xaxis\":\"x6\",\"y\":[0.5303549945354462,0.5613949954509735,0.6050200045108796,0.6364200055599213,0.7125000059604645,0.7668449997901916,0.816525000333786,0.8277700126171113,0.8882250010967254,0.902174997329712],\"yaxis\":\"y6\",\"type\":\"scatter\"},{\"customdata\":[[10.0,0.01986633319622596,0.006282286165588682],[10.0,0.0409299328265892,0.012943181220971543],[10.0,0.014393450225686869,0.004551608610143511],[10.0,0.021823766090268124,0.00690128079679951],[10.0,0.01352493415811271,0.004276959714344805],[10.0,0.012393130130112173,0.003919051855001337],[10.0,0.011984230856775682,0.00378974655126823],[10.0,0.014787842105524902,0.004676326273239873],[10.0,0.008470013818515944,0.002678453547961044],[9.0,0.01236119889942642,0.0041203996331421406]],\"error_y\":{\"array\":[0.006282286165588682,0.012943181220971543,0.004551608610143511,0.00690128079679951,0.004276959714344805,0.003919051855001337,0.00378974655126823,0.004676326273239873,0.002678453547961044,0.0041203996331421406]},\"hovertemplate\":\"model_name=sa=2; d=128; L=2<br>task=same<br>train_size=%{x}<br>Accuracy=%{y}<br># of Trials=%{customdata[0]}<br>Standard Deviation=%{customdata[1]}<br>Standard Error=%{customdata[2]}<extra></extra>\",\"legendgroup\":\"sa=2; d=128; L=2\",\"line\":{\"color\":\"#00cc96\",\"dash\":\"solid\"},\"marker\":{\"symbol\":\"circle\"},\"mode\":\"lines\",\"name\":\"sa=2; d=128; L=2\",\"orientation\":\"v\",\"showlegend\":false,\"x\":[250,500,750,1000,1250,1500,1750,2000,2250,2500],\"xaxis\":\"x\",\"y\":[0.6414399981498718,0.7702050030231475,0.8405549943447113,0.8692899942398071,0.8958599984645843,0.9058900058269501,0.9155399978160859,0.9193049967288971,0.9269249856472015,0.9276055428716872],\"yaxis\":\"y\",\"type\":\"scatter\"},{\"customdata\":[[10.0,0.005968152588364327,0.00188729556026606],[10.0,0.005378624207235336,0.0017008703172981161],[10.0,0.009123653798300593,0.002885152658547634],[10.0,0.006136272975732482,0.001940459894785377],[10.0,0.007840352039425288,0.002479337010213018],[10.0,0.014524520854424128,0.004593056782259517],[10.0,0.02031206946963999,0.006423240351563072],[10.0,0.02176068968759658,0.00688133428689431],[10.0,0.02098722280460768,0.006636742582398722],[10.0,0.0977872244037217,0.03092303551817613]],\"error_y\":{\"array\":[0.00188729556026606,0.0017008703172981161,0.002885152658547634,0.001940459894785377,0.002479337010213018,0.004593056782259517,0.006423240351563072,0.00688133428689431,0.006636742582398722,0.03092303551817613]},\"hovertemplate\":\"model_name=sa=2; d=128; L=2<br>task=xoccurs<br>train_size=%{x}<br>Accuracy=%{y}<br># of Trials=%{customdata[0]}<br>Standard Deviation=%{customdata[1]}<br>Standard Error=%{customdata[2]}<extra></extra>\",\"legendgroup\":\"sa=2; d=128; L=2\",\"line\":{\"color\":\"#00cc96\",\"dash\":\"solid\"},\"marker\":{\"symbol\":\"circle\"},\"mode\":\"lines\",\"name\":\"sa=2; d=128; L=2\",\"orientation\":\"v\",\"showlegend\":false,\"x\":[250,500,750,1000,1250,1500,1750,2000,2250,2500],\"xaxis\":\"x2\",\"y\":[0.5084400057792664,0.5147750020027161,0.5274600028991699,0.5378899991512298,0.552290004491806,0.5510850012302398,0.5806100070476532,0.5902499973773956,0.5964349985122681,0.6540350019931793],\"yaxis\":\"y2\",\"type\":\"scatter\"}],                        {\"template\":{\"data\":{\"histogram2dcontour\":[{\"type\":\"histogram2dcontour\",\"colorbar\":{\"outlinewidth\":0,\"ticks\":\"\"},\"colorscale\":[[0.0,\"#0d0887\"],[0.1111111111111111,\"#46039f\"],[0.2222222222222222,\"#7201a8\"],[0.3333333333333333,\"#9c179e\"],[0.4444444444444444,\"#bd3786\"],[0.5555555555555556,\"#d8576b\"],[0.6666666666666666,\"#ed7953\"],[0.7777777777777778,\"#fb9f3a\"],[0.8888888888888888,\"#fdca26\"],[1.0,\"#f0f921\"]]}],\"choropleth\":[{\"type\":\"choropleth\",\"colorbar\":{\"outlinewidth\":0,\"ticks\":\"\"}}],\"histogram2d\":[{\"type\":\"histogram2d\",\"colorbar\":{\"outlinewidth\":0,\"ticks\":\"\"},\"colorscale\":[[0.0,\"#0d0887\"],[0.1111111111111111,\"#46039f\"],[0.2222222222222222,\"#7201a8\"],[0.3333333333333333,\"#9c179e\"],[0.4444444444444444,\"#bd3786\"],[0.5555555555555556,\"#d8576b\"],[0.6666666666666666,\"#ed7953\"],[0.7777777777777778,\"#fb9f3a\"],[0.8888888888888888,\"#fdca26\"],[1.0,\"#f0f921\"]]}],\"heatmap\":[{\"type\":\"heatmap\",\"colorbar\":{\"outlinewidth\":0,\"ticks\":\"\"},\"colorscale\":[[0.0,\"#0d0887\"],[0.1111111111111111,\"#46039f\"],[0.2222222222222222,\"#7201a8\"],[0.3333333333333333,\"#9c179e\"],[0.4444444444444444,\"#bd3786\"],[0.5555555555555556,\"#d8576b\"],[0.6666666666666666,\"#ed7953\"],[0.7777777777777778,\"#fb9f3a\"],[0.8888888888888888,\"#fdca26\"],[1.0,\"#f0f921\"]]}],\"heatmapgl\":[{\"type\":\"heatmapgl\",\"colorbar\":{\"outlinewidth\":0,\"ticks\":\"\"},\"colorscale\":[[0.0,\"#0d0887\"],[0.1111111111111111,\"#46039f\"],[0.2222222222222222,\"#7201a8\"],[0.3333333333333333,\"#9c179e\"],[0.4444444444444444,\"#bd3786\"],[0.5555555555555556,\"#d8576b\"],[0.6666666666666666,\"#ed7953\"],[0.7777777777777778,\"#fb9f3a\"],[0.8888888888888888,\"#fdca26\"],[1.0,\"#f0f921\"]]}],\"contourcarpet\":[{\"type\":\"contourcarpet\",\"colorbar\":{\"outlinewidth\":0,\"ticks\":\"\"}}],\"contour\":[{\"type\":\"contour\",\"colorbar\":{\"outlinewidth\":0,\"ticks\":\"\"},\"colorscale\":[[0.0,\"#0d0887\"],[0.1111111111111111,\"#46039f\"],[0.2222222222222222,\"#7201a8\"],[0.3333333333333333,\"#9c179e\"],[0.4444444444444444,\"#bd3786\"],[0.5555555555555556,\"#d8576b\"],[0.6666666666666666,\"#ed7953\"],[0.7777777777777778,\"#fb9f3a\"],[0.8888888888888888,\"#fdca26\"],[1.0,\"#f0f921\"]]}],\"surface\":[{\"type\":\"surface\",\"colorbar\":{\"outlinewidth\":0,\"ticks\":\"\"},\"colorscale\":[[0.0,\"#0d0887\"],[0.1111111111111111,\"#46039f\"],[0.2222222222222222,\"#7201a8\"],[0.3333333333333333,\"#9c179e\"],[0.4444444444444444,\"#bd3786\"],[0.5555555555555556,\"#d8576b\"],[0.6666666666666666,\"#ed7953\"],[0.7777777777777778,\"#fb9f3a\"],[0.8888888888888888,\"#fdca26\"],[1.0,\"#f0f921\"]]}],\"mesh3d\":[{\"type\":\"mesh3d\",\"colorbar\":{\"outlinewidth\":0,\"ticks\":\"\"}}],\"scatter\":[{\"fillpattern\":{\"fillmode\":\"overlay\",\"size\":10,\"solidity\":0.2},\"type\":\"scatter\"}],\"parcoords\":[{\"type\":\"parcoords\",\"line\":{\"colorbar\":{\"outlinewidth\":0,\"ticks\":\"\"}}}],\"scatterpolargl\":[{\"type\":\"scatterpolargl\",\"marker\":{\"colorbar\":{\"outlinewidth\":0,\"ticks\":\"\"}}}],\"bar\":[{\"error_x\":{\"color\":\"#2a3f5f\"},\"error_y\":{\"color\":\"#2a3f5f\"},\"marker\":{\"line\":{\"color\":\"#E5ECF6\",\"width\":0.5},\"pattern\":{\"fillmode\":\"overlay\",\"size\":10,\"solidity\":0.2}},\"type\":\"bar\"}],\"scattergeo\":[{\"type\":\"scattergeo\",\"marker\":{\"colorbar\":{\"outlinewidth\":0,\"ticks\":\"\"}}}],\"scatterpolar\":[{\"type\":\"scatterpolar\",\"marker\":{\"colorbar\":{\"outlinewidth\":0,\"ticks\":\"\"}}}],\"histogram\":[{\"marker\":{\"pattern\":{\"fillmode\":\"overlay\",\"size\":10,\"solidity\":0.2}},\"type\":\"histogram\"}],\"scattergl\":[{\"type\":\"scattergl\",\"marker\":{\"colorbar\":{\"outlinewidth\":0,\"ticks\":\"\"}}}],\"scatter3d\":[{\"type\":\"scatter3d\",\"line\":{\"colorbar\":{\"outlinewidth\":0,\"ticks\":\"\"}},\"marker\":{\"colorbar\":{\"outlinewidth\":0,\"ticks\":\"\"}}}],\"scattermapbox\":[{\"type\":\"scattermapbox\",\"marker\":{\"colorbar\":{\"outlinewidth\":0,\"ticks\":\"\"}}}],\"scatterternary\":[{\"type\":\"scatterternary\",\"marker\":{\"colorbar\":{\"outlinewidth\":0,\"ticks\":\"\"}}}],\"scattercarpet\":[{\"type\":\"scattercarpet\",\"marker\":{\"colorbar\":{\"outlinewidth\":0,\"ticks\":\"\"}}}],\"carpet\":[{\"aaxis\":{\"endlinecolor\":\"#2a3f5f\",\"gridcolor\":\"white\",\"linecolor\":\"white\",\"minorgridcolor\":\"white\",\"startlinecolor\":\"#2a3f5f\"},\"baxis\":{\"endlinecolor\":\"#2a3f5f\",\"gridcolor\":\"white\",\"linecolor\":\"white\",\"minorgridcolor\":\"white\",\"startlinecolor\":\"#2a3f5f\"},\"type\":\"carpet\"}],\"table\":[{\"cells\":{\"fill\":{\"color\":\"#EBF0F8\"},\"line\":{\"color\":\"white\"}},\"header\":{\"fill\":{\"color\":\"#C8D4E3\"},\"line\":{\"color\":\"white\"}},\"type\":\"table\"}],\"barpolar\":[{\"marker\":{\"line\":{\"color\":\"#E5ECF6\",\"width\":0.5},\"pattern\":{\"fillmode\":\"overlay\",\"size\":10,\"solidity\":0.2}},\"type\":\"barpolar\"}],\"pie\":[{\"automargin\":true,\"type\":\"pie\"}]},\"layout\":{\"autotypenumbers\":\"strict\",\"colorway\":[\"#636efa\",\"#EF553B\",\"#00cc96\",\"#ab63fa\",\"#FFA15A\",\"#19d3f3\",\"#FF6692\",\"#B6E880\",\"#FF97FF\",\"#FECB52\"],\"font\":{\"color\":\"#2a3f5f\"},\"hovermode\":\"closest\",\"hoverlabel\":{\"align\":\"left\"},\"paper_bgcolor\":\"white\",\"plot_bgcolor\":\"#E5ECF6\",\"polar\":{\"bgcolor\":\"#E5ECF6\",\"angularaxis\":{\"gridcolor\":\"white\",\"linecolor\":\"white\",\"ticks\":\"\"},\"radialaxis\":{\"gridcolor\":\"white\",\"linecolor\":\"white\",\"ticks\":\"\"}},\"ternary\":{\"bgcolor\":\"#E5ECF6\",\"aaxis\":{\"gridcolor\":\"white\",\"linecolor\":\"white\",\"ticks\":\"\"},\"baxis\":{\"gridcolor\":\"white\",\"linecolor\":\"white\",\"ticks\":\"\"},\"caxis\":{\"gridcolor\":\"white\",\"linecolor\":\"white\",\"ticks\":\"\"}},\"coloraxis\":{\"colorbar\":{\"outlinewidth\":0,\"ticks\":\"\"}},\"colorscale\":{\"sequential\":[[0.0,\"#0d0887\"],[0.1111111111111111,\"#46039f\"],[0.2222222222222222,\"#7201a8\"],[0.3333333333333333,\"#9c179e\"],[0.4444444444444444,\"#bd3786\"],[0.5555555555555556,\"#d8576b\"],[0.6666666666666666,\"#ed7953\"],[0.7777777777777778,\"#fb9f3a\"],[0.8888888888888888,\"#fdca26\"],[1.0,\"#f0f921\"]],\"sequentialminus\":[[0.0,\"#0d0887\"],[0.1111111111111111,\"#46039f\"],[0.2222222222222222,\"#7201a8\"],[0.3333333333333333,\"#9c179e\"],[0.4444444444444444,\"#bd3786\"],[0.5555555555555556,\"#d8576b\"],[0.6666666666666666,\"#ed7953\"],[0.7777777777777778,\"#fb9f3a\"],[0.8888888888888888,\"#fdca26\"],[1.0,\"#f0f921\"]],\"diverging\":[[0,\"#8e0152\"],[0.1,\"#c51b7d\"],[0.2,\"#de77ae\"],[0.3,\"#f1b6da\"],[0.4,\"#fde0ef\"],[0.5,\"#f7f7f7\"],[0.6,\"#e6f5d0\"],[0.7,\"#b8e186\"],[0.8,\"#7fbc41\"],[0.9,\"#4d9221\"],[1,\"#276419\"]]},\"xaxis\":{\"gridcolor\":\"white\",\"linecolor\":\"white\",\"ticks\":\"\",\"title\":{\"standoff\":15},\"zerolinecolor\":\"white\",\"automargin\":true,\"zerolinewidth\":2},\"yaxis\":{\"gridcolor\":\"white\",\"linecolor\":\"white\",\"ticks\":\"\",\"title\":{\"standoff\":15},\"zerolinecolor\":\"white\",\"automargin\":true,\"zerolinewidth\":2},\"scene\":{\"xaxis\":{\"backgroundcolor\":\"#E5ECF6\",\"gridcolor\":\"white\",\"linecolor\":\"white\",\"showbackground\":true,\"ticks\":\"\",\"zerolinecolor\":\"white\",\"gridwidth\":2},\"yaxis\":{\"backgroundcolor\":\"#E5ECF6\",\"gridcolor\":\"white\",\"linecolor\":\"white\",\"showbackground\":true,\"ticks\":\"\",\"zerolinecolor\":\"white\",\"gridwidth\":2},\"zaxis\":{\"backgroundcolor\":\"#E5ECF6\",\"gridcolor\":\"white\",\"linecolor\":\"white\",\"showbackground\":true,\"ticks\":\"\",\"zerolinecolor\":\"white\",\"gridwidth\":2}},\"shapedefaults\":{\"line\":{\"color\":\"#2a3f5f\"}},\"annotationdefaults\":{\"arrowcolor\":\"#2a3f5f\",\"arrowhead\":0,\"arrowwidth\":1},\"geo\":{\"bgcolor\":\"white\",\"landcolor\":\"#E5ECF6\",\"subunitcolor\":\"white\",\"showland\":true,\"showlakes\":true,\"lakecolor\":\"white\"},\"title\":{\"x\":0.05},\"mapbox\":{\"style\":\"light\"}}},\"xaxis\":{\"anchor\":\"y\",\"domain\":[0.0,0.31999999999999995],\"title\":{\"text\":\"train_size\"},\"showticklabels\":true},\"yaxis\":{\"anchor\":\"x\",\"domain\":[0.0,0.46499999999999997],\"title\":{\"text\":\"Accuracy\"},\"showticklabels\":true},\"xaxis2\":{\"anchor\":\"y2\",\"domain\":[0.33999999999999997,0.6599999999999999],\"title\":{\"text\":\"train_size\"},\"showticklabels\":true},\"yaxis2\":{\"anchor\":\"x2\",\"domain\":[0.0,0.46499999999999997],\"showticklabels\":true},\"xaxis3\":{\"anchor\":\"y3\",\"domain\":[0.6799999999999999,0.9999999999999999],\"title\":{\"text\":\"train_size\"},\"showticklabels\":true},\"yaxis3\":{\"anchor\":\"x3\",\"domain\":[0.0,0.46499999999999997],\"showticklabels\":true},\"xaxis4\":{\"anchor\":\"y4\",\"domain\":[0.0,0.31999999999999995],\"showticklabels\":true},\"yaxis4\":{\"anchor\":\"x4\",\"domain\":[0.5349999999999999,0.9999999999999999],\"title\":{\"text\":\"Accuracy\"},\"showticklabels\":true},\"xaxis5\":{\"anchor\":\"y5\",\"domain\":[0.33999999999999997,0.6599999999999999],\"showticklabels\":true},\"yaxis5\":{\"anchor\":\"x5\",\"domain\":[0.5349999999999999,0.9999999999999999],\"showticklabels\":true},\"xaxis6\":{\"anchor\":\"y6\",\"domain\":[0.6799999999999999,0.9999999999999999],\"showticklabels\":true},\"yaxis6\":{\"anchor\":\"x6\",\"domain\":[0.5349999999999999,0.9999999999999999],\"showticklabels\":true},\"annotations\":[{\"font\":{},\"showarrow\":false,\"text\":\"task=same\",\"x\":0.15999999999999998,\"xanchor\":\"center\",\"xref\":\"paper\",\"y\":0.46499999999999997,\"yanchor\":\"bottom\",\"yref\":\"paper\"},{\"font\":{},\"showarrow\":false,\"text\":\"task=xoccurs\",\"x\":0.49999999999999994,\"xanchor\":\"center\",\"xref\":\"paper\",\"y\":0.46499999999999997,\"yanchor\":\"bottom\",\"yref\":\"paper\"},{\"font\":{},\"showarrow\":false,\"text\":\"task=1task_between\",\"x\":0.15999999999999998,\"xanchor\":\"center\",\"xref\":\"paper\",\"y\":0.9999999999999999,\"yanchor\":\"bottom\",\"yref\":\"paper\"},{\"font\":{},\"showarrow\":false,\"text\":\"task=1task_match_patt\",\"x\":0.49999999999999994,\"xanchor\":\"center\",\"xref\":\"paper\",\"y\":0.9999999999999999,\"yanchor\":\"bottom\",\"yref\":\"paper\"},{\"font\":{},\"showarrow\":false,\"text\":\"task=occurs\",\"x\":0.8399999999999999,\"xanchor\":\"center\",\"xref\":\"paper\",\"y\":0.9999999999999999,\"yanchor\":\"bottom\",\"yref\":\"paper\"}],\"legend\":{\"title\":{\"text\":\"model_name\"},\"tracegroupgap\":0},\"title\":{\"text\":\"Learning curves (test/acc_hexos)\"},\"height\":600,\"width\":1400},                        {\"responsive\": true}                    ).then(function(){\n",
       "                            \n",
       "var gd = document.getElementById('0b096105-7166-434f-bbe1-6bf609dae9e9');\n",
       "var x = new MutationObserver(function (mutations, observer) {{\n",
       "        var display = window.getComputedStyle(gd).display;\n",
       "        if (!display || display === 'none') {{\n",
       "            console.log([gd, 'removed!']);\n",
       "            Plotly.purge(gd);\n",
       "            observer.disconnect();\n",
       "        }}\n",
       "}});\n",
       "\n",
       "// Listen for the removal of the full notebook cells\n",
       "var notebookContainer = gd.closest('#notebook-container');\n",
       "if (notebookContainer) {{\n",
       "    x.observe(notebookContainer, {childList: true});\n",
       "}}\n",
       "\n",
       "// Listen for the clearing of the current output cell\n",
       "var outputEl = gd.closest('.output');\n",
       "if (outputEl) {{\n",
       "    x.observe(outputEl, {childList: true});\n",
       "}}\n",
       "\n",
       "                        })                };                });            </script>        </div>"
      ]
     },
     "metadata": {},
     "output_type": "display_data"
    }
   ],
   "source": [
    "metric = 'test/acc_hexos'\n",
    "agg_df = project_df_.groupby(['model_name', 'task', 'train_size'])[metric].aggregate(['mean', 'std', 'sem', 'count']).reset_index()\n",
    "agg_df.rename(columns={'mean': 'Accuracy', 'sem': 'Standard Error', 'std': 'Standard Deviation', 'count': '# of Trials'}, inplace=True)\n",
    "hover_data = ['# of Trials', 'Standard Deviation', 'Standard Error']\n",
    "fig = px.line(\n",
    "    agg_df, x='train_size', y='Accuracy', error_y='Standard Error', color='model_name', hover_data=hover_data, facet_col='task',\n",
    "    facet_col_wrap=3, title=f'Learning curves ({metric})', width=1400, height=600)\n",
    "fig.update_xaxes(matches=None)\n",
    "fig.update_yaxes(showticklabels=True, col=1)\n",
    "fig.update_yaxes(showticklabels=True, col=2)\n",
    "fig.update_yaxes(showticklabels=True, col=3)\n",
    "fig.update_xaxes(showticklabels=True, col=1)\n",
    "fig.update_xaxes(showticklabels=True, col=2)\n",
    "fig.update_xaxes(showticklabels=True, col=3)\n",
    "fig.update_yaxes(matches=None)\n",
    "fig.show()"
   ]
  },
  {
   "cell_type": "code",
   "execution_count": 123,
   "metadata": {},
   "outputs": [
    {
     "data": {
      "application/vnd.plotly.v1+json": {
       "config": {
        "plotlyServerURL": "https://plot.ly"
       },
       "data": [
        {
         "customdata": [
          [
           10,
           0.05014296983454198,
           0.015856599332226905
          ],
          [
           10,
           0.04871715810116194,
           0.01540571807301954
          ],
          [
           10,
           0.04671295659903486,
           0.014771933909354301
          ],
          [
           10,
           0.03439206788136961,
           0.010875726794824955
          ],
          [
           10,
           0.016040171654350274,
           0.005072347648781794
          ],
          [
           10,
           0.02497759167669885,
           0.007898608016403243
          ],
          [
           10,
           0.022963710223360818,
           0.007261762783391414
          ],
          [
           10,
           0.01433710649893726,
           0.004533791159304418
          ],
          [
           10,
           0.016622660939825912,
           0.0052565469342565
          ],
          [
           10,
           0.01303552746459984,
           0.004122195728981543
          ]
         ],
         "error_y": {
          "array": [
           0.015856599332226905,
           0.01540571807301954,
           0.014771933909354301,
           0.010875726794824955,
           0.005072347648781794,
           0.007898608016403243,
           0.007261762783391414,
           0.004533791159304418,
           0.0052565469342565,
           0.004122195728981543
          ]
         },
         "hovertemplate": "model_name=sa=0; rca=2; d=128; L=2; rca_type=disentangled_v2; sym_rel=True; symbol_type=pos_sym_retriever<br>task=1task_between<br>train_size=%{x}<br>Accuracy=%{y}<br># of Trials=%{customdata[0]}<br>Standard Deviation=%{customdata[1]}<br>Standard Error=%{customdata[2]}<extra></extra>",
         "legendgroup": "sa=0; rca=2; d=128; L=2; rca_type=disentangled_v2; sym_rel=True; symbol_type=pos_sym_retriever",
         "line": {
          "color": "#636efa",
          "dash": "solid"
         },
         "marker": {
          "symbol": "circle"
         },
         "mode": "lines",
         "name": "sa=0; rca=2; d=128; L=2; rca_type=disentangled_v2; sym_rel=True; symbol_type=pos_sym_retriever",
         "orientation": "v",
         "showlegend": true,
         "type": "scatter",
         "x": [
          250,
          500,
          750,
          1000,
          1250,
          1500,
          1750,
          2000,
          2250,
          2500
         ],
         "xaxis": "x4",
         "y": [
          0.5901979982852936,
          0.6568400025367737,
          0.7597220003604889,
          0.8063819944858551,
          0.8184080004692078,
          0.839383989572525,
          0.867492002248764,
          0.8786740064620971,
          0.8911920011043548,
          0.8909540057182312
         ],
         "yaxis": "y4"
        },
        {
         "customdata": [
          [
           11,
           0.014389906897166169,
           0.004338720176913407
          ],
          [
           10,
           0.07717890548080893,
           0.024406112863820894
          ],
          [
           10,
           0.062402034253727104,
           0.01973325588696232
          ],
          [
           10,
           0.06446532372471148,
           0.020385725307017773
          ],
          [
           10,
           0.02743459258546277,
           0.008675579924882998
          ],
          [
           10,
           0.05103341538345332,
           0.016138182938918774
          ],
          [
           8,
           0.0581000880417436,
           0.02054148312092617
          ],
          [
           8,
           0.03904302447009122,
           0.013803793680416905
          ],
          [
           7,
           0.05630310808155102,
           0.021280574574824993
          ]
         ],
         "error_y": {
          "array": [
           0.004338720176913407,
           0.024406112863820894,
           0.01973325588696232,
           0.020385725307017773,
           0.008675579924882998,
           0.016138182938918774,
           0.02054148312092617,
           0.013803793680416905,
           0.021280574574824993
          ]
         },
         "hovertemplate": "model_name=sa=0; rca=2; d=128; L=2; rca_type=disentangled_v2; sym_rel=True; symbol_type=pos_sym_retriever<br>task=1task_match_patt<br>train_size=%{x}<br>Accuracy=%{y}<br># of Trials=%{customdata[0]}<br>Standard Deviation=%{customdata[1]}<br>Standard Error=%{customdata[2]}<extra></extra>",
         "legendgroup": "sa=0; rca=2; d=128; L=2; rca_type=disentangled_v2; sym_rel=True; symbol_type=pos_sym_retriever",
         "line": {
          "color": "#636efa",
          "dash": "solid"
         },
         "marker": {
          "symbol": "circle"
         },
         "mode": "lines",
         "name": "sa=0; rca=2; d=128; L=2; rca_type=disentangled_v2; sym_rel=True; symbol_type=pos_sym_retriever",
         "orientation": "v",
         "showlegend": false,
         "type": "scatter",
         "x": [
          5000,
          7500,
          10000,
          12500,
          15000,
          17500,
          20000,
          22500,
          25000
         ],
         "xaxis": "x5",
         "y": [
          0.5166909044439142,
          0.5821549892425537,
          0.6160600125789643,
          0.6236949980258941,
          0.6208450019359588,
          0.6147400140762329,
          0.6167750060558319,
          0.6005812585353851,
          0.6021785821233477
         ],
         "yaxis": "y5"
        },
        {
         "customdata": [
          [
           10,
           0.03926808863787931,
           0.012417659945707751
          ],
          [
           10,
           0.05772234671572965,
           0.01825340875116455
          ],
          [
           10,
           0.04945690663527421,
           0.01563964709937609
          ],
          [
           10,
           0.05263255591370371,
           0.016643875576346837
          ],
          [
           10,
           0.02700185510150831,
           0.008538736317060333
          ],
          [
           10,
           0.03530263851553752,
           0.01116367451226841
          ],
          [
           10,
           0.031185857881537212,
           0.009861834169197111
          ],
          [
           10,
           0.047020558310578414,
           0.014869206111418676
          ],
          [
           10,
           0.019869003467551983,
           0.006283130579524771
          ],
          [
           10,
           0.028560667525607538,
           0.009031676087572523
          ]
         ],
         "error_y": {
          "array": [
           0.012417659945707751,
           0.01825340875116455,
           0.01563964709937609,
           0.016643875576346837,
           0.008538736317060333,
           0.01116367451226841,
           0.009861834169197111,
           0.014869206111418676,
           0.006283130579524771,
           0.009031676087572523
          ]
         },
         "hovertemplate": "model_name=sa=0; rca=2; d=128; L=2; rca_type=disentangled_v2; sym_rel=True; symbol_type=pos_sym_retriever<br>task=occurs<br>train_size=%{x}<br>Accuracy=%{y}<br># of Trials=%{customdata[0]}<br>Standard Deviation=%{customdata[1]}<br>Standard Error=%{customdata[2]}<extra></extra>",
         "legendgroup": "sa=0; rca=2; d=128; L=2; rca_type=disentangled_v2; sym_rel=True; symbol_type=pos_sym_retriever",
         "line": {
          "color": "#636efa",
          "dash": "solid"
         },
         "marker": {
          "symbol": "circle"
         },
         "mode": "lines",
         "name": "sa=0; rca=2; d=128; L=2; rca_type=disentangled_v2; sym_rel=True; symbol_type=pos_sym_retriever",
         "orientation": "v",
         "showlegend": false,
         "type": "scatter",
         "x": [
          250,
          500,
          750,
          1000,
          1250,
          1500,
          1750,
          2000,
          2250,
          2500
         ],
         "xaxis": "x6",
         "y": [
          0.5794799983501434,
          0.6560500025749206,
          0.7264499962329865,
          0.7528500020503998,
          0.7854399919509888,
          0.7820300042629242,
          0.813540005683899,
          0.8090400040149689,
          0.8341650009155274,
          0.8202149987220764
         ],
         "yaxis": "y6"
        },
        {
         "customdata": [
          [
           10,
           0.04928564782469469,
           0.015585490308295829
          ],
          [
           10,
           0.0353876792797361,
           0.011190566763151291
          ],
          [
           10,
           0.032517598624274995,
           0.010282967569186683
          ],
          [
           10,
           0.02191271432279765,
           0.006929408697663468
          ],
          [
           10,
           0.04101307077670448,
           0.012969471749207718
          ],
          [
           10,
           0.04681735902680209,
           0.014804948855853867
          ],
          [
           10,
           0.03647007163338126,
           0.011532849279098206
          ],
          [
           10,
           0.02921686192869686,
           0.009239182977734212
          ],
          [
           10,
           0.04971949360442786,
           0.015722684390016683
          ],
          [
           10,
           0.02555811034599022,
           0.00808218413832432
          ]
         ],
         "error_y": {
          "array": [
           0.015585490308295829,
           0.011190566763151291,
           0.010282967569186683,
           0.006929408697663468,
           0.012969471749207718,
           0.014804948855853867,
           0.011532849279098206,
           0.009239182977734212,
           0.015722684390016683,
           0.00808218413832432
          ]
         },
         "hovertemplate": "model_name=sa=0; rca=2; d=128; L=2; rca_type=disentangled_v2; sym_rel=True; symbol_type=pos_sym_retriever<br>task=same<br>train_size=%{x}<br>Accuracy=%{y}<br># of Trials=%{customdata[0]}<br>Standard Deviation=%{customdata[1]}<br>Standard Error=%{customdata[2]}<extra></extra>",
         "legendgroup": "sa=0; rca=2; d=128; L=2; rca_type=disentangled_v2; sym_rel=True; symbol_type=pos_sym_retriever",
         "line": {
          "color": "#636efa",
          "dash": "solid"
         },
         "marker": {
          "symbol": "circle"
         },
         "mode": "lines",
         "name": "sa=0; rca=2; d=128; L=2; rca_type=disentangled_v2; sym_rel=True; symbol_type=pos_sym_retriever",
         "orientation": "v",
         "showlegend": false,
         "type": "scatter",
         "x": [
          250,
          500,
          750,
          1000,
          1250,
          1500,
          1750,
          2000,
          2250,
          2500
         ],
         "xaxis": "x",
         "y": [
          0.5978650093078614,
          0.7034349977970124,
          0.7453900098800659,
          0.8114099979400635,
          0.8053100049495697,
          0.8293050050735473,
          0.8572150051593781,
          0.8653199970722198,
          0.8709699928760528,
          0.8875600039958954
         ],
         "yaxis": "y"
        },
        {
         "customdata": [
          [
           10,
           0.011596220813042195,
           0.0036670470019462935
          ],
          [
           10,
           0.024756021385208042,
           0.007828541338109405
          ],
          [
           10,
           0.026348937274564783,
           0.008332265571253411
          ],
          [
           10,
           0.03727845753602267,
           0.011788483347170005
          ],
          [
           10,
           0.049274567129083784,
           0.01558198628467688
          ],
          [
           10,
           0.03259906758081931,
           0.010308730315314416
          ],
          [
           10,
           0.05135238836115384,
           0.016239051051076748
          ],
          [
           10,
           0.032547163008547556,
           0.01029231664837886
          ],
          [
           10,
           0.02211226729253737,
           0.006992512887486286
          ],
          [
           10,
           0.023398608415155477,
           0.007399289667027401
          ]
         ],
         "error_y": {
          "array": [
           0.0036670470019462935,
           0.007828541338109405,
           0.008332265571253411,
           0.011788483347170005,
           0.01558198628467688,
           0.010308730315314416,
           0.016239051051076748,
           0.01029231664837886,
           0.006992512887486286,
           0.007399289667027401
          ]
         },
         "hovertemplate": "model_name=sa=0; rca=2; d=128; L=2; rca_type=disentangled_v2; sym_rel=True; symbol_type=pos_sym_retriever<br>task=xoccurs<br>train_size=%{x}<br>Accuracy=%{y}<br># of Trials=%{customdata[0]}<br>Standard Deviation=%{customdata[1]}<br>Standard Error=%{customdata[2]}<extra></extra>",
         "legendgroup": "sa=0; rca=2; d=128; L=2; rca_type=disentangled_v2; sym_rel=True; symbol_type=pos_sym_retriever",
         "line": {
          "color": "#636efa",
          "dash": "solid"
         },
         "marker": {
          "symbol": "circle"
         },
         "mode": "lines",
         "name": "sa=0; rca=2; d=128; L=2; rca_type=disentangled_v2; sym_rel=True; symbol_type=pos_sym_retriever",
         "orientation": "v",
         "showlegend": false,
         "type": "scatter",
         "x": [
          250,
          500,
          750,
          1000,
          1250,
          1500,
          1750,
          2000,
          2250,
          2500
         ],
         "xaxis": "x2",
         "y": [
          0.5129650086164474,
          0.5492049992084503,
          0.589709997177124,
          0.603190004825592,
          0.6357899963855743,
          0.6704050004482269,
          0.68612499833107,
          0.719474995136261,
          0.7448899984359741,
          0.7364650011062622
         ],
         "yaxis": "y2"
        },
        {
         "customdata": [
          [
           10,
           0.04219050643488665,
           0.01334180959702323
          ],
          [
           10,
           0.029779396829586947,
           0.009417072132749187
          ],
          [
           10,
           0.03215953668175254,
           0.010169738441007159
          ],
          [
           10,
           0.03877384245582563,
           0.012261365579694565
          ],
          [
           10,
           0.0412346766858086,
           0.013039549690779844
          ],
          [
           10,
           0.04255162300594861,
           0.013456004683561817
          ],
          [
           10,
           0.03462952426028339,
           0.010950817095055307
          ],
          [
           10,
           0.02828821507339797,
           0.008945519057264482
          ],
          [
           10,
           0.0371786885827082,
           0.011756933633945534
          ],
          [
           10,
           0.02853604935069363,
           0.009023891137116085
          ]
         ],
         "error_y": {
          "array": [
           0.01334180959702323,
           0.009417072132749187,
           0.010169738441007159,
           0.012261365579694565,
           0.013039549690779844,
           0.013456004683561817,
           0.010950817095055307,
           0.008945519057264482,
           0.011756933633945534,
           0.009023891137116085
          ]
         },
         "hovertemplate": "model_name=sa=1; rca=1; d=128; L=2; rca_type=disentangled_v2; sym_rel=True; symbol_type=pos_sym_retriever<br>task=1task_between<br>train_size=%{x}<br>Accuracy=%{y}<br># of Trials=%{customdata[0]}<br>Standard Deviation=%{customdata[1]}<br>Standard Error=%{customdata[2]}<extra></extra>",
         "legendgroup": "sa=1; rca=1; d=128; L=2; rca_type=disentangled_v2; sym_rel=True; symbol_type=pos_sym_retriever",
         "line": {
          "color": "#EF553B",
          "dash": "solid"
         },
         "marker": {
          "symbol": "circle"
         },
         "mode": "lines",
         "name": "sa=1; rca=1; d=128; L=2; rca_type=disentangled_v2; sym_rel=True; symbol_type=pos_sym_retriever",
         "orientation": "v",
         "showlegend": true,
         "type": "scatter",
         "x": [
          250,
          500,
          750,
          1000,
          1250,
          1500,
          1750,
          2000,
          2250,
          2500
         ],
         "xaxis": "x4",
         "y": [
          0.6009360015392303,
          0.6671580016613007,
          0.7405440092086792,
          0.7973759949207306,
          0.8189839959144593,
          0.854800009727478,
          0.8694680035114288,
          0.875244003534317,
          0.8750080049037934,
          0.899752002954483
         ],
         "yaxis": "y4"
        },
        {
         "customdata": [
          [
           11,
           0.05836591762116088,
           0.017597986299471204
          ],
          [
           10,
           0.08221828864397195,
           0.025999705743610803
          ],
          [
           10,
           0.07037822765451164,
           0.02225554970741066
          ],
          [
           10,
           0.08050594819182252,
           0.02545821614776733
          ],
          [
           10,
           0.056737023177459586,
           0.0179418220898536
          ],
          [
           10,
           0.06552781816581253,
           0.02072171555053247
          ],
          [
           10,
           0.0720321747288814,
           0.022778573695848695
          ],
          [
           10,
           0.07800085341698479,
           0.02466603562345994
          ],
          [
           10,
           0.0719280211838747,
           0.02274563745298849
          ]
         ],
         "error_y": {
          "array": [
           0.017597986299471204,
           0.025999705743610803,
           0.02225554970741066,
           0.02545821614776733,
           0.0179418220898536,
           0.02072171555053247,
           0.022778573695848695,
           0.02466603562345994,
           0.02274563745298849
          ]
         },
         "hovertemplate": "model_name=sa=1; rca=1; d=128; L=2; rca_type=disentangled_v2; sym_rel=True; symbol_type=pos_sym_retriever<br>task=1task_match_patt<br>train_size=%{x}<br>Accuracy=%{y}<br># of Trials=%{customdata[0]}<br>Standard Deviation=%{customdata[1]}<br>Standard Error=%{customdata[2]}<extra></extra>",
         "legendgroup": "sa=1; rca=1; d=128; L=2; rca_type=disentangled_v2; sym_rel=True; symbol_type=pos_sym_retriever",
         "line": {
          "color": "#EF553B",
          "dash": "solid"
         },
         "marker": {
          "symbol": "circle"
         },
         "mode": "lines",
         "name": "sa=1; rca=1; d=128; L=2; rca_type=disentangled_v2; sym_rel=True; symbol_type=pos_sym_retriever",
         "orientation": "v",
         "showlegend": false,
         "type": "scatter",
         "x": [
          5000,
          7500,
          10000,
          12500,
          15000,
          17500,
          20000,
          22500,
          25000
         ],
         "xaxis": "x5",
         "y": [
          0.5219000090252269,
          0.5580749988555909,
          0.5661500036716461,
          0.6083149909973145,
          0.5903650045394897,
          0.5983100056648254,
          0.6286799967288971,
          0.6786250054836274,
          0.6364699959754944
         ],
         "yaxis": "y5"
        },
        {
         "customdata": [
          [
           10,
           0.03147920475806272,
           0.009954598596628788
          ],
          [
           10,
           0.04014368285979254,
           0.012694547150440624
          ],
          [
           10,
           0.05347787555681892,
           0.016911189118659308
          ],
          [
           10,
           0.03648555603390759,
           0.011537745876484758
          ],
          [
           10,
           0.0281900040544025,
           0.008914462006129307
          ],
          [
           10,
           0.032175563022451906,
           0.010174806414923944
          ],
          [
           10,
           0.027733318560423773,
           0.008770045372596118
          ],
          [
           10,
           0.04163564777202077,
           0.013166347881610065
          ],
          [
           10,
           0.03402842072880575,
           0.010760731468151302
          ],
          [
           10,
           0.03566904229231325,
           0.01127954156005833
          ]
         ],
         "error_y": {
          "array": [
           0.009954598596628788,
           0.012694547150440624,
           0.016911189118659308,
           0.011537745876484758,
           0.008914462006129307,
           0.010174806414923944,
           0.008770045372596118,
           0.013166347881610065,
           0.010760731468151302,
           0.01127954156005833
          ]
         },
         "hovertemplate": "model_name=sa=1; rca=1; d=128; L=2; rca_type=disentangled_v2; sym_rel=True; symbol_type=pos_sym_retriever<br>task=occurs<br>train_size=%{x}<br>Accuracy=%{y}<br># of Trials=%{customdata[0]}<br>Standard Deviation=%{customdata[1]}<br>Standard Error=%{customdata[2]}<extra></extra>",
         "legendgroup": "sa=1; rca=1; d=128; L=2; rca_type=disentangled_v2; sym_rel=True; symbol_type=pos_sym_retriever",
         "line": {
          "color": "#EF553B",
          "dash": "solid"
         },
         "marker": {
          "symbol": "circle"
         },
         "mode": "lines",
         "name": "sa=1; rca=1; d=128; L=2; rca_type=disentangled_v2; sym_rel=True; symbol_type=pos_sym_retriever",
         "orientation": "v",
         "showlegend": false,
         "type": "scatter",
         "x": [
          250,
          500,
          750,
          1000,
          1250,
          1500,
          1750,
          2000,
          2250,
          2500
         ],
         "xaxis": "x6",
         "y": [
          0.5711450040340423,
          0.6445250093936921,
          0.7112250030040741,
          0.7482800006866455,
          0.7797749996185303,
          0.7935199975967407,
          0.8149349987506866,
          0.8192899942398071,
          0.8290199935436249,
          0.822394996881485
         ],
         "yaxis": "y6"
        },
        {
         "customdata": [
          [
           10,
           0.04125735451329321,
           0.013046721049503418
          ],
          [
           10,
           0.060362730863793755,
           0.019088371531733133
          ],
          [
           10,
           0.04566136120916174,
           0.01443939024846112
          ],
          [
           10,
           0.05916845582502816,
           0.018710708604214615
          ],
          [
           10,
           0.040028305647011146,
           0.012658061672193513
          ],
          [
           10,
           0.017408147295841333,
           0.005504939529855963
          ],
          [
           10,
           0.02942828328851405,
           0.009306040282037444
          ],
          [
           10,
           0.023900927768565446,
           0.007558136993983259
          ],
          [
           10,
           0.03229723059797734,
           0.010213281080529036
          ],
          [
           10,
           0.019068826580971542,
           0.006030092430263129
          ]
         ],
         "error_y": {
          "array": [
           0.013046721049503418,
           0.019088371531733133,
           0.01443939024846112,
           0.018710708604214615,
           0.012658061672193513,
           0.005504939529855963,
           0.009306040282037444,
           0.007558136993983259,
           0.010213281080529036,
           0.006030092430263129
          ]
         },
         "hovertemplate": "model_name=sa=1; rca=1; d=128; L=2; rca_type=disentangled_v2; sym_rel=True; symbol_type=pos_sym_retriever<br>task=same<br>train_size=%{x}<br>Accuracy=%{y}<br># of Trials=%{customdata[0]}<br>Standard Deviation=%{customdata[1]}<br>Standard Error=%{customdata[2]}<extra></extra>",
         "legendgroup": "sa=1; rca=1; d=128; L=2; rca_type=disentangled_v2; sym_rel=True; symbol_type=pos_sym_retriever",
         "line": {
          "color": "#EF553B",
          "dash": "solid"
         },
         "marker": {
          "symbol": "circle"
         },
         "mode": "lines",
         "name": "sa=1; rca=1; d=128; L=2; rca_type=disentangled_v2; sym_rel=True; symbol_type=pos_sym_retriever",
         "orientation": "v",
         "showlegend": false,
         "type": "scatter",
         "x": [
          250,
          500,
          750,
          1000,
          1250,
          1500,
          1750,
          2000,
          2250,
          2500
         ],
         "xaxis": "x",
         "y": [
          0.6100099980831146,
          0.6940549969673157,
          0.7863950073719025,
          0.8130950033664703,
          0.8516849994659423,
          0.8677600026130676,
          0.8695749998092651,
          0.8936249911785126,
          0.8905549943447113,
          0.9062399923801422
         ],
         "yaxis": "y"
        },
        {
         "customdata": [
          [
           10,
           0.010213337406259803,
           0.0032297408715577436
          ],
          [
           10,
           0.02297325476398491,
           0.0072647810321506264
          ],
          [
           10,
           0.02404708643370805,
           0.007604356422145308
          ],
          [
           10,
           0.024754294413884017,
           0.007827995221825633
          ],
          [
           10,
           0.029563130408784027,
           0.009348682685634222
          ],
          [
           10,
           0.03612307564244693,
           0.011423119512068244
          ],
          [
           10,
           0.06500265879092207,
           0.02055564557460806
          ],
          [
           10,
           0.0336592252404623,
           0.010643981603648957
          ],
          [
           10,
           0.04793759240376713,
           0.01515919775406902
          ],
          [
           10,
           0.0351822778090603,
           0.01112561311494291
          ]
         ],
         "error_y": {
          "array": [
           0.0032297408715577436,
           0.0072647810321506264,
           0.007604356422145308,
           0.007827995221825633,
           0.009348682685634222,
           0.011423119512068244,
           0.02055564557460806,
           0.010643981603648957,
           0.01515919775406902,
           0.01112561311494291
          ]
         },
         "hovertemplate": "model_name=sa=1; rca=1; d=128; L=2; rca_type=disentangled_v2; sym_rel=True; symbol_type=pos_sym_retriever<br>task=xoccurs<br>train_size=%{x}<br>Accuracy=%{y}<br># of Trials=%{customdata[0]}<br>Standard Deviation=%{customdata[1]}<br>Standard Error=%{customdata[2]}<extra></extra>",
         "legendgroup": "sa=1; rca=1; d=128; L=2; rca_type=disentangled_v2; sym_rel=True; symbol_type=pos_sym_retriever",
         "line": {
          "color": "#EF553B",
          "dash": "solid"
         },
         "marker": {
          "symbol": "circle"
         },
         "mode": "lines",
         "name": "sa=1; rca=1; d=128; L=2; rca_type=disentangled_v2; sym_rel=True; symbol_type=pos_sym_retriever",
         "orientation": "v",
         "showlegend": false,
         "type": "scatter",
         "x": [
          250,
          500,
          750,
          1000,
          1250,
          1500,
          1750,
          2000,
          2250,
          2500
         ],
         "xaxis": "x2",
         "y": [
          0.5205399930477143,
          0.5331349909305573,
          0.5665150046348572,
          0.5918999969959259,
          0.6347399950027466,
          0.6465749979019165,
          0.6872450053691864,
          0.7158849895000458,
          0.7214550018310547,
          0.741094994544983
         ],
         "yaxis": "y2"
        },
        {
         "customdata": [
          [
           10,
           0.031533903676608646,
           0.009971895913444103
          ],
          [
           10,
           0.0519179067002666,
           0.01641788365209593
          ],
          [
           10,
           0.045014856842913745,
           0.014234947617002383
          ],
          [
           10,
           0.031072446133782173,
           0.00982597022556447
          ],
          [
           10,
           0.04456968380138253,
           0.014094171540588046
          ],
          [
           10,
           0.028415742648637585,
           0.00898584681748805
          ],
          [
           10,
           0.02742679575394474,
           0.008673114350270041
          ],
          [
           10,
           0.03403199696611318,
           0.010761862373685776
          ],
          [
           10,
           0.03291890993978788,
           0.010409873349968603
          ],
          [
           10,
           0.02311699656606805,
           0.0073102361811066136
          ]
         ],
         "error_y": {
          "array": [
           0.009971895913444103,
           0.01641788365209593,
           0.014234947617002383,
           0.00982597022556447,
           0.014094171540588046,
           0.00898584681748805,
           0.008673114350270041,
           0.010761862373685776,
           0.010409873349968603,
           0.0073102361811066136
          ]
         },
         "hovertemplate": "model_name=sa=2; d=128; L=2<br>task=1task_between<br>train_size=%{x}<br>Accuracy=%{y}<br># of Trials=%{customdata[0]}<br>Standard Deviation=%{customdata[1]}<br>Standard Error=%{customdata[2]}<extra></extra>",
         "legendgroup": "sa=2; d=128; L=2",
         "line": {
          "color": "#00cc96",
          "dash": "solid"
         },
         "marker": {
          "symbol": "circle"
         },
         "mode": "lines",
         "name": "sa=2; d=128; L=2",
         "orientation": "v",
         "showlegend": true,
         "type": "scatter",
         "x": [
          250,
          500,
          750,
          1000,
          1250,
          1500,
          1750,
          2000,
          2250,
          2500
         ],
         "xaxis": "x4",
         "y": [
          0.5775179982185363,
          0.6487839996814728,
          0.7114579916000366,
          0.7781759917736053,
          0.8052660048007965,
          0.8421020030975341,
          0.8619399964809418,
          0.8730479955673218,
          0.8935180008411407,
          0.9046259939670562
         ],
         "yaxis": "y4"
        },
        {
         "customdata": [
          [
           11,
           0.0038045409638848716,
           0.0011471122615221085
          ],
          [
           10,
           0.0036577346328476473,
           0.0011566772516278304
          ],
          [
           10,
           0.004080038539851097,
           0.0012902214727197139
          ],
          [
           10,
           0.003453868591757435,
           0.0010922091488871756
          ],
          [
           10,
           0.005158443105957918,
           0.0016312429395220311
          ],
          [
           10,
           0.007171718186101676,
           0.0022678964204932623
          ],
          [
           10,
           0.009712076859249033,
           0.00307122836858415
          ],
          [
           10,
           0.01087026336039832,
           0.0034374790984734466
          ],
          [
           10,
           0.11027471755077443,
           0.03487192757921919
          ]
         ],
         "error_y": {
          "array": [
           0.0011471122615221085,
           0.0011566772516278304,
           0.0012902214727197139,
           0.0010922091488871756,
           0.0016312429395220311,
           0.0022678964204932623,
           0.00307122836858415,
           0.0034374790984734466,
           0.03487192757921919
          ]
         },
         "hovertemplate": "model_name=sa=2; d=128; L=2<br>task=1task_match_patt<br>train_size=%{x}<br>Accuracy=%{y}<br># of Trials=%{customdata[0]}<br>Standard Deviation=%{customdata[1]}<br>Standard Error=%{customdata[2]}<extra></extra>",
         "legendgroup": "sa=2; d=128; L=2",
         "line": {
          "color": "#00cc96",
          "dash": "solid"
         },
         "marker": {
          "symbol": "circle"
         },
         "mode": "lines",
         "name": "sa=2; d=128; L=2",
         "orientation": "v",
         "showlegend": false,
         "type": "scatter",
         "x": [
          5000,
          7500,
          10000,
          12500,
          15000,
          17500,
          20000,
          22500,
          25000
         ],
         "xaxis": "x5",
         "y": [
          0.5016636360775341,
          0.5030749946832657,
          0.5026299953460693,
          0.5053049981594085,
          0.5065199971199036,
          0.5104050099849701,
          0.5115099996328354,
          0.5201050043106079,
          0.5742299973964691
         ],
         "yaxis": "y5"
        },
        {
         "customdata": [
          [
           10,
           0.015982503109542835,
           0.005054111253687896
          ],
          [
           10,
           0.021371601612583616,
           0.006758293834149168
          ],
          [
           10,
           0.014844680607504981,
           0.004694300185744777
          ],
          [
           10,
           0.024104179872368448,
           0.007622410952707104
          ],
          [
           10,
           0.055956974349925234,
           0.01769514899173836
          ],
          [
           10,
           0.06954344635626342,
           0.021991568682352986
          ],
          [
           10,
           0.08287810357421814,
           0.026208357544987113
          ],
          [
           10,
           0.06489046103975284,
           0.0205201655304037
          ],
          [
           10,
           0.05943572620674023,
           0.018795226919945892
          ],
          [
           10,
           0.06103128993449664,
           0.019299788473111798
          ]
         ],
         "error_y": {
          "array": [
           0.005054111253687896,
           0.006758293834149168,
           0.004694300185744777,
           0.007622410952707104,
           0.01769514899173836,
           0.021991568682352986,
           0.026208357544987113,
           0.0205201655304037,
           0.018795226919945892,
           0.019299788473111798
          ]
         },
         "hovertemplate": "model_name=sa=2; d=128; L=2<br>task=occurs<br>train_size=%{x}<br>Accuracy=%{y}<br># of Trials=%{customdata[0]}<br>Standard Deviation=%{customdata[1]}<br>Standard Error=%{customdata[2]}<extra></extra>",
         "legendgroup": "sa=2; d=128; L=2",
         "line": {
          "color": "#00cc96",
          "dash": "solid"
         },
         "marker": {
          "symbol": "circle"
         },
         "mode": "lines",
         "name": "sa=2; d=128; L=2",
         "orientation": "v",
         "showlegend": false,
         "type": "scatter",
         "x": [
          250,
          500,
          750,
          1000,
          1250,
          1500,
          1750,
          2000,
          2250,
          2500
         ],
         "xaxis": "x6",
         "y": [
          0.5229550063610077,
          0.5387449979782104,
          0.5778750002384185,
          0.5917300045490265,
          0.6522949993610382,
          0.7067499995231629,
          0.7590399920940399,
          0.736329996585846,
          0.7964850008487702,
          0.8219100058078765
         ],
         "yaxis": "y6"
        },
        {
         "customdata": [
          [
           10,
           0.03298796943970824,
           0.010431711881350657
          ],
          [
           10,
           0.06441717740929975,
           0.02037050010525318
          ],
          [
           10,
           0.049124794197898954,
           0.015534623925238506
          ],
          [
           10,
           0.0471121727801174,
           0.014898177150455806
          ],
          [
           10,
           0.029767927330134288,
           0.00941344515855994
          ],
          [
           10,
           0.027699762981903367,
           0.008759434166963207
          ],
          [
           10,
           0.03864696358242172,
           0.012221242957003314
          ],
          [
           10,
           0.03123727765135675,
           0.009878094528136244
          ],
          [
           10,
           0.01628997182626555,
           0.005151341399097184
          ],
          [
           9,
           0.026831891289339837,
           0.008943963763113278
          ]
         ],
         "error_y": {
          "array": [
           0.010431711881350657,
           0.02037050010525318,
           0.015534623925238506,
           0.014898177150455806,
           0.00941344515855994,
           0.008759434166963207,
           0.012221242957003314,
           0.009878094528136244,
           0.005151341399097184,
           0.008943963763113278
          ]
         },
         "hovertemplate": "model_name=sa=2; d=128; L=2<br>task=same<br>train_size=%{x}<br>Accuracy=%{y}<br># of Trials=%{customdata[0]}<br>Standard Deviation=%{customdata[1]}<br>Standard Error=%{customdata[2]}<extra></extra>",
         "legendgroup": "sa=2; d=128; L=2",
         "line": {
          "color": "#00cc96",
          "dash": "solid"
         },
         "marker": {
          "symbol": "circle"
         },
         "mode": "lines",
         "name": "sa=2; d=128; L=2",
         "orientation": "v",
         "showlegend": false,
         "type": "scatter",
         "x": [
          250,
          500,
          750,
          1000,
          1250,
          1500,
          1750,
          2000,
          2250,
          2500
         ],
         "xaxis": "x",
         "y": [
          0.6124250054359436,
          0.734009999036789,
          0.8361050009727478,
          0.8431249976158142,
          0.8625599980354309,
          0.8873449981212616,
          0.8959999978542328,
          0.8903099954128265,
          0.902539998292923,
          0.8976499901877509
         ],
         "yaxis": "y"
        },
        {
         "customdata": [
          [
           10,
           0.007275734115334394,
           0.0023007891454246902
          ],
          [
           10,
           0.009183448859420618,
           0.002904061517144461
          ],
          [
           10,
           0.012388235772078371,
           0.003917504123094221
          ],
          [
           10,
           0.01049447714852977,
           0.003318645064194325
          ],
          [
           10,
           0.01106418015297185,
           0.0034988009725821245
          ],
          [
           10,
           0.017631270922938293,
           0.005575497415998409
          ],
          [
           10,
           0.026702900340942772,
           0.008444198520986594
          ],
          [
           10,
           0.02962732030412984,
           0.009368981312840283
          ],
          [
           10,
           0.023860160999635286,
           0.007545245409716749
          ],
          [
           10,
           0.07506398893934549,
           0.023737317530601855
          ]
         ],
         "error_y": {
          "array": [
           0.0023007891454246902,
           0.002904061517144461,
           0.003917504123094221,
           0.003318645064194325,
           0.0034988009725821245,
           0.005575497415998409,
           0.008444198520986594,
           0.009368981312840283,
           0.007545245409716749,
           0.023737317530601855
          ]
         },
         "hovertemplate": "model_name=sa=2; d=128; L=2<br>task=xoccurs<br>train_size=%{x}<br>Accuracy=%{y}<br># of Trials=%{customdata[0]}<br>Standard Deviation=%{customdata[1]}<br>Standard Error=%{customdata[2]}<extra></extra>",
         "legendgroup": "sa=2; d=128; L=2",
         "line": {
          "color": "#00cc96",
          "dash": "solid"
         },
         "marker": {
          "symbol": "circle"
         },
         "mode": "lines",
         "name": "sa=2; d=128; L=2",
         "orientation": "v",
         "showlegend": false,
         "type": "scatter",
         "x": [
          250,
          500,
          750,
          1000,
          1250,
          1500,
          1750,
          2000,
          2250,
          2500
         ],
         "xaxis": "x2",
         "y": [
          0.5083449959754944,
          0.5162299931049347,
          0.5277749955654144,
          0.5325950026512146,
          0.557039999961853,
          0.5432949960231781,
          0.5741199910640716,
          0.5878700017929077,
          0.5812699913978576,
          0.6280049979686737
         ],
         "yaxis": "y2"
        }
       ],
       "layout": {
        "annotations": [
         {
          "font": {},
          "showarrow": false,
          "text": "task=same",
          "x": 0.15999999999999998,
          "xanchor": "center",
          "xref": "paper",
          "y": 0.46499999999999997,
          "yanchor": "bottom",
          "yref": "paper"
         },
         {
          "font": {},
          "showarrow": false,
          "text": "task=xoccurs",
          "x": 0.49999999999999994,
          "xanchor": "center",
          "xref": "paper",
          "y": 0.46499999999999997,
          "yanchor": "bottom",
          "yref": "paper"
         },
         {
          "font": {},
          "showarrow": false,
          "text": "task=1task_between",
          "x": 0.15999999999999998,
          "xanchor": "center",
          "xref": "paper",
          "y": 0.9999999999999999,
          "yanchor": "bottom",
          "yref": "paper"
         },
         {
          "font": {},
          "showarrow": false,
          "text": "task=1task_match_patt",
          "x": 0.49999999999999994,
          "xanchor": "center",
          "xref": "paper",
          "y": 0.9999999999999999,
          "yanchor": "bottom",
          "yref": "paper"
         },
         {
          "font": {},
          "showarrow": false,
          "text": "task=occurs",
          "x": 0.8399999999999999,
          "xanchor": "center",
          "xref": "paper",
          "y": 0.9999999999999999,
          "yanchor": "bottom",
          "yref": "paper"
         }
        ],
        "height": 600,
        "legend": {
         "title": {
          "text": "model_name"
         },
         "tracegroupgap": 0
        },
        "template": {
         "data": {
          "bar": [
           {
            "error_x": {
             "color": "#2a3f5f"
            },
            "error_y": {
             "color": "#2a3f5f"
            },
            "marker": {
             "line": {
              "color": "#E5ECF6",
              "width": 0.5
             },
             "pattern": {
              "fillmode": "overlay",
              "size": 10,
              "solidity": 0.2
             }
            },
            "type": "bar"
           }
          ],
          "barpolar": [
           {
            "marker": {
             "line": {
              "color": "#E5ECF6",
              "width": 0.5
             },
             "pattern": {
              "fillmode": "overlay",
              "size": 10,
              "solidity": 0.2
             }
            },
            "type": "barpolar"
           }
          ],
          "carpet": [
           {
            "aaxis": {
             "endlinecolor": "#2a3f5f",
             "gridcolor": "white",
             "linecolor": "white",
             "minorgridcolor": "white",
             "startlinecolor": "#2a3f5f"
            },
            "baxis": {
             "endlinecolor": "#2a3f5f",
             "gridcolor": "white",
             "linecolor": "white",
             "minorgridcolor": "white",
             "startlinecolor": "#2a3f5f"
            },
            "type": "carpet"
           }
          ],
          "choropleth": [
           {
            "colorbar": {
             "outlinewidth": 0,
             "ticks": ""
            },
            "type": "choropleth"
           }
          ],
          "contour": [
           {
            "colorbar": {
             "outlinewidth": 0,
             "ticks": ""
            },
            "colorscale": [
             [
              0,
              "#0d0887"
             ],
             [
              0.1111111111111111,
              "#46039f"
             ],
             [
              0.2222222222222222,
              "#7201a8"
             ],
             [
              0.3333333333333333,
              "#9c179e"
             ],
             [
              0.4444444444444444,
              "#bd3786"
             ],
             [
              0.5555555555555556,
              "#d8576b"
             ],
             [
              0.6666666666666666,
              "#ed7953"
             ],
             [
              0.7777777777777778,
              "#fb9f3a"
             ],
             [
              0.8888888888888888,
              "#fdca26"
             ],
             [
              1,
              "#f0f921"
             ]
            ],
            "type": "contour"
           }
          ],
          "contourcarpet": [
           {
            "colorbar": {
             "outlinewidth": 0,
             "ticks": ""
            },
            "type": "contourcarpet"
           }
          ],
          "heatmap": [
           {
            "colorbar": {
             "outlinewidth": 0,
             "ticks": ""
            },
            "colorscale": [
             [
              0,
              "#0d0887"
             ],
             [
              0.1111111111111111,
              "#46039f"
             ],
             [
              0.2222222222222222,
              "#7201a8"
             ],
             [
              0.3333333333333333,
              "#9c179e"
             ],
             [
              0.4444444444444444,
              "#bd3786"
             ],
             [
              0.5555555555555556,
              "#d8576b"
             ],
             [
              0.6666666666666666,
              "#ed7953"
             ],
             [
              0.7777777777777778,
              "#fb9f3a"
             ],
             [
              0.8888888888888888,
              "#fdca26"
             ],
             [
              1,
              "#f0f921"
             ]
            ],
            "type": "heatmap"
           }
          ],
          "heatmapgl": [
           {
            "colorbar": {
             "outlinewidth": 0,
             "ticks": ""
            },
            "colorscale": [
             [
              0,
              "#0d0887"
             ],
             [
              0.1111111111111111,
              "#46039f"
             ],
             [
              0.2222222222222222,
              "#7201a8"
             ],
             [
              0.3333333333333333,
              "#9c179e"
             ],
             [
              0.4444444444444444,
              "#bd3786"
             ],
             [
              0.5555555555555556,
              "#d8576b"
             ],
             [
              0.6666666666666666,
              "#ed7953"
             ],
             [
              0.7777777777777778,
              "#fb9f3a"
             ],
             [
              0.8888888888888888,
              "#fdca26"
             ],
             [
              1,
              "#f0f921"
             ]
            ],
            "type": "heatmapgl"
           }
          ],
          "histogram": [
           {
            "marker": {
             "pattern": {
              "fillmode": "overlay",
              "size": 10,
              "solidity": 0.2
             }
            },
            "type": "histogram"
           }
          ],
          "histogram2d": [
           {
            "colorbar": {
             "outlinewidth": 0,
             "ticks": ""
            },
            "colorscale": [
             [
              0,
              "#0d0887"
             ],
             [
              0.1111111111111111,
              "#46039f"
             ],
             [
              0.2222222222222222,
              "#7201a8"
             ],
             [
              0.3333333333333333,
              "#9c179e"
             ],
             [
              0.4444444444444444,
              "#bd3786"
             ],
             [
              0.5555555555555556,
              "#d8576b"
             ],
             [
              0.6666666666666666,
              "#ed7953"
             ],
             [
              0.7777777777777778,
              "#fb9f3a"
             ],
             [
              0.8888888888888888,
              "#fdca26"
             ],
             [
              1,
              "#f0f921"
             ]
            ],
            "type": "histogram2d"
           }
          ],
          "histogram2dcontour": [
           {
            "colorbar": {
             "outlinewidth": 0,
             "ticks": ""
            },
            "colorscale": [
             [
              0,
              "#0d0887"
             ],
             [
              0.1111111111111111,
              "#46039f"
             ],
             [
              0.2222222222222222,
              "#7201a8"
             ],
             [
              0.3333333333333333,
              "#9c179e"
             ],
             [
              0.4444444444444444,
              "#bd3786"
             ],
             [
              0.5555555555555556,
              "#d8576b"
             ],
             [
              0.6666666666666666,
              "#ed7953"
             ],
             [
              0.7777777777777778,
              "#fb9f3a"
             ],
             [
              0.8888888888888888,
              "#fdca26"
             ],
             [
              1,
              "#f0f921"
             ]
            ],
            "type": "histogram2dcontour"
           }
          ],
          "mesh3d": [
           {
            "colorbar": {
             "outlinewidth": 0,
             "ticks": ""
            },
            "type": "mesh3d"
           }
          ],
          "parcoords": [
           {
            "line": {
             "colorbar": {
              "outlinewidth": 0,
              "ticks": ""
             }
            },
            "type": "parcoords"
           }
          ],
          "pie": [
           {
            "automargin": true,
            "type": "pie"
           }
          ],
          "scatter": [
           {
            "fillpattern": {
             "fillmode": "overlay",
             "size": 10,
             "solidity": 0.2
            },
            "type": "scatter"
           }
          ],
          "scatter3d": [
           {
            "line": {
             "colorbar": {
              "outlinewidth": 0,
              "ticks": ""
             }
            },
            "marker": {
             "colorbar": {
              "outlinewidth": 0,
              "ticks": ""
             }
            },
            "type": "scatter3d"
           }
          ],
          "scattercarpet": [
           {
            "marker": {
             "colorbar": {
              "outlinewidth": 0,
              "ticks": ""
             }
            },
            "type": "scattercarpet"
           }
          ],
          "scattergeo": [
           {
            "marker": {
             "colorbar": {
              "outlinewidth": 0,
              "ticks": ""
             }
            },
            "type": "scattergeo"
           }
          ],
          "scattergl": [
           {
            "marker": {
             "colorbar": {
              "outlinewidth": 0,
              "ticks": ""
             }
            },
            "type": "scattergl"
           }
          ],
          "scattermapbox": [
           {
            "marker": {
             "colorbar": {
              "outlinewidth": 0,
              "ticks": ""
             }
            },
            "type": "scattermapbox"
           }
          ],
          "scatterpolar": [
           {
            "marker": {
             "colorbar": {
              "outlinewidth": 0,
              "ticks": ""
             }
            },
            "type": "scatterpolar"
           }
          ],
          "scatterpolargl": [
           {
            "marker": {
             "colorbar": {
              "outlinewidth": 0,
              "ticks": ""
             }
            },
            "type": "scatterpolargl"
           }
          ],
          "scatterternary": [
           {
            "marker": {
             "colorbar": {
              "outlinewidth": 0,
              "ticks": ""
             }
            },
            "type": "scatterternary"
           }
          ],
          "surface": [
           {
            "colorbar": {
             "outlinewidth": 0,
             "ticks": ""
            },
            "colorscale": [
             [
              0,
              "#0d0887"
             ],
             [
              0.1111111111111111,
              "#46039f"
             ],
             [
              0.2222222222222222,
              "#7201a8"
             ],
             [
              0.3333333333333333,
              "#9c179e"
             ],
             [
              0.4444444444444444,
              "#bd3786"
             ],
             [
              0.5555555555555556,
              "#d8576b"
             ],
             [
              0.6666666666666666,
              "#ed7953"
             ],
             [
              0.7777777777777778,
              "#fb9f3a"
             ],
             [
              0.8888888888888888,
              "#fdca26"
             ],
             [
              1,
              "#f0f921"
             ]
            ],
            "type": "surface"
           }
          ],
          "table": [
           {
            "cells": {
             "fill": {
              "color": "#EBF0F8"
             },
             "line": {
              "color": "white"
             }
            },
            "header": {
             "fill": {
              "color": "#C8D4E3"
             },
             "line": {
              "color": "white"
             }
            },
            "type": "table"
           }
          ]
         },
         "layout": {
          "annotationdefaults": {
           "arrowcolor": "#2a3f5f",
           "arrowhead": 0,
           "arrowwidth": 1
          },
          "autotypenumbers": "strict",
          "coloraxis": {
           "colorbar": {
            "outlinewidth": 0,
            "ticks": ""
           }
          },
          "colorscale": {
           "diverging": [
            [
             0,
             "#8e0152"
            ],
            [
             0.1,
             "#c51b7d"
            ],
            [
             0.2,
             "#de77ae"
            ],
            [
             0.3,
             "#f1b6da"
            ],
            [
             0.4,
             "#fde0ef"
            ],
            [
             0.5,
             "#f7f7f7"
            ],
            [
             0.6,
             "#e6f5d0"
            ],
            [
             0.7,
             "#b8e186"
            ],
            [
             0.8,
             "#7fbc41"
            ],
            [
             0.9,
             "#4d9221"
            ],
            [
             1,
             "#276419"
            ]
           ],
           "sequential": [
            [
             0,
             "#0d0887"
            ],
            [
             0.1111111111111111,
             "#46039f"
            ],
            [
             0.2222222222222222,
             "#7201a8"
            ],
            [
             0.3333333333333333,
             "#9c179e"
            ],
            [
             0.4444444444444444,
             "#bd3786"
            ],
            [
             0.5555555555555556,
             "#d8576b"
            ],
            [
             0.6666666666666666,
             "#ed7953"
            ],
            [
             0.7777777777777778,
             "#fb9f3a"
            ],
            [
             0.8888888888888888,
             "#fdca26"
            ],
            [
             1,
             "#f0f921"
            ]
           ],
           "sequentialminus": [
            [
             0,
             "#0d0887"
            ],
            [
             0.1111111111111111,
             "#46039f"
            ],
            [
             0.2222222222222222,
             "#7201a8"
            ],
            [
             0.3333333333333333,
             "#9c179e"
            ],
            [
             0.4444444444444444,
             "#bd3786"
            ],
            [
             0.5555555555555556,
             "#d8576b"
            ],
            [
             0.6666666666666666,
             "#ed7953"
            ],
            [
             0.7777777777777778,
             "#fb9f3a"
            ],
            [
             0.8888888888888888,
             "#fdca26"
            ],
            [
             1,
             "#f0f921"
            ]
           ]
          },
          "colorway": [
           "#636efa",
           "#EF553B",
           "#00cc96",
           "#ab63fa",
           "#FFA15A",
           "#19d3f3",
           "#FF6692",
           "#B6E880",
           "#FF97FF",
           "#FECB52"
          ],
          "font": {
           "color": "#2a3f5f"
          },
          "geo": {
           "bgcolor": "white",
           "lakecolor": "white",
           "landcolor": "#E5ECF6",
           "showlakes": true,
           "showland": true,
           "subunitcolor": "white"
          },
          "hoverlabel": {
           "align": "left"
          },
          "hovermode": "closest",
          "mapbox": {
           "style": "light"
          },
          "paper_bgcolor": "white",
          "plot_bgcolor": "#E5ECF6",
          "polar": {
           "angularaxis": {
            "gridcolor": "white",
            "linecolor": "white",
            "ticks": ""
           },
           "bgcolor": "#E5ECF6",
           "radialaxis": {
            "gridcolor": "white",
            "linecolor": "white",
            "ticks": ""
           }
          },
          "scene": {
           "xaxis": {
            "backgroundcolor": "#E5ECF6",
            "gridcolor": "white",
            "gridwidth": 2,
            "linecolor": "white",
            "showbackground": true,
            "ticks": "",
            "zerolinecolor": "white"
           },
           "yaxis": {
            "backgroundcolor": "#E5ECF6",
            "gridcolor": "white",
            "gridwidth": 2,
            "linecolor": "white",
            "showbackground": true,
            "ticks": "",
            "zerolinecolor": "white"
           },
           "zaxis": {
            "backgroundcolor": "#E5ECF6",
            "gridcolor": "white",
            "gridwidth": 2,
            "linecolor": "white",
            "showbackground": true,
            "ticks": "",
            "zerolinecolor": "white"
           }
          },
          "shapedefaults": {
           "line": {
            "color": "#2a3f5f"
           }
          },
          "ternary": {
           "aaxis": {
            "gridcolor": "white",
            "linecolor": "white",
            "ticks": ""
           },
           "baxis": {
            "gridcolor": "white",
            "linecolor": "white",
            "ticks": ""
           },
           "bgcolor": "#E5ECF6",
           "caxis": {
            "gridcolor": "white",
            "linecolor": "white",
            "ticks": ""
           }
          },
          "title": {
           "x": 0.05
          },
          "xaxis": {
           "automargin": true,
           "gridcolor": "white",
           "linecolor": "white",
           "ticks": "",
           "title": {
            "standoff": 15
           },
           "zerolinecolor": "white",
           "zerolinewidth": 2
          },
          "yaxis": {
           "automargin": true,
           "gridcolor": "white",
           "linecolor": "white",
           "ticks": "",
           "title": {
            "standoff": 15
           },
           "zerolinecolor": "white",
           "zerolinewidth": 2
          }
         }
        },
        "title": {
         "text": "Learning curves (test/acc_stripes)"
        },
        "width": 1400,
        "xaxis": {
         "anchor": "y",
         "domain": [
          0,
          0.31999999999999995
         ],
         "showticklabels": true,
         "title": {
          "text": "train_size"
         }
        },
        "xaxis2": {
         "anchor": "y2",
         "domain": [
          0.33999999999999997,
          0.6599999999999999
         ],
         "showticklabels": true,
         "title": {
          "text": "train_size"
         }
        },
        "xaxis3": {
         "anchor": "y3",
         "domain": [
          0.6799999999999999,
          0.9999999999999999
         ],
         "showticklabels": true,
         "title": {
          "text": "train_size"
         }
        },
        "xaxis4": {
         "anchor": "y4",
         "domain": [
          0,
          0.31999999999999995
         ],
         "showticklabels": true
        },
        "xaxis5": {
         "anchor": "y5",
         "domain": [
          0.33999999999999997,
          0.6599999999999999
         ],
         "showticklabels": true
        },
        "xaxis6": {
         "anchor": "y6",
         "domain": [
          0.6799999999999999,
          0.9999999999999999
         ],
         "showticklabels": true
        },
        "yaxis": {
         "anchor": "x",
         "domain": [
          0,
          0.46499999999999997
         ],
         "showticklabels": true,
         "title": {
          "text": "Accuracy"
         }
        },
        "yaxis2": {
         "anchor": "x2",
         "domain": [
          0,
          0.46499999999999997
         ],
         "showticklabels": true
        },
        "yaxis3": {
         "anchor": "x3",
         "domain": [
          0,
          0.46499999999999997
         ],
         "showticklabels": true
        },
        "yaxis4": {
         "anchor": "x4",
         "domain": [
          0.5349999999999999,
          0.9999999999999999
         ],
         "showticklabels": true,
         "title": {
          "text": "Accuracy"
         }
        },
        "yaxis5": {
         "anchor": "x5",
         "domain": [
          0.5349999999999999,
          0.9999999999999999
         ],
         "showticklabels": true
        },
        "yaxis6": {
         "anchor": "x6",
         "domain": [
          0.5349999999999999,
          0.9999999999999999
         ],
         "showticklabels": true
        }
       }
      },
      "text/html": [
       "<div>                            <div id=\"2cda187e-bdbe-4824-a180-45b86148264e\" class=\"plotly-graph-div\" style=\"height:600px; width:1400px;\"></div>            <script type=\"text/javascript\">                require([\"plotly\"], function(Plotly) {                    window.PLOTLYENV=window.PLOTLYENV || {};                                    if (document.getElementById(\"2cda187e-bdbe-4824-a180-45b86148264e\")) {                    Plotly.newPlot(                        \"2cda187e-bdbe-4824-a180-45b86148264e\",                        [{\"customdata\":[[10.0,0.05014296983454198,0.015856599332226905],[10.0,0.04871715810116194,0.01540571807301954],[10.0,0.04671295659903486,0.014771933909354301],[10.0,0.03439206788136961,0.010875726794824955],[10.0,0.016040171654350274,0.005072347648781794],[10.0,0.02497759167669885,0.007898608016403243],[10.0,0.022963710223360818,0.007261762783391414],[10.0,0.01433710649893726,0.004533791159304418],[10.0,0.016622660939825912,0.0052565469342565],[10.0,0.01303552746459984,0.004122195728981543]],\"error_y\":{\"array\":[0.015856599332226905,0.01540571807301954,0.014771933909354301,0.010875726794824955,0.005072347648781794,0.007898608016403243,0.007261762783391414,0.004533791159304418,0.0052565469342565,0.004122195728981543]},\"hovertemplate\":\"model_name=sa=0; rca=2; d=128; L=2; rca_type=disentangled_v2; sym_rel=True; symbol_type=pos_sym_retriever<br>task=1task_between<br>train_size=%{x}<br>Accuracy=%{y}<br># of Trials=%{customdata[0]}<br>Standard Deviation=%{customdata[1]}<br>Standard Error=%{customdata[2]}<extra></extra>\",\"legendgroup\":\"sa=0; rca=2; d=128; L=2; rca_type=disentangled_v2; sym_rel=True; symbol_type=pos_sym_retriever\",\"line\":{\"color\":\"#636efa\",\"dash\":\"solid\"},\"marker\":{\"symbol\":\"circle\"},\"mode\":\"lines\",\"name\":\"sa=0; rca=2; d=128; L=2; rca_type=disentangled_v2; sym_rel=True; symbol_type=pos_sym_retriever\",\"orientation\":\"v\",\"showlegend\":true,\"x\":[250,500,750,1000,1250,1500,1750,2000,2250,2500],\"xaxis\":\"x4\",\"y\":[0.5901979982852936,0.6568400025367737,0.7597220003604889,0.8063819944858551,0.8184080004692078,0.839383989572525,0.867492002248764,0.8786740064620971,0.8911920011043548,0.8909540057182312],\"yaxis\":\"y4\",\"type\":\"scatter\"},{\"customdata\":[[11.0,0.014389906897166169,0.004338720176913407],[10.0,0.07717890548080893,0.024406112863820894],[10.0,0.062402034253727104,0.01973325588696232],[10.0,0.06446532372471148,0.020385725307017773],[10.0,0.02743459258546277,0.008675579924882998],[10.0,0.05103341538345332,0.016138182938918774],[8.0,0.0581000880417436,0.02054148312092617],[8.0,0.03904302447009122,0.013803793680416905],[7.0,0.05630310808155102,0.021280574574824993]],\"error_y\":{\"array\":[0.004338720176913407,0.024406112863820894,0.01973325588696232,0.020385725307017773,0.008675579924882998,0.016138182938918774,0.02054148312092617,0.013803793680416905,0.021280574574824993]},\"hovertemplate\":\"model_name=sa=0; rca=2; d=128; L=2; rca_type=disentangled_v2; sym_rel=True; symbol_type=pos_sym_retriever<br>task=1task_match_patt<br>train_size=%{x}<br>Accuracy=%{y}<br># of Trials=%{customdata[0]}<br>Standard Deviation=%{customdata[1]}<br>Standard Error=%{customdata[2]}<extra></extra>\",\"legendgroup\":\"sa=0; rca=2; d=128; L=2; rca_type=disentangled_v2; sym_rel=True; symbol_type=pos_sym_retriever\",\"line\":{\"color\":\"#636efa\",\"dash\":\"solid\"},\"marker\":{\"symbol\":\"circle\"},\"mode\":\"lines\",\"name\":\"sa=0; rca=2; d=128; L=2; rca_type=disentangled_v2; sym_rel=True; symbol_type=pos_sym_retriever\",\"orientation\":\"v\",\"showlegend\":false,\"x\":[5000,7500,10000,12500,15000,17500,20000,22500,25000],\"xaxis\":\"x5\",\"y\":[0.5166909044439142,0.5821549892425537,0.6160600125789643,0.6236949980258941,0.6208450019359588,0.6147400140762329,0.6167750060558319,0.6005812585353851,0.6021785821233477],\"yaxis\":\"y5\",\"type\":\"scatter\"},{\"customdata\":[[10.0,0.03926808863787931,0.012417659945707751],[10.0,0.05772234671572965,0.01825340875116455],[10.0,0.04945690663527421,0.01563964709937609],[10.0,0.05263255591370371,0.016643875576346837],[10.0,0.02700185510150831,0.008538736317060333],[10.0,0.03530263851553752,0.01116367451226841],[10.0,0.031185857881537212,0.009861834169197111],[10.0,0.047020558310578414,0.014869206111418676],[10.0,0.019869003467551983,0.006283130579524771],[10.0,0.028560667525607538,0.009031676087572523]],\"error_y\":{\"array\":[0.012417659945707751,0.01825340875116455,0.01563964709937609,0.016643875576346837,0.008538736317060333,0.01116367451226841,0.009861834169197111,0.014869206111418676,0.006283130579524771,0.009031676087572523]},\"hovertemplate\":\"model_name=sa=0; rca=2; d=128; L=2; rca_type=disentangled_v2; sym_rel=True; symbol_type=pos_sym_retriever<br>task=occurs<br>train_size=%{x}<br>Accuracy=%{y}<br># of Trials=%{customdata[0]}<br>Standard Deviation=%{customdata[1]}<br>Standard Error=%{customdata[2]}<extra></extra>\",\"legendgroup\":\"sa=0; rca=2; d=128; L=2; rca_type=disentangled_v2; sym_rel=True; symbol_type=pos_sym_retriever\",\"line\":{\"color\":\"#636efa\",\"dash\":\"solid\"},\"marker\":{\"symbol\":\"circle\"},\"mode\":\"lines\",\"name\":\"sa=0; rca=2; d=128; L=2; rca_type=disentangled_v2; sym_rel=True; symbol_type=pos_sym_retriever\",\"orientation\":\"v\",\"showlegend\":false,\"x\":[250,500,750,1000,1250,1500,1750,2000,2250,2500],\"xaxis\":\"x6\",\"y\":[0.5794799983501434,0.6560500025749206,0.7264499962329865,0.7528500020503998,0.7854399919509888,0.7820300042629242,0.813540005683899,0.8090400040149689,0.8341650009155274,0.8202149987220764],\"yaxis\":\"y6\",\"type\":\"scatter\"},{\"customdata\":[[10.0,0.04928564782469469,0.015585490308295829],[10.0,0.0353876792797361,0.011190566763151291],[10.0,0.032517598624274995,0.010282967569186683],[10.0,0.02191271432279765,0.006929408697663468],[10.0,0.04101307077670448,0.012969471749207718],[10.0,0.04681735902680209,0.014804948855853867],[10.0,0.03647007163338126,0.011532849279098206],[10.0,0.02921686192869686,0.009239182977734212],[10.0,0.04971949360442786,0.015722684390016683],[10.0,0.02555811034599022,0.00808218413832432]],\"error_y\":{\"array\":[0.015585490308295829,0.011190566763151291,0.010282967569186683,0.006929408697663468,0.012969471749207718,0.014804948855853867,0.011532849279098206,0.009239182977734212,0.015722684390016683,0.00808218413832432]},\"hovertemplate\":\"model_name=sa=0; rca=2; d=128; L=2; rca_type=disentangled_v2; sym_rel=True; symbol_type=pos_sym_retriever<br>task=same<br>train_size=%{x}<br>Accuracy=%{y}<br># of Trials=%{customdata[0]}<br>Standard Deviation=%{customdata[1]}<br>Standard Error=%{customdata[2]}<extra></extra>\",\"legendgroup\":\"sa=0; rca=2; d=128; L=2; rca_type=disentangled_v2; sym_rel=True; symbol_type=pos_sym_retriever\",\"line\":{\"color\":\"#636efa\",\"dash\":\"solid\"},\"marker\":{\"symbol\":\"circle\"},\"mode\":\"lines\",\"name\":\"sa=0; rca=2; d=128; L=2; rca_type=disentangled_v2; sym_rel=True; symbol_type=pos_sym_retriever\",\"orientation\":\"v\",\"showlegend\":false,\"x\":[250,500,750,1000,1250,1500,1750,2000,2250,2500],\"xaxis\":\"x\",\"y\":[0.5978650093078614,0.7034349977970124,0.7453900098800659,0.8114099979400635,0.8053100049495697,0.8293050050735473,0.8572150051593781,0.8653199970722198,0.8709699928760528,0.8875600039958954],\"yaxis\":\"y\",\"type\":\"scatter\"},{\"customdata\":[[10.0,0.011596220813042195,0.0036670470019462935],[10.0,0.024756021385208042,0.007828541338109405],[10.0,0.026348937274564783,0.008332265571253411],[10.0,0.03727845753602267,0.011788483347170005],[10.0,0.049274567129083784,0.01558198628467688],[10.0,0.03259906758081931,0.010308730315314416],[10.0,0.05135238836115384,0.016239051051076748],[10.0,0.032547163008547556,0.01029231664837886],[10.0,0.02211226729253737,0.006992512887486286],[10.0,0.023398608415155477,0.007399289667027401]],\"error_y\":{\"array\":[0.0036670470019462935,0.007828541338109405,0.008332265571253411,0.011788483347170005,0.01558198628467688,0.010308730315314416,0.016239051051076748,0.01029231664837886,0.006992512887486286,0.007399289667027401]},\"hovertemplate\":\"model_name=sa=0; rca=2; d=128; L=2; rca_type=disentangled_v2; sym_rel=True; symbol_type=pos_sym_retriever<br>task=xoccurs<br>train_size=%{x}<br>Accuracy=%{y}<br># of Trials=%{customdata[0]}<br>Standard Deviation=%{customdata[1]}<br>Standard Error=%{customdata[2]}<extra></extra>\",\"legendgroup\":\"sa=0; rca=2; d=128; L=2; rca_type=disentangled_v2; sym_rel=True; symbol_type=pos_sym_retriever\",\"line\":{\"color\":\"#636efa\",\"dash\":\"solid\"},\"marker\":{\"symbol\":\"circle\"},\"mode\":\"lines\",\"name\":\"sa=0; rca=2; d=128; L=2; rca_type=disentangled_v2; sym_rel=True; symbol_type=pos_sym_retriever\",\"orientation\":\"v\",\"showlegend\":false,\"x\":[250,500,750,1000,1250,1500,1750,2000,2250,2500],\"xaxis\":\"x2\",\"y\":[0.5129650086164474,0.5492049992084503,0.589709997177124,0.603190004825592,0.6357899963855743,0.6704050004482269,0.68612499833107,0.719474995136261,0.7448899984359741,0.7364650011062622],\"yaxis\":\"y2\",\"type\":\"scatter\"},{\"customdata\":[[10.0,0.04219050643488665,0.01334180959702323],[10.0,0.029779396829586947,0.009417072132749187],[10.0,0.03215953668175254,0.010169738441007159],[10.0,0.03877384245582563,0.012261365579694565],[10.0,0.0412346766858086,0.013039549690779844],[10.0,0.04255162300594861,0.013456004683561817],[10.0,0.03462952426028339,0.010950817095055307],[10.0,0.02828821507339797,0.008945519057264482],[10.0,0.0371786885827082,0.011756933633945534],[10.0,0.02853604935069363,0.009023891137116085]],\"error_y\":{\"array\":[0.01334180959702323,0.009417072132749187,0.010169738441007159,0.012261365579694565,0.013039549690779844,0.013456004683561817,0.010950817095055307,0.008945519057264482,0.011756933633945534,0.009023891137116085]},\"hovertemplate\":\"model_name=sa=1; rca=1; d=128; L=2; rca_type=disentangled_v2; sym_rel=True; symbol_type=pos_sym_retriever<br>task=1task_between<br>train_size=%{x}<br>Accuracy=%{y}<br># of Trials=%{customdata[0]}<br>Standard Deviation=%{customdata[1]}<br>Standard Error=%{customdata[2]}<extra></extra>\",\"legendgroup\":\"sa=1; rca=1; d=128; L=2; rca_type=disentangled_v2; sym_rel=True; symbol_type=pos_sym_retriever\",\"line\":{\"color\":\"#EF553B\",\"dash\":\"solid\"},\"marker\":{\"symbol\":\"circle\"},\"mode\":\"lines\",\"name\":\"sa=1; rca=1; d=128; L=2; rca_type=disentangled_v2; sym_rel=True; symbol_type=pos_sym_retriever\",\"orientation\":\"v\",\"showlegend\":true,\"x\":[250,500,750,1000,1250,1500,1750,2000,2250,2500],\"xaxis\":\"x4\",\"y\":[0.6009360015392303,0.6671580016613007,0.7405440092086792,0.7973759949207306,0.8189839959144593,0.854800009727478,0.8694680035114288,0.875244003534317,0.8750080049037934,0.899752002954483],\"yaxis\":\"y4\",\"type\":\"scatter\"},{\"customdata\":[[11.0,0.05836591762116088,0.017597986299471204],[10.0,0.08221828864397195,0.025999705743610803],[10.0,0.07037822765451164,0.02225554970741066],[10.0,0.08050594819182252,0.02545821614776733],[10.0,0.056737023177459586,0.0179418220898536],[10.0,0.06552781816581253,0.02072171555053247],[10.0,0.0720321747288814,0.022778573695848695],[10.0,0.07800085341698479,0.02466603562345994],[10.0,0.0719280211838747,0.02274563745298849]],\"error_y\":{\"array\":[0.017597986299471204,0.025999705743610803,0.02225554970741066,0.02545821614776733,0.0179418220898536,0.02072171555053247,0.022778573695848695,0.02466603562345994,0.02274563745298849]},\"hovertemplate\":\"model_name=sa=1; rca=1; d=128; L=2; rca_type=disentangled_v2; sym_rel=True; symbol_type=pos_sym_retriever<br>task=1task_match_patt<br>train_size=%{x}<br>Accuracy=%{y}<br># of Trials=%{customdata[0]}<br>Standard Deviation=%{customdata[1]}<br>Standard Error=%{customdata[2]}<extra></extra>\",\"legendgroup\":\"sa=1; rca=1; d=128; L=2; rca_type=disentangled_v2; sym_rel=True; symbol_type=pos_sym_retriever\",\"line\":{\"color\":\"#EF553B\",\"dash\":\"solid\"},\"marker\":{\"symbol\":\"circle\"},\"mode\":\"lines\",\"name\":\"sa=1; rca=1; d=128; L=2; rca_type=disentangled_v2; sym_rel=True; symbol_type=pos_sym_retriever\",\"orientation\":\"v\",\"showlegend\":false,\"x\":[5000,7500,10000,12500,15000,17500,20000,22500,25000],\"xaxis\":\"x5\",\"y\":[0.5219000090252269,0.5580749988555909,0.5661500036716461,0.6083149909973145,0.5903650045394897,0.5983100056648254,0.6286799967288971,0.6786250054836274,0.6364699959754944],\"yaxis\":\"y5\",\"type\":\"scatter\"},{\"customdata\":[[10.0,0.03147920475806272,0.009954598596628788],[10.0,0.04014368285979254,0.012694547150440624],[10.0,0.05347787555681892,0.016911189118659308],[10.0,0.03648555603390759,0.011537745876484758],[10.0,0.0281900040544025,0.008914462006129307],[10.0,0.032175563022451906,0.010174806414923944],[10.0,0.027733318560423773,0.008770045372596118],[10.0,0.04163564777202077,0.013166347881610065],[10.0,0.03402842072880575,0.010760731468151302],[10.0,0.03566904229231325,0.01127954156005833]],\"error_y\":{\"array\":[0.009954598596628788,0.012694547150440624,0.016911189118659308,0.011537745876484758,0.008914462006129307,0.010174806414923944,0.008770045372596118,0.013166347881610065,0.010760731468151302,0.01127954156005833]},\"hovertemplate\":\"model_name=sa=1; rca=1; d=128; L=2; rca_type=disentangled_v2; sym_rel=True; symbol_type=pos_sym_retriever<br>task=occurs<br>train_size=%{x}<br>Accuracy=%{y}<br># of Trials=%{customdata[0]}<br>Standard Deviation=%{customdata[1]}<br>Standard Error=%{customdata[2]}<extra></extra>\",\"legendgroup\":\"sa=1; rca=1; d=128; L=2; rca_type=disentangled_v2; sym_rel=True; symbol_type=pos_sym_retriever\",\"line\":{\"color\":\"#EF553B\",\"dash\":\"solid\"},\"marker\":{\"symbol\":\"circle\"},\"mode\":\"lines\",\"name\":\"sa=1; rca=1; d=128; L=2; rca_type=disentangled_v2; sym_rel=True; symbol_type=pos_sym_retriever\",\"orientation\":\"v\",\"showlegend\":false,\"x\":[250,500,750,1000,1250,1500,1750,2000,2250,2500],\"xaxis\":\"x6\",\"y\":[0.5711450040340423,0.6445250093936921,0.7112250030040741,0.7482800006866455,0.7797749996185303,0.7935199975967407,0.8149349987506866,0.8192899942398071,0.8290199935436249,0.822394996881485],\"yaxis\":\"y6\",\"type\":\"scatter\"},{\"customdata\":[[10.0,0.04125735451329321,0.013046721049503418],[10.0,0.060362730863793755,0.019088371531733133],[10.0,0.04566136120916174,0.01443939024846112],[10.0,0.05916845582502816,0.018710708604214615],[10.0,0.040028305647011146,0.012658061672193513],[10.0,0.017408147295841333,0.005504939529855963],[10.0,0.02942828328851405,0.009306040282037444],[10.0,0.023900927768565446,0.007558136993983259],[10.0,0.03229723059797734,0.010213281080529036],[10.0,0.019068826580971542,0.006030092430263129]],\"error_y\":{\"array\":[0.013046721049503418,0.019088371531733133,0.01443939024846112,0.018710708604214615,0.012658061672193513,0.005504939529855963,0.009306040282037444,0.007558136993983259,0.010213281080529036,0.006030092430263129]},\"hovertemplate\":\"model_name=sa=1; rca=1; d=128; L=2; rca_type=disentangled_v2; sym_rel=True; symbol_type=pos_sym_retriever<br>task=same<br>train_size=%{x}<br>Accuracy=%{y}<br># of Trials=%{customdata[0]}<br>Standard Deviation=%{customdata[1]}<br>Standard Error=%{customdata[2]}<extra></extra>\",\"legendgroup\":\"sa=1; rca=1; d=128; L=2; rca_type=disentangled_v2; sym_rel=True; symbol_type=pos_sym_retriever\",\"line\":{\"color\":\"#EF553B\",\"dash\":\"solid\"},\"marker\":{\"symbol\":\"circle\"},\"mode\":\"lines\",\"name\":\"sa=1; rca=1; d=128; L=2; rca_type=disentangled_v2; sym_rel=True; symbol_type=pos_sym_retriever\",\"orientation\":\"v\",\"showlegend\":false,\"x\":[250,500,750,1000,1250,1500,1750,2000,2250,2500],\"xaxis\":\"x\",\"y\":[0.6100099980831146,0.6940549969673157,0.7863950073719025,0.8130950033664703,0.8516849994659423,0.8677600026130676,0.8695749998092651,0.8936249911785126,0.8905549943447113,0.9062399923801422],\"yaxis\":\"y\",\"type\":\"scatter\"},{\"customdata\":[[10.0,0.010213337406259803,0.0032297408715577436],[10.0,0.02297325476398491,0.0072647810321506264],[10.0,0.02404708643370805,0.007604356422145308],[10.0,0.024754294413884017,0.007827995221825633],[10.0,0.029563130408784027,0.009348682685634222],[10.0,0.03612307564244693,0.011423119512068244],[10.0,0.06500265879092207,0.02055564557460806],[10.0,0.0336592252404623,0.010643981603648957],[10.0,0.04793759240376713,0.01515919775406902],[10.0,0.0351822778090603,0.01112561311494291]],\"error_y\":{\"array\":[0.0032297408715577436,0.0072647810321506264,0.007604356422145308,0.007827995221825633,0.009348682685634222,0.011423119512068244,0.02055564557460806,0.010643981603648957,0.01515919775406902,0.01112561311494291]},\"hovertemplate\":\"model_name=sa=1; rca=1; d=128; L=2; rca_type=disentangled_v2; sym_rel=True; symbol_type=pos_sym_retriever<br>task=xoccurs<br>train_size=%{x}<br>Accuracy=%{y}<br># of Trials=%{customdata[0]}<br>Standard Deviation=%{customdata[1]}<br>Standard Error=%{customdata[2]}<extra></extra>\",\"legendgroup\":\"sa=1; rca=1; d=128; L=2; rca_type=disentangled_v2; sym_rel=True; symbol_type=pos_sym_retriever\",\"line\":{\"color\":\"#EF553B\",\"dash\":\"solid\"},\"marker\":{\"symbol\":\"circle\"},\"mode\":\"lines\",\"name\":\"sa=1; rca=1; d=128; L=2; rca_type=disentangled_v2; sym_rel=True; symbol_type=pos_sym_retriever\",\"orientation\":\"v\",\"showlegend\":false,\"x\":[250,500,750,1000,1250,1500,1750,2000,2250,2500],\"xaxis\":\"x2\",\"y\":[0.5205399930477143,0.5331349909305573,0.5665150046348572,0.5918999969959259,0.6347399950027466,0.6465749979019165,0.6872450053691864,0.7158849895000458,0.7214550018310547,0.741094994544983],\"yaxis\":\"y2\",\"type\":\"scatter\"},{\"customdata\":[[10.0,0.031533903676608646,0.009971895913444103],[10.0,0.0519179067002666,0.01641788365209593],[10.0,0.045014856842913745,0.014234947617002383],[10.0,0.031072446133782173,0.00982597022556447],[10.0,0.04456968380138253,0.014094171540588046],[10.0,0.028415742648637585,0.00898584681748805],[10.0,0.02742679575394474,0.008673114350270041],[10.0,0.03403199696611318,0.010761862373685776],[10.0,0.03291890993978788,0.010409873349968603],[10.0,0.02311699656606805,0.0073102361811066136]],\"error_y\":{\"array\":[0.009971895913444103,0.01641788365209593,0.014234947617002383,0.00982597022556447,0.014094171540588046,0.00898584681748805,0.008673114350270041,0.010761862373685776,0.010409873349968603,0.0073102361811066136]},\"hovertemplate\":\"model_name=sa=2; d=128; L=2<br>task=1task_between<br>train_size=%{x}<br>Accuracy=%{y}<br># of Trials=%{customdata[0]}<br>Standard Deviation=%{customdata[1]}<br>Standard Error=%{customdata[2]}<extra></extra>\",\"legendgroup\":\"sa=2; d=128; L=2\",\"line\":{\"color\":\"#00cc96\",\"dash\":\"solid\"},\"marker\":{\"symbol\":\"circle\"},\"mode\":\"lines\",\"name\":\"sa=2; d=128; L=2\",\"orientation\":\"v\",\"showlegend\":true,\"x\":[250,500,750,1000,1250,1500,1750,2000,2250,2500],\"xaxis\":\"x4\",\"y\":[0.5775179982185363,0.6487839996814728,0.7114579916000366,0.7781759917736053,0.8052660048007965,0.8421020030975341,0.8619399964809418,0.8730479955673218,0.8935180008411407,0.9046259939670562],\"yaxis\":\"y4\",\"type\":\"scatter\"},{\"customdata\":[[11.0,0.0038045409638848716,0.0011471122615221085],[10.0,0.0036577346328476473,0.0011566772516278304],[10.0,0.004080038539851097,0.0012902214727197139],[10.0,0.003453868591757435,0.0010922091488871756],[10.0,0.005158443105957918,0.0016312429395220311],[10.0,0.007171718186101676,0.0022678964204932623],[10.0,0.009712076859249033,0.00307122836858415],[10.0,0.01087026336039832,0.0034374790984734466],[10.0,0.11027471755077443,0.03487192757921919]],\"error_y\":{\"array\":[0.0011471122615221085,0.0011566772516278304,0.0012902214727197139,0.0010922091488871756,0.0016312429395220311,0.0022678964204932623,0.00307122836858415,0.0034374790984734466,0.03487192757921919]},\"hovertemplate\":\"model_name=sa=2; d=128; L=2<br>task=1task_match_patt<br>train_size=%{x}<br>Accuracy=%{y}<br># of Trials=%{customdata[0]}<br>Standard Deviation=%{customdata[1]}<br>Standard Error=%{customdata[2]}<extra></extra>\",\"legendgroup\":\"sa=2; d=128; L=2\",\"line\":{\"color\":\"#00cc96\",\"dash\":\"solid\"},\"marker\":{\"symbol\":\"circle\"},\"mode\":\"lines\",\"name\":\"sa=2; d=128; L=2\",\"orientation\":\"v\",\"showlegend\":false,\"x\":[5000,7500,10000,12500,15000,17500,20000,22500,25000],\"xaxis\":\"x5\",\"y\":[0.5016636360775341,0.5030749946832657,0.5026299953460693,0.5053049981594085,0.5065199971199036,0.5104050099849701,0.5115099996328354,0.5201050043106079,0.5742299973964691],\"yaxis\":\"y5\",\"type\":\"scatter\"},{\"customdata\":[[10.0,0.015982503109542835,0.005054111253687896],[10.0,0.021371601612583616,0.006758293834149168],[10.0,0.014844680607504981,0.004694300185744777],[10.0,0.024104179872368448,0.007622410952707104],[10.0,0.055956974349925234,0.01769514899173836],[10.0,0.06954344635626342,0.021991568682352986],[10.0,0.08287810357421814,0.026208357544987113],[10.0,0.06489046103975284,0.0205201655304037],[10.0,0.05943572620674023,0.018795226919945892],[10.0,0.06103128993449664,0.019299788473111798]],\"error_y\":{\"array\":[0.005054111253687896,0.006758293834149168,0.004694300185744777,0.007622410952707104,0.01769514899173836,0.021991568682352986,0.026208357544987113,0.0205201655304037,0.018795226919945892,0.019299788473111798]},\"hovertemplate\":\"model_name=sa=2; d=128; L=2<br>task=occurs<br>train_size=%{x}<br>Accuracy=%{y}<br># of Trials=%{customdata[0]}<br>Standard Deviation=%{customdata[1]}<br>Standard Error=%{customdata[2]}<extra></extra>\",\"legendgroup\":\"sa=2; d=128; L=2\",\"line\":{\"color\":\"#00cc96\",\"dash\":\"solid\"},\"marker\":{\"symbol\":\"circle\"},\"mode\":\"lines\",\"name\":\"sa=2; d=128; L=2\",\"orientation\":\"v\",\"showlegend\":false,\"x\":[250,500,750,1000,1250,1500,1750,2000,2250,2500],\"xaxis\":\"x6\",\"y\":[0.5229550063610077,0.5387449979782104,0.5778750002384185,0.5917300045490265,0.6522949993610382,0.7067499995231629,0.7590399920940399,0.736329996585846,0.7964850008487702,0.8219100058078765],\"yaxis\":\"y6\",\"type\":\"scatter\"},{\"customdata\":[[10.0,0.03298796943970824,0.010431711881350657],[10.0,0.06441717740929975,0.02037050010525318],[10.0,0.049124794197898954,0.015534623925238506],[10.0,0.0471121727801174,0.014898177150455806],[10.0,0.029767927330134288,0.00941344515855994],[10.0,0.027699762981903367,0.008759434166963207],[10.0,0.03864696358242172,0.012221242957003314],[10.0,0.03123727765135675,0.009878094528136244],[10.0,0.01628997182626555,0.005151341399097184],[9.0,0.026831891289339837,0.008943963763113278]],\"error_y\":{\"array\":[0.010431711881350657,0.02037050010525318,0.015534623925238506,0.014898177150455806,0.00941344515855994,0.008759434166963207,0.012221242957003314,0.009878094528136244,0.005151341399097184,0.008943963763113278]},\"hovertemplate\":\"model_name=sa=2; d=128; L=2<br>task=same<br>train_size=%{x}<br>Accuracy=%{y}<br># of Trials=%{customdata[0]}<br>Standard Deviation=%{customdata[1]}<br>Standard Error=%{customdata[2]}<extra></extra>\",\"legendgroup\":\"sa=2; d=128; L=2\",\"line\":{\"color\":\"#00cc96\",\"dash\":\"solid\"},\"marker\":{\"symbol\":\"circle\"},\"mode\":\"lines\",\"name\":\"sa=2; d=128; L=2\",\"orientation\":\"v\",\"showlegend\":false,\"x\":[250,500,750,1000,1250,1500,1750,2000,2250,2500],\"xaxis\":\"x\",\"y\":[0.6124250054359436,0.734009999036789,0.8361050009727478,0.8431249976158142,0.8625599980354309,0.8873449981212616,0.8959999978542328,0.8903099954128265,0.902539998292923,0.8976499901877509],\"yaxis\":\"y\",\"type\":\"scatter\"},{\"customdata\":[[10.0,0.007275734115334394,0.0023007891454246902],[10.0,0.009183448859420618,0.002904061517144461],[10.0,0.012388235772078371,0.003917504123094221],[10.0,0.01049447714852977,0.003318645064194325],[10.0,0.01106418015297185,0.0034988009725821245],[10.0,0.017631270922938293,0.005575497415998409],[10.0,0.026702900340942772,0.008444198520986594],[10.0,0.02962732030412984,0.009368981312840283],[10.0,0.023860160999635286,0.007545245409716749],[10.0,0.07506398893934549,0.023737317530601855]],\"error_y\":{\"array\":[0.0023007891454246902,0.002904061517144461,0.003917504123094221,0.003318645064194325,0.0034988009725821245,0.005575497415998409,0.008444198520986594,0.009368981312840283,0.007545245409716749,0.023737317530601855]},\"hovertemplate\":\"model_name=sa=2; d=128; L=2<br>task=xoccurs<br>train_size=%{x}<br>Accuracy=%{y}<br># of Trials=%{customdata[0]}<br>Standard Deviation=%{customdata[1]}<br>Standard Error=%{customdata[2]}<extra></extra>\",\"legendgroup\":\"sa=2; d=128; L=2\",\"line\":{\"color\":\"#00cc96\",\"dash\":\"solid\"},\"marker\":{\"symbol\":\"circle\"},\"mode\":\"lines\",\"name\":\"sa=2; d=128; L=2\",\"orientation\":\"v\",\"showlegend\":false,\"x\":[250,500,750,1000,1250,1500,1750,2000,2250,2500],\"xaxis\":\"x2\",\"y\":[0.5083449959754944,0.5162299931049347,0.5277749955654144,0.5325950026512146,0.557039999961853,0.5432949960231781,0.5741199910640716,0.5878700017929077,0.5812699913978576,0.6280049979686737],\"yaxis\":\"y2\",\"type\":\"scatter\"}],                        {\"template\":{\"data\":{\"histogram2dcontour\":[{\"type\":\"histogram2dcontour\",\"colorbar\":{\"outlinewidth\":0,\"ticks\":\"\"},\"colorscale\":[[0.0,\"#0d0887\"],[0.1111111111111111,\"#46039f\"],[0.2222222222222222,\"#7201a8\"],[0.3333333333333333,\"#9c179e\"],[0.4444444444444444,\"#bd3786\"],[0.5555555555555556,\"#d8576b\"],[0.6666666666666666,\"#ed7953\"],[0.7777777777777778,\"#fb9f3a\"],[0.8888888888888888,\"#fdca26\"],[1.0,\"#f0f921\"]]}],\"choropleth\":[{\"type\":\"choropleth\",\"colorbar\":{\"outlinewidth\":0,\"ticks\":\"\"}}],\"histogram2d\":[{\"type\":\"histogram2d\",\"colorbar\":{\"outlinewidth\":0,\"ticks\":\"\"},\"colorscale\":[[0.0,\"#0d0887\"],[0.1111111111111111,\"#46039f\"],[0.2222222222222222,\"#7201a8\"],[0.3333333333333333,\"#9c179e\"],[0.4444444444444444,\"#bd3786\"],[0.5555555555555556,\"#d8576b\"],[0.6666666666666666,\"#ed7953\"],[0.7777777777777778,\"#fb9f3a\"],[0.8888888888888888,\"#fdca26\"],[1.0,\"#f0f921\"]]}],\"heatmap\":[{\"type\":\"heatmap\",\"colorbar\":{\"outlinewidth\":0,\"ticks\":\"\"},\"colorscale\":[[0.0,\"#0d0887\"],[0.1111111111111111,\"#46039f\"],[0.2222222222222222,\"#7201a8\"],[0.3333333333333333,\"#9c179e\"],[0.4444444444444444,\"#bd3786\"],[0.5555555555555556,\"#d8576b\"],[0.6666666666666666,\"#ed7953\"],[0.7777777777777778,\"#fb9f3a\"],[0.8888888888888888,\"#fdca26\"],[1.0,\"#f0f921\"]]}],\"heatmapgl\":[{\"type\":\"heatmapgl\",\"colorbar\":{\"outlinewidth\":0,\"ticks\":\"\"},\"colorscale\":[[0.0,\"#0d0887\"],[0.1111111111111111,\"#46039f\"],[0.2222222222222222,\"#7201a8\"],[0.3333333333333333,\"#9c179e\"],[0.4444444444444444,\"#bd3786\"],[0.5555555555555556,\"#d8576b\"],[0.6666666666666666,\"#ed7953\"],[0.7777777777777778,\"#fb9f3a\"],[0.8888888888888888,\"#fdca26\"],[1.0,\"#f0f921\"]]}],\"contourcarpet\":[{\"type\":\"contourcarpet\",\"colorbar\":{\"outlinewidth\":0,\"ticks\":\"\"}}],\"contour\":[{\"type\":\"contour\",\"colorbar\":{\"outlinewidth\":0,\"ticks\":\"\"},\"colorscale\":[[0.0,\"#0d0887\"],[0.1111111111111111,\"#46039f\"],[0.2222222222222222,\"#7201a8\"],[0.3333333333333333,\"#9c179e\"],[0.4444444444444444,\"#bd3786\"],[0.5555555555555556,\"#d8576b\"],[0.6666666666666666,\"#ed7953\"],[0.7777777777777778,\"#fb9f3a\"],[0.8888888888888888,\"#fdca26\"],[1.0,\"#f0f921\"]]}],\"surface\":[{\"type\":\"surface\",\"colorbar\":{\"outlinewidth\":0,\"ticks\":\"\"},\"colorscale\":[[0.0,\"#0d0887\"],[0.1111111111111111,\"#46039f\"],[0.2222222222222222,\"#7201a8\"],[0.3333333333333333,\"#9c179e\"],[0.4444444444444444,\"#bd3786\"],[0.5555555555555556,\"#d8576b\"],[0.6666666666666666,\"#ed7953\"],[0.7777777777777778,\"#fb9f3a\"],[0.8888888888888888,\"#fdca26\"],[1.0,\"#f0f921\"]]}],\"mesh3d\":[{\"type\":\"mesh3d\",\"colorbar\":{\"outlinewidth\":0,\"ticks\":\"\"}}],\"scatter\":[{\"fillpattern\":{\"fillmode\":\"overlay\",\"size\":10,\"solidity\":0.2},\"type\":\"scatter\"}],\"parcoords\":[{\"type\":\"parcoords\",\"line\":{\"colorbar\":{\"outlinewidth\":0,\"ticks\":\"\"}}}],\"scatterpolargl\":[{\"type\":\"scatterpolargl\",\"marker\":{\"colorbar\":{\"outlinewidth\":0,\"ticks\":\"\"}}}],\"bar\":[{\"error_x\":{\"color\":\"#2a3f5f\"},\"error_y\":{\"color\":\"#2a3f5f\"},\"marker\":{\"line\":{\"color\":\"#E5ECF6\",\"width\":0.5},\"pattern\":{\"fillmode\":\"overlay\",\"size\":10,\"solidity\":0.2}},\"type\":\"bar\"}],\"scattergeo\":[{\"type\":\"scattergeo\",\"marker\":{\"colorbar\":{\"outlinewidth\":0,\"ticks\":\"\"}}}],\"scatterpolar\":[{\"type\":\"scatterpolar\",\"marker\":{\"colorbar\":{\"outlinewidth\":0,\"ticks\":\"\"}}}],\"histogram\":[{\"marker\":{\"pattern\":{\"fillmode\":\"overlay\",\"size\":10,\"solidity\":0.2}},\"type\":\"histogram\"}],\"scattergl\":[{\"type\":\"scattergl\",\"marker\":{\"colorbar\":{\"outlinewidth\":0,\"ticks\":\"\"}}}],\"scatter3d\":[{\"type\":\"scatter3d\",\"line\":{\"colorbar\":{\"outlinewidth\":0,\"ticks\":\"\"}},\"marker\":{\"colorbar\":{\"outlinewidth\":0,\"ticks\":\"\"}}}],\"scattermapbox\":[{\"type\":\"scattermapbox\",\"marker\":{\"colorbar\":{\"outlinewidth\":0,\"ticks\":\"\"}}}],\"scatterternary\":[{\"type\":\"scatterternary\",\"marker\":{\"colorbar\":{\"outlinewidth\":0,\"ticks\":\"\"}}}],\"scattercarpet\":[{\"type\":\"scattercarpet\",\"marker\":{\"colorbar\":{\"outlinewidth\":0,\"ticks\":\"\"}}}],\"carpet\":[{\"aaxis\":{\"endlinecolor\":\"#2a3f5f\",\"gridcolor\":\"white\",\"linecolor\":\"white\",\"minorgridcolor\":\"white\",\"startlinecolor\":\"#2a3f5f\"},\"baxis\":{\"endlinecolor\":\"#2a3f5f\",\"gridcolor\":\"white\",\"linecolor\":\"white\",\"minorgridcolor\":\"white\",\"startlinecolor\":\"#2a3f5f\"},\"type\":\"carpet\"}],\"table\":[{\"cells\":{\"fill\":{\"color\":\"#EBF0F8\"},\"line\":{\"color\":\"white\"}},\"header\":{\"fill\":{\"color\":\"#C8D4E3\"},\"line\":{\"color\":\"white\"}},\"type\":\"table\"}],\"barpolar\":[{\"marker\":{\"line\":{\"color\":\"#E5ECF6\",\"width\":0.5},\"pattern\":{\"fillmode\":\"overlay\",\"size\":10,\"solidity\":0.2}},\"type\":\"barpolar\"}],\"pie\":[{\"automargin\":true,\"type\":\"pie\"}]},\"layout\":{\"autotypenumbers\":\"strict\",\"colorway\":[\"#636efa\",\"#EF553B\",\"#00cc96\",\"#ab63fa\",\"#FFA15A\",\"#19d3f3\",\"#FF6692\",\"#B6E880\",\"#FF97FF\",\"#FECB52\"],\"font\":{\"color\":\"#2a3f5f\"},\"hovermode\":\"closest\",\"hoverlabel\":{\"align\":\"left\"},\"paper_bgcolor\":\"white\",\"plot_bgcolor\":\"#E5ECF6\",\"polar\":{\"bgcolor\":\"#E5ECF6\",\"angularaxis\":{\"gridcolor\":\"white\",\"linecolor\":\"white\",\"ticks\":\"\"},\"radialaxis\":{\"gridcolor\":\"white\",\"linecolor\":\"white\",\"ticks\":\"\"}},\"ternary\":{\"bgcolor\":\"#E5ECF6\",\"aaxis\":{\"gridcolor\":\"white\",\"linecolor\":\"white\",\"ticks\":\"\"},\"baxis\":{\"gridcolor\":\"white\",\"linecolor\":\"white\",\"ticks\":\"\"},\"caxis\":{\"gridcolor\":\"white\",\"linecolor\":\"white\",\"ticks\":\"\"}},\"coloraxis\":{\"colorbar\":{\"outlinewidth\":0,\"ticks\":\"\"}},\"colorscale\":{\"sequential\":[[0.0,\"#0d0887\"],[0.1111111111111111,\"#46039f\"],[0.2222222222222222,\"#7201a8\"],[0.3333333333333333,\"#9c179e\"],[0.4444444444444444,\"#bd3786\"],[0.5555555555555556,\"#d8576b\"],[0.6666666666666666,\"#ed7953\"],[0.7777777777777778,\"#fb9f3a\"],[0.8888888888888888,\"#fdca26\"],[1.0,\"#f0f921\"]],\"sequentialminus\":[[0.0,\"#0d0887\"],[0.1111111111111111,\"#46039f\"],[0.2222222222222222,\"#7201a8\"],[0.3333333333333333,\"#9c179e\"],[0.4444444444444444,\"#bd3786\"],[0.5555555555555556,\"#d8576b\"],[0.6666666666666666,\"#ed7953\"],[0.7777777777777778,\"#fb9f3a\"],[0.8888888888888888,\"#fdca26\"],[1.0,\"#f0f921\"]],\"diverging\":[[0,\"#8e0152\"],[0.1,\"#c51b7d\"],[0.2,\"#de77ae\"],[0.3,\"#f1b6da\"],[0.4,\"#fde0ef\"],[0.5,\"#f7f7f7\"],[0.6,\"#e6f5d0\"],[0.7,\"#b8e186\"],[0.8,\"#7fbc41\"],[0.9,\"#4d9221\"],[1,\"#276419\"]]},\"xaxis\":{\"gridcolor\":\"white\",\"linecolor\":\"white\",\"ticks\":\"\",\"title\":{\"standoff\":15},\"zerolinecolor\":\"white\",\"automargin\":true,\"zerolinewidth\":2},\"yaxis\":{\"gridcolor\":\"white\",\"linecolor\":\"white\",\"ticks\":\"\",\"title\":{\"standoff\":15},\"zerolinecolor\":\"white\",\"automargin\":true,\"zerolinewidth\":2},\"scene\":{\"xaxis\":{\"backgroundcolor\":\"#E5ECF6\",\"gridcolor\":\"white\",\"linecolor\":\"white\",\"showbackground\":true,\"ticks\":\"\",\"zerolinecolor\":\"white\",\"gridwidth\":2},\"yaxis\":{\"backgroundcolor\":\"#E5ECF6\",\"gridcolor\":\"white\",\"linecolor\":\"white\",\"showbackground\":true,\"ticks\":\"\",\"zerolinecolor\":\"white\",\"gridwidth\":2},\"zaxis\":{\"backgroundcolor\":\"#E5ECF6\",\"gridcolor\":\"white\",\"linecolor\":\"white\",\"showbackground\":true,\"ticks\":\"\",\"zerolinecolor\":\"white\",\"gridwidth\":2}},\"shapedefaults\":{\"line\":{\"color\":\"#2a3f5f\"}},\"annotationdefaults\":{\"arrowcolor\":\"#2a3f5f\",\"arrowhead\":0,\"arrowwidth\":1},\"geo\":{\"bgcolor\":\"white\",\"landcolor\":\"#E5ECF6\",\"subunitcolor\":\"white\",\"showland\":true,\"showlakes\":true,\"lakecolor\":\"white\"},\"title\":{\"x\":0.05},\"mapbox\":{\"style\":\"light\"}}},\"xaxis\":{\"anchor\":\"y\",\"domain\":[0.0,0.31999999999999995],\"title\":{\"text\":\"train_size\"},\"showticklabels\":true},\"yaxis\":{\"anchor\":\"x\",\"domain\":[0.0,0.46499999999999997],\"title\":{\"text\":\"Accuracy\"},\"showticklabels\":true},\"xaxis2\":{\"anchor\":\"y2\",\"domain\":[0.33999999999999997,0.6599999999999999],\"title\":{\"text\":\"train_size\"},\"showticklabels\":true},\"yaxis2\":{\"anchor\":\"x2\",\"domain\":[0.0,0.46499999999999997],\"showticklabels\":true},\"xaxis3\":{\"anchor\":\"y3\",\"domain\":[0.6799999999999999,0.9999999999999999],\"title\":{\"text\":\"train_size\"},\"showticklabels\":true},\"yaxis3\":{\"anchor\":\"x3\",\"domain\":[0.0,0.46499999999999997],\"showticklabels\":true},\"xaxis4\":{\"anchor\":\"y4\",\"domain\":[0.0,0.31999999999999995],\"showticklabels\":true},\"yaxis4\":{\"anchor\":\"x4\",\"domain\":[0.5349999999999999,0.9999999999999999],\"title\":{\"text\":\"Accuracy\"},\"showticklabels\":true},\"xaxis5\":{\"anchor\":\"y5\",\"domain\":[0.33999999999999997,0.6599999999999999],\"showticklabels\":true},\"yaxis5\":{\"anchor\":\"x5\",\"domain\":[0.5349999999999999,0.9999999999999999],\"showticklabels\":true},\"xaxis6\":{\"anchor\":\"y6\",\"domain\":[0.6799999999999999,0.9999999999999999],\"showticklabels\":true},\"yaxis6\":{\"anchor\":\"x6\",\"domain\":[0.5349999999999999,0.9999999999999999],\"showticklabels\":true},\"annotations\":[{\"font\":{},\"showarrow\":false,\"text\":\"task=same\",\"x\":0.15999999999999998,\"xanchor\":\"center\",\"xref\":\"paper\",\"y\":0.46499999999999997,\"yanchor\":\"bottom\",\"yref\":\"paper\"},{\"font\":{},\"showarrow\":false,\"text\":\"task=xoccurs\",\"x\":0.49999999999999994,\"xanchor\":\"center\",\"xref\":\"paper\",\"y\":0.46499999999999997,\"yanchor\":\"bottom\",\"yref\":\"paper\"},{\"font\":{},\"showarrow\":false,\"text\":\"task=1task_between\",\"x\":0.15999999999999998,\"xanchor\":\"center\",\"xref\":\"paper\",\"y\":0.9999999999999999,\"yanchor\":\"bottom\",\"yref\":\"paper\"},{\"font\":{},\"showarrow\":false,\"text\":\"task=1task_match_patt\",\"x\":0.49999999999999994,\"xanchor\":\"center\",\"xref\":\"paper\",\"y\":0.9999999999999999,\"yanchor\":\"bottom\",\"yref\":\"paper\"},{\"font\":{},\"showarrow\":false,\"text\":\"task=occurs\",\"x\":0.8399999999999999,\"xanchor\":\"center\",\"xref\":\"paper\",\"y\":0.9999999999999999,\"yanchor\":\"bottom\",\"yref\":\"paper\"}],\"legend\":{\"title\":{\"text\":\"model_name\"},\"tracegroupgap\":0},\"title\":{\"text\":\"Learning curves (test/acc_stripes)\"},\"height\":600,\"width\":1400},                        {\"responsive\": true}                    ).then(function(){\n",
       "                            \n",
       "var gd = document.getElementById('2cda187e-bdbe-4824-a180-45b86148264e');\n",
       "var x = new MutationObserver(function (mutations, observer) {{\n",
       "        var display = window.getComputedStyle(gd).display;\n",
       "        if (!display || display === 'none') {{\n",
       "            console.log([gd, 'removed!']);\n",
       "            Plotly.purge(gd);\n",
       "            observer.disconnect();\n",
       "        }}\n",
       "}});\n",
       "\n",
       "// Listen for the removal of the full notebook cells\n",
       "var notebookContainer = gd.closest('#notebook-container');\n",
       "if (notebookContainer) {{\n",
       "    x.observe(notebookContainer, {childList: true});\n",
       "}}\n",
       "\n",
       "// Listen for the clearing of the current output cell\n",
       "var outputEl = gd.closest('.output');\n",
       "if (outputEl) {{\n",
       "    x.observe(outputEl, {childList: true});\n",
       "}}\n",
       "\n",
       "                        })                };                });            </script>        </div>"
      ]
     },
     "metadata": {},
     "output_type": "display_data"
    }
   ],
   "source": [
    "metric = 'test/acc_stripes'\n",
    "agg_df = project_df_.groupby(['model_name', 'task', 'train_size'])[metric].aggregate(['mean', 'std', 'sem', 'count']).reset_index()\n",
    "agg_df.rename(columns={'mean': 'Accuracy', 'sem': 'Standard Error', 'std': 'Standard Deviation', 'count': '# of Trials'}, inplace=True)\n",
    "hover_data = ['# of Trials', 'Standard Deviation', 'Standard Error']\n",
    "fig = px.line(\n",
    "    agg_df, x='train_size', y='Accuracy', error_y='Standard Error', color='model_name', hover_data=hover_data, facet_col='task',\n",
    "    facet_col_wrap=3, title=f'Learning curves ({metric})', width=1400, height=600)\n",
    "fig.update_xaxes(matches=None)\n",
    "fig.update_yaxes(showticklabels=True, col=1)\n",
    "fig.update_yaxes(showticklabels=True, col=2)\n",
    "fig.update_yaxes(showticklabels=True, col=3)\n",
    "fig.update_xaxes(showticklabels=True, col=1)\n",
    "fig.update_xaxes(showticklabels=True, col=2)\n",
    "fig.update_xaxes(showticklabels=True, col=3)\n",
    "fig.update_yaxes(matches=None)\n",
    "fig.show()"
   ]
  },
  {
   "cell_type": "code",
   "execution_count": null,
   "metadata": {},
   "outputs": [],
   "source": []
  },
  {
   "cell_type": "code",
   "execution_count": 126,
   "metadata": {},
   "outputs": [
    {
     "name": "stderr",
     "output_type": "stream",
     "text": [
      "/tmp/ipykernel_436787/3627558338.py:5: UserWarning:\n",
      "\n",
      "Boolean Series key will be reindexed to match DataFrame index.\n",
      "\n",
      "/home/awni/miniconda3/envs/abstract_transformer/lib/python3.11/site-packages/seaborn/_oldcore.py:1119: FutureWarning:\n",
      "\n",
      "use_inf_as_na option is deprecated and will be removed in a future version. Convert inf values to NaN before operating instead.\n",
      "\n",
      "/home/awni/miniconda3/envs/abstract_transformer/lib/python3.11/site-packages/seaborn/_oldcore.py:1119: FutureWarning:\n",
      "\n",
      "use_inf_as_na option is deprecated and will be removed in a future version. Convert inf values to NaN before operating instead.\n",
      "\n",
      "/home/awni/miniconda3/envs/abstract_transformer/lib/python3.11/site-packages/seaborn/_oldcore.py:1075: FutureWarning:\n",
      "\n",
      "When grouping with a length-1 list-like, you will need to pass a length-1 tuple to get_group in a future version of pandas. Pass `(name,)` instead of `name` to silence this warning.\n",
      "\n",
      "/home/awni/miniconda3/envs/abstract_transformer/lib/python3.11/site-packages/seaborn/_oldcore.py:1075: FutureWarning:\n",
      "\n",
      "When grouping with a length-1 list-like, you will need to pass a length-1 tuple to get_group in a future version of pandas. Pass `(name,)` instead of `name` to silence this warning.\n",
      "\n",
      "/home/awni/miniconda3/envs/abstract_transformer/lib/python3.11/site-packages/seaborn/_oldcore.py:1075: FutureWarning:\n",
      "\n",
      "When grouping with a length-1 list-like, you will need to pass a length-1 tuple to get_group in a future version of pandas. Pass `(name,)` instead of `name` to silence this warning.\n",
      "\n",
      "/tmp/ipykernel_436787/3627558338.py:5: UserWarning:\n",
      "\n",
      "Boolean Series key will be reindexed to match DataFrame index.\n",
      "\n",
      "/home/awni/miniconda3/envs/abstract_transformer/lib/python3.11/site-packages/seaborn/_oldcore.py:1119: FutureWarning:\n",
      "\n",
      "use_inf_as_na option is deprecated and will be removed in a future version. Convert inf values to NaN before operating instead.\n",
      "\n",
      "/home/awni/miniconda3/envs/abstract_transformer/lib/python3.11/site-packages/seaborn/_oldcore.py:1119: FutureWarning:\n",
      "\n",
      "use_inf_as_na option is deprecated and will be removed in a future version. Convert inf values to NaN before operating instead.\n",
      "\n",
      "/home/awni/miniconda3/envs/abstract_transformer/lib/python3.11/site-packages/seaborn/_oldcore.py:1075: FutureWarning:\n",
      "\n",
      "When grouping with a length-1 list-like, you will need to pass a length-1 tuple to get_group in a future version of pandas. Pass `(name,)` instead of `name` to silence this warning.\n",
      "\n",
      "/home/awni/miniconda3/envs/abstract_transformer/lib/python3.11/site-packages/seaborn/_oldcore.py:1075: FutureWarning:\n",
      "\n",
      "When grouping with a length-1 list-like, you will need to pass a length-1 tuple to get_group in a future version of pandas. Pass `(name,)` instead of `name` to silence this warning.\n",
      "\n",
      "/home/awni/miniconda3/envs/abstract_transformer/lib/python3.11/site-packages/seaborn/_oldcore.py:1075: FutureWarning:\n",
      "\n",
      "When grouping with a length-1 list-like, you will need to pass a length-1 tuple to get_group in a future version of pandas. Pass `(name,)` instead of `name` to silence this warning.\n",
      "\n",
      "/tmp/ipykernel_436787/3627558338.py:5: UserWarning:\n",
      "\n",
      "Boolean Series key will be reindexed to match DataFrame index.\n",
      "\n",
      "/home/awni/miniconda3/envs/abstract_transformer/lib/python3.11/site-packages/seaborn/_oldcore.py:1119: FutureWarning:\n",
      "\n",
      "use_inf_as_na option is deprecated and will be removed in a future version. Convert inf values to NaN before operating instead.\n",
      "\n",
      "/home/awni/miniconda3/envs/abstract_transformer/lib/python3.11/site-packages/seaborn/_oldcore.py:1119: FutureWarning:\n",
      "\n",
      "use_inf_as_na option is deprecated and will be removed in a future version. Convert inf values to NaN before operating instead.\n",
      "\n",
      "/home/awni/miniconda3/envs/abstract_transformer/lib/python3.11/site-packages/seaborn/_oldcore.py:1075: FutureWarning:\n",
      "\n",
      "When grouping with a length-1 list-like, you will need to pass a length-1 tuple to get_group in a future version of pandas. Pass `(name,)` instead of `name` to silence this warning.\n",
      "\n",
      "/home/awni/miniconda3/envs/abstract_transformer/lib/python3.11/site-packages/seaborn/_oldcore.py:1075: FutureWarning:\n",
      "\n",
      "When grouping with a length-1 list-like, you will need to pass a length-1 tuple to get_group in a future version of pandas. Pass `(name,)` instead of `name` to silence this warning.\n",
      "\n",
      "/home/awni/miniconda3/envs/abstract_transformer/lib/python3.11/site-packages/seaborn/_oldcore.py:1075: FutureWarning:\n",
      "\n",
      "When grouping with a length-1 list-like, you will need to pass a length-1 tuple to get_group in a future version of pandas. Pass `(name,)` instead of `name` to silence this warning.\n",
      "\n",
      "/tmp/ipykernel_436787/3627558338.py:5: UserWarning:\n",
      "\n",
      "Boolean Series key will be reindexed to match DataFrame index.\n",
      "\n",
      "/home/awni/miniconda3/envs/abstract_transformer/lib/python3.11/site-packages/seaborn/_oldcore.py:1119: FutureWarning:\n",
      "\n",
      "use_inf_as_na option is deprecated and will be removed in a future version. Convert inf values to NaN before operating instead.\n",
      "\n",
      "/home/awni/miniconda3/envs/abstract_transformer/lib/python3.11/site-packages/seaborn/_oldcore.py:1119: FutureWarning:\n",
      "\n",
      "use_inf_as_na option is deprecated and will be removed in a future version. Convert inf values to NaN before operating instead.\n",
      "\n",
      "/home/awni/miniconda3/envs/abstract_transformer/lib/python3.11/site-packages/seaborn/_oldcore.py:1075: FutureWarning:\n",
      "\n",
      "When grouping with a length-1 list-like, you will need to pass a length-1 tuple to get_group in a future version of pandas. Pass `(name,)` instead of `name` to silence this warning.\n",
      "\n",
      "/home/awni/miniconda3/envs/abstract_transformer/lib/python3.11/site-packages/seaborn/_oldcore.py:1075: FutureWarning:\n",
      "\n",
      "When grouping with a length-1 list-like, you will need to pass a length-1 tuple to get_group in a future version of pandas. Pass `(name,)` instead of `name` to silence this warning.\n",
      "\n",
      "/home/awni/miniconda3/envs/abstract_transformer/lib/python3.11/site-packages/seaborn/_oldcore.py:1075: FutureWarning:\n",
      "\n",
      "When grouping with a length-1 list-like, you will need to pass a length-1 tuple to get_group in a future version of pandas. Pass `(name,)` instead of `name` to silence this warning.\n",
      "\n",
      "/tmp/ipykernel_436787/3627558338.py:5: UserWarning:\n",
      "\n",
      "Boolean Series key will be reindexed to match DataFrame index.\n",
      "\n",
      "/home/awni/miniconda3/envs/abstract_transformer/lib/python3.11/site-packages/seaborn/_oldcore.py:1119: FutureWarning:\n",
      "\n",
      "use_inf_as_na option is deprecated and will be removed in a future version. Convert inf values to NaN before operating instead.\n",
      "\n",
      "/home/awni/miniconda3/envs/abstract_transformer/lib/python3.11/site-packages/seaborn/_oldcore.py:1119: FutureWarning:\n",
      "\n",
      "use_inf_as_na option is deprecated and will be removed in a future version. Convert inf values to NaN before operating instead.\n",
      "\n",
      "/home/awni/miniconda3/envs/abstract_transformer/lib/python3.11/site-packages/seaborn/_oldcore.py:1075: FutureWarning:\n",
      "\n",
      "When grouping with a length-1 list-like, you will need to pass a length-1 tuple to get_group in a future version of pandas. Pass `(name,)` instead of `name` to silence this warning.\n",
      "\n",
      "/home/awni/miniconda3/envs/abstract_transformer/lib/python3.11/site-packages/seaborn/_oldcore.py:1075: FutureWarning:\n",
      "\n",
      "When grouping with a length-1 list-like, you will need to pass a length-1 tuple to get_group in a future version of pandas. Pass `(name,)` instead of `name` to silence this warning.\n",
      "\n",
      "/home/awni/miniconda3/envs/abstract_transformer/lib/python3.11/site-packages/seaborn/_oldcore.py:1075: FutureWarning:\n",
      "\n",
      "When grouping with a length-1 list-like, you will need to pass a length-1 tuple to get_group in a future version of pandas. Pass `(name,)` instead of `name` to silence this warning.\n",
      "\n"
     ]
    },
    {
     "data": {
      "image/png": "[encoded data removed]",
      "text/plain": [
       "<Figure size 700x400 with 6 Axes>"
      ]
     },
     "metadata": {},
     "output_type": "display_data"
    }
   ],
   "source": [
    "metric = 'test/acc_in_distribution'\n",
    "fig, axs = plt.subplots(ncols=3, nrows=2, figsize=(7, 4))\n",
    "axs = axs.flatten()\n",
    "for i, task in enumerate(project_df.task.unique()):\n",
    "    task_df = project_df_[project_df.task == task]\n",
    "    g = sns.lineplot(task_df, x='train_size', y=metric, hue='model_name', ax=axs[i], )\n",
    "    g.set_title(task)\n",
    "    # sns.move_legend(g, loc='lower center', bbox_to_anchor=(0.5, -0.5))"
   ]
  }
 ],
 "metadata": {
  "kernelspec": {
   "display_name": "abstract_transformer",
   "language": "python",
   "name": "python3"
  },
  "language_info": {
   "codemirror_mode": {
    "name": "ipython",
    "version": 3
   },
   "file_extension": ".py",
   "mimetype": "text/x-python",
   "name": "python",
   "nbconvert_exporter": "python",
   "pygments_lexer": "ipython3",
   "version": "3.11.7"
  }
 },
 "nbformat": 4,
 "nbformat_minor": 2
}
