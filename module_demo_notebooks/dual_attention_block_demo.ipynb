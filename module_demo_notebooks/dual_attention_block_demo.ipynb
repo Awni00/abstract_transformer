{
 "cells": [
  {
   "cell_type": "code",
   "execution_count": 1,
   "metadata": {},
   "outputs": [],
   "source": [
    "import sys; sys.path.append('..')\n",
    "import torch\n",
    "from dual_attn_blocks import DualAttnEncoderBlock, DualAttnDecoderBlock\n",
    "from symbol_retrieval import PositionRelativeSymbolRetriever, SymbolicAttention"
   ]
  },
  {
   "cell_type": "markdown",
   "metadata": {},
   "source": [
    "Symbolic Attention"
   ]
  },
  {
   "cell_type": "code",
   "execution_count": 2,
   "metadata": {},
   "outputs": [],
   "source": [
    "d, l = 64, 10\n",
    "\n",
    "symbol_retriever = SymbolicAttention(d_model=d, n_heads=4, n_symbols=10)\n",
    "da_enc_block = DualAttnEncoderBlock(d_model=d, n_heads_sa=4, n_heads_ra=4, dff=d*4, activation='swiglu',\n",
    "    dropout_rate=0., norm_first=True, ra_kwargs=dict(symmetric_rels=True, use_relative_positional_symbols=False))"
   ]
  },
  {
   "cell_type": "code",
   "execution_count": 3,
   "metadata": {},
   "outputs": [
    {
     "name": "stdout",
     "output_type": "stream",
     "text": [
      "x: torch.Size([1, 10, 64]), s: torch.Size([1, 10, 64]), y: torch.Size([10, 64])\n"
     ]
    }
   ],
   "source": [
    "x = torch.randn(1, 10, d)\n",
    "s = symbol_retriever(x)\n",
    "y, *_ = da_enc_block(x, s)\n",
    "print(f'x: {x.shape}, s: {s.shape}, y: {y.shape}')"
   ]
  },
  {
   "cell_type": "markdown",
   "metadata": {},
   "source": [
    "Position-Relative Symbols"
   ]
  },
  {
   "cell_type": "code",
   "execution_count": 4,
   "metadata": {},
   "outputs": [],
   "source": [
    "d, l = 64, 10\n",
    "\n",
    "symbol_retriever = PositionRelativeSymbolRetriever(symbol_dim=d, max_rel_pos=l)\n",
    "da_enc_block = DualAttnEncoderBlock(d_model=d, n_heads_sa=4, n_heads_ra=4, dff=d*4, activation='swiglu',\n",
    "    dropout_rate=0., norm_first=True, ra_kwargs=dict(symmetric_rels=True, use_relative_positional_symbols=True))"
   ]
  },
  {
   "cell_type": "code",
   "execution_count": 5,
   "metadata": {},
   "outputs": [
    {
     "data": {
      "text/plain": [
       "torch.Size([1, 10, 64])"
      ]
     },
     "execution_count": 5,
     "metadata": {},
     "output_type": "execute_result"
    }
   ],
   "source": [
    "s.shape"
   ]
  },
  {
   "cell_type": "code",
   "execution_count": 6,
   "metadata": {},
   "outputs": [
    {
     "name": "stdout",
     "output_type": "stream",
     "text": [
      "x: torch.Size([1, 10, 64]), s: torch.Size([10, 10, 64]), y: torch.Size([10, 64])\n"
     ]
    }
   ],
   "source": [
    "x = torch.randn(1, 10, d)\n",
    "s = symbol_retriever(x)\n",
    "y, *_ = da_enc_block(x, s)\n",
    "print(f'x: {x.shape}, s: {s.shape}, y: {y.shape}')"
   ]
  }
 ],
 "metadata": {
  "kernelspec": {
   "display_name": "abstract_transformer",
   "language": "python",
   "name": "python3"
  },
  "language_info": {
   "codemirror_mode": {
    "name": "ipython",
    "version": 3
   },
   "file_extension": ".py",
   "mimetype": "text/x-python",
   "name": "python",
   "nbconvert_exporter": "python",
   "pygments_lexer": "ipython3",
   "version": "3.11.7"
  }
 },
 "nbformat": 4,
 "nbformat_minor": 2
}
